{
 "cells": [
  {
   "cell_type": "code",
   "execution_count": null,
   "id": "e450772b-5728-4624-bfb4-e7375b1bd374",
   "metadata": {},
   "outputs": [],
   "source": [
    "import os\n",
    "import numpy as np\n",
    "from rmgpy.rmg.main import RMG, RMG_Memory, log_conditions\n",
    "import rmgpy.chemkin\n",
    "from rmgpy.rmg.model import ReactionModel, CoreEdgeReactionModel\n",
    "from rmgpy import settings\n",
    "from rmgpy.data.rmg import RMGDatabase\n",
    "from ipython.kinetics_library_to_training_tools import *"
   ]
  }
 ],
 "metadata": {
  "kernelspec": {
   "display_name": "rmg_env",
   "language": "python",
   "name": "rmg_env"
  },
  "language_info": {
   "codemirror_mode": {
    "name": "ipython",
    "version": 3
   },
   "file_extension": ".py",
   "mimetype": "text/x-python",
   "name": "python",
   "nbconvert_exporter": "python",
   "pygments_lexer": "ipython3",
   "version": "3.7.16"
  }
 },
 "nbformat": 4,
 "nbformat_minor": 5
}
