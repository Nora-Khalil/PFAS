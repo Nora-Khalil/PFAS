{
 "cells": [
  {
   "cell_type": "code",
   "execution_count": 7,
   "id": "f010ab54-55f9-4c7f-8bbf-fd3a0ab510e0",
   "metadata": {},
   "outputs": [],
   "source": [
    "from rmgpy.kinetics.uncertainties import RateUncertainty\n",
    "import rmgpy\n",
    "import numpy as np\n",
    "from rmgpy.molecule.molecule import *\n",
    "from rmgpy.species import *\n",
    "from rmgpy.chemkin import *\n",
    "from rmgpy.data.rmg import RMGDatabase\n",
    "from IPython.display import display\n",
    "from rmgpy.data.thermo import ThermoLibrary\n",
    "from rmgpy.rmg.react import react\n",
    "from rmgpy.species import Species\n",
    "from rmgpy.reaction import Reaction\n",
    "from rmgpy.data.rmg import get_db\n",
    "from rmgpy.molecule.group import Group\n",
    "from rmgpy.kinetics.arrhenius import ArrheniusBM, Arrhenius\n",
    "from rmgpy import settings\n",
    "import time\n",
    "import matplotlib.pyplot as plt\n",
    "import matplotlib\n"
   ]
  },
  {
   "cell_type": "code",
   "execution_count": 6,
   "id": "f3fb776f",
   "metadata": {},
   "outputs": [],
   "source": [
    "import sys\n",
    "sys.path.append('/Users/nora/Code/RMG-Py')"
   ]
  },
  {
   "cell_type": "code",
   "execution_count": 8,
   "id": "a09a9e48",
   "metadata": {},
   "outputs": [],
   "source": [
    "thermo_libs = [\n",
    "'C1_C2_Fluorine', #adding Siddha's as first most trusted because this is the thermo library that Franklin used\n",
    "'NCSU_C2_C8_PFAS', #adding Westmoreland's thermo as the second most trusted\n",
    "'primaryThermoLibrary',\n",
    "'Fluorine',\n",
    "'FFCM1(-)',\n",
    "'halogens',\n",
    "'CHOF_G4',\n",
    "'CHOCl_G4',\n",
    "'CHOBr_G4',\n",
    "'CHOFCl_G4',\n",
    "'CHOFBr_G4',\n",
    "'CHOFClBr_G4',\n",
    "'DFT_QCI_thermo',\n",
    "'2-BTP_G4',\n",
    "'thermo_DFT_CCSDTF12_BAC',\n",
    "'SulfurHaynes'\n",
    "]\n",
    "\n",
    "kin_families = ['Intra_R_Add_Endocyclic']\n"
   ]
  },
  {
   "cell_type": "code",
   "execution_count": 9,
   "id": "269ef91b",
   "metadata": {},
   "outputs": [],
   "source": [
    "database = RMGDatabase()\n",
    "database.load(\n",
    "            path = settings['database.directory'],\n",
    "            thermo_libraries = thermo_libs,\n",
    "            transport_libraries = [],\n",
    "            reaction_libraries = [],\n",
    "            seed_mechanisms = [],#['BurkeH2O2inN2','ERC-FoundationFuelv0.9'],\n",
    "            kinetics_families = kin_families,\n",
    "            kinetics_depositories = ['training'],\n",
    "            #frequenciesLibraries = self.statmechLibraries,\n",
    "            depository = False, # Don't bother loading the depository information, as we don't use it\n",
    "        )\n"
   ]
  },
  {
   "cell_type": "code",
   "execution_count": 21,
   "id": "ae089b8d",
   "metadata": {},
   "outputs": [
    {
     "data": {
      "text/plain": [
       "{'Intra_R_Add_Endocyclic': <ReactionFamily \"Intra_R_Add_Endocyclic\">}"
      ]
     },
     "execution_count": 21,
     "metadata": {},
     "output_type": "execute_result"
    }
   ],
   "source": [
    "database.kinetics.families"
   ]
  },
  {
   "cell_type": "code",
   "execution_count": 22,
   "id": "bb1727d8",
   "metadata": {},
   "outputs": [],
   "source": [
    "# 'Intra_R_Add_Endocyclic' \n",
    "family_to_train = \"Intra_R_Add_Endocyclic\"\n",
    "family = database.kinetics.families[family_to_train]"
   ]
  },
  {
   "cell_type": "code",
   "execution_count": 23,
   "id": "5b0b7aa5",
   "metadata": {},
   "outputs": [],
   "source": [
    "family.clean_tree()"
   ]
  },
  {
   "cell_type": "code",
   "execution_count": 24,
   "id": "cb31d20f",
   "metadata": {},
   "outputs": [
    {
     "name": "stderr",
     "output_type": "stream",
     "text": [
      "ERROR:root:getting reaction matches\n",
      "ERROR:root:building tree with 800 rxns\n",
      "ERROR:root:800.0\n",
      "ERROR:root:iter_max achieved terminating early\n",
      "ERROR:root:iter_max achieved terminating early\n",
      "ERROR:root:iter_max achieved terminating early\n",
      "ERROR:root:iter_max achieved terminating early\n",
      "ERROR:root:iter_max achieved terminating early\n",
      "ERROR:root:iter_max achieved terminating early\n",
      "ERROR:root:iter_max achieved terminating early\n",
      "ERROR:root:iter_max achieved terminating early\n",
      "ERROR:root:iter_max achieved terminating early\n",
      "ERROR:root:iter_max achieved terminating early\n",
      "ERROR:root:iter_max achieved terminating early\n",
      "ERROR:root:iter_max achieved terminating early\n",
      "ERROR:root:iter_max achieved terminating early\n",
      "ERROR:root:iter_max achieved terminating early\n",
      "ERROR:root:Recursion item cap hit not splitting 3 reactions at iter 4 with 114 items\n",
      "ERROR:root:Recursion item cap hit not splitting 2 reactions at iter 4 with 120 items\n",
      "ERROR:root:iter_max achieved terminating early\n",
      "ERROR:root:iter_max achieved terminating early\n",
      "ERROR:root:iter_max achieved terminating early\n",
      "ERROR:root:iter_max achieved terminating early\n",
      "ERROR:root:iter_max achieved terminating early\n",
      "ERROR:root:iter_max achieved terminating early\n",
      "ERROR:root:iter_max achieved terminating early\n",
      "ERROR:root:iter_max achieved terminating early\n",
      "ERROR:root:iter_max achieved terminating early\n",
      "ERROR:root:iter_max achieved terminating early\n",
      "ERROR:root:iter_max achieved terminating early\n",
      "ERROR:root:iter_max achieved terminating early\n",
      "ERROR:root:iter_max achieved terminating early\n",
      "ERROR:root:iter_max achieved terminating early\n",
      "ERROR:root:iter_max achieved terminating early\n",
      "ERROR:root:iter_max achieved terminating early\n",
      "ERROR:root:iter_max achieved terminating early\n",
      "ERROR:root:iter_max achieved terminating early\n",
      "ERROR:root:iter_max achieved terminating early\n",
      "ERROR:root:iter_max achieved terminating early\n",
      "ERROR:root:built tree with 905 nodes\n",
      "ERROR:root:pruning tree\n",
      "ERROR:root:pruned tree down to 847 nodes\n",
      "ERROR:root:getting reaction matches\n",
      "ERROR:root:building tree with 852 rxns\n",
      "ERROR:root:852.0\n",
      "ERROR:root:iter_max achieved terminating early\n",
      "ERROR:root:iter_max achieved terminating early\n",
      "ERROR:root:Recursion item cap hit not splitting 2 reactions at iter 4 with 120 items\n",
      "ERROR:root:iter_max achieved terminating early\n",
      "ERROR:root:iter_max achieved terminating early\n",
      "ERROR:root:Recursion item cap hit not splitting 3 reactions at iter 4 with 114 items\n",
      "ERROR:root:iter_max achieved terminating early\n",
      "ERROR:root:iter_max achieved terminating early\n",
      "ERROR:root:iter_max achieved terminating early\n",
      "ERROR:root:iter_max achieved terminating early\n",
      "ERROR:root:built tree with 1029 nodes\n"
     ]
    },
    {
     "name": "stdout",
     "output_type": "stream",
     "text": [
      "389.80308771133423\n"
     ]
    }
   ],
   "source": [
    "start = time.time()\n",
    "family.generate_tree(thermo_database=database.thermo,\n",
    "                     nprocs=1,\n",
    "                     new_fraction_threshold_to_reopt_node=0.25,\n",
    "                     max_batch_size=800,\n",
    "                     extension_iter_max=2,\n",
    "                     extension_iter_item_cap=100)\n",
    "\n",
    "end = time.time()\n",
    "print(end-start)"
   ]
  },
  {
   "cell_type": "code",
   "execution_count": 25,
   "id": "92cab078",
   "metadata": {},
   "outputs": [
    {
     "name": "stdout",
     "output_type": "stream",
     "text": [
      "0.6420941352844238\n"
     ]
    }
   ],
   "source": [
    "start = time.time()\n",
    "family.check_tree()\n",
    "end = time.time()\n",
    "print(end-start)"
   ]
  },
  {
   "cell_type": "code",
   "execution_count": 26,
   "id": "6034c9f7",
   "metadata": {},
   "outputs": [
    {
     "name": "stdout",
     "output_type": "stream",
     "text": [
      "127.92794299125671\n"
     ]
    }
   ],
   "source": [
    "start = time.time()\n",
    "family.regularize(thermo_database=database.thermo)\n",
    "end = time.time()\n",
    "print(end-start)"
   ]
  },
  {
   "cell_type": "code",
   "execution_count": 27,
   "id": "b3dc7db5",
   "metadata": {},
   "outputs": [
    {
     "name": "stdout",
     "output_type": "stream",
     "text": [
      "125.54991817474365\n"
     ]
    }
   ],
   "source": [
    "start = time.time()\n",
    "templateRxnMap = family.get_reaction_matches(thermo_database=database.thermo,remove_degeneracy=True,\n",
    "                                             get_reverse=True,exact_matches_only=False,fix_labels=True)\n",
    "end = time.time()\n",
    "print(end-start)"
   ]
  },
  {
   "cell_type": "code",
   "execution_count": 34,
   "id": "f1bee852",
   "metadata": {},
   "outputs": [],
   "source": [
    "rxns = templateRxnMap['Root_N-1R-inRing_N-3R->O_Ext-3CS-R_N-Sp-4R!H=3CCSS_Ext-3CS-R_Ext-5R!H-R_N-Sp-6R!H=5R!H_3CS-inRing_N-Sp-2R=1R']\n",
    "rxns = np.array(rxns)"
   ]
  },
  {
   "cell_type": "code",
   "execution_count": 31,
   "id": "98efb0ee",
   "metadata": {},
   "outputs": [],
   "source": [
    "recipe = database.kinetics.families['Intra_R_Add_Endocyclic'].forward_recipe.actions"
   ]
  },
  {
   "cell_type": "code",
   "execution_count": null,
   "id": "ed4bcb2a",
   "metadata": {},
   "outputs": [],
   "source": []
  },
  {
   "cell_type": "code",
   "execution_count": 36,
   "id": "e3ddcc9d",
   "metadata": {},
   "outputs": [
    {
     "name": "stdout",
     "output_type": "stream",
     "text": [
      "ArrheniusBM(A=(6.09e+08,'s^-1'), n=0.695, w0=(289.5,'kJ/mol'), E0=(90.5131,'kJ/mol'), Tmin=(300,'K'), Tmax=(2000,'K'), comment=\"\"\"Fitted to 1 reactions at temperatures: [ 300.  500.  600.  700.  800.  900. 1000. 1100. 1200. 1500. 2000.]\"\"\")\n",
      "ArrheniusBM(A=(2.992e+11,'s^-1'), n=0.67, w0=(289.5,'kJ/mol'), E0=(289.5,'kJ/mol'), Tmin=(300,'K'), Tmax=(2000,'K'), comment=\"\"\"Fitted to 1 reactions at temperatures: [ 300.  500.  600.  700.  800.  900. 1000. 1100. 1200. 1500. 2000.]\"\"\")\n"
     ]
    },
    {
     "name": "stderr",
     "output_type": "stream",
     "text": [
      "/Users/nora/opt/anaconda3/envs/rmg_env/lib/python3.7/site-packages/scipy/optimize/minpack.py:834: OptimizeWarning: Covariance of the parameters could not be estimated\n",
      "  category=OptimizeWarning)\n"
     ]
    }
   ],
   "source": [
    "for i, rxn in enumerate(rxns):\n",
    "    print(ArrheniusBM().fit_to_reactions(rxns[list(set(range(len(rxns))) - {i})], recipe=recipe))\n",
    "\n",
    "# dlnks = np.array([\n",
    "#                 np.log(\n",
    "#                     ArrheniusBM().fit_to_reactions(rxns[list(set(range(len(rxns))) - {i})], recipe=recipe)\n",
    "#                     .to_arrhenius(rxn.get_enthalpy_of_reaction(Tref))\n",
    "#                     .get_rate_coefficient(T=Tref) / rxn.get_rate_coefficient(T=Tref)\n",
    "#                 ) for i, rxn in enumerate(rxns)"
   ]
  },
  {
   "cell_type": "code",
   "execution_count": null,
   "id": "8c839fea",
   "metadata": {},
   "outputs": [],
   "source": []
  },
  {
   "cell_type": "code",
   "execution_count": null,
   "id": "be51166a",
   "metadata": {},
   "outputs": [],
   "source": []
  },
  {
   "cell_type": "code",
   "execution_count": 5,
   "id": "b444202a-d37f-4708-93a4-a737ac63cf17",
   "metadata": {},
   "outputs": [
    {
     "name": "stdout",
     "output_type": "stream",
     "text": [
      "nan\n",
      "12942146124.027784\n"
     ]
    }
   ],
   "source": [
    "BM_fit_2 = Reaction(kinetics = ArrheniusBM(A=(2.992e+11,'s^-1'), n=0.67, w0=(289.5,'kJ/mol'), E0=(289.5,'kJ/mol'), Tmin=(300,'K'), Tmax=(2000,'K'), comment=\"\"\"Fitted to 1 reactions at temperatures: [ 300.  500.  600.  700.  800.  900. 1000. 1100. 1200. 1500. 2000.]\"\"\"))\n",
    "BM_fit_1 = Reaction(kinetics = ArrheniusBM(A=(6.09e+08,'s^-1'), n=0.695, w0=(289.5,'kJ/mol'), E0=(90.5131,'kJ/mol'), Tmin=(300,'K'), Tmax=(2000,'K'), comment=\"\"\"Fitted to 1 reactions at temperatures: [ 300.  500.  600.  700.  800.  900. 1000. 1100. 1200. 1500. 2000.]\"\"\"))\n",
    "\n",
    "\n",
    "Tref=1000\n",
    "\n",
    "print(BM_fit_2.kinetics.to_arrhenius(training_rxn_2.get_enthalpy_of_reaction(Tref)).get_rate_coefficient(Tref))  #problem, always becomes nan\n",
    "print(BM_fit_1.kinetics.to_arrhenius(training_rxn_1.get_enthalpy_of_reaction(Tref)).get_rate_coefficient(Tref))"
   ]
  },
  {
   "cell_type": "code",
   "execution_count": 14,
   "id": "a62b2615-9f9f-4cec-987e-5d7b333521c9",
   "metadata": {},
   "outputs": [
    {
     "data": {
      "text/plain": [
       "nan"
      ]
     },
     "execution_count": 14,
     "metadata": {},
     "output_type": "execute_result"
    }
   ],
   "source": [
    "#BM_fit_2.kinetics\n",
    "BM_fit_2.kinetics.to_arrhenius(training_rxn_2.get_enthalpy_of_reaction(Tref)).get_rate_coefficient(1000)"
   ]
  },
  {
   "cell_type": "code",
   "execution_count": 15,
   "id": "eea39787",
   "metadata": {},
   "outputs": [
    {
     "data": {
      "text/plain": [
       "-177996.41024"
      ]
     },
     "execution_count": 15,
     "metadata": {},
     "output_type": "execute_result"
    }
   ],
   "source": [
    "training_rxn_2.get_enthalpy_of_reaction(Tref)"
   ]
  },
  {
   "cell_type": "markdown",
   "id": "8544ae92",
   "metadata": {},
   "source": [
    "Problem: \n",
    "\n",
    "in family.py, make_bm_rules_from_template calls _make_rule(rr)\n",
    "\n",
    "in _make_rule(rr), does a BM fitting with ArrheniusBM().fit_to_reactions().\n",
    "\n",
    "ArrheniusBM()."
   ]
  },
  {
   "cell_type": "code",
   "execution_count": null,
   "id": "064d1007",
   "metadata": {},
   "outputs": [],
   "source": []
  }
 ],
 "metadata": {
  "kernelspec": {
   "display_name": "rmg_env",
   "language": "python",
   "name": "python3"
  },
  "language_info": {
   "codemirror_mode": {
    "name": "ipython",
    "version": 3
   },
   "file_extension": ".py",
   "mimetype": "text/x-python",
   "name": "python",
   "nbconvert_exporter": "python",
   "pygments_lexer": "ipython3",
   "version": "3.7.13"
  }
 },
 "nbformat": 4,
 "nbformat_minor": 5
}
