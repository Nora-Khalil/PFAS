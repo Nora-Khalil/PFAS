{
 "cells": [
  {
   "cell_type": "markdown",
   "id": "ea7f3e17-949a-4519-94ad-c0043b19b098",
   "metadata": {},
   "source": [
    "This notebook is to compare two RMG generated CH3F models. 1) model built using one of the reaction families that Siddha included in her pull request, 2) model built using the same set up as David had in his halogens branch. "
   ]
  }
 ],
 "metadata": {
  "kernelspec": {
   "display_name": "Python 3 (ipykernel)",
   "language": "python",
   "name": "python3"
  },
  "language_info": {
   "codemirror_mode": {
    "name": "ipython",
    "version": 3
   },
   "file_extension": ".py",
   "mimetype": "text/x-python",
   "name": "python",
   "nbconvert_exporter": "python",
   "pygments_lexer": "ipython3",
   "version": "3.7.16"
  }
 },
 "nbformat": 4,
 "nbformat_minor": 5
}
