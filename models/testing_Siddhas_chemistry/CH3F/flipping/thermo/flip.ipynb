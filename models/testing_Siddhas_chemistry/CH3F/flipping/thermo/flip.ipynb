{
 "cells": [
  {
   "cell_type": "code",
   "execution_count": 1,
   "id": "d0a6bfe2-6372-4943-b561-a8b591a08b08",
   "metadata": {},
   "outputs": [],
   "source": [
    "import os \n",
    "import re\n",
    "import matplotlib.pyplot as plt\n",
    "import rmgpy.chemkin\n",
    "import numpy as np\n",
    "import cantera as ct\n",
    "import random\n",
    "import pandas as pd\n",
    "from rmgpy.chemkin import load_chemkin_file\n",
    "%matplotlib inline"
   ]
  },
  {
   "cell_type": "markdown",
   "id": "338ba089-bffa-465f-9645-977f3d0a8173",
   "metadata": {},
   "source": [
    "Flipping thermos of each species one by one, siddhas CH3F model (her library, RMG thermo) to and siddhas other CH3F model (her library, her thermo)"
   ]
  },
  {
   "cell_type": "code",
   "execution_count": 2,
   "id": "7d84be17-4638-43f0-b8b1-d9ceaf543f5d",
   "metadata": {},
   "outputs": [],
   "source": [
    "#load the chemkin functions\n",
    "def compare_species(model_1_species_list, model_2_species_list):\n",
    "    \"\"\" Compares species list between models. \"\"\"\n",
    "    \n",
    "    #two lists of same species, just have different names in each model\n",
    "    common_species_1 = []\n",
    "    common_species_2 = []\n",
    "    \n",
    "    #combined list of common species, with tuples of the two different names\n",
    "    common_species = []\n",
    "    \n",
    "    for spc_1 in model_1_species_list:\n",
    "        for spc_2 in model_2_species_list:\n",
    "            if spc_1.is_isomorphic(spc_2):\n",
    "                common_species_1.append(spc_1)\n",
    "                common_species_2.append(spc_2)\n",
    "                common_species.append((spc_1, spc_2))\n",
    "                \n",
    "                \n",
    "    unique_species_1 = [spc_1 for spc_1 in model_1_species_list if spc_1 not in common_species_1]\n",
    "    unique_species_2 = [spc_2 for spc_2 in model_2_species_list if spc_2 not in common_species_2]\n",
    "    print(f'{len(common_species)} common species')\n",
    "\n",
    "\n",
    "                \n",
    "    return common_species, unique_species_1, unique_species_2"
   ]
  },
  {
   "cell_type": "code",
   "execution_count": 3,
   "id": "56138c27-b4e7-4805-a4c8-f1f5fb65a44b",
   "metadata": {
    "scrolled": true,
    "tags": []
   },
   "outputs": [],
   "source": [
    "#full path\n",
    "full_path = '/work/westgroup/nora/Code/'\n",
    "\n",
    "#Siddha's CH3F model (new kinetic lib, RMG thermo in original order) #107 species\n",
    "siddhas_chmkn = full_path + 'projects/PFAS/models/testing_Siddhas_chemistry/CH3F/Siddha_thermos_original_order/chemkin/chem_annotated.inp'\n",
    "siddhas_transport = full_path + 'projects/PFAS/models/testing_Siddhas_chemistry/CH3F/Siddha_thermos_original_order/chemkin/tran.dat'\n",
    "siddhas_species = full_path + 'projects/PFAS/models/testing_Siddhas_chemistry/CH3F/Siddha_thermos_original_order/chemkin/species_dictionary.txt'\n",
    "\n",
    "#Siddha's CH3F model (new kinetic lib, new thermo) #104 species\n",
    "siddhas_chmkn_with_thermo = full_path + 'projects/PFAS/models/testing_Siddhas_chemistry/CH3F/with_Siddhas_thermo/chemkin/chem_annotated.inp'\n",
    "siddhas_transport_with_thermo = full_path + 'projects/PFAS/models/testing_Siddhas_chemistry/CH3F/with_Siddhas_thermo/chemkin/tran.dat'\n",
    "siddhas_species_with_thermo = full_path + 'projects/PFAS/models/testing_Siddhas_chemistry/CH3F/with_Siddhas_thermo/chemkin/species_dictionary.txt'\n",
    "\n",
    "#load siddas (her kinetics, RMG thermo)\n",
    "species_siddhas, reactions_siddhas = load_chemkin_file(siddhas_chmkn, dictionary_path=siddhas_species, transport_path=siddhas_transport)\n",
    "\n",
    "\n",
    "#load siddas (her kinetics, her thermo)\n",
    "species_siddhas_thermo, reactions_siddhas_thermo = load_chemkin_file(siddhas_chmkn_with_thermo, dictionary_path=siddhas_species_with_thermo, transport_path=siddhas_transport_with_thermo)\n"
   ]
  },
  {
   "cell_type": "code",
   "execution_count": 4,
   "id": "66048cdd-f0d4-4b25-8555-9b4d5480720c",
   "metadata": {
    "scrolled": true,
    "tags": []
   },
   "outputs": [
    {
     "name": "stdout",
     "output_type": "stream",
     "text": [
      "93 common species\n"
     ]
    }
   ],
   "source": [
    "#comparison of siddhas additions (with original thermo order) and previous CH3F model \n",
    "model_1_species_list=species_siddhas\n",
    "model_2_species_list=species_siddhas_thermo\n",
    "\n",
    "common_species_siddha, unique_species_siddhas, unique_species_siddhas_thermo = compare_species(model_1_species_list, model_2_species_list)"
   ]
  },
  {
   "cell_type": "code",
   "execution_count": 5,
   "id": "66cb2ad9-31d0-46fd-9a93-60774d0852c2",
   "metadata": {},
   "outputs": [
    {
     "name": "stdout",
     "output_type": "stream",
     "text": [
      "93 14 11\n"
     ]
    }
   ],
   "source": [
    "print(len(common_species_siddha), len(unique_species_siddhas), len(unique_species_siddhas_thermo))\n",
    "#model 2 previous CH3F, model 1 is siddhas"
   ]
  },
  {
   "cell_type": "markdown",
   "id": "eecd3400-281d-43f1-aa0f-ea153c041f8e",
   "metadata": {},
   "source": [
    "## Flipping"
   ]
  },
  {
   "cell_type": "code",
   "execution_count": 6,
   "id": "fe7291a1-4278-4075-bd26-93ddb7449e66",
   "metadata": {},
   "outputs": [],
   "source": [
    "import cantera as ct\n",
    "import cantera.ck2cti\n",
    "import rmgpy.chemkin\n",
    "#import numpy as np\n",
    "import subprocess\n",
    "import csv\n",
    "#import scipy\n",
    "import copy\n",
    "import os"
   ]
  },
  {
   "cell_type": "code",
   "execution_count": null,
   "id": "834235e8-759d-4264-8a7c-b936bbd87121",
   "metadata": {},
   "outputs": [],
   "source": [
    "#test for flipping"
   ]
  },
  {
   "cell_type": "code",
   "execution_count": 7,
   "id": "4da76f1d-6024-4547-9932-9a46b6f2f031",
   "metadata": {},
   "outputs": [
    {
     "name": "stdout",
     "output_type": "stream",
     "text": [
      "17 11 6\n"
     ]
    }
   ],
   "source": [
    "common_species_with_non_identical_thermo = []\n",
    "\n",
    "non_identical_count=0\n",
    "is_similar_count = 0 \n",
    "is_different_count = 0\n",
    "for i_kin, j_kin_thermo in common_species_siddha:\n",
    "    if i_kin.thermo.is_identical_to(j_kin_thermo.thermo)==False:\n",
    "        \n",
    "        #pick them out\n",
    "        common_species_with_non_identical_thermo.append((i_kin,j_kin_thermo))\n",
    "        \n",
    "        #increase the counts\n",
    "        non_identical_count+=1\n",
    "        if i_kin.thermo.is_similar_to(j_kin_thermo.thermo):\n",
    "            is_similar_count+=1\n",
    "        else: \n",
    "            is_different_count+=1\n",
    "            \n",
    "print(non_identical_count, is_similar_count, is_different_count)\n",
    "#of the common species between the model, 17 common species possess thermos that are non-identical"
   ]
  },
  {
   "cell_type": "code",
   "execution_count": 8,
   "id": "795e390a-7bbc-4a46-a53f-13ff5c395993",
   "metadata": {},
   "outputs": [
    {
     "name": "stdout",
     "output_type": "stream",
     "text": [
      "NASA(polynomials=[NASAPolynomial(coeffs=[4.20542,-0.00535566,2.51126e-05,-2.13766e-08,5.97538e-12,-10161.9,-0.921305], Tmin=(100,'K'), Tmax=(1084.11,'K')), NASAPolynomial(coeffs=[0.908224,0.0114542,-4.57178e-06,8.29201e-10,-5.66322e-14,-9719.96,13.9933], Tmin=(1084.11,'K'), Tmax=(5000,'K'))], Tmin=(100,'K'), Tmax=(5000,'K'), comment=\"\"\"Thermo library: primaryThermoLibrary\"\"\")\n",
      "NASA(polynomials=[NASAPolynomial(coeffs=[5.00702,-0.0126484,4.66821e-05,-4.59211e-08,1.57634e-11,-10222.4,-4.04227], Tmin=(200,'K'), Tmax=(1000,'K')), NASAPolynomial(coeffs=[1.68377,0.010013,-3.31268e-06,5.30234e-10,-3.13372e-14,-10018.8,9.71477], Tmin=(1000,'K'), Tmax=(6000,'K'))], Tmin=(200,'K'), Tmax=(6000,'K'), comment=\"\"\"Thermo library: C1_C2_Fluorine\"\"\")\n"
     ]
    }
   ],
   "source": [
    "#testing \n",
    "i_kin = common_species_with_non_identical_thermo[0][0]\n",
    "j_kin_thermo = common_species_with_non_identical_thermo[0][1]\n",
    "print(i_kin.thermo)\n",
    "print(j_kin_thermo.thermo)"
   ]
  },
  {
   "cell_type": "code",
   "execution_count": 9,
   "id": "33e464ae-6585-437c-b828-5155bd02b144",
   "metadata": {},
   "outputs": [],
   "source": [
    "def switch_thermo(i_kin, j_kin_thermo):\n",
    "    \"\"\" switch thermos and return i_kin \"\"\"\n",
    "    print(f'before:\\n{i_kin.thermo}')\n",
    "    i_kin.thermo = j_kin_thermo.thermo\n",
    "    print(f'after:\\n{i_kin.thermo}')\n",
    "    return i_kin\n"
   ]
  },
  {
   "cell_type": "code",
   "execution_count": 10,
   "id": "37dc16b9-b68d-45bd-b7ec-5d46d96837b0",
   "metadata": {
    "scrolled": true,
    "tags": []
   },
   "outputs": [
    {
     "name": "stdout",
     "output_type": "stream",
     "text": [
      "before:\n",
      "NASA(polynomials=[NASAPolynomial(coeffs=[4.20542,-0.00535566,2.51126e-05,-2.13766e-08,5.97538e-12,-10161.9,-0.921305], Tmin=(100,'K'), Tmax=(1084.11,'K')), NASAPolynomial(coeffs=[0.908224,0.0114542,-4.57178e-06,8.29201e-10,-5.66322e-14,-9719.96,13.9933], Tmin=(1084.11,'K'), Tmax=(5000,'K'))], Tmin=(100,'K'), Tmax=(5000,'K'), comment=\"\"\"Thermo library: primaryThermoLibrary\"\"\")\n",
      "after:\n",
      "NASA(polynomials=[NASAPolynomial(coeffs=[5.00702,-0.0126484,4.66821e-05,-4.59211e-08,1.57634e-11,-10222.4,-4.04227], Tmin=(200,'K'), Tmax=(1000,'K')), NASAPolynomial(coeffs=[1.68377,0.010013,-3.31268e-06,5.30234e-10,-3.13372e-14,-10018.8,9.71477], Tmin=(1000,'K'), Tmax=(6000,'K'))], Tmin=(200,'K'), Tmax=(6000,'K'), comment=\"\"\"Thermo library: C1_C2_Fluorine\"\"\")\n",
      "107 107\n",
      "before:\n",
      "NASA(polynomials=[NASAPolynomial(coeffs=[2.5,9.05029e-14,-1.20495e-16,5.23432e-20,-6.99814e-24,29230.2,5.12616], Tmin=(100,'K'), Tmax=(4230.24,'K')), NASAPolynomial(coeffs=[2.5,3.58763e-09,-1.22015e-12,1.84118e-16,-1.04e-20,29230.2,5.12619], Tmin=(4230.24,'K'), Tmax=(5000,'K'))], Tmin=(100,'K'), Tmax=(5000,'K'), comment=\"\"\"Thermo library: primaryThermoLibrary\"\"\")\n",
      "after:\n",
      "NASA(polynomials=[NASAPolynomial(coeffs=[3.15907,-0.0032151,6.49256e-06,-5.98755e-09,2.06876e-12,29129.8,2.09078], Tmin=(200,'K'), Tmax=(1000,'K')), NASAPolynomial(coeffs=[2.56356,-6.96013e-05,2.84669e-08,-5.0088e-12,3.18531e-16,29225.4,4.8139], Tmin=(1000,'K'), Tmax=(6000,'K'))], Tmin=(200,'K'), Tmax=(6000,'K'), comment=\"\"\"Thermo library: C1_C2_Fluorine\"\"\")\n",
      "107 107\n",
      "before:\n",
      "NASA(polynomials=[NASAPolynomial(coeffs=[3.43536,0.000212709,-2.78621e-07,3.40264e-10,-7.76024e-14,-1031.36,-3.90842], Tmin=(100,'K'), Tmax=(1959.08,'K')), NASAPolynomial(coeffs=[2.78815,0.000587668,1.58998e-07,-5.52714e-11,4.34293e-15,-596.132,0.112855], Tmin=(1959.08,'K'), Tmax=(5000,'K'))], Tmin=(100,'K'), Tmax=(5000,'K'), comment=\"\"\"Thermo library: primaryThermoLibrary\"\"\")\n",
      "after:\n",
      "NASA(polynomials=[NASAPolynomial(coeffs=[2.37694,0.00773917,-1.88735e-05,1.95517e-08,-7.17096e-12,-921.173,0.547185], Tmin=(200,'K'), Tmax=(1000,'K')), NASAPolynomial(coeffs=[2.90208,0.000868993,-1.65864e-07,1.90852e-11,-9.31122e-16,-797.949,-0.845591], Tmin=(1000,'K'), Tmax=(6000,'K'))], Tmin=(200,'K'), Tmax=(6000,'K'), comment=\"\"\"Thermo library: C1_C2_Fluorine\"\"\")\n",
      "107 107\n",
      "before:\n",
      "NASA(polynomials=[NASAPolynomial(coeffs=[4.31515,-0.000847391,1.76404e-05,-2.26763e-08,9.0895e-12,-17706.7,3.27373], Tmin=(200,'K'), Tmax=(1000,'K')), NASAPolynomial(coeffs=[4.57977,0.00405326,-1.29845e-06,1.98211e-10,-1.13969e-14,-18007.2,0.664971], Tmin=(1000,'K'), Tmax=(6000,'K'))], Tmin=(200,'K'), Tmax=(6000,'K'), comment=\"\"\"Thermo library: FFCM1(-)\"\"\")\n",
      "after:\n",
      "NASA(polynomials=[NASAPolynomial(coeffs=[4.23854,-0.000249611,1.59858e-05,-2.0692e-08,8.29766e-12,-17648.6,3.5885], Tmin=(200,'K'), Tmax=(1000,'K')), NASAPolynomial(coeffs=[4.54017,0.00415971,-1.30877e-06,2.00824e-10,-1.15509e-14,-17951.4,0.855882], Tmin=(1000,'K'), Tmax=(6000,'K'))], Tmin=(200,'K'), Tmax=(6000,'K'), comment=\"\"\"Thermo library: C1_C2_Fluorine\"\"\")\n",
      "107 107\n",
      "before:\n",
      "NASA(polynomials=[NASAPolynomial(coeffs=[3.65718,0.0021266,5.45839e-06,-6.6181e-09,2.46571e-12,16422.7,1.67354], Tmin=(200,'K'), Tmax=(1000,'K')), NASAPolynomial(coeffs=[2.97812,0.00579785,-1.97558e-06,3.07298e-10,-1.79174e-14,16509.5,4.72248], Tmin=(1000,'K'), Tmax=(6000,'K'))], Tmin=(200,'K'), Tmax=(6000,'K'), comment=\"\"\"Thermo library: FFCM1(-)\"\"\")\n",
      "after:\n",
      "NASA(polynomials=[NASAPolynomial(coeffs=[3.61264,0.00309209,9.25475e-07,-1.65777e-09,6.07244e-13,16385,1.79995], Tmin=(200,'K'), Tmax=(1000,'K')), NASAPolynomial(coeffs=[2.92198,0.00537479,-1.99748e-06,2.97585e-10,-1.7186e-14,16544.7,5.25397], Tmin=(1000,'K'), Tmax=(6000,'K'))], Tmin=(200,'K'), Tmax=(6000,'K'), comment=\"\"\"Thermo library: C1_C2_Fluorine\"\"\")\n",
      "107 107\n",
      "before:\n",
      "NASA(polynomials=[NASAPolynomial(coeffs=[4.03338,-0.00262849,2.74227e-05,-3.89096e-08,1.85259e-11,-5119.82,5.20374], Tmin=(10,'K'), Tmax=(594.37,'K')), NASAPolynomial(coeffs=[2.59024,0.00857266,-4.60348e-06,1.22743e-09,-1.29255e-13,-4974.57,11.194], Tmin=(594.37,'K'), Tmax=(3000,'K'))], Tmin=(10,'K'), Tmax=(3000,'K'), comment=\"\"\"Thermo library: CHOF_G4\"\"\")\n",
      "after:\n",
      "NASA(polynomials=[NASAPolynomial(coeffs=[3.77939,-0.000397613,1.87718e-05,-2.40689e-08,9.55051e-12,-4993.32,6.23834], Tmin=(200,'K'), Tmax=(1000,'K')), NASAPolynomial(coeffs=[3.20982,0.00697058,-3.20031e-06,7.19313e-10,-6.41862e-14,-5057.92,7.93158], Tmin=(1000,'K'), Tmax=(3000,'K'))], Tmin=(200,'K'), Tmax=(3000,'K'), comment=\"\"\"Thermo library: C1_C2_Fluorine\"\"\")\n",
      "107 107\n",
      "before:\n",
      "NASA(polynomials=[NASAPolynomial(coeffs=[2.90371,-0.000635296,2.64735e-07,7.69063e-11,-5.45254e-14,8672.27,2.70828], Tmin=(298,'K'), Tmax=(1400,'K')), NASAPolynomial(coeffs=[2.65117,-0.00014013,5.19236e-08,-8.84954e-12,5.9028e-16,8758.29,4.07857], Tmin=(1400,'K'), Tmax=(3000,'K'))], Tmin=(298,'K'), Tmax=(3000,'K'), comment=\"\"\"Thermo library: primaryThermoLibrary\"\"\")\n",
      "after:\n",
      "NASA(polynomials=[NASAPolynomial(coeffs=[2.41932,0.00293848,-8.91442e-06,9.90064e-09,-3.78937e-12,8998.33,4.73389], Tmin=(200,'K'), Tmax=(1000,'K')), NASAPolynomial(coeffs=[2.73547,-0.000318376,1.80405e-07,-4.76651e-11,4.82179e-15,9007.24,3.62701], Tmin=(1000,'K'), Tmax=(3000,'K'))], Tmin=(200,'K'), Tmax=(3000,'K'), comment=\"\"\"Thermo library: C1_C2_Fluorine\"\"\")\n",
      "107 107\n",
      "before:\n",
      "NASA(polynomials=[NASAPolynomial(coeffs=[3.43657,0.000486021,-1.2524e-06,1.36475e-09,-4.09574e-13,-33800.1,1.20682], Tmin=(298,'K'), Tmax=(1250,'K')), NASAPolynomial(coeffs=[2.7813,0.00103959,-2.41735e-07,2.68416e-11,-1.09766e-15,-33504.2,5.0197], Tmin=(1250,'K'), Tmax=(3000,'K'))], Tmin=(298,'K'), Tmax=(3000,'K'), comment=\"\"\"Thermo library: primaryThermoLibrary\"\"\")\n",
      "after:\n",
      "NASA(polynomials=[NASAPolynomial(coeffs=[2.92408,0.000852279,-1.60115e-07,1.31455e-11,-2.46282e-16,-33618.7,4.19417], Tmin=(200,'K'), Tmax=(1000,'K')), NASAPolynomial(coeffs=[3.47861,0.00023021,-7.26207e-07,8.9079e-10,-2.44258e-13,-33844.1,1.0372], Tmin=(1000,'K'), Tmax=(6000,'K'))], Tmin=(200,'K'), Tmax=(6000,'K'), comment=\"\"\"Thermo library: C1_C2_Fluorine\"\"\")\n",
      "107 107\n",
      "before:\n",
      "NASA(polynomials=[NASAPolynomial(coeffs=[4.02848,-0.00192233,1.33972e-05,-1.61993e-08,6.45714e-12,-11458,4.36077], Tmin=(10,'K'), Tmax=(768.67,'K')), NASAPolynomial(coeffs=[3.2293,0.00415811,-2.21832e-06,5.96331e-10,-6.32051e-14,-11391.9,7.63678], Tmin=(768.67,'K'), Tmax=(3000,'K'))], Tmin=(10,'K'), Tmax=(3000,'K'), comment=\"\"\"Thermo library: CHOF_G4\"\"\")\n",
      "after:\n",
      "NASA(polynomials=[NASAPolynomial(coeffs=[4.01428,-0.00224816,1.58056e-05,-1.97272e-08,7.87693e-12,-11727.8,4.49581], Tmin=(200,'K'), Tmax=(1000,'K')), NASAPolynomial(coeffs=[3.91008,0.00265834,-1.02775e-06,1.95623e-10,-1.4873e-14,-11868.1,4.05776], Tmin=(1000,'K'), Tmax=(3000,'K'))], Tmin=(200,'K'), Tmax=(3000,'K'), comment=\"\"\"Thermo library: C1_C2_Fluorine\"\"\")\n",
      "107 107\n",
      "before:\n",
      "NASA(polynomials=[NASAPolynomial(coeffs=[3.51779,-0.00115859,7.7708e-06,-9.55983e-09,3.74809e-12,12350.1,5.42233], Tmin=(10,'K'), Tmax=(823.91,'K')), NASAPolynomial(coeffs=[3.16214,0.00226288,-1.54389e-06,4.73852e-10,-5.4015e-14,12351.2,6.72012], Tmin=(823.91,'K'), Tmax=(3000,'K'))], Tmin=(10,'K'), Tmax=(3000,'K'), comment=\"\"\"Thermo library: CHOF_G4\"\"\")\n",
      "after:\n",
      "NASA(polynomials=[NASAPolynomial(coeffs=[4.29579,-1.53396e-05,2.0638e-07,-6.67262e-11,5.19689e-15,11936.4,1.26523], Tmin=(200,'K'), Tmax=(1000,'K')), NASAPolynomial(coeffs=[4.12523,-0.0040549,1.48376e-05,-1.7147e-08,6.6644e-12,12187.9,3.196], Tmin=(1000,'K'), Tmax=(6000,'K'))], Tmin=(200,'K'), Tmax=(6000,'K'), comment=\"\"\"Thermo library: C1_C2_Fluorine\"\"\")\n",
      "107 107\n",
      "before:\n",
      "NASA(polynomials=[NASAPolynomial(coeffs=[3.99845,0.00714341,1.60323e-05,-2.0007e-08,6.54682e-12,-9101.39,8.71379], Tmin=(10,'K'), Tmax=(1078.03,'K')), NASAPolynomial(coeffs=[3.84792,0.0159784,-7.77703e-06,1.83859e-09,-1.70814e-13,-9549.86,7.22073], Tmin=(1078.03,'K'), Tmax=(3000,'K'))], Tmin=(10,'K'), Tmax=(3000,'K'), comment=\"\"\"Thermo library: CHOF_G4\"\"\")\n",
      "after:\n",
      "NASA(polynomials=[NASAPolynomial(coeffs=[4.14647,0.00138406,3.99976e-05,-5.33598e-08,2.14178e-11,-8657.51,8.12744], Tmin=(200,'K'), Tmax=(1000,'K')), NASAPolynomial(coeffs=[3.48595,0.016292,-7.87144e-06,1.8515e-09,-1.71911e-13,-8979.49,8.71044], Tmin=(1000,'K'), Tmax=(3000,'K'))], Tmin=(200,'K'), Tmax=(3000,'K'), comment=\"\"\"Thermo library: C1_C2_Fluorine\"\"\")\n",
      "107 107\n",
      "before:\n",
      "NASA(polynomials=[NASAPolynomial(coeffs=[3.9096,0.00783843,1.54328e-05,-2.14834e-08,7.90131e-12,-10814.1,7.80299], Tmin=(10,'K'), Tmax=(888.92,'K')), NASAPolynomial(coeffs=[2.27498,0.019093,-1.0138e-05,2.62844e-09,-2.67692e-13,-10677.5,14.6301], Tmin=(888.92,'K'), Tmax=(3000,'K'))], Tmin=(10,'K'), Tmax=(3000,'K'), comment=\"\"\"Thermo library: CHOF_G4\"\"\")\n",
      "after:\n",
      "NASA(polynomials=[NASAPolynomial(coeffs=[4.5971,0.000988228,3.6376e-05,-4.651e-08,1.81124e-11,-10655,5.10122], Tmin=(200,'K'), Tmax=(1000,'K')), NASAPolynomial(coeffs=[3.25931,0.0166765,-8.11149e-06,1.91827e-09,-1.78882e-13,-10781,9.32784], Tmin=(1000,'K'), Tmax=(3000,'K'))], Tmin=(200,'K'), Tmax=(3000,'K'), comment=\"\"\"Thermo library: C1_C2_Fluorine\"\"\")\n",
      "107 107\n",
      "before:\n",
      "NASA(polynomials=[NASAPolynomial(coeffs=[4.06008,-0.00578847,7.22738e-05,-1.3105e-07,7.80971e-11,11626.8,7.18025], Tmin=(10,'K'), Tmax=(523.26,'K')), NASAPolynomial(coeffs=[2.54,0.0141591,-8.78068e-06,2.63244e-09,-3.03932e-13,11671.9,12.4399], Tmin=(523.26,'K'), Tmax=(3000,'K'))], Tmin=(10,'K'), Tmax=(3000,'K'), comment=\"\"\"Thermo library: CHOF_G4\"\"\")\n",
      "after:\n",
      "NASA(polynomials=[NASAPolynomial(coeffs=[2.56828,0.0109222,4.85414e-06,-1.57206e-08,7.60497e-12,11857.4,12.8268], Tmin=(200,'K'), Tmax=(1000,'K')), NASAPolynomial(coeffs=[4.29177,0.0096946,-4.80469e-06,1.15709e-09,-1.09712e-13,11290.9,3.28121], Tmin=(1000,'K'), Tmax=(3000,'K'))], Tmin=(200,'K'), Tmax=(3000,'K'), comment=\"\"\"Thermo library: C1_C2_Fluorine\"\"\")\n",
      "107 107\n",
      "before:\n",
      "NASA(polynomials=[NASAPolynomial(coeffs=[4.07474,-0.00731727,8.55332e-05,-1.60174e-07,9.80295e-11,12731.7,7.27636], Tmin=(10,'K'), Tmax=(520.68,'K')), NASAPolynomial(coeffs=[2.7627,0.0141259,-8.97853e-06,2.75266e-09,-3.23509e-13,12714.3,11.2707], Tmin=(520.68,'K'), Tmax=(3000,'K'))], Tmin=(10,'K'), Tmax=(3000,'K'), comment=\"\"\"Thermo library: CHOF_G4\"\"\")\n",
      "after:\n",
      "NASA(polynomials=[NASAPolynomial(coeffs=[2.06356,0.0147857,-2.86448e-06,-9.37099e-09,5.69875e-12,13073.9,14.9213], Tmin=(200,'K'), Tmax=(1000,'K')), NASAPolynomial(coeffs=[4.68763,0.00913938,-4.48557e-06,1.07215e-09,-1.01072e-13,12362.6,1.22067], Tmin=(1000,'K'), Tmax=(3000,'K'))], Tmin=(200,'K'), Tmax=(3000,'K'), comment=\"\"\"Thermo library: C1_C2_Fluorine\"\"\")\n",
      "107 107\n",
      "before:\n",
      "NASA(polynomials=[NASAPolynomial(coeffs=[3.63698,0.00939662,-1.79756e-05,1.61481e-08,-5.19278e-12,1646.95,7.91768], Tmin=(100,'K'), Tmax=(982.37,'K')), NASAPolynomial(coeffs=[4.37142,0.00223351,-6.66892e-07,7.82214e-11,-2.87138e-15,1703.99,5.41223], Tmin=(982.37,'K'), Tmax=(5000,'K'))], Tmin=(100,'K'), Tmax=(5000,'K'), comment=\"\"\"Thermo library: halogens\"\"\")\n",
      "after:\n",
      "NASA(polynomials=[NASAPolynomial(coeffs=[3.09573,0.0113826,-1.72331e-05,1.3877e-08,-4.52972e-12,1495.69,10.7381], Tmin=(200,'K'), Tmax=(1000,'K')), NASAPolynomial(coeffs=[5.0903,0.00270913,-1.59858e-06,4.37281e-10,-4.55829e-14,1089.47,1.17522], Tmin=(1000,'K'), Tmax=(3000,'K'))], Tmin=(200,'K'), Tmax=(3000,'K'), comment=\"\"\"Thermo library: C1_C2_Fluorine\"\"\")\n",
      "107 107\n",
      "before:\n",
      "NASA(polynomials=[NASAPolynomial(coeffs=[4.08121,-0.00607739,5.67497e-05,-8.01653e-08,3.67029e-11,-26544.2,7.61089], Tmin=(10,'K'), Tmax=(682.78,'K')), NASAPolynomial(coeffs=[1.79187,0.0157666,-9.76404e-06,2.86626e-09,-3.21991e-13,-26428.1,16.3427], Tmin=(682.78,'K'), Tmax=(3000,'K'))], Tmin=(10,'K'), Tmax=(3000,'K'), comment=\"\"\"Thermo library: CHOF_G4\"\"\")\n",
      "after:\n",
      "NASA(polynomials=[NASAPolynomial(coeffs=[3.51174,-0.00102759,3.77727e-05,-5.03539e-08,2.03526e-11,-25908.2,9.94289], Tmin=(200,'K'), Tmax=(1000,'K')), NASAPolynomial(coeffs=[3.59916,0.0111415,-5.78826e-06,1.4437e-09,-1.40512e-13,-26410.6,6.80787], Tmin=(1000,'K'), Tmax=(3000,'K'))], Tmin=(200,'K'), Tmax=(3000,'K'), comment=\"\"\"Thermo library: C1_C2_Fluorine\"\"\")\n",
      "107 107\n",
      "before:\n",
      "NASA(polynomials=[NASAPolynomial(coeffs=[3.53732,-0.00121572,5.3162e-06,-4.89446e-09,1.45846e-12,10304.5,4.68368], Tmin=(100,'K'), Tmax=(1074.55,'K')), NASAPolynomial(coeffs=[3.15382,0.00167804,-7.69974e-07,1.51275e-10,-1.08782e-14,10302.3,6.16756], Tmin=(1074.55,'K'), Tmax=(5000,'K'))], Tmin=(100,'K'), Tmax=(5000,'K'), comment=\"\"\"Thermo library: primaryThermoLibrary\"\"\")\n",
      "after:\n",
      "NASA(polynomials=[NASAPolynomial(coeffs=[3.78446,-0.00301444,9.89939e-06,-9.74639e-09,3.27155e-12,-1064.1,3.64978], Tmin=(200,'K'), Tmax=(1000,'K')), NASAPolynomial(coeffs=[3.4805,0.00104091,-3.88727e-07,6.58742e-11,-3.97789e-15,-1156.39,4.38636], Tmin=(1000,'K'), Tmax=(6000,'K'))], Tmin=(200,'K'), Tmax=(6000,'K'), comment=\"\"\"Thermo library: C1_C2_Fluorine\"\"\")\n",
      "107 107\n",
      "17\n"
     ]
    }
   ],
   "source": [
    "#let's do the actual flipping now \n",
    "############################### one by one, lets flip the thermo of all the common species in between both of Siddhas models##########################################\n",
    "count=0\n",
    "\n",
    "for i_kin, j_kin_thermo in common_species_with_non_identical_thermo: \n",
    "    \n",
    "    species_for_chemkin_file = []\n",
    "    \n",
    "    #iterate all the species in siddhas (her kinetics, RMG thermo) model\n",
    "    for spc in species_siddhas: \n",
    "        \n",
    "        #lets try and pick out the one species thermo we want to change, and just add the others\n",
    "        if i_kin.is_isomorphic(spc): \n",
    "            \n",
    "            #increase the count to make sure we covered all non-identical-thermo common species\n",
    "            count+=1\n",
    "            \n",
    "            #let's do the actual switching here\n",
    "            spc_with_switched_thermo = switch_thermo(spc, j_kin_thermo)\n",
    "            #let's add it so its included in the chemkin file\n",
    "            species_for_chemkin_file.append(spc_with_switched_thermo)\n",
    "            \n",
    "        else: \n",
    "            species_for_chemkin_file.append(spc)\n",
    "            \n",
    "    print(len(species_for_chemkin_file),len(species_siddhas))\n",
    "    \n",
    "    assert len(species_for_chemkin_file)==len(species_siddhas)\n",
    "    \n",
    "    #save the chemkin file \n",
    "    flipped_thermo_dir = '/work/westgroup/nora/Code/projects/PFAS/models/testing_Siddhas_chemistry/CH3F/flipping/thermo/flipped_models'\n",
    "\n",
    "\n",
    "    chemkin_file = os.path.join(flipped_thermo_dir, f'{i_kin}.inp')\n",
    "    rmgpy.chemkin.save_chemkin_file(chemkin_file, species_for_chemkin_file, reactions_siddhas, verbose=True, check_for_duplicates=True)\n",
    "\n",
    "    #somehow, whhen it does chemkin.save_chemkin_file, its naming the species kind of weird\n",
    "            \n",
    "            \n",
    "print(count)"
   ]
  },
  {
   "cell_type": "code",
   "execution_count": null,
   "id": "3dc005ad-ca59-4c3d-9cd9-4410a05021ba",
   "metadata": {},
   "outputs": [],
   "source": []
  },
  {
   "cell_type": "code",
   "execution_count": 61,
   "id": "c0827a11-a45a-4bf3-8138-11868cd1f202",
   "metadata": {},
   "outputs": [
    {
     "name": "stdout",
     "output_type": "stream",
     "text": [
      "105\n"
     ]
    }
   ],
   "source": [
    "#fixing the trans.dat file \n",
    "\n",
    "path_to_transport_file = '/work/westgroup/nora/Code/projects/PFAS/models/testing_Siddhas_chemistry/CH3F/flipping/thermo/flipped_models/copies/tran.dat'\n",
    "\n",
    "with open(path_to_transport_file, \"r\") as f:\n",
    "    transport_lines = f.readlines()\n",
    "\n",
    "    \n",
    "indices =  {}\n",
    "    \n",
    "#traverse the old transport file    \n",
    "for line in transport_lines: \n",
    "    match = re.search('(\\S+)\\(([0-9]+)\\)', line)\n",
    "    if match:\n",
    "        to_be_replaced = match.group(1)\n",
    "        index = match.group(2)\n",
    "        indices[index] = [to_be_replaced]\n",
    "\n",
    "#now find the new species names and change it \n",
    "\n",
    "print(len(indices))\n",
    "\n",
    "  \n"
   ]
  },
  {
   "cell_type": "code",
   "execution_count": 62,
   "id": "9b0e8a2c-69f5-40b0-b824-bae78c37a2d8",
   "metadata": {},
   "outputs": [],
   "source": [
    "with open('/work/westgroup/nora/Code/projects/PFAS/models/testing_Siddhas_chemistry/CH3F/flipping/thermo/flipped_models/species.txt','r') as f: \n",
    "    species_lines = f.readlines()\n",
    "    \n",
    "species_from_txt_file=[]\n",
    "for i in species_lines: \n",
    "    match = re.search('(\\S+\\([0-9]+\\))',str(i))\n",
    "    if match: \n",
    "        species_from_txt_file.append(match.group(1))\n",
    "        "
   ]
  },
  {
   "cell_type": "code",
   "execution_count": 63,
   "id": "d5d3b9aa-d48f-4236-8a99-7b39d73af486",
   "metadata": {
    "scrolled": true,
    "tags": []
   },
   "outputs": [
    {
     "name": "stdout",
     "output_type": "stream",
     "text": [
      "CH3F 1\n",
      "O2 2\n",
      "H2O 3\n",
      "CH4 4\n",
      "OH 5\n",
      "H 6\n",
      "O 7\n",
      "H2 8\n",
      "HO2 11\n",
      "H2O2 12\n",
      "CO 13\n",
      "CO2 14\n",
      "HCO 15\n",
      "CH 17\n",
      "CH2(T) 18\n",
      "CH3 19\n",
      "CH2O 20\n",
      "HCCO 21\n",
      "C2H 22\n",
      "C2H2 23\n",
      "H2CC 24\n",
      "CH2(S) 25\n",
      "CH3O 27\n",
      "CH2CO 28\n",
      "C2H3 29\n",
      "C2H4 30\n",
      "C2H5 32\n",
      "CH2OH 33\n",
      "CH3CO 34\n",
      "CH2F 37\n",
      "CH2F2 38\n",
      "CHF2 39\n",
      "CHF3 41\n",
      "F 42\n",
      "HF 43\n",
      "FOH 44\n",
      "OF 45\n",
      "CHFO 46\n",
      "FCO 47\n",
      "CF2O 51\n",
      "CHF 53\n",
      "CF2 54\n",
      "CF3O 55\n",
      "CF 56\n",
      "CH2CHF 61\n",
      "CH2CF2 62\n",
      "CH2F-CH2 67\n",
      "CH3-CHF 68\n",
      "CHF2-CH2 69\n",
      "CH3-CF2 70\n",
      "CH2F-CHF 71\n",
      "CH2CF 75\n",
      "CHFCH[Z] 76\n",
      "CHFCF[Z] 77\n",
      "CF2CH 78\n",
      "CH2CFO 83\n",
      "[O]OF 128\n",
      "FCCF 130\n",
      "C1OO1 133\n",
      "[O]OCF 135\n",
      "O-2 137\n",
      "[O]C[O] 138\n",
      "[CH]1OO1 139\n",
      "CH2O2 140\n",
      "CHO2 141\n",
      "CO2 143\n",
      "CHO2 144\n",
      "[O]C([O])F 146\n",
      "CFO2 152\n",
      "[O]CF 161\n",
      "FC1OO1 164\n",
      "O[CH]F 165\n",
      "[O]C(F)F 167\n",
      "CHO3 178\n",
      "CHFO2 180\n",
      "CO3 207\n",
      "CO3 215\n",
      "C2O3 216\n",
      "C2O3 221\n",
      "C2HO3 246\n",
      "CF2O2 279\n",
      "CFO3 283\n",
      "[O]C(O)(F)F 291\n",
      "C2H2FO 314\n",
      "CH2O3 391\n",
      "C2HO3 422\n",
      "[O]CO 448\n",
      "FC1CO1 452\n",
      "C2HO2 620\n",
      "O[C](F)F 704\n",
      "[O]C1(F)OO1 715\n",
      "CO3 719\n",
      "CHO3 769\n",
      "[O]OC(F)F 780\n",
      "C2HF2O 789\n",
      "O[CH]O 846\n",
      "C2O2 933\n",
      "OC(F)(F)F 970\n",
      "OO[C](F)F 1150\n",
      "FC1(F)OO1 1390\n",
      "C2H2O 2027\n",
      "C2H2O 2622\n",
      "C2O3 2860\n",
      "[CH]C-2 3133\n",
      "O2 3313\n"
     ]
    }
   ],
   "source": [
    "\n",
    "for i in species_from_txt_file:\n",
    "    for index in indices.keys():\n",
    "        if f\"({index})\" in str(i):\n",
    "            match = re.search('(\\S+)\\(([0-9]+)\\)',str(i))\n",
    "            print(match.group(1), match.group(2))\n",
    "            assert match.group(2)==index\n",
    "            list_ = indices[index]\n",
    "            list_.append(match.group(1))\n",
    "            indices[index] = list_\n"
   ]
  },
  {
   "cell_type": "code",
   "execution_count": 64,
   "id": "490ff5ee-45c6-49a7-8145-dffbc2c25fac",
   "metadata": {
    "scrolled": true,
    "tags": []
   },
   "outputs": [
    {
     "data": {
      "text/plain": [
       "{'1': ['CH3F', 'CH3F'],\n",
       " '2': ['O2', 'O2'],\n",
       " '3': ['H2O', 'H2O'],\n",
       " '4': ['CH4', 'CH4'],\n",
       " '5': ['OH', 'OH'],\n",
       " '25': ['CH2(S)', 'CH2(S)'],\n",
       " '43': ['HF', 'HF'],\n",
       " '37': ['CH2F', 'CH2F'],\n",
       " '18': ['CH2(T)', 'CH2(T)'],\n",
       " '8': ['H2', 'H2'],\n",
       " '53': ['CHF', 'CHF'],\n",
       " '11': ['HO2', 'HO2'],\n",
       " '133': ['C1OO1', 'C1OO1'],\n",
       " '138': ['[O]C[O]', '[O]C[O]'],\n",
       " '6': ['H', 'H'],\n",
       " '141': ['[O]C=O', 'CHO2'],\n",
       " '14': ['CO2', 'CO2'],\n",
       " '46': ['CHFO', 'CHFO'],\n",
       " '7': ['O', 'O'],\n",
       " '135': ['[O]OCF', '[O]OCF'],\n",
       " '13': ['CO', 'CO'],\n",
       " '164': ['FC1OO1', 'FC1OO1'],\n",
       " '146': ['[O]C([O])F', '[O]C([O])F'],\n",
       " '152': ['[O]C(=O)F', 'CFO2'],\n",
       " '180': ['O=C(O)F', 'CHFO2'],\n",
       " '20': ['CH2O', 'CH2O'],\n",
       " '15': ['HCO', 'HCO'],\n",
       " '161': ['[O]CF', '[O]CF'],\n",
       " '12': ['H2O2', 'H2O2'],\n",
       " '42': ['F', 'F'],\n",
       " '47': ['FCO', 'FCO'],\n",
       " '144': ['O=[C]O', 'CHO2'],\n",
       " '715': ['[O]C1(F)OO1', '[O]C1(F)OO1'],\n",
       " '19': ['CH3', 'CH3'],\n",
       " '56': ['CF', 'CF'],\n",
       " '283': ['[O]OC(=O)F', 'CFO3'],\n",
       " '178': ['[O]C(=O)O', 'CHO3'],\n",
       " '38': ['CH2F2', 'CH2F2'],\n",
       " '39': ['CHF2', 'CHF2'],\n",
       " '780': ['[O]OC(F)F', '[O]OC(F)F'],\n",
       " '17': ['CH', 'CH'],\n",
       " '128': ['[O]OF', '[O]OF'],\n",
       " '140': ['O=CO', 'CH2O2'],\n",
       " '51': ['CF2O', 'CF2O'],\n",
       " '704': ['O[C](F)F', 'O[C](F)F'],\n",
       " '970': ['OC(F)(F)F', 'OC(F)(F)F'],\n",
       " '291': ['[O]C(O)(F)F', '[O]C(O)(F)F'],\n",
       " '54': ['CF2', 'CF2'],\n",
       " '167': ['[O]C(F)F', '[O]C(F)F'],\n",
       " '41': ['CHF3', 'CHF3'],\n",
       " '44': ['FOH', 'FOH'],\n",
       " '55': ['CF3O', 'CF3O'],\n",
       " '1150': ['OO[C](F)F', 'OO[C](F)F'],\n",
       " '34': ['CH3CO', 'CH3CO'],\n",
       " '314': ['O=[C]CF', 'C2H2FO'],\n",
       " '143': ['[O][C]=O', 'CO2'],\n",
       " '719': ['O=C1OO1', 'CO3'],\n",
       " '215': ['[O]C([O])=O', 'CO3'],\n",
       " '1390': ['FC1(F)OO1', 'FC1(F)OO1'],\n",
       " '279': ['[O]C([O])(F)F', 'CF2O2'],\n",
       " '391': ['O=C(O)O', 'CH2O3'],\n",
       " '130': ['FCCF', 'FCCF'],\n",
       " '61': ['CH2CHF', 'CH2CHF'],\n",
       " '67': ['CH2F-CH2', 'CH2F-CH2'],\n",
       " '68': ['CH3-CHF', 'CH3-CHF'],\n",
       " '452': ['FC1CO1', 'FC1CO1'],\n",
       " '75': ['CH2CF', 'CH2CF'],\n",
       " '83': ['CH2CFO', 'CH2CFO'],\n",
       " '76': ['CHFCH[Z]', 'CHFCH[Z]'],\n",
       " '71': ['CH2F-CHF', 'CH2F-CHF'],\n",
       " '69': ['CHF2-CH2', 'CHF2-CH2'],\n",
       " '62': ['CH2CF2', 'CH2CF2'],\n",
       " '70': ['CH3-CF2', 'CH3-CF2'],\n",
       " '78': ['CF2CH', 'CF2CH'],\n",
       " '77': ['CHFCF[Z]', 'CHFCF[Z]'],\n",
       " '23': ['C2H2', 'C2H2'],\n",
       " '789': ['O=C[C](F)F', 'C2HF2O'],\n",
       " '22': ['C2H', 'C2H'],\n",
       " '21': ['HCCO', 'HCCO'],\n",
       " '33': ['CH2OH', 'CH2OH'],\n",
       " '29': ['C2H3', 'C2H3'],\n",
       " '24': ['H2CC', 'H2CC'],\n",
       " '2860': ['O=C1OC1=O', 'C2O3'],\n",
       " '216': ['O=[C]O[C]=O', 'C2O3'],\n",
       " '139': ['[CH]1OO1', '[CH]1OO1'],\n",
       " '207': ['[O]O[C]=O', 'CO3'],\n",
       " '769': ['O=[C]OO', 'CHO3'],\n",
       " '30': ['C2H4', 'C2H4'],\n",
       " '221': ['[O]C([O])=C=O', 'C2O3'],\n",
       " '45': ['OF', 'OF'],\n",
       " '137': ['O-2', 'O-2'],\n",
       " '846': ['O[CH]O', 'O[CH]O'],\n",
       " '422': ['O=[C]C(=O)O', 'C2HO3'],\n",
       " '3133': ['[CH]C-2', '[CH]C-2'],\n",
       " '27': ['CH3O', 'CH3O'],\n",
       " '3313': ['O=O', 'O2'],\n",
       " '28': ['CH2CO', 'CH2CO'],\n",
       " '2622': ['[CH]=C[O]', 'C2H2O'],\n",
       " '2027': ['C1=CO1', 'C2H2O'],\n",
       " '620': ['O=[C]C=O', 'C2HO2'],\n",
       " '165': ['O[CH]F', 'O[CH]F'],\n",
       " '448': ['[O]CO', '[O]CO'],\n",
       " '246': ['O=[C]OC=O', 'C2HO3'],\n",
       " '933': ['O=C=C=O', 'C2O2'],\n",
       " '32': ['C2H5', 'C2H5']}"
      ]
     },
     "execution_count": 64,
     "metadata": {},
     "output_type": "execute_result"
    }
   ],
   "source": [
    "indices"
   ]
  },
  {
   "cell_type": "code",
   "execution_count": 65,
   "id": "0ad49671-c0b0-4ff6-8574-003da9d6d0ed",
   "metadata": {
    "scrolled": true,
    "tags": []
   },
   "outputs": [],
   "source": [
    "new_lines=[]\n",
    "\n",
    "for line in transport_lines: \n",
    "    match = re.search('(\\S+)\\(([0-9]+)\\)', line)\n",
    "    if match:\n",
    "        if match.group(2) in indices.keys():\n",
    "            index = match.group(2)\n",
    "            new_line = line.replace(indices[index][0],indices[index][1])\n",
    "            new_lines.append(new_line)\n",
    "\n",
    "with open('/work/westgroup/nora/Code/projects/PFAS/models/testing_Siddhas_chemistry/CH3F/flipping/thermo/flipped_models/tran_edited.dat','w') as f:\n",
    "    f.writelines(new_lines)\n",
    "        "
   ]
  },
  {
   "cell_type": "code",
   "execution_count": 71,
   "id": "d51f4874-f196-4ebf-8576-82770190902d",
   "metadata": {},
   "outputs": [
    {
     "data": {
      "text/plain": [
       "'copy_12.cti copy_128.cti copy_161.cti copy_19.cti copy_3313.cti copy_37.cti copy_4.cti copy_42.cti copy_43.cti copy_44.cti copy_45.cti copy_67.cti copy_68.cti copy_7.cti copy_75.cti copy_76.cti copy_8.cti'"
      ]
     },
     "execution_count": 71,
     "metadata": {},
     "output_type": "execute_result"
    }
   ],
   "source": [
    "x=os.listdir('/work/westgroup/nora/Code/projects/PFAS/models/testing_Siddhas_chemistry/CH3F/flipping/thermo/flipped_models/copies/')\n",
    "y=[j for j in x if 'cti' in j]\n",
    "' '.join(y)"
   ]
  }
 ],
 "metadata": {
  "kernelspec": {
   "display_name": "Python 3 (ipykernel)",
   "language": "python",
   "name": "python3"
  },
  "language_info": {
   "codemirror_mode": {
    "name": "ipython",
    "version": 3
   },
   "file_extension": ".py",
   "mimetype": "text/x-python",
   "name": "python",
   "nbconvert_exporter": "python",
   "pygments_lexer": "ipython3",
   "version": "3.7.16"
  }
 },
 "nbformat": 4,
 "nbformat_minor": 5
}
