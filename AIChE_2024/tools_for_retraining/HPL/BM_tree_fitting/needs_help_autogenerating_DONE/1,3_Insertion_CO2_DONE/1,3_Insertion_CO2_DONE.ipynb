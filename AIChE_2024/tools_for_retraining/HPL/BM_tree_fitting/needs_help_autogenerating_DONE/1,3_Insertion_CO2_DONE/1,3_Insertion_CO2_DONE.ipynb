{
 "cells": [
  {
   "cell_type": "code",
   "execution_count": 1,
   "metadata": {
    "scrolled": true
   },
   "outputs": [],
   "source": [
    "import rmgpy\n",
    "import numpy as np\n",
    "from rmgpy.molecule.molecule import *\n",
    "from rmgpy.species import *\n",
    "from rmgpy.chemkin import *\n",
    "from rmgpy.data.rmg import RMGDatabase\n",
    "from IPython.display import display\n",
    "from rmgpy.data.thermo import ThermoLibrary\n",
    "from rmgpy.rmg.react import react\n",
    "from rmgpy.species import Species\n",
    "from rmgpy.reaction import Reaction\n",
    "from rmgpy.data.rmg import get_db\n",
    "from rmgpy.molecule.group import Group\n",
    "from rmgpy.kinetics.arrhenius import ArrheniusBM\n",
    "from rmgpy import settings\n",
    "import time\n",
    "import matplotlib.pyplot as plt\n",
    "import matplotlib"
   ]
  },
  {
   "cell_type": "code",
   "execution_count": 2,
   "metadata": {},
   "outputs": [
    {
     "data": {
      "text/plain": [
       "{'database.directory': '/home/khalil.nor/Code/RMG-database/input',\n",
       " 'test_data.directory': '/home/khalil.nor/Code/RMG-Py/rmgpy/test_data'}"
      ]
     },
     "execution_count": 2,
     "metadata": {},
     "output_type": "execute_result"
    }
   ],
   "source": [
    "settings"
   ]
  },
  {
   "cell_type": "code",
   "execution_count": null,
   "metadata": {},
   "outputs": [],
   "source": [
    "#these families just had training rxns added to them \n",
    "\n",
    "#dict_keys(['1,2_Insertion_carbene', 'R_Addition_MultipleBond', 'XY_Addition_MultipleBond', 'Singlet_Carbene_Intra_Disproportionation', '1,2_Insertion_CO', '1+2_Cycloaddition', '1,3_Insertion_CO2', '1,3_sigmatropic_rearrangement'])"
   ]
  },
  {
   "cell_type": "code",
   "execution_count": 3,
   "metadata": {},
   "outputs": [],
   "source": [
    "thermo_libs = [\n",
    "'C1_C2_Fluorine', #adding Siddha's as first most trusted because this is the thermo library that Franklin used\n",
    "'NCSU_C2_C8_PFAS', #adding Westmoreland's thermo as the second most trusted\n",
    "'primaryThermoLibrary',\n",
    "'Fluorine',\n",
    "'FFCM1(-)',\n",
    "'halogens',\n",
    "'CHOF_G4',\n",
    "'CHOCl_G4',\n",
    "'CHOBr_G4',\n",
    "'CHOFCl_G4',\n",
    "'CHOFBr_G4',\n",
    "'CHOFClBr_G4',\n",
    "'DFT_QCI_thermo',\n",
    "'2-BTP_G4',\n",
    "'thermo_DFT_CCSDTF12_BAC',\n",
    "'SulfurHaynes'\n",
    "]\n",
    "\n",
    "kin_families = ['R_Recombination', '1,2_Insertion_carbene', 'F_Abstraction', 'R_Addition_MultipleBond', 'XY_Addition_MultipleBond', 'Singlet_Carbene_Intra_Disproportionation', 'Intra_R_Add_Endocyclic', 'R_Addition_COm', '1,2_Insertion_CO', '1+2_Cycloaddition', '1,3_Insertion_CO2', '1,3_sigmatropic_rearrangement']"
   ]
  },
  {
   "cell_type": "code",
   "execution_count": 4,
   "metadata": {
    "scrolled": true
   },
   "outputs": [
    {
     "name": "stdout",
     "output_type": "stream",
     "text": [
      "1 *1 [CO,CS,Cdd,N] u0 {2,D}\n",
      "2 *2 [O,N,S]       u0 {1,D}\n",
      "3 *3 C2s           u0 p1 {4,S} {5,S}\n",
      "4    [H,Val7]      u0 {3,S}\n",
      "5    [H,Val7]      u0 {3,S}\n",
      "\n",
      "1 *1 [Cd,Cdd,N] u0 {2,D}\n",
      "2 *2 [Cd,Cdd,N] u0 {1,D}\n",
      "3 *3 C2s        u0 p1 {4,S} {5,S}\n",
      "4    [H,Val7]   u0 {3,S}\n",
      "5    [H,Val7]   u0 {3,S}\n",
      "\n",
      "1 *1 [Ct,N]   u0 {2,T}\n",
      "2 *2 [Ct,N]   u0 {1,T}\n",
      "3 *3 C2s      u0 p1 {4,S} {5,S}\n",
      "4    [H,Val7] u0 {3,S}\n",
      "5    [H,Val7] u0 {3,S}\n",
      "\n",
      "1 *1 [CO,CS,Cdd,N] u0 {2,D}\n",
      "2 *2 [O,N,S]       u0 {1,D}\n",
      "3    Cs            u0 {4,S} {5,S} {6,S} {7,S}\n",
      "4 *3 C2s           u0 p1 {3,S} {8,S}\n",
      "5    [H,Val7]      u0 {3,S}\n",
      "6    [H,Val7]      u0 {3,S}\n",
      "7    [H,Val7]      u0 {3,S}\n",
      "8    [H,Val7]      u0 {4,S}\n",
      "\n",
      "1 *1 [Cd,Cdd,N] u0 {2,D}\n",
      "2 *2 [Cd,Cdd,N] u0 {1,D}\n",
      "3    Cs         u0 {4,S} {5,S} {6,S} {7,S}\n",
      "4 *3 C2s        u0 p1 {3,S} {8,S}\n",
      "5    [H,Val7]   u0 {3,S}\n",
      "6    [H,Val7]   u0 {3,S}\n",
      "7    [H,Val7]   u0 {3,S}\n",
      "8    [H,Val7]   u0 {4,S}\n",
      "\n",
      "1 *1 [Ct,N]   u0 {2,T}\n",
      "2 *2 [Ct,N]   u0 {1,T}\n",
      "3    Cs       u0 {4,S} {5,S} {6,S} {7,S}\n",
      "4 *3 C2s      u0 p1 {3,S} {8,S}\n",
      "5    [H,Val7] u0 {3,S}\n",
      "6    [H,Val7] u0 {3,S}\n",
      "7    [H,Val7] u0 {3,S}\n",
      "8    [H,Val7] u0 {4,S}\n",
      "\n",
      "1  *1 [CO,CS,Cdd,N] u0 {2,D}\n",
      "2  *2 [O,N,S]       u0 {1,D}\n",
      "3     Cs            u0 {5,S} {6,S} {7,S} {8,S}\n",
      "4     Cs            u0 {5,S} {9,S} {10,S} {11,S}\n",
      "5  *3 C2s           u0 p1 {3,S} {4,S}\n",
      "6     [H,Val7]      u0 {3,S}\n",
      "7     [H,Val7]      u0 {3,S}\n",
      "8     [H,Val7]      u0 {3,S}\n",
      "9     [H,Val7]      u0 {4,S}\n",
      "10    [H,Val7]      u0 {4,S}\n",
      "11    [H,Val7]      u0 {4,S}\n",
      "\n",
      "1  *1 [Cd,Cdd,N] u0 {2,D}\n",
      "2  *2 [Cd,Cdd,N] u0 {1,D}\n",
      "3     Cs         u0 {5,S} {6,S} {7,S} {8,S}\n",
      "4     Cs         u0 {5,S} {9,S} {10,S} {11,S}\n",
      "5  *3 C2s        u0 p1 {3,S} {4,S}\n",
      "6     [H,Val7]   u0 {3,S}\n",
      "7     [H,Val7]   u0 {3,S}\n",
      "8     [H,Val7]   u0 {3,S}\n",
      "9     [H,Val7]   u0 {4,S}\n",
      "10    [H,Val7]   u0 {4,S}\n",
      "11    [H,Val7]   u0 {4,S}\n",
      "\n",
      "1  *1 [Ct,N]   u0 {2,T}\n",
      "2  *2 [Ct,N]   u0 {1,T}\n",
      "3     Cs       u0 {5,S} {6,S} {7,S} {8,S}\n",
      "4     Cs       u0 {5,S} {9,S} {10,S} {11,S}\n",
      "5  *3 C2s      u0 p1 {3,S} {4,S}\n",
      "6     [H,Val7] u0 {3,S}\n",
      "7     [H,Val7] u0 {3,S}\n",
      "8     [H,Val7] u0 {3,S}\n",
      "9     [H,Val7] u0 {4,S}\n",
      "10    [H,Val7] u0 {4,S}\n",
      "11    [H,Val7] u0 {4,S}\n",
      "\n",
      "1  *1 [CO,CS,Cdd,N] u0 {2,D}\n",
      "2  *2 [O,N,S]       u0 {1,D}\n",
      "3  *3 C2s           u0 p1 {4,S} {5,S}\n",
      "4     Cb            u0 {3,S} {6,B} {7,B}\n",
      "5     [H,Val7]      u0 {3,S}\n",
      "6     Cb            u0 {4,B} {8,B}\n",
      "7     Cb            u0 {4,B} {9,B}\n",
      "8     Cb            u0 {6,B} {10,B}\n",
      "9     Cb            u0 {7,B} {10,B}\n",
      "10    Cb            u0 {8,B} {9,B}\n",
      "\n",
      "1  *1 [Cd,Cdd,N] u0 {2,D}\n",
      "2  *2 [Cd,Cdd,N] u0 {1,D}\n",
      "3  *3 C2s        u0 p1 {4,S} {5,S}\n",
      "4     Cb         u0 {3,S} {6,B} {7,B}\n",
      "5     [H,Val7]   u0 {3,S}\n",
      "6     Cb         u0 {4,B} {8,B}\n",
      "7     Cb         u0 {4,B} {9,B}\n",
      "8     Cb         u0 {6,B} {10,B}\n",
      "9     Cb         u0 {7,B} {10,B}\n",
      "10    Cb         u0 {8,B} {9,B}\n",
      "\n",
      "1  *1 [Ct,N]   u0 {2,T}\n",
      "2  *2 [Ct,N]   u0 {1,T}\n",
      "3  *3 C2s      u0 p1 {4,S} {5,S}\n",
      "4     Cb       u0 {3,S} {6,B} {7,B}\n",
      "5     [H,Val7] u0 {3,S}\n",
      "6     Cb       u0 {4,B} {8,B}\n",
      "7     Cb       u0 {4,B} {9,B}\n",
      "8     Cb       u0 {6,B} {10,B}\n",
      "9     Cb       u0 {7,B} {10,B}\n",
      "10    Cb       u0 {8,B} {9,B}\n",
      "\n",
      "1 *1 [CO,CS,Cdd,N] u0 {2,D}\n",
      "2 *2 [O,N,S]       u0 {1,D}\n",
      "3 *3 O             u0 p3 c0\n",
      "\n",
      "1 *1 [Cd,Cdd,N] u0 {2,D}\n",
      "2 *2 [Cd,Cdd,N] u0 {1,D}\n",
      "3 *3 O          u0 p3 c0\n",
      "\n",
      "1 *1 [Ct,N] u0 {2,T}\n",
      "2 *2 [Ct,N] u0 {1,T}\n",
      "3 *3 O      u0 p3 c0\n",
      "\n",
      "1 *1 [CO,CS,Cdd,N] u0 {2,D}\n",
      "2 *2 [O,N,S]       u0 {1,D}\n",
      "3 *3 S             u0 p3 c0\n",
      "\n",
      "1 *1 [Cd,Cdd,N] u0 {2,D}\n",
      "2 *2 [Cd,Cdd,N] u0 {1,D}\n",
      "3 *3 S          u0 p3 c0\n",
      "\n",
      "1 *1 [Ct,N] u0 {2,T}\n",
      "2 *2 [Ct,N] u0 {1,T}\n",
      "3 *3 S      u0 p3 c0\n",
      "\n",
      "1 *1 [CO,CS,Cdd,N] u0 {2,D}\n",
      "2 *2 [O,N,S]       u0 {1,D}\n",
      "3 *3 N1s           u0 p2 {4,S}\n",
      "4    H             u0 {3,S}\n",
      "\n",
      "1 *1 [Cd,Cdd,N] u0 {2,D}\n",
      "2 *2 [Cd,Cdd,N] u0 {1,D}\n",
      "3 *3 N1s        u0 p2 {4,S}\n",
      "4    H          u0 {3,S}\n",
      "\n",
      "1 *1 [Ct,N] u0 {2,T}\n",
      "2 *2 [Ct,N] u0 {1,T}\n",
      "3 *3 N1s    u0 p2 {4,S}\n",
      "4    H      u0 {3,S}\n",
      "\n",
      "1 *2 [H,Cs,Cd,Cb,Ct,CO,O,Sis,Sid,N,S]              u0 {2,S}\n",
      "2 *3 [H,F1s,Cl1s,Br1s,I1s,Cs,Cd,Cb,Ct,Sis,Sid,N,S] u0 {1,S}\n",
      "3 *1 C                                             u0 p1 c-1 {4,T}\n",
      "4 *4 [O,S]                                         u0 p1 c+1 {3,T}\n",
      "\n",
      "1 *1 C2s                                             u0 p1 {2,S} {3,S}\n",
      "2    [H,F1s,Cl1s,Br1s,I1s]                           u0 {1,S}\n",
      "3    [H,F1s,Cl1s,Br1s,I1s,C]                         u0 {1,S}\n",
      "4 *2 [H,F1s,Cl1s,Br1s,I1s,Cs,Cd,Cb,Ct,O,Sis,Sid,N,S] u0 {5,S}\n",
      "5 *3 [H,F1s,Cl1s,Br1s,I1s,Cs,Cd,Cb,Ct,Sis,Sid,N,S]   u0 {4,S}\n",
      "\n",
      "1 *1 Cdd       u0 {2,D} {5,D}\n",
      "2 *2 [O2d,S2d] u0 {1,D}\n",
      "3 *3 R         u0 {4,S}\n",
      "4 *4 R         u0 {3,S}\n",
      "5    [O2d,S2d] u0 {1,D}\n",
      "\n",
      "1 *2 R!H u0 {2,[S,D,T,B]} {3,[D,T,B]}\n",
      "2 *1 R!H u1 {1,[S,D,T,B]}\n",
      "3 *3 R!H u0 c0 {1,[D,T,B]}\n",
      "\n",
      "1 *4 R!H ux {2,[S,D,T,B]} {3,[S,D,T,B]}\n",
      "2 *2 R!H u0 {1,[S,D,T,B]} {4,[D,T,B]}\n",
      "3 *1 R!H u1 {1,[S,D,T,B]}\n",
      "4 *3 R!H u0 c0 {2,[D,T,B]}\n",
      "\n",
      "1 *5 R!H ux {2,[S,D,T,B]} {3,[S,D,T,B]}\n",
      "2 *4 R!H ux {1,[S,D,T,B]} {4,[S,D,T,B]}\n",
      "3 *2 R!H u0 {1,[S,D,T,B]} {5,[D,T,B]}\n",
      "4 *1 R!H u1 {2,[S,D,T,B]}\n",
      "5 *3 R!H u0 c0 {3,[D,T,B]}\n",
      "\n",
      "1 *6 R!H ux {2,[S,D,T,B]} {3,[S,D,T,B]}\n",
      "2 *5 R!H ux {1,[S,D,T,B]} {4,[S,D,T,B]}\n",
      "3 *4 R!H ux {1,[S,D,T,B]} {5,[S,D,T,B]}\n",
      "4 *2 R!H u0 {2,[S,D,T,B]} {6,[D,T,B]}\n",
      "5 *1 R!H u1 {3,[S,D,T,B]}\n",
      "6 *3 R!H u0 c0 {4,[D,T,B]}\n",
      "\n",
      "1 *7 R!H ux {2,[S,D,T,B]} {3,[S,D,T,B]}\n",
      "2 *6 R!H ux {1,[S,D,T,B]} {4,[S,D,T,B]}\n",
      "3 *5 R!H ux {1,[S,D,T,B]} {5,[S,D,T,B]}\n",
      "4 *4 R!H ux {2,[S,D,T,B]} {6,[S,D,T,B]}\n",
      "5 *2 R!H u0 {3,[S,D,T,B]} {7,[D,T,B]}\n",
      "6 *1 R!H u1 {4,[S,D,T,B]}\n",
      "7 *3 R!H u0 c0 {5,[D,T,B]}\n",
      "\n",
      "1 *7 R!H ux {2,[S,D,T,B]} {3,[S,D,T,B]}\n",
      "2 *8 R!H ux {1,[S,D,T,B]} {4,[S,D,T,B]}\n",
      "3 *6 R!H ux {1,[S,D,T,B]} {5,[S,D,T,B]}\n",
      "4 *5 R!H ux {2,[S,D,T,B]} {6,[S,D,T,B]}\n",
      "5 *4 R!H ux {3,[S,D,T,B]} {7,[S,D,T,B]}\n",
      "6 *2 R!H u0 {4,[S,D,T,B]} {8,[D,T,B]}\n",
      "7 *1 R!H u1 {5,[S,D,T,B]}\n",
      "8 *3 R!H u0 c0 {6,[D,T,B]}\n",
      "\n",
      "1 *7 R!H ux {2,[S,D,T,B]} {4,[S,D,T,B]}\n",
      "2 *8 R!H ux {1,[S,D,T,B]} {3,[S,D,T,B]}\n",
      "3 *9 R!H ux {2,[S,D,T,B]} {5,[S,D,T,B]}\n",
      "4 *6 R!H ux {1,[S,D,T,B]} {6,[S,D,T,B]}\n",
      "5 *5 R!H ux {3,[S,D,T,B]} {7,[S,D,T,B]}\n",
      "6 *4 R!H ux {4,[S,D,T,B]} {8,[S,D,T,B]}\n",
      "7 *2 R!H u0 {5,[S,D,T,B]} {9,[D,T,B]}\n",
      "8 *1 R!H u1 {6,[S,D,T,B]}\n",
      "9 *3 R!H u0 c0 {7,[D,T,B]}\n",
      "\n",
      "1  *7  R!H ux {2,[S,D,T,B]} {5,[S,D,T,B]}\n",
      "2  *8  R!H ux {1,[S,D,T,B]} {3,[S,D,T,B]}\n",
      "3  *9  R!H ux {2,[S,D,T,B]} {4,[S,D,T,B]}\n",
      "4  *10 R!H ux {3,[S,D,T,B]} {6,[S,D,T,B]}\n",
      "5  *6  R!H ux {1,[S,D,T,B]} {7,[S,D,T,B]}\n",
      "6  *5  R!H ux {4,[S,D,T,B]} {8,[S,D,T,B]}\n",
      "7  *4  R!H ux {5,[S,D,T,B]} {9,[S,D,T,B]}\n",
      "8  *2  R!H u0 {6,[S,D,T,B]} {10,[D,T,B]}\n",
      "9  *1  R!H u1 {7,[S,D,T,B]}\n",
      "10 *3  R!H u0 c0 {8,[D,T,B]}\n",
      "\n",
      "1  *7  R!H ux {2,[S,D,T,B]} {6,[S,D,T,B]}\n",
      "2  *8  R!H ux {1,[S,D,T,B]} {3,[S,D,T,B]}\n",
      "3  *9  R!H ux {2,[S,D,T,B]} {4,[S,D,T,B]}\n",
      "4  *10 R!H ux {3,[S,D,T,B]} {5,[S,D,T,B]}\n",
      "5  *11 R!H ux {4,[S,D,T,B]} {7,[S,D,T,B]}\n",
      "6  *6  R!H ux {1,[S,D,T,B]} {8,[S,D,T,B]}\n",
      "7  *5  R!H ux {5,[S,D,T,B]} {9,[S,D,T,B]}\n",
      "8  *4  R!H ux {6,[S,D,T,B]} {10,[S,D,T,B]}\n",
      "9  *2  R!H u0 {7,[S,D,T,B]} {11,[D,T,B]}\n",
      "10 *1  R!H u1 {8,[S,D,T,B]}\n",
      "11 *3  R!H u0 c0 {9,[D,T,B]}\n",
      "\n",
      "1  *7  R!H ux {2,[S,D,T,B]} {7,[S,D,T,B]}\n",
      "2  *8  R!H ux {1,[S,D,T,B]} {3,[S,D,T,B]}\n",
      "3  *9  R!H ux {2,[S,D,T,B]} {4,[S,D,T,B]}\n",
      "4  *10 R!H ux {3,[S,D,T,B]} {5,[S,D,T,B]}\n",
      "5  *11 R!H ux {4,[S,D,T,B]} {6,[S,D,T,B]}\n",
      "6  *12 R!H ux {5,[S,D,T,B]} {8,[S,D,T,B]}\n",
      "7  *6  R!H ux {1,[S,D,T,B]} {9,[S,D,T,B]}\n",
      "8  *5  R!H ux {6,[S,D,T,B]} {10,[S,D,T,B]}\n",
      "9  *4  R!H ux {7,[S,D,T,B]} {11,[S,D,T,B]}\n",
      "10 *2  R!H u0 {8,[S,D,T,B]} {12,[D,T,B]}\n",
      "11 *1  R!H u1 {9,[S,D,T,B]}\n",
      "12 *3  R!H u0 c0 {10,[D,T,B]}\n",
      "\n",
      "1  *7  R!H ux {2,[S,D,T,B]} {8,[S,D,T,B]}\n",
      "2  *8  R!H ux {1,[S,D,T,B]} {3,[S,D,T,B]}\n",
      "3  *9  R!H ux {2,[S,D,T,B]} {4,[S,D,T,B]}\n",
      "4  *10 R!H ux {3,[S,D,T,B]} {5,[S,D,T,B]}\n",
      "5  *11 R!H ux {4,[S,D,T,B]} {6,[S,D,T,B]}\n",
      "6  *12 R!H ux {5,[S,D,T,B]} {7,[S,D,T,B]}\n",
      "7  *13 R!H ux {6,[S,D,T,B]} {9,[S,D,T,B]}\n",
      "8  *6  R!H ux {1,[S,D,T,B]} {10,[S,D,T,B]}\n",
      "9  *5  R!H ux {7,[S,D,T,B]} {11,[S,D,T,B]}\n",
      "10 *4  R!H ux {8,[S,D,T,B]} {12,[S,D,T,B]}\n",
      "11 *2  R!H u0 {9,[S,D,T,B]} {13,[D,T,B]}\n",
      "12 *1  R!H u1 {10,[S,D,T,B]}\n",
      "13 *3  R!H u0 c0 {11,[D,T,B]}\n",
      "\n",
      "1 *1 C2tc u0 p1 c-1 {2,T}\n",
      "2 *3 O4tc u0 p1 c+1 {1,T}\n",
      "3 *2 R    u1\n",
      "\n",
      "1 *1 R!H u0         {2,[D,T,B]}\n",
      "2 *2 R!H u0         {1,[D,T,B]}\n",
      "3 *3 R   u[1,2,3,4]\n",
      "\n",
      "1 * R u1\n",
      "2 * R u1\n",
      "\n",
      "1 *2 C                 u0 {2,S} {3,[S,D]}\n",
      "2 *3 [H,F1s,Cl1s,Br1s] u0 {1,S}\n",
      "3 *1 C                 u0 p1 c0 {1,[S,D]}\n",
      "\n",
      "1 *3 [H,F1s,Cl1s,Br1s]  u0 {2,S}\n",
      "2 *4 [F1s,Cl1s,Br1s]    u0 {1,S}\n",
      "3 *1 [Cd,Cdd,Ct,CO,O2d] u0 {4,[D,T]}\n",
      "4 *2 [Cd,Cdd,Ct,CO,O2d] u0 {3,[D,T]}\n",
      "\n"
     ]
    }
   ],
   "source": [
    "database = RMGDatabase()\n",
    "database.load(\n",
    "            path = settings['database.directory'],\n",
    "            thermo_libraries = thermo_libs,\n",
    "            transport_libraries = [],\n",
    "            reaction_libraries = [],\n",
    "            seed_mechanisms = [],#['BurkeH2O2inN2','ERC-FoundationFuelv0.9'],\n",
    "            kinetics_families = kin_families,\n",
    "            kinetics_depositories = ['training'],\n",
    "            #frequenciesLibraries = self.statmechLibraries,\n",
    "            depository = False, # Don't bother loading the depository information, as we don't use it\n",
    "        )\n"
   ]
  },
  {
   "cell_type": "code",
   "execution_count": null,
   "metadata": {},
   "outputs": [],
   "source": []
  },
  {
   "cell_type": "code",
   "execution_count": 5,
   "metadata": {},
   "outputs": [
    {
     "data": {
      "text/plain": [
       "{'1+2_Cycloaddition': <ReactionFamily \"1+2_Cycloaddition\">,\n",
       " '1,2_Insertion_CO': <ReactionFamily \"1,2_Insertion_CO\">,\n",
       " '1,2_Insertion_carbene': <ReactionFamily \"1,2_Insertion_carbene\">,\n",
       " '1,3_Insertion_CO2': <ReactionFamily \"1,3_Insertion_CO2\">,\n",
       " '1,3_sigmatropic_rearrangement': <ReactionFamily \"1,3_sigmatropic_rearrangement\">,\n",
       " 'F_Abstraction': <ReactionFamily \"F_Abstraction\">,\n",
       " 'Intra_R_Add_Endocyclic': <ReactionFamily \"Intra_R_Add_Endocyclic\">,\n",
       " 'R_Addition_COm': <ReactionFamily \"R_Addition_COm\">,\n",
       " 'R_Addition_MultipleBond': <ReactionFamily \"R_Addition_MultipleBond\">,\n",
       " 'R_Recombination': <ReactionFamily \"R_Recombination\">,\n",
       " 'Singlet_Carbene_Intra_Disproportionation': <ReactionFamily \"Singlet_Carbene_Intra_Disproportionation\">,\n",
       " 'XY_Addition_MultipleBond': <ReactionFamily \"XY_Addition_MultipleBond\">}"
      ]
     },
     "execution_count": 5,
     "metadata": {},
     "output_type": "execute_result"
    }
   ],
   "source": [
    "database.kinetics.families"
   ]
  },
  {
   "cell_type": "code",
   "execution_count": 6,
   "metadata": {},
   "outputs": [],
   "source": [
    "# '1,3_Insertion_CO2' \n",
    "family_to_train = \"1,3_Insertion_CO2\"\n",
    "family = database.kinetics.families[family_to_train]"
   ]
  },
  {
   "cell_type": "code",
   "execution_count": 7,
   "metadata": {},
   "outputs": [],
   "source": [
    "family.clean_tree()"
   ]
  },
  {
   "cell_type": "code",
   "execution_count": 8,
   "metadata": {
    "scrolled": true,
    "tags": []
   },
   "outputs": [
    {
     "name": "stderr",
     "output_type": "stream",
     "text": [
      "ERROR:root:14.0\n",
      "ERROR:root:iter_max achieved terminating early\n",
      "ERROR:root:iter_max achieved terminating early\n",
      "ERROR:root:iter_max achieved terminating early\n",
      "ERROR:root:iter_max achieved terminating early\n",
      "ERROR:root:iter_max achieved terminating early\n"
     ]
    },
    {
     "name": "stdout",
     "output_type": "stream",
     "text": [
      "174.72541499137878\n"
     ]
    }
   ],
   "source": [
    "start = time.time()\n",
    "family.generate_tree(thermo_database=database.thermo,\n",
    "                     nprocs=1,\n",
    "                     new_fraction_threshold_to_reopt_node=0.25,\n",
    "                     max_batch_size=800,\n",
    "                     extension_iter_max=2,\n",
    "                     extension_iter_item_cap=100)\n",
    "\n",
    "end = time.time()\n",
    "print(end-start)"
   ]
  },
  {
   "cell_type": "code",
   "execution_count": 9,
   "metadata": {},
   "outputs": [
    {
     "data": {
      "text/plain": [
       "26"
      ]
     },
     "execution_count": 9,
     "metadata": {},
     "output_type": "execute_result"
    }
   ],
   "source": [
    "len(family.groups.entries)"
   ]
  },
  {
   "cell_type": "code",
   "execution_count": 10,
   "metadata": {},
   "outputs": [
    {
     "data": {
      "text/plain": [
       "{\"R_(CS2)_R'\": <Entry index=-1 label=\"R_(CS2)_R'\">,\n",
       " 'Root': <Entry index=0 label=\"Root\">,\n",
       " 'Root_5R->C': <Entry index=1 label=\"Root_5R->C\">,\n",
       " 'Root_N-5R->C': <Entry index=2 label=\"Root_N-5R->C\">,\n",
       " 'Root_N-5R->C_Ext-4R-R': <Entry index=3 label=\"Root_N-5R->C_Ext-4R-R\">,\n",
       " 'Root_N-5R->C_4R->C': <Entry index=4 label=\"Root_N-5R->C_4R->C\">,\n",
       " 'Root_N-5R->C_N-4R->C': <Entry index=5 label=\"Root_N-5R->C_N-4R->C\">,\n",
       " 'Root_N-5R->C_Ext-4R-R_6R!H->O': <Entry index=6 label=\"Root_N-5R->C_Ext-4R-R_6R!H->O\">,\n",
       " 'Root_N-5R->C_Ext-4R-R_N-6R!H->O': <Entry index=7 label=\"Root_N-5R->C_Ext-4R-R_N-6R!H->O\">,\n",
       " 'Root_N-5R->C_Ext-4R-R_6R!H->O_Ext-6O-R_Ext-7R!H-R_Ext-7R!H-R_Ext-7R!H-R_Ext-8R!H-R_Ext-8R!H-R_8R!H->C': <Entry index=8 label=\"Root_N-5R->C_Ext-4R-R_6R!H->O_Ext-6O-R_Ext-7R!H-R_Ext-7R!H-R_Ext-7R!H-R_Ext-8R!H-R_Ext-8R!H-R_8R!H->C\">,\n",
       " 'Root_N-5R->C_Ext-4R-R_6R!H->O_Ext-6O-R_Ext-7R!H-R_Ext-7R!H-R_Ext-7R!H-R_Ext-8R!H-R_Ext-8R!H-R_N-8R!H->C': <Entry index=9 label=\"Root_N-5R->C_Ext-4R-R_6R!H->O_Ext-6O-R_Ext-7R!H-R_Ext-7R!H-R_Ext-7R!H-R_Ext-8R!H-R_Ext-8R!H-R_N-8R!H->C\">,\n",
       " 'Root_N-5R->C_Ext-4R-R_N-6R!H->O_6BrBrCCClClFFIINNPPSSSiSi-u1': <Entry index=10 label=\"Root_N-5R->C_Ext-4R-R_N-6R!H->O_6BrBrCCClClFFIINNPPSSSiSi-u1\">,\n",
       " 'Root_N-5R->C_Ext-4R-R_N-6R!H->O_N-6BrBrCCClClFFIINNPPSSSiSi-u1': <Entry index=11 label=\"Root_N-5R->C_Ext-4R-R_N-6R!H->O_N-6BrBrCCClClFFIINNPPSSSiSi-u1\">,\n",
       " 'Root_N-5R->C_Ext-4R-R_6R!H->O_Ext-6O-R_Ext-7R!H-R_Ext-7R!H-R_Ext-7R!H-R_Ext-8R!H-R_Ext-8R!H-R_8R!H->C_Ext-8C-R_9R!H->C': <Entry index=12 label=\"Root_N-5R->C_Ext-4R-R_6R!H->O_Ext-6O-R_Ext-7R!H-R_Ext-7R!H-R_Ext-7R!H-R_Ext-8R!H-R_Ext-8R!H-R_8R!H->C_Ext-8C-R_9R!H->C\">,\n",
       " 'Root_N-5R->C_Ext-4R-R_6R!H->O_Ext-6O-R_Ext-7R!H-R_Ext-7R!H-R_Ext-7R!H-R_Ext-8R!H-R_Ext-8R!H-R_8R!H->C_Ext-8C-R_N-9R!H->C': <Entry index=13 label=\"Root_N-5R->C_Ext-4R-R_6R!H->O_Ext-6O-R_Ext-7R!H-R_Ext-7R!H-R_Ext-7R!H-R_Ext-8R!H-R_Ext-8R!H-R_8R!H->C_Ext-8C-R_N-9R!H->C\">,\n",
       " 'Root_N-5R->C_Ext-4R-R_N-6R!H->O_N-6BrBrCCClClFFIINNPPSSSiSi-u1_6BrCClFINPSSi->F': <Entry index=14 label=\"Root_N-5R->C_Ext-4R-R_N-6R!H->O_N-6BrBrCCClClFFIINNPPSSSiSi-u1_6BrCClFINPSSi->F\">,\n",
       " 'Root_N-5R->C_Ext-4R-R_N-6R!H->O_N-6BrBrCCClClFFIINNPPSSSiSi-u1_N-6BrCClFINPSSi->F': <Entry index=15 label=\"Root_N-5R->C_Ext-4R-R_N-6R!H->O_N-6BrBrCCClClFFIINNPPSSSiSi-u1_N-6BrCClFINPSSi->F\">,\n",
       " 'Root_N-5R->C_Ext-4R-R_N-6R!H->O_N-6BrBrCCClClFFIINNPPSSSiSi-u1_6BrCClFINPSSi->F_Ext-4R-R_7R!H->C': <Entry index=16 label=\"Root_N-5R->C_Ext-4R-R_N-6R!H->O_N-6BrBrCCClClFFIINNPPSSSiSi-u1_6BrCClFINPSSi->F_Ext-4R-R_7R!H->C\">,\n",
       " 'Root_N-5R->C_Ext-4R-R_N-6R!H->O_N-6BrBrCCClClFFIINNPPSSSiSi-u1_6BrCClFINPSSi->F_Ext-4R-R_N-7R!H->C': <Entry index=17 label=\"Root_N-5R->C_Ext-4R-R_N-6R!H->O_N-6BrBrCCClClFFIINNPPSSSiSi-u1_6BrCClFINPSSi->F_Ext-4R-R_N-7R!H->C\">,\n",
       " 'Root_N-5R->C_Ext-4R-R_N-6R!H->O_N-6BrBrCCClClFFIINNPPSSSiSi-u1_N-6BrCClFINPSSi->F_Ext-4R-R': <Entry index=18 label=\"Root_N-5R->C_Ext-4R-R_N-6R!H->O_N-6BrBrCCClClFFIINNPPSSSiSi-u1_N-6BrCClFINPSSi->F_Ext-4R-R\">,\n",
       " 'Root_N-5R->C_Ext-4R-R_N-6R!H->O_N-6BrBrCCClClFFIINNPPSSSiSi-u1_6BrCClFINPSSi->F_Ext-4R-R_7R!H->C_Ext-7C-R_8R!H-u1': <Entry index=19 label=\"Root_N-5R->C_Ext-4R-R_N-6R!H->O_N-6BrBrCCClClFFIINNPPSSSiSi-u1_6BrCClFINPSSi->F_Ext-4R-R_7R!H->C_Ext-7C-R_8R!H-u1\">,\n",
       " 'Root_N-5R->C_Ext-4R-R_N-6R!H->O_N-6BrBrCCClClFFIINNPPSSSiSi-u1_6BrCClFINPSSi->F_Ext-4R-R_7R!H->C_Ext-7C-R_N-8R!H-u1': <Entry index=20 label=\"Root_N-5R->C_Ext-4R-R_N-6R!H->O_N-6BrBrCCClClFFIINNPPSSSiSi-u1_6BrCClFINPSSi->F_Ext-4R-R_7R!H->C_Ext-7C-R_N-8R!H-u1\">,\n",
       " 'Root_N-5R->C_Ext-4R-R_N-6R!H->O_N-6BrBrCCClClFFIINNPPSSSiSi-u1_6BrCClFINPSSi->F_Ext-4R-R_7R!H->C_Ext-7C-R_N-8R!H-u1_8R!H->C': <Entry index=21 label=\"Root_N-5R->C_Ext-4R-R_N-6R!H->O_N-6BrBrCCClClFFIINNPPSSSiSi-u1_6BrCClFINPSSi->F_Ext-4R-R_7R!H->C_Ext-7C-R_N-8R!H-u1_8R!H->C\">,\n",
       " 'Root_N-5R->C_Ext-4R-R_N-6R!H->O_N-6BrBrCCClClFFIINNPPSSSiSi-u1_6BrCClFINPSSi->F_Ext-4R-R_7R!H->C_Ext-7C-R_N-8R!H-u1_N-8R!H->C': <Entry index=22 label=\"Root_N-5R->C_Ext-4R-R_N-6R!H->O_N-6BrBrCCClClFFIINNPPSSSiSi-u1_6BrCClFINPSSi->F_Ext-4R-R_7R!H->C_Ext-7C-R_N-8R!H-u1_N-8R!H->C\">,\n",
       " 'Root_N-5R->C_Ext-4R-R_N-6R!H->O_N-6BrBrCCClClFFIINNPPSSSiSi-u1_6BrCClFINPSSi->F_Ext-4R-R_7R!H->C_Ext-7C-R_N-8R!H-u1_8R!H->C_Ext-8C-R_9R!H->C': <Entry index=23 label=\"Root_N-5R->C_Ext-4R-R_N-6R!H->O_N-6BrBrCCClClFFIINNPPSSSiSi-u1_6BrCClFINPSSi->F_Ext-4R-R_7R!H->C_Ext-7C-R_N-8R!H-u1_8R!H->C_Ext-8C-R_9R!H->C\">,\n",
       " 'Root_N-5R->C_Ext-4R-R_N-6R!H->O_N-6BrBrCCClClFFIINNPPSSSiSi-u1_6BrCClFINPSSi->F_Ext-4R-R_7R!H->C_Ext-7C-R_N-8R!H-u1_8R!H->C_Ext-8C-R_N-9R!H->C': <Entry index=24 label=\"Root_N-5R->C_Ext-4R-R_N-6R!H->O_N-6BrBrCCClClFFIINNPPSSSiSi-u1_6BrCClFINPSSi->F_Ext-4R-R_7R!H->C_Ext-7C-R_N-8R!H-u1_8R!H->C_Ext-8C-R_N-9R!H->C\">}"
      ]
     },
     "execution_count": 10,
     "metadata": {},
     "output_type": "execute_result"
    }
   ],
   "source": [
    "family.groups.entries"
   ]
  },
  {
   "cell_type": "code",
   "execution_count": 11,
   "metadata": {},
   "outputs": [
    {
     "name": "stdout",
     "output_type": "stream",
     "text": [
      "0.0032241344451904297\n"
     ]
    }
   ],
   "source": [
    "start = time.time()\n",
    "family.check_tree()\n",
    "end = time.time()\n",
    "print(end-start)"
   ]
  },
  {
   "cell_type": "code",
   "execution_count": 12,
   "metadata": {},
   "outputs": [
    {
     "name": "stdout",
     "output_type": "stream",
     "text": [
      "0.38158488273620605\n"
     ]
    }
   ],
   "source": [
    "start = time.time()\n",
    "family.regularize(thermo_database=database.thermo)\n",
    "end = time.time()\n",
    "print(end-start)"
   ]
  },
  {
   "cell_type": "code",
   "execution_count": 13,
   "metadata": {},
   "outputs": [
    {
     "name": "stdout",
     "output_type": "stream",
     "text": [
      "0.37331104278564453\n"
     ]
    }
   ],
   "source": [
    "start = time.time()\n",
    "templateRxnMap = family.get_reaction_matches(thermo_database=database.thermo,remove_degeneracy=True,\n",
    "                                             get_reverse=True,exact_matches_only=False,fix_labels=True)\n",
    "end = time.time()\n",
    "print(end-start)"
   ]
  },
  {
   "cell_type": "code",
   "execution_count": 14,
   "metadata": {},
   "outputs": [
    {
     "data": {
      "text/plain": [
       "26"
      ]
     },
     "execution_count": 14,
     "metadata": {},
     "output_type": "execute_result"
    }
   ],
   "source": [
    "len(templateRxnMap)"
   ]
  },
  {
   "cell_type": "code",
   "execution_count": 15,
   "metadata": {},
   "outputs": [],
   "source": [
    "family.clean_tree_rules()"
   ]
  },
  {
   "cell_type": "code",
   "execution_count": 16,
   "metadata": {},
   "outputs": [
    {
     "name": "stderr",
     "output_type": "stream",
     "text": [
      "/home/khalil.nor/Code/RMG-Py/rmgpy/data/kinetics/family.py:3640: VisibleDeprecationWarning: Creating an ndarray from ragged nested sequences (which is a list-or-tuple of lists-or-tuples-or ndarrays with different lengths or shapes) is deprecated. If you meant to do this, you must specify 'dtype=object' when creating the ndarray.\n",
      "  for rxns, label in rxnlists])\n",
      "/work/westgroup/nora/miniconda/envs/rmg_env/lib/python3.7/site-packages/numpy/core/fromnumeric.py:3441: RuntimeWarning: Mean of empty slice.\n",
      "  out=out, **kwargs)\n",
      "/work/westgroup/nora/miniconda/envs/rmg_env/lib/python3.7/site-packages/numpy/core/_methods.py:189: RuntimeWarning: invalid value encountered in double_scalars\n",
      "  ret = ret.dtype.type(ret / rcount)\n"
     ]
    },
    {
     "name": "stdout",
     "output_type": "stream",
     "text": [
      "0.486586332321167\n"
     ]
    }
   ],
   "source": [
    "start = time.time()\n",
    "family.make_bm_rules_from_template_rxn_map(templateRxnMap)#,nprocs=6)\n",
    "end = time.time()\n",
    "print(end-start)"
   ]
  },
  {
   "cell_type": "code",
   "execution_count": 17,
   "metadata": {},
   "outputs": [
    {
     "name": "stdout",
     "output_type": "stream",
     "text": [
      "0.004237651824951172\n"
     ]
    }
   ],
   "source": [
    "start = time.time()\n",
    "family.check_tree()\n",
    "end = time.time()\n",
    "print(end-start)"
   ]
  },
  {
   "cell_type": "code",
   "execution_count": 18,
   "metadata": {},
   "outputs": [
    {
     "name": "stdout",
     "output_type": "stream",
     "text": [
      "0.44593095779418945\n"
     ]
    }
   ],
   "source": [
    "start = time.time()\n",
    "errors,uncertainties = family.cross_validate(iters=0,random_state=5,folds=0,ascend=False)\n",
    "end = time.time()\n",
    "print(end-start)"
   ]
  },
  {
   "cell_type": "code",
   "execution_count": 19,
   "metadata": {},
   "outputs": [
    {
     "name": "stdout",
     "output_type": "stream",
     "text": [
      "/home/khalil.nor/Code/RMG-database/input/kinetics/families/1,3_Insertion_CO2\n"
     ]
    }
   ],
   "source": [
    "save_path = os.path.join(settings['database.directory'], 'kinetics', 'families', family.name)\n",
    "print(save_path)"
   ]
  },
  {
   "cell_type": "code",
   "execution_count": 20,
   "metadata": {},
   "outputs": [],
   "source": [
    "family.save(save_path)"
   ]
  },
  {
   "cell_type": "code",
   "execution_count": null,
   "metadata": {},
   "outputs": [],
   "source": []
  },
  {
   "cell_type": "code",
   "execution_count": null,
   "metadata": {},
   "outputs": [],
   "source": [
    "# completed on May 13, 9:46 am "
   ]
  },
  {
   "cell_type": "code",
   "execution_count": null,
   "metadata": {},
   "outputs": [],
   "source": []
  },
  {
   "cell_type": "code",
   "execution_count": null,
   "metadata": {},
   "outputs": [],
   "source": []
  }
 ],
 "metadata": {
  "@webio": {
   "lastCommId": null,
   "lastKernelId": null
  },
  "kernelspec": {
   "display_name": "rmg_env",
   "language": "python",
   "name": "rmg_env"
  },
  "language_info": {
   "codemirror_mode": {
    "name": "ipython",
    "version": 3
   },
   "file_extension": ".py",
   "mimetype": "text/x-python",
   "name": "python",
   "nbconvert_exporter": "python",
   "pygments_lexer": "ipython3",
   "version": "3.7.16"
  }
 },
 "nbformat": 4,
 "nbformat_minor": 4
}
