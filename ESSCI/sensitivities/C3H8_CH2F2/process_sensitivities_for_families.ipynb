{
 "cells": [
  {
   "cell_type": "code",
   "execution_count": 1,
   "id": "7b17cab9-63ca-4a2d-8dab-585fb39d1798",
   "metadata": {},
   "outputs": [],
   "source": [
    "import rmgpy.chemkin\n",
    "import os \n",
    "import re\n",
    "import numpy as np\n",
    "import cantera as ct\n",
    "import pandas as pd"
   ]
  },
  {
   "cell_type": "code",
   "execution_count": 2,
   "id": "f86f9373-6b03-4815-a843-44f66a6b75b9",
   "metadata": {},
   "outputs": [],
   "source": [
    "full_path = '/work/westgroup/nora/Code/'"
   ]
  },
  {
   "cell_type": "code",
   "execution_count": 3,
   "id": "e464e25c-9e32-405e-ae6a-3b6fd8e6d424",
   "metadata": {
    "scrolled": true,
    "tags": []
   },
   "outputs": [
    {
     "name": "stderr",
     "output_type": "stream",
     "text": [
      "WARNING:root:Unexpected kinetics type <class 'rmgpy.kinetics.chebyshev.Chebyshev'> for duplicate reaction O2(779) + C3H6(95) <=> O2(3) + C3H6(95). Not combining reactions.\n",
      "WARNING:root:Unexpected kinetics type <class 'rmgpy.kinetics.chebyshev.Chebyshev'> for duplicate reaction O2(779) + CH2O(19) <=> O2(3) + CH2O(19). Not combining reactions.\n",
      "WARNING:root:Unexpected kinetics type <class 'rmgpy.kinetics.chebyshev.Chebyshev'> for duplicate reaction O2(779) + CF2O(694) <=> O2(3) + CF2O(694). Not combining reactions.\n",
      "WARNING:root:Unexpected kinetics type <class 'rmgpy.kinetics.chebyshev.Chebyshev'> for duplicate reaction O2(779) + CO2(24) <=> O2(3) + CO2(24). Not combining reactions.\n",
      "WARNING:root:Unexpected kinetics type <class 'rmgpy.kinetics.chebyshev.Chebyshev'> for duplicate reaction O2(779) + CHFO(692) <=> O(6) + FC1OO1(1282). Not combining reactions.\n",
      "WARNING:root:Unexpected kinetics type <class 'rmgpy.kinetics.chebyshev.Chebyshev'> for duplicate reaction O2(779) + CHFO(692) <=> O2(3) + CHFO(692). Not combining reactions.\n",
      "WARNING:root:Unexpected kinetics type <class 'rmgpy.kinetics.chebyshev.Chebyshev'> for duplicate reaction O2(779) + CH2CO(20) <=> O2(3) + CH2CO(20). Not combining reactions.\n",
      "WARNING:root:Unexpected kinetics type <class 'rmgpy.kinetics.chebyshev.Chebyshev'> for duplicate reaction O2(779) + CH2CO(20) <=> O2(3) + CH2CO(20). Not combining reactions.\n",
      "WARNING:root:Unexpected kinetics type <class 'rmgpy.kinetics.chebyshev.Chebyshev'> for duplicate reaction O2(779) + CH2CO(20) <=> O2(3) + CH2CO(20). Not combining reactions.\n",
      "WARNING:root:Unexpected kinetics type <class 'rmgpy.kinetics.chebyshev.Chebyshev'> for duplicate reaction O2(779) + C3H5-A(94) <=> O2(3) + C3H5-A(94). Not combining reactions.\n",
      "WARNING:root:Unexpected kinetics type <class 'rmgpy.kinetics.chebyshev.Chebyshev'> for duplicate reaction O2(779) + C4H8-1(190) <=> O2(3) + C4H8-1(190). Not combining reactions.\n",
      "WARNING:root:Unexpected kinetics type <class 'rmgpy.kinetics.chebyshev.Chebyshev'> for duplicate reaction O2(779) + C3H4-A(167) <=> O2(3) + C3H4-A(167). Not combining reactions.\n",
      "WARNING:root:Unexpected kinetics type <class 'rmgpy.kinetics.chebyshev.Chebyshev'> for duplicate reaction C2H4(12) + C3H6(95) <=> CH2(18) + [CH2]C[CH]C(887). Not combining reactions.\n",
      "WARNING:root:Unexpected kinetics type <class 'rmgpy.kinetics.chebyshev.Chebyshev'> for duplicate reaction O2(779) + CH2O(19) <=> O(6) + C1OO1(2744). Not combining reactions.\n",
      "WARNING:root:Unexpected kinetics type <class 'rmgpy.kinetics.chebyshev.Chebyshev'> for duplicate reaction CO2(24) + C3H4-A(167) <=> CO2(24) + C3H4-P(169). Not combining reactions.\n",
      "WARNING:root:Unexpected kinetics type <class 'rmgpy.kinetics.chebyshev.Chebyshev'> for duplicate reaction O2(779) + C3H4-P(169) <=> O2(3) + C3H4-P(169). Not combining reactions.\n",
      "WARNING:root:Unexpected kinetics type <class 'rmgpy.kinetics.chebyshev.Chebyshev'> for duplicate reaction CO2(24) + C4H8-1(190) <=> CO2(24) + C4H8-2(191). Not combining reactions.\n",
      "WARNING:root:Unexpected kinetics type <class 'rmgpy.kinetics.chebyshev.Chebyshev'> for duplicate reaction CH2O(19) + C3H6(95) <=> CH3(13) + C3H5O(130). Not combining reactions.\n",
      "WARNING:root:Unexpected kinetics type <class 'rmgpy.kinetics.chebyshev.Chebyshev'> for duplicate reaction O2(779) + C2H3CHO(75) <=> O2(3) + C2H3CHO(75). Not combining reactions.\n",
      "WARNING:root:Unexpected kinetics type <class 'rmgpy.kinetics.chebyshev.Chebyshev'> for duplicate reaction O2(779) + C2H3CHO(75) <=> O2(3) + C2H3CHO(75). Not combining reactions.\n",
      "WARNING:root:Unexpected kinetics type <class 'rmgpy.kinetics.chebyshev.Chebyshev'> for duplicate reaction O2(779) + C2H3CHO(75) <=> O2(3) + C2H3CHO(75). Not combining reactions.\n",
      "WARNING:root:Unexpected kinetics type <class 'rmgpy.kinetics.chebyshev.Chebyshev'> for duplicate reaction O2(779) + C2H3CHO(75) <=> O2(3) + C2H3CHO(75). Not combining reactions.\n",
      "WARNING:root:Unexpected kinetics type <class 'rmgpy.kinetics.chebyshev.Chebyshev'> for duplicate reaction O2(779) + C2H3CHO(75) <=> O2(3) + C2H3CHO(75). Not combining reactions.\n",
      "WARNING:root:Unexpected kinetics type <class 'rmgpy.kinetics.chebyshev.Chebyshev'> for duplicate reaction O2(779) + C2H3CHO(75) <=> O2(3) + C2H3CHO(75). Not combining reactions.\n",
      "WARNING:root:Unexpected kinetics type <class 'rmgpy.kinetics.chebyshev.Chebyshev'> for duplicate reaction HO2(10) + C2H3CHO(75) <=> CO(22) + C2H5O2(48). Not combining reactions.\n",
      "WARNING:root:Unexpected kinetics type <class 'rmgpy.kinetics.chebyshev.Chebyshev'> for duplicate reaction HOCHO(41) + C2H3CHO(75) <=> OCHO(39) + C3H5O(130). Not combining reactions.\n",
      "WARNING:root:Unexpected kinetics type <class 'rmgpy.kinetics.chebyshev.Chebyshev'> for duplicate reaction O2(779) + C3H3(66) <=> O2(3) + C3H3(66). Not combining reactions.\n",
      "WARNING:root:Unexpected kinetics type <class 'rmgpy.kinetics.chebyshev.Chebyshev'> for duplicate reaction O2(779) + C3H3(66) <=> O2(3) + C3H3(66). Not combining reactions.\n",
      "WARNING:root:Unexpected kinetics type <class 'rmgpy.kinetics.chebyshev.Chebyshev'> for duplicate reaction O2(779) + C3H3(66) <=> O2(3) + C3H3(66). Not combining reactions.\n",
      "WARNING:root:Unexpected kinetics type <class 'rmgpy.kinetics.chebyshev.Chebyshev'> for duplicate reaction O2(779) + CH2CF2(702) <=> O2(3) + CH2CF2(702). Not combining reactions.\n",
      "WARNING:root:Unexpected kinetics type <class 'rmgpy.kinetics.chebyshev.Chebyshev'> for duplicate reaction HO2(10) + CH2CF2(702) <=> CF2(688) + CH3O2(46). Not combining reactions.\n",
      "WARNING:root:Unexpected kinetics type <class 'rmgpy.kinetics.chebyshev.Chebyshev'> for duplicate reaction HO2(10) + CH2CF2(702) <=> [O]OC(F)F(891) + CH2(S)(30). Not combining reactions.\n",
      "WARNING:root:Unexpected kinetics type <class 'rmgpy.kinetics.chebyshev.Chebyshev'> for duplicate reaction O2(779) + CF2O(694) <=> O(6) + FC1(F)OO1(2748). Not combining reactions.\n",
      "WARNING:root:Unexpected kinetics type <class 'rmgpy.kinetics.chebyshev.Chebyshev'> for duplicate reaction CO2(24) + C2H3CHO(75) <=> CO2(24) + CH3CHCO(131). Not combining reactions.\n",
      "WARNING:root:Unexpected kinetics type <class 'rmgpy.kinetics.chebyshev.Chebyshev'> for duplicate reaction O2(779) + CH3CHCO(131) <=> O2(3) + CH3CHCO(131). Not combining reactions.\n",
      "WARNING:root:Unexpected kinetics type <class 'rmgpy.kinetics.chebyshev.Chebyshev'> for duplicate reaction O2(779) + CH3CHCO(131) <=> O2(3) + CH3CHCO(131). Not combining reactions.\n",
      "WARNING:root:Unexpected kinetics type <class 'rmgpy.kinetics.chebyshev.Chebyshev'> for duplicate reaction O2(779) + CH3CHCO(131) <=> O2(3) + CH3CHCO(131). Not combining reactions.\n",
      "WARNING:root:Unexpected kinetics type <class 'rmgpy.kinetics.chebyshev.Chebyshev'> for duplicate reaction HO2(10) + CH3CHCO(131) <=> CO(22) + C2H5O2(48). Not combining reactions.\n",
      "WARNING:root:Unexpected kinetics type <class 'rmgpy.kinetics.chebyshev.Chebyshev'> for duplicate reaction O2(779) + CHFCF2(700) <=> O2(3) + CHFCF2(700). Not combining reactions.\n",
      "WARNING:root:Unexpected kinetics type <class 'rmgpy.kinetics.chebyshev.Chebyshev'> for duplicate reaction HO2(10) + CHFCF2(700) <=> CHF(686) + [O]OC(F)F(891). Not combining reactions.\n",
      "WARNING:root:Unexpected kinetics type <class 'rmgpy.kinetics.chebyshev.Chebyshev'> for duplicate reaction O2(779) + C4H71-3(192) <=> O2(3) + C4H71-3(192). Not combining reactions.\n",
      "WARNING:root:Unexpected kinetics type <class 'rmgpy.kinetics.chebyshev.Chebyshev'> for duplicate reaction O2(779) + C4H71-3(192) <=> O2(3) + C4H71-3(192). Not combining reactions.\n",
      "WARNING:root:Unexpected kinetics type <class 'rmgpy.kinetics.chebyshev.Chebyshev'> for duplicate reaction O2(779) + C4H71-3(192) <=> O2(3) + C4H71-3(192). Not combining reactions.\n"
     ]
    }
   ],
   "source": [
    "#preliminary model \n",
    "pre_RMG_chem = full_path + 'projects/PFAS/models/C3H8_CH2F2/C3H8_CH2F2/second_try_on_rebase/chemkin/copies/copy_98_chem_annotated.inp'\n",
    "pre_RMG_dict = full_path + 'projects/PFAS/models/C3H8_CH2F2/C3H8_CH2F2/second_try_on_rebase/chemkin/species_dictionary.txt'\n",
    "pre_RMG_trans = full_path + 'projects/PFAS/models/C3H8_CH2F2/C3H8_CH2F2/second_try_on_rebase/chemkin/tran.dat'\n",
    "\n",
    "pre_species_list, pre_reaction_list = rmgpy.chemkin.load_chemkin_file(pre_RMG_chem, dictionary_path=pre_RMG_dict, transport_path=pre_RMG_trans)\n",
    "\n",
    "#current model\n",
    "\n",
    "curr_RMG_chem = full_path + 'projects/PFAS/ESSCI/models/RMG/H_F_families_only/chemkin/chem0085.inp'\n",
    "curr_RMG_dict = full_path + 'projects/PFAS/ESSCI/models/RMG/H_F_families_only/chemkin/species_dictionary.txt'\n",
    "curr_RMG_trans = full_path + 'projects/PFAS/ESSCI/models/RMG/H_F_families_only/chemkin/tran.dat'\n",
    "\n",
    "curr_species_list, curr_reaction_list = rmgpy.chemkin.load_chemkin_file(curr_RMG_chem, dictionary_path=curr_RMG_dict, transport_path=curr_RMG_trans)"
   ]
  }
 ],
 "metadata": {
  "kernelspec": {
   "display_name": "rmg_env",
   "language": "python",
   "name": "rmg_env"
  },
  "language_info": {
   "codemirror_mode": {
    "name": "ipython",
    "version": 3
   },
   "file_extension": ".py",
   "mimetype": "text/x-python",
   "name": "python",
   "nbconvert_exporter": "python",
   "pygments_lexer": "ipython3",
   "version": "3.7.16"
  }
 },
 "nbformat": 4,
 "nbformat_minor": 5
}
