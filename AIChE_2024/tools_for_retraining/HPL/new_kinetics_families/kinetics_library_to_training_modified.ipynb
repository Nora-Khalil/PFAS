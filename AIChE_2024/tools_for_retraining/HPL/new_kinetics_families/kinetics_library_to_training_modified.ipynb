{
 "cells": [
  {
   "cell_type": "markdown",
   "metadata": {},
   "source": [
    "# Convert Kinetics Library to Training Reactions Script\n",
    "\n",
    "Specify the kinetics library name below and run the script.  It automatically overwrites the training reactions files it needs to.  Then you should commit those files.\n",
    "\n",
    "This script only trains safely.  In other words, if a single match from an RMG family is found, a training reaction is created.  Sometimes, there are no matches from RMG reaction families, or multiple matches.  This indicates an error that requires manual fixing, and a printout is given in the script."
   ]
  },
  {
   "cell_type": "code",
   "execution_count": 1,
   "metadata": {},
   "outputs": [],
   "source": [
    "# Set libraries to load reactions from; set to None to load all libraries\n",
    "# libraries = ['PFAS_HPL']\n",
    "libraries = ['PFAS_HPL_Test']\n",
    "# Set families to add training reactions to; either 'default' or a list, e.g. ['R_Addition_MultipleBond']\n",
    "families = ['CF_Radical_Formation_1', 'OF_Radical_Formation', 'Lactone_to_Perfluoroalkene', 'CO2_Elimination_From_Lactone', 'CO2_Elimination_From_Carboxylic_Acid', 'CO2_Elimination_From_Lactone_Ether', 'CO_Elimination_From_Lactone', 'CO_CF_bond_dissociation', 'PFAS_Hydrolysis', 'Lactone_Formation', 'CO2_Elimination_From_PFCA_Radical']\n",
    "\n",
    "# Specify whether to plot kinetics comparisons\n",
    "compare_kinetics = False\n",
    "\n",
    "# Specify whether to print library reactions which don't fit in the specified families\n",
    "# This can result in a lot of unnecessary output if only using a few families\n",
    "show_all = False\n",
    "\n",
    "# Specify whether to prioritize aromatic resonance structures to reduce cases of multiple matches\n",
    "filter_aromatic = True\n",
    "\n",
    "# Specify whether to use verbose comments when averaging tree\n",
    "verbose_comments = True"
   ]
  },
  {
   "cell_type": "code",
   "execution_count": 2,
   "metadata": {},
   "outputs": [],
   "source": [
    "from rmgpy import settings\n",
    "from rmgpy.data.rmg import RMGDatabase\n",
    "from kinetics_library_to_training_tools_modified import *\n",
    "import kinetics_library_to_training_tools_modified# import process_reactions\n",
    "from base64 import b64encode\n",
    "from IPython.display import display, HTML\n"
   ]
  },
  {
   "cell_type": "code",
   "execution_count": null,
   "metadata": {},
   "outputs": [],
   "source": [
    "from importlib import reload"
   ]
  },
  {
   "cell_type": "code",
   "execution_count": 3,
   "metadata": {},
   "outputs": [],
   "source": [
    "thermolibs = [\n",
    "'C1_C2_Fluorine', #putting Siddha's as most trusted because Caroline used this thermo for calcs\n",
    "'PFCA_thermo',\n",
    "'NCSU_C2_C8_PFAS', #using this as second trusted thermo because has good estimates for higher C pfas\n",
    "'Fluorine',\n",
    "'primaryThermoLibrary',\n",
    "'FFCM1(-)',\n",
    "'halogens',\n",
    "'CHOF_G4',\n",
    "'CHOCl_G4',\n",
    "'CHOBr_G4',\n",
    "'CHOFCl_G4',\n",
    "'CHOFBr_G4',\n",
    "'CHOFClBr_G4',\n",
    "'DFT_QCI_thermo',\n",
    "'2-BTP_G4',\n",
    "'thermo_DFT_CCSDTF12_BAC',\n",
    "'SulfurHaynes'\n",
    "]"
   ]
  },
  {
   "cell_type": "markdown",
   "metadata": {},
   "source": [
    "\n",
    "## Step 1: Load RMG-database with specified libraries and families"
   ]
  },
  {
   "cell_type": "code",
   "execution_count": 4,
   "metadata": {},
   "outputs": [],
   "source": [
    "database = RMGDatabase()\n",
    "database.load(\n",
    "    path = settings['database.directory'],\n",
    "    thermo_libraries = thermolibs,  # Can add others if necessary\n",
    "    kinetics_families = families,\n",
    "    reaction_libraries = libraries,\n",
    "    kinetics_depositories = ['training'],\n",
    ")\n",
    "# If we want accurate kinetics comparison, add existing training reactions and fill tree by averaging\n",
    "if compare_kinetics:\n",
    "    for family in database.kinetics.families.values():\n",
    "        if not family.auto_generated:\n",
    "            family.add_rules_from_training(thermo_database=database.thermo)\n",
    "            family.fill_rules_by_averaging_up(verbose=verbose_comments)"
   ]
  },
  {
   "cell_type": "code",
   "execution_count": 5,
   "metadata": {},
   "outputs": [
    {
     "data": {
      "text/plain": [
       "dict_keys(['CF_Radical_Formation_1', 'CO2_Elimination_From_Carboxylic_Acid', 'CO2_Elimination_From_Lactone', 'CO2_Elimination_From_Lactone_Ether', 'CO2_Elimination_From_PFCA_Radical', 'CO_CF_bond_dissociation', 'CO_Elimination_From_Lactone', 'Lactone_Formation', 'Lactone_to_Perfluoroalkene', 'OF_Radical_Formation', 'PFAS_Hydrolysis'])"
      ]
     },
     "execution_count": 5,
     "metadata": {},
     "output_type": "execute_result"
    }
   ],
   "source": [
    "database.kinetics.families.keys()"
   ]
  },
  {
   "cell_type": "markdown",
   "metadata": {},
   "source": [
    "## Step 2a: Generate library reactions from families to get proper labels"
   ]
  },
  {
   "cell_type": "code",
   "execution_count": null,
   "metadata": {},
   "outputs": [],
   "source": [
    "reload(kinetics_library_to_training_tools_modified)"
   ]
  },
  {
   "cell_type": "code",
   "execution_count": 6,
   "metadata": {
    "scrolled": true,
    "tags": []
   },
   "outputs": [
    {
     "name": "stdout",
     "output_type": "stream",
     "text": [
      "[Species(label=\"CF2H\", molecule=[Molecule(smiles=\"F[CH]F\")], molecular_weight=(51.0154,'amu'))] [Species(label=\"CF\", molecule=[Molecule(smiles=\"[C]F\")], molecular_weight=(31.009,'amu')), Species(label=\"HF\", molecule=[Molecule(smiles=\"F\")], molecular_weight=(20.0064,'amu'))]\n"
     ]
    }
   ],
   "source": [
    "master_dict, multiple_dict, lib_fam_rxn_dict = kinetics_library_to_training_tools_modified.process_reactions(database,\n",
    "                                               libraries,\n",
    "                                               list(database.kinetics.families.keys()),\n",
    "                                               compare_kinetics=compare_kinetics,\n",
    "                                               show_all=show_all,\n",
    "                                               filter_aromatic=filter_aromatic)"
   ]
  },
  {
   "cell_type": "code",
   "execution_count": 7,
   "metadata": {},
   "outputs": [
    {
     "ename": "KeyError",
     "evalue": "'PFAS_HPL'",
     "output_type": "error",
     "traceback": [
      "\u001b[0;31m---------------------------------------------------------------------------\u001b[0m",
      "\u001b[0;31mKeyError\u001b[0m                                  Traceback (most recent call last)",
      "\u001b[0;32m/tmp/ipykernel_16719/1395834122.py\u001b[0m in \u001b[0;36m<module>\u001b[0;34m\u001b[0m\n\u001b[0;32m----> 1\u001b[0;31m \u001b[0mmaster_dict\u001b[0m\u001b[0;34m[\u001b[0m\u001b[0;34m'PFAS_HPL'\u001b[0m\u001b[0;34m]\u001b[0m\u001b[0;34m.\u001b[0m\u001b[0mkeys\u001b[0m\u001b[0;34m(\u001b[0m\u001b[0;34m)\u001b[0m\u001b[0;34m\u001b[0m\u001b[0;34m\u001b[0m\u001b[0m\n\u001b[0m",
      "\u001b[0;31mKeyError\u001b[0m: 'PFAS_HPL'"
     ]
    }
   ],
   "source": [
    "master_dict['PFAS_HPL'].keys()"
   ]
  },
  {
   "cell_type": "code",
   "execution_count": null,
   "metadata": {},
   "outputs": [],
   "source": [
    "reaction_dict = master_dict['PFAS_HPL']"
   ]
  },
  {
   "cell_type": "code",
   "execution_count": null,
   "metadata": {
    "scrolled": true,
    "tags": []
   },
   "outputs": [],
   "source": [
    "#these were the ones that were matched: \n",
    "matched_families = list(master_dict['PFAS_HPL'].keys())\n",
    "\n",
    "for fmly in matched_families: \n",
    "    family_name = fmly\n",
    "    analyze_per_family(family_name, lib_fam_rxn_dict, reaction_dict, database, compare_kinetics=False)\n",
    "    "
   ]
  },
  {
   "cell_type": "code",
   "execution_count": null,
   "metadata": {
    "scrolled": true,
    "tags": []
   },
   "outputs": [],
   "source": [
    "#these are the reactions that were unmatched\n",
    "unmatched, matched = pick_out_unmatched_rxns(database, libraries, list(database.kinetics.families.keys()))"
   ]
  },
  {
   "cell_type": "code",
   "execution_count": null,
   "metadata": {},
   "outputs": [],
   "source": [
    "print(len(matched), len(unmatched))"
   ]
  },
  {
   "cell_type": "code",
   "execution_count": null,
   "metadata": {},
   "outputs": [],
   "source": []
  },
  {
   "cell_type": "code",
   "execution_count": null,
   "metadata": {
    "scrolled": true,
    "tags": []
   },
   "outputs": [],
   "source": [
    "family_name = 'OF_Radical_Formation'\n",
    "analyze_per_family(family_name, lib_fam_rxn_dict, reaction_dict, database, compare_kinetics=False)"
   ]
  },
  {
   "cell_type": "code",
   "execution_count": null,
   "metadata": {},
   "outputs": [],
   "source": []
  },
  {
   "cell_type": "code",
   "execution_count": null,
   "metadata": {},
   "outputs": [],
   "source": [
    "family_name = 'Lactone_Formation'\n",
    "analyze_per_family(family_name, lib_fam_rxn_dict, reaction_dict, database, compare_kinetics=False)"
   ]
  },
  {
   "cell_type": "code",
   "execution_count": null,
   "metadata": {},
   "outputs": [],
   "source": []
  },
  {
   "cell_type": "code",
   "execution_count": null,
   "metadata": {
    "tags": []
   },
   "outputs": [],
   "source": [
    "family_name = '1,2_Insertion_carbene'\n",
    "analyze_per_family(family_name, lib_fam_rxn_dict, reaction_dict, database, compare_kinetics=True)\n"
   ]
  },
  {
   "cell_type": "code",
   "execution_count": null,
   "metadata": {
    "tags": []
   },
   "outputs": [],
   "source": [
    "family_name = 'R_Addition_MultipleBond'\n",
    "analyze_per_family(family_name, lib_fam_rxn_dict, reaction_dict, database, compare_kinetics=True)\n"
   ]
  },
  {
   "cell_type": "code",
   "execution_count": null,
   "metadata": {
    "tags": []
   },
   "outputs": [],
   "source": [
    "family_name = 'XY_Addition_MultipleBond'\n",
    "analyze_per_family(family_name, lib_fam_rxn_dict, reaction_dict, database, compare_kinetics=True)\n"
   ]
  },
  {
   "cell_type": "code",
   "execution_count": null,
   "metadata": {
    "tags": []
   },
   "outputs": [],
   "source": [
    "family_name = 'Singlet_Carbene_Intra_Disproportionation'\n",
    "analyze_per_family(family_name, lib_fam_rxn_dict, reaction_dict, database, compare_kinetics=True)\n"
   ]
  },
  {
   "cell_type": "code",
   "execution_count": null,
   "metadata": {
    "tags": []
   },
   "outputs": [],
   "source": [
    "family_name = '1,2_Insertion_CO'\n",
    "analyze_per_family(family_name, lib_fam_rxn_dict, reaction_dict, database, compare_kinetics=True)\n"
   ]
  },
  {
   "cell_type": "code",
   "execution_count": null,
   "metadata": {
    "tags": []
   },
   "outputs": [],
   "source": [
    "family_name = '1+2_Cycloaddition'\n",
    "analyze_per_family(family_name, lib_fam_rxn_dict, reaction_dict, database, compare_kinetics=True)\n"
   ]
  },
  {
   "cell_type": "code",
   "execution_count": null,
   "metadata": {},
   "outputs": [],
   "source": [
    "family_name = '1,3_Insertion_CO2'\n",
    "analyze_per_family(family_name, lib_fam_rxn_dict, reaction_dict, database, compare_kinetics=True)\n"
   ]
  },
  {
   "cell_type": "code",
   "execution_count": null,
   "metadata": {},
   "outputs": [],
   "source": [
    "family_name = '1,3_sigmatropic_rearrangement'\n",
    "analyze_per_family(family_name, lib_fam_rxn_dict, reaction_dict, database, compare_kinetics=True)\n"
   ]
  },
  {
   "cell_type": "code",
   "execution_count": null,
   "metadata": {},
   "outputs": [],
   "source": []
  },
  {
   "cell_type": "code",
   "execution_count": null,
   "metadata": {},
   "outputs": [],
   "source": [
    "#find the reactions without matches and save them to a file\n"
   ]
  },
  {
   "cell_type": "markdown",
   "metadata": {},
   "source": [
    "## Step 2b (optional): Review and select reactions to be added"
   ]
  },
  {
   "cell_type": "code",
   "execution_count": null,
   "metadata": {},
   "outputs": [],
   "source": [
    "review_reactions(master_dict, prompt=True)"
   ]
  },
  {
   "cell_type": "markdown",
   "metadata": {},
   "source": [
    "## Step 2c (optional): Manual processing for reactions with multiple matches"
   ]
  },
  {
   "cell_type": "code",
   "execution_count": null,
   "metadata": {},
   "outputs": [],
   "source": [
    "manual_selection(master_dict, multiple_dict, database)"
   ]
  },
  {
   "cell_type": "markdown",
   "metadata": {},
   "source": [
    "## Step 2d: Final review of reactions to be added"
   ]
  },
  {
   "cell_type": "code",
   "execution_count": null,
   "metadata": {},
   "outputs": [],
   "source": [
    "review_reactions(master_dict, prompt=False)"
   ]
  },
  {
   "cell_type": "markdown",
   "metadata": {},
   "source": [
    "## Step 3: Write the new training reactions to the database"
   ]
  },
  {
   "cell_type": "code",
   "execution_count": null,
   "metadata": {
    "tags": []
   },
   "outputs": [],
   "source": [
    "for library_name, reaction_dict in master_dict.items():\n",
    "    library = database.kinetics.libraries[library_name]\n",
    "    \n",
    "    for family_name, reaction_list in reaction_dict.items():\n",
    "        print('Adding training reactions from {0} to {1}...'.format(library_name, family_name))\n",
    "\n",
    "        family = database.kinetics.families[family_name]\n",
    "        try:\n",
    "            depository = family.get_training_depository()\n",
    "        except:\n",
    "            raise Exception('Unable to find training depository in {0}. Check that one exists.'.format(family_name))\n",
    "\n",
    "        print('Training depository previously had {} rxns. Now adding {} new rxn(s).'.format(len(depository.entries), len(reaction_list)))\n",
    "\n",
    "        ref_list = []\n",
    "        type_list = []\n",
    "        short_list = []\n",
    "        long_list = []\n",
    "        \n",
    "        for reaction in reaction_list:\n",
    "            # Get the original entry to retrieve metadata\n",
    "            orig_entry = library.entries[reaction.index]\n",
    "            short_desc = orig_entry.short_desc\n",
    "            long_desc = 'Training reaction from kinetics library: {0}\\nOriginal entry: {1}'.format(library_name, orig_entry.label)\n",
    "            if orig_entry.long_desc:\n",
    "                long_desc += '\\n' + orig_entry.long_desc\n",
    "            \n",
    "            ref_list.append(orig_entry.reference)\n",
    "            type_list.append(orig_entry.reference_type)\n",
    "            short_list.append(short_desc)\n",
    "            long_list.append(long_desc)\n",
    "            \n",
    "        family.save_training_reactions(\n",
    "            reaction_list,\n",
    "            reference=ref_list,\n",
    "            reference_type=type_list,\n",
    "            short_desc=short_list,\n",
    "            long_desc=long_list,\n",
    "        )"
   ]
  },
  {
   "cell_type": "code",
   "execution_count": null,
   "metadata": {},
   "outputs": [],
   "source": []
  }
 ],
 "metadata": {
  "anaconda-cloud": {},
  "kernelspec": {
   "display_name": "rmg_env",
   "language": "python",
   "name": "rmg_env"
  },
  "language_info": {
   "codemirror_mode": {
    "name": "ipython",
    "version": 3
   },
   "file_extension": ".py",
   "mimetype": "text/x-python",
   "name": "python",
   "nbconvert_exporter": "python",
   "pygments_lexer": "ipython3",
   "version": "3.7.16"
  }
 },
 "nbformat": 4,
 "nbformat_minor": 4
}
