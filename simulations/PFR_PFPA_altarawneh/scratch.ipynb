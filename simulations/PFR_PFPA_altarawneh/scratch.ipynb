{
 "cells": [
  {
   "cell_type": "code",
   "execution_count": 4,
   "id": "b036c637-221b-4ed5-b1d6-165d91468cfe",
   "metadata": {},
   "outputs": [
    {
     "data": {
      "image/png": "[encoded data removed]",
      "text/plain": [
       "<Figure size 432x288 with 1 Axes>"
      ]
     },
     "metadata": {
      "needs_background": "light"
     },
     "output_type": "display_data"
    },
    {
     "data": {
      "text/plain": [
       "<Figure size 432x288 with 0 Axes>"
      ]
     },
     "metadata": {},
     "output_type": "display_data"
    },
    {
     "data": {
      "image/png": "[encoded data removed]",
      "text/plain": [
       "<Figure size 432x288 with 1 Axes>"
      ]
     },
     "metadata": {
      "needs_background": "light"
     },
     "output_type": "display_data"
    },
    {
     "data": {
      "text/plain": [
       "<Figure size 432x288 with 0 Axes>"
      ]
     },
     "metadata": {},
     "output_type": "display_data"
    }
   ],
   "source": [
    "# -*- coding: utf-8 -*-\n",
    "\"\"\"\n",
    "This example solves a plug-flow reactor problem of hydrogen-oxygen combustion.\n",
    "The PFR is computed by two approaches: The simulation of a Lagrangian fluid\n",
    "particle, and the simulation of a chain of reactors.\n",
    "\n",
    "Requires: cantera >= 2.5.0, matplotlib >= 2.0\n",
    "Keywords: combustion, reactor network, plug flow reactor\n",
    "\"\"\"\n",
    "\n",
    "import cantera as ct\n",
    "import numpy as np\n",
    "import matplotlib.pyplot as plt\n",
    "\n",
    "#######################################################################\n",
    "# Input Parameters\n",
    "#######################################################################\n",
    "\n",
    "T_0 = 1500.0  # inlet temperature [K]\n",
    "pressure = ct.one_atm  # constant pressure [Pa]\n",
    "composition_0 = 'H2:2, O2:1, AR:0.1'\n",
    "length = 1.5e-7  # *approximate* PFR length [m]\n",
    "u_0 = .006  # inflow velocity [m/s]\n",
    "area = 1.e-4  # cross-sectional area [m**2]\n",
    "\n",
    "# input file containing the reaction mechanism\n",
    "reaction_mechanism = 'h2o2.yaml'\n",
    "\n",
    "# Resolution: The PFR will be simulated by 'n_steps' time steps or by a chain\n",
    "# of 'n_steps' stirred reactors.\n",
    "n_steps = 2000\n",
    "#####################################################################\n",
    "\n",
    "\n",
    "#####################################################################\n",
    "# Method 1: Lagrangian Particle Simulation\n",
    "#####################################################################\n",
    "# A Lagrangian particle is considered which travels through the PFR. Its\n",
    "# state change is computed by upwind time stepping. The PFR result is produced\n",
    "# by transforming the temporal resolution into spatial locations.\n",
    "# The spatial discretization is therefore not provided a priori but is instead\n",
    "# a result of the transformation.\n",
    "\n",
    "# import the gas model and set the initial conditions\n",
    "gas1 = ct.Solution(reaction_mechanism)\n",
    "gas1.TPX = T_0, pressure, composition_0\n",
    "mass_flow_rate1 = u_0 * gas1.density * area\n",
    "\n",
    "# create a new reactor\n",
    "r1 = ct.IdealGasConstPressureReactor(gas1)\n",
    "# create a reactor network for performing time integration\n",
    "sim1 = ct.ReactorNet([r1])\n",
    "\n",
    "# approximate a time step to achieve a similar resolution as in the next method\n",
    "t_total = length / u_0\n",
    "dt = t_total / n_steps\n",
    "# define time, space, and other information vectors\n",
    "t1 = (np.arange(n_steps) + 1) * dt\n",
    "z1 = np.zeros_like(t1)\n",
    "u1 = np.zeros_like(t1)\n",
    "states1 = ct.SolutionArray(r1.thermo)\n",
    "for n1, t_i in enumerate(t1):\n",
    "    # perform time integration\n",
    "    sim1.advance(t_i)\n",
    "    # compute velocity and transform into space\n",
    "    u1[n1] = mass_flow_rate1 / area / r1.thermo.density\n",
    "    z1[n1] = z1[n1 - 1] + u1[n1] * dt\n",
    "    states1.append(r1.thermo.state)\n",
    "#####################################################################\n",
    "\n",
    "\n",
    "#####################################################################\n",
    "# Method 2: Chain of Reactors\n",
    "#####################################################################\n",
    "# The plug flow reactor is represented by a linear chain of zero-dimensional\n",
    "# reactors. The gas at the inlet to the first one has the specified inlet\n",
    "# composition, and for all others the inlet composition is fixed at the\n",
    "# composition of the reactor immediately upstream. Since in a PFR model there\n",
    "# is no diffusion, the upstream reactors are not affected by any downstream\n",
    "# reactors, and therefore the problem may be solved by simply marching from\n",
    "# the first to last reactor, integrating each one to steady state.\n",
    "# (This approach is anologous to the one presented in 'surf_pfr.py', which\n",
    "# additionally includes surface chemistry)\n",
    "\n",
    "\n",
    "# import the gas model and set the initial conditions\n",
    "gas2 = ct.Solution(reaction_mechanism)\n",
    "gas2.TPX = T_0, pressure, composition_0\n",
    "mass_flow_rate2 = u_0 * gas2.density * area\n",
    "dz = length / n_steps\n",
    "r_vol = area * dz\n",
    "\n",
    "# create a new reactor\n",
    "r2 = ct.IdealGasReactor(gas2)\n",
    "r2.volume = r_vol\n",
    "\n",
    "# create a reservoir to represent the reactor immediately upstream. Note\n",
    "# that the gas object is set already to the state of the upstream reactor\n",
    "upstream = ct.Reservoir(gas2, name='upstream')\n",
    "\n",
    "# create a reservoir for the reactor to exhaust into. The composition of\n",
    "# this reservoir is irrelevant.\n",
    "downstream = ct.Reservoir(gas2, name='downstream')\n",
    "\n",
    "# The mass flow rate into the reactor will be fixed by using a\n",
    "# MassFlowController object.\n",
    "m = ct.MassFlowController(upstream, r2, mdot=mass_flow_rate2)\n",
    "\n",
    "# We need an outlet to the downstream reservoir. This will determine the\n",
    "# pressure in the reactor. The value of K will only affect the transient\n",
    "# pressure difference.\n",
    "v = ct.PressureController(r2, downstream, master=m, K=1e-5)\n",
    "\n",
    "sim2 = ct.ReactorNet([r2])\n",
    "\n",
    "# define time, space, and other information vectors\n",
    "z2 = (np.arange(n_steps) + 1) * dz\n",
    "t_r2 = np.zeros_like(z2)  # residence time in each reactor\n",
    "u2 = np.zeros_like(z2)\n",
    "t2 = np.zeros_like(z2)\n",
    "states2 = ct.SolutionArray(r2.thermo)\n",
    "# iterate through the PFR cells\n",
    "for n in range(n_steps):\n",
    "    # Set the state of the reservoir to match that of the previous reactor\n",
    "    gas2.TDY = r2.thermo.TDY\n",
    "    upstream.syncState()\n",
    "    # integrate the reactor forward in time until steady state is reached\n",
    "    sim2.reinitialize()\n",
    "    sim2.advance_to_steady_state()\n",
    "    # compute velocity and transform into time\n",
    "    u2[n] = mass_flow_rate2 / area / r2.thermo.density\n",
    "    t_r2[n] = r2.mass / mass_flow_rate2  # residence time in this reactor\n",
    "    t2[n] = np.sum(t_r2)\n",
    "    # write output data\n",
    "    states2.append(r2.thermo.state)\n",
    "\n",
    "#####################################################################\n",
    "\n",
    "\n",
    "#####################################################################\n",
    "# Compare Results in matplotlib\n",
    "#####################################################################\n",
    "\n",
    "plt.figure()\n",
    "plt.plot(z1, states1.T, label='Lagrangian Particle')\n",
    "plt.plot(z2, states2.T, label='Reactor Chain')\n",
    "plt.xlabel('$z$ [m]')\n",
    "plt.ylabel('$T$ [K]')\n",
    "plt.legend(loc=0)\n",
    "plt.show()\n",
    "plt.savefig('pfr_T_z.png')\n",
    "\n",
    "plt.figure()\n",
    "# plt.plot(t1, states1.X[:, gas1.species_index('H2')], label='Lagrangian Particle')\n",
    "# plt.plot(t2, states2.X[:, gas2.species_index('H2')], label='Reactor Chain')\n",
    "plt.plot(states2.T, u2, label='Test')\n",
    "\n",
    "plt.xlabel('$T$ [K]')\n",
    "plt.ylabel('$X_{H_2}$ [-]')\n",
    "plt.legend(loc=0)\n",
    "plt.show()\n",
    "plt.savefig('pfr_XH2_t.png')"
   ]
  },
  {
   "cell_type": "code",
   "execution_count": 3,
   "id": "b714f8e4-a080-49c1-86e9-04c90c6e3ad1",
   "metadata": {},
   "outputs": [
    {
     "data": {
      "text/plain": [
       "array([0.006     , 0.006     , 0.006     , ..., 0.01071462, 0.01071525,\n",
       "       0.01071587])"
      ]
     },
     "execution_count": 3,
     "metadata": {},
     "output_type": "execute_result"
    }
   ],
   "source": [
    "u2"
   ]
  },
  {
   "cell_type": "code",
   "execution_count": null,
   "id": "6139b8ee-d487-4417-b31a-2e3f9bf0f443",
   "metadata": {},
   "outputs": [],
   "source": []
  },
  {
   "cell_type": "code",
   "execution_count": 4,
   "id": "edae78a0-7b86-4da5-abd9-d5671641550b",
   "metadata": {},
   "outputs": [
    {
     "data": {
      "text/plain": [
       "array([1499.99988179, 1499.99976326, 1499.99964452, ..., 3006.42712076,\n",
       "       3006.66786346, 3006.90835913])"
      ]
     },
     "execution_count": 4,
     "metadata": {},
     "output_type": "execute_result"
    }
   ],
   "source": [
    "states2.T"
   ]
  }
 ],
 "metadata": {
  "kernelspec": {
   "display_name": "cantera_env",
   "language": "python",
   "name": "cantera_env"
  },
  "language_info": {
   "codemirror_mode": {
    "name": "ipython",
    "version": 3
   },
   "file_extension": ".py",
   "mimetype": "text/x-python",
   "name": "python",
   "nbconvert_exporter": "python",
   "pygments_lexer": "ipython3",
   "version": "3.9.7"
  }
 },
 "nbformat": 4,
 "nbformat_minor": 5
}
