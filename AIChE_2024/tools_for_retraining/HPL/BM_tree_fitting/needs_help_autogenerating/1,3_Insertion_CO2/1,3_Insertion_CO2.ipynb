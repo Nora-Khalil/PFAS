{
 "cells": [
  {
   "cell_type": "code",
   "execution_count": 1,
   "metadata": {
    "scrolled": true
   },
   "outputs": [],
   "source": [
    "import rmgpy\n",
    "import numpy as np\n",
    "from rmgpy.molecule.molecule import *\n",
    "from rmgpy.species import *\n",
    "from rmgpy.chemkin import *\n",
    "from rmgpy.data.rmg import RMGDatabase\n",
    "from IPython.display import display\n",
    "from rmgpy.data.thermo import ThermoLibrary\n",
    "from rmgpy.rmg.react import react\n",
    "from rmgpy.species import Species\n",
    "from rmgpy.reaction import Reaction\n",
    "from rmgpy.data.rmg import get_db\n",
    "from rmgpy.molecule.group import Group\n",
    "from rmgpy.kinetics.arrhenius import ArrheniusBM\n",
    "from rmgpy import settings\n",
    "import time\n",
    "import matplotlib.pyplot as plt\n",
    "import matplotlib"
   ]
  },
  {
   "cell_type": "code",
   "execution_count": 2,
   "metadata": {},
   "outputs": [
    {
     "data": {
      "text/plain": [
       "{'database.directory': '/home/khalil.nor/Code/RMG-database/input',\n",
       " 'test_data.directory': '/home/khalil.nor/Code/RMG-Py/rmgpy/test_data'}"
      ]
     },
     "execution_count": 2,
     "metadata": {},
     "output_type": "execute_result"
    }
   ],
   "source": [
    "settings"
   ]
  },
  {
   "cell_type": "code",
   "execution_count": null,
   "metadata": {},
   "outputs": [],
   "source": [
    "#these families just had training rxns added to them \n",
    "\n",
    "#dict_keys(['1,2_Insertion_carbene', 'R_Addition_MultipleBond', 'XY_Addition_MultipleBond', 'Singlet_Carbene_Intra_Disproportionation', '1,2_Insertion_CO', '1+2_Cycloaddition', '1,3_Insertion_CO2', '1,3_sigmatropic_rearrangement'])"
   ]
  },
  {
   "cell_type": "code",
   "execution_count": 3,
   "metadata": {},
   "outputs": [],
   "source": [
    "thermo_libs = [\n",
    "'C1_C2_Fluorine', #adding Siddha's as first most trusted because this is the thermo library that Franklin used\n",
    "'NCSU_C2_C8_PFAS', #adding Westmoreland's thermo as the second most trusted\n",
    "'primaryThermoLibrary',\n",
    "'Fluorine',\n",
    "'FFCM1(-)',\n",
    "'halogens',\n",
    "'CHOF_G4',\n",
    "'CHOCl_G4',\n",
    "'CHOBr_G4',\n",
    "'CHOFCl_G4',\n",
    "'CHOFBr_G4',\n",
    "'CHOFClBr_G4',\n",
    "'DFT_QCI_thermo',\n",
    "'2-BTP_G4',\n",
    "'thermo_DFT_CCSDTF12_BAC',\n",
    "'SulfurHaynes'\n",
    "]\n",
    "\n",
    "kin_families = ['R_Recombination', '1,2_Insertion_carbene', 'F_Abstraction', 'R_Addition_MultipleBond', 'XY_Addition_MultipleBond', 'Singlet_Carbene_Intra_Disproportionation', 'Intra_R_Add_Endocyclic', 'R_Addition_COm', '1,2_Insertion_CO', '1+2_Cycloaddition', '1,3_Insertion_CO2', '1,3_sigmatropic_rearrangement']"
   ]
  },
  {
   "cell_type": "code",
   "execution_count": 4,
   "metadata": {
    "scrolled": true
   },
   "outputs": [
    {
     "name": "stdout",
     "output_type": "stream",
     "text": [
      "1 *1 [CO,CS,Cdd,N] u0 {2,D}\n",
      "2 *2 [O,N,S]       u0 {1,D}\n",
      "3 *3 C2s           u0 p1 {4,S} {5,S}\n",
      "4    [H,Val7]      u0 {3,S}\n",
      "5    [H,Val7]      u0 {3,S}\n",
      "\n",
      "1 *1 [Cd,Cdd,N] u0 {2,D}\n",
      "2 *2 [Cd,Cdd,N] u0 {1,D}\n",
      "3 *3 C2s        u0 p1 {4,S} {5,S}\n",
      "4    [H,Val7]   u0 {3,S}\n",
      "5    [H,Val7]   u0 {3,S}\n",
      "\n",
      "1 *1 [Ct,N]   u0 {2,T}\n",
      "2 *2 [Ct,N]   u0 {1,T}\n",
      "3 *3 C2s      u0 p1 {4,S} {5,S}\n",
      "4    [H,Val7] u0 {3,S}\n",
      "5    [H,Val7] u0 {3,S}\n",
      "\n",
      "1 *1 [CO,CS,Cdd,N] u0 {2,D}\n",
      "2 *2 [O,N,S]       u0 {1,D}\n",
      "3    Cs            u0 {4,S} {5,S} {6,S} {7,S}\n",
      "4 *3 C2s           u0 p1 {3,S} {8,S}\n",
      "5    [H,Val7]      u0 {3,S}\n",
      "6    [H,Val7]      u0 {3,S}\n",
      "7    [H,Val7]      u0 {3,S}\n",
      "8    [H,Val7]      u0 {4,S}\n",
      "\n",
      "1 *1 [Cd,Cdd,N] u0 {2,D}\n",
      "2 *2 [Cd,Cdd,N] u0 {1,D}\n",
      "3    Cs         u0 {4,S} {5,S} {6,S} {7,S}\n",
      "4 *3 C2s        u0 p1 {3,S} {8,S}\n",
      "5    [H,Val7]   u0 {3,S}\n",
      "6    [H,Val7]   u0 {3,S}\n",
      "7    [H,Val7]   u0 {3,S}\n",
      "8    [H,Val7]   u0 {4,S}\n",
      "\n",
      "1 *1 [Ct,N]   u0 {2,T}\n",
      "2 *2 [Ct,N]   u0 {1,T}\n",
      "3    Cs       u0 {4,S} {5,S} {6,S} {7,S}\n",
      "4 *3 C2s      u0 p1 {3,S} {8,S}\n",
      "5    [H,Val7] u0 {3,S}\n",
      "6    [H,Val7] u0 {3,S}\n",
      "7    [H,Val7] u0 {3,S}\n",
      "8    [H,Val7] u0 {4,S}\n",
      "\n",
      "1  *1 [CO,CS,Cdd,N] u0 {2,D}\n",
      "2  *2 [O,N,S]       u0 {1,D}\n",
      "3     Cs            u0 {5,S} {6,S} {7,S} {8,S}\n",
      "4     Cs            u0 {5,S} {9,S} {10,S} {11,S}\n",
      "5  *3 C2s           u0 p1 {3,S} {4,S}\n",
      "6     [H,Val7]      u0 {3,S}\n",
      "7     [H,Val7]      u0 {3,S}\n",
      "8     [H,Val7]      u0 {3,S}\n",
      "9     [H,Val7]      u0 {4,S}\n",
      "10    [H,Val7]      u0 {4,S}\n",
      "11    [H,Val7]      u0 {4,S}\n",
      "\n",
      "1  *1 [Cd,Cdd,N] u0 {2,D}\n",
      "2  *2 [Cd,Cdd,N] u0 {1,D}\n",
      "3     Cs         u0 {5,S} {6,S} {7,S} {8,S}\n",
      "4     Cs         u0 {5,S} {9,S} {10,S} {11,S}\n",
      "5  *3 C2s        u0 p1 {3,S} {4,S}\n",
      "6     [H,Val7]   u0 {3,S}\n",
      "7     [H,Val7]   u0 {3,S}\n",
      "8     [H,Val7]   u0 {3,S}\n",
      "9     [H,Val7]   u0 {4,S}\n",
      "10    [H,Val7]   u0 {4,S}\n",
      "11    [H,Val7]   u0 {4,S}\n",
      "\n",
      "1  *1 [Ct,N]   u0 {2,T}\n",
      "2  *2 [Ct,N]   u0 {1,T}\n",
      "3     Cs       u0 {5,S} {6,S} {7,S} {8,S}\n",
      "4     Cs       u0 {5,S} {9,S} {10,S} {11,S}\n",
      "5  *3 C2s      u0 p1 {3,S} {4,S}\n",
      "6     [H,Val7] u0 {3,S}\n",
      "7     [H,Val7] u0 {3,S}\n",
      "8     [H,Val7] u0 {3,S}\n",
      "9     [H,Val7] u0 {4,S}\n",
      "10    [H,Val7] u0 {4,S}\n",
      "11    [H,Val7] u0 {4,S}\n",
      "\n",
      "1  *1 [CO,CS,Cdd,N] u0 {2,D}\n",
      "2  *2 [O,N,S]       u0 {1,D}\n",
      "3  *3 C2s           u0 p1 {4,S} {5,S}\n",
      "4     Cb            u0 {3,S} {6,B} {7,B}\n",
      "5     [H,Val7]      u0 {3,S}\n",
      "6     Cb            u0 {4,B} {8,B}\n",
      "7     Cb            u0 {4,B} {9,B}\n",
      "8     Cb            u0 {6,B} {10,B}\n",
      "9     Cb            u0 {7,B} {10,B}\n",
      "10    Cb            u0 {8,B} {9,B}\n",
      "\n",
      "1  *1 [Cd,Cdd,N] u0 {2,D}\n",
      "2  *2 [Cd,Cdd,N] u0 {1,D}\n",
      "3  *3 C2s        u0 p1 {4,S} {5,S}\n",
      "4     Cb         u0 {3,S} {6,B} {7,B}\n",
      "5     [H,Val7]   u0 {3,S}\n",
      "6     Cb         u0 {4,B} {8,B}\n",
      "7     Cb         u0 {4,B} {9,B}\n",
      "8     Cb         u0 {6,B} {10,B}\n",
      "9     Cb         u0 {7,B} {10,B}\n",
      "10    Cb         u0 {8,B} {9,B}\n",
      "\n",
      "1  *1 [Ct,N]   u0 {2,T}\n",
      "2  *2 [Ct,N]   u0 {1,T}\n",
      "3  *3 C2s      u0 p1 {4,S} {5,S}\n",
      "4     Cb       u0 {3,S} {6,B} {7,B}\n",
      "5     [H,Val7] u0 {3,S}\n",
      "6     Cb       u0 {4,B} {8,B}\n",
      "7     Cb       u0 {4,B} {9,B}\n",
      "8     Cb       u0 {6,B} {10,B}\n",
      "9     Cb       u0 {7,B} {10,B}\n",
      "10    Cb       u0 {8,B} {9,B}\n",
      "\n",
      "1 *1 [CO,CS,Cdd,N] u0 {2,D}\n",
      "2 *2 [O,N,S]       u0 {1,D}\n",
      "3 *3 O             u0 p3 c0\n",
      "\n",
      "1 *1 [Cd,Cdd,N] u0 {2,D}\n",
      "2 *2 [Cd,Cdd,N] u0 {1,D}\n",
      "3 *3 O          u0 p3 c0\n",
      "\n",
      "1 *1 [Ct,N] u0 {2,T}\n",
      "2 *2 [Ct,N] u0 {1,T}\n",
      "3 *3 O      u0 p3 c0\n",
      "\n",
      "1 *1 [CO,CS,Cdd,N] u0 {2,D}\n",
      "2 *2 [O,N,S]       u0 {1,D}\n",
      "3 *3 S             u0 p3 c0\n",
      "\n",
      "1 *1 [Cd,Cdd,N] u0 {2,D}\n",
      "2 *2 [Cd,Cdd,N] u0 {1,D}\n",
      "3 *3 S          u0 p3 c0\n",
      "\n",
      "1 *1 [Ct,N] u0 {2,T}\n",
      "2 *2 [Ct,N] u0 {1,T}\n",
      "3 *3 S      u0 p3 c0\n",
      "\n",
      "1 *1 [CO,CS,Cdd,N] u0 {2,D}\n",
      "2 *2 [O,N,S]       u0 {1,D}\n",
      "3 *3 N1s           u0 p2 {4,S}\n",
      "4    H             u0 {3,S}\n",
      "\n",
      "1 *1 [Cd,Cdd,N] u0 {2,D}\n",
      "2 *2 [Cd,Cdd,N] u0 {1,D}\n",
      "3 *3 N1s        u0 p2 {4,S}\n",
      "4    H          u0 {3,S}\n",
      "\n",
      "1 *1 [Ct,N] u0 {2,T}\n",
      "2 *2 [Ct,N] u0 {1,T}\n",
      "3 *3 N1s    u0 p2 {4,S}\n",
      "4    H      u0 {3,S}\n",
      "\n",
      "1 *2 [H,Cs,Cd,Cb,Ct,CO,O,Sis,Sid,N,S]              u0 {2,S}\n",
      "2 *3 [H,F1s,Cl1s,Br1s,I1s,Cs,Cd,Cb,Ct,Sis,Sid,N,S] u0 {1,S}\n",
      "3 *1 C                                             u0 p1 c-1 {4,T}\n",
      "4 *4 [O,S]                                         u0 p1 c+1 {3,T}\n",
      "\n",
      "1 *1 C2s                                             u0 p1 {2,S} {3,S}\n",
      "2    [H,F1s,Cl1s,Br1s,I1s]                           u0 {1,S}\n",
      "3    [H,F1s,Cl1s,Br1s,I1s,C]                         u0 {1,S}\n",
      "4 *2 [H,F1s,Cl1s,Br1s,I1s,Cs,Cd,Cb,Ct,O,Sis,Sid,N,S] u0 {5,S}\n",
      "5 *3 [H,F1s,Cl1s,Br1s,I1s,Cs,Cd,Cb,Ct,Sis,Sid,N,S]   u0 {4,S}\n",
      "\n",
      "1 *1 Cdd       u0 {2,D} {5,D}\n",
      "2 *2 [O2d,S2d] u0 {1,D}\n",
      "3 *3 R         u0 {4,D}\n",
      "4 *4 R         u0 {3,D}\n",
      "5    [O2d,S2d] u0 {1,D}\n",
      "\n",
      "1 *2 R!H u0 {2,[S,D,T,B]} {3,[D,T,B]}\n",
      "2 *1 R!H u1 {1,[S,D,T,B]}\n",
      "3 *3 R!H u0 c0 {1,[D,T,B]}\n",
      "\n",
      "1 *4 R!H ux {2,[S,D,T,B]} {3,[S,D,T,B]}\n",
      "2 *2 R!H u0 {1,[S,D,T,B]} {4,[D,T,B]}\n",
      "3 *1 R!H u1 {1,[S,D,T,B]}\n",
      "4 *3 R!H u0 c0 {2,[D,T,B]}\n",
      "\n",
      "1 *5 R!H ux {2,[S,D,T,B]} {3,[S,D,T,B]}\n",
      "2 *4 R!H ux {1,[S,D,T,B]} {4,[S,D,T,B]}\n",
      "3 *2 R!H u0 {1,[S,D,T,B]} {5,[D,T,B]}\n",
      "4 *1 R!H u1 {2,[S,D,T,B]}\n",
      "5 *3 R!H u0 c0 {3,[D,T,B]}\n",
      "\n",
      "1 *6 R!H ux {2,[S,D,T,B]} {3,[S,D,T,B]}\n",
      "2 *5 R!H ux {1,[S,D,T,B]} {4,[S,D,T,B]}\n",
      "3 *4 R!H ux {1,[S,D,T,B]} {5,[S,D,T,B]}\n",
      "4 *2 R!H u0 {2,[S,D,T,B]} {6,[D,T,B]}\n",
      "5 *1 R!H u1 {3,[S,D,T,B]}\n",
      "6 *3 R!H u0 c0 {4,[D,T,B]}\n",
      "\n",
      "1 *7 R!H ux {2,[S,D,T,B]} {3,[S,D,T,B]}\n",
      "2 *6 R!H ux {1,[S,D,T,B]} {4,[S,D,T,B]}\n",
      "3 *5 R!H ux {1,[S,D,T,B]} {5,[S,D,T,B]}\n",
      "4 *4 R!H ux {2,[S,D,T,B]} {6,[S,D,T,B]}\n",
      "5 *2 R!H u0 {3,[S,D,T,B]} {7,[D,T,B]}\n",
      "6 *1 R!H u1 {4,[S,D,T,B]}\n",
      "7 *3 R!H u0 c0 {5,[D,T,B]}\n",
      "\n",
      "1 *7 R!H ux {2,[S,D,T,B]} {3,[S,D,T,B]}\n",
      "2 *8 R!H ux {1,[S,D,T,B]} {4,[S,D,T,B]}\n",
      "3 *6 R!H ux {1,[S,D,T,B]} {5,[S,D,T,B]}\n",
      "4 *5 R!H ux {2,[S,D,T,B]} {6,[S,D,T,B]}\n",
      "5 *4 R!H ux {3,[S,D,T,B]} {7,[S,D,T,B]}\n",
      "6 *2 R!H u0 {4,[S,D,T,B]} {8,[D,T,B]}\n",
      "7 *1 R!H u1 {5,[S,D,T,B]}\n",
      "8 *3 R!H u0 c0 {6,[D,T,B]}\n",
      "\n",
      "1 *7 R!H ux {2,[S,D,T,B]} {4,[S,D,T,B]}\n",
      "2 *8 R!H ux {1,[S,D,T,B]} {3,[S,D,T,B]}\n",
      "3 *9 R!H ux {2,[S,D,T,B]} {5,[S,D,T,B]}\n",
      "4 *6 R!H ux {1,[S,D,T,B]} {6,[S,D,T,B]}\n",
      "5 *5 R!H ux {3,[S,D,T,B]} {7,[S,D,T,B]}\n",
      "6 *4 R!H ux {4,[S,D,T,B]} {8,[S,D,T,B]}\n",
      "7 *2 R!H u0 {5,[S,D,T,B]} {9,[D,T,B]}\n",
      "8 *1 R!H u1 {6,[S,D,T,B]}\n",
      "9 *3 R!H u0 c0 {7,[D,T,B]}\n",
      "\n",
      "1  *7  R!H ux {2,[S,D,T,B]} {5,[S,D,T,B]}\n",
      "2  *8  R!H ux {1,[S,D,T,B]} {3,[S,D,T,B]}\n",
      "3  *9  R!H ux {2,[S,D,T,B]} {4,[S,D,T,B]}\n",
      "4  *10 R!H ux {3,[S,D,T,B]} {6,[S,D,T,B]}\n",
      "5  *6  R!H ux {1,[S,D,T,B]} {7,[S,D,T,B]}\n",
      "6  *5  R!H ux {4,[S,D,T,B]} {8,[S,D,T,B]}\n",
      "7  *4  R!H ux {5,[S,D,T,B]} {9,[S,D,T,B]}\n",
      "8  *2  R!H u0 {6,[S,D,T,B]} {10,[D,T,B]}\n",
      "9  *1  R!H u1 {7,[S,D,T,B]}\n",
      "10 *3  R!H u0 c0 {8,[D,T,B]}\n",
      "\n",
      "1  *7  R!H ux {2,[S,D,T,B]} {6,[S,D,T,B]}\n",
      "2  *8  R!H ux {1,[S,D,T,B]} {3,[S,D,T,B]}\n",
      "3  *9  R!H ux {2,[S,D,T,B]} {4,[S,D,T,B]}\n",
      "4  *10 R!H ux {3,[S,D,T,B]} {5,[S,D,T,B]}\n",
      "5  *11 R!H ux {4,[S,D,T,B]} {7,[S,D,T,B]}\n",
      "6  *6  R!H ux {1,[S,D,T,B]} {8,[S,D,T,B]}\n",
      "7  *5  R!H ux {5,[S,D,T,B]} {9,[S,D,T,B]}\n",
      "8  *4  R!H ux {6,[S,D,T,B]} {10,[S,D,T,B]}\n",
      "9  *2  R!H u0 {7,[S,D,T,B]} {11,[D,T,B]}\n",
      "10 *1  R!H u1 {8,[S,D,T,B]}\n",
      "11 *3  R!H u0 c0 {9,[D,T,B]}\n",
      "\n",
      "1  *7  R!H ux {2,[S,D,T,B]} {7,[S,D,T,B]}\n",
      "2  *8  R!H ux {1,[S,D,T,B]} {3,[S,D,T,B]}\n",
      "3  *9  R!H ux {2,[S,D,T,B]} {4,[S,D,T,B]}\n",
      "4  *10 R!H ux {3,[S,D,T,B]} {5,[S,D,T,B]}\n",
      "5  *11 R!H ux {4,[S,D,T,B]} {6,[S,D,T,B]}\n",
      "6  *12 R!H ux {5,[S,D,T,B]} {8,[S,D,T,B]}\n",
      "7  *6  R!H ux {1,[S,D,T,B]} {9,[S,D,T,B]}\n",
      "8  *5  R!H ux {6,[S,D,T,B]} {10,[S,D,T,B]}\n",
      "9  *4  R!H ux {7,[S,D,T,B]} {11,[S,D,T,B]}\n",
      "10 *2  R!H u0 {8,[S,D,T,B]} {12,[D,T,B]}\n",
      "11 *1  R!H u1 {9,[S,D,T,B]}\n",
      "12 *3  R!H u0 c0 {10,[D,T,B]}\n",
      "\n",
      "1  *7  R!H ux {2,[S,D,T,B]} {8,[S,D,T,B]}\n",
      "2  *8  R!H ux {1,[S,D,T,B]} {3,[S,D,T,B]}\n",
      "3  *9  R!H ux {2,[S,D,T,B]} {4,[S,D,T,B]}\n",
      "4  *10 R!H ux {3,[S,D,T,B]} {5,[S,D,T,B]}\n",
      "5  *11 R!H ux {4,[S,D,T,B]} {6,[S,D,T,B]}\n",
      "6  *12 R!H ux {5,[S,D,T,B]} {7,[S,D,T,B]}\n",
      "7  *13 R!H ux {6,[S,D,T,B]} {9,[S,D,T,B]}\n",
      "8  *6  R!H ux {1,[S,D,T,B]} {10,[S,D,T,B]}\n",
      "9  *5  R!H ux {7,[S,D,T,B]} {11,[S,D,T,B]}\n",
      "10 *4  R!H ux {8,[S,D,T,B]} {12,[S,D,T,B]}\n",
      "11 *2  R!H u0 {9,[S,D,T,B]} {13,[D,T,B]}\n",
      "12 *1  R!H u1 {10,[S,D,T,B]}\n",
      "13 *3  R!H u0 c0 {11,[D,T,B]}\n",
      "\n",
      "1 *1 C2tc u0 p1 c-1 {2,T}\n",
      "2 *3 O4tc u0 p1 c+1 {1,T}\n",
      "3 *2 R    u1\n",
      "\n",
      "1 *1 R!H u0         {2,[D,T,B]}\n",
      "2 *2 R!H u0         {1,[D,T,B]}\n",
      "3 *3 R   u[1,2,3,4]\n",
      "\n",
      "1 * R u1\n",
      "2 * R u1\n",
      "\n",
      "1 *2 C                 u0 {2,S} {3,[S,D]}\n",
      "2 *3 [H,F1s,Cl1s,Br1s] u0 {1,S}\n",
      "3 *1 C                 u0 p1 c0 {1,[S,D]}\n",
      "\n",
      "1 *3 [H,F1s,Cl1s,Br1s]  u0 {2,S}\n",
      "2 *4 [F1s,Cl1s,Br1s]    u0 {1,S}\n",
      "3 *1 [Cd,Cdd,Ct,CO,O2d] u0 {4,[D,T]}\n",
      "4 *2 [Cd,Cdd,Ct,CO,O2d] u0 {3,[D,T]}\n",
      "\n"
     ]
    }
   ],
   "source": [
    "database = RMGDatabase()\n",
    "database.load(\n",
    "            path = settings['database.directory'],\n",
    "            thermo_libraries = thermo_libs,\n",
    "            transport_libraries = [],\n",
    "            reaction_libraries = [],\n",
    "            seed_mechanisms = [],#['BurkeH2O2inN2','ERC-FoundationFuelv0.9'],\n",
    "            kinetics_families = kin_families,\n",
    "            kinetics_depositories = ['training'],\n",
    "            #frequenciesLibraries = self.statmechLibraries,\n",
    "            depository = False, # Don't bother loading the depository information, as we don't use it\n",
    "        )\n"
   ]
  },
  {
   "cell_type": "code",
   "execution_count": null,
   "metadata": {},
   "outputs": [],
   "source": []
  },
  {
   "cell_type": "code",
   "execution_count": 5,
   "metadata": {},
   "outputs": [
    {
     "data": {
      "text/plain": [
       "{'1+2_Cycloaddition': <ReactionFamily \"1+2_Cycloaddition\">,\n",
       " '1,2_Insertion_CO': <ReactionFamily \"1,2_Insertion_CO\">,\n",
       " '1,2_Insertion_carbene': <ReactionFamily \"1,2_Insertion_carbene\">,\n",
       " '1,3_Insertion_CO2': <ReactionFamily \"1,3_Insertion_CO2\">,\n",
       " '1,3_sigmatropic_rearrangement': <ReactionFamily \"1,3_sigmatropic_rearrangement\">,\n",
       " 'F_Abstraction': <ReactionFamily \"F_Abstraction\">,\n",
       " 'Intra_R_Add_Endocyclic': <ReactionFamily \"Intra_R_Add_Endocyclic\">,\n",
       " 'R_Addition_COm': <ReactionFamily \"R_Addition_COm\">,\n",
       " 'R_Addition_MultipleBond': <ReactionFamily \"R_Addition_MultipleBond\">,\n",
       " 'R_Recombination': <ReactionFamily \"R_Recombination\">,\n",
       " 'Singlet_Carbene_Intra_Disproportionation': <ReactionFamily \"Singlet_Carbene_Intra_Disproportionation\">,\n",
       " 'XY_Addition_MultipleBond': <ReactionFamily \"XY_Addition_MultipleBond\">}"
      ]
     },
     "execution_count": 5,
     "metadata": {},
     "output_type": "execute_result"
    }
   ],
   "source": [
    "database.kinetics.families"
   ]
  },
  {
   "cell_type": "code",
   "execution_count": 6,
   "metadata": {},
   "outputs": [],
   "source": [
    "# '1,3_Insertion_CO2' \n",
    "family_to_train = \"1,3_Insertion_CO2\"\n",
    "family = database.kinetics.families[family_to_train]"
   ]
  },
  {
   "cell_type": "code",
   "execution_count": 7,
   "metadata": {},
   "outputs": [],
   "source": [
    "family.clean_tree()"
   ]
  },
  {
   "cell_type": "code",
   "execution_count": 8,
   "metadata": {
    "scrolled": true,
    "tags": []
   },
   "outputs": [
    {
     "name": "stdout",
     "output_type": "stream",
     "text": [
      "multiplicity -187\n",
      "1 *3 H u0 p0 c0 {2,S}\n",
      "2 *4 H u0 p0 c0 {1,S}\n",
      "3 *2 O u0 p2 c0 {5,D}\n",
      "4    O u0 p2 c0 {5,D}\n",
      "5 *1 C u0 p0 c0 {3,D} {4,D}\n",
      "\n",
      "multiplicity -187\n",
      "1 *3 C u0 p0 c0 {2,S} {3,S} {4,S} {5,S}\n",
      "2 *4 H u0 p0 c0 {1,S}\n",
      "3    H u0 p0 c0 {1,S}\n",
      "4    H u0 p0 c0 {1,S}\n",
      "5    H u0 p0 c0 {1,S}\n",
      "6 *2 O u0 p2 c0 {8,D}\n",
      "7    O u0 p2 c0 {8,D}\n",
      "8 *1 C u0 p0 c0 {6,D} {7,D}\n",
      "\n",
      "multiplicity -187\n",
      "1     C u0 p0 c0 {2,S} {3,S} {4,S} {5,S}\n",
      "2  *3 C u0 p0 c0 {1,S} {6,S} {7,S} {8,S}\n",
      "3     H u0 p0 c0 {1,S}\n",
      "4     H u0 p0 c0 {1,S}\n",
      "5     H u0 p0 c0 {1,S}\n",
      "6     H u0 p0 c0 {2,S}\n",
      "7  *4 H u0 p0 c0 {2,S}\n",
      "8     H u0 p0 c0 {2,S}\n",
      "9  *2 O u0 p2 c0 {11,D}\n",
      "10    O u0 p2 c0 {11,D}\n",
      "11 *1 C u0 p0 c0 {9,D} {10,D}\n",
      "\n",
      "multiplicity -187\n",
      "1  *3 C u0 p0 c0 {2,S} {3,S} {4,S} {5,S}\n",
      "2     C u0 p0 c0 {1,S} {6,S} {7,S} {8,S}\n",
      "3     C u0 p0 c0 {1,S} {9,S} {10,S} {11,S}\n",
      "4  *4 H u0 p0 c0 {1,S}\n",
      "5     H u0 p0 c0 {1,S}\n",
      "6     H u0 p0 c0 {2,S}\n",
      "7     H u0 p0 c0 {2,S}\n",
      "8     H u0 p0 c0 {2,S}\n",
      "9     H u0 p0 c0 {3,S}\n",
      "10    H u0 p0 c0 {3,S}\n",
      "11    H u0 p0 c0 {3,S}\n",
      "12 *2 O u0 p2 c0 {14,D}\n",
      "13    O u0 p2 c0 {14,D}\n",
      "14 *1 C u0 p0 c0 {12,D} {13,D}\n",
      "\n",
      "multiplicity -187\n",
      "1  *4 C u0 p0 c0 {2,S} {3,S} {4,S} {5,S}\n",
      "2     C u0 p0 c0 {1,S} {6,S} {7,S} {8,S}\n",
      "3  *3 C u0 p0 c0 {1,S} {9,S} {10,S} {11,S}\n",
      "4     H u0 p0 c0 {1,S}\n",
      "5     H u0 p0 c0 {1,S}\n",
      "6     H u0 p0 c0 {2,S}\n",
      "7     H u0 p0 c0 {2,S}\n",
      "8     H u0 p0 c0 {2,S}\n",
      "9     H u0 p0 c0 {3,S}\n",
      "10    H u0 p0 c0 {3,S}\n",
      "11    H u0 p0 c0 {3,S}\n",
      "12 *1 O u0 p2 c0 {14,D}\n",
      "13    O u0 p2 c0 {14,D}\n",
      "14 *2 C u0 p0 c0 {12,D} {13,D}\n",
      "\n",
      "multiplicity -187\n",
      "1    F u0 p3 c0 {6,S}\n",
      "2    F u0 p3 c0 {6,S}\n",
      "3    F u0 p3 c0 {6,S}\n",
      "4 *2 O u0 p2 c0 {7,S} {8,S}\n",
      "5    O u0 p2 c0 {7,D}\n",
      "6 *3 C u0 p0 c0 {1,S} {2,S} {3,S} {7,S}\n",
      "7 *1 C u0 p0 c0 {4,S} {5,D} {6,S}\n",
      "8 *4 H u0 p0 c0 {4,S}\n",
      "\n"
     ]
    },
    {
     "ename": "InvalidActionError",
     "evalue": "Attempted to remove a nonexistent bond.",
     "output_type": "error",
     "traceback": [
      "\u001b[0;31m---------------------------------------------------------------------------\u001b[0m",
      "\u001b[0;31mInvalidActionError\u001b[0m                        Traceback (most recent call last)",
      "\u001b[0;32m/tmp/ipykernel_2532/342437422.py\u001b[0m in \u001b[0;36m<module>\u001b[0;34m\u001b[0m\n\u001b[1;32m      5\u001b[0m                      \u001b[0mmax_batch_size\u001b[0m\u001b[0;34m=\u001b[0m\u001b[0;36m800\u001b[0m\u001b[0;34m,\u001b[0m\u001b[0;34m\u001b[0m\u001b[0;34m\u001b[0m\u001b[0m\n\u001b[1;32m      6\u001b[0m                      \u001b[0mextension_iter_max\u001b[0m\u001b[0;34m=\u001b[0m\u001b[0;36m2\u001b[0m\u001b[0;34m,\u001b[0m\u001b[0;34m\u001b[0m\u001b[0;34m\u001b[0m\u001b[0m\n\u001b[0;32m----> 7\u001b[0;31m                      extension_iter_item_cap=100)\n\u001b[0m\u001b[1;32m      8\u001b[0m \u001b[0;34m\u001b[0m\u001b[0m\n\u001b[1;32m      9\u001b[0m \u001b[0mend\u001b[0m \u001b[0;34m=\u001b[0m \u001b[0mtime\u001b[0m\u001b[0;34m.\u001b[0m\u001b[0mtime\u001b[0m\u001b[0;34m(\u001b[0m\u001b[0;34m)\u001b[0m\u001b[0;34m\u001b[0m\u001b[0;34m\u001b[0m\u001b[0m\n",
      "\u001b[0;32m~/Code/RMG-Py/rmgpy/data/kinetics/family.py\u001b[0m in \u001b[0;36mgenerate_tree\u001b[0;34m(self, rxns, obj, thermo_database, T, nprocs, min_splitable_entry_num, min_rxns_to_spawn, max_batch_size, outlier_fraction, stratum_num, new_fraction_threshold_to_reopt_node, extension_iter_max, extension_iter_item_cap)\u001b[0m\n\u001b[1;32m   3383\u001b[0m         \u001b[0;32mif\u001b[0m \u001b[0mrxns\u001b[0m \u001b[0;32mis\u001b[0m \u001b[0;32mNone\u001b[0m\u001b[0;34m:\u001b[0m\u001b[0;34m\u001b[0m\u001b[0;34m\u001b[0m\u001b[0m\n\u001b[1;32m   3384\u001b[0m             rxns = self.get_training_set(thermo_database=thermo_database, remove_degeneracy=True, estimate_thermo=True,\n\u001b[0;32m-> 3385\u001b[0;31m                                          fix_labels=True, get_reverse=True)\n\u001b[0m\u001b[1;32m   3386\u001b[0m \u001b[0;34m\u001b[0m\u001b[0m\n\u001b[1;32m   3387\u001b[0m         \u001b[0;32mif\u001b[0m \u001b[0mlen\u001b[0m\u001b[0;34m(\u001b[0m\u001b[0mrxns\u001b[0m\u001b[0;34m)\u001b[0m \u001b[0;34m<=\u001b[0m \u001b[0mmax_batch_size\u001b[0m\u001b[0;34m:\u001b[0m\u001b[0;34m\u001b[0m\u001b[0;34m\u001b[0m\u001b[0m\n",
      "\u001b[0;32m~/Code/RMG-Py/rmgpy/data/kinetics/family.py\u001b[0m in \u001b[0;36mget_training_set\u001b[0;34m(self, thermo_database, remove_degeneracy, estimate_thermo, fix_labels, get_reverse)\u001b[0m\n\u001b[1;32m   4254\u001b[0m                                 for x in rxns[i].products]\n\u001b[1;32m   4255\u001b[0m                 \u001b[0;32melse\u001b[0m\u001b[0;34m:\u001b[0m\u001b[0;34m\u001b[0m\u001b[0;34m\u001b[0m\u001b[0m\n\u001b[0;32m-> 4256\u001b[0;31m                     \u001b[0mproducts\u001b[0m \u001b[0;34m=\u001b[0m \u001b[0mself\u001b[0m\u001b[0;34m.\u001b[0m\u001b[0mapply_recipe\u001b[0m\u001b[0;34m(\u001b[0m\u001b[0;34m[\u001b[0m\u001b[0ms\u001b[0m\u001b[0;34m.\u001b[0m\u001b[0mmolecule\u001b[0m\u001b[0;34m[\u001b[0m\u001b[0;36m0\u001b[0m\u001b[0;34m]\u001b[0m \u001b[0;32mfor\u001b[0m \u001b[0ms\u001b[0m \u001b[0;32min\u001b[0m \u001b[0mrxns\u001b[0m\u001b[0;34m[\u001b[0m\u001b[0mi\u001b[0m\u001b[0;34m]\u001b[0m\u001b[0;34m.\u001b[0m\u001b[0mreactants\u001b[0m\u001b[0;34m]\u001b[0m\u001b[0;34m,\u001b[0m \u001b[0mforward\u001b[0m\u001b[0;34m=\u001b[0m\u001b[0;32mTrue\u001b[0m\u001b[0;34m)\u001b[0m\u001b[0;34m\u001b[0m\u001b[0;34m\u001b[0m\u001b[0m\n\u001b[0m\u001b[1;32m   4257\u001b[0m                     \u001b[0mproducts\u001b[0m \u001b[0;34m=\u001b[0m \u001b[0;34m[\u001b[0m\u001b[0mSpecies\u001b[0m\u001b[0;34m(\u001b[0m\u001b[0mmolecule\u001b[0m\u001b[0;34m=\u001b[0m\u001b[0;34m[\u001b[0m\u001b[0mp\u001b[0m\u001b[0;34m]\u001b[0m\u001b[0;34m)\u001b[0m \u001b[0;32mfor\u001b[0m \u001b[0mp\u001b[0m \u001b[0;32min\u001b[0m \u001b[0mproducts\u001b[0m\u001b[0;34m]\u001b[0m\u001b[0;34m\u001b[0m\u001b[0;34m\u001b[0m\u001b[0m\n\u001b[1;32m   4258\u001b[0m \u001b[0;34m\u001b[0m\u001b[0m\n",
      "\u001b[0;32m~/Code/RMG-Py/rmgpy/data/kinetics/family.py\u001b[0m in \u001b[0;36mapply_recipe\u001b[0;34m(self, reactant_structures, forward, unique, relabel_atoms)\u001b[0m\n\u001b[1;32m   1424\u001b[0m             \u001b[0;31m# Generate the product structure by applying the recipe\u001b[0m\u001b[0;34m\u001b[0m\u001b[0;34m\u001b[0m\u001b[0;34m\u001b[0m\u001b[0m\n\u001b[1;32m   1425\u001b[0m             \u001b[0mprint\u001b[0m\u001b[0;34m(\u001b[0m\u001b[0mreactant_structure\u001b[0m\u001b[0;34m.\u001b[0m\u001b[0mto_adjacency_list\u001b[0m\u001b[0;34m(\u001b[0m\u001b[0;34m)\u001b[0m\u001b[0;34m)\u001b[0m\u001b[0;34m\u001b[0m\u001b[0;34m\u001b[0m\u001b[0m\n\u001b[0;32m-> 1426\u001b[0;31m             \u001b[0mself\u001b[0m\u001b[0;34m.\u001b[0m\u001b[0mforward_recipe\u001b[0m\u001b[0;34m.\u001b[0m\u001b[0mapply_forward\u001b[0m\u001b[0;34m(\u001b[0m\u001b[0mreactant_structure\u001b[0m\u001b[0;34m,\u001b[0m \u001b[0munique\u001b[0m\u001b[0;34m)\u001b[0m\u001b[0;34m\u001b[0m\u001b[0;34m\u001b[0m\u001b[0m\n\u001b[0m\u001b[1;32m   1427\u001b[0m         \u001b[0;32melse\u001b[0m\u001b[0;34m:\u001b[0m\u001b[0;34m\u001b[0m\u001b[0;34m\u001b[0m\u001b[0m\n\u001b[1;32m   1428\u001b[0m             \u001b[0mself\u001b[0m\u001b[0;34m.\u001b[0m\u001b[0mreverse_recipe\u001b[0m\u001b[0;34m.\u001b[0m\u001b[0mapply_forward\u001b[0m\u001b[0;34m(\u001b[0m\u001b[0mreactant_structure\u001b[0m\u001b[0;34m,\u001b[0m \u001b[0munique\u001b[0m\u001b[0;34m)\u001b[0m\u001b[0;34m\u001b[0m\u001b[0;34m\u001b[0m\u001b[0m\n",
      "\u001b[0;32m~/Code/RMG-Py/rmgpy/data/kinetics/family.py\u001b[0m in \u001b[0;36mapply_forward\u001b[0;34m(self, struct, unique)\u001b[0m\n\u001b[1;32m    431\u001b[0m         \u001b[0;34m:\u001b[0m\u001b[0;32mclass\u001b[0m\u001b[0;34m:\u001b[0m\u001b[0;31m`\u001b[0m\u001b[0mMolecule\u001b[0m\u001b[0;31m`\u001b[0m \u001b[0mobject\u001b[0m\u001b[0;34m.\u001b[0m\u001b[0;34m\u001b[0m\u001b[0;34m\u001b[0m\u001b[0m\n\u001b[1;32m    432\u001b[0m         \"\"\"\n\u001b[0;32m--> 433\u001b[0;31m         \u001b[0;32mreturn\u001b[0m \u001b[0mself\u001b[0m\u001b[0;34m.\u001b[0m\u001b[0m_apply\u001b[0m\u001b[0;34m(\u001b[0m\u001b[0mstruct\u001b[0m\u001b[0;34m,\u001b[0m \u001b[0;32mTrue\u001b[0m\u001b[0;34m,\u001b[0m \u001b[0munique\u001b[0m\u001b[0;34m)\u001b[0m\u001b[0;34m\u001b[0m\u001b[0;34m\u001b[0m\u001b[0m\n\u001b[0m\u001b[1;32m    434\u001b[0m \u001b[0;34m\u001b[0m\u001b[0m\n\u001b[1;32m    435\u001b[0m     \u001b[0;32mdef\u001b[0m \u001b[0mapply_reverse\u001b[0m\u001b[0;34m(\u001b[0m\u001b[0mself\u001b[0m\u001b[0;34m,\u001b[0m \u001b[0mstruct\u001b[0m\u001b[0;34m,\u001b[0m \u001b[0munique\u001b[0m\u001b[0;34m=\u001b[0m\u001b[0;32mTrue\u001b[0m\u001b[0;34m)\u001b[0m\u001b[0;34m:\u001b[0m\u001b[0;34m\u001b[0m\u001b[0;34m\u001b[0m\u001b[0m\n",
      "\u001b[0;32m~/Code/RMG-Py/rmgpy/data/kinetics/family.py\u001b[0m in \u001b[0;36m_apply\u001b[0;34m(self, struct, forward, unique)\u001b[0m\n\u001b[1;32m    378\u001b[0m                                 \u001b[0;31m# so we continue to the next action.\u001b[0m\u001b[0;34m\u001b[0m\u001b[0;34m\u001b[0m\u001b[0;34m\u001b[0m\u001b[0m\n\u001b[1;32m    379\u001b[0m                                 \u001b[0;32mcontinue\u001b[0m\u001b[0;34m\u001b[0m\u001b[0;34m\u001b[0m\u001b[0m\n\u001b[0;32m--> 380\u001b[0;31m                         \u001b[0;32mraise\u001b[0m \u001b[0mInvalidActionError\u001b[0m\u001b[0;34m(\u001b[0m\u001b[0;34m'Attempted to remove a nonexistent bond.'\u001b[0m\u001b[0;34m)\u001b[0m\u001b[0;34m\u001b[0m\u001b[0;34m\u001b[0m\u001b[0m\n\u001b[0m\u001b[1;32m    381\u001b[0m                     \u001b[0mbond\u001b[0m \u001b[0;34m=\u001b[0m \u001b[0mstruct\u001b[0m\u001b[0;34m.\u001b[0m\u001b[0mget_bond\u001b[0m\u001b[0;34m(\u001b[0m\u001b[0matom1\u001b[0m\u001b[0;34m,\u001b[0m \u001b[0matom2\u001b[0m\u001b[0;34m)\u001b[0m\u001b[0;34m\u001b[0m\u001b[0;34m\u001b[0m\u001b[0m\n\u001b[1;32m    382\u001b[0m                     \u001b[0mstruct\u001b[0m\u001b[0;34m.\u001b[0m\u001b[0mremove_bond\u001b[0m\u001b[0;34m(\u001b[0m\u001b[0mbond\u001b[0m\u001b[0;34m)\u001b[0m\u001b[0;34m\u001b[0m\u001b[0;34m\u001b[0m\u001b[0m\n",
      "\u001b[0;31mInvalidActionError\u001b[0m: Attempted to remove a nonexistent bond."
     ]
    }
   ],
   "source": [
    "start = time.time()\n",
    "family.generate_tree(thermo_database=database.thermo,\n",
    "                     nprocs=1,\n",
    "                     new_fraction_threshold_to_reopt_node=0.25,\n",
    "                     max_batch_size=800,\n",
    "                     extension_iter_max=2,\n",
    "                     extension_iter_item_cap=100)\n",
    "\n",
    "end = time.time()\n",
    "print(end-start)"
   ]
  },
  {
   "cell_type": "code",
   "execution_count": null,
   "metadata": {},
   "outputs": [],
   "source": [
    "len(family.groups.entries)"
   ]
  },
  {
   "cell_type": "code",
   "execution_count": null,
   "metadata": {},
   "outputs": [],
   "source": [
    "family.groups.entries"
   ]
  },
  {
   "cell_type": "code",
   "execution_count": null,
   "metadata": {},
   "outputs": [],
   "source": [
    "start = time.time()\n",
    "family.check_tree()\n",
    "end = time.time()\n",
    "print(end-start)"
   ]
  },
  {
   "cell_type": "code",
   "execution_count": null,
   "metadata": {},
   "outputs": [],
   "source": [
    "start = time.time()\n",
    "family.regularize(thermo_database=database.thermo)\n",
    "end = time.time()\n",
    "print(end-start)"
   ]
  },
  {
   "cell_type": "code",
   "execution_count": null,
   "metadata": {},
   "outputs": [],
   "source": [
    "start = time.time()\n",
    "templateRxnMap = family.get_reaction_matches(thermo_database=database.thermo,remove_degeneracy=True,\n",
    "                                             get_reverse=True,exact_matches_only=False,fix_labels=True)\n",
    "end = time.time()\n",
    "print(end-start)"
   ]
  },
  {
   "cell_type": "code",
   "execution_count": null,
   "metadata": {},
   "outputs": [],
   "source": [
    "len(templateRxnMap)"
   ]
  },
  {
   "cell_type": "code",
   "execution_count": null,
   "metadata": {},
   "outputs": [],
   "source": [
    "family.clean_tree_rules()"
   ]
  },
  {
   "cell_type": "code",
   "execution_count": null,
   "metadata": {},
   "outputs": [],
   "source": [
    "start = time.time()\n",
    "family.make_bm_rules_from_template_rxn_map(templateRxnMap)#,nprocs=6)\n",
    "end = time.time()\n",
    "print(end-start)"
   ]
  },
  {
   "cell_type": "code",
   "execution_count": null,
   "metadata": {},
   "outputs": [],
   "source": [
    "start = time.time()\n",
    "family.check_tree()\n",
    "end = time.time()\n",
    "print(end-start)"
   ]
  },
  {
   "cell_type": "code",
   "execution_count": null,
   "metadata": {},
   "outputs": [],
   "source": [
    "start = time.time()\n",
    "errors,uncertainties = family.cross_validate(iters=0,random_state=5,folds=0,ascend=False)\n",
    "end = time.time()\n",
    "print(end-start)"
   ]
  },
  {
   "cell_type": "code",
   "execution_count": null,
   "metadata": {},
   "outputs": [],
   "source": [
    "save_path = os.path.join(settings['database.directory'], 'kinetics', 'families', family.name)\n",
    "print(save_path)"
   ]
  },
  {
   "cell_type": "code",
   "execution_count": null,
   "metadata": {},
   "outputs": [],
   "source": [
    "family.save(save_path)"
   ]
  },
  {
   "cell_type": "code",
   "execution_count": null,
   "metadata": {},
   "outputs": [],
   "source": []
  },
  {
   "cell_type": "code",
   "execution_count": null,
   "metadata": {},
   "outputs": [],
   "source": [
    "# '1,2_Insertion_CO'"
   ]
  },
  {
   "cell_type": "code",
   "execution_count": null,
   "metadata": {},
   "outputs": [],
   "source": [
    "# '1,2_Insertion_carbene'"
   ]
  },
  {
   "cell_type": "code",
   "execution_count": null,
   "metadata": {},
   "outputs": [],
   "source": [
    "# '1,3_Insertion_CO2'"
   ]
  },
  {
   "cell_type": "code",
   "execution_count": null,
   "metadata": {},
   "outputs": [],
   "source": [
    "# '1,3_sigmatropic_rearrangement'"
   ]
  },
  {
   "cell_type": "code",
   "execution_count": null,
   "metadata": {},
   "outputs": [],
   "source": [
    "# 'R_Addition_MultipleBond'"
   ]
  },
  {
   "cell_type": "code",
   "execution_count": null,
   "metadata": {},
   "outputs": [],
   "source": [
    "# 'Singlet_Carbene_Intra_Disproportionation'"
   ]
  },
  {
   "cell_type": "code",
   "execution_count": null,
   "metadata": {},
   "outputs": [],
   "source": [
    "#'XY_Addition_MultipleBond'"
   ]
  },
  {
   "cell_type": "code",
   "execution_count": null,
   "metadata": {},
   "outputs": [],
   "source": []
  },
  {
   "cell_type": "code",
   "execution_count": null,
   "metadata": {},
   "outputs": [],
   "source": []
  },
  {
   "cell_type": "code",
   "execution_count": null,
   "metadata": {},
   "outputs": [],
   "source": []
  },
  {
   "cell_type": "code",
   "execution_count": null,
   "metadata": {},
   "outputs": [],
   "source": [
    "plt.figure(figsize=(10,8))\n",
    "plt.hist(np.abs(list(errors.values())),bins=30, density=True)\n",
    "plt.title('Decision Tree Estimator',fontsize=18)\n",
    "#plt.ylim(0,.4)\n",
    "plt.xlim(0,15)\n",
    "plt.ylabel('Probability density',fontsize=18)\n",
    "plt.xlabel(r'$|Ln(k_{est}/k_{rxn})|$',fontsize=18)"
   ]
  }
 ],
 "metadata": {
  "@webio": {
   "lastCommId": null,
   "lastKernelId": null
  },
  "kernelspec": {
   "display_name": "rmg_env",
   "language": "python",
   "name": "rmg_env"
  },
  "language_info": {
   "codemirror_mode": {
    "name": "ipython",
    "version": 3
   },
   "file_extension": ".py",
   "mimetype": "text/x-python",
   "name": "python",
   "nbconvert_exporter": "python",
   "pygments_lexer": "ipython3",
   "version": "3.7.16"
  }
 },
 "nbformat": 4,
 "nbformat_minor": 4
}
