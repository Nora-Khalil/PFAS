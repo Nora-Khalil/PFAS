{
 "cells": [
  {
   "cell_type": "code",
   "execution_count": 1,
   "id": "6731d2ea-f4d9-41ed-a11a-724b160f083b",
   "metadata": {},
   "outputs": [],
   "source": [
    "#get rates for H(5) + CHFCF2(700) <=> HF(684) + CF2CH(718)\n",
    "\n",
    "import cantera as ct\n",
    "import os \n",
    "import re\n",
    "from rmgpy.molecule import Molecule\n",
    "from rmgpy.reaction import Reaction\n",
    "from rmgpy.species import Species\n",
    "from rmgpy.data.kinetics.family import KineticsFamily\n",
    "from rmgpy.data.rmg import RMGDatabase\n",
    "from rmgpy import settings\n",
    "from rmgpy.data.base import Database\n",
    "from rmgpy.chemkin import load_species_dictionary\n",
    "import rmgpy.chemkin\n",
    "import math\n"
   ]
  },
  {
   "cell_type": "code",
   "execution_count": 90,
   "id": "a878dbc4-4afc-4d7a-b1c3-66d8ed6fe41e",
   "metadata": {
    "collapsed": true,
    "jupyter": {
     "outputs_hidden": true
    },
    "tags": []
   },
   "outputs": [
    {
     "name": "stderr",
     "output_type": "stream",
     "text": [
      "WARNING:root:Unexpected kinetics type <class 'rmgpy.kinetics.chebyshev.Chebyshev'> for duplicate reaction O2(50) + C3H6(28) <=> O2(3) + C3H6(28). Not combining reactions.\n",
      "WARNING:root:Unexpected kinetics type <class 'rmgpy.kinetics.chebyshev.Chebyshev'> for duplicate reaction O2(50) + CH2O(19) <=> O2(3) + CH2O(19). Not combining reactions.\n",
      "WARNING:root:Unexpected kinetics type <class 'rmgpy.kinetics.chebyshev.Chebyshev'> for duplicate reaction O2(50) + CF2O(34) <=> O2(3) + CF2O(34). Not combining reactions.\n",
      "WARNING:root:Unexpected kinetics type <class 'rmgpy.kinetics.chebyshev.Chebyshev'> for duplicate reaction O2(50) + CO2(41) <=> O2(3) + CO2(41). Not combining reactions.\n",
      "WARNING:root:Unexpected kinetics type <class 'rmgpy.kinetics.chebyshev.Chebyshev'> for duplicate reaction O2(50) + CHFO(49) <=> O(6) + FC1OO1(38). Not combining reactions.\n",
      "WARNING:root:Unexpected kinetics type <class 'rmgpy.kinetics.chebyshev.Chebyshev'> for duplicate reaction O2(50) + CHFO(49) <=> O2(3) + CHFO(49). Not combining reactions.\n",
      "WARNING:root:Unexpected kinetics type <class 'rmgpy.kinetics.chebyshev.Chebyshev'> for duplicate reaction O2(50) + CH2CO(20) <=> O2(3) + CH2CO(20). Not combining reactions.\n",
      "WARNING:root:Unexpected kinetics type <class 'rmgpy.kinetics.chebyshev.Chebyshev'> for duplicate reaction O2(50) + CH2CO(20) <=> O2(3) + CH2CO(20). Not combining reactions.\n",
      "WARNING:root:Unexpected kinetics type <class 'rmgpy.kinetics.chebyshev.Chebyshev'> for duplicate reaction O2(50) + CH2CO(20) <=> O2(3) + CH2CO(20). Not combining reactions.\n",
      "WARNING:root:Unexpected kinetics type <class 'rmgpy.kinetics.chebyshev.Chebyshev'> for duplicate reaction O2(50) + C3H5-A(51) <=> O2(3) + C3H5-A(51). Not combining reactions.\n",
      "WARNING:root:Unexpected kinetics type <class 'rmgpy.kinetics.chebyshev.Chebyshev'> for duplicate reaction O2(50) + C4H8-1(54) <=> O2(3) + C4H8-1(54). Not combining reactions.\n",
      "WARNING:root:Unexpected kinetics type <class 'rmgpy.kinetics.chebyshev.Chebyshev'> for duplicate reaction O2(50) + C3H4-A(60) <=> O2(3) + C3H4-A(60). Not combining reactions.\n",
      "WARNING:root:Unexpected kinetics type <class 'rmgpy.kinetics.chebyshev.Chebyshev'> for duplicate reaction C2H4(12) + C3H6(28) <=> CH2(18) + [CH2]C[CH]C(63). Not combining reactions.\n",
      "WARNING:root:Unexpected kinetics type <class 'rmgpy.kinetics.chebyshev.Chebyshev'> for duplicate reaction O2(50) + CH2O(19) <=> O(6) + C1OO1(64). Not combining reactions.\n",
      "WARNING:root:Unexpected kinetics type <class 'rmgpy.kinetics.chebyshev.Chebyshev'> for duplicate reaction CO2(41) + C3H4-A(60) <=> CO2(41) + C3H4-P(67). Not combining reactions.\n",
      "WARNING:root:Unexpected kinetics type <class 'rmgpy.kinetics.chebyshev.Chebyshev'> for duplicate reaction O2(50) + C3H4-P(67) <=> O2(3) + C3H4-P(67). Not combining reactions.\n",
      "WARNING:root:Unexpected kinetics type <class 'rmgpy.kinetics.chebyshev.Chebyshev'> for duplicate reaction CO2(41) + C4H8-1(54) <=> CO2(41) + C4H8-2(56). Not combining reactions.\n",
      "WARNING:root:Unexpected kinetics type <class 'rmgpy.kinetics.chebyshev.Chebyshev'> for duplicate reaction CH2O(19) + C3H6(28) <=> CH3(13) + C3H5O(71). Not combining reactions.\n",
      "WARNING:root:Unexpected kinetics type <class 'rmgpy.kinetics.chebyshev.Chebyshev'> for duplicate reaction O2(50) + C2H3CHO(72) <=> O2(3) + C2H3CHO(72). Not combining reactions.\n",
      "WARNING:root:Unexpected kinetics type <class 'rmgpy.kinetics.chebyshev.Chebyshev'> for duplicate reaction O2(50) + C2H3CHO(72) <=> O2(3) + C2H3CHO(72). Not combining reactions.\n",
      "WARNING:root:Unexpected kinetics type <class 'rmgpy.kinetics.chebyshev.Chebyshev'> for duplicate reaction O2(50) + C2H3CHO(72) <=> O2(3) + C2H3CHO(72). Not combining reactions.\n",
      "WARNING:root:Unexpected kinetics type <class 'rmgpy.kinetics.chebyshev.Chebyshev'> for duplicate reaction O2(50) + C2H3CHO(72) <=> O2(3) + C2H3CHO(72). Not combining reactions.\n",
      "WARNING:root:Unexpected kinetics type <class 'rmgpy.kinetics.chebyshev.Chebyshev'> for duplicate reaction O2(50) + C2H3CHO(72) <=> O2(3) + C2H3CHO(72). Not combining reactions.\n",
      "WARNING:root:Unexpected kinetics type <class 'rmgpy.kinetics.chebyshev.Chebyshev'> for duplicate reaction O2(50) + C2H3CHO(72) <=> O2(3) + C2H3CHO(72). Not combining reactions.\n",
      "WARNING:root:Unexpected kinetics type <class 'rmgpy.kinetics.chebyshev.Chebyshev'> for duplicate reaction HO2(10) + C2H3CHO(72) <=> CO(22) + C2H5O2(30). Not combining reactions.\n",
      "WARNING:root:Unexpected kinetics type <class 'rmgpy.kinetics.chebyshev.Chebyshev'> for duplicate reaction HOCHO(66) + C2H3CHO(72) <=> OCHO(69) + C3H5O(71). Not combining reactions.\n",
      "WARNING:root:Unexpected kinetics type <class 'rmgpy.kinetics.chebyshev.Chebyshev'> for duplicate reaction O2(50) + C3H3(73) <=> O2(3) + C3H3(73). Not combining reactions.\n",
      "WARNING:root:Unexpected kinetics type <class 'rmgpy.kinetics.chebyshev.Chebyshev'> for duplicate reaction O2(50) + C3H3(73) <=> O2(3) + C3H3(73). Not combining reactions.\n",
      "WARNING:root:Unexpected kinetics type <class 'rmgpy.kinetics.chebyshev.Chebyshev'> for duplicate reaction O2(50) + C3H3(73) <=> O2(3) + C3H3(73). Not combining reactions.\n",
      "WARNING:root:Unexpected kinetics type <class 'rmgpy.kinetics.chebyshev.Chebyshev'> for duplicate reaction O2(50) + CH2CF2(75) <=> O2(3) + CH2CF2(75). Not combining reactions.\n",
      "WARNING:root:Unexpected kinetics type <class 'rmgpy.kinetics.chebyshev.Chebyshev'> for duplicate reaction HO2(10) + CH2CF2(75) <=> CF2(58) + CH3O2(31). Not combining reactions.\n",
      "WARNING:root:Unexpected kinetics type <class 'rmgpy.kinetics.chebyshev.Chebyshev'> for duplicate reaction HO2(10) + CH2CF2(75) <=> [O]OC(F)F(32) + CH2(S)(70). Not combining reactions.\n",
      "WARNING:root:Unexpected kinetics type <class 'rmgpy.kinetics.chebyshev.Chebyshev'> for duplicate reaction O2(50) + CF2O(34) <=> O(6) + FC1(F)OO1(76). Not combining reactions.\n",
      "WARNING:root:Unexpected kinetics type <class 'rmgpy.kinetics.chebyshev.Chebyshev'> for duplicate reaction CO2(41) + C2H3CHO(72) <=> CO2(41) + CH3CHCO(78). Not combining reactions.\n",
      "WARNING:root:Unexpected kinetics type <class 'rmgpy.kinetics.chebyshev.Chebyshev'> for duplicate reaction O2(50) + CH3CHCO(78) <=> O2(3) + CH3CHCO(78). Not combining reactions.\n",
      "WARNING:root:Unexpected kinetics type <class 'rmgpy.kinetics.chebyshev.Chebyshev'> for duplicate reaction O2(50) + CH3CHCO(78) <=> O2(3) + CH3CHCO(78). Not combining reactions.\n",
      "WARNING:root:Unexpected kinetics type <class 'rmgpy.kinetics.chebyshev.Chebyshev'> for duplicate reaction O2(50) + CH3CHCO(78) <=> O2(3) + CH3CHCO(78). Not combining reactions.\n",
      "WARNING:root:Unexpected kinetics type <class 'rmgpy.kinetics.chebyshev.Chebyshev'> for duplicate reaction HO2(10) + CH3CHCO(78) <=> CO(22) + C2H5O2(30). Not combining reactions.\n",
      "WARNING:root:Unexpected kinetics type <class 'rmgpy.kinetics.chebyshev.Chebyshev'> for duplicate reaction O2(50) + CHFCF2(80) <=> O2(3) + CHFCF2(80). Not combining reactions.\n",
      "WARNING:root:Unexpected kinetics type <class 'rmgpy.kinetics.chebyshev.Chebyshev'> for duplicate reaction HO2(10) + CHFCF2(80) <=> CHF(37) + [O]OC(F)F(32). Not combining reactions.\n",
      "WARNING:root:Unexpected kinetics type <class 'rmgpy.kinetics.chebyshev.Chebyshev'> for duplicate reaction O2(50) + C4H71-3(82) <=> O2(3) + C4H71-3(82). Not combining reactions.\n",
      "WARNING:root:Unexpected kinetics type <class 'rmgpy.kinetics.chebyshev.Chebyshev'> for duplicate reaction O2(50) + C4H71-3(82) <=> O2(3) + C4H71-3(82). Not combining reactions.\n",
      "WARNING:root:Unexpected kinetics type <class 'rmgpy.kinetics.chebyshev.Chebyshev'> for duplicate reaction O2(50) + C4H71-3(82) <=> O2(3) + C4H71-3(82). Not combining reactions.\n",
      "WARNING:root:Unexpected kinetics type <class 'rmgpy.kinetics.chebyshev.Chebyshev'> for duplicate reaction O2(50) + C4H6(230) <=> O2(3) + C4H6(230). Not combining reactions.\n",
      "WARNING:root:Unexpected kinetics type <class 'rmgpy.kinetics.chebyshev.Chebyshev'> for duplicate reaction HO2(10) + C4H6(230) <=> CH2(S)(70) + C3H5O2(52). Not combining reactions.\n",
      "WARNING:root:Unexpected kinetics type <class 'rmgpy.kinetics.chebyshev.Chebyshev'> for duplicate reaction C2H4(12) + C4H6(230) <=> C2H4(12) + C4H6(869). Not combining reactions.\n",
      "WARNING:root:Unexpected kinetics type <class 'rmgpy.kinetics.chebyshev.Chebyshev'> for duplicate reaction O2(50) + C4H6(230) <=> O2(3) + C4H6(869). Not combining reactions.\n",
      "WARNING:root:Unexpected kinetics type <class 'rmgpy.kinetics.chebyshev.Chebyshev'> for duplicate reaction CH2O(19) + C4H6(230) <=> CH2O(19) + C4H6(869). Not combining reactions.\n",
      "WARNING:root:Unexpected kinetics type <class 'rmgpy.kinetics.chebyshev.Chebyshev'> for duplicate reaction CH2O(19) + C4H6(230) <=> CH2O(19) + C4H6(869). Not combining reactions.\n",
      "WARNING:root:Unexpected kinetics type <class 'rmgpy.kinetics.chebyshev.Chebyshev'> for duplicate reaction CH2O(19) + C4H6(230) <=> CH2O(19) + C4H6(869). Not combining reactions.\n",
      "WARNING:root:Unexpected kinetics type <class 'rmgpy.kinetics.chebyshev.Chebyshev'> for duplicate reaction CF2O(34) + C4H6(230) <=> CF2O(34) + C4H6(869). Not combining reactions.\n",
      "WARNING:root:Unexpected kinetics type <class 'rmgpy.kinetics.chebyshev.Chebyshev'> for duplicate reaction CF2O(34) + C4H6(230) <=> CF2O(34) + C4H6(869). Not combining reactions.\n",
      "WARNING:root:Unexpected kinetics type <class 'rmgpy.kinetics.chebyshev.Chebyshev'> for duplicate reaction CF2O(34) + C4H6(230) <=> CF2O(34) + C4H6(869). Not combining reactions.\n",
      "WARNING:root:Unexpected kinetics type <class 'rmgpy.kinetics.chebyshev.Chebyshev'> for duplicate reaction CF2O(34) + C4H6(230) <=> CF2O(34) + C4H6(869). Not combining reactions.\n",
      "WARNING:root:Unexpected kinetics type <class 'rmgpy.kinetics.chebyshev.Chebyshev'> for duplicate reaction CF2O(34) + C4H6(230) <=> CF2O(34) + C4H6(869). Not combining reactions.\n",
      "WARNING:root:Unexpected kinetics type <class 'rmgpy.kinetics.chebyshev.Chebyshev'> for duplicate reaction CH2O(19) + C4H6(230) <=> CH2O(19) + C4H6(869). Not combining reactions.\n",
      "WARNING:root:Unexpected kinetics type <class 'rmgpy.kinetics.chebyshev.Chebyshev'> for duplicate reaction CH2O(19) + C4H6(230) <=> CH2O(19) + C4H6(869). Not combining reactions.\n",
      "WARNING:root:Unexpected kinetics type <class 'rmgpy.kinetics.chebyshev.Chebyshev'> for duplicate reaction CH2O(19) + C4H6(230) <=> CH2O(19) + C4H6(869). Not combining reactions.\n",
      "WARNING:root:Unexpected kinetics type <class 'rmgpy.kinetics.chebyshev.Chebyshev'> for duplicate reaction CO2(41) + C4H6(230) <=> CO2(41) + C4H6(869). Not combining reactions.\n",
      "WARNING:root:Unexpected kinetics type <class 'rmgpy.kinetics.chebyshev.Chebyshev'> for duplicate reaction CO2(41) + C4H6(230) <=> CO2(41) + C4H6(869). Not combining reactions.\n",
      "WARNING:root:Unexpected kinetics type <class 'rmgpy.kinetics.chebyshev.Chebyshev'> for duplicate reaction CO2(41) + C4H6(230) <=> CO2(41) + C4H6(869). Not combining reactions.\n",
      "WARNING:root:Unexpected kinetics type <class 'rmgpy.kinetics.chebyshev.Chebyshev'> for duplicate reaction CF2O(34) + C4H6(230) <=> CF2O(34) + C4H6(869). Not combining reactions.\n",
      "WARNING:root:Unexpected kinetics type <class 'rmgpy.kinetics.chebyshev.Chebyshev'> for duplicate reaction CO2(41) + C4H6(230) <=> CO2(41) + C4H6(869). Not combining reactions.\n",
      "WARNING:root:Unexpected kinetics type <class 'rmgpy.kinetics.chebyshev.Chebyshev'> for duplicate reaction CO2(41) + C4H6(230) <=> CO2(41) + C4H6(869). Not combining reactions.\n",
      "WARNING:root:Unexpected kinetics type <class 'rmgpy.kinetics.chebyshev.Chebyshev'> for duplicate reaction CO2(41) + C4H6(230) <=> CO2(41) + C4H6(869). Not combining reactions.\n",
      "WARNING:root:Unexpected kinetics type <class 'rmgpy.kinetics.chebyshev.Chebyshev'> for duplicate reaction CH2CO(20) + C4H6(230) <=> CH2CO(20) + C4H6(869). Not combining reactions.\n",
      "WARNING:root:Unexpected kinetics type <class 'rmgpy.kinetics.chebyshev.Chebyshev'> for duplicate reaction CH2CO(20) + C4H6(230) <=> CH2CO(20) + C4H6(869). Not combining reactions.\n",
      "WARNING:root:Unexpected kinetics type <class 'rmgpy.kinetics.chebyshev.Chebyshev'> for duplicate reaction CH2CO(20) + C4H6(230) <=> CH2CO(20) + C4H6(869). Not combining reactions.\n",
      "WARNING:root:Unexpected kinetics type <class 'rmgpy.kinetics.chebyshev.Chebyshev'> for duplicate reaction CH2CO(20) + C4H6(230) <=> CH2CO(20) + C4H6(869). Not combining reactions.\n",
      "WARNING:root:Unexpected kinetics type <class 'rmgpy.kinetics.chebyshev.Chebyshev'> for duplicate reaction CH2CO(20) + C4H6(230) <=> CH2CO(20) + C4H6(869). Not combining reactions.\n",
      "WARNING:root:Unexpected kinetics type <class 'rmgpy.kinetics.chebyshev.Chebyshev'> for duplicate reaction CH2CO(20) + C4H6(230) <=> CH2CO(20) + C4H6(869). Not combining reactions.\n",
      "WARNING:root:Unexpected kinetics type <class 'rmgpy.kinetics.chebyshev.Chebyshev'> for duplicate reaction CH2CO(20) + C4H6(230) <=> CH2CO(20) + C4H6(869). Not combining reactions.\n",
      "WARNING:root:Unexpected kinetics type <class 'rmgpy.kinetics.chebyshev.Chebyshev'> for duplicate reaction CH2CO(20) + C4H6(230) <=> CH2CO(20) + C4H6(869). Not combining reactions.\n",
      "WARNING:root:Unexpected kinetics type <class 'rmgpy.kinetics.chebyshev.Chebyshev'> for duplicate reaction CH2CO(20) + C4H6(230) <=> CH2CO(20) + C4H6(869). Not combining reactions.\n",
      "WARNING:root:Unexpected kinetics type <class 'rmgpy.kinetics.chebyshev.Chebyshev'> for duplicate reaction CH2CO(20) + C4H6(230) <=> CH2CO(20) + C4H6(869). Not combining reactions.\n",
      "WARNING:root:Unexpected kinetics type <class 'rmgpy.kinetics.chebyshev.Chebyshev'> for duplicate reaction CH2CO(20) + C4H6(230) <=> CH2CO(20) + C4H6(869). Not combining reactions.\n",
      "WARNING:root:Unexpected kinetics type <class 'rmgpy.kinetics.chebyshev.Chebyshev'> for duplicate reaction CH2CO(20) + C4H6(230) <=> CH2CO(20) + C4H6(869). Not combining reactions.\n",
      "WARNING:root:Unexpected kinetics type <class 'rmgpy.kinetics.chebyshev.Chebyshev'> for duplicate reaction CH2CO(20) + C4H6(230) <=> CH2CO(20) + C4H6(869). Not combining reactions.\n",
      "WARNING:root:Unexpected kinetics type <class 'rmgpy.kinetics.chebyshev.Chebyshev'> for duplicate reaction CH2CO(20) + C4H6(230) <=> CH2CO(20) + C4H6(869). Not combining reactions.\n",
      "WARNING:root:Unexpected kinetics type <class 'rmgpy.kinetics.chebyshev.Chebyshev'> for duplicate reaction CH2CO(20) + C4H6(230) <=> CH2CO(20) + C4H6(869). Not combining reactions.\n",
      "WARNING:root:Unexpected kinetics type <class 'rmgpy.kinetics.chebyshev.Chebyshev'> for duplicate reaction CHFCF2(80) + C4H6(230) <=> CHFCF2(80) + C4H6(869). Not combining reactions.\n",
      "WARNING:root:Unexpected kinetics type <class 'rmgpy.kinetics.chebyshev.Chebyshev'> for duplicate reaction CHFCF2(80) + C4H6(230) <=> CHFCF2(80) + C4H6(869). Not combining reactions.\n",
      "WARNING:root:Unexpected kinetics type <class 'rmgpy.kinetics.chebyshev.Chebyshev'> for duplicate reaction CHFCF2(80) + C4H6(230) <=> CHFCF2(80) + C4H6(869). Not combining reactions.\n",
      "WARNING:root:Unexpected kinetics type <class 'rmgpy.kinetics.chebyshev.Chebyshev'> for duplicate reaction CHFCF2(80) + C4H6(230) <=> CHFCF2(80) + C4H6(869). Not combining reactions.\n",
      "WARNING:root:Unexpected kinetics type <class 'rmgpy.kinetics.chebyshev.Chebyshev'> for duplicate reaction CHFCF2(80) + C4H6(230) <=> CHFCF2(80) + C4H6(869). Not combining reactions.\n",
      "WARNING:root:Unexpected kinetics type <class 'rmgpy.kinetics.chebyshev.Chebyshev'> for duplicate reaction CHFCF2(80) + C4H6(230) <=> CHFCF2(80) + C4H6(869). Not combining reactions.\n",
      "WARNING:root:Unexpected kinetics type <class 'rmgpy.kinetics.chebyshev.Chebyshev'> for duplicate reaction CH2CF2(75) + C4H6(230) <=> CH2CF2(75) + C4H6(869). Not combining reactions.\n",
      "WARNING:root:Unexpected kinetics type <class 'rmgpy.kinetics.chebyshev.Chebyshev'> for duplicate reaction CH2CF2(75) + C4H6(230) <=> CH2CF2(75) + C4H6(869). Not combining reactions.\n",
      "WARNING:root:Unexpected kinetics type <class 'rmgpy.kinetics.chebyshev.Chebyshev'> for duplicate reaction CH2CF2(75) + C4H6(230) <=> CH2CF2(75) + C4H6(869). Not combining reactions.\n",
      "WARNING:root:Unexpected kinetics type <class 'rmgpy.kinetics.chebyshev.Chebyshev'> for duplicate reaction CH2CF2(75) + C4H6(230) <=> CH2CF2(75) + C4H6(869). Not combining reactions.\n",
      "WARNING:root:Unexpected kinetics type <class 'rmgpy.kinetics.chebyshev.Chebyshev'> for duplicate reaction CH2CF2(75) + C4H6(230) <=> CH2CF2(75) + C4H6(869). Not combining reactions.\n",
      "WARNING:root:Unexpected kinetics type <class 'rmgpy.kinetics.chebyshev.Chebyshev'> for duplicate reaction CH2CF2(75) + C4H6(230) <=> CH2CF2(75) + C4H6(869). Not combining reactions.\n",
      "WARNING:root:Unexpected kinetics type <class 'rmgpy.kinetics.chebyshev.Chebyshev'> for duplicate reaction CHFO(49) + C4H6(230) <=> CHFO(49) + C4H6(869). Not combining reactions.\n",
      "WARNING:root:Unexpected kinetics type <class 'rmgpy.kinetics.chebyshev.Chebyshev'> for duplicate reaction CHFO(49) + C4H6(230) <=> CHFO(49) + C4H6(869). Not combining reactions.\n",
      "WARNING:root:Unexpected kinetics type <class 'rmgpy.kinetics.chebyshev.Chebyshev'> for duplicate reaction CHFO(49) + C4H6(230) <=> CHFO(49) + C4H6(869). Not combining reactions.\n",
      "WARNING:root:Unexpected kinetics type <class 'rmgpy.kinetics.chebyshev.Chebyshev'> for duplicate reaction CHFO(49) + C4H6(230) <=> CHFO(49) + C4H6(869). Not combining reactions.\n",
      "WARNING:root:Unexpected kinetics type <class 'rmgpy.kinetics.chebyshev.Chebyshev'> for duplicate reaction CHFO(49) + C4H6(230) <=> CHFO(49) + C4H6(869). Not combining reactions.\n",
      "WARNING:root:Unexpected kinetics type <class 'rmgpy.kinetics.chebyshev.Chebyshev'> for duplicate reaction CHFO(49) + C4H6(230) <=> CHFO(49) + C4H6(869). Not combining reactions.\n",
      "WARNING:root:Unexpected kinetics type <class 'rmgpy.kinetics.chebyshev.Chebyshev'> for duplicate reaction C2H2(23) + C4H6(230) <=> C2H2(23) + C4H6(869). Not combining reactions.\n",
      "WARNING:root:Unexpected kinetics type <class 'rmgpy.kinetics.chebyshev.Chebyshev'> for duplicate reaction C3H3(73) + C4H6(230) <=> C3H3(73) + C4H6(869). Not combining reactions.\n",
      "WARNING:root:Unexpected kinetics type <class 'rmgpy.kinetics.chebyshev.Chebyshev'> for duplicate reaction C3H3(73) + C4H6(230) <=> C3H3(73) + C4H6(869). Not combining reactions.\n",
      "WARNING:root:Unexpected kinetics type <class 'rmgpy.kinetics.chebyshev.Chebyshev'> for duplicate reaction C3H3(73) + C4H6(230) <=> C3H3(73) + C4H6(869). Not combining reactions.\n",
      "WARNING:root:Unexpected kinetics type <class 'rmgpy.kinetics.chebyshev.Chebyshev'> for duplicate reaction C3H3(73) + C4H6(230) <=> C3H3(73) + C4H6(869). Not combining reactions.\n",
      "WARNING:root:Unexpected kinetics type <class 'rmgpy.kinetics.chebyshev.Chebyshev'> for duplicate reaction C3H3(73) + C4H6(230) <=> C3H3(73) + C4H6(869). Not combining reactions.\n",
      "WARNING:root:Unexpected kinetics type <class 'rmgpy.kinetics.chebyshev.Chebyshev'> for duplicate reaction C3H3(73) + C4H6(230) <=> C3H3(73) + C4H6(869). Not combining reactions.\n",
      "WARNING:root:Unexpected kinetics type <class 'rmgpy.kinetics.chebyshev.Chebyshev'> for duplicate reaction C3H3(73) + C4H6(230) <=> C3H3(73) + C4H6(869). Not combining reactions.\n",
      "WARNING:root:Unexpected kinetics type <class 'rmgpy.kinetics.chebyshev.Chebyshev'> for duplicate reaction C3H3(73) + C4H6(230) <=> C3H3(73) + C4H6(869). Not combining reactions.\n",
      "WARNING:root:Unexpected kinetics type <class 'rmgpy.kinetics.chebyshev.Chebyshev'> for duplicate reaction C3H3(73) + C4H6(230) <=> C3H3(73) + C4H6(869). Not combining reactions.\n",
      "WARNING:root:Unexpected kinetics type <class 'rmgpy.kinetics.chebyshev.Chebyshev'> for duplicate reaction C3H3(73) + C4H6(230) <=> C3H3(73) + C4H6(869). Not combining reactions.\n",
      "WARNING:root:Unexpected kinetics type <class 'rmgpy.kinetics.chebyshev.Chebyshev'> for duplicate reaction C3H3(73) + C4H6(230) <=> C3H3(73) + C4H6(869). Not combining reactions.\n",
      "WARNING:root:Unexpected kinetics type <class 'rmgpy.kinetics.chebyshev.Chebyshev'> for duplicate reaction C3H3(73) + C4H6(230) <=> C3H3(73) + C4H6(869). Not combining reactions.\n",
      "WARNING:root:Unexpected kinetics type <class 'rmgpy.kinetics.chebyshev.Chebyshev'> for duplicate reaction C3H3(73) + C4H6(230) <=> C3H3(73) + C4H6(869). Not combining reactions.\n",
      "WARNING:root:Unexpected kinetics type <class 'rmgpy.kinetics.chebyshev.Chebyshev'> for duplicate reaction C3H3(73) + C4H6(230) <=> C3H3(73) + C4H6(869). Not combining reactions.\n",
      "WARNING:root:Unexpected kinetics type <class 'rmgpy.kinetics.chebyshev.Chebyshev'> for duplicate reaction C3H3(73) + C4H6(230) <=> C3H3(73) + C4H6(869). Not combining reactions.\n",
      "WARNING:root:Unexpected kinetics type <class 'rmgpy.kinetics.chebyshev.Chebyshev'> for duplicate reaction O2(50) + C4H612(243) <=> O2(3) + C4H612(243). Not combining reactions.\n",
      "WARNING:root:Unexpected kinetics type <class 'rmgpy.kinetics.chebyshev.Chebyshev'> for duplicate reaction O2(50) + C4H612(243) <=> O2(3) + C4H612(243). Not combining reactions.\n",
      "WARNING:root:Unexpected kinetics type <class 'rmgpy.kinetics.chebyshev.Chebyshev'> for duplicate reaction O2(50) + C4H612(243) <=> O2(3) + C4H612(243). Not combining reactions.\n",
      "WARNING:root:Unexpected kinetics type <class 'rmgpy.kinetics.chebyshev.Chebyshev'> for duplicate reaction HOCHO(66) + C4H6(230) <=> HOCHO(66) + C4H6(869). Not combining reactions.\n",
      "WARNING:root:Unexpected kinetics type <class 'rmgpy.kinetics.chebyshev.Chebyshev'> for duplicate reaction HOCHO(66) + C4H6(230) <=> HOCHO(66) + C4H6(869). Not combining reactions.\n",
      "WARNING:root:Unexpected kinetics type <class 'rmgpy.kinetics.chebyshev.Chebyshev'> for duplicate reaction HOCHO(66) + C4H6(230) <=> HOCHO(66) + C4H6(869). Not combining reactions.\n",
      "WARNING:root:Unexpected kinetics type <class 'rmgpy.kinetics.chebyshev.Chebyshev'> for duplicate reaction CH2CHO(16) + C4H6(230) <=> CH2CHO(16) + C4H6(869). Not combining reactions.\n",
      "WARNING:root:Unexpected kinetics type <class 'rmgpy.kinetics.chebyshev.Chebyshev'> for duplicate reaction CH2CHO(16) + C4H6(230) <=> CH2CHO(16) + C4H6(869). Not combining reactions.\n",
      "WARNING:root:Unexpected kinetics type <class 'rmgpy.kinetics.chebyshev.Chebyshev'> for duplicate reaction CH2CHO(16) + C4H6(230) <=> CH2CHO(16) + C4H6(869). Not combining reactions.\n",
      "WARNING:root:Unexpected kinetics type <class 'rmgpy.kinetics.chebyshev.Chebyshev'> for duplicate reaction CH2CHO(16) + C4H6(230) <=> CH2CHO(16) + C4H6(869). Not combining reactions.\n",
      "WARNING:root:Unexpected kinetics type <class 'rmgpy.kinetics.chebyshev.Chebyshev'> for duplicate reaction CH2CHO(16) + C4H6(230) <=> CH2CHO(16) + C4H6(869). Not combining reactions.\n",
      "WARNING:root:Unexpected kinetics type <class 'rmgpy.kinetics.chebyshev.Chebyshev'> for duplicate reaction CH2CHO(16) + C4H6(230) <=> CH2CHO(16) + C4H6(869). Not combining reactions.\n",
      "WARNING:root:Unexpected kinetics type <class 'rmgpy.kinetics.chebyshev.Chebyshev'> for duplicate reaction CH2CHO(16) + C4H6(230) <=> CH2CHO(16) + C4H6(869). Not combining reactions.\n",
      "WARNING:root:Unexpected kinetics type <class 'rmgpy.kinetics.chebyshev.Chebyshev'> for duplicate reaction CH2CHO(16) + C4H6(230) <=> CH2CHO(16) + C4H6(869). Not combining reactions.\n",
      "WARNING:root:Unexpected kinetics type <class 'rmgpy.kinetics.chebyshev.Chebyshev'> for duplicate reaction CH2CHO(16) + C4H6(230) <=> CH2CHO(16) + C4H6(869). Not combining reactions.\n",
      "WARNING:root:Unexpected kinetics type <class 'rmgpy.kinetics.chebyshev.Chebyshev'> for duplicate reaction CH2CHO(16) + C4H6(230) <=> CH2CHO(16) + C4H6(869). Not combining reactions.\n",
      "WARNING:root:Unexpected kinetics type <class 'rmgpy.kinetics.chebyshev.Chebyshev'> for duplicate reaction CH2CHO(16) + C4H6(230) <=> CH2CHO(16) + C4H6(869). Not combining reactions.\n",
      "WARNING:root:Unexpected kinetics type <class 'rmgpy.kinetics.chebyshev.Chebyshev'> for duplicate reaction CH2CHO(16) + C4H6(230) <=> CH2CHO(16) + C4H6(869). Not combining reactions.\n",
      "WARNING:root:Unexpected kinetics type <class 'rmgpy.kinetics.chebyshev.Chebyshev'> for duplicate reaction CH2CHO(16) + C4H6(230) <=> CH2CHO(16) + C4H6(869). Not combining reactions.\n",
      "WARNING:root:Unexpected kinetics type <class 'rmgpy.kinetics.chebyshev.Chebyshev'> for duplicate reaction CH2CHO(16) + C4H6(230) <=> CH2CHO(16) + C4H6(869). Not combining reactions.\n",
      "WARNING:root:Unexpected kinetics type <class 'rmgpy.kinetics.chebyshev.Chebyshev'> for duplicate reaction CH2CHO(16) + C4H6(230) <=> CH2CHO(16) + C4H6(869). Not combining reactions.\n",
      "WARNING:root:Unexpected kinetics type <class 'rmgpy.kinetics.chebyshev.Chebyshev'> for duplicate reaction HOCHO(66) + C4H6(230) <=> HOCHO(66) + C4H6(869). Not combining reactions.\n",
      "WARNING:root:Unexpected kinetics type <class 'rmgpy.kinetics.chebyshev.Chebyshev'> for duplicate reaction HOCHO(66) + C4H6(230) <=> HOCHO(66) + C4H6(869). Not combining reactions.\n",
      "WARNING:root:Unexpected kinetics type <class 'rmgpy.kinetics.chebyshev.Chebyshev'> for duplicate reaction HOCHO(66) + C4H6(230) <=> HOCHO(66) + C4H6(869). Not combining reactions.\n",
      "WARNING:root:Unexpected kinetics type <class 'rmgpy.kinetics.chebyshev.Chebyshev'> for duplicate reaction C2F2(730) + C4H6(230) <=> C2F2(730) + C4H6(869). Not combining reactions.\n",
      "WARNING:root:Unexpected kinetics type <class 'rmgpy.kinetics.chebyshev.Chebyshev'> for duplicate reaction O2(50) + C2HF(728) <=> O2(3) + C2HF(728). Not combining reactions.\n",
      "WARNING:root:Unexpected kinetics type <class 'rmgpy.kinetics.chebyshev.Chebyshev'> for duplicate reaction C2HF2O(5943) + C4H6(230) <=> C2HF2O(5943) + C4H6(869). Not combining reactions.\n",
      "WARNING:root:Unexpected kinetics type <class 'rmgpy.kinetics.chebyshev.Chebyshev'> for duplicate reaction C2HF2O(5943) + C4H6(230) <=> C2HF2O(5943) + C4H6(869). Not combining reactions.\n",
      "WARNING:root:Unexpected kinetics type <class 'rmgpy.kinetics.chebyshev.Chebyshev'> for duplicate reaction C2HF2O(5943) + C4H6(230) <=> C2HF2O(5943) + C4H6(869). Not combining reactions.\n",
      "WARNING:root:Unexpected kinetics type <class 'rmgpy.kinetics.chebyshev.Chebyshev'> for duplicate reaction C2HF2O(5943) + C4H6(230) <=> C2HF2O(5943) + C4H6(869). Not combining reactions.\n",
      "WARNING:root:Unexpected kinetics type <class 'rmgpy.kinetics.chebyshev.Chebyshev'> for duplicate reaction C2HF2O(5943) + C4H6(230) <=> C2HF2O(5943) + C4H6(869). Not combining reactions.\n",
      "WARNING:root:Unexpected kinetics type <class 'rmgpy.kinetics.chebyshev.Chebyshev'> for duplicate reaction C2HF2O(5943) + C4H6(230) <=> C2HF2O(5943) + C4H6(869). Not combining reactions.\n",
      "WARNING:root:Unexpected kinetics type <class 'rmgpy.kinetics.chebyshev.Chebyshev'> for duplicate reaction C2HF2O(5943) + C4H6(230) <=> C2HF2O(5943) + C4H6(869). Not combining reactions.\n",
      "WARNING:root:Unexpected kinetics type <class 'rmgpy.kinetics.chebyshev.Chebyshev'> for duplicate reaction C2HF2O(5943) + C4H6(230) <=> C2HF2O(5943) + C4H6(869). Not combining reactions.\n",
      "WARNING:root:Unexpected kinetics type <class 'rmgpy.kinetics.chebyshev.Chebyshev'> for duplicate reaction C2HF2O(5943) + C4H6(230) <=> C2HF2O(5943) + C4H6(869). Not combining reactions.\n",
      "WARNING:root:Unexpected kinetics type <class 'rmgpy.kinetics.chebyshev.Chebyshev'> for duplicate reaction C2HF2O(5943) + C4H6(230) <=> C2HF2O(5943) + C4H6(869). Not combining reactions.\n",
      "WARNING:root:Unexpected kinetics type <class 'rmgpy.kinetics.chebyshev.Chebyshev'> for duplicate reaction C2HF2O(5943) + C4H6(230) <=> C2HF2O(5943) + C4H6(869). Not combining reactions.\n",
      "WARNING:root:Unexpected kinetics type <class 'rmgpy.kinetics.chebyshev.Chebyshev'> for duplicate reaction C2HF2O(5943) + C4H6(230) <=> C2HF2O(5943) + C4H6(869). Not combining reactions.\n",
      "WARNING:root:Unexpected kinetics type <class 'rmgpy.kinetics.chebyshev.Chebyshev'> for duplicate reaction C2HF2O(5943) + C4H6(230) <=> C2HF2O(5943) + C4H6(869). Not combining reactions.\n",
      "WARNING:root:Unexpected kinetics type <class 'rmgpy.kinetics.chebyshev.Chebyshev'> for duplicate reaction C2HF2O(5943) + C4H6(230) <=> C2HF2O(5943) + C4H6(869). Not combining reactions.\n",
      "WARNING:root:Unexpected kinetics type <class 'rmgpy.kinetics.chebyshev.Chebyshev'> for duplicate reaction C2HF2O(5943) + C4H6(230) <=> C2HF2O(5943) + C4H6(869). Not combining reactions.\n",
      "WARNING:root:Unexpected kinetics type <class 'rmgpy.kinetics.chebyshev.Chebyshev'> for duplicate reaction O2(50) + C2HF2O(5943) <=> O2(3) + C2HF2O(5943). Not combining reactions.\n",
      "WARNING:root:Unexpected kinetics type <class 'rmgpy.kinetics.chebyshev.Chebyshev'> for duplicate reaction O2(50) + C2HF2O(5943) <=> O2(3) + C2HF2O(5943). Not combining reactions.\n",
      "WARNING:root:Unexpected kinetics type <class 'rmgpy.kinetics.chebyshev.Chebyshev'> for duplicate reaction O2(50) + C2HF2O(5943) <=> O2(3) + C2HF2O(5943). Not combining reactions.\n",
      "WARNING:root:Unexpected kinetics type <class 'rmgpy.kinetics.chebyshev.Chebyshev'> for duplicate reaction C2HF(728) + C4H6(230) <=> C2HF(728) + C4H6(869). Not combining reactions.\n",
      "WARNING:root:Unexpected kinetics type <class 'rmgpy.kinetics.chebyshev.Chebyshev'> for duplicate reaction C2HF(728) + C4H6(230) <=> C2HF(728) + C4H6(869). Not combining reactions.\n",
      "WARNING:root:Unexpected kinetics type <class 'rmgpy.kinetics.chebyshev.Chebyshev'> for duplicate reaction C2HF(728) + C4H6(230) <=> C2HF(728) + C4H6(869). Not combining reactions.\n",
      "WARNING:root:Unexpected kinetics type <class 'rmgpy.kinetics.chebyshev.Chebyshev'> for duplicate reaction C2HF(728) + C4H6(230) <=> C2HF(728) + C4H6(869). Not combining reactions.\n",
      "WARNING:root:Unexpected kinetics type <class 'rmgpy.kinetics.chebyshev.Chebyshev'> for duplicate reaction C2HF(728) + C4H6(230) <=> C2HF(728) + C4H6(869). Not combining reactions.\n",
      "WARNING:root:Unexpected kinetics type <class 'rmgpy.kinetics.chebyshev.Chebyshev'> for duplicate reaction C2HF(728) + C4H6(230) <=> C2HF(728) + C4H6(869). Not combining reactions.\n",
      "WARNING:root:Unexpected kinetics type <class 'rmgpy.kinetics.chebyshev.Chebyshev'> for duplicate reaction O2(50) + C2HFO(3726) <=> O2(3) + C2HFO(3726). Not combining reactions.\n",
      "WARNING:root:Unexpected kinetics type <class 'rmgpy.kinetics.chebyshev.Chebyshev'> for duplicate reaction O2(50) + C2HFO(3726) <=> O2(3) + C2HFO(3726). Not combining reactions.\n",
      "WARNING:root:Unexpected kinetics type <class 'rmgpy.kinetics.chebyshev.Chebyshev'> for duplicate reaction C2HFO(3726) + C4H6(230) <=> C2HFO(3726) + C4H6(869). Not combining reactions.\n",
      "WARNING:root:Unexpected kinetics type <class 'rmgpy.kinetics.chebyshev.Chebyshev'> for duplicate reaction C2HFO(3726) + C4H6(230) <=> C2HFO(3726) + C4H6(869). Not combining reactions.\n",
      "WARNING:root:Unexpected kinetics type <class 'rmgpy.kinetics.chebyshev.Chebyshev'> for duplicate reaction C2HFO(3726) + C4H6(230) <=> C2HFO(3726) + C4H6(869). Not combining reactions.\n",
      "WARNING:root:Unexpected kinetics type <class 'rmgpy.kinetics.chebyshev.Chebyshev'> for duplicate reaction C2HFO(3726) + C4H6(230) <=> C2HFO(3726) + C4H6(869). Not combining reactions.\n",
      "WARNING:root:Unexpected kinetics type <class 'rmgpy.kinetics.chebyshev.Chebyshev'> for duplicate reaction C2HFO(3726) + C4H6(230) <=> C2HFO(3726) + C4H6(869). Not combining reactions.\n",
      "WARNING:root:Unexpected kinetics type <class 'rmgpy.kinetics.chebyshev.Chebyshev'> for duplicate reaction C2HFO(3726) + C4H6(230) <=> C2HFO(3726) + C4H6(869). Not combining reactions.\n",
      "WARNING:root:Unexpected kinetics type <class 'rmgpy.kinetics.chebyshev.Chebyshev'> for duplicate reaction C2HFO(3726) + C4H6(230) <=> C2HFO(3726) + C4H6(869). Not combining reactions.\n",
      "WARNING:root:Unexpected kinetics type <class 'rmgpy.kinetics.chebyshev.Chebyshev'> for duplicate reaction C2HFO(3726) + C4H6(230) <=> C2HFO(3726) + C4H6(869). Not combining reactions.\n",
      "WARNING:root:Unexpected kinetics type <class 'rmgpy.kinetics.chebyshev.Chebyshev'> for duplicate reaction C2HFO(3726) + C4H6(230) <=> C2HFO(3726) + C4H6(869). Not combining reactions.\n",
      "WARNING:root:Unexpected kinetics type <class 'rmgpy.kinetics.chebyshev.Chebyshev'> for duplicate reaction C2HFO(3726) + C4H6(230) <=> C2HFO(3726) + C4H6(869). Not combining reactions.\n",
      "WARNING:root:Unexpected kinetics type <class 'rmgpy.kinetics.chebyshev.Chebyshev'> for duplicate reaction C2HFO(3726) + C4H6(230) <=> C2HFO(3726) + C4H6(869). Not combining reactions.\n",
      "WARNING:root:Unexpected kinetics type <class 'rmgpy.kinetics.chebyshev.Chebyshev'> for duplicate reaction C2HFO(3726) + C4H6(230) <=> C2HFO(3726) + C4H6(869). Not combining reactions.\n",
      "WARNING:root:Unexpected kinetics type <class 'rmgpy.kinetics.chebyshev.Chebyshev'> for duplicate reaction C2HFO(3726) + C4H6(230) <=> C2HFO(3726) + C4H6(869). Not combining reactions.\n",
      "WARNING:root:Unexpected kinetics type <class 'rmgpy.kinetics.chebyshev.Chebyshev'> for duplicate reaction C2HFO(3726) + C4H6(230) <=> C2HFO(3726) + C4H6(869). Not combining reactions.\n",
      "WARNING:root:Unexpected kinetics type <class 'rmgpy.kinetics.chebyshev.Chebyshev'> for duplicate reaction C2HFO(3726) + C4H6(230) <=> C2HFO(3726) + C4H6(869). Not combining reactions.\n",
      "WARNING:root:Unexpected kinetics type <class 'rmgpy.kinetics.chebyshev.Chebyshev'> for duplicate reaction O2(50) + C2HFO(3726) <=> O2(3) + C2HFO(3726). Not combining reactions.\n",
      "WARNING:root:Unexpected kinetics type <class 'rmgpy.kinetics.chebyshev.Chebyshev'> for duplicate reaction C2HF2O(5942) + C4H6(230) <=> C2HF2O(5942) + C4H6(869). Not combining reactions.\n",
      "WARNING:root:Unexpected kinetics type <class 'rmgpy.kinetics.chebyshev.Chebyshev'> for duplicate reaction C2HF2O(5942) + C4H6(230) <=> C2HF2O(5942) + C4H6(869). Not combining reactions.\n",
      "WARNING:root:Unexpected kinetics type <class 'rmgpy.kinetics.chebyshev.Chebyshev'> for duplicate reaction C2HF2O(5942) + C4H6(230) <=> C2HF2O(5942) + C4H6(869). Not combining reactions.\n",
      "WARNING:root:Unexpected kinetics type <class 'rmgpy.kinetics.chebyshev.Chebyshev'> for duplicate reaction C2HF2O(5942) + C4H6(230) <=> C2HF2O(5942) + C4H6(869). Not combining reactions.\n",
      "WARNING:root:Unexpected kinetics type <class 'rmgpy.kinetics.chebyshev.Chebyshev'> for duplicate reaction C2HF2O(5942) + C4H6(230) <=> C2HF2O(5942) + C4H6(869). Not combining reactions.\n",
      "WARNING:root:Unexpected kinetics type <class 'rmgpy.kinetics.chebyshev.Chebyshev'> for duplicate reaction C2HF2O(5942) + C4H6(230) <=> C2HF2O(5942) + C4H6(869). Not combining reactions.\n",
      "WARNING:root:Unexpected kinetics type <class 'rmgpy.kinetics.chebyshev.Chebyshev'> for duplicate reaction C2HF2O(5942) + C4H6(230) <=> C2HF2O(5942) + C4H6(869). Not combining reactions.\n",
      "WARNING:root:Unexpected kinetics type <class 'rmgpy.kinetics.chebyshev.Chebyshev'> for duplicate reaction C2HF2O(5942) + C4H6(230) <=> C2HF2O(5942) + C4H6(869). Not combining reactions.\n",
      "WARNING:root:Unexpected kinetics type <class 'rmgpy.kinetics.chebyshev.Chebyshev'> for duplicate reaction C2HF2O(5942) + C4H6(230) <=> C2HF2O(5942) + C4H6(869). Not combining reactions.\n",
      "WARNING:root:Unexpected kinetics type <class 'rmgpy.kinetics.chebyshev.Chebyshev'> for duplicate reaction C2HF2O(5942) + C4H6(230) <=> C2HF2O(5942) + C4H6(869). Not combining reactions.\n",
      "WARNING:root:Unexpected kinetics type <class 'rmgpy.kinetics.chebyshev.Chebyshev'> for duplicate reaction C2HF2O(5942) + C4H6(230) <=> C2HF2O(5942) + C4H6(869). Not combining reactions.\n",
      "WARNING:root:Unexpected kinetics type <class 'rmgpy.kinetics.chebyshev.Chebyshev'> for duplicate reaction C2HF2O(5942) + C4H6(230) <=> C2HF2O(5942) + C4H6(869). Not combining reactions.\n",
      "WARNING:root:Unexpected kinetics type <class 'rmgpy.kinetics.chebyshev.Chebyshev'> for duplicate reaction C2HF2O(5942) + C4H6(230) <=> C2HF2O(5942) + C4H6(869). Not combining reactions.\n",
      "WARNING:root:Unexpected kinetics type <class 'rmgpy.kinetics.chebyshev.Chebyshev'> for duplicate reaction C2HF2O(5942) + C4H6(230) <=> C2HF2O(5942) + C4H6(869). Not combining reactions.\n",
      "WARNING:root:Unexpected kinetics type <class 'rmgpy.kinetics.chebyshev.Chebyshev'> for duplicate reaction C2HF2O(5942) + C4H6(230) <=> C2HF2O(5942) + C4H6(869). Not combining reactions.\n",
      "WARNING:root:Unexpected kinetics type <class 'rmgpy.kinetics.chebyshev.Chebyshev'> for duplicate reaction O2(50) + C3H4F2(1805) <=> O2(3) + C3H4F2(1805). Not combining reactions.\n",
      "WARNING:root:Unexpected kinetics type <class 'rmgpy.kinetics.chebyshev.Chebyshev'> for duplicate reaction HO2(10) + C3H4F2(1805) <=> CF2(58) + C2H5O2(30). Not combining reactions.\n"
     ]
    }
   ],
   "source": [
    "#current model\n",
    "full_path = '/work/westgroup/nora/Code/'\n",
    "\n",
    "curr_RMG_chem = full_path + 'projects/PFAS/ESSCI/models/RMG/H_F_families_only/chemkin/chem0119.inp'\n",
    "curr_RMG_dict = full_path + 'projects/PFAS/ESSCI/models/RMG/H_F_families_only/chemkin/species_dictionary.txt'\n",
    "curr_RMG_trans = full_path + 'projects/PFAS/ESSCI/models/RMG/H_F_families_only/chemkin/tran.dat'\n",
    "\n",
    "curr_species_list, curr_reaction_list = rmgpy.chemkin.load_chemkin_file(curr_RMG_chem, dictionary_path=curr_RMG_dict, transport_path=curr_RMG_trans)"
   ]
  },
  {
   "cell_type": "code",
   "execution_count": 54,
   "id": "ae8736cf-b537-4aef-a94e-b10315355991",
   "metadata": {},
   "outputs": [],
   "source": [
    "#previous model\n",
    "full_path = '/work/westgroup/nora/Code/'\n",
    "\n",
    "prev_RMG_chem = full_path + 'projects/PFAS/models/C3H8_CH2F2/C3H8_CH2F2/second_try_on_rebase/chemkin/copies/copy_98_chem_annotated.inp'\n",
    "prev_RMG_dict = full_path + 'projects/PFAS/models/C3H8_CH2F2/C3H8_CH2F2/second_try_on_rebase/chemkin/species_dictionary.txt'\n",
    "prev_RMG_trans = full_path + 'projects/PFAS/models/C3H8_CH2F2/C3H8_CH2F2/second_try_on_rebase/chemkin/tran.dat'\n",
    "\n",
    "prev_species_list, prev_reaction_list = rmgpy.chemkin.load_chemkin_file(prev_RMG_chem, dictionary_path=prev_RMG_dict, transport_path=prev_RMG_trans)"
   ]
  },
  {
   "cell_type": "code",
   "execution_count": 59,
   "id": "ccc0a7d0-1cff-4518-9d13-2c7c4108f616",
   "metadata": {},
   "outputs": [
    {
     "name": "stdout",
     "output_type": "stream",
     "text": [
      "H(5) + CHFO(692) <=> HF(684) + HCO(14) \t 525.6200385331582\n",
      "H(5) + CHFCF2(700) <=> HF(684) + CHFCF[Z](717) \t 170.82691764090723\n",
      "H(5) + CHFCF2(700) <=> HF(684) + CF2CH(718) \t 205.64714132359074\n",
      "CHFCF[Z](717) + CHFCF2(700) <=> CF2CH(718) + CHFCF2(700) \t 1.8712161791928972\n",
      "CHFO(692) + CF2CH(718) <=> HCO(14) + CHFCF2(700) \t 1.3968163056956187\n",
      "H(5) + CHF3(687) <=> HF(684) + CHF2(727) \t 60.909213141775304\n",
      "CHF2(727) + CHFO(692) <=> CHF3(687) + HCO(14) \t 0.10793313231963368\n",
      "CHF2(727) + CHFCF2(700) <=> CHF3(687) + CF2CH(718) \t 1.8398697905560226\n",
      "CHF3(687) + CHFCF[Z](717) <=> CHF2(727) + CHFCF2(700) \t 2.2405167398732773\n",
      "CHF2(727) + C2HF(703) <=> CHF3(687) + C2H(28) \t 0.15905828383274984\n"
     ]
    }
   ],
   "source": [
    "F_abs_rxns_prev = []\n",
    "for rxn in prev_reaction_list:\n",
    "    try: \n",
    "        if rxn.family=='F_Abstraction':\n",
    "            F_abs_rxns_prev.append(rxn)\n",
    "    except AttributeError as e: \n",
    "        continue\n",
    "        \n",
    "for rxn in F_abs_rxns_prev:\n",
    "    print(rxn, '\\t', rxn.get_rate_coefficient(1400,101325))"
   ]
  },
  {
   "cell_type": "code",
   "execution_count": 67,
   "id": "8c016260-47fe-4b9f-af81-4011d68a9606",
   "metadata": {},
   "outputs": [],
   "source": [
    "reaction_smiles = []\n",
    "for rxn in F_abs_rxns_prev:\n",
    "    reactant_smiles = []\n",
    "    product_smiles = []\n",
    "    for reactant in rxn.reactants: \n",
    "        reactant_smiles.append(reactant.smiles)\n",
    "    for product in rxn.products: \n",
    "        product_smiles.append(product.smiles)\n",
    "    reaction_smiles.append((reactant_smiles, product_smiles))"
   ]
  },
  {
   "cell_type": "code",
   "execution_count": 90,
   "id": "489b98f9-ac6e-484c-a86b-80dc261f992e",
   "metadata": {},
   "outputs": [
    {
     "data": {
      "image/png": "[encoded data removed]",
      "text/plain": [
       "TemplateReaction(index=440, reactants=[Species(index=5, label=\"H\", thermo=NASA(polynomials=[NASAPolynomial(coeffs=[2.5,9.05029e-14,-1.20495e-16,5.23432e-20,-6.99814e-24,25472.7,-0.459566], Tmin=(100,'K'), Tmax=(4230.24,'K')), NASAPolynomial(coeffs=[2.5,3.58763e-09,-1.22015e-12,1.84118e-16,-1.04e-20,25472.7,-0.459541], Tmin=(4230.24,'K'), Tmax=(5000,'K'))], Tmin=(100,'K'), Tmax=(5000,'K'), comment=\"\"\"Thermo library: BurkeH2O2\"\"\"), molecule=[Molecule(smiles=\"[H]\")], transport_data=TransportData(shapeIndex=0, epsilon=(1205.6,'J/mol'), sigma=(2.05,'angstrom'), dipoleMoment=(0,'De'), polarizability=(0,'angstrom^3'), rotrelaxcollnum=0.0, comment=\"\"\"GRI-Mech\"\"\"), molecular_weight=(1.00797,'amu')), Species(index=692, label=\"CHFO\", thermo=NASA(polynomials=[NASAPolynomial(coeffs=[2.1185,0.010774,-5.51582e-06,5.81519e-10,2.17042e-13,-46356.7,14.6524], Tmin=(298,'K'), Tmax=(1150,'K')), NASAPolynomial(coeffs=[4.81925,0.00505418,-2.01421e-06,3.63591e-10,-2.44724e-14,-47263.1,0.0972251], Tmin=(1150,'K'), Tmax=(3000,'K'))], Tmin=(298,'K'), Tmax=(3000,'K'), comment=\"\"\"Thermo library: Fluorine\"\"\"), molecule=[Molecule(smiles=\"O=CF\")], transport_data=TransportData(shapeIndex=2, epsilon=(2914.22,'J/mol'), sigma=(4.906,'angstrom'), dipoleMoment=(0,'De'), polarizability=(0,'angstrom^3'), rotrelaxcollnum=0.0, comment=\"\"\"NIST_Fluorine\"\"\"), molecular_weight=(48.0164,'amu'))], products=[Species(index=684, label=\"HF\", thermo=NASA(polynomials=[NASAPolynomial(coeffs=[3.43657,0.000486021,-1.2524e-06,1.36475e-09,-4.09574e-13,-33800.1,1.20682], Tmin=(298,'K'), Tmax=(1250,'K')), NASAPolynomial(coeffs=[2.7813,0.00103959,-2.41735e-07,2.68416e-11,-1.09766e-15,-33504.2,5.0197], Tmin=(1250,'K'), Tmax=(3000,'K'))], Tmin=(298,'K'), Tmax=(3000,'K'), comment=\"\"\"Thermo library: primaryThermoLibrary\"\"\"), molecule=[Molecule(smiles=\"F\")], transport_data=TransportData(shapeIndex=1, epsilon=(2743.78,'J/mol'), sigma=(3.148,'angstrom'), dipoleMoment=(1.92,'De'), polarizability=(2.46,'angstrom^3'), rotrelaxcollnum=1.0, comment=\"\"\"NIST_Fluorine\"\"\"), molecular_weight=(20.0064,'amu')), Species(index=14, label=\"HCO\", thermo=NASA(polynomials=[NASAPolynomial(coeffs=[4.23755,-0.00332075,1.4003e-05,-1.3424e-08,4.37416e-12,3872.41,3.30835], Tmin=(200,'K'), Tmax=(1000,'K')), NASAPolynomial(coeffs=[3.92002,0.00252279,-6.71004e-07,1.05616e-10,-7.43798e-15,3653.43,3.58077], Tmin=(1000,'K'), Tmax=(6000,'K'))], Tmin=(200,'K'), Tmax=(6000,'K'), comment=\"\"\"Thermo library: FFCM1(-)\"\"\"), molecule=[Molecule(smiles=\"[CH]=O\")], transport_data=TransportData(shapeIndex=2, epsilon=(4140.62,'J/mol'), sigma=(3.59,'angstrom'), dipoleMoment=(0,'De'), polarizability=(0,'angstrom^3'), rotrelaxcollnum=0.0, comment=\"\"\"GRI-Mech\"\"\"), molecular_weight=(29.018,'amu'))], kinetics=Arrhenius(A=(0.0331829,'cm^3/(mol*s)'), n=4.482, Ea=(24.991,'kcal/mol'), T0=(1,'K'), comment=\"\"\"Estimated from node Root_N-1R->O_N-3R->O_N-1BrCClFHINPSSi->F_3CClFH->H_1CClH->C_Ext-1C-R_N-4R!H->F_N-4BrCClINOPSSi->C_4ClO->O\"\"\"), pairs=[(Species(index=692, label=\"CHFO\", thermo=NASA(polynomials=[NASAPolynomial(coeffs=[2.1185,0.010774,-5.51582e-06,5.81519e-10,2.17042e-13,-46356.7,14.6524], Tmin=(298,'K'), Tmax=(1150,'K')), NASAPolynomial(coeffs=[4.81925,0.00505418,-2.01421e-06,3.63591e-10,-2.44724e-14,-47263.1,0.0972251], Tmin=(1150,'K'), Tmax=(3000,'K'))], Tmin=(298,'K'), Tmax=(3000,'K'), comment=\"\"\"Thermo library: Fluorine\"\"\"), molecule=[Molecule(smiles=\"O=CF\")], transport_data=TransportData(shapeIndex=2, epsilon=(2914.22,'J/mol'), sigma=(4.906,'angstrom'), dipoleMoment=(0,'De'), polarizability=(0,'angstrom^3'), rotrelaxcollnum=0.0, comment=\"\"\"NIST_Fluorine\"\"\"), molecular_weight=(48.0164,'amu')), Species(index=14, label=\"HCO\", thermo=NASA(polynomials=[NASAPolynomial(coeffs=[4.23755,-0.00332075,1.4003e-05,-1.3424e-08,4.37416e-12,3872.41,3.30835], Tmin=(200,'K'), Tmax=(1000,'K')), NASAPolynomial(coeffs=[3.92002,0.00252279,-6.71004e-07,1.05616e-10,-7.43798e-15,3653.43,3.58077], Tmin=(1000,'K'), Tmax=(6000,'K'))], Tmin=(200,'K'), Tmax=(6000,'K'), comment=\"\"\"Thermo library: FFCM1(-)\"\"\"), molecule=[Molecule(smiles=\"[CH]=O\")], transport_data=TransportData(shapeIndex=2, epsilon=(4140.62,'J/mol'), sigma=(3.59,'angstrom'), dipoleMoment=(0,'De'), polarizability=(0,'angstrom^3'), rotrelaxcollnum=0.0, comment=\"\"\"GRI-Mech\"\"\"), molecular_weight=(29.018,'amu'))), (Species(index=5, label=\"H\", thermo=NASA(polynomials=[NASAPolynomial(coeffs=[2.5,9.05029e-14,-1.20495e-16,5.23432e-20,-6.99814e-24,25472.7,-0.459566], Tmin=(100,'K'), Tmax=(4230.24,'K')), NASAPolynomial(coeffs=[2.5,3.58763e-09,-1.22015e-12,1.84118e-16,-1.04e-20,25472.7,-0.459541], Tmin=(4230.24,'K'), Tmax=(5000,'K'))], Tmin=(100,'K'), Tmax=(5000,'K'), comment=\"\"\"Thermo library: BurkeH2O2\"\"\"), molecule=[Molecule(smiles=\"[H]\")], transport_data=TransportData(shapeIndex=0, epsilon=(1205.6,'J/mol'), sigma=(2.05,'angstrom'), dipoleMoment=(0,'De'), polarizability=(0,'angstrom^3'), rotrelaxcollnum=0.0, comment=\"\"\"GRI-Mech\"\"\"), molecular_weight=(1.00797,'amu')), Species(index=684, label=\"HF\", thermo=NASA(polynomials=[NASAPolynomial(coeffs=[3.43657,0.000486021,-1.2524e-06,1.36475e-09,-4.09574e-13,-33800.1,1.20682], Tmin=(298,'K'), Tmax=(1250,'K')), NASAPolynomial(coeffs=[2.7813,0.00103959,-2.41735e-07,2.68416e-11,-1.09766e-15,-33504.2,5.0197], Tmin=(1250,'K'), Tmax=(3000,'K'))], Tmin=(298,'K'), Tmax=(3000,'K'), comment=\"\"\"Thermo library: primaryThermoLibrary\"\"\"), molecule=[Molecule(smiles=\"F\")], transport_data=TransportData(shapeIndex=1, epsilon=(2743.78,'J/mol'), sigma=(3.148,'angstrom'), dipoleMoment=(1.92,'De'), polarizability=(2.46,'angstrom^3'), rotrelaxcollnum=1.0, comment=\"\"\"NIST_Fluorine\"\"\"), molecular_weight=(20.0064,'amu')))], family='F_Abstraction')"
      ]
     },
     "execution_count": 90,
     "metadata": {},
     "output_type": "execute_result"
    }
   ],
   "source": [
    "F_abs_rxns_prev[0]"
   ]
  },
  {
   "cell_type": "code",
   "execution_count": 91,
   "id": "22965b00-94b7-4f6f-abed-7271e245eca9",
   "metadata": {},
   "outputs": [
    {
     "data": {
      "text/plain": [
       "525.6200385331582"
      ]
     },
     "execution_count": 91,
     "metadata": {},
     "output_type": "execute_result"
    }
   ],
   "source": [
    "F_abs_rxns_prev[0].get_rate_coefficient(1400, 101325)"
   ]
  },
  {
   "cell_type": "code",
   "execution_count": null,
   "id": "72d9d066-e66e-4900-afe3-94a4b6e9918f",
   "metadata": {},
   "outputs": [],
   "source": []
  },
  {
   "cell_type": "code",
   "execution_count": 3,
   "id": "07449be7-e1da-46ec-a2ca-f81af2a77bb2",
   "metadata": {},
   "outputs": [
    {
     "data": {
      "text/plain": [
       "99464216.33432922"
      ]
     },
     "execution_count": 3,
     "metadata": {},
     "output_type": "execute_result"
    }
   ],
   "source": [
    "A = 1.054700e-05\n",
    "n = 5.457\n",
    "Ea =26.866\n",
    "\n",
    "\n",
    "get_rate_coefficient(A, n, Ea)"
   ]
  },
  {
   "cell_type": "code",
   "execution_count": 94,
   "id": "b0583946-7bbd-42b0-a187-03b57eff252c",
   "metadata": {},
   "outputs": [
    {
     "data": {
      "text/plain": [
       "['[H]', 'O=CF']"
      ]
     },
     "execution_count": 94,
     "metadata": {},
     "output_type": "execute_result"
    }
   ],
   "source": [
    "[rct.smiles for rct in F_abs_rxns_prev[0].reactants]\n"
   ]
  },
  {
   "cell_type": "code",
   "execution_count": 2,
   "id": "01f7714b-344d-4255-aebf-f1b90878702d",
   "metadata": {},
   "outputs": [],
   "source": [
    "\n",
    "T0=1\n",
    "R = 8.314472\n",
    "T=1400\n",
    "def get_rate_coefficient(A, n, Ea):\n",
    "    Ea_ = Ea*4184\n",
    "    A_ = A/(10**6)\n",
    "    rate = A_ * (T / T0) ** n * math.exp(-Ea_ / (R * T))\n",
    "    rate_in_new_units = rate*(100**3)\n",
    "    return rate_in_new_units\n"
   ]
  },
  {
   "cell_type": "code",
   "execution_count": 13,
   "id": "8fd318e3-448a-4b3f-bade-064f94a34259",
   "metadata": {},
   "outputs": [
    {
     "name": "stdout",
     "output_type": "stream",
     "text": [
      "2.056471e+08 1.843728e+08\n",
      "5.256200e+08 2.527304e+08\n",
      "1.708269e+08 9.146354e+07\n",
      "1.396816e+06 2.931501e+05\n",
      "6.090921e+07 7.118397e+07\n",
      "1.079331e+05 2.087888e+05\n",
      "1.839870e+06 1.466456e+06\n",
      "2.240517e+06 7.504312e+04\n"
     ]
    }
   ],
   "source": [
    "new = [\n",
    "    {'A': 1.0547e-05, 'n': 5.457, 'Ea': 25.149}, # H(5) + CHFCF2(54) <=> HF(38) + CF2CH(72) \n",
    "    {'A': 6.87, 'n': 3.88, 'Ea': 29.732}, # H(5)+CHFO(49)<=>HF(36)+HCO(14)\n",
    "    {'A': 3.6973e-04, 'n': 5.139, 'Ea': 30.586}, #  H(5) + CHFCF2(54) <=> HF(38) + CHFCF[Z](71)\n",
    "    {'A': 5.861460e-04, 'n': 4.798, 'Ea': 40.973}, # CHFO(49) + CF2CH(740) <=> HCO(14) + CHFCF2(80)\n",
    "    {'A': 1.920000e+00, 'n': 4.04, 'Ea': 32.935}, # H(5)+CHF3(717)<=>HF(36)+CHF2(25)\n",
    "    {'A': 3.630000e+01, 'n': 3.37, 'Ea': 43.834}, # CHF2(25)+CHFO(49)<=>CHF3(717)+HCO(14)\n",
    "    {'A': 1.527230e-01, 'n': 4.186, 'Ea': 39.636}, #CHF2(25) + CHFCF2(80) <=> CHF3(717) + CF2CH(740)\n",
    "    {'A': 8.880000e+01, 'n': 3.23, 'Ea': 46.348} # CHF3(717) + CHFCF[Z](739) <=> CHF2(25) + CHFCF2(80)\n",
    "]   \n",
    "\n",
    "  \n",
    "old = [\n",
    "    {'A': 1.575380e-09, 'n':6.622, 'Ea': 23.817}, # H(5) + C2HF3(700) <=> HF(684) + CF2CH(718)\n",
    "    {'A': 3.318290e-02, 'n': 4.482, 'Ea': 24.991}, # H(5) + CHFO(692) <=> HF(684) + HCO(14)\n",
    "    {'A': 3.697300e-04, 'n': 5.139, 'Ea': 28.848}, # H(5) + C2HF3(700) <=> HF(684) + C2HF2(717)\n",
    "    {'A': 4.337330e+00, 'n': 3.866, 'Ea': 42.632}, # CHFO(692) + CF2CH(718) <=> HCO(14) + C2HF3(700)\n",
    "    {'A': 2.377800e-06, 'n': 5.814, 'Ea': 31.281}, # H(5) + CHF3(687) <=> HF(684) + CHF2(727)\n",
    "    {'A': 1.723350e-02, 'n': 4.187, 'Ea': 40.845}, # CHF2(727) + CHFO(692) <=> CHF3(687) + HCO(14)\n",
    "    {'A': 5.729900e+00, 'n': 3.761, 'Ea': 40.524}, # CHF2(727) + C2HF3(700) <=> CHF3(687) + CF2CH(718)\n",
    "    {'A': 8.360160e+00, 'n': 3.807, 'Ea': 41.954} # CHF3(687) + C2HF2(717) <=> CHF2(727) + C2HF3(700)\n",
    "]\n",
    "\n",
    "    \n",
    "for old_dic, new_dic in zip(old, new):\n",
    "    A = old_dic['A']\n",
    "    n = old_dic['n']\n",
    "    Ea = old_dic['Ea']\n",
    "    old_rate = get_rate_coefficient(A, n, Ea)\n",
    "    \n",
    "    A = new_dic['A']\n",
    "    n = new_dic['n']\n",
    "    Ea = new_dic['Ea']\n",
    "    new_rate = get_rate_coefficient(A, n, Ea)    \n",
    "    \n",
    "    print(f'{old_rate:e}', f'{new_rate:e}')\n",
    "\n",
    "\n",
    "\n"
   ]
  },
  {
   "cell_type": "code",
   "execution_count": null,
   "id": "7406f3c6-e38f-4984-8aa0-10a673eb24d1",
   "metadata": {},
   "outputs": [],
   "source": []
  },
  {
   "cell_type": "code",
   "execution_count": null,
   "id": "eff453fe-64f2-4262-a943-dd326a0bf709",
   "metadata": {},
   "outputs": [],
   "source": []
  },
  {
   "cell_type": "code",
   "execution_count": null,
   "id": "3f8a7c19-5dd0-42fe-8604-523a22b84999",
   "metadata": {},
   "outputs": [],
   "source": []
  },
  {
   "cell_type": "code",
   "execution_count": null,
   "id": "f2dca93b-7be2-400f-856a-d10736383cb4",
   "metadata": {},
   "outputs": [],
   "source": []
  },
  {
   "cell_type": "code",
   "execution_count": null,
   "id": "19f10244-21f3-4fd6-b3bd-4fa924950aae",
   "metadata": {},
   "outputs": [],
   "source": []
  },
  {
   "cell_type": "code",
   "execution_count": null,
   "id": "ce852e42-63bf-44c4-a42d-f50d7ff306ed",
   "metadata": {},
   "outputs": [],
   "source": []
  },
  {
   "cell_type": "code",
   "execution_count": 4,
   "id": "77e06ac0-3585-42da-9409-69cb3b291c2e",
   "metadata": {},
   "outputs": [],
   "source": [
    "#load in the database\n",
    "database = RMGDatabase()\n",
    "database.load(\n",
    "            path = settings['database.directory'],\n",
    "            thermo_libraries = [],\n",
    "            transport_libraries = [],\n",
    "            reaction_libraries = [],\n",
    "            seed_mechanisms = [],#['BurkeH2O2inN2','ERC-FoundationFuelv0.9'],\n",
    "            kinetics_families = 'all',\n",
    "            kinetics_depositories = ['training'],\n",
    "            #frequenciesLibraries = self.statmechLibraries,\n",
    "            depository = False, # Don't bother loading the depository information, as we don't use it\n",
    "        )"
   ]
  },
  {
   "cell_type": "code",
   "execution_count": 9,
   "id": "1e9df15e-fa5e-404b-8726-bab7a33dd3ef",
   "metadata": {},
   "outputs": [],
   "source": [
    "H='[H]'\n",
    "CHFCF2='FC=C(F)F'\n",
    "HF='F'\n",
    "CF2CH='[CH]=C(F)F' \n",
    "\n",
    "\n",
    "reactant_Molecule = [Molecule(smiles=H), Molecule(smiles=CHFCF2)]\n",
    "product_Molecule = [Molecule(smiles=HF), Molecule(smiles=CF2CH),] \n",
    "\n",
    "\n",
    "reactant_Species = [Species(smiles=H), Species(smiles=CHFCF2)]\n",
    "product_Species = [Species(smiles=HF), Species(smiles=CF2CH),] \n",
    "\n",
    "\n",
    "\n",
    "template_reaction = database.kinetics.families['F_Abstraction'].generate_reactions(reactants=reactant_Molecule, products=product_Molecule) #just choose the first\n",
    "#template_reaction = database.kinetics.families['F_Abstraction'].generate_reactions(reactants=reactant_Species, products=product_Species) #just choose the first\n"
   ]
  },
  {
   "cell_type": "code",
   "execution_count": 5,
   "id": "2edc77a2-b164-4af7-8b4f-ed15c870f5d7",
   "metadata": {},
   "outputs": [],
   "source": [
    "[([reac_1, reac_2], [prod_1, prod_2])] = [(['C=CF', '[H]'], ['[CH]=C', 'F'])]\n",
    "\n",
    "\n",
    "\n",
    "reactant_Molecule = [Molecule(smiles=reac_1), Molecule(smiles=reac_2)]\n",
    "product_Molecule = [Molecule(smiles=prod_1), Molecule(smiles=prod_2),] \n",
    "\n",
    "\n",
    "\n",
    "\n",
    "template_reaction = database.kinetics.families['F_Abstraction'].generate_reactions(reactants=reactant_Molecule, products=product_Molecule) #just choose the first\n"
   ]
  },
  {
   "cell_type": "code",
   "execution_count": 6,
   "id": "99f74097-eea0-48b4-bc1e-d3eb4cb0ac3e",
   "metadata": {},
   "outputs": [
    {
     "data": {
      "text/plain": [
       "[TemplateReaction(reactants=[Molecule(smiles=\"C=CF\"), Molecule(smiles=\"[H]\")], products=[Molecule(smiles=\"F\"), Molecule(smiles=\"[CH]=C\")], pairs=[[Molecule(smiles=\"C=CF\"), Molecule(smiles=\"[CH]=C\")], [Molecule(smiles=\"[H]\"), Molecule(smiles=\"F\")]], family='F_Abstraction', template=['Root_N-1R->O_N-3R->O_1BrCClFHINPSSi->C_N-3CClFH->F_N-3CClH->C_Ext-1C-R_N-4R!H->F'])]"
      ]
     },
     "execution_count": 6,
     "metadata": {},
     "output_type": "execute_result"
    }
   ],
   "source": [
    "template_reaction"
   ]
  },
  {
   "cell_type": "code",
   "execution_count": 7,
   "id": "405f0fd9-12ee-46ae-a05a-0bd0bd99d2f4",
   "metadata": {},
   "outputs": [],
   "source": [
    "y = template_reaction[0]"
   ]
  },
  {
   "cell_type": "code",
   "execution_count": 8,
   "id": "c12c7a6f-3463-4880-ba03-7752b4dd0613",
   "metadata": {},
   "outputs": [],
   "source": [
    "family = database.kinetics.families['F_Abstraction']"
   ]
  },
  {
   "cell_type": "code",
   "execution_count": 9,
   "id": "e7eebe8a-5b3f-4f9d-b7dc-d4b72301be25",
   "metadata": {},
   "outputs": [],
   "source": [
    "x =family.get_kinetics(y, y.template)"
   ]
  },
  {
   "cell_type": "code",
   "execution_count": 11,
   "id": "3c1c3932-07a0-4a3e-83b7-85522afb376f",
   "metadata": {},
   "outputs": [],
   "source": [
    "rate_rule = [kinetic for kinetic in x if 'rate rules' in kinetic]"
   ]
  },
  {
   "cell_type": "code",
   "execution_count": 11,
   "id": "e921aeb5-508f-497b-b032-94ed8be6781a",
   "metadata": {},
   "outputs": [
    {
     "data": {
      "text/plain": [
       "[[ArrheniusBM(A=(1.0547e-11,'m^3/(mol*s)'), n=5.45748, w0=(525000,'J/mol'), E0=(136285,'J/mol'), Tmin=(300,'K'), Tmax=(2000,'K'), uncertainty=RateUncertainty(mu=0.0028779226243416762, var=0.9461506762015217, Tref=1000.0, N=6, data_mean=0.0, correlation='Root_N-1R->O_N-3R->O_1BrCClFHINPSSi->C_N-3CClFH->F_N-3CClH->C_Ext-1C-R_N-4R!H->F',), comment=\"\"\"Estimated from node Root_N-1R->O_N-3R->O_1BrCClFHINPSSi->C_N-3CClFH->F_N-3CClH->C_Ext-1C-R_N-4R!H->F\"\"\"),\n",
       "  'rate rules',\n",
       "  <Entry index=122 label=\"Root_N-1R->O_N-3R->O_1BrCClFHINPSSi->C_N-3CClFH->F_N-3CClH->C_Ext-1C-R_N-4R!H->F\">,\n",
       "  True],\n",
       " [ArrheniusBM(A=(2.64503e+22,'m^3/(mol*s)'), n=-4.37866, w0=(409075,'J/mol'), E0=(226619,'J/mol'), Tmin=(300,'K'), Tmax=(2000,'K'), uncertainty=RateUncertainty(mu=0.7907502389793126, var=30.171198606741513, Tref=1000.0, N=234, data_mean=0.0, correlation='Root',), comment=\"\"\"Estimated from node RootMatched node Root_N-1R->O_N-3R->O_1BrCClFHINPSSi->C_N-3CClFH->F_N-3CClH->C_Ext-1C-R_N-4R!H->F >> Root_N-1R->O_N-3R->O_1BrCClFHINPSSi->C_N-3CClFH->F_N-3CClH->C_Ext-1C-R >> Root_N-1R->O_N-3R->O_1BrCClFHINPSSi->C_N-3CClFH->F_N-3CClH->C >> Root_N-1R->O_N-3R->O_1BrCClFHINPSSi->C_N-3CClFH->F >> Root_N-1R->O_N-3R->O_1BrCClFHINPSSi->C >> Root_N-1R->O_N-3R->O >> Root_N-1R->O >> Root (Top node)\n",
       "  Multiplied by reaction path degeneracy 1\"\"\"),\n",
       "  'group additivity',\n",
       "  None,\n",
       "  True]]"
      ]
     },
     "execution_count": 11,
     "metadata": {},
     "output_type": "execute_result"
    }
   ],
   "source": [
    "x"
   ]
  },
  {
   "cell_type": "code",
   "execution_count": 12,
   "id": "5302e321-f48c-4ebb-b81b-d3d77063fdb6",
   "metadata": {},
   "outputs": [],
   "source": [
    "y.kinetics = x[0][0]"
   ]
  },
  {
   "cell_type": "code",
   "execution_count": 14,
   "id": "10808153-44e3-4bda-aa60-f04b86374dfa",
   "metadata": {},
   "outputs": [
    {
     "data": {
      "text/plain": [
       "102981.81100654523"
      ]
     },
     "execution_count": 14,
     "metadata": {},
     "output_type": "execute_result"
    }
   ],
   "source": [
    "y.get_rate_coefficient(1400,101325)*(100**3)"
   ]
  },
  {
   "cell_type": "code",
   "execution_count": 17,
   "id": "be517c02-d717-4af0-8c6c-94f1fab501a5",
   "metadata": {},
   "outputs": [
    {
     "data": {
      "text/plain": [
       "[[Arrhenius(A=(6.87,'cm^3/(mol*s)'), n=3.88, Ea=(124.4,'kJ/mol'), T0=(1,'K'), Tmin=(300,'K'), Tmax=(2000,'K'), comment=\"\"\"Matched reaction 103 CHFO + H <=> CHO + HF in F_Abstraction/training\n",
       "  This reaction matched rate rule [Root_N-1R->O_N-3R->O_1BrCClFHINPSSi->C_N-3CClFH->F_N-3CClH->C_Ext-1C-R_N-4R!H->F_Sp-4BrBrCCClClIINNOOPPSSSiSi=1C]\n",
       "  family: F_Abstraction\"\"\"),\n",
       "  <KineticsDepository \"F_Abstraction/training\">,\n",
       "  <Entry index=103 label=\"CHFO + H <=> CHO + HF\">,\n",
       "  True],\n",
       " [ArrheniusBM(A=(2.54565e-18,'m^3/(mol*s)'), n=7.5188, w0=(525000,'J/mol'), E0=(132460,'J/mol'), Tmin=(300,'K'), Tmax=(2000,'K'), uncertainty=RateUncertainty(mu=0.6061594411776685, var=1.3263051219430193, Tref=1000.0, N=2, data_mean=0.0, correlation='Root_N-1R->O_N-3R->O_1BrCClFHINPSSi->C_N-3CClFH->F_N-3CClH->C_Ext-1C-R_N-4R!H->F_Sp-4BrBrCCClClIINNOOPPSSSiSi=1C',), comment=\"\"\"Estimated from node Root_N-1R->O_N-3R->O_1BrCClFHINPSSi->C_N-3CClFH->F_N-3CClH->C_Ext-1C-R_N-4R!H->F_Sp-4BrBrCCClClIINNOOPPSSSiSi=1C\"\"\"),\n",
       "  'rate rules',\n",
       "  <Entry index=166 label=\"Root_N-1R->O_N-3R->O_1BrCClFHINPSSi->C_N-3CClFH->F_N-3CClH->C_Ext-1C-R_N-4R!H->F_Sp-4BrBrCCClClIINNOOPPSSSiSi=1C\">,\n",
       "  True],\n",
       " [ArrheniusBM(A=(2.64503e+22,'m^3/(mol*s)'), n=-4.37866, w0=(409075,'J/mol'), E0=(226619,'J/mol'), Tmin=(300,'K'), Tmax=(2000,'K'), uncertainty=RateUncertainty(mu=0.7907502389793126, var=30.171198606741513, Tref=1000.0, N=234, data_mean=0.0, correlation='Root',), comment=\"\"\"Estimated from node RootMatched node Root_N-1R->O_N-3R->O_1BrCClFHINPSSi->C_N-3CClFH->F_N-3CClH->C_Ext-1C-R_N-4R!H->F_Sp-4BrBrCCClClIINNOOPPSSSiSi=1C >> Root_N-1R->O_N-3R->O_1BrCClFHINPSSi->C_N-3CClFH->F_N-3CClH->C_Ext-1C-R_N-4R!H->F >> Root_N-1R->O_N-3R->O_1BrCClFHINPSSi->C_N-3CClFH->F_N-3CClH->C_Ext-1C-R >> Root_N-1R->O_N-3R->O_1BrCClFHINPSSi->C_N-3CClFH->F_N-3CClH->C >> Root_N-1R->O_N-3R->O_1BrCClFHINPSSi->C_N-3CClFH->F >> Root_N-1R->O_N-3R->O_1BrCClFHINPSSi->C >> Root_N-1R->O_N-3R->O >> Root_N-1R->O >> Root (Top node)\n",
       "  Multiplied by reaction path degeneracy 1\"\"\"),\n",
       "  'group additivity',\n",
       "  None,\n",
       "  True]]"
      ]
     },
     "execution_count": 17,
     "metadata": {},
     "output_type": "execute_result"
    }
   ],
   "source": [
    "x"
   ]
  },
  {
   "cell_type": "code",
   "execution_count": 29,
   "id": "d12ffbf3-f351-4dd4-9125-1624e8f793e1",
   "metadata": {
    "tags": []
   },
   "outputs": [
    {
     "data": {
      "text/plain": [
       "\u001b[0;31mSignature:\u001b[0m\n",
       "\u001b[0mfamily\u001b[0m\u001b[0;34m.\u001b[0m\u001b[0mget_kinetics\u001b[0m\u001b[0;34m(\u001b[0m\u001b[0;34m\u001b[0m\n",
       "\u001b[0;34m\u001b[0m    \u001b[0mreaction\u001b[0m\u001b[0;34m,\u001b[0m\u001b[0;34m\u001b[0m\n",
       "\u001b[0;34m\u001b[0m    \u001b[0mtemplate_labels\u001b[0m\u001b[0;34m,\u001b[0m\u001b[0;34m\u001b[0m\n",
       "\u001b[0;34m\u001b[0m    \u001b[0mdegeneracy\u001b[0m\u001b[0;34m=\u001b[0m\u001b[0;36m1\u001b[0m\u001b[0;34m,\u001b[0m\u001b[0;34m\u001b[0m\n",
       "\u001b[0;34m\u001b[0m    \u001b[0mestimator\u001b[0m\u001b[0;34m=\u001b[0m\u001b[0;34m''\u001b[0m\u001b[0;34m,\u001b[0m\u001b[0;34m\u001b[0m\n",
       "\u001b[0;34m\u001b[0m    \u001b[0mreturn_all_kinetics\u001b[0m\u001b[0;34m=\u001b[0m\u001b[0;32mTrue\u001b[0m\u001b[0;34m,\u001b[0m\u001b[0;34m\u001b[0m\n",
       "\u001b[0;34m\u001b[0m\u001b[0;34m)\u001b[0m\u001b[0;34m\u001b[0m\u001b[0;34m\u001b[0m\u001b[0m\n",
       "\u001b[0;31mDocstring:\u001b[0m\n",
       "Return the kinetics for the given `reaction` by searching the various\n",
       "depositories as well as generating a result using the user-specified `estimator`\n",
       "of either 'group additivity' or 'rate rules'.  Unlike\n",
       "the regular :meth:`get_kinetics()` method, this returns a list of\n",
       "results, with each result comprising of\n",
       "\n",
       "1. the kinetics\n",
       "2. the source - this will be `None` if from a template estimate\n",
       "3. the entry  - this will be `None` if from a template estimate\n",
       "4. is_forward a boolean denoting whether the matched entry is in the same\n",
       "   direction as the inputted reaction. This will always be True if using\n",
       "   rates rules or group additivity. This can be `True` or `False` if using\n",
       "   a depository\n",
       "\n",
       "If return_all_kinetics==False, only the first (best?) matching kinetics is returned.\n",
       "\u001b[0;31mFile:\u001b[0m      ~/Code/RMG-Py/rmgpy/data/kinetics/family.py\n",
       "\u001b[0;31mType:\u001b[0m      method\n"
      ]
     },
     "metadata": {},
     "output_type": "display_data"
    }
   ],
   "source": [
    "family.get_kinetics?"
   ]
  },
  {
   "cell_type": "code",
   "execution_count": null,
   "id": "d9597e1f-30d6-4fc8-9efc-a08629d59b4a",
   "metadata": {},
   "outputs": [],
   "source": [
    "y.get_rate_coefficient(1400,101325)"
   ]
  },
  {
   "cell_type": "code",
   "execution_count": 17,
   "id": "fb539cbb-b23c-4a19-9b0e-7030bc992b93",
   "metadata": {},
   "outputs": [
    {
     "data": {
      "text/plain": [
       "['SurfaceArrhenius',\n",
       " '__class__',\n",
       " '__delattr__',\n",
       " '__dict__',\n",
       " '__dir__',\n",
       " '__doc__',\n",
       " '__eq__',\n",
       " '__format__',\n",
       " '__ge__',\n",
       " '__getattribute__',\n",
       " '__gt__',\n",
       " '__hash__',\n",
       " '__init__',\n",
       " '__init_subclass__',\n",
       " '__le__',\n",
       " '__lt__',\n",
       " '__module__',\n",
       " '__ne__',\n",
       " '__new__',\n",
       " '__pyx_vtable__',\n",
       " '__reduce__',\n",
       " '__reduce_ex__',\n",
       " '__repr__',\n",
       " '__setattr__',\n",
       " '__sizeof__',\n",
       " '__str__',\n",
       " '__subclasshook__',\n",
       " '__weakref__',\n",
       " '_degeneracy',\n",
       " '_repr_png_',\n",
       " 'allow_max_rate_violation',\n",
       " 'allow_pdep_route',\n",
       " 'calculate_coll_limit',\n",
       " 'calculate_microcanonical_rate_coefficient',\n",
       " 'calculate_tst_rate_coefficient',\n",
       " 'calculate_tst_rate_coefficients',\n",
       " 'can_tst',\n",
       " 'check_collision_limit_violation',\n",
       " 'comment',\n",
       " 'copy',\n",
       " 'degeneracy',\n",
       " 'draw',\n",
       " 'duplicate',\n",
       " 'elementary_high_p',\n",
       " 'ensure_species',\n",
       " 'estimator',\n",
       " 'family',\n",
       " 'fix_barrier_height',\n",
       " 'fix_diffusion_limited_a_factor',\n",
       " 'generate_3d_ts',\n",
       " 'generate_high_p_limit_kinetics',\n",
       " 'generate_pairs',\n",
       " 'generate_reverse_rate_coefficient',\n",
       " 'get_enthalpies_of_reaction',\n",
       " 'get_enthalpy_of_reaction',\n",
       " 'get_entropies_of_reaction',\n",
       " 'get_entropy_of_reaction',\n",
       " 'get_equilibrium_constant',\n",
       " 'get_equilibrium_constants',\n",
       " 'get_free_energies_of_reaction',\n",
       " 'get_free_energy_of_reaction',\n",
       " 'get_mean_sigma_and_epsilon',\n",
       " 'get_rate_coefficient',\n",
       " 'get_reduced_mass',\n",
       " 'get_source',\n",
       " 'get_stoichiometric_coefficient',\n",
       " 'get_surface_rate_coefficient',\n",
       " 'get_url',\n",
       " 'has_template',\n",
       " 'index',\n",
       " 'is_association',\n",
       " 'is_balanced',\n",
       " 'is_dissociation',\n",
       " 'is_forward',\n",
       " 'is_isomerization',\n",
       " 'is_isomorphic',\n",
       " 'is_surface_reaction',\n",
       " 'is_unimolecular',\n",
       " 'k_effective_cache',\n",
       " 'kinetics',\n",
       " 'label',\n",
       " 'matches_species',\n",
       " 'network_kinetics',\n",
       " 'pairs',\n",
       " 'products',\n",
       " 'rank',\n",
       " 'reactants',\n",
       " 'reverse',\n",
       " 'reverse_arrhenius_rate',\n",
       " 'reverse_sticking_coeff_rate',\n",
       " 'reverse_surface_arrhenius_rate',\n",
       " 'reversible',\n",
       " 'specific_collider',\n",
       " 'template',\n",
       " 'to_cantera',\n",
       " 'to_chemkin',\n",
       " 'to_labeled_str',\n",
       " 'transition_state']"
      ]
     },
     "execution_count": 17,
     "metadata": {},
     "output_type": "execute_result"
    }
   ],
   "source": [
    "dir(y)"
   ]
  },
  {
   "cell_type": "code",
   "execution_count": null,
   "id": "0092efac-92a6-49e4-ab5b-0f5187e3a4f1",
   "metadata": {},
   "outputs": [],
   "source": [
    "y.network_kinetics"
   ]
  },
  {
   "cell_type": "code",
   "execution_count": null,
   "id": "b04d45a5-8900-4a74-b9aa-82e5c2324454",
   "metadata": {},
   "outputs": [],
   "source": []
  },
  {
   "cell_type": "code",
   "execution_count": null,
   "id": "3efbe9e8-447d-4cbb-916c-c45aa7f06c5a",
   "metadata": {},
   "outputs": [],
   "source": [
    "manual comparison     Ea in kcal/mol\n",
    "new                         \n",
    "old \n",
    "\n",
    "equation: H(5) + CHFCF2(54) <=> HF(38) + CF2CH(72)  new\n",
    "rate-constant: {A: 1.0547e-05, b: 5.457, Ea: 25.149} new\n",
    "reaction('H(5) + C2HF3(700) <=> HF(684) + CF2CH(718)', [1.575380e-09, 6.622, 23.817]) old\n",
    "    \n",
    "H(5)+CHFO(49)<=>HF(36)+HCO(14)                      6.870000e+00 3.880     29.732  NEW\n",
    "reaction('H(5) + CHFO(692) <=> HF(684) + HCO(14)', [3.318290e-02, 4.482, 24.991]) old    \n",
    "\n",
    "\n",
    "- equation: H(5) + CHFCF2(54) <=> HF(38) + CHFCF[Z](71)  # Reaction 455 new \n",
    "  rate-constant: {A: 3.6973e-04, b: 5.139, Ea: 30.586} new\n",
    "reaction('H(5) + C2HF3(700) <=> HF(684) + C2HF2(717)', [3.697300e-04, 5.139, 28.848]) old\n",
    "    \n",
    "    \n",
    "reaction('CHFO(49) + CF2CH(740) <=> HCO(14) + CHFCF2(80)', [5.861460e-04, 4.798, 40.973])new\n",
    "reaction('CHFO(692) + CF2CH(718) <=> HCO(14) + C2HF3(700)', [4.337330e+00, 3.866, 42.632])old\n",
    "\n",
    "    \n",
    "reaction('C2HF2(717) + C2HF3(700) <=> CF2CH(718) + C2HF3(700)', [5.729900e+00, 3.761, 40.477]) old \n",
    "cant find new rate\n",
    "\n",
    "reaction('H(5) + CHF3(717) <=> HF(36) + CHF2(25)', [1.920000e+00, 4.04, 32.935]) new\n",
    "reaction('H(5) + CHF3(687) <=> HF(684) + CHF2(727)', [2.377800e-06, 5.814, 31.281])old\n",
    "\n",
    "\n",
    "reaction('CHF2(25) + CHFO(49) <=> CHF3(717) + HCO(14)', [3.630000e+01, 3.37, 43.834]) new\n",
    "reaction('CHF2(727) + CHFO(692) <=> CHF3(687) + HCO(14)', [1.723350e-02, 4.187, 40.845]) old\n",
    "\n",
    "reaction('CHF2(25) + CHFCF2(80) <=> CHF3(717) + CF2CH(740)', [1.527230e-01, 4.186, 39.636]) new\n",
    "reaction('CHF2(727) + C2HF3(700) <=> CHF3(687) + CF2CH(718)', [5.729900e+00, 3.761, 40.524]) old\n",
    "\n",
    "reaction('CHF3(717) + CHFCF[Z](739) <=> CHF2(25) + CHFCF2(80)', [8.880000e+01, 3.23, 46.348]) new\n",
    "reaction('CHF3(687) + C2HF2(717) <=> CHF2(727) + C2HF3(700)', [8.360160e+00, 3.807, 41.954])old\n",
    "\n",
    "CHF3(42)+C2H(22)<=>CHF2(82)+C2HF(58)                7.441770e+01 3.451     42.307   new BUT BACKWARD\n",
    "reaction('CHF2(727) + C2HF(703) <=> CHF3(687) + C2H(28)', [2.843880e-01, 3.89, 41.58]) old\n",
    "\n",
    "\n",
    "\n",
    "\n"
   ]
  },
  {
   "cell_type": "code",
   "execution_count": null,
   "id": "99084b28-b4a3-4709-a0c7-68f7acabb4aa",
   "metadata": {},
   "outputs": [],
   "source": [
    "manual comparison     Ea in kcal/mol\n",
    "new                         \n",
    "old \n",
    "\n",
    "equation: H(5) + CHFCF2(54) <=> HF(38) + CF2CH(72)  {A: 1.0547e-05, b: 5.457, Ea: 25.149} new good\n",
    "reaction('H(5) + C2HF3(700) <=> HF(684) + CF2CH(718)', [1.575380e-09, 6.622, 23.817]) old\n",
    "    \n",
    "    \n",
    "H(5)+CHFO(49)<=>HF(36)+HCO(14)                      6.870000e+00 3.880     29.732   new good\n",
    "- equation: H(5) + CHFO(46) <=> HF(38) + HCO(14)  # Reaction 452 old \n",
    "  rate-constant: {A: 6.87, b: 3.88, Ea: 29.732} old\n",
    "\n",
    "- equation: H(5) + CHFCF2(54) <=> HF(38) + CHFCF[Z](71) rate-constant: {A: 3.6973e-04, b: 5.139, Ea: 30.586} new good\n",
    "reaction('H(5) + C2HF3(700) <=> HF(684) + C2HF2(717)', [3.697300e-04, 5.139, 28.848]) old\n",
    "    \n",
    "    \n",
    "reaction('CHFO(49) + CF2CH(740) <=> HCO(14) + CHFCF2(80)', {A: 5.861460e-04, b: 4.798, Ea: 40.973}   new good\n",
    "reaction('CHFO(692) + CF2CH(718) <=> HCO(14) + C2HF3(700)', [4.337330e+00, 3.866, 42.632])old\n",
    "\n",
    "    \n",
    "reaction('C2HF2(717) + C2HF3(700) <=> CF2CH(718) + C2HF3(700)', [5.729900e+00, 3.761, 40.477]) old \n",
    "cant find new rate\n",
    "\n",
    "H(5)+CHF3(717)<=>HF(36)+CHF2(25)                    1.920000e+00 4.040     32.935  new good\n",
    "reaction('H(5) + CHF3(687) <=> HF(684) + CHF2(727)', [2.377800e-06, 5.814, 31.281])old\n",
    "\n",
    "\n",
    "CHF2(25)+CHFO(49)<=>CHF3(717)+HCO(14)               3.630000e+01 3.370     43.834  new good\n",
    "reaction('CHF2(727) + CHFO(692) <=> CHF3(687) + HCO(14)', [1.723350e-02, 4.187, 40.845]) old\n",
    "\n",
    "reaction('CHF2(25) + CHFCF2(80) <=> CHF3(717) + CF2CH(740)', [1.527230e-01, 4.186, 39.636]) new\n",
    "reaction('CHF2(727) + C2HF3(700) <=> CHF3(687) + CF2CH(718)', [5.729900e+00, 3.761, 40.524]) old\n",
    "\n",
    "reaction('CHF3(717) + CHFCF[Z](739) <=> CHF2(25) + CHFCF2(80)', [8.880000e+01, 3.23, 46.348]) new\n",
    "reaction('CHF3(687) + C2HF2(717) <=> CHF2(727) + C2HF3(700)', [8.360160e+00, 3.807, 41.954])old\n",
    "\n",
    "CHF3(42)+C2H(22)<=>CHF2(82)+C2HF(58)                7.441770e+01 3.451     42.307   new BUT BACKWARD\n",
    "reaction('CHF2(727) + C2HF(703) <=> CHF3(687) + C2H(28)', [2.843880e-01, 3.89, 41.58]) old\n",
    "\n",
    "\n",
    "\n",
    "\n"
   ]
  },
  {
   "cell_type": "code",
   "execution_count": null,
   "id": "5eaa2453-67b8-4dad-aa81-80d65a77cc79",
   "metadata": {},
   "outputs": [],
   "source": [
    "    cpdef double get_rate_coefficient(self, double T, double P=0.0) except -1:\n",
    "        \"\"\"\n",
    "        Return the rate coefficient in the appropriate combination of m^3,\n",
    "        mol, and s at temperature `T` in K.\n",
    "        \"\"\"\n",
    "        cdef double A, n, Ea, T0\n",
    "        A = self._A.value_si\n",
    "        n = self._n.value_si\n",
    "        Ea = self._Ea.value_si\n",
    "        T0 = self._T0.value_si\n",
    "        return A * (T / T0) ** n * exp(-Ea / (constants.R * T))"
   ]
  },
  {
   "cell_type": "code",
   "execution_count": null,
   "id": "9453d50e-3d0c-4627-9683-ff5f0341b8dc",
   "metadata": {},
   "outputs": [],
   "source": []
  }
 ],
 "metadata": {
  "kernelspec": {
   "display_name": "rmg_env",
   "language": "python",
   "name": "rmg_env"
  },
  "language_info": {
   "codemirror_mode": {
    "name": "ipython",
    "version": 3
   },
   "file_extension": ".py",
   "mimetype": "text/x-python",
   "name": "python",
   "nbconvert_exporter": "python",
   "pygments_lexer": "ipython3",
   "version": "3.7.16"
  }
 },
 "nbformat": 4,
 "nbformat_minor": 5
}
