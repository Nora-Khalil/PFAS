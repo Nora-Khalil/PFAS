{
 "cells": [
  {
   "cell_type": "code",
   "execution_count": 1,
   "metadata": {
    "scrolled": true
   },
   "outputs": [],
   "source": [
    "import rmgpy\n",
    "import numpy as np\n",
    "from rmgpy.molecule.molecule import *\n",
    "from rmgpy.species import *\n",
    "from rmgpy.chemkin import *\n",
    "from rmgpy.data.rmg import RMGDatabase\n",
    "from IPython.display import display\n",
    "from rmgpy.data.thermo import ThermoLibrary\n",
    "from rmgpy.rmg.react import react\n",
    "from rmgpy.species import Species\n",
    "from rmgpy.reaction import Reaction\n",
    "from rmgpy.data.rmg import get_db\n",
    "from rmgpy.molecule.group import Group\n",
    "from rmgpy.kinetics.arrhenius import ArrheniusBM\n",
    "from rmgpy import settings\n",
    "import time\n",
    "import matplotlib.pyplot as plt\n",
    "import matplotlib"
   ]
  },
  {
   "cell_type": "code",
   "execution_count": 2,
   "metadata": {},
   "outputs": [
    {
     "data": {
      "text/plain": [
       "{'database.directory': '/home/khalil.nor/Code/RMG-database/input',\n",
       " 'test_data.directory': '/home/khalil.nor/Code/RMG-Py/rmgpy/test_data'}"
      ]
     },
     "execution_count": 2,
     "metadata": {},
     "output_type": "execute_result"
    }
   ],
   "source": [
    "settings"
   ]
  },
  {
   "cell_type": "code",
   "execution_count": null,
   "metadata": {},
   "outputs": [],
   "source": [
    "#these families just had training rxns added to them \n",
    "\n",
    "#dict_keys(['1,2_Insertion_carbene', 'R_Addition_MultipleBond', 'XY_Addition_MultipleBond', 'Singlet_Carbene_Intra_Disproportionation', '1,2_Insertion_CO', '1+2_Cycloaddition', '1,3_Insertion_CO2', '1,3_sigmatropic_rearrangement'])"
   ]
  },
  {
   "cell_type": "code",
   "execution_count": 3,
   "metadata": {},
   "outputs": [],
   "source": [
    "thermo_libs = [\n",
    "'C1_C2_Fluorine', #adding Siddha's as first most trusted because this is the thermo library that Franklin used\n",
    "'NCSU_C2_C8_PFAS', #adding Westmoreland's thermo as the second most trusted\n",
    "'primaryThermoLibrary',\n",
    "'Fluorine',\n",
    "'FFCM1(-)',\n",
    "'halogens',\n",
    "'CHOF_G4',\n",
    "'CHOCl_G4',\n",
    "'CHOBr_G4',\n",
    "'CHOFCl_G4',\n",
    "'CHOFBr_G4',\n",
    "'CHOFClBr_G4',\n",
    "'DFT_QCI_thermo',\n",
    "'2-BTP_G4',\n",
    "'thermo_DFT_CCSDTF12_BAC',\n",
    "'SulfurHaynes'\n",
    "]\n",
    "\n",
    "kin_families = ['1,2_Insertion_carbene', 'R_Addition_MultipleBond', 'XY_Addition_MultipleBond', 'Singlet_Carbene_Intra_Disproportionation', '1,2_Insertion_CO', '1+2_Cycloaddition', '1,3_Insertion_CO2', '1,3_sigmatropic_rearrangement']"
   ]
  },
  {
   "cell_type": "code",
   "execution_count": 4,
   "metadata": {
    "scrolled": true
   },
   "outputs": [],
   "source": [
    "database = RMGDatabase()\n",
    "database.load(\n",
    "            path = settings['database.directory'],\n",
    "            thermo_libraries = thermo_libs,\n",
    "            transport_libraries = [],\n",
    "            reaction_libraries = [],\n",
    "            seed_mechanisms = [],#['BurkeH2O2inN2','ERC-FoundationFuelv0.9'],\n",
    "            kinetics_families = kin_families,\n",
    "            kinetics_depositories = ['training'],\n",
    "            #frequenciesLibraries = self.statmechLibraries,\n",
    "            depository = False, # Don't bother loading the depository information, as we don't use it\n",
    "        )\n"
   ]
  },
  {
   "cell_type": "code",
   "execution_count": 5,
   "metadata": {},
   "outputs": [
    {
     "data": {
      "text/plain": [
       "{'1+2_Cycloaddition': <ReactionFamily \"1+2_Cycloaddition\">,\n",
       " '1,2_Insertion_CO': <ReactionFamily \"1,2_Insertion_CO\">,\n",
       " '1,2_Insertion_carbene': <ReactionFamily \"1,2_Insertion_carbene\">,\n",
       " '1,3_Insertion_CO2': <ReactionFamily \"1,3_Insertion_CO2\">,\n",
       " '1,3_sigmatropic_rearrangement': <ReactionFamily \"1,3_sigmatropic_rearrangement\">,\n",
       " 'R_Addition_MultipleBond': <ReactionFamily \"R_Addition_MultipleBond\">,\n",
       " 'Singlet_Carbene_Intra_Disproportionation': <ReactionFamily \"Singlet_Carbene_Intra_Disproportionation\">,\n",
       " 'XY_Addition_MultipleBond': <ReactionFamily \"XY_Addition_MultipleBond\">}"
      ]
     },
     "execution_count": 5,
     "metadata": {},
     "output_type": "execute_result"
    }
   ],
   "source": [
    "database.kinetics.families"
   ]
  },
  {
   "cell_type": "code",
   "execution_count": 6,
   "metadata": {},
   "outputs": [],
   "source": [
    "# 'XY_Addition_MultipleBond' \n",
    "family_to_train = \"XY_Addition_MultipleBond\"\n",
    "family = database.kinetics.families[family_to_train]"
   ]
  },
  {
   "cell_type": "code",
   "execution_count": 7,
   "metadata": {},
   "outputs": [],
   "source": [
    "family.clean_tree()"
   ]
  },
  {
   "cell_type": "code",
   "execution_count": 8,
   "metadata": {},
   "outputs": [
    {
     "name": "stderr",
     "output_type": "stream",
     "text": [
      "ERROR:root:54.0\n",
      "ERROR:root:iter_max achieved terminating early\n",
      "ERROR:root:iter_max achieved terminating early\n",
      "ERROR:root:iter_max achieved terminating early\n",
      "ERROR:root:iter_max achieved terminating early\n",
      "ERROR:root:iter_max achieved terminating early\n"
     ]
    },
    {
     "name": "stdout",
     "output_type": "stream",
     "text": [
      "155.71979641914368\n"
     ]
    }
   ],
   "source": [
    "start = time.time()\n",
    "family.generate_tree(thermo_database=database.thermo,\n",
    "                     nprocs=1,\n",
    "                     new_fraction_threshold_to_reopt_node=0.25,\n",
    "                     max_batch_size=800,\n",
    "                     extension_iter_max=2,\n",
    "                     extension_iter_item_cap=100)\n",
    "\n",
    "end = time.time()\n",
    "print(end-start)"
   ]
  },
  {
   "cell_type": "code",
   "execution_count": 9,
   "metadata": {},
   "outputs": [
    {
     "data": {
      "text/plain": [
       "76"
      ]
     },
     "execution_count": 9,
     "metadata": {},
     "output_type": "execute_result"
    }
   ],
   "source": [
    "len(family.groups.entries)"
   ]
  },
  {
   "cell_type": "code",
   "execution_count": 10,
   "metadata": {
    "scrolled": true,
    "tags": []
   },
   "outputs": [
    {
     "data": {
      "text/plain": [
       "{'X_MultipleBond_Y': <Entry index=-1 label=\"X_MultipleBond_Y\">,\n",
       " 'Root': <Entry index=0 label=\"Root\">,\n",
       " 'Root_2Br1sCl1sF1s->F1s': <Entry index=1 label=\"Root_2Br1sCl1sF1s->F1s\">,\n",
       " 'Root_N-2Br1sCl1sF1s->F1s': <Entry index=2 label=\"Root_N-2Br1sCl1sF1s->F1s\">,\n",
       " 'Root_2Br1sCl1sF1s->F1s_Ext-3COCdCddCtO2d-R': <Entry index=3 label=\"Root_2Br1sCl1sF1s->F1s_Ext-3COCdCddCtO2d-R\">,\n",
       " 'Root_2Br1sCl1sF1s->F1s_3COCdCddCtO2d->Ct': <Entry index=4 label=\"Root_2Br1sCl1sF1s->F1s_3COCdCddCtO2d->Ct\">,\n",
       " 'Root_2Br1sCl1sF1s->F1s_N-3COCdCddCtO2d->Ct': <Entry index=5 label=\"Root_2Br1sCl1sF1s->F1s_N-3COCdCddCtO2d->Ct\">,\n",
       " 'Root_N-2Br1sCl1sF1s->F1s_1Br1sCl1sF1sH->Cl1s': <Entry index=6 label=\"Root_N-2Br1sCl1sF1s->F1s_1Br1sCl1sF1sH->Cl1s\">,\n",
       " 'Root_N-2Br1sCl1sF1s->F1s_N-1Br1sCl1sF1sH->Cl1s': <Entry index=7 label=\"Root_N-2Br1sCl1sF1s->F1s_N-1Br1sCl1sF1sH->Cl1s\">,\n",
       " 'Root_2Br1sCl1sF1s->F1s_Ext-3COCdCddCtO2d-R_Ext-3COCdCddCtO2d-R': <Entry index=8 label=\"Root_2Br1sCl1sF1s->F1s_Ext-3COCdCddCtO2d-R_Ext-3COCdCddCtO2d-R\">,\n",
       " 'Root_2Br1sCl1sF1s->F1s_Ext-3COCdCddCtO2d-R_5R!H->C': <Entry index=9 label=\"Root_2Br1sCl1sF1s->F1s_Ext-3COCdCddCtO2d-R_5R!H->C\">,\n",
       " 'Root_2Br1sCl1sF1s->F1s_Ext-3COCdCddCtO2d-R_N-5R!H->C': <Entry index=10 label=\"Root_2Br1sCl1sF1s->F1s_Ext-3COCdCddCtO2d-R_N-5R!H->C\">,\n",
       " 'Root_2Br1sCl1sF1s->F1s_N-3COCdCddCtO2d->Ct_4COCdCddCtO2d->Cdd': <Entry index=11 label=\"Root_2Br1sCl1sF1s->F1s_N-3COCdCddCtO2d->Ct_4COCdCddCtO2d->Cdd\">,\n",
       " 'Root_2Br1sCl1sF1s->F1s_N-3COCdCddCtO2d->Ct_N-4COCdCddCtO2d->Cdd': <Entry index=12 label=\"Root_2Br1sCl1sF1s->F1s_N-3COCdCddCtO2d->Ct_N-4COCdCddCtO2d->Cdd\">,\n",
       " 'Root_N-2Br1sCl1sF1s->F1s_N-1Br1sCl1sF1sH->Cl1s_3COCdCddCtO2d->Cd': <Entry index=13 label=\"Root_N-2Br1sCl1sF1s->F1s_N-1Br1sCl1sF1sH->Cl1s_3COCdCddCtO2d->Cd\">,\n",
       " 'Root_N-2Br1sCl1sF1s->F1s_N-1Br1sCl1sF1sH->Cl1s_N-3COCdCddCtO2d->Cd': <Entry index=14 label=\"Root_N-2Br1sCl1sF1s->F1s_N-1Br1sCl1sF1sH->Cl1s_N-3COCdCddCtO2d->Cd\">,\n",
       " 'Root_2Br1sCl1sF1s->F1s_Ext-3COCdCddCtO2d-R_Ext-3COCdCddCtO2d-R_5R!H->O': <Entry index=15 label=\"Root_2Br1sCl1sF1s->F1s_Ext-3COCdCddCtO2d-R_Ext-3COCdCddCtO2d-R_5R!H->O\">,\n",
       " 'Root_2Br1sCl1sF1s->F1s_Ext-3COCdCddCtO2d-R_Ext-3COCdCddCtO2d-R_N-5R!H->O': <Entry index=16 label=\"Root_2Br1sCl1sF1s->F1s_Ext-3COCdCddCtO2d-R_Ext-3COCdCddCtO2d-R_N-5R!H->O\">,\n",
       " 'Root_2Br1sCl1sF1s->F1s_Ext-3COCdCddCtO2d-R_5R!H->C_3COCdCddCtO2d->Ct': <Entry index=17 label=\"Root_2Br1sCl1sF1s->F1s_Ext-3COCdCddCtO2d-R_5R!H->C_3COCdCddCtO2d->Ct\">,\n",
       " 'Root_2Br1sCl1sF1s->F1s_Ext-3COCdCddCtO2d-R_5R!H->C_N-3COCdCddCtO2d->Ct': <Entry index=18 label=\"Root_2Br1sCl1sF1s->F1s_Ext-3COCdCddCtO2d-R_5R!H->C_N-3COCdCddCtO2d->Ct\">,\n",
       " 'Root_2Br1sCl1sF1s->F1s_Ext-3COCdCddCtO2d-R_N-5R!H->C_Ext-4COCdCddCtO2d-R': <Entry index=19 label=\"Root_2Br1sCl1sF1s->F1s_Ext-3COCdCddCtO2d-R_N-5R!H->C_Ext-4COCdCddCtO2d-R\">,\n",
       " 'Root_2Br1sCl1sF1s->F1s_N-3COCdCddCtO2d->Ct_N-4COCdCddCtO2d->Cdd_Ext-4COCdCt-R': <Entry index=20 label=\"Root_2Br1sCl1sF1s->F1s_N-3COCdCddCtO2d->Ct_N-4COCdCddCtO2d->Cdd_Ext-4COCdCt-R\">,\n",
       " 'Root_N-2Br1sCl1sF1s->F1s_N-1Br1sCl1sF1sH->Cl1s_3COCdCddCtO2d->Cd_2Br1sCl1s->Cl1s': <Entry index=21 label=\"Root_N-2Br1sCl1sF1s->F1s_N-1Br1sCl1sF1sH->Cl1s_3COCdCddCtO2d->Cd_2Br1sCl1s->Cl1s\">,\n",
       " 'Root_N-2Br1sCl1sF1s->F1s_N-1Br1sCl1sF1sH->Cl1s_3COCdCddCtO2d->Cd_N-2Br1sCl1s->Cl1s': <Entry index=22 label=\"Root_N-2Br1sCl1sF1s->F1s_N-1Br1sCl1sF1sH->Cl1s_3COCdCddCtO2d->Cd_N-2Br1sCl1s->Cl1s\">,\n",
       " 'Root_N-2Br1sCl1sF1s->F1s_N-1Br1sCl1sF1sH->Cl1s_N-3COCdCddCtO2d->Cd_2Br1sCl1s->Cl1s': <Entry index=23 label=\"Root_N-2Br1sCl1sF1s->F1s_N-1Br1sCl1sF1sH->Cl1s_N-3COCdCddCtO2d->Cd_2Br1sCl1s->Cl1s\">,\n",
       " 'Root_N-2Br1sCl1sF1s->F1s_N-1Br1sCl1sF1sH->Cl1s_N-3COCdCddCtO2d->Cd_N-2Br1sCl1s->Cl1s': <Entry index=24 label=\"Root_N-2Br1sCl1sF1s->F1s_N-1Br1sCl1sF1sH->Cl1s_N-3COCdCddCtO2d->Cd_N-2Br1sCl1s->Cl1s\">,\n",
       " 'Root_2Br1sCl1sF1s->F1s_Ext-3COCdCddCtO2d-R_Ext-3COCdCddCtO2d-R_5R!H->O_Ext-5O-R_Ext-7R!H-R_Ext-5O-R_Ext-8R!H-R_Ext-5O-R_8R!H->C': <Entry index=25 label=\"Root_2Br1sCl1sF1s->F1s_Ext-3COCdCddCtO2d-R_Ext-3COCdCddCtO2d-R_5R!H->O_Ext-5O-R_Ext-7R!H-R_Ext-5O-R_Ext-8R!H-R_Ext-5O-R_8R!H->C\">,\n",
       " 'Root_2Br1sCl1sF1s->F1s_Ext-3COCdCddCtO2d-R_Ext-3COCdCddCtO2d-R_5R!H->O_Ext-5O-R_Ext-7R!H-R_Ext-5O-R_Ext-8R!H-R_Ext-5O-R_N-8R!H->C': <Entry index=26 label=\"Root_2Br1sCl1sF1s->F1s_Ext-3COCdCddCtO2d-R_Ext-3COCdCddCtO2d-R_5R!H->O_Ext-5O-R_Ext-7R!H-R_Ext-5O-R_Ext-8R!H-R_Ext-5O-R_N-8R!H->C\">,\n",
       " 'Root_2Br1sCl1sF1s->F1s_Ext-3COCdCddCtO2d-R_Ext-3COCdCddCtO2d-R_N-5R!H->O_Ext-4COCdCddCtO2d-R': <Entry index=27 label=\"Root_2Br1sCl1sF1s->F1s_Ext-3COCdCddCtO2d-R_Ext-3COCdCddCtO2d-R_N-5R!H->O_Ext-4COCdCddCtO2d-R\">,\n",
       " 'Root_2Br1sCl1sF1s->F1s_Ext-3COCdCddCtO2d-R_N-5R!H->C_Ext-4COCdCddCtO2d-R_6R!H->F': <Entry index=28 label=\"Root_2Br1sCl1sF1s->F1s_Ext-3COCdCddCtO2d-R_N-5R!H->C_Ext-4COCdCddCtO2d-R_6R!H->F\">,\n",
       " 'Root_2Br1sCl1sF1s->F1s_Ext-3COCdCddCtO2d-R_N-5R!H->C_Ext-4COCdCddCtO2d-R_N-6R!H->F': <Entry index=29 label=\"Root_2Br1sCl1sF1s->F1s_Ext-3COCdCddCtO2d-R_N-5R!H->C_Ext-4COCdCddCtO2d-R_N-6R!H->F\">,\n",
       " 'Root_2Br1sCl1sF1s->F1s_N-3COCdCddCtO2d->Ct_N-4COCdCddCtO2d->Cdd_Ext-4COCdCt-R_5R!H->C': <Entry index=30 label=\"Root_2Br1sCl1sF1s->F1s_N-3COCdCddCtO2d->Ct_N-4COCdCddCtO2d->Cdd_Ext-4COCdCt-R_5R!H->C\">,\n",
       " 'Root_2Br1sCl1sF1s->F1s_N-3COCdCddCtO2d->Ct_N-4COCdCddCtO2d->Cdd_Ext-4COCdCt-R_N-5R!H->C': <Entry index=31 label=\"Root_2Br1sCl1sF1s->F1s_N-3COCdCddCtO2d->Ct_N-4COCdCddCtO2d->Cdd_Ext-4COCdCt-R_N-5R!H->C\">,\n",
       " 'Root_N-2Br1sCl1sF1s->F1s_N-1Br1sCl1sF1sH->Cl1s_3COCdCddCtO2d->Cd_2Br1sCl1s->Cl1s_Ext-3Cd-R': <Entry index=32 label=\"Root_N-2Br1sCl1sF1s->F1s_N-1Br1sCl1sF1sH->Cl1s_3COCdCddCtO2d->Cd_2Br1sCl1s->Cl1s_Ext-3Cd-R\">,\n",
       " 'Root_N-2Br1sCl1sF1s->F1s_N-1Br1sCl1sF1sH->Cl1s_3COCdCddCtO2d->Cd_2Br1sCl1s->Cl1s_Ext-4COCdCddCtO2d-R': <Entry index=33 label=\"Root_N-2Br1sCl1sF1s->F1s_N-1Br1sCl1sF1sH->Cl1s_3COCdCddCtO2d->Cd_2Br1sCl1s->Cl1s_Ext-4COCdCddCtO2d-R\">,\n",
       " 'Root_N-2Br1sCl1sF1s->F1s_N-1Br1sCl1sF1sH->Cl1s_3COCdCddCtO2d->Cd_N-2Br1sCl1s->Cl1s_Ext-3Cd-R': <Entry index=34 label=\"Root_N-2Br1sCl1sF1s->F1s_N-1Br1sCl1sF1sH->Cl1s_3COCdCddCtO2d->Cd_N-2Br1sCl1s->Cl1s_Ext-3Cd-R\">,\n",
       " 'Root_N-2Br1sCl1sF1s->F1s_N-1Br1sCl1sF1sH->Cl1s_3COCdCddCtO2d->Cd_N-2Br1sCl1s->Cl1s_Ext-4COCdCddCtO2d-R': <Entry index=35 label=\"Root_N-2Br1sCl1sF1s->F1s_N-1Br1sCl1sF1sH->Cl1s_3COCdCddCtO2d->Cd_N-2Br1sCl1s->Cl1s_Ext-4COCdCddCtO2d-R\">,\n",
       " 'Root_N-2Br1sCl1sF1s->F1s_N-1Br1sCl1sF1sH->Cl1s_N-3COCdCddCtO2d->Cd_2Br1sCl1s->Cl1s_Ext-3CtO2d-R': <Entry index=36 label=\"Root_N-2Br1sCl1sF1s->F1s_N-1Br1sCl1sF1sH->Cl1s_N-3COCdCddCtO2d->Cd_2Br1sCl1s->Cl1s_Ext-3CtO2d-R\">,\n",
       " 'Root_N-2Br1sCl1sF1s->F1s_N-1Br1sCl1sF1sH->Cl1s_N-3COCdCddCtO2d->Cd_2Br1sCl1s->Cl1s_Ext-4COCdCddCtO2d-R': <Entry index=37 label=\"Root_N-2Br1sCl1sF1s->F1s_N-1Br1sCl1sF1sH->Cl1s_N-3COCdCddCtO2d->Cd_2Br1sCl1s->Cl1s_Ext-4COCdCddCtO2d-R\">,\n",
       " 'Root_N-2Br1sCl1sF1s->F1s_N-1Br1sCl1sF1sH->Cl1s_N-3COCdCddCtO2d->Cd_N-2Br1sCl1s->Cl1s_3CtO2d->Ct': <Entry index=38 label=\"Root_N-2Br1sCl1sF1s->F1s_N-1Br1sCl1sF1sH->Cl1s_N-3COCdCddCtO2d->Cd_N-2Br1sCl1s->Cl1s_3CtO2d->Ct\">,\n",
       " 'Root_N-2Br1sCl1sF1s->F1s_N-1Br1sCl1sF1sH->Cl1s_N-3COCdCddCtO2d->Cd_N-2Br1sCl1s->Cl1s_N-3CtO2d->Ct': <Entry index=39 label=\"Root_N-2Br1sCl1sF1s->F1s_N-1Br1sCl1sF1sH->Cl1s_N-3COCdCddCtO2d->Cd_N-2Br1sCl1s->Cl1s_N-3CtO2d->Ct\">,\n",
       " 'Root_2Br1sCl1sF1s->F1s_Ext-3COCdCddCtO2d-R_Ext-3COCdCddCtO2d-R_5R!H->O_Ext-5O-R_Ext-7R!H-R_Ext-5O-R_Ext-8R!H-R_Ext-5O-R_8R!H->C_Ext-8C-R_9R!H->C': <Entry index=40 label=\"Root_2Br1sCl1sF1s->F1s_Ext-3COCdCddCtO2d-R_Ext-3COCdCddCtO2d-R_5R!H->O_Ext-5O-R_Ext-7R!H-R_Ext-5O-R_Ext-8R!H-R_Ext-5O-R_8R!H->C_Ext-8C-R_9R!H->C\">,\n",
       " 'Root_2Br1sCl1sF1s->F1s_Ext-3COCdCddCtO2d-R_Ext-3COCdCddCtO2d-R_5R!H->O_Ext-5O-R_Ext-7R!H-R_Ext-5O-R_Ext-8R!H-R_Ext-5O-R_8R!H->C_Ext-8C-R_N-9R!H->C': <Entry index=41 label=\"Root_2Br1sCl1sF1s->F1s_Ext-3COCdCddCtO2d-R_Ext-3COCdCddCtO2d-R_5R!H->O_Ext-5O-R_Ext-7R!H-R_Ext-5O-R_Ext-8R!H-R_Ext-5O-R_8R!H->C_Ext-8C-R_N-9R!H->C\">,\n",
       " 'Root_2Br1sCl1sF1s->F1s_Ext-3COCdCddCtO2d-R_Ext-3COCdCddCtO2d-R_N-5R!H->O_Ext-4COCdCddCtO2d-R_7R!H->C': <Entry index=42 label=\"Root_2Br1sCl1sF1s->F1s_Ext-3COCdCddCtO2d-R_Ext-3COCdCddCtO2d-R_N-5R!H->O_Ext-4COCdCddCtO2d-R_7R!H->C\">,\n",
       " 'Root_2Br1sCl1sF1s->F1s_Ext-3COCdCddCtO2d-R_Ext-3COCdCddCtO2d-R_N-5R!H->O_Ext-4COCdCddCtO2d-R_N-7R!H->C': <Entry index=43 label=\"Root_2Br1sCl1sF1s->F1s_Ext-3COCdCddCtO2d-R_Ext-3COCdCddCtO2d-R_N-5R!H->O_Ext-4COCdCddCtO2d-R_N-7R!H->C\">,\n",
       " 'Root_2Br1sCl1sF1s->F1s_Ext-3COCdCddCtO2d-R_N-5R!H->C_Ext-4COCdCddCtO2d-R_6R!H->F_Ext-4COCdCddCtO2d-R': <Entry index=44 label=\"Root_2Br1sCl1sF1s->F1s_Ext-3COCdCddCtO2d-R_N-5R!H->C_Ext-4COCdCddCtO2d-R_6R!H->F_Ext-4COCdCddCtO2d-R\">,\n",
       " 'Root_2Br1sCl1sF1s->F1s_N-3COCdCddCtO2d->Ct_N-4COCdCddCtO2d->Cdd_Ext-4COCdCt-R_5R!H->C_Ext-5C-R_6R!H->C': <Entry index=45 label=\"Root_2Br1sCl1sF1s->F1s_N-3COCdCddCtO2d->Ct_N-4COCdCddCtO2d->Cdd_Ext-4COCdCt-R_5R!H->C_Ext-5C-R_6R!H->C\">,\n",
       " 'Root_2Br1sCl1sF1s->F1s_N-3COCdCddCtO2d->Ct_N-4COCdCddCtO2d->Cdd_Ext-4COCdCt-R_5R!H->C_Ext-5C-R_N-6R!H->C': <Entry index=46 label=\"Root_2Br1sCl1sF1s->F1s_N-3COCdCddCtO2d->Ct_N-4COCdCddCtO2d->Cdd_Ext-4COCdCt-R_5R!H->C_Ext-5C-R_N-6R!H->C\">,\n",
       " 'Root_2Br1sCl1sF1s->F1s_N-3COCdCddCtO2d->Ct_N-4COCdCddCtO2d->Cdd_Ext-4COCdCt-R_N-5R!H->C_5BrClFINOPSSi->Br': <Entry index=47 label=\"Root_2Br1sCl1sF1s->F1s_N-3COCdCddCtO2d->Ct_N-4COCdCddCtO2d->Cdd_Ext-4COCdCt-R_N-5R!H->C_5BrClFINOPSSi->Br\">,\n",
       " 'Root_2Br1sCl1sF1s->F1s_N-3COCdCddCtO2d->Ct_N-4COCdCddCtO2d->Cdd_Ext-4COCdCt-R_N-5R!H->C_N-5BrClFINOPSSi->Br': <Entry index=48 label=\"Root_2Br1sCl1sF1s->F1s_N-3COCdCddCtO2d->Ct_N-4COCdCddCtO2d->Cdd_Ext-4COCdCt-R_N-5R!H->C_N-5BrClFINOPSSi->Br\">,\n",
       " 'Root_N-2Br1sCl1sF1s->F1s_N-1Br1sCl1sF1sH->Cl1s_3COCdCddCtO2d->Cd_2Br1sCl1s->Cl1s_Ext-3Cd-R_5R!H->Cl': <Entry index=49 label=\"Root_N-2Br1sCl1sF1s->F1s_N-1Br1sCl1sF1sH->Cl1s_3COCdCddCtO2d->Cd_2Br1sCl1s->Cl1s_Ext-3Cd-R_5R!H->Cl\">,\n",
       " 'Root_N-2Br1sCl1sF1s->F1s_N-1Br1sCl1sF1sH->Cl1s_3COCdCddCtO2d->Cd_2Br1sCl1s->Cl1s_Ext-3Cd-R_N-5R!H->Cl': <Entry index=50 label=\"Root_N-2Br1sCl1sF1s->F1s_N-1Br1sCl1sF1sH->Cl1s_3COCdCddCtO2d->Cd_2Br1sCl1s->Cl1s_Ext-3Cd-R_N-5R!H->Cl\">,\n",
       " 'Root_N-2Br1sCl1sF1s->F1s_N-1Br1sCl1sF1sH->Cl1s_3COCdCddCtO2d->Cd_2Br1sCl1s->Cl1s_Ext-4COCdCddCtO2d-R_Ext-4COCdCddCtO2d-R': <Entry index=51 label=\"Root_N-2Br1sCl1sF1s->F1s_N-1Br1sCl1sF1sH->Cl1s_3COCdCddCtO2d->Cd_2Br1sCl1s->Cl1s_Ext-4COCdCddCtO2d-R_Ext-4COCdCddCtO2d-R\">,\n",
       " 'Root_N-2Br1sCl1sF1s->F1s_N-1Br1sCl1sF1sH->Cl1s_3COCdCddCtO2d->Cd_2Br1sCl1s->Cl1s_Ext-4COCdCddCtO2d-R_5R!H->Cl': <Entry index=52 label=\"Root_N-2Br1sCl1sF1s->F1s_N-1Br1sCl1sF1sH->Cl1s_3COCdCddCtO2d->Cd_2Br1sCl1s->Cl1s_Ext-4COCdCddCtO2d-R_5R!H->Cl\">,\n",
       " 'Root_N-2Br1sCl1sF1s->F1s_N-1Br1sCl1sF1sH->Cl1s_3COCdCddCtO2d->Cd_2Br1sCl1s->Cl1s_Ext-4COCdCddCtO2d-R_N-5R!H->Cl': <Entry index=53 label=\"Root_N-2Br1sCl1sF1s->F1s_N-1Br1sCl1sF1sH->Cl1s_3COCdCddCtO2d->Cd_2Br1sCl1s->Cl1s_Ext-4COCdCddCtO2d-R_N-5R!H->Cl\">,\n",
       " 'Root_N-2Br1sCl1sF1s->F1s_N-1Br1sCl1sF1sH->Cl1s_3COCdCddCtO2d->Cd_N-2Br1sCl1s->Cl1s_Ext-3Cd-R_5R!H->C': <Entry index=54 label=\"Root_N-2Br1sCl1sF1s->F1s_N-1Br1sCl1sF1sH->Cl1s_3COCdCddCtO2d->Cd_N-2Br1sCl1s->Cl1s_Ext-3Cd-R_5R!H->C\">,\n",
       " 'Root_N-2Br1sCl1sF1s->F1s_N-1Br1sCl1sF1sH->Cl1s_3COCdCddCtO2d->Cd_N-2Br1sCl1s->Cl1s_Ext-3Cd-R_N-5R!H->C': <Entry index=55 label=\"Root_N-2Br1sCl1sF1s->F1s_N-1Br1sCl1sF1sH->Cl1s_3COCdCddCtO2d->Cd_N-2Br1sCl1s->Cl1s_Ext-3Cd-R_N-5R!H->C\">,\n",
       " 'Root_N-2Br1sCl1sF1s->F1s_N-1Br1sCl1sF1sH->Cl1s_N-3COCdCddCtO2d->Cd_2Br1sCl1s->Cl1s_Ext-3CtO2d-R_Ext-4COCdCddCtO2d-R': <Entry index=56 label=\"Root_N-2Br1sCl1sF1s->F1s_N-1Br1sCl1sF1sH->Cl1s_N-3COCdCddCtO2d->Cd_2Br1sCl1s->Cl1s_Ext-3CtO2d-R_Ext-4COCdCddCtO2d-R\">,\n",
       " 'Root_N-2Br1sCl1sF1s->F1s_N-1Br1sCl1sF1sH->Cl1s_N-3COCdCddCtO2d->Cd_2Br1sCl1s->Cl1s_Ext-4COCdCddCtO2d-R_3CtO2d->Ct': <Entry index=57 label=\"Root_N-2Br1sCl1sF1s->F1s_N-1Br1sCl1sF1sH->Cl1s_N-3COCdCddCtO2d->Cd_2Br1sCl1s->Cl1s_Ext-4COCdCddCtO2d-R_3CtO2d->Ct\">,\n",
       " 'Root_N-2Br1sCl1sF1s->F1s_N-1Br1sCl1sF1sH->Cl1s_N-3COCdCddCtO2d->Cd_2Br1sCl1s->Cl1s_Ext-4COCdCddCtO2d-R_N-3CtO2d->Ct': <Entry index=58 label=\"Root_N-2Br1sCl1sF1s->F1s_N-1Br1sCl1sF1sH->Cl1s_N-3COCdCddCtO2d->Cd_2Br1sCl1s->Cl1s_Ext-4COCdCddCtO2d-R_N-3CtO2d->Ct\">,\n",
       " 'Root_2Br1sCl1sF1s->F1s_Ext-3COCdCddCtO2d-R_Ext-3COCdCddCtO2d-R_N-5R!H->O_Ext-4COCdCddCtO2d-R_7R!H->C_Ext-7C-R_8R!H->C': <Entry index=59 label=\"Root_2Br1sCl1sF1s->F1s_Ext-3COCdCddCtO2d-R_Ext-3COCdCddCtO2d-R_N-5R!H->O_Ext-4COCdCddCtO2d-R_7R!H->C_Ext-7C-R_8R!H->C\">,\n",
       " 'Root_2Br1sCl1sF1s->F1s_Ext-3COCdCddCtO2d-R_Ext-3COCdCddCtO2d-R_N-5R!H->O_Ext-4COCdCddCtO2d-R_7R!H->C_Ext-7C-R_N-8R!H->C': <Entry index=60 label=\"Root_2Br1sCl1sF1s->F1s_Ext-3COCdCddCtO2d-R_Ext-3COCdCddCtO2d-R_N-5R!H->O_Ext-4COCdCddCtO2d-R_7R!H->C_Ext-7C-R_N-8R!H->C\">,\n",
       " 'Root_2Br1sCl1sF1s->F1s_Ext-3COCdCddCtO2d-R_Ext-3COCdCddCtO2d-R_N-5R!H->O_Ext-4COCdCddCtO2d-R_N-7R!H->C_7BrClFINOPSSi->Br': <Entry index=61 label=\"Root_2Br1sCl1sF1s->F1s_Ext-3COCdCddCtO2d-R_Ext-3COCdCddCtO2d-R_N-5R!H->O_Ext-4COCdCddCtO2d-R_N-7R!H->C_7BrClFINOPSSi->Br\">,\n",
       " 'Root_2Br1sCl1sF1s->F1s_Ext-3COCdCddCtO2d-R_Ext-3COCdCddCtO2d-R_N-5R!H->O_Ext-4COCdCddCtO2d-R_N-7R!H->C_N-7BrClFINOPSSi->Br': <Entry index=62 label=\"Root_2Br1sCl1sF1s->F1s_Ext-3COCdCddCtO2d-R_Ext-3COCdCddCtO2d-R_N-5R!H->O_Ext-4COCdCddCtO2d-R_N-7R!H->C_N-7BrClFINOPSSi->Br\">,\n",
       " 'Root_2Br1sCl1sF1s->F1s_N-3COCdCddCtO2d->Ct_N-4COCdCddCtO2d->Cdd_Ext-4COCdCt-R_5R!H->C_Ext-5C-R_6R!H->C_Ext-6C-R_7R!H->C': <Entry index=63 label=\"Root_2Br1sCl1sF1s->F1s_N-3COCdCddCtO2d->Ct_N-4COCdCddCtO2d->Cdd_Ext-4COCdCt-R_5R!H->C_Ext-5C-R_6R!H->C_Ext-6C-R_7R!H->C\">,\n",
       " 'Root_2Br1sCl1sF1s->F1s_N-3COCdCddCtO2d->Ct_N-4COCdCddCtO2d->Cdd_Ext-4COCdCt-R_5R!H->C_Ext-5C-R_6R!H->C_Ext-6C-R_N-7R!H->C': <Entry index=64 label=\"Root_2Br1sCl1sF1s->F1s_N-3COCdCddCtO2d->Ct_N-4COCdCddCtO2d->Cdd_Ext-4COCdCt-R_5R!H->C_Ext-5C-R_6R!H->C_Ext-6C-R_N-7R!H->C\">,\n",
       " 'Root_2Br1sCl1sF1s->F1s_N-3COCdCddCtO2d->Ct_N-4COCdCddCtO2d->Cdd_Ext-4COCdCt-R_N-5R!H->C_N-5BrClFINOPSSi->Br_Ext-4COCdCt-R': <Entry index=65 label=\"Root_2Br1sCl1sF1s->F1s_N-3COCdCddCtO2d->Ct_N-4COCdCddCtO2d->Cdd_Ext-4COCdCt-R_N-5R!H->C_N-5BrClFINOPSSi->Br_Ext-4COCdCt-R\">,\n",
       " 'Root_N-2Br1sCl1sF1s->F1s_N-1Br1sCl1sF1sH->Cl1s_3COCdCddCtO2d->Cd_2Br1sCl1s->Cl1s_Ext-3Cd-R_5R!H->Cl_Ext-3Cd-R': <Entry index=66 label=\"Root_N-2Br1sCl1sF1s->F1s_N-1Br1sCl1sF1sH->Cl1s_3COCdCddCtO2d->Cd_2Br1sCl1s->Cl1s_Ext-3Cd-R_5R!H->Cl_Ext-3Cd-R\">,\n",
       " 'Root_N-2Br1sCl1sF1s->F1s_N-1Br1sCl1sF1sH->Cl1s_3COCdCddCtO2d->Cd_2Br1sCl1s->Cl1s_Ext-3Cd-R_5R!H->Cl_Ext-4COCdCddCtO2d-R': <Entry index=67 label=\"Root_N-2Br1sCl1sF1s->F1s_N-1Br1sCl1sF1sH->Cl1s_3COCdCddCtO2d->Cd_2Br1sCl1s->Cl1s_Ext-3Cd-R_5R!H->Cl_Ext-4COCdCddCtO2d-R\">,\n",
       " 'Root_N-2Br1sCl1sF1s->F1s_N-1Br1sCl1sF1sH->Cl1s_3COCdCddCtO2d->Cd_N-2Br1sCl1s->Cl1s_Ext-3Cd-R_N-5R!H->C_Ext-4COCdCddCtO2d-R_Ext-4COCdCddCtO2d-R': <Entry index=68 label=\"Root_N-2Br1sCl1sF1s->F1s_N-1Br1sCl1sF1sH->Cl1s_3COCdCddCtO2d->Cd_N-2Br1sCl1s->Cl1s_Ext-3Cd-R_N-5R!H->C_Ext-4COCdCddCtO2d-R_Ext-4COCdCddCtO2d-R\">,\n",
       " 'Root_N-2Br1sCl1sF1s->F1s_N-1Br1sCl1sF1sH->Cl1s_3COCdCddCtO2d->Cd_N-2Br1sCl1s->Cl1s_Ext-3Cd-R_N-5R!H->C_Ext-3Cd-R': <Entry index=69 label=\"Root_N-2Br1sCl1sF1s->F1s_N-1Br1sCl1sF1sH->Cl1s_3COCdCddCtO2d->Cd_N-2Br1sCl1s->Cl1s_Ext-3Cd-R_N-5R!H->C_Ext-3Cd-R\">,\n",
       " 'Root_2Br1sCl1sF1s->F1s_Ext-3COCdCddCtO2d-R_Ext-3COCdCddCtO2d-R_N-5R!H->O_Ext-4COCdCddCtO2d-R_N-7R!H->C_N-7BrClFINOPSSi->Br_Ext-4COCdCddCtO2d-R': <Entry index=70 label=\"Root_2Br1sCl1sF1s->F1s_Ext-3COCdCddCtO2d-R_Ext-3COCdCddCtO2d-R_N-5R!H->O_Ext-4COCdCddCtO2d-R_N-7R!H->C_N-7BrClFINOPSSi->Br_Ext-4COCdCddCtO2d-R\">,\n",
       " 'Root_2Br1sCl1sF1s->F1s_N-3COCdCddCtO2d->Ct_N-4COCdCddCtO2d->Cdd_Ext-4COCdCt-R_N-5R!H->C_N-5BrClFINOPSSi->Br_Ext-4COCdCt-R_3CdO2d->O2d': <Entry index=71 label=\"Root_2Br1sCl1sF1s->F1s_N-3COCdCddCtO2d->Ct_N-4COCdCddCtO2d->Cdd_Ext-4COCdCt-R_N-5R!H->C_N-5BrClFINOPSSi->Br_Ext-4COCdCt-R_3CdO2d->O2d\">,\n",
       " 'Root_2Br1sCl1sF1s->F1s_N-3COCdCddCtO2d->Ct_N-4COCdCddCtO2d->Cdd_Ext-4COCdCt-R_N-5R!H->C_N-5BrClFINOPSSi->Br_Ext-4COCdCt-R_N-3CdO2d->O2d': <Entry index=72 label=\"Root_2Br1sCl1sF1s->F1s_N-3COCdCddCtO2d->Ct_N-4COCdCddCtO2d->Cdd_Ext-4COCdCt-R_N-5R!H->C_N-5BrClFINOPSSi->Br_Ext-4COCdCt-R_N-3CdO2d->O2d\">,\n",
       " 'Root_N-2Br1sCl1sF1s->F1s_N-1Br1sCl1sF1sH->Cl1s_3COCdCddCtO2d->Cd_2Br1sCl1s->Cl1s_Ext-3Cd-R_5R!H->Cl_Ext-3Cd-R_Ext-4COCdCddCtO2d-R': <Entry index=73 label=\"Root_N-2Br1sCl1sF1s->F1s_N-1Br1sCl1sF1sH->Cl1s_3COCdCddCtO2d->Cd_2Br1sCl1s->Cl1s_Ext-3Cd-R_5R!H->Cl_Ext-3Cd-R_Ext-4COCdCddCtO2d-R\">,\n",
       " 'Root_N-2Br1sCl1sF1s->F1s_N-1Br1sCl1sF1sH->Cl1s_3COCdCddCtO2d->Cd_2Br1sCl1s->Cl1s_Ext-3Cd-R_5R!H->Cl_Ext-3Cd-R_Ext-4COCdCddCtO2d-R_Ext-4COCdCddCtO2d-R': <Entry index=74 label=\"Root_N-2Br1sCl1sF1s->F1s_N-1Br1sCl1sF1sH->Cl1s_3COCdCddCtO2d->Cd_2Br1sCl1s->Cl1s_Ext-3Cd-R_5R!H->Cl_Ext-3Cd-R_Ext-4COCdCddCtO2d-R_Ext-4COCdCddCtO2d-R\">}"
      ]
     },
     "execution_count": 10,
     "metadata": {},
     "output_type": "execute_result"
    }
   ],
   "source": [
    "family.groups.entries"
   ]
  },
  {
   "cell_type": "code",
   "execution_count": 15,
   "metadata": {},
   "outputs": [
    {
     "name": "stdout",
     "output_type": "stream",
     "text": [
      "0.010245084762573242\n"
     ]
    }
   ],
   "source": [
    "start = time.time()\n",
    "family.check_tree()\n",
    "end = time.time()\n",
    "print(end-start)"
   ]
  },
  {
   "cell_type": "code",
   "execution_count": 16,
   "metadata": {},
   "outputs": [
    {
     "name": "stdout",
     "output_type": "stream",
     "text": [
      "0.47756290435791016\n"
     ]
    }
   ],
   "source": [
    "start = time.time()\n",
    "family.regularize(thermo_database=database.thermo)\n",
    "end = time.time()\n",
    "print(end-start)"
   ]
  },
  {
   "cell_type": "code",
   "execution_count": 17,
   "metadata": {},
   "outputs": [
    {
     "name": "stdout",
     "output_type": "stream",
     "text": [
      "0.4696521759033203\n"
     ]
    }
   ],
   "source": [
    "start = time.time()\n",
    "templateRxnMap = family.get_reaction_matches(thermo_database=database.thermo,remove_degeneracy=True,\n",
    "                                             get_reverse=True,exact_matches_only=False,fix_labels=True)\n",
    "end = time.time()\n",
    "print(end-start)"
   ]
  },
  {
   "cell_type": "code",
   "execution_count": 18,
   "metadata": {},
   "outputs": [
    {
     "data": {
      "text/plain": [
       "76"
      ]
     },
     "execution_count": 18,
     "metadata": {},
     "output_type": "execute_result"
    }
   ],
   "source": [
    "len(templateRxnMap)"
   ]
  },
  {
   "cell_type": "code",
   "execution_count": 19,
   "metadata": {},
   "outputs": [],
   "source": [
    "family.clean_tree_rules()"
   ]
  },
  {
   "cell_type": "code",
   "execution_count": 20,
   "metadata": {},
   "outputs": [
    {
     "name": "stderr",
     "output_type": "stream",
     "text": [
      "/home/khalil.nor/Code/RMG-Py/rmgpy/data/kinetics/family.py:3620: VisibleDeprecationWarning: Creating an ndarray from ragged nested sequences (which is a list-or-tuple of lists-or-tuples-or ndarrays with different lengths or shapes) is deprecated. If you meant to do this, you must specify 'dtype=object' when creating the ndarray.\n",
      "  for rxns, label in rxnlists])\n",
      "/work/westgroup/nora/miniconda/envs/rmg_env/lib/python3.7/site-packages/scipy/optimize/minpack.py:834: OptimizeWarning: Covariance of the parameters could not be estimated\n",
      "  category=OptimizeWarning)\n",
      "/work/westgroup/nora/miniconda/envs/rmg_env/lib/python3.7/site-packages/numpy/core/fromnumeric.py:3441: RuntimeWarning: Mean of empty slice.\n",
      "  out=out, **kwargs)\n",
      "/work/westgroup/nora/miniconda/envs/rmg_env/lib/python3.7/site-packages/numpy/core/_methods.py:189: RuntimeWarning: invalid value encountered in double_scalars\n",
      "  ret = ret.dtype.type(ret / rcount)\n"
     ]
    },
    {
     "name": "stdout",
     "output_type": "stream",
     "text": [
      "2.1511411666870117\n"
     ]
    }
   ],
   "source": [
    "start = time.time()\n",
    "family.make_bm_rules_from_template_rxn_map(templateRxnMap)#,nprocs=6)\n",
    "end = time.time()\n",
    "print(end-start)"
   ]
  },
  {
   "cell_type": "code",
   "execution_count": 21,
   "metadata": {},
   "outputs": [
    {
     "name": "stdout",
     "output_type": "stream",
     "text": [
      "0.013725757598876953\n"
     ]
    }
   ],
   "source": [
    "start = time.time()\n",
    "family.check_tree()\n",
    "end = time.time()\n",
    "print(end-start)"
   ]
  },
  {
   "cell_type": "code",
   "execution_count": 22,
   "metadata": {},
   "outputs": [
    {
     "name": "stdout",
     "output_type": "stream",
     "text": [
      "0.686244010925293\n"
     ]
    },
    {
     "name": "stderr",
     "output_type": "stream",
     "text": [
      "/work/westgroup/nora/miniconda/envs/rmg_env/lib/python3.7/site-packages/scipy/optimize/minpack.py:834: OptimizeWarning: Covariance of the parameters could not be estimated\n",
      "  category=OptimizeWarning)\n"
     ]
    }
   ],
   "source": [
    "start = time.time()\n",
    "errors,uncertainties = family.cross_validate(iters=0,random_state=5,folds=0,ascend=False)\n",
    "end = time.time()\n",
    "print(end-start)"
   ]
  },
  {
   "cell_type": "code",
   "execution_count": 23,
   "metadata": {},
   "outputs": [
    {
     "name": "stdout",
     "output_type": "stream",
     "text": [
      "/home/khalil.nor/Code/RMG-database/input/kinetics/families/XY_Addition_MultipleBond\n"
     ]
    }
   ],
   "source": [
    "save_path = os.path.join(settings['database.directory'], 'kinetics', 'families', family.name)\n",
    "print(save_path)"
   ]
  },
  {
   "cell_type": "code",
   "execution_count": 24,
   "metadata": {},
   "outputs": [],
   "source": [
    "family.save(save_path)"
   ]
  },
  {
   "cell_type": "code",
   "execution_count": null,
   "metadata": {},
   "outputs": [],
   "source": []
  },
  {
   "cell_type": "code",
   "execution_count": null,
   "metadata": {},
   "outputs": [],
   "source": [
    "#For 'XY_Addition_MultipleBond', completed on May 1st 3:08 pm "
   ]
  },
  {
   "cell_type": "code",
   "execution_count": null,
   "metadata": {},
   "outputs": [],
   "source": []
  },
  {
   "cell_type": "code",
   "execution_count": null,
   "metadata": {},
   "outputs": [],
   "source": []
  },
  {
   "cell_type": "code",
   "execution_count": null,
   "metadata": {},
   "outputs": [],
   "source": []
  },
  {
   "cell_type": "code",
   "execution_count": null,
   "metadata": {},
   "outputs": [],
   "source": [
    "plt.figure(figsize=(10,8))\n",
    "plt.hist(np.abs(list(errors.values())),bins=30, density=True)\n",
    "plt.title('Decision Tree Estimator',fontsize=18)\n",
    "#plt.ylim(0,.4)\n",
    "plt.xlim(0,15)\n",
    "plt.ylabel('Probability density',fontsize=18)\n",
    "plt.xlabel(r'$|Ln(k_{est}/k_{rxn})|$',fontsize=18)"
   ]
  }
 ],
 "metadata": {
  "@webio": {
   "lastCommId": null,
   "lastKernelId": null
  },
  "kernelspec": {
   "display_name": "rmg_env",
   "language": "python",
   "name": "rmg_env"
  },
  "language_info": {
   "codemirror_mode": {
    "name": "ipython",
    "version": 3
   },
   "file_extension": ".py",
   "mimetype": "text/x-python",
   "name": "python",
   "nbconvert_exporter": "python",
   "pygments_lexer": "ipython3",
   "version": "3.7.16"
  }
 },
 "nbformat": 4,
 "nbformat_minor": 4
}
