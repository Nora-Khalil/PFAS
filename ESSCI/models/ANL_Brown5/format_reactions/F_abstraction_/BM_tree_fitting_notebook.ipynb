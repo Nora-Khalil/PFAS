{
 "cells": [
  {
   "cell_type": "code",
   "execution_count": 1,
   "metadata": {
    "scrolled": true
   },
   "outputs": [],
   "source": [
    "import rmgpy\n",
    "import numpy as np\n",
    "from rmgpy.molecule.molecule import *\n",
    "from rmgpy.species import *\n",
    "from rmgpy.chemkin import *\n",
    "from rmgpy.data.rmg import RMGDatabase\n",
    "from IPython.display import display\n",
    "from rmgpy.data.thermo import ThermoLibrary\n",
    "from rmgpy.rmg.react import react\n",
    "from rmgpy.species import Species\n",
    "from rmgpy.reaction import Reaction\n",
    "from rmgpy.data.rmg import get_db\n",
    "from rmgpy.molecule.group import Group\n",
    "from rmgpy.kinetics.arrhenius import ArrheniusBM\n",
    "from rmgpy import settings\n",
    "import time\n",
    "import matplotlib.pyplot as plt\n",
    "import matplotlib"
   ]
  },
  {
   "cell_type": "code",
   "execution_count": 2,
   "metadata": {},
   "outputs": [
    {
     "data": {
      "text/plain": [
       "{'database.directory': '/home/khalil.nor/Code/RMG-database/input',\n",
       " 'test_data.directory': '/home/khalil.nor/Code/RMG-Py/test/rmgpy/test_data'}"
      ]
     },
     "execution_count": 2,
     "metadata": {},
     "output_type": "execute_result"
    }
   ],
   "source": [
    "settings"
   ]
  },
  {
   "cell_type": "code",
   "execution_count": 3,
   "metadata": {
    "scrolled": true
   },
   "outputs": [],
   "source": [
    "database = RMGDatabase()\n",
    "database.load(\n",
    "            path = settings['database.directory'],\n",
    "            thermo_libraries = ['Klippenstein_Glarborg2016', 'BurkeH2O2', 'thermo_DFT_CCSDTF12_BAC', \n",
    "                               'DFT_QCI_thermo',\n",
    "                           'primaryThermoLibrary', 'primaryNS', 'NitrogenCurran', 'NOx2018', 'FFCM1(-)',\n",
    "'SulfurLibrary', 'SulfurGlarborgH2S','SABIC_aromatics'],\n",
    "            transport_libraries = [],\n",
    "            reaction_libraries = [],\n",
    "            seed_mechanisms = [],#['BurkeH2O2inN2','ERC-FoundationFuelv0.9'],\n",
    "            kinetics_families = 'F_Abstraction',\n",
    "            kinetics_depositories = ['training'],\n",
    "            #frequenciesLibraries = self.statmechLibraries,\n",
    "            depository = False, # Don't bother loading the depository information, as we don't use it\n",
    "        )\n"
   ]
  },
  {
   "cell_type": "code",
   "execution_count": 4,
   "metadata": {},
   "outputs": [],
   "source": [
    "family = database.kinetics.families[\"F_Abstraction\"]\n"
   ]
  },
  {
   "cell_type": "code",
   "execution_count": 5,
   "metadata": {},
   "outputs": [],
   "source": [
    "family.clean_tree()"
   ]
  },
  {
   "cell_type": "code",
   "execution_count": 6,
   "metadata": {
    "scrolled": true
   },
   "outputs": [
    {
     "name": "stderr",
     "output_type": "stream",
     "text": [
      "ERROR:root:234.0\n",
      "ERROR:root:iter_max achieved terminating early\n",
      "ERROR:root:iter_max achieved terminating early\n",
      "ERROR:root:iter_max achieved terminating early\n"
     ]
    },
    {
     "name": "stdout",
     "output_type": "stream",
     "text": [
      "167.74422240257263\n"
     ]
    }
   ],
   "source": [
    "start = time.time()\n",
    "family.generate_tree(thermo_database=database.thermo,\n",
    "                     nprocs=1,\n",
    "                     new_fraction_threshold_to_reopt_node=0.25,\n",
    "                     max_batch_size=800,\n",
    "                     extension_iter_max=2,\n",
    "                     extension_iter_item_cap=100)\n",
    "\n",
    "end = time.time()\n",
    "print(end-start)"
   ]
  },
  {
   "cell_type": "code",
   "execution_count": 7,
   "metadata": {},
   "outputs": [
    {
     "data": {
      "text/plain": [
       "362"
      ]
     },
     "execution_count": 7,
     "metadata": {},
     "output_type": "execute_result"
    }
   ],
   "source": [
    "len(family.groups.entries)"
   ]
  },
  {
   "cell_type": "code",
   "execution_count": 8,
   "metadata": {
    "scrolled": true,
    "tags": []
   },
   "outputs": [
    {
     "data": {
      "text/plain": [
       "{'Root': <Entry index=0 label=\"Root\">,\n",
       " 'Root_1R->O': <Entry index=1 label=\"Root_1R->O\">,\n",
       " 'Root_N-1R->O': <Entry index=2 label=\"Root_N-1R->O\">,\n",
       " 'Root_1R->O_3R->O': <Entry index=3 label=\"Root_1R->O_3R->O\">,\n",
       " 'Root_1R->O_N-3R->O': <Entry index=4 label=\"Root_1R->O_N-3R->O\">,\n",
       " 'Root_N-1R->O_3R->O': <Entry index=5 label=\"Root_N-1R->O_3R->O\">,\n",
       " 'Root_N-1R->O_N-3R->O': <Entry index=6 label=\"Root_N-1R->O_N-3R->O\">,\n",
       " 'Root_1R->O_3R->O_Ext-1O-R': <Entry index=7 label=\"Root_1R->O_3R->O_Ext-1O-R\">,\n",
       " 'Root_1R->O_3R->O_Ext-3O-R_4R!H->C': <Entry index=8 label=\"Root_1R->O_3R->O_Ext-3O-R_4R!H->C\">,\n",
       " 'Root_1R->O_3R->O_Ext-3O-R_N-4R!H->C': <Entry index=9 label=\"Root_1R->O_3R->O_Ext-3O-R_N-4R!H->C\">,\n",
       " 'Root_1R->O_N-3R->O_1O-u0': <Entry index=10 label=\"Root_1R->O_N-3R->O_1O-u0\">,\n",
       " 'Root_1R->O_N-3R->O_N-1O-u0': <Entry index=11 label=\"Root_1R->O_N-3R->O_N-1O-u0\">,\n",
       " 'Root_N-1R->O_3R->O_Ext-3O-R': <Entry index=12 label=\"Root_N-1R->O_3R->O_Ext-3O-R\">,\n",
       " 'Root_N-1R->O_3R->O_1BrCClFHINPSSi-u0': <Entry index=13 label=\"Root_N-1R->O_3R->O_1BrCClFHINPSSi-u0\">,\n",
       " 'Root_N-1R->O_3R->O_N-1BrCClFHINPSSi-u0': <Entry index=14 label=\"Root_N-1R->O_3R->O_N-1BrCClFHINPSSi-u0\">,\n",
       " 'Root_N-1R->O_N-3R->O_1BrCClFHINPSSi->C': <Entry index=15 label=\"Root_N-1R->O_N-3R->O_1BrCClFHINPSSi->C\">,\n",
       " 'Root_N-1R->O_N-3R->O_N-1BrCClFHINPSSi->C': <Entry index=16 label=\"Root_N-1R->O_N-3R->O_N-1BrCClFHINPSSi->C\">,\n",
       " 'Root_1R->O_3R->O_Ext-1O-R_Ext-4R!H-R': <Entry index=17 label=\"Root_1R->O_3R->O_Ext-1O-R_Ext-4R!H-R\">,\n",
       " 'Root_1R->O_3R->O_Ext-1O-R_4R!H->C': <Entry index=18 label=\"Root_1R->O_3R->O_Ext-1O-R_4R!H->C\">,\n",
       " 'Root_1R->O_3R->O_Ext-1O-R_N-4R!H->C': <Entry index=19 label=\"Root_1R->O_3R->O_Ext-1O-R_N-4R!H->C\">,\n",
       " 'Root_1R->O_3R->O_Ext-3O-R_4R!H->C_Ext-4C-R': <Entry index=20 label=\"Root_1R->O_3R->O_Ext-3O-R_4R!H->C_Ext-4C-R\">,\n",
       " 'Root_1R->O_3R->O_Ext-3O-R_4R!H->C_1O-u0': <Entry index=21 label=\"Root_1R->O_3R->O_Ext-3O-R_4R!H->C_1O-u0\">,\n",
       " 'Root_1R->O_3R->O_Ext-3O-R_4R!H->C_N-1O-u0': <Entry index=22 label=\"Root_1R->O_3R->O_Ext-3O-R_4R!H->C_N-1O-u0\">,\n",
       " 'Root_1R->O_N-3R->O_1O-u0_3CClFH-u1': <Entry index=23 label=\"Root_1R->O_N-3R->O_1O-u0_3CClFH-u1\">,\n",
       " 'Root_1R->O_N-3R->O_1O-u0_N-3CClFH-u1': <Entry index=24 label=\"Root_1R->O_N-3R->O_1O-u0_N-3CClFH-u1\">,\n",
       " 'Root_1R->O_N-3R->O_N-1O-u0_Ext-3CClFH-R': <Entry index=25 label=\"Root_1R->O_N-3R->O_N-1O-u0_Ext-3CClFH-R\">,\n",
       " 'Root_1R->O_N-3R->O_N-1O-u0_3CClFH-u1': <Entry index=26 label=\"Root_1R->O_N-3R->O_N-1O-u0_3CClFH-u1\">,\n",
       " 'Root_1R->O_N-3R->O_N-1O-u0_N-3CClFH-u1': <Entry index=27 label=\"Root_1R->O_N-3R->O_N-1O-u0_N-3CClFH-u1\">,\n",
       " 'Root_N-1R->O_3R->O_Ext-3O-R_4R!H->F': <Entry index=28 label=\"Root_N-1R->O_3R->O_Ext-3O-R_4R!H->F\">,\n",
       " 'Root_N-1R->O_3R->O_Ext-3O-R_N-4R!H->F': <Entry index=29 label=\"Root_N-1R->O_3R->O_Ext-3O-R_N-4R!H->F\">,\n",
       " 'Root_N-1R->O_3R->O_1BrCClFHINPSSi-u0_3O-u1': <Entry index=30 label=\"Root_N-1R->O_3R->O_1BrCClFHINPSSi-u0_3O-u1\">,\n",
       " 'Root_N-1R->O_3R->O_1BrCClFHINPSSi-u0_N-3O-u1': <Entry index=31 label=\"Root_N-1R->O_3R->O_1BrCClFHINPSSi-u0_N-3O-u1\">,\n",
       " 'Root_N-1R->O_3R->O_N-1BrCClFHINPSSi-u0_3O-u1': <Entry index=32 label=\"Root_N-1R->O_3R->O_N-1BrCClFHINPSSi-u0_3O-u1\">,\n",
       " 'Root_N-1R->O_3R->O_N-1BrCClFHINPSSi-u0_N-3O-u1': <Entry index=33 label=\"Root_N-1R->O_3R->O_N-1BrCClFHINPSSi-u0_N-3O-u1\">,\n",
       " 'Root_N-1R->O_N-3R->O_1BrCClFHINPSSi->C_3CClFH->F': <Entry index=34 label=\"Root_N-1R->O_N-3R->O_1BrCClFHINPSSi->C_3CClFH->F\">,\n",
       " 'Root_N-1R->O_N-3R->O_1BrCClFHINPSSi->C_N-3CClFH->F': <Entry index=35 label=\"Root_N-1R->O_N-3R->O_1BrCClFHINPSSi->C_N-3CClFH->F\">,\n",
       " 'Root_N-1R->O_N-3R->O_N-1BrCClFHINPSSi->C_1ClFH->H': <Entry index=36 label=\"Root_N-1R->O_N-3R->O_N-1BrCClFHINPSSi->C_1ClFH->H\">,\n",
       " 'Root_N-1R->O_N-3R->O_N-1BrCClFHINPSSi->C_N-1ClFH->H': <Entry index=37 label=\"Root_N-1R->O_N-3R->O_N-1BrCClFHINPSSi->C_N-1ClFH->H\">,\n",
       " 'Root_1R->O_3R->O_Ext-1O-R_4R!H->C_3O-u1': <Entry index=38 label=\"Root_1R->O_3R->O_Ext-1O-R_4R!H->C_3O-u1\">,\n",
       " 'Root_1R->O_3R->O_Ext-1O-R_4R!H->C_N-3O-u1': <Entry index=39 label=\"Root_1R->O_3R->O_Ext-1O-R_4R!H->C_N-3O-u1\">,\n",
       " 'Root_1R->O_N-3R->O_1O-u0_3CClFH-u1_Ext-1O-R': <Entry index=40 label=\"Root_1R->O_N-3R->O_1O-u0_3CClFH-u1_Ext-1O-R\">,\n",
       " 'Root_1R->O_N-3R->O_1O-u0_3CClFH-u1_Ext-3CClFH-R': <Entry index=41 label=\"Root_1R->O_N-3R->O_1O-u0_3CClFH-u1_Ext-3CClFH-R\">,\n",
       " 'Root_1R->O_N-3R->O_1O-u0_N-3CClFH-u1_Ext-3CClFH-R': <Entry index=42 label=\"Root_1R->O_N-3R->O_1O-u0_N-3CClFH-u1_Ext-3CClFH-R\">,\n",
       " 'Root_1R->O_N-3R->O_1O-u0_N-3CClFH-u1_Ext-1O-R': <Entry index=43 label=\"Root_1R->O_N-3R->O_1O-u0_N-3CClFH-u1_Ext-1O-R\">,\n",
       " 'Root_1R->O_N-3R->O_N-1O-u0_Ext-3CClFH-R_Sp-4R!H-3CClFH': <Entry index=44 label=\"Root_1R->O_N-3R->O_N-1O-u0_Ext-3CClFH-R_Sp-4R!H-3CClFH\">,\n",
       " 'Root_1R->O_N-3R->O_N-1O-u0_Ext-3CClFH-R_N-Sp-4R!H-3CClFH': <Entry index=45 label=\"Root_1R->O_N-3R->O_N-1O-u0_Ext-3CClFH-R_N-Sp-4R!H-3CClFH\">,\n",
       " 'Root_N-1R->O_3R->O_Ext-3O-R_4R!H->F_Ext-1BrCClFHINPSSi-R': <Entry index=46 label=\"Root_N-1R->O_3R->O_Ext-3O-R_4R!H->F_Ext-1BrCClFHINPSSi-R\">,\n",
       " 'Root_N-1R->O_3R->O_Ext-3O-R_N-4R!H->F_1BrCClFHINPSSi->C': <Entry index=47 label=\"Root_N-1R->O_3R->O_Ext-3O-R_N-4R!H->F_1BrCClFHINPSSi->C\">,\n",
       " 'Root_N-1R->O_3R->O_Ext-3O-R_N-4R!H->F_N-1BrCClFHINPSSi->C': <Entry index=48 label=\"Root_N-1R->O_3R->O_Ext-3O-R_N-4R!H->F_N-1BrCClFHINPSSi->C\">,\n",
       " 'Root_N-1R->O_3R->O_1BrCClFHINPSSi-u0_3O-u1_Ext-1BrCClFHINPSSi-R': <Entry index=49 label=\"Root_N-1R->O_3R->O_1BrCClFHINPSSi-u0_3O-u1_Ext-1BrCClFHINPSSi-R\">,\n",
       " 'Root_N-1R->O_3R->O_1BrCClFHINPSSi-u0_N-3O-u1_Ext-1BrCClFHINPSSi-R': <Entry index=50 label=\"Root_N-1R->O_3R->O_1BrCClFHINPSSi-u0_N-3O-u1_Ext-1BrCClFHINPSSi-R\">,\n",
       " 'Root_N-1R->O_3R->O_N-1BrCClFHINPSSi-u0_3O-u1_Ext-1BrCClFHINPSSi-R': <Entry index=51 label=\"Root_N-1R->O_3R->O_N-1BrCClFHINPSSi-u0_3O-u1_Ext-1BrCClFHINPSSi-R\">,\n",
       " 'Root_N-1R->O_3R->O_N-1BrCClFHINPSSi-u0_N-3O-u1_Ext-1BrCClFHINPSSi-R': <Entry index=52 label=\"Root_N-1R->O_3R->O_N-1BrCClFHINPSSi-u0_N-3O-u1_Ext-1BrCClFHINPSSi-R\">,\n",
       " 'Root_N-1R->O_N-3R->O_1BrCClFHINPSSi->C_3CClFH->F_Ext-1C-R': <Entry index=53 label=\"Root_N-1R->O_N-3R->O_1BrCClFHINPSSi->C_3CClFH->F_Ext-1C-R\">,\n",
       " 'Root_N-1R->O_N-3R->O_1BrCClFHINPSSi->C_N-3CClFH->F_3CClH->C': <Entry index=54 label=\"Root_N-1R->O_N-3R->O_1BrCClFHINPSSi->C_N-3CClFH->F_3CClH->C\">,\n",
       " 'Root_N-1R->O_N-3R->O_1BrCClFHINPSSi->C_N-3CClFH->F_N-3CClH->C': <Entry index=55 label=\"Root_N-1R->O_N-3R->O_1BrCClFHINPSSi->C_N-3CClFH->F_N-3CClH->C\">,\n",
       " 'Root_N-1R->O_N-3R->O_N-1BrCClFHINPSSi->C_1ClFH->H_3CClFH->Cl': <Entry index=56 label=\"Root_N-1R->O_N-3R->O_N-1BrCClFHINPSSi->C_1ClFH->H_3CClFH->Cl\">,\n",
       " 'Root_N-1R->O_N-3R->O_N-1BrCClFHINPSSi->C_1ClFH->H_N-3CClFH->Cl': <Entry index=57 label=\"Root_N-1R->O_N-3R->O_N-1BrCClFHINPSSi->C_1ClFH->H_N-3CClFH->Cl\">,\n",
       " 'Root_N-1R->O_N-3R->O_N-1BrCClFHINPSSi->C_N-1ClFH->H_1ClF->F': <Entry index=58 label=\"Root_N-1R->O_N-3R->O_N-1BrCClFHINPSSi->C_N-1ClFH->H_1ClF->F\">,\n",
       " 'Root_N-1R->O_N-3R->O_N-1BrCClFHINPSSi->C_N-1ClFH->H_N-1ClF->F': <Entry index=59 label=\"Root_N-1R->O_N-3R->O_N-1BrCClFHINPSSi->C_N-1ClFH->H_N-1ClF->F\">,\n",
       " 'Root_1R->O_N-3R->O_1O-u0_3CClFH-u1_Ext-1O-R_3CClFH->C': <Entry index=60 label=\"Root_1R->O_N-3R->O_1O-u0_3CClFH-u1_Ext-1O-R_3CClFH->C\">,\n",
       " 'Root_1R->O_N-3R->O_1O-u0_3CClFH-u1_Ext-1O-R_N-3CClFH->C': <Entry index=61 label=\"Root_1R->O_N-3R->O_1O-u0_3CClFH-u1_Ext-1O-R_N-3CClFH->C\">,\n",
       " 'Root_1R->O_N-3R->O_1O-u0_3CClFH-u1_Ext-3CClFH-R_Sp-4R!H-3CClFH': <Entry index=62 label=\"Root_1R->O_N-3R->O_1O-u0_3CClFH-u1_Ext-3CClFH-R_Sp-4R!H-3CClFH\">,\n",
       " 'Root_1R->O_N-3R->O_1O-u0_3CClFH-u1_Ext-3CClFH-R_N-Sp-4R!H-3CClFH': <Entry index=63 label=\"Root_1R->O_N-3R->O_1O-u0_3CClFH-u1_Ext-3CClFH-R_N-Sp-4R!H-3CClFH\">,\n",
       " 'Root_1R->O_N-3R->O_1O-u0_N-3CClFH-u1_Ext-3CClFH-R_Ext-3CClFH-R': <Entry index=64 label=\"Root_1R->O_N-3R->O_1O-u0_N-3CClFH-u1_Ext-3CClFH-R_Ext-3CClFH-R\">,\n",
       " 'Root_1R->O_N-3R->O_1O-u0_N-3CClFH-u1_Ext-3CClFH-R_Sp-4R!H-3CClFH': <Entry index=65 label=\"Root_1R->O_N-3R->O_1O-u0_N-3CClFH-u1_Ext-3CClFH-R_Sp-4R!H-3CClFH\">,\n",
       " 'Root_1R->O_N-3R->O_1O-u0_N-3CClFH-u1_Ext-3CClFH-R_N-Sp-4R!H-3CClFH': <Entry index=66 label=\"Root_1R->O_N-3R->O_1O-u0_N-3CClFH-u1_Ext-3CClFH-R_N-Sp-4R!H-3CClFH\">,\n",
       " 'Root_1R->O_N-3R->O_N-1O-u0_Ext-3CClFH-R_Sp-4R!H-3CClFH_4R!H->F': <Entry index=67 label=\"Root_1R->O_N-3R->O_N-1O-u0_Ext-3CClFH-R_Sp-4R!H-3CClFH_4R!H->F\">,\n",
       " 'Root_1R->O_N-3R->O_N-1O-u0_Ext-3CClFH-R_Sp-4R!H-3CClFH_N-4R!H->F': <Entry index=68 label=\"Root_1R->O_N-3R->O_N-1O-u0_Ext-3CClFH-R_Sp-4R!H-3CClFH_N-4R!H->F\">,\n",
       " 'Root_N-1R->O_3R->O_Ext-3O-R_4R!H->F_Ext-1BrCClFHINPSSi-R_5R!H->O': <Entry index=69 label=\"Root_N-1R->O_3R->O_Ext-3O-R_4R!H->F_Ext-1BrCClFHINPSSi-R_5R!H->O\">,\n",
       " 'Root_N-1R->O_3R->O_Ext-3O-R_4R!H->F_Ext-1BrCClFHINPSSi-R_N-5R!H->O': <Entry index=70 label=\"Root_N-1R->O_3R->O_Ext-3O-R_4R!H->F_Ext-1BrCClFHINPSSi-R_N-5R!H->O\">,\n",
       " 'Root_N-1R->O_3R->O_Ext-3O-R_N-4R!H->F_1BrCClFHINPSSi->C_4BrCClINOPSSi->C': <Entry index=71 label=\"Root_N-1R->O_3R->O_Ext-3O-R_N-4R!H->F_1BrCClFHINPSSi->C_4BrCClINOPSSi->C\">,\n",
       " 'Root_N-1R->O_3R->O_Ext-3O-R_N-4R!H->F_1BrCClFHINPSSi->C_N-4BrCClINOPSSi->C': <Entry index=72 label=\"Root_N-1R->O_3R->O_Ext-3O-R_N-4R!H->F_1BrCClFHINPSSi->C_N-4BrCClINOPSSi->C\">,\n",
       " 'Root_N-1R->O_3R->O_1BrCClFHINPSSi-u0_3O-u1_Ext-1BrCClFHINPSSi-R_Sp-4R!H#1BrBrBrCCCClClClFFFHHHIIINNNPPPSSSSiSiSi': <Entry index=73 label=\"Root_N-1R->O_3R->O_1BrCClFHINPSSi-u0_3O-u1_Ext-1BrCClFHINPSSi-R_Sp-4R!H#1BrBrBrCCCClClClFFFHHHIIINNNPPPSSSSiSiSi\">,\n",
       " 'Root_N-1R->O_3R->O_1BrCClFHINPSSi-u0_3O-u1_Ext-1BrCClFHINPSSi-R_N-Sp-4R!H#1BrBrBrCCCClClClFFFHHHIIINNNPPPSSSSiSiSi': <Entry index=74 label=\"Root_N-1R->O_3R->O_1BrCClFHINPSSi-u0_3O-u1_Ext-1BrCClFHINPSSi-R_N-Sp-4R!H#1BrBrBrCCCClClClFFFHHHIIINNNPPPSSSSiSiSi\">,\n",
       " 'Root_N-1R->O_3R->O_1BrCClFHINPSSi-u0_N-3O-u1_Ext-1BrCClFHINPSSi-R_Sp-4R!H-1BrCClFHINPSSi': <Entry index=75 label=\"Root_N-1R->O_3R->O_1BrCClFHINPSSi-u0_N-3O-u1_Ext-1BrCClFHINPSSi-R_Sp-4R!H-1BrCClFHINPSSi\">,\n",
       " 'Root_N-1R->O_3R->O_1BrCClFHINPSSi-u0_N-3O-u1_Ext-1BrCClFHINPSSi-R_N-Sp-4R!H-1BrCClFHINPSSi': <Entry index=76 label=\"Root_N-1R->O_3R->O_1BrCClFHINPSSi-u0_N-3O-u1_Ext-1BrCClFHINPSSi-R_N-Sp-4R!H-1BrCClFHINPSSi\">,\n",
       " 'Root_N-1R->O_3R->O_N-1BrCClFHINPSSi-u0_3O-u1_Ext-1BrCClFHINPSSi-R_Sp-4R!H-1BrCClFHINPSSi': <Entry index=77 label=\"Root_N-1R->O_3R->O_N-1BrCClFHINPSSi-u0_3O-u1_Ext-1BrCClFHINPSSi-R_Sp-4R!H-1BrCClFHINPSSi\">,\n",
       " 'Root_N-1R->O_3R->O_N-1BrCClFHINPSSi-u0_3O-u1_Ext-1BrCClFHINPSSi-R_N-Sp-4R!H-1BrCClFHINPSSi': <Entry index=78 label=\"Root_N-1R->O_3R->O_N-1BrCClFHINPSSi-u0_3O-u1_Ext-1BrCClFHINPSSi-R_N-Sp-4R!H-1BrCClFHINPSSi\">,\n",
       " 'Root_N-1R->O_N-3R->O_1BrCClFHINPSSi->C_3CClFH->F_Ext-1C-R_4R!H->O': <Entry index=79 label=\"Root_N-1R->O_N-3R->O_1BrCClFHINPSSi->C_3CClFH->F_Ext-1C-R_4R!H->O\">,\n",
       " 'Root_N-1R->O_N-3R->O_1BrCClFHINPSSi->C_3CClFH->F_Ext-1C-R_N-4R!H->O': <Entry index=80 label=\"Root_N-1R->O_N-3R->O_1BrCClFHINPSSi->C_3CClFH->F_Ext-1C-R_N-4R!H->O\">,\n",
       " 'Root_N-1R->O_N-3R->O_1BrCClFHINPSSi->C_N-3CClFH->F_3CClH->C_3C-u1': <Entry index=81 label=\"Root_N-1R->O_N-3R->O_1BrCClFHINPSSi->C_N-3CClFH->F_3CClH->C_3C-u1\">,\n",
       " 'Root_N-1R->O_N-3R->O_1BrCClFHINPSSi->C_N-3CClFH->F_3CClH->C_N-3C-u1': <Entry index=82 label=\"Root_N-1R->O_N-3R->O_1BrCClFHINPSSi->C_N-3CClFH->F_3CClH->C_N-3C-u1\">,\n",
       " 'Root_N-1R->O_N-3R->O_1BrCClFHINPSSi->C_N-3CClFH->F_N-3CClH->C_Ext-1C-R': <Entry index=83 label=\"Root_N-1R->O_N-3R->O_1BrCClFHINPSSi->C_N-3CClFH->F_N-3CClH->C_Ext-1C-R\">,\n",
       " 'Root_N-1R->O_N-3R->O_N-1BrCClFHINPSSi->C_1ClFH->H_N-3CClFH->Cl_3CFH->F': <Entry index=84 label=\"Root_N-1R->O_N-3R->O_N-1BrCClFHINPSSi->C_1ClFH->H_N-3CClFH->Cl_3CFH->F\">,\n",
       " 'Root_N-1R->O_N-3R->O_N-1BrCClFHINPSSi->C_1ClFH->H_N-3CClFH->Cl_N-3CFH->F': <Entry index=85 label=\"Root_N-1R->O_N-3R->O_N-1BrCClFHINPSSi->C_1ClFH->H_N-3CClFH->Cl_N-3CFH->F\">,\n",
       " 'Root_N-1R->O_N-3R->O_N-1BrCClFHINPSSi->C_N-1ClFH->H_1ClF->F_3CClFH->C': <Entry index=86 label=\"Root_N-1R->O_N-3R->O_N-1BrCClFHINPSSi->C_N-1ClFH->H_1ClF->F_3CClFH->C\">,\n",
       " 'Root_N-1R->O_N-3R->O_N-1BrCClFHINPSSi->C_N-1ClFH->H_1ClF->F_N-3CClFH->C': <Entry index=87 label=\"Root_N-1R->O_N-3R->O_N-1BrCClFHINPSSi->C_N-1ClFH->H_1ClF->F_N-3CClFH->C\">,\n",
       " 'Root_1R->O_N-3R->O_1O-u0_3CClFH-u1_Ext-1O-R_3CClFH->C_4R!H->C': <Entry index=88 label=\"Root_1R->O_N-3R->O_1O-u0_3CClFH-u1_Ext-1O-R_3CClFH->C_4R!H->C\">,\n",
       " 'Root_1R->O_N-3R->O_1O-u0_3CClFH-u1_Ext-1O-R_3CClFH->C_N-4R!H->C': <Entry index=89 label=\"Root_1R->O_N-3R->O_1O-u0_3CClFH-u1_Ext-1O-R_3CClFH->C_N-4R!H->C\">,\n",
       " 'Root_1R->O_N-3R->O_1O-u0_3CClFH-u1_Ext-3CClFH-R_Sp-4R!H-3CClFH_Ext-4R!H-R': <Entry index=90 label=\"Root_1R->O_N-3R->O_1O-u0_3CClFH-u1_Ext-3CClFH-R_Sp-4R!H-3CClFH_Ext-4R!H-R\">,\n",
       " 'Root_1R->O_N-3R->O_1O-u0_3CClFH-u1_Ext-3CClFH-R_Sp-4R!H-3CClFH_4R!H->C': <Entry index=91 label=\"Root_1R->O_N-3R->O_1O-u0_3CClFH-u1_Ext-3CClFH-R_Sp-4R!H-3CClFH_4R!H->C\">,\n",
       " 'Root_1R->O_N-3R->O_1O-u0_3CClFH-u1_Ext-3CClFH-R_Sp-4R!H-3CClFH_N-4R!H->C': <Entry index=92 label=\"Root_1R->O_N-3R->O_1O-u0_3CClFH-u1_Ext-3CClFH-R_Sp-4R!H-3CClFH_N-4R!H->C\">,\n",
       " 'Root_1R->O_N-3R->O_1O-u0_3CClFH-u1_Ext-3CClFH-R_N-Sp-4R!H-3CClFH_4R!H->C': <Entry index=93 label=\"Root_1R->O_N-3R->O_1O-u0_3CClFH-u1_Ext-3CClFH-R_N-Sp-4R!H-3CClFH_4R!H->C\">,\n",
       " 'Root_1R->O_N-3R->O_1O-u0_3CClFH-u1_Ext-3CClFH-R_N-Sp-4R!H-3CClFH_N-4R!H->C': <Entry index=94 label=\"Root_1R->O_N-3R->O_1O-u0_3CClFH-u1_Ext-3CClFH-R_N-Sp-4R!H-3CClFH_N-4R!H->C\">,\n",
       " 'Root_1R->O_N-3R->O_1O-u0_N-3CClFH-u1_Ext-3CClFH-R_Ext-3CClFH-R_4R!H->O': <Entry index=95 label=\"Root_1R->O_N-3R->O_1O-u0_N-3CClFH-u1_Ext-3CClFH-R_Ext-3CClFH-R_4R!H->O\">,\n",
       " 'Root_1R->O_N-3R->O_1O-u0_N-3CClFH-u1_Ext-3CClFH-R_Ext-3CClFH-R_N-4R!H->O': <Entry index=96 label=\"Root_1R->O_N-3R->O_1O-u0_N-3CClFH-u1_Ext-3CClFH-R_Ext-3CClFH-R_N-4R!H->O\">,\n",
       " 'Root_1R->O_N-3R->O_1O-u0_N-3CClFH-u1_Ext-3CClFH-R_Sp-4R!H-3CClFH_Ext-1O-R': <Entry index=97 label=\"Root_1R->O_N-3R->O_1O-u0_N-3CClFH-u1_Ext-3CClFH-R_Sp-4R!H-3CClFH_Ext-1O-R\">,\n",
       " 'Root_1R->O_N-3R->O_1O-u0_N-3CClFH-u1_Ext-3CClFH-R_Sp-4R!H-3CClFH_4R!H->C': <Entry index=98 label=\"Root_1R->O_N-3R->O_1O-u0_N-3CClFH-u1_Ext-3CClFH-R_Sp-4R!H-3CClFH_4R!H->C\">,\n",
       " 'Root_1R->O_N-3R->O_1O-u0_N-3CClFH-u1_Ext-3CClFH-R_Sp-4R!H-3CClFH_N-4R!H->C': <Entry index=99 label=\"Root_1R->O_N-3R->O_1O-u0_N-3CClFH-u1_Ext-3CClFH-R_Sp-4R!H-3CClFH_N-4R!H->C\">,\n",
       " 'Root_1R->O_N-3R->O_N-1O-u0_Ext-3CClFH-R_Sp-4R!H-3CClFH_4R!H->F_Ext-3CClFH-R': <Entry index=100 label=\"Root_1R->O_N-3R->O_N-1O-u0_Ext-3CClFH-R_Sp-4R!H-3CClFH_4R!H->F_Ext-3CClFH-R\">,\n",
       " 'Root_1R->O_N-3R->O_N-1O-u0_Ext-3CClFH-R_Sp-4R!H-3CClFH_N-4R!H->F_3CClFH-u1': <Entry index=101 label=\"Root_1R->O_N-3R->O_N-1O-u0_Ext-3CClFH-R_Sp-4R!H-3CClFH_N-4R!H->F_3CClFH-u1\">,\n",
       " 'Root_1R->O_N-3R->O_N-1O-u0_Ext-3CClFH-R_Sp-4R!H-3CClFH_N-4R!H->F_N-3CClFH-u1': <Entry index=102 label=\"Root_1R->O_N-3R->O_N-1O-u0_Ext-3CClFH-R_Sp-4R!H-3CClFH_N-4R!H->F_N-3CClFH-u1\">,\n",
       " 'Root_N-1R->O_3R->O_Ext-3O-R_4R!H->F_Ext-1BrCClFHINPSSi-R_5R!H->O_Ext-1BrCClFHINPSSi-R': <Entry index=103 label=\"Root_N-1R->O_3R->O_Ext-3O-R_4R!H->F_Ext-1BrCClFHINPSSi-R_5R!H->O_Ext-1BrCClFHINPSSi-R\">,\n",
       " 'Root_N-1R->O_3R->O_Ext-3O-R_4R!H->F_Ext-1BrCClFHINPSSi-R_N-5R!H->O_Ext-1BrCClFHINPSSi-R': <Entry index=104 label=\"Root_N-1R->O_3R->O_Ext-3O-R_4R!H->F_Ext-1BrCClFHINPSSi-R_N-5R!H->O_Ext-1BrCClFHINPSSi-R\">,\n",
       " 'Root_N-1R->O_3R->O_Ext-3O-R_N-4R!H->F_1BrCClFHINPSSi->C_4BrCClINOPSSi->C_Ext-1C-R': <Entry index=105 label=\"Root_N-1R->O_3R->O_Ext-3O-R_N-4R!H->F_1BrCClFHINPSSi->C_4BrCClINOPSSi->C_Ext-1C-R\">,\n",
       " 'Root_N-1R->O_3R->O_Ext-3O-R_N-4R!H->F_1BrCClFHINPSSi->C_N-4BrCClINOPSSi->C_1C-u0': <Entry index=106 label=\"Root_N-1R->O_3R->O_Ext-3O-R_N-4R!H->F_1BrCClFHINPSSi->C_N-4BrCClINOPSSi->C_1C-u0\">,\n",
       " 'Root_N-1R->O_3R->O_Ext-3O-R_N-4R!H->F_1BrCClFHINPSSi->C_N-4BrCClINOPSSi->C_N-1C-u0': <Entry index=107 label=\"Root_N-1R->O_3R->O_Ext-3O-R_N-4R!H->F_1BrCClFHINPSSi->C_N-4BrCClINOPSSi->C_N-1C-u0\">,\n",
       " 'Root_N-1R->O_3R->O_1BrCClFHINPSSi-u0_3O-u1_Ext-1BrCClFHINPSSi-R_N-Sp-4R!H#1BrBrBrCCCClClClFFFHHHIIINNNPPPSSSSiSiSi_Ext-1BrCClFHINPSSi-R': <Entry index=108 label=\"Root_N-1R->O_3R->O_1BrCClFHINPSSi-u0_3O-u1_Ext-1BrCClFHINPSSi-R_N-Sp-4R!H#1BrBrBrCCCClClClFFFHHHIIINNNPPPSSSSiSiSi_Ext-1BrCClFHINPSSi-R\">,\n",
       " 'Root_N-1R->O_3R->O_1BrCClFHINPSSi-u0_3O-u1_Ext-1BrCClFHINPSSi-R_N-Sp-4R!H#1BrBrBrCCCClClClFFFHHHIIINNNPPPSSSSiSiSi_Sp-4R!H-1BrCClFHINPSSi': <Entry index=109 label=\"Root_N-1R->O_3R->O_1BrCClFHINPSSi-u0_3O-u1_Ext-1BrCClFHINPSSi-R_N-Sp-4R!H#1BrBrBrCCCClClClFFFHHHIIINNNPPPSSSSiSiSi_Sp-4R!H-1BrCClFHINPSSi\">,\n",
       " 'Root_N-1R->O_3R->O_1BrCClFHINPSSi-u0_3O-u1_Ext-1BrCClFHINPSSi-R_N-Sp-4R!H#1BrBrBrCCCClClClFFFHHHIIINNNPPPSSSSiSiSi_N-Sp-4R!H-1BrCClFHINPSSi': <Entry index=110 label=\"Root_N-1R->O_3R->O_1BrCClFHINPSSi-u0_3O-u1_Ext-1BrCClFHINPSSi-R_N-Sp-4R!H#1BrBrBrCCCClClClFFFHHHIIINNNPPPSSSSiSiSi_N-Sp-4R!H-1BrCClFHINPSSi\">,\n",
       " 'Root_N-1R->O_3R->O_1BrCClFHINPSSi-u0_N-3O-u1_Ext-1BrCClFHINPSSi-R_Sp-4R!H-1BrCClFHINPSSi_4R!H->O': <Entry index=111 label=\"Root_N-1R->O_3R->O_1BrCClFHINPSSi-u0_N-3O-u1_Ext-1BrCClFHINPSSi-R_Sp-4R!H-1BrCClFHINPSSi_4R!H->O\">,\n",
       " 'Root_N-1R->O_3R->O_1BrCClFHINPSSi-u0_N-3O-u1_Ext-1BrCClFHINPSSi-R_Sp-4R!H-1BrCClFHINPSSi_N-4R!H->O': <Entry index=112 label=\"Root_N-1R->O_3R->O_1BrCClFHINPSSi-u0_N-3O-u1_Ext-1BrCClFHINPSSi-R_Sp-4R!H-1BrCClFHINPSSi_N-4R!H->O\">,\n",
       " 'Root_N-1R->O_3R->O_N-1BrCClFHINPSSi-u0_3O-u1_Ext-1BrCClFHINPSSi-R_Sp-4R!H-1BrCClFHINPSSi_4R!H->O': <Entry index=113 label=\"Root_N-1R->O_3R->O_N-1BrCClFHINPSSi-u0_3O-u1_Ext-1BrCClFHINPSSi-R_Sp-4R!H-1BrCClFHINPSSi_4R!H->O\">,\n",
       " 'Root_N-1R->O_3R->O_N-1BrCClFHINPSSi-u0_3O-u1_Ext-1BrCClFHINPSSi-R_Sp-4R!H-1BrCClFHINPSSi_N-4R!H->O': <Entry index=114 label=\"Root_N-1R->O_3R->O_N-1BrCClFHINPSSi-u0_3O-u1_Ext-1BrCClFHINPSSi-R_Sp-4R!H-1BrCClFHINPSSi_N-4R!H->O\">,\n",
       " 'Root_N-1R->O_N-3R->O_1BrCClFHINPSSi->C_3CClFH->F_Ext-1C-R_N-4R!H->O_Ext-1C-R': <Entry index=115 label=\"Root_N-1R->O_N-3R->O_1BrCClFHINPSSi->C_3CClFH->F_Ext-1C-R_N-4R!H->O_Ext-1C-R\">,\n",
       " 'Root_N-1R->O_N-3R->O_1BrCClFHINPSSi->C_N-3CClFH->F_3CClH->C_3C-u1_1C-u0': <Entry index=116 label=\"Root_N-1R->O_N-3R->O_1BrCClFHINPSSi->C_N-3CClFH->F_3CClH->C_3C-u1_1C-u0\">,\n",
       " 'Root_N-1R->O_N-3R->O_1BrCClFHINPSSi->C_N-3CClFH->F_3CClH->C_3C-u1_N-1C-u0': <Entry index=117 label=\"Root_N-1R->O_N-3R->O_1BrCClFHINPSSi->C_N-3CClFH->F_3CClH->C_3C-u1_N-1C-u0\">,\n",
       " 'Root_N-1R->O_N-3R->O_1BrCClFHINPSSi->C_N-3CClFH->F_3CClH->C_N-3C-u1_Ext-3C-R_Sp-4R!H-3C': <Entry index=118 label=\"Root_N-1R->O_N-3R->O_1BrCClFHINPSSi->C_N-3CClFH->F_3CClH->C_N-3C-u1_Ext-3C-R_Sp-4R!H-3C\">,\n",
       " 'Root_N-1R->O_N-3R->O_1BrCClFHINPSSi->C_N-3CClFH->F_3CClH->C_N-3C-u1_Ext-3C-R_N-Sp-4R!H-3C': <Entry index=119 label=\"Root_N-1R->O_N-3R->O_1BrCClFHINPSSi->C_N-3CClFH->F_3CClH->C_N-3C-u1_Ext-3C-R_N-Sp-4R!H-3C\">,\n",
       " 'Root_N-1R->O_N-3R->O_1BrCClFHINPSSi->C_N-3CClFH->F_N-3CClH->C_Ext-1C-R_4R!H->F': <Entry index=120 label=\"Root_N-1R->O_N-3R->O_1BrCClFHINPSSi->C_N-3CClFH->F_N-3CClH->C_Ext-1C-R_4R!H->F\">,\n",
       " 'Root_N-1R->O_N-3R->O_1BrCClFHINPSSi->C_N-3CClFH->F_N-3CClH->C_Ext-1C-R_N-4R!H->F': <Entry index=121 label=\"Root_N-1R->O_N-3R->O_1BrCClFHINPSSi->C_N-3CClFH->F_N-3CClH->C_Ext-1C-R_N-4R!H->F\">,\n",
       " 'Root_N-1R->O_N-3R->O_N-1BrCClFHINPSSi->C_1ClFH->H_N-3CClFH->Cl_N-3CFH->F_Ext-3C-R': <Entry index=122 label=\"Root_N-1R->O_N-3R->O_N-1BrCClFHINPSSi->C_1ClFH->H_N-3CClFH->Cl_N-3CFH->F_Ext-3C-R\">,\n",
       " 'Root_N-1R->O_N-3R->O_N-1BrCClFHINPSSi->C_N-1ClFH->H_1ClF->F_3CClFH->C_Ext-3C-R': <Entry index=123 label=\"Root_N-1R->O_N-3R->O_N-1BrCClFHINPSSi->C_N-1ClFH->H_1ClF->F_3CClFH->C_Ext-3C-R\">,\n",
       " 'Root_1R->O_N-3R->O_1O-u0_3CClFH-u1_Ext-1O-R_3CClFH->C_4R!H->C_Ext-3C-R': <Entry index=124 label=\"Root_1R->O_N-3R->O_1O-u0_3CClFH-u1_Ext-1O-R_3CClFH->C_4R!H->C_Ext-3C-R\">,\n",
       " 'Root_1R->O_N-3R->O_1O-u0_3CClFH-u1_Ext-1O-R_3CClFH->C_N-4R!H->C_Ext-3C-R': <Entry index=125 label=\"Root_1R->O_N-3R->O_1O-u0_3CClFH-u1_Ext-1O-R_3CClFH->C_N-4R!H->C_Ext-3C-R\">,\n",
       " 'Root_1R->O_N-3R->O_1O-u0_3CClFH-u1_Ext-1O-R_3CClFH->C_N-4R!H->C_4FO->F': <Entry index=126 label=\"Root_1R->O_N-3R->O_1O-u0_3CClFH-u1_Ext-1O-R_3CClFH->C_N-4R!H->C_4FO->F\">,\n",
       " 'Root_1R->O_N-3R->O_1O-u0_3CClFH-u1_Ext-1O-R_3CClFH->C_N-4R!H->C_N-4FO->F': <Entry index=127 label=\"Root_1R->O_N-3R->O_1O-u0_3CClFH-u1_Ext-1O-R_3CClFH->C_N-4R!H->C_N-4FO->F\">,\n",
       " 'Root_1R->O_N-3R->O_1O-u0_3CClFH-u1_Ext-3CClFH-R_Sp-4R!H-3CClFH_Ext-4R!H-R_Ext-4R!H-R': <Entry index=128 label=\"Root_1R->O_N-3R->O_1O-u0_3CClFH-u1_Ext-3CClFH-R_Sp-4R!H-3CClFH_Ext-4R!H-R_Ext-4R!H-R\">,\n",
       " 'Root_1R->O_N-3R->O_1O-u0_3CClFH-u1_Ext-3CClFH-R_Sp-4R!H-3CClFH_4R!H->C_Ext-3CClFH-R': <Entry index=129 label=\"Root_1R->O_N-3R->O_1O-u0_3CClFH-u1_Ext-3CClFH-R_Sp-4R!H-3CClFH_4R!H->C_Ext-3CClFH-R\">,\n",
       " 'Root_1R->O_N-3R->O_1O-u0_3CClFH-u1_Ext-3CClFH-R_Sp-4R!H-3CClFH_N-4R!H->C_4ClFO->O': <Entry index=130 label=\"Root_1R->O_N-3R->O_1O-u0_3CClFH-u1_Ext-3CClFH-R_Sp-4R!H-3CClFH_N-4R!H->C_4ClFO->O\">,\n",
       " 'Root_1R->O_N-3R->O_1O-u0_3CClFH-u1_Ext-3CClFH-R_Sp-4R!H-3CClFH_N-4R!H->C_N-4ClFO->O': <Entry index=131 label=\"Root_1R->O_N-3R->O_1O-u0_3CClFH-u1_Ext-3CClFH-R_Sp-4R!H-3CClFH_N-4R!H->C_N-4ClFO->O\">,\n",
       " 'Root_1R->O_N-3R->O_1O-u0_3CClFH-u1_Ext-3CClFH-R_N-Sp-4R!H-3CClFH_4R!H->C_Ext-4C-R': <Entry index=132 label=\"Root_1R->O_N-3R->O_1O-u0_3CClFH-u1_Ext-3CClFH-R_N-Sp-4R!H-3CClFH_4R!H->C_Ext-4C-R\">,\n",
       " 'Root_1R->O_N-3R->O_1O-u0_N-3CClFH-u1_Ext-3CClFH-R_Ext-3CClFH-R_4R!H->O_5R!H->C': <Entry index=133 label=\"Root_1R->O_N-3R->O_1O-u0_N-3CClFH-u1_Ext-3CClFH-R_Ext-3CClFH-R_4R!H->O_5R!H->C\">,\n",
       " 'Root_1R->O_N-3R->O_1O-u0_N-3CClFH-u1_Ext-3CClFH-R_Ext-3CClFH-R_4R!H->O_N-5R!H->C': <Entry index=134 label=\"Root_1R->O_N-3R->O_1O-u0_N-3CClFH-u1_Ext-3CClFH-R_Ext-3CClFH-R_4R!H->O_N-5R!H->C\">,\n",
       " 'Root_1R->O_N-3R->O_1O-u0_N-3CClFH-u1_Ext-3CClFH-R_Ext-3CClFH-R_N-4R!H->O_Ext-1O-R': <Entry index=135 label=\"Root_1R->O_N-3R->O_1O-u0_N-3CClFH-u1_Ext-3CClFH-R_Ext-3CClFH-R_N-4R!H->O_Ext-1O-R\">,\n",
       " 'Root_1R->O_N-3R->O_N-1O-u0_Ext-3CClFH-R_Sp-4R!H-3CClFH_4R!H->F_Ext-3CClFH-R_Ext-3CClFH-R': <Entry index=136 label=\"Root_1R->O_N-3R->O_N-1O-u0_Ext-3CClFH-R_Sp-4R!H-3CClFH_4R!H->F_Ext-3CClFH-R_Ext-3CClFH-R\">,\n",
       " 'Root_1R->O_N-3R->O_N-1O-u0_Ext-3CClFH-R_Sp-4R!H-3CClFH_4R!H->F_Ext-3CClFH-R_5R!H->F': <Entry index=137 label=\"Root_1R->O_N-3R->O_N-1O-u0_Ext-3CClFH-R_Sp-4R!H-3CClFH_4R!H->F_Ext-3CClFH-R_5R!H->F\">,\n",
       " 'Root_1R->O_N-3R->O_N-1O-u0_Ext-3CClFH-R_Sp-4R!H-3CClFH_4R!H->F_Ext-3CClFH-R_N-5R!H->F': <Entry index=138 label=\"Root_1R->O_N-3R->O_N-1O-u0_Ext-3CClFH-R_Sp-4R!H-3CClFH_4R!H->F_Ext-3CClFH-R_N-5R!H->F\">,\n",
       " 'Root_1R->O_N-3R->O_N-1O-u0_Ext-3CClFH-R_Sp-4R!H-3CClFH_N-4R!H->F_3CClFH-u1_Ext-3CClFH-R': <Entry index=139 label=\"Root_1R->O_N-3R->O_N-1O-u0_Ext-3CClFH-R_Sp-4R!H-3CClFH_N-4R!H->F_3CClFH-u1_Ext-3CClFH-R\">,\n",
       " 'Root_N-1R->O_3R->O_Ext-3O-R_4R!H->F_Ext-1BrCClFHINPSSi-R_N-5R!H->O_Ext-1BrCClFHINPSSi-R_Ext-1BrCClFHINPSSi-R': <Entry index=140 label=\"Root_N-1R->O_3R->O_Ext-3O-R_4R!H->F_Ext-1BrCClFHINPSSi-R_N-5R!H->O_Ext-1BrCClFHINPSSi-R_Ext-1BrCClFHINPSSi-R\">,\n",
       " 'Root_N-1R->O_3R->O_Ext-3O-R_N-4R!H->F_1BrCClFHINPSSi->C_4BrCClINOPSSi->C_Ext-1C-R_Sp-5R!H-1C': <Entry index=141 label=\"Root_N-1R->O_3R->O_Ext-3O-R_N-4R!H->F_1BrCClFHINPSSi->C_4BrCClINOPSSi->C_Ext-1C-R_Sp-5R!H-1C\">,\n",
       " 'Root_N-1R->O_3R->O_Ext-3O-R_N-4R!H->F_1BrCClFHINPSSi->C_4BrCClINOPSSi->C_Ext-1C-R_N-Sp-5R!H-1C': <Entry index=142 label=\"Root_N-1R->O_3R->O_Ext-3O-R_N-4R!H->F_1BrCClFHINPSSi->C_4BrCClINOPSSi->C_Ext-1C-R_N-Sp-5R!H-1C\">,\n",
       " 'Root_N-1R->O_3R->O_Ext-3O-R_N-4R!H->F_1BrCClFHINPSSi->C_N-4BrCClINOPSSi->C_1C-u0_Ext-1C-R': <Entry index=143 label=\"Root_N-1R->O_3R->O_Ext-3O-R_N-4R!H->F_1BrCClFHINPSSi->C_N-4BrCClINOPSSi->C_1C-u0_Ext-1C-R\">,\n",
       " 'Root_N-1R->O_3R->O_Ext-3O-R_N-4R!H->F_1BrCClFHINPSSi->C_N-4BrCClINOPSSi->C_N-1C-u0_Ext-1C-R': <Entry index=144 label=\"Root_N-1R->O_3R->O_Ext-3O-R_N-4R!H->F_1BrCClFHINPSSi->C_N-4BrCClINOPSSi->C_N-1C-u0_Ext-1C-R\">,\n",
       " 'Root_N-1R->O_3R->O_1BrCClFHINPSSi-u0_3O-u1_Ext-1BrCClFHINPSSi-R_N-Sp-4R!H#1BrBrBrCCCClClClFFFHHHIIINNNPPPSSSSiSiSi_Ext-1BrCClFHINPSSi-R_4R!H->O': <Entry index=145 label=\"Root_N-1R->O_3R->O_1BrCClFHINPSSi-u0_3O-u1_Ext-1BrCClFHINPSSi-R_N-Sp-4R!H#1BrBrBrCCCClClClFFFHHHIIINNNPPPSSSSiSiSi_Ext-1BrCClFHINPSSi-R_4R!H->O\">,\n",
       " 'Root_N-1R->O_3R->O_1BrCClFHINPSSi-u0_3O-u1_Ext-1BrCClFHINPSSi-R_N-Sp-4R!H#1BrBrBrCCCClClClFFFHHHIIINNNPPPSSSSiSiSi_Ext-1BrCClFHINPSSi-R_N-4R!H->O': <Entry index=146 label=\"Root_N-1R->O_3R->O_1BrCClFHINPSSi-u0_3O-u1_Ext-1BrCClFHINPSSi-R_N-Sp-4R!H#1BrBrBrCCCClClClFFFHHHIIINNNPPPSSSSiSiSi_Ext-1BrCClFHINPSSi-R_N-4R!H->O\">,\n",
       " 'Root_N-1R->O_3R->O_1BrCClFHINPSSi-u0_3O-u1_Ext-1BrCClFHINPSSi-R_N-Sp-4R!H#1BrBrBrCCCClClClFFFHHHIIINNNPPPSSSSiSiSi_Sp-4R!H-1BrCClFHINPSSi_4R!H->F': <Entry index=147 label=\"Root_N-1R->O_3R->O_1BrCClFHINPSSi-u0_3O-u1_Ext-1BrCClFHINPSSi-R_N-Sp-4R!H#1BrBrBrCCCClClClFFFHHHIIINNNPPPSSSSiSiSi_Sp-4R!H-1BrCClFHINPSSi_4R!H->F\">,\n",
       " 'Root_N-1R->O_3R->O_1BrCClFHINPSSi-u0_3O-u1_Ext-1BrCClFHINPSSi-R_N-Sp-4R!H#1BrBrBrCCCClClClFFFHHHIIINNNPPPSSSSiSiSi_Sp-4R!H-1BrCClFHINPSSi_N-4R!H->F': <Entry index=148 label=\"Root_N-1R->O_3R->O_1BrCClFHINPSSi-u0_3O-u1_Ext-1BrCClFHINPSSi-R_N-Sp-4R!H#1BrBrBrCCCClClClFFFHHHIIINNNPPPSSSSiSiSi_Sp-4R!H-1BrCClFHINPSSi_N-4R!H->F\">,\n",
       " 'Root_N-1R->O_3R->O_1BrCClFHINPSSi-u0_3O-u1_Ext-1BrCClFHINPSSi-R_N-Sp-4R!H#1BrBrBrCCCClClClFFFHHHIIINNNPPPSSSSiSiSi_N-Sp-4R!H-1BrCClFHINPSSi_4R!H->C': <Entry index=149 label=\"Root_N-1R->O_3R->O_1BrCClFHINPSSi-u0_3O-u1_Ext-1BrCClFHINPSSi-R_N-Sp-4R!H#1BrBrBrCCCClClClFFFHHHIIINNNPPPSSSSiSiSi_N-Sp-4R!H-1BrCClFHINPSSi_4R!H->C\">,\n",
       " 'Root_N-1R->O_3R->O_1BrCClFHINPSSi-u0_3O-u1_Ext-1BrCClFHINPSSi-R_N-Sp-4R!H#1BrBrBrCCCClClClFFFHHHIIINNNPPPSSSSiSiSi_N-Sp-4R!H-1BrCClFHINPSSi_N-4R!H->C': <Entry index=150 label=\"Root_N-1R->O_3R->O_1BrCClFHINPSSi-u0_3O-u1_Ext-1BrCClFHINPSSi-R_N-Sp-4R!H#1BrBrBrCCCClClClFFFHHHIIINNNPPPSSSSiSiSi_N-Sp-4R!H-1BrCClFHINPSSi_N-4R!H->C\">,\n",
       " 'Root_N-1R->O_3R->O_1BrCClFHINPSSi-u0_N-3O-u1_Ext-1BrCClFHINPSSi-R_Sp-4R!H-1BrCClFHINPSSi_N-4R!H->O_4CF->F': <Entry index=151 label=\"Root_N-1R->O_3R->O_1BrCClFHINPSSi-u0_N-3O-u1_Ext-1BrCClFHINPSSi-R_Sp-4R!H-1BrCClFHINPSSi_N-4R!H->O_4CF->F\">,\n",
       " 'Root_N-1R->O_3R->O_1BrCClFHINPSSi-u0_N-3O-u1_Ext-1BrCClFHINPSSi-R_Sp-4R!H-1BrCClFHINPSSi_N-4R!H->O_N-4CF->F': <Entry index=152 label=\"Root_N-1R->O_3R->O_1BrCClFHINPSSi-u0_N-3O-u1_Ext-1BrCClFHINPSSi-R_Sp-4R!H-1BrCClFHINPSSi_N-4R!H->O_N-4CF->F\">,\n",
       " 'Root_N-1R->O_3R->O_N-1BrCClFHINPSSi-u0_3O-u1_Ext-1BrCClFHINPSSi-R_Sp-4R!H-1BrCClFHINPSSi_4R!H->O_Ext-1BrCClFHINPSSi-R': <Entry index=153 label=\"Root_N-1R->O_3R->O_N-1BrCClFHINPSSi-u0_3O-u1_Ext-1BrCClFHINPSSi-R_Sp-4R!H-1BrCClFHINPSSi_4R!H->O_Ext-1BrCClFHINPSSi-R\">,\n",
       " 'Root_N-1R->O_3R->O_N-1BrCClFHINPSSi-u0_3O-u1_Ext-1BrCClFHINPSSi-R_Sp-4R!H-1BrCClFHINPSSi_N-4R!H->O_Ext-1BrCClFHINPSSi-R': <Entry index=154 label=\"Root_N-1R->O_3R->O_N-1BrCClFHINPSSi-u0_3O-u1_Ext-1BrCClFHINPSSi-R_Sp-4R!H-1BrCClFHINPSSi_N-4R!H->O_Ext-1BrCClFHINPSSi-R\">,\n",
       " 'Root_N-1R->O_N-3R->O_1BrCClFHINPSSi->C_3CClFH->F_Ext-1C-R_N-4R!H->O_Ext-1C-R_Ext-1C-R': <Entry index=155 label=\"Root_N-1R->O_N-3R->O_1BrCClFHINPSSi->C_3CClFH->F_Ext-1C-R_N-4R!H->O_Ext-1C-R_Ext-1C-R\">,\n",
       " 'Root_N-1R->O_N-3R->O_1BrCClFHINPSSi->C_N-3CClFH->F_3CClH->C_3C-u1_1C-u0_Ext-1C-R': <Entry index=156 label=\"Root_N-1R->O_N-3R->O_1BrCClFHINPSSi->C_N-3CClFH->F_3CClH->C_3C-u1_1C-u0_Ext-1C-R\">,\n",
       " 'Root_N-1R->O_N-3R->O_1BrCClFHINPSSi->C_N-3CClFH->F_3CClH->C_3C-u1_1C-u0_Ext-3C-R_Sp-4R!H=3C': <Entry index=157 label=\"Root_N-1R->O_N-3R->O_1BrCClFHINPSSi->C_N-3CClFH->F_3CClH->C_3C-u1_1C-u0_Ext-3C-R_Sp-4R!H=3C\">,\n",
       " 'Root_N-1R->O_N-3R->O_1BrCClFHINPSSi->C_N-3CClFH->F_3CClH->C_3C-u1_1C-u0_Ext-3C-R_N-Sp-4R!H=3C': <Entry index=158 label=\"Root_N-1R->O_N-3R->O_1BrCClFHINPSSi->C_N-3CClFH->F_3CClH->C_3C-u1_1C-u0_Ext-3C-R_N-Sp-4R!H=3C\">,\n",
       " 'Root_N-1R->O_N-3R->O_1BrCClFHINPSSi->C_N-3CClFH->F_3CClH->C_3C-u1_N-1C-u0_Ext-1C-R_Sp-4R!H-1C': <Entry index=159 label=\"Root_N-1R->O_N-3R->O_1BrCClFHINPSSi->C_N-3CClFH->F_3CClH->C_3C-u1_N-1C-u0_Ext-1C-R_Sp-4R!H-1C\">,\n",
       " 'Root_N-1R->O_N-3R->O_1BrCClFHINPSSi->C_N-3CClFH->F_3CClH->C_3C-u1_N-1C-u0_Ext-1C-R_N-Sp-4R!H-1C': <Entry index=160 label=\"Root_N-1R->O_N-3R->O_1BrCClFHINPSSi->C_N-3CClFH->F_3CClH->C_3C-u1_N-1C-u0_Ext-1C-R_N-Sp-4R!H-1C\">,\n",
       " 'Root_N-1R->O_N-3R->O_1BrCClFHINPSSi->C_N-3CClFH->F_3CClH->C_N-3C-u1_Ext-3C-R_Sp-4R!H-3C_Ext-3C-R': <Entry index=161 label=\"Root_N-1R->O_N-3R->O_1BrCClFHINPSSi->C_N-3CClFH->F_3CClH->C_N-3C-u1_Ext-3C-R_Sp-4R!H-3C_Ext-3C-R\">,\n",
       " 'Root_N-1R->O_N-3R->O_1BrCClFHINPSSi->C_N-3CClFH->F_3CClH->C_N-3C-u1_Ext-3C-R_Sp-4R!H-3C_4R!H->C': <Entry index=162 label=\"Root_N-1R->O_N-3R->O_1BrCClFHINPSSi->C_N-3CClFH->F_3CClH->C_N-3C-u1_Ext-3C-R_Sp-4R!H-3C_4R!H->C\">,\n",
       " 'Root_N-1R->O_N-3R->O_1BrCClFHINPSSi->C_N-3CClFH->F_3CClH->C_N-3C-u1_Ext-3C-R_Sp-4R!H-3C_N-4R!H->C': <Entry index=163 label=\"Root_N-1R->O_N-3R->O_1BrCClFHINPSSi->C_N-3CClFH->F_3CClH->C_N-3C-u1_Ext-3C-R_Sp-4R!H-3C_N-4R!H->C\">,\n",
       " 'Root_N-1R->O_N-3R->O_1BrCClFHINPSSi->C_N-3CClFH->F_N-3CClH->C_Ext-1C-R_4R!H->F_Ext-1C-R': <Entry index=164 label=\"Root_N-1R->O_N-3R->O_1BrCClFHINPSSi->C_N-3CClFH->F_N-3CClH->C_Ext-1C-R_4R!H->F_Ext-1C-R\">,\n",
       " 'Root_N-1R->O_N-3R->O_1BrCClFHINPSSi->C_N-3CClFH->F_N-3CClH->C_Ext-1C-R_N-4R!H->F_Sp-4BrBrCCClClIINNOOPPSSSiSi=1C': <Entry index=165 label=\"Root_N-1R->O_N-3R->O_1BrCClFHINPSSi->C_N-3CClFH->F_N-3CClH->C_Ext-1C-R_N-4R!H->F_Sp-4BrBrCCClClIINNOOPPSSSiSi=1C\">,\n",
       " 'Root_N-1R->O_N-3R->O_1BrCClFHINPSSi->C_N-3CClFH->F_N-3CClH->C_Ext-1C-R_N-4R!H->F_N-Sp-4BrBrCCClClIINNOOPPSSSiSi=1C': <Entry index=166 label=\"Root_N-1R->O_N-3R->O_1BrCClFHINPSSi->C_N-3CClFH->F_N-3CClH->C_Ext-1C-R_N-4R!H->F_N-Sp-4BrBrCCClClIINNOOPPSSSiSi=1C\">,\n",
       " 'Root_N-1R->O_N-3R->O_N-1BrCClFHINPSSi->C_1ClFH->H_N-3CClFH->Cl_N-3CFH->F_Ext-3C-R_4R!H->F': <Entry index=167 label=\"Root_N-1R->O_N-3R->O_N-1BrCClFHINPSSi->C_1ClFH->H_N-3CClFH->Cl_N-3CFH->F_Ext-3C-R_4R!H->F\">,\n",
       " 'Root_N-1R->O_N-3R->O_N-1BrCClFHINPSSi->C_1ClFH->H_N-3CClFH->Cl_N-3CFH->F_Ext-3C-R_N-4R!H->F': <Entry index=168 label=\"Root_N-1R->O_N-3R->O_N-1BrCClFHINPSSi->C_1ClFH->H_N-3CClFH->Cl_N-3CFH->F_Ext-3C-R_N-4R!H->F\">,\n",
       " 'Root_N-1R->O_N-3R->O_N-1BrCClFHINPSSi->C_N-1ClFH->H_1ClF->F_3CClFH->C_Ext-3C-R_Ext-3C-R': <Entry index=169 label=\"Root_N-1R->O_N-3R->O_N-1BrCClFHINPSSi->C_N-1ClFH->H_1ClF->F_3CClFH->C_Ext-3C-R_Ext-3C-R\">,\n",
       " 'Root_1R->O_N-3R->O_1O-u0_3CClFH-u1_Ext-1O-R_3CClFH->C_4R!H->C_Ext-3C-R_Sp-5R!H-3C': <Entry index=170 label=\"Root_1R->O_N-3R->O_1O-u0_3CClFH-u1_Ext-1O-R_3CClFH->C_4R!H->C_Ext-3C-R_Sp-5R!H-3C\">,\n",
       " 'Root_1R->O_N-3R->O_1O-u0_3CClFH-u1_Ext-1O-R_3CClFH->C_4R!H->C_Ext-3C-R_N-Sp-5R!H-3C': <Entry index=171 label=\"Root_1R->O_N-3R->O_1O-u0_3CClFH-u1_Ext-1O-R_3CClFH->C_4R!H->C_Ext-3C-R_N-Sp-5R!H-3C\">,\n",
       " 'Root_1R->O_N-3R->O_1O-u0_3CClFH-u1_Ext-1O-R_3CClFH->C_N-4R!H->C_Ext-3C-R_Sp-5R!H-3C': <Entry index=172 label=\"Root_1R->O_N-3R->O_1O-u0_3CClFH-u1_Ext-1O-R_3CClFH->C_N-4R!H->C_Ext-3C-R_Sp-5R!H-3C\">,\n",
       " 'Root_1R->O_N-3R->O_1O-u0_3CClFH-u1_Ext-1O-R_3CClFH->C_N-4R!H->C_Ext-3C-R_N-Sp-5R!H-3C': <Entry index=173 label=\"Root_1R->O_N-3R->O_1O-u0_3CClFH-u1_Ext-1O-R_3CClFH->C_N-4R!H->C_Ext-3C-R_N-Sp-5R!H-3C\">,\n",
       " 'Root_1R->O_N-3R->O_1O-u0_3CClFH-u1_Ext-3CClFH-R_Sp-4R!H-3CClFH_4R!H->C_Ext-3CClFH-R_Ext-3CClFH-R': <Entry index=174 label=\"Root_1R->O_N-3R->O_1O-u0_3CClFH-u1_Ext-3CClFH-R_Sp-4R!H-3CClFH_4R!H->C_Ext-3CClFH-R_Ext-3CClFH-R\">,\n",
       " 'Root_1R->O_N-3R->O_1O-u0_3CClFH-u1_Ext-3CClFH-R_Sp-4R!H-3CClFH_4R!H->C_Ext-3CClFH-R_Sp-5R!H-3CClFH': <Entry index=175 label=\"Root_1R->O_N-3R->O_1O-u0_3CClFH-u1_Ext-3CClFH-R_Sp-4R!H-3CClFH_4R!H->C_Ext-3CClFH-R_Sp-5R!H-3CClFH\">,\n",
       " 'Root_1R->O_N-3R->O_1O-u0_3CClFH-u1_Ext-3CClFH-R_Sp-4R!H-3CClFH_4R!H->C_Ext-3CClFH-R_N-Sp-5R!H-3CClFH': <Entry index=176 label=\"Root_1R->O_N-3R->O_1O-u0_3CClFH-u1_Ext-3CClFH-R_Sp-4R!H-3CClFH_4R!H->C_Ext-3CClFH-R_N-Sp-5R!H-3CClFH\">,\n",
       " 'Root_1R->O_N-3R->O_1O-u0_3CClFH-u1_Ext-3CClFH-R_Sp-4R!H-3CClFH_N-4R!H->C_N-4ClFO->O_Ext-3CClFH-R': <Entry index=177 label=\"Root_1R->O_N-3R->O_1O-u0_3CClFH-u1_Ext-3CClFH-R_Sp-4R!H-3CClFH_N-4R!H->C_N-4ClFO->O_Ext-3CClFH-R\">,\n",
       " 'Root_1R->O_N-3R->O_1O-u0_3CClFH-u1_Ext-3CClFH-R_Sp-4R!H-3CClFH_N-4R!H->C_N-4ClFO->O_4ClF->F': <Entry index=178 label=\"Root_1R->O_N-3R->O_1O-u0_3CClFH-u1_Ext-3CClFH-R_Sp-4R!H-3CClFH_N-4R!H->C_N-4ClFO->O_4ClF->F\">,\n",
       " 'Root_1R->O_N-3R->O_1O-u0_3CClFH-u1_Ext-3CClFH-R_Sp-4R!H-3CClFH_N-4R!H->C_N-4ClFO->O_N-4ClF->F': <Entry index=179 label=\"Root_1R->O_N-3R->O_1O-u0_3CClFH-u1_Ext-3CClFH-R_Sp-4R!H-3CClFH_N-4R!H->C_N-4ClFO->O_N-4ClF->F\">,\n",
       " 'Root_N-1R->O_3R->O_Ext-3O-R_N-4R!H->F_1BrCClFHINPSSi->C_4BrCClINOPSSi->C_Ext-1C-R_Sp-5R!H-1C_5R!H->Cl': <Entry index=180 label=\"Root_N-1R->O_3R->O_Ext-3O-R_N-4R!H->F_1BrCClFHINPSSi->C_4BrCClINOPSSi->C_Ext-1C-R_Sp-5R!H-1C_5R!H->Cl\">,\n",
       " 'Root_N-1R->O_3R->O_Ext-3O-R_N-4R!H->F_1BrCClFHINPSSi->C_4BrCClINOPSSi->C_Ext-1C-R_Sp-5R!H-1C_N-5R!H->Cl': <Entry index=181 label=\"Root_N-1R->O_3R->O_Ext-3O-R_N-4R!H->F_1BrCClFHINPSSi->C_4BrCClINOPSSi->C_Ext-1C-R_Sp-5R!H-1C_N-5R!H->Cl\">,\n",
       " 'Root_N-1R->O_3R->O_Ext-3O-R_N-4R!H->F_1BrCClFHINPSSi->C_N-4BrCClINOPSSi->C_1C-u0_Ext-1C-R_Sp-5R!H=1C': <Entry index=182 label=\"Root_N-1R->O_3R->O_Ext-3O-R_N-4R!H->F_1BrCClFHINPSSi->C_N-4BrCClINOPSSi->C_1C-u0_Ext-1C-R_Sp-5R!H=1C\">,\n",
       " 'Root_N-1R->O_3R->O_Ext-3O-R_N-4R!H->F_1BrCClFHINPSSi->C_N-4BrCClINOPSSi->C_1C-u0_Ext-1C-R_N-Sp-5R!H=1C': <Entry index=183 label=\"Root_N-1R->O_3R->O_Ext-3O-R_N-4R!H->F_1BrCClFHINPSSi->C_N-4BrCClINOPSSi->C_1C-u0_Ext-1C-R_N-Sp-5R!H=1C\">,\n",
       " 'Root_N-1R->O_3R->O_Ext-3O-R_N-4R!H->F_1BrCClFHINPSSi->C_N-4BrCClINOPSSi->C_N-1C-u0_Ext-1C-R_Ext-1C-R': <Entry index=184 label=\"Root_N-1R->O_3R->O_Ext-3O-R_N-4R!H->F_1BrCClFHINPSSi->C_N-4BrCClINOPSSi->C_N-1C-u0_Ext-1C-R_Ext-1C-R\">,\n",
       " 'Root_N-1R->O_3R->O_1BrCClFHINPSSi-u0_3O-u1_Ext-1BrCClFHINPSSi-R_N-Sp-4R!H#1BrBrBrCCCClClClFFFHHHIIINNNPPPSSSSiSiSi_Ext-1BrCClFHINPSSi-R_N-4R!H->O_4CClF->F': <Entry index=185 label=\"Root_N-1R->O_3R->O_1BrCClFHINPSSi-u0_3O-u1_Ext-1BrCClFHINPSSi-R_N-Sp-4R!H#1BrBrBrCCCClClClFFFHHHIIINNNPPPSSSSiSiSi_Ext-1BrCClFHINPSSi-R_N-4R!H->O_4CClF->F\">,\n",
       " 'Root_N-1R->O_3R->O_1BrCClFHINPSSi-u0_3O-u1_Ext-1BrCClFHINPSSi-R_N-Sp-4R!H#1BrBrBrCCCClClClFFFHHHIIINNNPPPSSSSiSiSi_Ext-1BrCClFHINPSSi-R_N-4R!H->O_N-4CClF->F': <Entry index=186 label=\"Root_N-1R->O_3R->O_1BrCClFHINPSSi-u0_3O-u1_Ext-1BrCClFHINPSSi-R_N-Sp-4R!H#1BrBrBrCCCClClClFFFHHHIIINNNPPPSSSSiSiSi_Ext-1BrCClFHINPSSi-R_N-4R!H->O_N-4CClF->F\">,\n",
       " 'Root_N-1R->O_3R->O_1BrCClFHINPSSi-u0_3O-u1_Ext-1BrCClFHINPSSi-R_N-Sp-4R!H#1BrBrBrCCCClClClFFFHHHIIINNNPPPSSSSiSiSi_Sp-4R!H-1BrCClFHINPSSi_N-4R!H->F_4CClO->Cl': <Entry index=187 label=\"Root_N-1R->O_3R->O_1BrCClFHINPSSi-u0_3O-u1_Ext-1BrCClFHINPSSi-R_N-Sp-4R!H#1BrBrBrCCCClClClFFFHHHIIINNNPPPSSSSiSiSi_Sp-4R!H-1BrCClFHINPSSi_N-4R!H->F_4CClO->Cl\">,\n",
       " 'Root_N-1R->O_3R->O_1BrCClFHINPSSi-u0_3O-u1_Ext-1BrCClFHINPSSi-R_N-Sp-4R!H#1BrBrBrCCCClClClFFFHHHIIINNNPPPSSSSiSiSi_Sp-4R!H-1BrCClFHINPSSi_N-4R!H->F_N-4CClO->Cl': <Entry index=188 label=\"Root_N-1R->O_3R->O_1BrCClFHINPSSi-u0_3O-u1_Ext-1BrCClFHINPSSi-R_N-Sp-4R!H#1BrBrBrCCCClClClFFFHHHIIINNNPPPSSSSiSiSi_Sp-4R!H-1BrCClFHINPSSi_N-4R!H->F_N-4CClO->Cl\">,\n",
       " 'Root_N-1R->O_3R->O_1BrCClFHINPSSi-u0_N-3O-u1_Ext-1BrCClFHINPSSi-R_Sp-4R!H-1BrCClFHINPSSi_N-4R!H->O_4CF->F_Ext-1BrCClFHINPSSi-R': <Entry index=189 label=\"Root_N-1R->O_3R->O_1BrCClFHINPSSi-u0_N-3O-u1_Ext-1BrCClFHINPSSi-R_Sp-4R!H-1BrCClFHINPSSi_N-4R!H->O_4CF->F_Ext-1BrCClFHINPSSi-R\">,\n",
       " 'Root_N-1R->O_3R->O_N-1BrCClFHINPSSi-u0_3O-u1_Ext-1BrCClFHINPSSi-R_Sp-4R!H-1BrCClFHINPSSi_4R!H->O_Ext-1BrCClFHINPSSi-R_5R!H->C': <Entry index=190 label=\"Root_N-1R->O_3R->O_N-1BrCClFHINPSSi-u0_3O-u1_Ext-1BrCClFHINPSSi-R_Sp-4R!H-1BrCClFHINPSSi_4R!H->O_Ext-1BrCClFHINPSSi-R_5R!H->C\">,\n",
       " 'Root_N-1R->O_3R->O_N-1BrCClFHINPSSi-u0_3O-u1_Ext-1BrCClFHINPSSi-R_Sp-4R!H-1BrCClFHINPSSi_4R!H->O_Ext-1BrCClFHINPSSi-R_N-5R!H->C': <Entry index=191 label=\"Root_N-1R->O_3R->O_N-1BrCClFHINPSSi-u0_3O-u1_Ext-1BrCClFHINPSSi-R_Sp-4R!H-1BrCClFHINPSSi_4R!H->O_Ext-1BrCClFHINPSSi-R_N-5R!H->C\">,\n",
       " 'Root_N-1R->O_N-3R->O_1BrCClFHINPSSi->C_N-3CClFH->F_3CClH->C_3C-u1_1C-u0_Ext-1C-R_4R!H->O': <Entry index=192 label=\"Root_N-1R->O_N-3R->O_1BrCClFHINPSSi->C_N-3CClFH->F_3CClH->C_3C-u1_1C-u0_Ext-1C-R_4R!H->O\">,\n",
       " 'Root_N-1R->O_N-3R->O_1BrCClFHINPSSi->C_N-3CClFH->F_3CClH->C_3C-u1_1C-u0_Ext-1C-R_N-4R!H->O': <Entry index=193 label=\"Root_N-1R->O_N-3R->O_1BrCClFHINPSSi->C_N-3CClFH->F_3CClH->C_3C-u1_1C-u0_Ext-1C-R_N-4R!H->O\">,\n",
       " 'Root_N-1R->O_N-3R->O_1BrCClFHINPSSi->C_N-3CClFH->F_3CClH->C_3C-u1_1C-u0_Ext-3C-R_Sp-4R!H=3C_Ext-3C-R': <Entry index=194 label=\"Root_N-1R->O_N-3R->O_1BrCClFHINPSSi->C_N-3CClFH->F_3CClH->C_3C-u1_1C-u0_Ext-3C-R_Sp-4R!H=3C_Ext-3C-R\">,\n",
       " 'Root_N-1R->O_N-3R->O_1BrCClFHINPSSi->C_N-3CClFH->F_3CClH->C_3C-u1_1C-u0_Ext-3C-R_Sp-4R!H=3C_4R!H->C': <Entry index=195 label=\"Root_N-1R->O_N-3R->O_1BrCClFHINPSSi->C_N-3CClFH->F_3CClH->C_3C-u1_1C-u0_Ext-3C-R_Sp-4R!H=3C_4R!H->C\">,\n",
       " 'Root_N-1R->O_N-3R->O_1BrCClFHINPSSi->C_N-3CClFH->F_3CClH->C_3C-u1_1C-u0_Ext-3C-R_Sp-4R!H=3C_N-4R!H->C': <Entry index=196 label=\"Root_N-1R->O_N-3R->O_1BrCClFHINPSSi->C_N-3CClFH->F_3CClH->C_3C-u1_1C-u0_Ext-3C-R_Sp-4R!H=3C_N-4R!H->C\">,\n",
       " 'Root_N-1R->O_N-3R->O_1BrCClFHINPSSi->C_N-3CClFH->F_3CClH->C_3C-u1_1C-u0_Ext-3C-R_N-Sp-4R!H=3C_4R!H->F': <Entry index=197 label=\"Root_N-1R->O_N-3R->O_1BrCClFHINPSSi->C_N-3CClFH->F_3CClH->C_3C-u1_1C-u0_Ext-3C-R_N-Sp-4R!H=3C_4R!H->F\">,\n",
       " 'Root_N-1R->O_N-3R->O_1BrCClFHINPSSi->C_N-3CClFH->F_3CClH->C_3C-u1_1C-u0_Ext-3C-R_N-Sp-4R!H=3C_N-4R!H->F': <Entry index=198 label=\"Root_N-1R->O_N-3R->O_1BrCClFHINPSSi->C_N-3CClFH->F_3CClH->C_3C-u1_1C-u0_Ext-3C-R_N-Sp-4R!H=3C_N-4R!H->F\">,\n",
       " 'Root_N-1R->O_N-3R->O_1BrCClFHINPSSi->C_N-3CClFH->F_3CClH->C_3C-u1_N-1C-u0_Ext-1C-R_Sp-4R!H-1C_4R!H->C': <Entry index=199 label=\"Root_N-1R->O_N-3R->O_1BrCClFHINPSSi->C_N-3CClFH->F_3CClH->C_3C-u1_N-1C-u0_Ext-1C-R_Sp-4R!H-1C_4R!H->C\">,\n",
       " 'Root_N-1R->O_N-3R->O_1BrCClFHINPSSi->C_N-3CClFH->F_3CClH->C_3C-u1_N-1C-u0_Ext-1C-R_Sp-4R!H-1C_N-4R!H->C': <Entry index=200 label=\"Root_N-1R->O_N-3R->O_1BrCClFHINPSSi->C_N-3CClFH->F_3CClH->C_3C-u1_N-1C-u0_Ext-1C-R_Sp-4R!H-1C_N-4R!H->C\">,\n",
       " 'Root_N-1R->O_N-3R->O_1BrCClFHINPSSi->C_N-3CClFH->F_3CClH->C_N-3C-u1_Ext-3C-R_Sp-4R!H-3C_Ext-3C-R_4R!H->O': <Entry index=201 label=\"Root_N-1R->O_N-3R->O_1BrCClFHINPSSi->C_N-3CClFH->F_3CClH->C_N-3C-u1_Ext-3C-R_Sp-4R!H-3C_Ext-3C-R_4R!H->O\">,\n",
       " 'Root_N-1R->O_N-3R->O_1BrCClFHINPSSi->C_N-3CClFH->F_3CClH->C_N-3C-u1_Ext-3C-R_Sp-4R!H-3C_Ext-3C-R_N-4R!H->O': <Entry index=202 label=\"Root_N-1R->O_N-3R->O_1BrCClFHINPSSi->C_N-3CClFH->F_3CClH->C_N-3C-u1_Ext-3C-R_Sp-4R!H-3C_Ext-3C-R_N-4R!H->O\">,\n",
       " 'Root_N-1R->O_N-3R->O_1BrCClFHINPSSi->C_N-3CClFH->F_N-3CClH->C_Ext-1C-R_4R!H->F_Ext-1C-R_5R!H->F': <Entry index=203 label=\"Root_N-1R->O_N-3R->O_1BrCClFHINPSSi->C_N-3CClFH->F_N-3CClH->C_Ext-1C-R_4R!H->F_Ext-1C-R_5R!H->F\">,\n",
       " 'Root_N-1R->O_N-3R->O_1BrCClFHINPSSi->C_N-3CClFH->F_N-3CClH->C_Ext-1C-R_4R!H->F_Ext-1C-R_N-5R!H->F': <Entry index=204 label=\"Root_N-1R->O_N-3R->O_1BrCClFHINPSSi->C_N-3CClFH->F_N-3CClH->C_Ext-1C-R_4R!H->F_Ext-1C-R_N-5R!H->F\">,\n",
       " 'Root_N-1R->O_N-3R->O_1BrCClFHINPSSi->C_N-3CClFH->F_N-3CClH->C_Ext-1C-R_N-4R!H->F_Sp-4BrBrCCClClIINNOOPPSSSiSi=1C_Ext-1C-R': <Entry index=205 label=\"Root_N-1R->O_N-3R->O_1BrCClFHINPSSi->C_N-3CClFH->F_N-3CClH->C_Ext-1C-R_N-4R!H->F_Sp-4BrBrCCClClIINNOOPPSSSiSi=1C_Ext-1C-R\">,\n",
       " 'Root_N-1R->O_N-3R->O_1BrCClFHINPSSi->C_N-3CClFH->F_N-3CClH->C_Ext-1C-R_N-4R!H->F_N-Sp-4BrBrCCClClIINNOOPPSSSiSi=1C_4BrCClINOPSSi->C': <Entry index=206 label=\"Root_N-1R->O_N-3R->O_1BrCClFHINPSSi->C_N-3CClFH->F_N-3CClH->C_Ext-1C-R_N-4R!H->F_N-Sp-4BrBrCCClClIINNOOPPSSSiSi=1C_4BrCClINOPSSi->C\">,\n",
       " 'Root_N-1R->O_N-3R->O_1BrCClFHINPSSi->C_N-3CClFH->F_N-3CClH->C_Ext-1C-R_N-4R!H->F_N-Sp-4BrBrCCClClIINNOOPPSSSiSi=1C_N-4BrCClINOPSSi->C': <Entry index=207 label=\"Root_N-1R->O_N-3R->O_1BrCClFHINPSSi->C_N-3CClFH->F_N-3CClH->C_Ext-1C-R_N-4R!H->F_N-Sp-4BrBrCCClClIINNOOPPSSSiSi=1C_N-4BrCClINOPSSi->C\">,\n",
       " 'Root_N-1R->O_N-3R->O_N-1BrCClFHINPSSi->C_1ClFH->H_N-3CClFH->Cl_N-3CFH->F_Ext-3C-R_4R!H->F_Ext-3C-R': <Entry index=208 label=\"Root_N-1R->O_N-3R->O_N-1BrCClFHINPSSi->C_1ClFH->H_N-3CClFH->Cl_N-3CFH->F_Ext-3C-R_4R!H->F_Ext-3C-R\">,\n",
       " 'Root_N-1R->O_N-3R->O_N-1BrCClFHINPSSi->C_1ClFH->H_N-3CClFH->Cl_N-3CFH->F_Ext-3C-R_N-4R!H->F_4BrCClINOPSSi->Cl': <Entry index=209 label=\"Root_N-1R->O_N-3R->O_N-1BrCClFHINPSSi->C_1ClFH->H_N-3CClFH->Cl_N-3CFH->F_Ext-3C-R_N-4R!H->F_4BrCClINOPSSi->Cl\">,\n",
       " 'Root_N-1R->O_N-3R->O_N-1BrCClFHINPSSi->C_1ClFH->H_N-3CClFH->Cl_N-3CFH->F_Ext-3C-R_N-4R!H->F_N-4BrCClINOPSSi->Cl': <Entry index=210 label=\"Root_N-1R->O_N-3R->O_N-1BrCClFHINPSSi->C_1ClFH->H_N-3CClFH->Cl_N-3CFH->F_Ext-3C-R_N-4R!H->F_N-4BrCClINOPSSi->Cl\">,\n",
       " 'Root_N-1R->O_N-3R->O_N-1BrCClFHINPSSi->C_N-1ClFH->H_1ClF->F_3CClFH->C_Ext-3C-R_Ext-3C-R_4R!H->O': <Entry index=211 label=\"Root_N-1R->O_N-3R->O_N-1BrCClFHINPSSi->C_N-1ClFH->H_1ClF->F_3CClFH->C_Ext-3C-R_Ext-3C-R_4R!H->O\">,\n",
       " 'Root_N-1R->O_N-3R->O_N-1BrCClFHINPSSi->C_N-1ClFH->H_1ClF->F_3CClFH->C_Ext-3C-R_Ext-3C-R_N-4R!H->O': <Entry index=212 label=\"Root_N-1R->O_N-3R->O_N-1BrCClFHINPSSi->C_N-1ClFH->H_1ClF->F_3CClFH->C_Ext-3C-R_Ext-3C-R_N-4R!H->O\">,\n",
       " 'Root_1R->O_N-3R->O_1O-u0_3CClFH-u1_Ext-1O-R_3CClFH->C_4R!H->C_Ext-3C-R_Sp-5R!H-3C_5R!H->Cl': <Entry index=213 label=\"Root_1R->O_N-3R->O_1O-u0_3CClFH-u1_Ext-1O-R_3CClFH->C_4R!H->C_Ext-3C-R_Sp-5R!H-3C_5R!H->Cl\">,\n",
       " 'Root_1R->O_N-3R->O_1O-u0_3CClFH-u1_Ext-1O-R_3CClFH->C_4R!H->C_Ext-3C-R_Sp-5R!H-3C_N-5R!H->Cl': <Entry index=214 label=\"Root_1R->O_N-3R->O_1O-u0_3CClFH-u1_Ext-1O-R_3CClFH->C_4R!H->C_Ext-3C-R_Sp-5R!H-3C_N-5R!H->Cl\">,\n",
       " 'Root_1R->O_N-3R->O_1O-u0_3CClFH-u1_Ext-1O-R_3CClFH->C_N-4R!H->C_Ext-3C-R_Sp-5R!H-3C_Ext-5R!H-R': <Entry index=215 label=\"Root_1R->O_N-3R->O_1O-u0_3CClFH-u1_Ext-1O-R_3CClFH->C_N-4R!H->C_Ext-3C-R_Sp-5R!H-3C_Ext-5R!H-R\">,\n",
       " 'Root_1R->O_N-3R->O_1O-u0_3CClFH-u1_Ext-1O-R_3CClFH->C_N-4R!H->C_Ext-3C-R_Sp-5R!H-3C_4FO->F': <Entry index=216 label=\"Root_1R->O_N-3R->O_1O-u0_3CClFH-u1_Ext-1O-R_3CClFH->C_N-4R!H->C_Ext-3C-R_Sp-5R!H-3C_4FO->F\">,\n",
       " 'Root_1R->O_N-3R->O_1O-u0_3CClFH-u1_Ext-1O-R_3CClFH->C_N-4R!H->C_Ext-3C-R_Sp-5R!H-3C_N-4FO->F': <Entry index=217 label=\"Root_1R->O_N-3R->O_1O-u0_3CClFH-u1_Ext-1O-R_3CClFH->C_N-4R!H->C_Ext-3C-R_Sp-5R!H-3C_N-4FO->F\">,\n",
       " 'Root_1R->O_N-3R->O_1O-u0_3CClFH-u1_Ext-1O-R_3CClFH->C_N-4R!H->C_Ext-3C-R_N-Sp-5R!H-3C_4FO->F': <Entry index=218 label=\"Root_1R->O_N-3R->O_1O-u0_3CClFH-u1_Ext-1O-R_3CClFH->C_N-4R!H->C_Ext-3C-R_N-Sp-5R!H-3C_4FO->F\">,\n",
       " 'Root_1R->O_N-3R->O_1O-u0_3CClFH-u1_Ext-1O-R_3CClFH->C_N-4R!H->C_Ext-3C-R_N-Sp-5R!H-3C_N-4FO->F': <Entry index=219 label=\"Root_1R->O_N-3R->O_1O-u0_3CClFH-u1_Ext-1O-R_3CClFH->C_N-4R!H->C_Ext-3C-R_N-Sp-5R!H-3C_N-4FO->F\">,\n",
       " 'Root_1R->O_N-3R->O_1O-u0_3CClFH-u1_Ext-3CClFH-R_Sp-4R!H-3CClFH_N-4R!H->C_N-4ClFO->O_Ext-3CClFH-R_5R!H->O': <Entry index=220 label=\"Root_1R->O_N-3R->O_1O-u0_3CClFH-u1_Ext-3CClFH-R_Sp-4R!H-3CClFH_N-4R!H->C_N-4ClFO->O_Ext-3CClFH-R_5R!H->O\">,\n",
       " 'Root_1R->O_N-3R->O_1O-u0_3CClFH-u1_Ext-3CClFH-R_Sp-4R!H-3CClFH_N-4R!H->C_N-4ClFO->O_Ext-3CClFH-R_N-5R!H->O': <Entry index=221 label=\"Root_1R->O_N-3R->O_1O-u0_3CClFH-u1_Ext-3CClFH-R_Sp-4R!H-3CClFH_N-4R!H->C_N-4ClFO->O_Ext-3CClFH-R_N-5R!H->O\">,\n",
       " 'Root_N-1R->O_3R->O_Ext-3O-R_N-4R!H->F_1BrCClFHINPSSi->C_N-4BrCClINOPSSi->C_1C-u0_Ext-1C-R_Sp-5R!H=1C_5R!H->C': <Entry index=222 label=\"Root_N-1R->O_3R->O_Ext-3O-R_N-4R!H->F_1BrCClFHINPSSi->C_N-4BrCClINOPSSi->C_1C-u0_Ext-1C-R_Sp-5R!H=1C_5R!H->C\">,\n",
       " 'Root_N-1R->O_3R->O_Ext-3O-R_N-4R!H->F_1BrCClFHINPSSi->C_N-4BrCClINOPSSi->C_1C-u0_Ext-1C-R_Sp-5R!H=1C_N-5R!H->C': <Entry index=223 label=\"Root_N-1R->O_3R->O_Ext-3O-R_N-4R!H->F_1BrCClFHINPSSi->C_N-4BrCClINOPSSi->C_1C-u0_Ext-1C-R_Sp-5R!H=1C_N-5R!H->C\">,\n",
       " 'Root_N-1R->O_3R->O_Ext-3O-R_N-4R!H->F_1BrCClFHINPSSi->C_N-4BrCClINOPSSi->C_1C-u0_Ext-1C-R_N-Sp-5R!H=1C_Ext-5R!H-R': <Entry index=224 label=\"Root_N-1R->O_3R->O_Ext-3O-R_N-4R!H->F_1BrCClFHINPSSi->C_N-4BrCClINOPSSi->C_1C-u0_Ext-1C-R_N-Sp-5R!H=1C_Ext-5R!H-R\">,\n",
       " 'Root_N-1R->O_3R->O_Ext-3O-R_N-4R!H->F_1BrCClFHINPSSi->C_N-4BrCClINOPSSi->C_1C-u0_Ext-1C-R_N-Sp-5R!H=1C_5R!H->Cl': <Entry index=225 label=\"Root_N-1R->O_3R->O_Ext-3O-R_N-4R!H->F_1BrCClFHINPSSi->C_N-4BrCClINOPSSi->C_1C-u0_Ext-1C-R_N-Sp-5R!H=1C_5R!H->Cl\">,\n",
       " 'Root_N-1R->O_3R->O_Ext-3O-R_N-4R!H->F_1BrCClFHINPSSi->C_N-4BrCClINOPSSi->C_1C-u0_Ext-1C-R_N-Sp-5R!H=1C_N-5R!H->Cl': <Entry index=226 label=\"Root_N-1R->O_3R->O_Ext-3O-R_N-4R!H->F_1BrCClFHINPSSi->C_N-4BrCClINOPSSi->C_1C-u0_Ext-1C-R_N-Sp-5R!H=1C_N-5R!H->Cl\">,\n",
       " 'Root_N-1R->O_3R->O_1BrCClFHINPSSi-u0_3O-u1_Ext-1BrCClFHINPSSi-R_N-Sp-4R!H#1BrBrBrCCCClClClFFFHHHIIINNNPPPSSSSiSiSi_Ext-1BrCClFHINPSSi-R_N-4R!H->O_4CClF->F_Ext-1BrCClFHINPSSi-R': <Entry index=227 label=\"Root_N-1R->O_3R->O_1BrCClFHINPSSi-u0_3O-u1_Ext-1BrCClFHINPSSi-R_N-Sp-4R!H#1BrBrBrCCCClClClFFFHHHIIINNNPPPSSSSiSiSi_Ext-1BrCClFHINPSSi-R_N-4R!H->O_4CClF->F_Ext-1BrCClFHINPSSi-R\">,\n",
       " 'Root_N-1R->O_3R->O_1BrCClFHINPSSi-u0_3O-u1_Ext-1BrCClFHINPSSi-R_N-Sp-4R!H#1BrBrBrCCCClClClFFFHHHIIINNNPPPSSSSiSiSi_Ext-1BrCClFHINPSSi-R_N-4R!H->O_N-4CClF->F_Sp-4BrCCCClClClFHINPSSi=1BrBrCCCCClClClClFFHHIINNPPSSSiSi': <Entry index=228 label=\"Root_N-1R->O_3R->O_1BrCClFHINPSSi-u0_3O-u1_Ext-1BrCClFHINPSSi-R_N-Sp-4R!H#1BrBrBrCCCClClClFFFHHHIIINNNPPPSSSSiSiSi_Ext-1BrCClFHINPSSi-R_N-4R!H->O_N-4CClF->F_Sp-4BrCCCClClClFHINPSSi=1BrBrCCCCClClClClFFHHIINNPPSSSiSi\">,\n",
       " 'Root_N-1R->O_3R->O_1BrCClFHINPSSi-u0_3O-u1_Ext-1BrCClFHINPSSi-R_N-Sp-4R!H#1BrBrBrCCCClClClFFFHHHIIINNNPPPSSSSiSiSi_Ext-1BrCClFHINPSSi-R_N-4R!H->O_N-4CClF->F_N-Sp-4BrCCCClClClFHINPSSi=1BrBrCCCCClClClClFFHHIINNPPSSSiSi': <Entry index=229 label=\"Root_N-1R->O_3R->O_1BrCClFHINPSSi-u0_3O-u1_Ext-1BrCClFHINPSSi-R_N-Sp-4R!H#1BrBrBrCCCClClClFFFHHHIIINNNPPPSSSSiSiSi_Ext-1BrCClFHINPSSi-R_N-4R!H->O_N-4CClF->F_N-Sp-4BrCCCClClClFHINPSSi=1BrBrCCCCClClClClFFHHIINNPPSSSiSi\">,\n",
       " 'Root_N-1R->O_3R->O_1BrCClFHINPSSi-u0_3O-u1_Ext-1BrCClFHINPSSi-R_N-Sp-4R!H#1BrBrBrCCCClClClFFFHHHIIINNNPPPSSSSiSiSi_Sp-4R!H-1BrCClFHINPSSi_N-4R!H->F_N-4CClO->Cl_4CO->C': <Entry index=230 label=\"Root_N-1R->O_3R->O_1BrCClFHINPSSi-u0_3O-u1_Ext-1BrCClFHINPSSi-R_N-Sp-4R!H#1BrBrBrCCCClClClFFFHHHIIINNNPPPSSSSiSiSi_Sp-4R!H-1BrCClFHINPSSi_N-4R!H->F_N-4CClO->Cl_4CO->C\">,\n",
       " 'Root_N-1R->O_3R->O_1BrCClFHINPSSi-u0_3O-u1_Ext-1BrCClFHINPSSi-R_N-Sp-4R!H#1BrBrBrCCCClClClFFFHHHIIINNNPPPSSSSiSiSi_Sp-4R!H-1BrCClFHINPSSi_N-4R!H->F_N-4CClO->Cl_N-4CO->C': <Entry index=231 label=\"Root_N-1R->O_3R->O_1BrCClFHINPSSi-u0_3O-u1_Ext-1BrCClFHINPSSi-R_N-Sp-4R!H#1BrBrBrCCCClClClFFFHHHIIINNNPPPSSSSiSiSi_Sp-4R!H-1BrCClFHINPSSi_N-4R!H->F_N-4CClO->Cl_N-4CO->C\">,\n",
       " 'Root_N-1R->O_3R->O_1BrCClFHINPSSi-u0_N-3O-u1_Ext-1BrCClFHINPSSi-R_Sp-4R!H-1BrCClFHINPSSi_N-4R!H->O_4CF->F_Ext-1BrCClFHINPSSi-R_5R!H->O': <Entry index=232 label=\"Root_N-1R->O_3R->O_1BrCClFHINPSSi-u0_N-3O-u1_Ext-1BrCClFHINPSSi-R_Sp-4R!H-1BrCClFHINPSSi_N-4R!H->O_4CF->F_Ext-1BrCClFHINPSSi-R_5R!H->O\">,\n",
       " 'Root_N-1R->O_3R->O_1BrCClFHINPSSi-u0_N-3O-u1_Ext-1BrCClFHINPSSi-R_Sp-4R!H-1BrCClFHINPSSi_N-4R!H->O_4CF->F_Ext-1BrCClFHINPSSi-R_N-5R!H->O': <Entry index=233 label=\"Root_N-1R->O_3R->O_1BrCClFHINPSSi-u0_N-3O-u1_Ext-1BrCClFHINPSSi-R_Sp-4R!H-1BrCClFHINPSSi_N-4R!H->O_4CF->F_Ext-1BrCClFHINPSSi-R_N-5R!H->O\">,\n",
       " 'Root_N-1R->O_N-3R->O_1BrCClFHINPSSi->C_N-3CClFH->F_3CClH->C_3C-u1_1C-u0_Ext-1C-R_4R!H->O_Ext-1C-R': <Entry index=234 label=\"Root_N-1R->O_N-3R->O_1BrCClFHINPSSi->C_N-3CClFH->F_3CClH->C_3C-u1_1C-u0_Ext-1C-R_4R!H->O_Ext-1C-R\">,\n",
       " 'Root_N-1R->O_N-3R->O_1BrCClFHINPSSi->C_N-3CClFH->F_3CClH->C_3C-u1_1C-u0_Ext-1C-R_4R!H->O_Sp-4O-1C': <Entry index=235 label=\"Root_N-1R->O_N-3R->O_1BrCClFHINPSSi->C_N-3CClFH->F_3CClH->C_3C-u1_1C-u0_Ext-1C-R_4R!H->O_Sp-4O-1C\">,\n",
       " 'Root_N-1R->O_N-3R->O_1BrCClFHINPSSi->C_N-3CClFH->F_3CClH->C_3C-u1_1C-u0_Ext-1C-R_4R!H->O_N-Sp-4O-1C': <Entry index=236 label=\"Root_N-1R->O_N-3R->O_1BrCClFHINPSSi->C_N-3CClFH->F_3CClH->C_3C-u1_1C-u0_Ext-1C-R_4R!H->O_N-Sp-4O-1C\">,\n",
       " 'Root_N-1R->O_N-3R->O_1BrCClFHINPSSi->C_N-3CClFH->F_3CClH->C_3C-u1_1C-u0_Ext-1C-R_N-4R!H->O_4BrCClFINPSSi->C': <Entry index=237 label=\"Root_N-1R->O_N-3R->O_1BrCClFHINPSSi->C_N-3CClFH->F_3CClH->C_3C-u1_1C-u0_Ext-1C-R_N-4R!H->O_4BrCClFINPSSi->C\">,\n",
       " 'Root_N-1R->O_N-3R->O_1BrCClFHINPSSi->C_N-3CClFH->F_3CClH->C_3C-u1_1C-u0_Ext-1C-R_N-4R!H->O_N-4BrCClFINPSSi->C': <Entry index=238 label=\"Root_N-1R->O_N-3R->O_1BrCClFHINPSSi->C_N-3CClFH->F_3CClH->C_3C-u1_1C-u0_Ext-1C-R_N-4R!H->O_N-4BrCClFINPSSi->C\">,\n",
       " 'Root_N-1R->O_N-3R->O_1BrCClFHINPSSi->C_N-3CClFH->F_3CClH->C_3C-u1_1C-u0_Ext-3C-R_Sp-4R!H=3C_Ext-3C-R_4R!H->C': <Entry index=239 label=\"Root_N-1R->O_N-3R->O_1BrCClFHINPSSi->C_N-3CClFH->F_3CClH->C_3C-u1_1C-u0_Ext-3C-R_Sp-4R!H=3C_Ext-3C-R_4R!H->C\">,\n",
       " 'Root_N-1R->O_N-3R->O_1BrCClFHINPSSi->C_N-3CClFH->F_3CClH->C_3C-u1_1C-u0_Ext-3C-R_Sp-4R!H=3C_Ext-3C-R_N-4R!H->C': <Entry index=240 label=\"Root_N-1R->O_N-3R->O_1BrCClFHINPSSi->C_N-3CClFH->F_3CClH->C_3C-u1_1C-u0_Ext-3C-R_Sp-4R!H=3C_Ext-3C-R_N-4R!H->C\">,\n",
       " 'Root_N-1R->O_N-3R->O_1BrCClFHINPSSi->C_N-3CClFH->F_3CClH->C_3C-u1_1C-u0_Ext-3C-R_N-Sp-4R!H=3C_4R!H->F_Ext-3C-R': <Entry index=241 label=\"Root_N-1R->O_N-3R->O_1BrCClFHINPSSi->C_N-3CClFH->F_3CClH->C_3C-u1_1C-u0_Ext-3C-R_N-Sp-4R!H=3C_4R!H->F_Ext-3C-R\">,\n",
       " 'Root_N-1R->O_N-3R->O_1BrCClFHINPSSi->C_N-3CClFH->F_3CClH->C_3C-u1_1C-u0_Ext-3C-R_N-Sp-4R!H=3C_N-4R!H->F_4CO->O': <Entry index=242 label=\"Root_N-1R->O_N-3R->O_1BrCClFHINPSSi->C_N-3CClFH->F_3CClH->C_3C-u1_1C-u0_Ext-3C-R_N-Sp-4R!H=3C_N-4R!H->F_4CO->O\">,\n",
       " 'Root_N-1R->O_N-3R->O_1BrCClFHINPSSi->C_N-3CClFH->F_3CClH->C_3C-u1_1C-u0_Ext-3C-R_N-Sp-4R!H=3C_N-4R!H->F_N-4CO->O': <Entry index=243 label=\"Root_N-1R->O_N-3R->O_1BrCClFHINPSSi->C_N-3CClFH->F_3CClH->C_3C-u1_1C-u0_Ext-3C-R_N-Sp-4R!H=3C_N-4R!H->F_N-4CO->O\">,\n",
       " 'Root_N-1R->O_N-3R->O_1BrCClFHINPSSi->C_N-3CClFH->F_3CClH->C_3C-u1_N-1C-u0_Ext-1C-R_Sp-4R!H-1C_4R!H->C_Ext-1C-R': <Entry index=244 label=\"Root_N-1R->O_N-3R->O_1BrCClFHINPSSi->C_N-3CClFH->F_3CClH->C_3C-u1_N-1C-u0_Ext-1C-R_Sp-4R!H-1C_4R!H->C_Ext-1C-R\">,\n",
       " 'Root_N-1R->O_N-3R->O_1BrCClFHINPSSi->C_N-3CClFH->F_3CClH->C_3C-u1_N-1C-u0_Ext-1C-R_Sp-4R!H-1C_N-4R!H->C_Ext-1C-R': <Entry index=245 label=\"Root_N-1R->O_N-3R->O_1BrCClFHINPSSi->C_N-3CClFH->F_3CClH->C_3C-u1_N-1C-u0_Ext-1C-R_Sp-4R!H-1C_N-4R!H->C_Ext-1C-R\">,\n",
       " 'Root_N-1R->O_N-3R->O_1BrCClFHINPSSi->C_N-3CClFH->F_3CClH->C_N-3C-u1_Ext-3C-R_Sp-4R!H-3C_Ext-3C-R_4R!H->O_5R!H->C': <Entry index=246 label=\"Root_N-1R->O_N-3R->O_1BrCClFHINPSSi->C_N-3CClFH->F_3CClH->C_N-3C-u1_Ext-3C-R_Sp-4R!H-3C_Ext-3C-R_4R!H->O_5R!H->C\">,\n",
       " 'Root_N-1R->O_N-3R->O_1BrCClFHINPSSi->C_N-3CClFH->F_3CClH->C_N-3C-u1_Ext-3C-R_Sp-4R!H-3C_Ext-3C-R_4R!H->O_N-5R!H->C': <Entry index=247 label=\"Root_N-1R->O_N-3R->O_1BrCClFHINPSSi->C_N-3CClFH->F_3CClH->C_N-3C-u1_Ext-3C-R_Sp-4R!H-3C_Ext-3C-R_4R!H->O_N-5R!H->C\">,\n",
       " 'Root_N-1R->O_N-3R->O_1BrCClFHINPSSi->C_N-3CClFH->F_N-3CClH->C_Ext-1C-R_4R!H->F_Ext-1C-R_5R!H->F_Ext-1C-R': <Entry index=248 label=\"Root_N-1R->O_N-3R->O_1BrCClFHINPSSi->C_N-3CClFH->F_N-3CClH->C_Ext-1C-R_4R!H->F_Ext-1C-R_5R!H->F_Ext-1C-R\">,\n",
       " 'Root_N-1R->O_N-3R->O_1BrCClFHINPSSi->C_N-3CClFH->F_N-3CClH->C_Ext-1C-R_4R!H->F_Ext-1C-R_N-5R!H->F_5BrCClINOPSSi->C': <Entry index=249 label=\"Root_N-1R->O_N-3R->O_1BrCClFHINPSSi->C_N-3CClFH->F_N-3CClH->C_Ext-1C-R_4R!H->F_Ext-1C-R_N-5R!H->F_5BrCClINOPSSi->C\">,\n",
       " 'Root_N-1R->O_N-3R->O_1BrCClFHINPSSi->C_N-3CClFH->F_N-3CClH->C_Ext-1C-R_4R!H->F_Ext-1C-R_N-5R!H->F_N-5BrCClINOPSSi->C': <Entry index=250 label=\"Root_N-1R->O_N-3R->O_1BrCClFHINPSSi->C_N-3CClFH->F_N-3CClH->C_Ext-1C-R_4R!H->F_Ext-1C-R_N-5R!H->F_N-5BrCClINOPSSi->C\">,\n",
       " 'Root_N-1R->O_N-3R->O_1BrCClFHINPSSi->C_N-3CClFH->F_N-3CClH->C_Ext-1C-R_N-4R!H->F_N-Sp-4BrBrCCClClIINNOOPPSSSiSi=1C_N-4BrCClINOPSSi->C_Ext-1C-R': <Entry index=251 label=\"Root_N-1R->O_N-3R->O_1BrCClFHINPSSi->C_N-3CClFH->F_N-3CClH->C_Ext-1C-R_N-4R!H->F_N-Sp-4BrBrCCClClIINNOOPPSSSiSi=1C_N-4BrCClINOPSSi->C_Ext-1C-R\">,\n",
       " 'Root_N-1R->O_N-3R->O_1BrCClFHINPSSi->C_N-3CClFH->F_N-3CClH->C_Ext-1C-R_N-4R!H->F_N-Sp-4BrBrCCClClIINNOOPPSSSiSi=1C_N-4BrCClINOPSSi->C_4ClO->Cl': <Entry index=252 label=\"Root_N-1R->O_N-3R->O_1BrCClFHINPSSi->C_N-3CClFH->F_N-3CClH->C_Ext-1C-R_N-4R!H->F_N-Sp-4BrBrCCClClIINNOOPPSSSiSi=1C_N-4BrCClINOPSSi->C_4ClO->Cl\">,\n",
       " 'Root_N-1R->O_N-3R->O_1BrCClFHINPSSi->C_N-3CClFH->F_N-3CClH->C_Ext-1C-R_N-4R!H->F_N-Sp-4BrBrCCClClIINNOOPPSSSiSi=1C_N-4BrCClINOPSSi->C_N-4ClO->Cl': <Entry index=253 label=\"Root_N-1R->O_N-3R->O_1BrCClFHINPSSi->C_N-3CClFH->F_N-3CClH->C_Ext-1C-R_N-4R!H->F_N-Sp-4BrBrCCClClIINNOOPPSSSiSi=1C_N-4BrCClINOPSSi->C_N-4ClO->Cl\">,\n",
       " 'Root_N-1R->O_N-3R->O_N-1BrCClFHINPSSi->C_1ClFH->H_N-3CClFH->Cl_N-3CFH->F_Ext-3C-R_4R!H->F_Ext-3C-R_5R!H->O': <Entry index=254 label=\"Root_N-1R->O_N-3R->O_N-1BrCClFHINPSSi->C_1ClFH->H_N-3CClFH->Cl_N-3CFH->F_Ext-3C-R_4R!H->F_Ext-3C-R_5R!H->O\">,\n",
       " 'Root_N-1R->O_N-3R->O_N-1BrCClFHINPSSi->C_1ClFH->H_N-3CClFH->Cl_N-3CFH->F_Ext-3C-R_4R!H->F_Ext-3C-R_N-5R!H->O': <Entry index=255 label=\"Root_N-1R->O_N-3R->O_N-1BrCClFHINPSSi->C_1ClFH->H_N-3CClFH->Cl_N-3CFH->F_Ext-3C-R_4R!H->F_Ext-3C-R_N-5R!H->O\">,\n",
       " 'Root_N-1R->O_N-3R->O_N-1BrCClFHINPSSi->C_1ClFH->H_N-3CClFH->Cl_N-3CFH->F_Ext-3C-R_N-4R!H->F_4BrCClINOPSSi->Cl_Ext-3C-R': <Entry index=256 label=\"Root_N-1R->O_N-3R->O_N-1BrCClFHINPSSi->C_1ClFH->H_N-3CClFH->Cl_N-3CFH->F_Ext-3C-R_N-4R!H->F_4BrCClINOPSSi->Cl_Ext-3C-R\">,\n",
       " 'Root_N-1R->O_N-3R->O_N-1BrCClFHINPSSi->C_1ClFH->H_N-3CClFH->Cl_N-3CFH->F_Ext-3C-R_N-4R!H->F_N-4BrCClINOPSSi->Cl_4CO->C': <Entry index=257 label=\"Root_N-1R->O_N-3R->O_N-1BrCClFHINPSSi->C_1ClFH->H_N-3CClFH->Cl_N-3CFH->F_Ext-3C-R_N-4R!H->F_N-4BrCClINOPSSi->Cl_4CO->C\">,\n",
       " 'Root_N-1R->O_N-3R->O_N-1BrCClFHINPSSi->C_1ClFH->H_N-3CClFH->Cl_N-3CFH->F_Ext-3C-R_N-4R!H->F_N-4BrCClINOPSSi->Cl_N-4CO->C': <Entry index=258 label=\"Root_N-1R->O_N-3R->O_N-1BrCClFHINPSSi->C_1ClFH->H_N-3CClFH->Cl_N-3CFH->F_Ext-3C-R_N-4R!H->F_N-4BrCClINOPSSi->Cl_N-4CO->C\">,\n",
       " 'Root_N-1R->O_N-3R->O_N-1BrCClFHINPSSi->C_N-1ClFH->H_1ClF->F_3CClFH->C_Ext-3C-R_Ext-3C-R_N-4R!H->O_Ext-3C-R': <Entry index=259 label=\"Root_N-1R->O_N-3R->O_N-1BrCClFHINPSSi->C_N-1ClFH->H_1ClF->F_3CClFH->C_Ext-3C-R_Ext-3C-R_N-4R!H->O_Ext-3C-R\">,\n",
       " 'Root_1R->O_N-3R->O_1O-u0_3CClFH-u1_Ext-1O-R_3CClFH->C_N-4R!H->C_Ext-3C-R_Sp-5R!H-3C_4FO->F_Ext-3C-R': <Entry index=260 label=\"Root_1R->O_N-3R->O_1O-u0_3CClFH-u1_Ext-1O-R_3CClFH->C_N-4R!H->C_Ext-3C-R_Sp-5R!H-3C_4FO->F_Ext-3C-R\">,\n",
       " 'Root_1R->O_N-3R->O_1O-u0_3CClFH-u1_Ext-1O-R_3CClFH->C_N-4R!H->C_Ext-3C-R_Sp-5R!H-3C_N-4FO->F_5R!H->Cl': <Entry index=261 label=\"Root_1R->O_N-3R->O_1O-u0_3CClFH-u1_Ext-1O-R_3CClFH->C_N-4R!H->C_Ext-3C-R_Sp-5R!H-3C_N-4FO->F_5R!H->Cl\">,\n",
       " 'Root_1R->O_N-3R->O_1O-u0_3CClFH-u1_Ext-1O-R_3CClFH->C_N-4R!H->C_Ext-3C-R_Sp-5R!H-3C_N-4FO->F_N-5R!H->Cl': <Entry index=262 label=\"Root_1R->O_N-3R->O_1O-u0_3CClFH-u1_Ext-1O-R_3CClFH->C_N-4R!H->C_Ext-3C-R_Sp-5R!H-3C_N-4FO->F_N-5R!H->Cl\">,\n",
       " 'Root_1R->O_N-3R->O_1O-u0_3CClFH-u1_Ext-1O-R_3CClFH->C_N-4R!H->C_Ext-3C-R_N-Sp-5R!H-3C_N-4FO->F_5R!H->C': <Entry index=263 label=\"Root_1R->O_N-3R->O_1O-u0_3CClFH-u1_Ext-1O-R_3CClFH->C_N-4R!H->C_Ext-3C-R_N-Sp-5R!H-3C_N-4FO->F_5R!H->C\">,\n",
       " 'Root_1R->O_N-3R->O_1O-u0_3CClFH-u1_Ext-1O-R_3CClFH->C_N-4R!H->C_Ext-3C-R_N-Sp-5R!H-3C_N-4FO->F_N-5R!H->C': <Entry index=264 label=\"Root_1R->O_N-3R->O_1O-u0_3CClFH-u1_Ext-1O-R_3CClFH->C_N-4R!H->C_Ext-3C-R_N-Sp-5R!H-3C_N-4FO->F_N-5R!H->C\">,\n",
       " 'Root_1R->O_N-3R->O_1O-u0_3CClFH-u1_Ext-3CClFH-R_Sp-4R!H-3CClFH_N-4R!H->C_N-4ClFO->O_Ext-3CClFH-R_N-5R!H->O_Ext-3CClFH-R': <Entry index=265 label=\"Root_1R->O_N-3R->O_1O-u0_3CClFH-u1_Ext-3CClFH-R_Sp-4R!H-3CClFH_N-4R!H->C_N-4ClFO->O_Ext-3CClFH-R_N-5R!H->O_Ext-3CClFH-R\">,\n",
       " 'Root_N-1R->O_3R->O_Ext-3O-R_N-4R!H->F_1BrCClFHINPSSi->C_N-4BrCClINOPSSi->C_1C-u0_Ext-1C-R_Sp-5R!H=1C_5R!H->C_Ext-1C-R': <Entry index=266 label=\"Root_N-1R->O_3R->O_Ext-3O-R_N-4R!H->F_1BrCClFHINPSSi->C_N-4BrCClINOPSSi->C_1C-u0_Ext-1C-R_Sp-5R!H=1C_5R!H->C_Ext-1C-R\">,\n",
       " 'Root_N-1R->O_3R->O_Ext-3O-R_N-4R!H->F_1BrCClFHINPSSi->C_N-4BrCClINOPSSi->C_1C-u0_Ext-1C-R_N-Sp-5R!H=1C_N-5R!H->Cl_Ext-1C-R': <Entry index=267 label=\"Root_N-1R->O_3R->O_Ext-3O-R_N-4R!H->F_1BrCClFHINPSSi->C_N-4BrCClINOPSSi->C_1C-u0_Ext-1C-R_N-Sp-5R!H=1C_N-5R!H->Cl_Ext-1C-R\">,\n",
       " 'Root_N-1R->O_3R->O_1BrCClFHINPSSi-u0_3O-u1_Ext-1BrCClFHINPSSi-R_N-Sp-4R!H#1BrBrBrCCCClClClFFFHHHIIINNNPPPSSSSiSiSi_Ext-1BrCClFHINPSSi-R_N-4R!H->O_N-4CClF->F_N-Sp-4BrCCCClClClFHINPSSi=1BrBrCCCCClClClClFFHHIINNPPSSSiSi_4CCl->Cl': <Entry index=268 label=\"Root_N-1R->O_3R->O_1BrCClFHINPSSi-u0_3O-u1_Ext-1BrCClFHINPSSi-R_N-Sp-4R!H#1BrBrBrCCCClClClFFFHHHIIINNNPPPSSSSiSiSi_Ext-1BrCClFHINPSSi-R_N-4R!H->O_N-4CClF->F_N-Sp-4BrCCCClClClFHINPSSi=1BrBrCCCCClClClClFFHHIINNPPSSSiSi_4CCl->Cl\">,\n",
       " 'Root_N-1R->O_3R->O_1BrCClFHINPSSi-u0_3O-u1_Ext-1BrCClFHINPSSi-R_N-Sp-4R!H#1BrBrBrCCCClClClFFFHHHIIINNNPPPSSSSiSiSi_Ext-1BrCClFHINPSSi-R_N-4R!H->O_N-4CClF->F_N-Sp-4BrCCCClClClFHINPSSi=1BrBrCCCCClClClClFFHHIINNPPSSSiSi_N-4CCl->Cl': <Entry index=269 label=\"Root_N-1R->O_3R->O_1BrCClFHINPSSi-u0_3O-u1_Ext-1BrCClFHINPSSi-R_N-Sp-4R!H#1BrBrBrCCCClClClFFFHHHIIINNNPPPSSSSiSiSi_Ext-1BrCClFHINPSSi-R_N-4R!H->O_N-4CClF->F_N-Sp-4BrCCCClClClFHINPSSi=1BrBrCCCCClClClClFFHHIINNPPSSSiSi_N-4CCl->Cl\">,\n",
       " 'Root_N-1R->O_3R->O_1BrCClFHINPSSi-u0_3O-u1_Ext-1BrCClFHINPSSi-R_N-Sp-4R!H#1BrBrBrCCCClClClFFFHHHIIINNNPPPSSSSiSiSi_Sp-4R!H-1BrCClFHINPSSi_N-4R!H->F_N-4CClO->Cl_4CO->C_Ext-4C-R': <Entry index=270 label=\"Root_N-1R->O_3R->O_1BrCClFHINPSSi-u0_3O-u1_Ext-1BrCClFHINPSSi-R_N-Sp-4R!H#1BrBrBrCCCClClClFFFHHHIIINNNPPPSSSSiSiSi_Sp-4R!H-1BrCClFHINPSSi_N-4R!H->F_N-4CClO->Cl_4CO->C_Ext-4C-R\">,\n",
       " 'Root_N-1R->O_3R->O_1BrCClFHINPSSi-u0_N-3O-u1_Ext-1BrCClFHINPSSi-R_Sp-4R!H-1BrCClFHINPSSi_N-4R!H->O_4CF->F_Ext-1BrCClFHINPSSi-R_N-5R!H->O_Ext-1BrCClFHINPSSi-R': <Entry index=271 label=\"Root_N-1R->O_3R->O_1BrCClFHINPSSi-u0_N-3O-u1_Ext-1BrCClFHINPSSi-R_Sp-4R!H-1BrCClFHINPSSi_N-4R!H->O_4CF->F_Ext-1BrCClFHINPSSi-R_N-5R!H->O_Ext-1BrCClFHINPSSi-R\">,\n",
       " 'Root_N-1R->O_N-3R->O_1BrCClFHINPSSi->C_N-3CClFH->F_3CClH->C_3C-u1_1C-u0_Ext-1C-R_4R!H->O_Ext-1C-R_5R!H->C': <Entry index=272 label=\"Root_N-1R->O_N-3R->O_1BrCClFHINPSSi->C_N-3CClFH->F_3CClH->C_3C-u1_1C-u0_Ext-1C-R_4R!H->O_Ext-1C-R_5R!H->C\">,\n",
       " 'Root_N-1R->O_N-3R->O_1BrCClFHINPSSi->C_N-3CClFH->F_3CClH->C_3C-u1_1C-u0_Ext-1C-R_4R!H->O_Ext-1C-R_N-5R!H->C': <Entry index=273 label=\"Root_N-1R->O_N-3R->O_1BrCClFHINPSSi->C_N-3CClFH->F_3CClH->C_3C-u1_1C-u0_Ext-1C-R_4R!H->O_Ext-1C-R_N-5R!H->C\">,\n",
       " 'Root_N-1R->O_N-3R->O_1BrCClFHINPSSi->C_N-3CClFH->F_3CClH->C_3C-u1_1C-u0_Ext-1C-R_4R!H->O_Sp-4O-1C_Ext-3C-R': <Entry index=274 label=\"Root_N-1R->O_N-3R->O_1BrCClFHINPSSi->C_N-3CClFH->F_3CClH->C_3C-u1_1C-u0_Ext-1C-R_4R!H->O_Sp-4O-1C_Ext-3C-R\">,\n",
       " 'Root_N-1R->O_N-3R->O_1BrCClFHINPSSi->C_N-3CClFH->F_3CClH->C_3C-u1_1C-u0_Ext-1C-R_4R!H->O_N-Sp-4O-1C_Ext-3C-R': <Entry index=275 label=\"Root_N-1R->O_N-3R->O_1BrCClFHINPSSi->C_N-3CClFH->F_3CClH->C_3C-u1_1C-u0_Ext-1C-R_4R!H->O_N-Sp-4O-1C_Ext-3C-R\">,\n",
       " 'Root_N-1R->O_N-3R->O_1BrCClFHINPSSi->C_N-3CClFH->F_3CClH->C_3C-u1_1C-u0_Ext-1C-R_N-4R!H->O_4BrCClFINPSSi->C_Sp-4C=1C': <Entry index=276 label=\"Root_N-1R->O_N-3R->O_1BrCClFHINPSSi->C_N-3CClFH->F_3CClH->C_3C-u1_1C-u0_Ext-1C-R_N-4R!H->O_4BrCClFINPSSi->C_Sp-4C=1C\">,\n",
       " 'Root_N-1R->O_N-3R->O_1BrCClFHINPSSi->C_N-3CClFH->F_3CClH->C_3C-u1_1C-u0_Ext-1C-R_N-4R!H->O_4BrCClFINPSSi->C_N-Sp-4C=1C': <Entry index=277 label=\"Root_N-1R->O_N-3R->O_1BrCClFHINPSSi->C_N-3CClFH->F_3CClH->C_3C-u1_1C-u0_Ext-1C-R_N-4R!H->O_4BrCClFINPSSi->C_N-Sp-4C=1C\">,\n",
       " 'Root_N-1R->O_N-3R->O_1BrCClFHINPSSi->C_N-3CClFH->F_3CClH->C_3C-u1_1C-u0_Ext-1C-R_N-4R!H->O_N-4BrCClFINPSSi->C_Ext-1C-R': <Entry index=278 label=\"Root_N-1R->O_N-3R->O_1BrCClFHINPSSi->C_N-3CClFH->F_3CClH->C_3C-u1_1C-u0_Ext-1C-R_N-4R!H->O_N-4BrCClFINPSSi->C_Ext-1C-R\">,\n",
       " 'Root_N-1R->O_N-3R->O_1BrCClFHINPSSi->C_N-3CClFH->F_3CClH->C_3C-u1_1C-u0_Ext-1C-R_N-4R!H->O_N-4BrCClFINPSSi->C_Ext-3C-R': <Entry index=279 label=\"Root_N-1R->O_N-3R->O_1BrCClFHINPSSi->C_N-3CClFH->F_3CClH->C_3C-u1_1C-u0_Ext-1C-R_N-4R!H->O_N-4BrCClFINPSSi->C_Ext-3C-R\">,\n",
       " 'Root_N-1R->O_N-3R->O_1BrCClFHINPSSi->C_N-3CClFH->F_3CClH->C_3C-u1_1C-u0_Ext-3C-R_N-Sp-4R!H=3C_4R!H->F_Ext-3C-R_Ext-3C-R': <Entry index=280 label=\"Root_N-1R->O_N-3R->O_1BrCClFHINPSSi->C_N-3CClFH->F_3CClH->C_3C-u1_1C-u0_Ext-3C-R_N-Sp-4R!H=3C_4R!H->F_Ext-3C-R_Ext-3C-R\">,\n",
       " 'Root_N-1R->O_N-3R->O_1BrCClFHINPSSi->C_N-3CClFH->F_3CClH->C_3C-u1_1C-u0_Ext-3C-R_N-Sp-4R!H=3C_N-4R!H->F_4CO->O_Ext-3C-R': <Entry index=281 label=\"Root_N-1R->O_N-3R->O_1BrCClFHINPSSi->C_N-3CClFH->F_3CClH->C_3C-u1_1C-u0_Ext-3C-R_N-Sp-4R!H=3C_N-4R!H->F_4CO->O_Ext-3C-R\">,\n",
       " 'Root_N-1R->O_N-3R->O_1BrCClFHINPSSi->C_N-3CClFH->F_3CClH->C_3C-u1_1C-u0_Ext-3C-R_N-Sp-4R!H=3C_N-4R!H->F_N-4CO->O_Ext-4C-R': <Entry index=282 label=\"Root_N-1R->O_N-3R->O_1BrCClFHINPSSi->C_N-3CClFH->F_3CClH->C_3C-u1_1C-u0_Ext-3C-R_N-Sp-4R!H=3C_N-4R!H->F_N-4CO->O_Ext-4C-R\">,\n",
       " 'Root_N-1R->O_N-3R->O_1BrCClFHINPSSi->C_N-3CClFH->F_3CClH->C_3C-u1_1C-u0_Ext-3C-R_N-Sp-4R!H=3C_N-4R!H->F_N-4CO->O_Ext-3C-R': <Entry index=283 label=\"Root_N-1R->O_N-3R->O_1BrCClFHINPSSi->C_N-3CClFH->F_3CClH->C_3C-u1_1C-u0_Ext-3C-R_N-Sp-4R!H=3C_N-4R!H->F_N-4CO->O_Ext-3C-R\">,\n",
       " 'Root_N-1R->O_N-3R->O_1BrCClFHINPSSi->C_N-3CClFH->F_3CClH->C_3C-u1_N-1C-u0_Ext-1C-R_Sp-4R!H-1C_4R!H->C_Ext-1C-R_5R!H->C': <Entry index=284 label=\"Root_N-1R->O_N-3R->O_1BrCClFHINPSSi->C_N-3CClFH->F_3CClH->C_3C-u1_N-1C-u0_Ext-1C-R_Sp-4R!H-1C_4R!H->C_Ext-1C-R_5R!H->C\">,\n",
       " 'Root_N-1R->O_N-3R->O_1BrCClFHINPSSi->C_N-3CClFH->F_3CClH->C_3C-u1_N-1C-u0_Ext-1C-R_Sp-4R!H-1C_4R!H->C_Ext-1C-R_N-5R!H->C': <Entry index=285 label=\"Root_N-1R->O_N-3R->O_1BrCClFHINPSSi->C_N-3CClFH->F_3CClH->C_3C-u1_N-1C-u0_Ext-1C-R_Sp-4R!H-1C_4R!H->C_Ext-1C-R_N-5R!H->C\">,\n",
       " 'Root_N-1R->O_N-3R->O_1BrCClFHINPSSi->C_N-3CClFH->F_N-3CClH->C_Ext-1C-R_4R!H->F_Ext-1C-R_5R!H->F_Ext-1C-R_6R!H->C': <Entry index=286 label=\"Root_N-1R->O_N-3R->O_1BrCClFHINPSSi->C_N-3CClFH->F_N-3CClH->C_Ext-1C-R_4R!H->F_Ext-1C-R_5R!H->F_Ext-1C-R_6R!H->C\">,\n",
       " 'Root_N-1R->O_N-3R->O_1BrCClFHINPSSi->C_N-3CClFH->F_N-3CClH->C_Ext-1C-R_4R!H->F_Ext-1C-R_5R!H->F_Ext-1C-R_N-6R!H->C': <Entry index=287 label=\"Root_N-1R->O_N-3R->O_1BrCClFHINPSSi->C_N-3CClFH->F_N-3CClH->C_Ext-1C-R_4R!H->F_Ext-1C-R_5R!H->F_Ext-1C-R_N-6R!H->C\">,\n",
       " 'Root_N-1R->O_N-3R->O_N-1BrCClFHINPSSi->C_1ClFH->H_N-3CClFH->Cl_N-3CFH->F_Ext-3C-R_4R!H->F_Ext-3C-R_N-5R!H->O_Ext-3C-R': <Entry index=288 label=\"Root_N-1R->O_N-3R->O_N-1BrCClFHINPSSi->C_1ClFH->H_N-3CClFH->Cl_N-3CFH->F_Ext-3C-R_4R!H->F_Ext-3C-R_N-5R!H->O_Ext-3C-R\">,\n",
       " 'Root_N-1R->O_N-3R->O_N-1BrCClFHINPSSi->C_1ClFH->H_N-3CClFH->Cl_N-3CFH->F_Ext-3C-R_4R!H->F_Ext-3C-R_N-5R!H->O_5BrCClFINPSSi->F': <Entry index=289 label=\"Root_N-1R->O_N-3R->O_N-1BrCClFHINPSSi->C_1ClFH->H_N-3CClFH->Cl_N-3CFH->F_Ext-3C-R_4R!H->F_Ext-3C-R_N-5R!H->O_5BrCClFINPSSi->F\">,\n",
       " 'Root_N-1R->O_N-3R->O_N-1BrCClFHINPSSi->C_1ClFH->H_N-3CClFH->Cl_N-3CFH->F_Ext-3C-R_4R!H->F_Ext-3C-R_N-5R!H->O_N-5BrCClFINPSSi->F': <Entry index=290 label=\"Root_N-1R->O_N-3R->O_N-1BrCClFHINPSSi->C_1ClFH->H_N-3CClFH->Cl_N-3CFH->F_Ext-3C-R_4R!H->F_Ext-3C-R_N-5R!H->O_N-5BrCClFINPSSi->F\">,\n",
       " 'Root_N-1R->O_N-3R->O_N-1BrCClFHINPSSi->C_1ClFH->H_N-3CClFH->Cl_N-3CFH->F_Ext-3C-R_N-4R!H->F_N-4BrCClINOPSSi->Cl_4CO->C_Ext-3C-R': <Entry index=291 label=\"Root_N-1R->O_N-3R->O_N-1BrCClFHINPSSi->C_1ClFH->H_N-3CClFH->Cl_N-3CFH->F_Ext-3C-R_N-4R!H->F_N-4BrCClINOPSSi->Cl_4CO->C_Ext-3C-R\">,\n",
       " 'Root_N-1R->O_N-3R->O_N-1BrCClFHINPSSi->C_1ClFH->H_N-3CClFH->Cl_N-3CFH->F_Ext-3C-R_N-4R!H->F_N-4BrCClINOPSSi->Cl_N-4CO->C_Sp-4O-3C': <Entry index=292 label=\"Root_N-1R->O_N-3R->O_N-1BrCClFHINPSSi->C_1ClFH->H_N-3CClFH->Cl_N-3CFH->F_Ext-3C-R_N-4R!H->F_N-4BrCClINOPSSi->Cl_N-4CO->C_Sp-4O-3C\">,\n",
       " 'Root_N-1R->O_N-3R->O_N-1BrCClFHINPSSi->C_1ClFH->H_N-3CClFH->Cl_N-3CFH->F_Ext-3C-R_N-4R!H->F_N-4BrCClINOPSSi->Cl_N-4CO->C_N-Sp-4O-3C': <Entry index=293 label=\"Root_N-1R->O_N-3R->O_N-1BrCClFHINPSSi->C_1ClFH->H_N-3CClFH->Cl_N-3CFH->F_Ext-3C-R_N-4R!H->F_N-4BrCClINOPSSi->Cl_N-4CO->C_N-Sp-4O-3C\">,\n",
       " 'Root_1R->O_N-3R->O_1O-u0_3CClFH-u1_Ext-1O-R_3CClFH->C_N-4R!H->C_Ext-3C-R_Sp-5R!H-3C_4FO->F_Ext-3C-R_Ext-3C-R': <Entry index=294 label=\"Root_1R->O_N-3R->O_1O-u0_3CClFH-u1_Ext-1O-R_3CClFH->C_N-4R!H->C_Ext-3C-R_Sp-5R!H-3C_4FO->F_Ext-3C-R_Ext-3C-R\">,\n",
       " 'Root_1R->O_N-3R->O_1O-u0_3CClFH-u1_Ext-1O-R_3CClFH->C_N-4R!H->C_Ext-3C-R_Sp-5R!H-3C_4FO->F_Ext-3C-R_6R!H->F': <Entry index=295 label=\"Root_1R->O_N-3R->O_1O-u0_3CClFH-u1_Ext-1O-R_3CClFH->C_N-4R!H->C_Ext-3C-R_Sp-5R!H-3C_4FO->F_Ext-3C-R_6R!H->F\">,\n",
       " 'Root_1R->O_N-3R->O_1O-u0_3CClFH-u1_Ext-1O-R_3CClFH->C_N-4R!H->C_Ext-3C-R_Sp-5R!H-3C_4FO->F_Ext-3C-R_N-6R!H->F': <Entry index=296 label=\"Root_1R->O_N-3R->O_1O-u0_3CClFH-u1_Ext-1O-R_3CClFH->C_N-4R!H->C_Ext-3C-R_Sp-5R!H-3C_4FO->F_Ext-3C-R_N-6R!H->F\">,\n",
       " 'Root_1R->O_N-3R->O_1O-u0_3CClFH-u1_Ext-1O-R_3CClFH->C_N-4R!H->C_Ext-3C-R_Sp-5R!H-3C_N-4FO->F_N-5R!H->Cl_Ext-3C-R': <Entry index=297 label=\"Root_1R->O_N-3R->O_1O-u0_3CClFH-u1_Ext-1O-R_3CClFH->C_N-4R!H->C_Ext-3C-R_Sp-5R!H-3C_N-4FO->F_N-5R!H->Cl_Ext-3C-R\">,\n",
       " 'Root_1R->O_N-3R->O_1O-u0_3CClFH-u1_Ext-3CClFH-R_Sp-4R!H-3CClFH_N-4R!H->C_N-4ClFO->O_Ext-3CClFH-R_N-5R!H->O_Ext-3CClFH-R_4ClF->F': <Entry index=298 label=\"Root_1R->O_N-3R->O_1O-u0_3CClFH-u1_Ext-3CClFH-R_Sp-4R!H-3CClFH_N-4R!H->C_N-4ClFO->O_Ext-3CClFH-R_N-5R!H->O_Ext-3CClFH-R_4ClF->F\">,\n",
       " 'Root_1R->O_N-3R->O_1O-u0_3CClFH-u1_Ext-3CClFH-R_Sp-4R!H-3CClFH_N-4R!H->C_N-4ClFO->O_Ext-3CClFH-R_N-5R!H->O_Ext-3CClFH-R_N-4ClF->F': <Entry index=299 label=\"Root_1R->O_N-3R->O_1O-u0_3CClFH-u1_Ext-3CClFH-R_Sp-4R!H-3CClFH_N-4R!H->C_N-4ClFO->O_Ext-3CClFH-R_N-5R!H->O_Ext-3CClFH-R_N-4ClF->F\">,\n",
       " 'Root_N-1R->O_3R->O_1BrCClFHINPSSi-u0_3O-u1_Ext-1BrCClFHINPSSi-R_N-Sp-4R!H#1BrBrBrCCCClClClFFFHHHIIINNNPPPSSSSiSiSi_Ext-1BrCClFHINPSSi-R_N-4R!H->O_N-4CClF->F_N-Sp-4BrCCCClClClFHINPSSi=1BrBrCCCCClClClClFFHHIINNPPSSSiSi_N-4CCl->Cl_Ext-1BrCClFHINPSSi-R': <Entry index=300 label=\"Root_N-1R->O_3R->O_1BrCClFHINPSSi-u0_3O-u1_Ext-1BrCClFHINPSSi-R_N-Sp-4R!H#1BrBrBrCCCClClClFFFHHHIIINNNPPPSSSSiSiSi_Ext-1BrCClFHINPSSi-R_N-4R!H->O_N-4CClF->F_N-Sp-4BrCCCClClClFHINPSSi=1BrBrCCCCClClClClFFHHIINNPPSSSiSi_N-4CCl->Cl_Ext-1BrCClFHINPSSi-R\">,\n",
       " 'Root_N-1R->O_3R->O_1BrCClFHINPSSi-u0_3O-u1_Ext-1BrCClFHINPSSi-R_N-Sp-4R!H#1BrBrBrCCCClClClFFFHHHIIINNNPPPSSSSiSiSi_Sp-4R!H-1BrCClFHINPSSi_N-4R!H->F_N-4CClO->Cl_4CO->C_Ext-4C-R_Ext-4C-R': <Entry index=301 label=\"Root_N-1R->O_3R->O_1BrCClFHINPSSi-u0_3O-u1_Ext-1BrCClFHINPSSi-R_N-Sp-4R!H#1BrBrBrCCCClClClFFFHHHIIINNNPPPSSSSiSiSi_Sp-4R!H-1BrCClFHINPSSi_N-4R!H->F_N-4CClO->Cl_4CO->C_Ext-4C-R_Ext-4C-R\">,\n",
       " 'Root_N-1R->O_N-3R->O_1BrCClFHINPSSi->C_N-3CClFH->F_3CClH->C_3C-u1_1C-u0_Ext-1C-R_4R!H->O_Ext-1C-R_5R!H->C_Ext-3C-R': <Entry index=302 label=\"Root_N-1R->O_N-3R->O_1BrCClFHINPSSi->C_N-3CClFH->F_3CClH->C_3C-u1_1C-u0_Ext-1C-R_4R!H->O_Ext-1C-R_5R!H->C_Ext-3C-R\">,\n",
       " 'Root_N-1R->O_N-3R->O_1BrCClFHINPSSi->C_N-3CClFH->F_3CClH->C_3C-u1_1C-u0_Ext-1C-R_4R!H->O_Ext-1C-R_N-5R!H->C_Ext-3C-R': <Entry index=303 label=\"Root_N-1R->O_N-3R->O_1BrCClFHINPSSi->C_N-3CClFH->F_3CClH->C_3C-u1_1C-u0_Ext-1C-R_4R!H->O_Ext-1C-R_N-5R!H->C_Ext-3C-R\">,\n",
       " 'Root_N-1R->O_N-3R->O_1BrCClFHINPSSi->C_N-3CClFH->F_3CClH->C_3C-u1_1C-u0_Ext-1C-R_4R!H->O_Sp-4O-1C_Ext-3C-R_Ext-3C-R': <Entry index=304 label=\"Root_N-1R->O_N-3R->O_1BrCClFHINPSSi->C_N-3CClFH->F_3CClH->C_3C-u1_1C-u0_Ext-1C-R_4R!H->O_Sp-4O-1C_Ext-3C-R_Ext-3C-R\">,\n",
       " 'Root_N-1R->O_N-3R->O_1BrCClFHINPSSi->C_N-3CClFH->F_3CClH->C_3C-u1_1C-u0_Ext-1C-R_4R!H->O_N-Sp-4O-1C_Ext-3C-R_Ext-3C-R': <Entry index=305 label=\"Root_N-1R->O_N-3R->O_1BrCClFHINPSSi->C_N-3CClFH->F_3CClH->C_3C-u1_1C-u0_Ext-1C-R_4R!H->O_N-Sp-4O-1C_Ext-3C-R_Ext-3C-R\">,\n",
       " 'Root_N-1R->O_N-3R->O_1BrCClFHINPSSi->C_N-3CClFH->F_3CClH->C_3C-u1_1C-u0_Ext-1C-R_4R!H->O_N-Sp-4O-1C_Ext-3C-R_5R!H->F': <Entry index=306 label=\"Root_N-1R->O_N-3R->O_1BrCClFHINPSSi->C_N-3CClFH->F_3CClH->C_3C-u1_1C-u0_Ext-1C-R_4R!H->O_N-Sp-4O-1C_Ext-3C-R_5R!H->F\">,\n",
       " 'Root_N-1R->O_N-3R->O_1BrCClFHINPSSi->C_N-3CClFH->F_3CClH->C_3C-u1_1C-u0_Ext-1C-R_4R!H->O_N-Sp-4O-1C_Ext-3C-R_N-5R!H->F': <Entry index=307 label=\"Root_N-1R->O_N-3R->O_1BrCClFHINPSSi->C_N-3CClFH->F_3CClH->C_3C-u1_1C-u0_Ext-1C-R_4R!H->O_N-Sp-4O-1C_Ext-3C-R_N-5R!H->F\">,\n",
       " 'Root_N-1R->O_N-3R->O_1BrCClFHINPSSi->C_N-3CClFH->F_3CClH->C_3C-u1_1C-u0_Ext-1C-R_N-4R!H->O_4BrCClFINPSSi->C_Sp-4C=1C_Ext-1C-R': <Entry index=308 label=\"Root_N-1R->O_N-3R->O_1BrCClFHINPSSi->C_N-3CClFH->F_3CClH->C_3C-u1_1C-u0_Ext-1C-R_N-4R!H->O_4BrCClFINPSSi->C_Sp-4C=1C_Ext-1C-R\">,\n",
       " 'Root_N-1R->O_N-3R->O_1BrCClFHINPSSi->C_N-3CClFH->F_3CClH->C_3C-u1_1C-u0_Ext-1C-R_N-4R!H->O_4BrCClFINPSSi->C_N-Sp-4C=1C_Ext-1C-R': <Entry index=309 label=\"Root_N-1R->O_N-3R->O_1BrCClFHINPSSi->C_N-3CClFH->F_3CClH->C_3C-u1_1C-u0_Ext-1C-R_N-4R!H->O_4BrCClFINPSSi->C_N-Sp-4C=1C_Ext-1C-R\">,\n",
       " 'Root_N-1R->O_N-3R->O_1BrCClFHINPSSi->C_N-3CClFH->F_3CClH->C_3C-u1_1C-u0_Ext-1C-R_N-4R!H->O_4BrCClFINPSSi->C_N-Sp-4C=1C_Ext-3C-R': <Entry index=310 label=\"Root_N-1R->O_N-3R->O_1BrCClFHINPSSi->C_N-3CClFH->F_3CClH->C_3C-u1_1C-u0_Ext-1C-R_N-4R!H->O_4BrCClFINPSSi->C_N-Sp-4C=1C_Ext-3C-R\">,\n",
       " 'Root_N-1R->O_N-3R->O_1BrCClFHINPSSi->C_N-3CClFH->F_3CClH->C_3C-u1_1C-u0_Ext-1C-R_N-4R!H->O_4BrCClFINPSSi->C_N-Sp-4C=1C_Ext-4C-R': <Entry index=311 label=\"Root_N-1R->O_N-3R->O_1BrCClFHINPSSi->C_N-3CClFH->F_3CClH->C_3C-u1_1C-u0_Ext-1C-R_N-4R!H->O_4BrCClFINPSSi->C_N-Sp-4C=1C_Ext-4C-R\">,\n",
       " 'Root_N-1R->O_N-3R->O_1BrCClFHINPSSi->C_N-3CClFH->F_3CClH->C_3C-u1_1C-u0_Ext-1C-R_N-4R!H->O_N-4BrCClFINPSSi->C_Ext-1C-R_Ext-1C-R': <Entry index=312 label=\"Root_N-1R->O_N-3R->O_1BrCClFHINPSSi->C_N-3CClFH->F_3CClH->C_3C-u1_1C-u0_Ext-1C-R_N-4R!H->O_N-4BrCClFINPSSi->C_Ext-1C-R_Ext-1C-R\">,\n",
       " 'Root_N-1R->O_N-3R->O_1BrCClFHINPSSi->C_N-3CClFH->F_3CClH->C_3C-u1_1C-u0_Ext-1C-R_N-4R!H->O_N-4BrCClFINPSSi->C_Ext-1C-R_Ext-3C-R': <Entry index=313 label=\"Root_N-1R->O_N-3R->O_1BrCClFHINPSSi->C_N-3CClFH->F_3CClH->C_3C-u1_1C-u0_Ext-1C-R_N-4R!H->O_N-4BrCClFINPSSi->C_Ext-1C-R_Ext-3C-R\">,\n",
       " 'Root_N-1R->O_N-3R->O_1BrCClFHINPSSi->C_N-3CClFH->F_3CClH->C_3C-u1_1C-u0_Ext-1C-R_N-4R!H->O_N-4BrCClFINPSSi->C_Ext-3C-R_5R!H->C': <Entry index=314 label=\"Root_N-1R->O_N-3R->O_1BrCClFHINPSSi->C_N-3CClFH->F_3CClH->C_3C-u1_1C-u0_Ext-1C-R_N-4R!H->O_N-4BrCClFINPSSi->C_Ext-3C-R_5R!H->C\">,\n",
       " 'Root_N-1R->O_N-3R->O_1BrCClFHINPSSi->C_N-3CClFH->F_3CClH->C_3C-u1_1C-u0_Ext-1C-R_N-4R!H->O_N-4BrCClFINPSSi->C_Ext-3C-R_N-5R!H->C': <Entry index=315 label=\"Root_N-1R->O_N-3R->O_1BrCClFHINPSSi->C_N-3CClFH->F_3CClH->C_3C-u1_1C-u0_Ext-1C-R_N-4R!H->O_N-4BrCClFINPSSi->C_Ext-3C-R_N-5R!H->C\">,\n",
       " 'Root_N-1R->O_N-3R->O_N-1BrCClFHINPSSi->C_1ClFH->H_N-3CClFH->Cl_N-3CFH->F_Ext-3C-R_4R!H->F_Ext-3C-R_N-5R!H->O_Ext-3C-R_5BrCClFINPSSi->C': <Entry index=316 label=\"Root_N-1R->O_N-3R->O_N-1BrCClFHINPSSi->C_1ClFH->H_N-3CClFH->Cl_N-3CFH->F_Ext-3C-R_4R!H->F_Ext-3C-R_N-5R!H->O_Ext-3C-R_5BrCClFINPSSi->C\">,\n",
       " 'Root_N-1R->O_N-3R->O_N-1BrCClFHINPSSi->C_1ClFH->H_N-3CClFH->Cl_N-3CFH->F_Ext-3C-R_4R!H->F_Ext-3C-R_N-5R!H->O_Ext-3C-R_N-5BrCClFINPSSi->C': <Entry index=317 label=\"Root_N-1R->O_N-3R->O_N-1BrCClFHINPSSi->C_1ClFH->H_N-3CClFH->Cl_N-3CFH->F_Ext-3C-R_4R!H->F_Ext-3C-R_N-5R!H->O_Ext-3C-R_N-5BrCClFINPSSi->C\">,\n",
       " 'Root_1R->O_N-3R->O_1O-u0_3CClFH-u1_Ext-1O-R_3CClFH->C_N-4R!H->C_Ext-3C-R_Sp-5R!H-3C_N-4FO->F_N-5R!H->Cl_Ext-3C-R_Sp-6R!H-3C': <Entry index=318 label=\"Root_1R->O_N-3R->O_1O-u0_3CClFH-u1_Ext-1O-R_3CClFH->C_N-4R!H->C_Ext-3C-R_Sp-5R!H-3C_N-4FO->F_N-5R!H->Cl_Ext-3C-R_Sp-6R!H-3C\">,\n",
       " 'Root_1R->O_N-3R->O_1O-u0_3CClFH-u1_Ext-1O-R_3CClFH->C_N-4R!H->C_Ext-3C-R_Sp-5R!H-3C_N-4FO->F_N-5R!H->Cl_Ext-3C-R_N-Sp-6R!H-3C': <Entry index=319 label=\"Root_1R->O_N-3R->O_1O-u0_3CClFH-u1_Ext-1O-R_3CClFH->C_N-4R!H->C_Ext-3C-R_Sp-5R!H-3C_N-4FO->F_N-5R!H->Cl_Ext-3C-R_N-Sp-6R!H-3C\">,\n",
       " 'Root_N-1R->O_N-3R->O_1BrCClFHINPSSi->C_N-3CClFH->F_3CClH->C_3C-u1_1C-u0_Ext-1C-R_4R!H->O_Ext-1C-R_5R!H->C_Ext-3C-R_6R!H->C': <Entry index=320 label=\"Root_N-1R->O_N-3R->O_1BrCClFHINPSSi->C_N-3CClFH->F_3CClH->C_3C-u1_1C-u0_Ext-1C-R_4R!H->O_Ext-1C-R_5R!H->C_Ext-3C-R_6R!H->C\">,\n",
       " 'Root_N-1R->O_N-3R->O_1BrCClFHINPSSi->C_N-3CClFH->F_3CClH->C_3C-u1_1C-u0_Ext-1C-R_4R!H->O_Ext-1C-R_5R!H->C_Ext-3C-R_N-6R!H->C': <Entry index=321 label=\"Root_N-1R->O_N-3R->O_1BrCClFHINPSSi->C_N-3CClFH->F_3CClH->C_3C-u1_1C-u0_Ext-1C-R_4R!H->O_Ext-1C-R_5R!H->C_Ext-3C-R_N-6R!H->C\">,\n",
       " 'Root_N-1R->O_N-3R->O_1BrCClFHINPSSi->C_N-3CClFH->F_3CClH->C_3C-u1_1C-u0_Ext-1C-R_4R!H->O_Sp-4O-1C_Ext-3C-R_Ext-3C-R_5R!H->C': <Entry index=322 label=\"Root_N-1R->O_N-3R->O_1BrCClFHINPSSi->C_N-3CClFH->F_3CClH->C_3C-u1_1C-u0_Ext-1C-R_4R!H->O_Sp-4O-1C_Ext-3C-R_Ext-3C-R_5R!H->C\">,\n",
       " 'Root_N-1R->O_N-3R->O_1BrCClFHINPSSi->C_N-3CClFH->F_3CClH->C_3C-u1_1C-u0_Ext-1C-R_4R!H->O_Sp-4O-1C_Ext-3C-R_Ext-3C-R_N-5R!H->C': <Entry index=323 label=\"Root_N-1R->O_N-3R->O_1BrCClFHINPSSi->C_N-3CClFH->F_3CClH->C_3C-u1_1C-u0_Ext-1C-R_4R!H->O_Sp-4O-1C_Ext-3C-R_Ext-3C-R_N-5R!H->C\">,\n",
       " 'Root_N-1R->O_N-3R->O_1BrCClFHINPSSi->C_N-3CClFH->F_3CClH->C_3C-u1_1C-u0_Ext-1C-R_N-4R!H->O_4BrCClFINPSSi->C_N-Sp-4C=1C_Ext-1C-R_Ext-1C-R': <Entry index=324 label=\"Root_N-1R->O_N-3R->O_1BrCClFHINPSSi->C_N-3CClFH->F_3CClH->C_3C-u1_1C-u0_Ext-1C-R_N-4R!H->O_4BrCClFINPSSi->C_N-Sp-4C=1C_Ext-1C-R_Ext-1C-R\">,\n",
       " 'Root_N-1R->O_N-3R->O_1BrCClFHINPSSi->C_N-3CClFH->F_3CClH->C_3C-u1_1C-u0_Ext-1C-R_N-4R!H->O_4BrCClFINPSSi->C_N-Sp-4C=1C_Ext-1C-R_Ext-4C-R': <Entry index=325 label=\"Root_N-1R->O_N-3R->O_1BrCClFHINPSSi->C_N-3CClFH->F_3CClH->C_3C-u1_1C-u0_Ext-1C-R_N-4R!H->O_4BrCClFINPSSi->C_N-Sp-4C=1C_Ext-1C-R_Ext-4C-R\">,\n",
       " 'Root_N-1R->O_N-3R->O_1BrCClFHINPSSi->C_N-3CClFH->F_3CClH->C_3C-u1_1C-u0_Ext-1C-R_N-4R!H->O_4BrCClFINPSSi->C_N-Sp-4C=1C_Ext-1C-R_Ext-3C-R': <Entry index=326 label=\"Root_N-1R->O_N-3R->O_1BrCClFHINPSSi->C_N-3CClFH->F_3CClH->C_3C-u1_1C-u0_Ext-1C-R_N-4R!H->O_4BrCClFINPSSi->C_N-Sp-4C=1C_Ext-1C-R_Ext-3C-R\">,\n",
       " 'Root_N-1R->O_N-3R->O_1BrCClFHINPSSi->C_N-3CClFH->F_3CClH->C_3C-u1_1C-u0_Ext-1C-R_N-4R!H->O_4BrCClFINPSSi->C_N-Sp-4C=1C_Ext-3C-R_5R!H->O': <Entry index=327 label=\"Root_N-1R->O_N-3R->O_1BrCClFHINPSSi->C_N-3CClFH->F_3CClH->C_3C-u1_1C-u0_Ext-1C-R_N-4R!H->O_4BrCClFINPSSi->C_N-Sp-4C=1C_Ext-3C-R_5R!H->O\">,\n",
       " 'Root_N-1R->O_N-3R->O_1BrCClFHINPSSi->C_N-3CClFH->F_3CClH->C_3C-u1_1C-u0_Ext-1C-R_N-4R!H->O_4BrCClFINPSSi->C_N-Sp-4C=1C_Ext-3C-R_N-5R!H->O': <Entry index=328 label=\"Root_N-1R->O_N-3R->O_1BrCClFHINPSSi->C_N-3CClFH->F_3CClH->C_3C-u1_1C-u0_Ext-1C-R_N-4R!H->O_4BrCClFINPSSi->C_N-Sp-4C=1C_Ext-3C-R_N-5R!H->O\">,\n",
       " 'Root_N-1R->O_N-3R->O_1BrCClFHINPSSi->C_N-3CClFH->F_3CClH->C_3C-u1_1C-u0_Ext-1C-R_N-4R!H->O_N-4BrCClFINPSSi->C_Ext-1C-R_Ext-1C-R_Ext-3C-R': <Entry index=329 label=\"Root_N-1R->O_N-3R->O_1BrCClFHINPSSi->C_N-3CClFH->F_3CClH->C_3C-u1_1C-u0_Ext-1C-R_N-4R!H->O_N-4BrCClFINPSSi->C_Ext-1C-R_Ext-1C-R_Ext-3C-R\">,\n",
       " 'Root_N-1R->O_N-3R->O_1BrCClFHINPSSi->C_N-3CClFH->F_3CClH->C_3C-u1_1C-u0_Ext-1C-R_N-4R!H->O_N-4BrCClFINPSSi->C_Ext-1C-R_Ext-3C-R_6R!H->O': <Entry index=330 label=\"Root_N-1R->O_N-3R->O_1BrCClFHINPSSi->C_N-3CClFH->F_3CClH->C_3C-u1_1C-u0_Ext-1C-R_N-4R!H->O_N-4BrCClFINPSSi->C_Ext-1C-R_Ext-3C-R_6R!H->O\">,\n",
       " 'Root_N-1R->O_N-3R->O_1BrCClFHINPSSi->C_N-3CClFH->F_3CClH->C_3C-u1_1C-u0_Ext-1C-R_N-4R!H->O_N-4BrCClFINPSSi->C_Ext-1C-R_Ext-3C-R_N-6R!H->O': <Entry index=331 label=\"Root_N-1R->O_N-3R->O_1BrCClFHINPSSi->C_N-3CClFH->F_3CClH->C_3C-u1_1C-u0_Ext-1C-R_N-4R!H->O_N-4BrCClFINPSSi->C_Ext-1C-R_Ext-3C-R_N-6R!H->O\">,\n",
       " 'Root_N-1R->O_N-3R->O_1BrCClFHINPSSi->C_N-3CClFH->F_3CClH->C_3C-u1_1C-u0_Ext-1C-R_N-4R!H->O_N-4BrCClFINPSSi->C_Ext-3C-R_5R!H->C_Ext-3C-R': <Entry index=332 label=\"Root_N-1R->O_N-3R->O_1BrCClFHINPSSi->C_N-3CClFH->F_3CClH->C_3C-u1_1C-u0_Ext-1C-R_N-4R!H->O_N-4BrCClFINPSSi->C_Ext-3C-R_5R!H->C_Ext-3C-R\">,\n",
       " 'Root_N-1R->O_N-3R->O_1BrCClFHINPSSi->C_N-3CClFH->F_3CClH->C_3C-u1_1C-u0_Ext-1C-R_N-4R!H->O_N-4BrCClFINPSSi->C_Ext-3C-R_5R!H->C_Ext-5C-R': <Entry index=333 label=\"Root_N-1R->O_N-3R->O_1BrCClFHINPSSi->C_N-3CClFH->F_3CClH->C_3C-u1_1C-u0_Ext-1C-R_N-4R!H->O_N-4BrCClFINPSSi->C_Ext-3C-R_5R!H->C_Ext-5C-R\">,\n",
       " 'Root_N-1R->O_N-3R->O_1BrCClFHINPSSi->C_N-3CClFH->F_3CClH->C_3C-u1_1C-u0_Ext-1C-R_N-4R!H->O_N-4BrCClFINPSSi->C_Ext-3C-R_N-5R!H->C_5BrClFINOPSSi->O': <Entry index=334 label=\"Root_N-1R->O_N-3R->O_1BrCClFHINPSSi->C_N-3CClFH->F_3CClH->C_3C-u1_1C-u0_Ext-1C-R_N-4R!H->O_N-4BrCClFINPSSi->C_Ext-3C-R_N-5R!H->C_5BrClFINOPSSi->O\">,\n",
       " 'Root_N-1R->O_N-3R->O_1BrCClFHINPSSi->C_N-3CClFH->F_3CClH->C_3C-u1_1C-u0_Ext-1C-R_N-4R!H->O_N-4BrCClFINPSSi->C_Ext-3C-R_N-5R!H->C_N-5BrClFINOPSSi->O': <Entry index=335 label=\"Root_N-1R->O_N-3R->O_1BrCClFHINPSSi->C_N-3CClFH->F_3CClH->C_3C-u1_1C-u0_Ext-1C-R_N-4R!H->O_N-4BrCClFINPSSi->C_Ext-3C-R_N-5R!H->C_N-5BrClFINOPSSi->O\">,\n",
       " 'Root_N-1R->O_N-3R->O_1BrCClFHINPSSi->C_N-3CClFH->F_3CClH->C_3C-u1_1C-u0_Ext-1C-R_N-4R!H->O_4BrCClFINPSSi->C_N-Sp-4C=1C_Ext-1C-R_Ext-1C-R_Ext-4C-R_Ext-4C-R_7R!H->C': <Entry index=336 label=\"Root_N-1R->O_N-3R->O_1BrCClFHINPSSi->C_N-3CClFH->F_3CClH->C_3C-u1_1C-u0_Ext-1C-R_N-4R!H->O_4BrCClFINPSSi->C_N-Sp-4C=1C_Ext-1C-R_Ext-1C-R_Ext-4C-R_Ext-4C-R_7R!H->C\">,\n",
       " 'Root_N-1R->O_N-3R->O_1BrCClFHINPSSi->C_N-3CClFH->F_3CClH->C_3C-u1_1C-u0_Ext-1C-R_N-4R!H->O_4BrCClFINPSSi->C_N-Sp-4C=1C_Ext-1C-R_Ext-1C-R_Ext-4C-R_Ext-4C-R_N-7R!H->C': <Entry index=337 label=\"Root_N-1R->O_N-3R->O_1BrCClFHINPSSi->C_N-3CClFH->F_3CClH->C_3C-u1_1C-u0_Ext-1C-R_N-4R!H->O_4BrCClFINPSSi->C_N-Sp-4C=1C_Ext-1C-R_Ext-1C-R_Ext-4C-R_Ext-4C-R_N-7R!H->C\">,\n",
       " 'Root_N-1R->O_N-3R->O_1BrCClFHINPSSi->C_N-3CClFH->F_3CClH->C_3C-u1_1C-u0_Ext-1C-R_N-4R!H->O_4BrCClFINPSSi->C_N-Sp-4C=1C_Ext-1C-R_Ext-4C-R_6R!H->C': <Entry index=338 label=\"Root_N-1R->O_N-3R->O_1BrCClFHINPSSi->C_N-3CClFH->F_3CClH->C_3C-u1_1C-u0_Ext-1C-R_N-4R!H->O_4BrCClFINPSSi->C_N-Sp-4C=1C_Ext-1C-R_Ext-4C-R_6R!H->C\">,\n",
       " 'Root_N-1R->O_N-3R->O_1BrCClFHINPSSi->C_N-3CClFH->F_3CClH->C_3C-u1_1C-u0_Ext-1C-R_N-4R!H->O_4BrCClFINPSSi->C_N-Sp-4C=1C_Ext-1C-R_Ext-4C-R_N-6R!H->C': <Entry index=339 label=\"Root_N-1R->O_N-3R->O_1BrCClFHINPSSi->C_N-3CClFH->F_3CClH->C_3C-u1_1C-u0_Ext-1C-R_N-4R!H->O_4BrCClFINPSSi->C_N-Sp-4C=1C_Ext-1C-R_Ext-4C-R_N-6R!H->C\">,\n",
       " 'Root_N-1R->O_N-3R->O_1BrCClFHINPSSi->C_N-3CClFH->F_3CClH->C_3C-u1_1C-u0_Ext-1C-R_N-4R!H->O_4BrCClFINPSSi->C_N-Sp-4C=1C_Ext-3C-R_N-5R!H->O_Ext-4C-R': <Entry index=340 label=\"Root_N-1R->O_N-3R->O_1BrCClFHINPSSi->C_N-3CClFH->F_3CClH->C_3C-u1_1C-u0_Ext-1C-R_N-4R!H->O_4BrCClFINPSSi->C_N-Sp-4C=1C_Ext-3C-R_N-5R!H->O_Ext-4C-R\">,\n",
       " 'Root_N-1R->O_N-3R->O_1BrCClFHINPSSi->C_N-3CClFH->F_3CClH->C_3C-u1_1C-u0_Ext-1C-R_N-4R!H->O_N-4BrCClFINPSSi->C_Ext-1C-R_Ext-1C-R_Ext-3C-R_7R!H->O': <Entry index=341 label=\"Root_N-1R->O_N-3R->O_1BrCClFHINPSSi->C_N-3CClFH->F_3CClH->C_3C-u1_1C-u0_Ext-1C-R_N-4R!H->O_N-4BrCClFINPSSi->C_Ext-1C-R_Ext-1C-R_Ext-3C-R_7R!H->O\">,\n",
       " 'Root_N-1R->O_N-3R->O_1BrCClFHINPSSi->C_N-3CClFH->F_3CClH->C_3C-u1_1C-u0_Ext-1C-R_N-4R!H->O_N-4BrCClFINPSSi->C_Ext-1C-R_Ext-1C-R_Ext-3C-R_N-7R!H->O': <Entry index=342 label=\"Root_N-1R->O_N-3R->O_1BrCClFHINPSSi->C_N-3CClFH->F_3CClH->C_3C-u1_1C-u0_Ext-1C-R_N-4R!H->O_N-4BrCClFINPSSi->C_Ext-1C-R_Ext-1C-R_Ext-3C-R_N-7R!H->O\">,\n",
       " 'Root_N-1R->O_N-3R->O_1BrCClFHINPSSi->C_N-3CClFH->F_3CClH->C_3C-u1_1C-u0_Ext-1C-R_N-4R!H->O_N-4BrCClFINPSSi->C_Ext-1C-R_Ext-3C-R_6R!H->O_Sp-6O-3C': <Entry index=343 label=\"Root_N-1R->O_N-3R->O_1BrCClFHINPSSi->C_N-3CClFH->F_3CClH->C_3C-u1_1C-u0_Ext-1C-R_N-4R!H->O_N-4BrCClFINPSSi->C_Ext-1C-R_Ext-3C-R_6R!H->O_Sp-6O-3C\">,\n",
       " 'Root_N-1R->O_N-3R->O_1BrCClFHINPSSi->C_N-3CClFH->F_3CClH->C_3C-u1_1C-u0_Ext-1C-R_N-4R!H->O_N-4BrCClFINPSSi->C_Ext-1C-R_Ext-3C-R_6R!H->O_N-Sp-6O-3C': <Entry index=344 label=\"Root_N-1R->O_N-3R->O_1BrCClFHINPSSi->C_N-3CClFH->F_3CClH->C_3C-u1_1C-u0_Ext-1C-R_N-4R!H->O_N-4BrCClFINPSSi->C_Ext-1C-R_Ext-3C-R_6R!H->O_N-Sp-6O-3C\">,\n",
       " 'Root_N-1R->O_N-3R->O_1BrCClFHINPSSi->C_N-3CClFH->F_3CClH->C_3C-u1_1C-u0_Ext-1C-R_N-4R!H->O_N-4BrCClFINPSSi->C_Ext-1C-R_Ext-3C-R_N-6R!H->O_Ext-3C-R': <Entry index=345 label=\"Root_N-1R->O_N-3R->O_1BrCClFHINPSSi->C_N-3CClFH->F_3CClH->C_3C-u1_1C-u0_Ext-1C-R_N-4R!H->O_N-4BrCClFINPSSi->C_Ext-1C-R_Ext-3C-R_N-6R!H->O_Ext-3C-R\">,\n",
       " 'Root_N-1R->O_N-3R->O_1BrCClFHINPSSi->C_N-3CClFH->F_3CClH->C_3C-u1_1C-u0_Ext-1C-R_N-4R!H->O_N-4BrCClFINPSSi->C_Ext-3C-R_5R!H->C_Ext-3C-R_Ext-5C-R_7R!H->C': <Entry index=346 label=\"Root_N-1R->O_N-3R->O_1BrCClFHINPSSi->C_N-3CClFH->F_3CClH->C_3C-u1_1C-u0_Ext-1C-R_N-4R!H->O_N-4BrCClFINPSSi->C_Ext-3C-R_5R!H->C_Ext-3C-R_Ext-5C-R_7R!H->C\">,\n",
       " 'Root_N-1R->O_N-3R->O_1BrCClFHINPSSi->C_N-3CClFH->F_3CClH->C_3C-u1_1C-u0_Ext-1C-R_N-4R!H->O_N-4BrCClFINPSSi->C_Ext-3C-R_5R!H->C_Ext-3C-R_Ext-5C-R_N-7R!H->C': <Entry index=347 label=\"Root_N-1R->O_N-3R->O_1BrCClFHINPSSi->C_N-3CClFH->F_3CClH->C_3C-u1_1C-u0_Ext-1C-R_N-4R!H->O_N-4BrCClFINPSSi->C_Ext-3C-R_5R!H->C_Ext-3C-R_Ext-5C-R_N-7R!H->C\">,\n",
       " 'Root_N-1R->O_N-3R->O_1BrCClFHINPSSi->C_N-3CClFH->F_3CClH->C_3C-u1_1C-u0_Ext-1C-R_N-4R!H->O_N-4BrCClFINPSSi->C_Ext-3C-R_5R!H->C_Ext-5C-R_6R!H->C': <Entry index=348 label=\"Root_N-1R->O_N-3R->O_1BrCClFHINPSSi->C_N-3CClFH->F_3CClH->C_3C-u1_1C-u0_Ext-1C-R_N-4R!H->O_N-4BrCClFINPSSi->C_Ext-3C-R_5R!H->C_Ext-5C-R_6R!H->C\">,\n",
       " 'Root_N-1R->O_N-3R->O_1BrCClFHINPSSi->C_N-3CClFH->F_3CClH->C_3C-u1_1C-u0_Ext-1C-R_N-4R!H->O_N-4BrCClFINPSSi->C_Ext-3C-R_5R!H->C_Ext-5C-R_N-6R!H->C': <Entry index=349 label=\"Root_N-1R->O_N-3R->O_1BrCClFHINPSSi->C_N-3CClFH->F_3CClH->C_3C-u1_1C-u0_Ext-1C-R_N-4R!H->O_N-4BrCClFINPSSi->C_Ext-3C-R_5R!H->C_Ext-5C-R_N-6R!H->C\">,\n",
       " 'Root_N-1R->O_N-3R->O_1BrCClFHINPSSi->C_N-3CClFH->F_3CClH->C_3C-u1_1C-u0_Ext-1C-R_N-4R!H->O_N-4BrCClFINPSSi->C_Ext-3C-R_N-5R!H->C_5BrClFINOPSSi->O_Ext-3C-R': <Entry index=350 label=\"Root_N-1R->O_N-3R->O_1BrCClFHINPSSi->C_N-3CClFH->F_3CClH->C_3C-u1_1C-u0_Ext-1C-R_N-4R!H->O_N-4BrCClFINPSSi->C_Ext-3C-R_N-5R!H->C_5BrClFINOPSSi->O_Ext-3C-R\">,\n",
       " 'Root_N-1R->O_N-3R->O_1BrCClFHINPSSi->C_N-3CClFH->F_3CClH->C_3C-u1_1C-u0_Ext-1C-R_N-4R!H->O_N-4BrCClFINPSSi->C_Ext-3C-R_N-5R!H->C_5BrClFINOPSSi->O_Sp-5O-3C': <Entry index=351 label=\"Root_N-1R->O_N-3R->O_1BrCClFHINPSSi->C_N-3CClFH->F_3CClH->C_3C-u1_1C-u0_Ext-1C-R_N-4R!H->O_N-4BrCClFINPSSi->C_Ext-3C-R_N-5R!H->C_5BrClFINOPSSi->O_Sp-5O-3C\">,\n",
       " 'Root_N-1R->O_N-3R->O_1BrCClFHINPSSi->C_N-3CClFH->F_3CClH->C_3C-u1_1C-u0_Ext-1C-R_N-4R!H->O_N-4BrCClFINPSSi->C_Ext-3C-R_N-5R!H->C_5BrClFINOPSSi->O_N-Sp-5O-3C': <Entry index=352 label=\"Root_N-1R->O_N-3R->O_1BrCClFHINPSSi->C_N-3CClFH->F_3CClH->C_3C-u1_1C-u0_Ext-1C-R_N-4R!H->O_N-4BrCClFINPSSi->C_Ext-3C-R_N-5R!H->C_5BrClFINOPSSi->O_N-Sp-5O-3C\">,\n",
       " 'Root_N-1R->O_N-3R->O_1BrCClFHINPSSi->C_N-3CClFH->F_3CClH->C_3C-u1_1C-u0_Ext-1C-R_N-4R!H->O_N-4BrCClFINPSSi->C_Ext-3C-R_N-5R!H->C_N-5BrClFINOPSSi->O_Ext-3C-R_Ext-3C-R': <Entry index=353 label=\"Root_N-1R->O_N-3R->O_1BrCClFHINPSSi->C_N-3CClFH->F_3CClH->C_3C-u1_1C-u0_Ext-1C-R_N-4R!H->O_N-4BrCClFINPSSi->C_Ext-3C-R_N-5R!H->C_N-5BrClFINOPSSi->O_Ext-3C-R_Ext-3C-R\">,\n",
       " 'Root_N-1R->O_N-3R->O_1BrCClFHINPSSi->C_N-3CClFH->F_3CClH->C_3C-u1_1C-u0_Ext-1C-R_N-4R!H->O_4BrCClFINPSSi->C_N-Sp-4C=1C_Ext-1C-R_Ext-1C-R_Ext-4C-R_Ext-4C-R_N-7R!H->C_Ext-4C-R_8R!H->C': <Entry index=354 label=\"Root_N-1R->O_N-3R->O_1BrCClFHINPSSi->C_N-3CClFH->F_3CClH->C_3C-u1_1C-u0_Ext-1C-R_N-4R!H->O_4BrCClFINPSSi->C_N-Sp-4C=1C_Ext-1C-R_Ext-1C-R_Ext-4C-R_Ext-4C-R_N-7R!H->C_Ext-4C-R_8R!H->C\">,\n",
       " 'Root_N-1R->O_N-3R->O_1BrCClFHINPSSi->C_N-3CClFH->F_3CClH->C_3C-u1_1C-u0_Ext-1C-R_N-4R!H->O_4BrCClFINPSSi->C_N-Sp-4C=1C_Ext-1C-R_Ext-1C-R_Ext-4C-R_Ext-4C-R_N-7R!H->C_Ext-4C-R_N-8R!H->C': <Entry index=355 label=\"Root_N-1R->O_N-3R->O_1BrCClFHINPSSi->C_N-3CClFH->F_3CClH->C_3C-u1_1C-u0_Ext-1C-R_N-4R!H->O_4BrCClFINPSSi->C_N-Sp-4C=1C_Ext-1C-R_Ext-1C-R_Ext-4C-R_Ext-4C-R_N-7R!H->C_Ext-4C-R_N-8R!H->C\">,\n",
       " 'Root_N-1R->O_N-3R->O_1BrCClFHINPSSi->C_N-3CClFH->F_3CClH->C_3C-u1_1C-u0_Ext-1C-R_N-4R!H->O_4BrCClFINPSSi->C_N-Sp-4C=1C_Ext-3C-R_N-5R!H->O_Ext-4C-R_6R!H->C': <Entry index=356 label=\"Root_N-1R->O_N-3R->O_1BrCClFHINPSSi->C_N-3CClFH->F_3CClH->C_3C-u1_1C-u0_Ext-1C-R_N-4R!H->O_4BrCClFINPSSi->C_N-Sp-4C=1C_Ext-3C-R_N-5R!H->O_Ext-4C-R_6R!H->C\">,\n",
       " 'Root_N-1R->O_N-3R->O_1BrCClFHINPSSi->C_N-3CClFH->F_3CClH->C_3C-u1_1C-u0_Ext-1C-R_N-4R!H->O_4BrCClFINPSSi->C_N-Sp-4C=1C_Ext-3C-R_N-5R!H->O_Ext-4C-R_N-6R!H->C': <Entry index=357 label=\"Root_N-1R->O_N-3R->O_1BrCClFHINPSSi->C_N-3CClFH->F_3CClH->C_3C-u1_1C-u0_Ext-1C-R_N-4R!H->O_4BrCClFINPSSi->C_N-Sp-4C=1C_Ext-3C-R_N-5R!H->O_Ext-4C-R_N-6R!H->C\">,\n",
       " 'Root_N-1R->O_N-3R->O_1BrCClFHINPSSi->C_N-3CClFH->F_3CClH->C_3C-u1_1C-u0_Ext-1C-R_N-4R!H->O_N-4BrCClFINPSSi->C_Ext-1C-R_Ext-1C-R_Ext-3C-R_N-7R!H->O_Ext-3C-R': <Entry index=358 label=\"Root_N-1R->O_N-3R->O_1BrCClFHINPSSi->C_N-3CClFH->F_3CClH->C_3C-u1_1C-u0_Ext-1C-R_N-4R!H->O_N-4BrCClFINPSSi->C_Ext-1C-R_Ext-1C-R_Ext-3C-R_N-7R!H->O_Ext-3C-R\">,\n",
       " 'Root_N-1R->O_N-3R->O_1BrCClFHINPSSi->C_N-3CClFH->F_3CClH->C_3C-u1_1C-u0_Ext-1C-R_N-4R!H->O_N-4BrCClFINPSSi->C_Ext-1C-R_Ext-1C-R_Ext-3C-R_N-7R!H->O_Ext-3C-R_Ext-3C-R': <Entry index=359 label=\"Root_N-1R->O_N-3R->O_1BrCClFHINPSSi->C_N-3CClFH->F_3CClH->C_3C-u1_1C-u0_Ext-1C-R_N-4R!H->O_N-4BrCClFINPSSi->C_Ext-1C-R_Ext-1C-R_Ext-3C-R_N-7R!H->O_Ext-3C-R_Ext-3C-R\">,\n",
       " 'Root_N-1R->O_N-3R->O_1BrCClFHINPSSi->C_N-3CClFH->F_3CClH->C_3C-u1_1C-u0_Ext-1C-R_N-4R!H->O_N-4BrCClFINPSSi->C_Ext-1C-R_Ext-1C-R_Ext-3C-R_N-7R!H->O_Ext-3C-R_Ext-3C-R_Ext-9R!H-R_10R!H->C': <Entry index=360 label=\"Root_N-1R->O_N-3R->O_1BrCClFHINPSSi->C_N-3CClFH->F_3CClH->C_3C-u1_1C-u0_Ext-1C-R_N-4R!H->O_N-4BrCClFINPSSi->C_Ext-1C-R_Ext-1C-R_Ext-3C-R_N-7R!H->O_Ext-3C-R_Ext-3C-R_Ext-9R!H-R_10R!H->C\">,\n",
       " 'Root_N-1R->O_N-3R->O_1BrCClFHINPSSi->C_N-3CClFH->F_3CClH->C_3C-u1_1C-u0_Ext-1C-R_N-4R!H->O_N-4BrCClFINPSSi->C_Ext-1C-R_Ext-1C-R_Ext-3C-R_N-7R!H->O_Ext-3C-R_Ext-3C-R_Ext-9R!H-R_N-10R!H->C': <Entry index=361 label=\"Root_N-1R->O_N-3R->O_1BrCClFHINPSSi->C_N-3CClFH->F_3CClH->C_3C-u1_1C-u0_Ext-1C-R_N-4R!H->O_N-4BrCClFINPSSi->C_Ext-1C-R_Ext-1C-R_Ext-3C-R_N-7R!H->O_Ext-3C-R_Ext-3C-R_Ext-9R!H-R_N-10R!H->C\">}"
      ]
     },
     "execution_count": 8,
     "metadata": {},
     "output_type": "execute_result"
    }
   ],
   "source": [
    "family.groups.entries"
   ]
  },
  {
   "cell_type": "code",
   "execution_count": 9,
   "metadata": {},
   "outputs": [
    {
     "name": "stdout",
     "output_type": "stream",
     "text": [
      "0.1637709140777588\n"
     ]
    }
   ],
   "source": [
    "start = time.time()\n",
    "family.check_tree()\n",
    "end = time.time()\n",
    "print(end-start)"
   ]
  },
  {
   "cell_type": "code",
   "execution_count": 10,
   "metadata": {},
   "outputs": [
    {
     "name": "stdout",
     "output_type": "stream",
     "text": [
      "1.0895483493804932\n"
     ]
    }
   ],
   "source": [
    "start = time.time()\n",
    "family.regularize(thermo_database=database.thermo)\n",
    "end = time.time()\n",
    "print(end-start)"
   ]
  },
  {
   "cell_type": "code",
   "execution_count": 11,
   "metadata": {},
   "outputs": [
    {
     "name": "stdout",
     "output_type": "stream",
     "text": [
      "0.997779130935669\n"
     ]
    }
   ],
   "source": [
    "start = time.time()\n",
    "templateRxnMap = family.get_reaction_matches(thermo_database=database.thermo,remove_degeneracy=True,\n",
    "                                             get_reverse=True,exact_matches_only=False,fix_labels=True)\n",
    "end = time.time()\n",
    "print(end-start)"
   ]
  },
  {
   "cell_type": "code",
   "execution_count": 12,
   "metadata": {},
   "outputs": [
    {
     "data": {
      "text/plain": [
       "362"
      ]
     },
     "execution_count": 12,
     "metadata": {},
     "output_type": "execute_result"
    }
   ],
   "source": [
    "len(templateRxnMap)"
   ]
  },
  {
   "cell_type": "code",
   "execution_count": 13,
   "metadata": {},
   "outputs": [],
   "source": [
    "family.clean_tree_rules()"
   ]
  },
  {
   "cell_type": "code",
   "execution_count": 14,
   "metadata": {},
   "outputs": [
    {
     "name": "stderr",
     "output_type": "stream",
     "text": [
      "/home/khalil.nor/Code/RMG-Py/rmgpy/data/kinetics/family.py:3430: VisibleDeprecationWarning: Creating an ndarray from ragged nested sequences (which is a list-or-tuple of lists-or-tuples-or ndarrays with different lengths or shapes) is deprecated. If you meant to do this, you must specify 'dtype=object' when creating the ndarray.\n",
      "  for rxns, label in rxnlists])\n",
      "/work/westgroup/nora/miniconda/envs/rmg_env/lib/python3.7/site-packages/scipy/optimize/minpack.py:834: OptimizeWarning: Covariance of the parameters could not be estimated\n",
      "  category=OptimizeWarning)\n"
     ]
    },
    {
     "name": "stdout",
     "output_type": "stream",
     "text": [
      "30.43414616584778\n"
     ]
    }
   ],
   "source": [
    "start = time.time()\n",
    "family.make_bm_rules_from_template_rxn_map(templateRxnMap)#,nprocs=6)\n",
    "end = time.time()\n",
    "print(end-start)"
   ]
  },
  {
   "cell_type": "code",
   "execution_count": 15,
   "metadata": {},
   "outputs": [
    {
     "name": "stdout",
     "output_type": "stream",
     "text": [
      "0.16359996795654297\n"
     ]
    }
   ],
   "source": [
    "start = time.time()\n",
    "family.check_tree()\n",
    "end = time.time()\n",
    "print(end-start)"
   ]
  },
  {
   "cell_type": "code",
   "execution_count": 16,
   "metadata": {},
   "outputs": [
    {
     "name": "stdout",
     "output_type": "stream",
     "text": [
      "1.4269556999206543\n"
     ]
    }
   ],
   "source": [
    "start = time.time()\n",
    "errors,uncertainties = family.cross_validate(iters=0,random_state=5,folds=0,ascend=False)\n",
    "end = time.time()\n",
    "print(end-start)"
   ]
  },
  {
   "cell_type": "code",
   "execution_count": 17,
   "metadata": {},
   "outputs": [
    {
     "data": {
      "text/plain": [
       "dict_values([-1.8466575103969072, -2.2602340040157864, 0.9985206428523006, 1.0011656240893232, 0.17692000370842784, -1.232710123854251, 0.1544278371209444, 2.256366488740556, 1.9331576542641438, -0.033540246916862235, -2.605347020088544, 0.9568321931631067, 1.0722451695455988, 0.06285407958815796, 2.1621836289092893, 0.06696409054233748, 3.2817837915739734, -0.4315456945420855, -0.28973687707665763, 0.611210279203468, -1.2122218321841745, -1.2586716241358014, -0.43730486628587095, 0.9347841709320327, 1.3157825147034319, -0.16400358229455192, -1.789894677966687, 1.3294508688518412, 1.9117195755472645, -6.590800112756416, 1.2381584425096714, -0.04047629113759992, 0.938364607309824, 3.0276454343964705, 0.93763310420488, 0.3698643327979772, 4.409064906888481, -2.685312907646222, -0.9447524451706435, 7.820092034771557, 0.9855159992836674, -4.959902082912337, -0.045748508987798024, 0.6988158403893256, -0.9178673157212317, 1.9736549714977514, 0.9753538413776409, 1.170986845373704, -1.030620457853615, -0.1025734439637761, 0.5081280644112205, -0.6628475791715723, -1.0429740706953017, 1.0296671751449362, -1.1845315845988986, 0.7940248626272083, -2.538886861693945, 23.800484800021707, 0.6340577279297934, -1.0589266482442616, -1.9394004357585504, -5.959194666226527, -0.028737617287870387, -0.062465351769656625, -1.5750805870453428, 11.65007887277011, 1.3569825962084487, -0.12198021449220647, -0.21898305059950723, -2.9364468767972634, 0.5535114234066155, 0.7955460227716378, 0.16208618919707526, 1.0665269734033846, 1.4784191457752143, 0.4958664954868363, 1.3339965325674688, -1.4250657019503004, -0.2607753420157682, -0.43454281515415905, -1.8332581128906782, 3.0797430001971935, 2.0433684255136804, 0.40180610707525644, -0.9766320568563865, -5.3209078457665955, -0.24647330259100447, 2.576147689793001, -2.5153070108053104, -0.036187348319106076, 0.5029179998526457, 2.684513178140558, -4.8128735374251095, -5.559197183823889, 2.0728547837129456, -1.2660084592849146, 1.5283315504065653, 0.347350372726098, 8.49174504324313, -1.4221839078898182, -1.6368406405608908, -0.19157029607546, 2.320414683824583, -0.13855456004259806, -3.190819317655369, -4.957051348964756, 0.8880359196583756, -0.5620405947500258, -4.9468040893006195, -0.46160591168419, -1.607448363664994, -1.020824277543081, -1.9701133416094627, 2.3725029526743073, -6.432710791577077, -1.6361450389327252, -4.8872391091002445, 1.587718990139493, -0.7743921384852139, -0.7735448673262812, -3.3462617361923375, -0.540048969922697, -0.8000696260707789, -1.6383612750199386, 0.40857399937349764, 3.8369976032618434, -7.772953287767754, 0.32287355553744057, -3.4721598145362567, 1.0455006171530874, -1.8034162204945763, 1.4355769630643977, 0.3794447169223229, -0.567451065340079, -1.085034940578755, -0.4412245711037284, 4.9293328644587495, -0.7856065689590761, 0.03083519855159553, 0.08330012480137909, -0.4059153276072776, -3.80144350323731, 0.0212477256786552, 2.1871417741816574, 1.4963192361036948, -1.0869309519215595, 0.28003523432123734, 2.5562525776358385, -2.0147163439862714, -1.5077587009399935, -4.981932199135484, -2.657243109403129, -0.9851791495360405, 0.19972131057352896, -0.5973255047090391, -0.11109130537159734, 2.5581670156477077, -1.723353516555152, -3.520071129787783, -2.956212394765876, 0.8300641230790651, 6.470505944925178, -0.6581282779641444, -1.2488406881118226, 1.0508214271264742, 1.3842779026014491, 4.869105369804212, -6.335140737720649, 0.5436223798412997, -3.5058804092430025, 0.542549934556776, 5.459240461945422, -3.4005271140254623, -3.2885680317293957, 1.0229836843251081, 9.390033312451843, -1.222083074832212, 0.729954619869534, 2.4626283609248873, 5.723242498775198, 1.5987737498337322, 6.807957841027636, 2.3948478206432644, -1.6619261979286903, 1.237980442440347, 1.1423682818846446, -0.9738995938255476, 5.925593243870747, -0.8025797120862186, -1.4116141951820051, 8.817023407318986, -19.21832469437254, 0.39158590072553695, 0.45600806904472196, 4.3078366983082494, 0.5952191719892651, -0.6985536862000856, -0.5965647570690409, -0.1424583515544301, -1.7823257550592337, 3.8354136991828476, 0.9831766786887641, 0.19838713413624554, -1.2154110425403755, 2.015644293133632, 2.5461791421627353, 0.8101108696084282, -1.3107963213402747, 2.701489363801896, 1.3792193293386212, 5.4321393350288165, -0.03801041095511961, 0.3425189452950858, 0.8168121273530762, 1.5110640719521182, 2.239807076917862, 0.6858703098253999, -3.9789427540269777, 0.017387826362721435, -0.15000375215195041, -4.9900350767132515, 3.189204949500517, -0.8091987102990357, 3.6948799239978474, -0.16615911318220572, 2.7739220583729787, -0.41268781888564177, 0.5581841755366332, 0.8840139068102946, 0.5523943257065944, -8.165184925241896, -3.869327744621878, -0.42017316421909834, -1.5831981693037935])"
      ]
     },
     "execution_count": 17,
     "metadata": {},
     "output_type": "execute_result"
    }
   ],
   "source": [
    "errors.values()"
   ]
  },
  {
   "cell_type": "code",
   "execution_count": 18,
   "metadata": {},
   "outputs": [
    {
     "data": {
      "text/plain": [
       "Text(0.5, 0, '$|Ln(k_{est}/k_{rxn})|$')"
      ]
     },
     "execution_count": 18,
     "metadata": {},
     "output_type": "execute_result"
    }
   ],
   "source": [
    "plt.figure(figsize=(10,8))\n",
    "plt.hist(np.abs(list(errors.values())),bins=30, density=True)\n",
    "plt.title('Decision Tree Estimator',fontsize=18)\n",
    "#plt.ylim(0,.4)\n",
    "plt.xlim(0,15)\n",
    "plt.ylabel('Probability density',fontsize=18)\n",
    "plt.xlabel(r'$|Ln(k_{est}/k_{rxn})|$',fontsize=18)"
   ]
  },
  {
   "cell_type": "code",
   "execution_count": null,
   "metadata": {},
   "outputs": [],
   "source": [
    "#family.save('/Users/mattjohnson/RMGCODE/RMG-database/input/kinetics/families/')"
   ]
  },
  {
   "cell_type": "code",
   "execution_count": 19,
   "metadata": {},
   "outputs": [
    {
     "name": "stdout",
     "output_type": "stream",
     "text": [
      "/home/khalil.nor/Code/RMG-database/input/kinetics/families/F_Abstraction\n"
     ]
    }
   ],
   "source": [
    "save_path = os.path.join(settings['database.directory'], 'kinetics', 'families', family.name)\n",
    "print(save_path)"
   ]
  },
  {
   "cell_type": "code",
   "execution_count": 20,
   "metadata": {},
   "outputs": [],
   "source": [
    "family.save(save_path)"
   ]
  },
  {
   "cell_type": "code",
   "execution_count": null,
   "metadata": {},
   "outputs": [],
   "source": []
  },
  {
   "cell_type": "code",
   "execution_count": null,
   "metadata": {},
   "outputs": [],
   "source": []
  }
 ],
 "metadata": {
  "@webio": {
   "lastCommId": null,
   "lastKernelId": null
  },
  "kernelspec": {
   "display_name": "rmg_env",
   "language": "python",
   "name": "rmg_env"
  },
  "language_info": {
   "codemirror_mode": {
    "name": "ipython",
    "version": 3
   },
   "file_extension": ".py",
   "mimetype": "text/x-python",
   "name": "python",
   "nbconvert_exporter": "python",
   "pygments_lexer": "ipython3",
   "version": "3.7.16"
  }
 },
 "nbformat": 4,
 "nbformat_minor": 4
}
