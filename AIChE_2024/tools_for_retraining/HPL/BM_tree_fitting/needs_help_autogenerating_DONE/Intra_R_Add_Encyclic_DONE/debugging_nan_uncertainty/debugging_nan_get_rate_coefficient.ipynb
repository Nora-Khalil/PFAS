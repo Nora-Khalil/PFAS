{
 "cells": [
  {
   "cell_type": "code",
   "execution_count": null,
   "id": "f010ab54-55f9-4c7f-8bbf-fd3a0ab510e0",
   "metadata": {},
   "outputs": [],
   "source": [
    "from rmgpy.kinetics.uncertainties import RateUncertainty\n",
    "import rmgpy\n",
    "import numpy as np\n",
    "from rmgpy.molecule.molecule import *\n",
    "from rmgpy.species import *\n",
    "from rmgpy.chemkin import *\n",
    "from rmgpy.data.rmg import RMGDatabase\n",
    "from IPython.display import display\n",
    "from rmgpy.data.thermo import ThermoLibrary\n",
    "from rmgpy.rmg.react import react\n",
    "from rmgpy.species import Species\n",
    "from rmgpy.reaction import Reaction\n",
    "from rmgpy.data.rmg import get_db\n",
    "from rmgpy.molecule.group import Group\n",
    "from rmgpy.kinetics.arrhenius import ArrheniusBM, Arrhenius\n",
    "from rmgpy import settings\n",
    "import time\n",
    "import matplotlib.pyplot as plt\n",
    "import matplotlib\n"
   ]
  },
  {
   "cell_type": "code",
   "execution_count": null,
   "id": "8ee99185-5d67-43e5-89db-e703d0a8332d",
   "metadata": {},
   "outputs": [],
   "source": [
    "training_rxn_1 = Reaction(reactants=[Species(label=\"C10H7\", thermo=ThermoData(Tdata=([300,400,500,600,800,1000,1500],'K'), Cpdata=([151.252,192.882,222.756,251.709,287.608,312.21,350.494],'J/(mol*K)'), H298=(635.035,'kJ/mol'), S298=(398.4,'J/(mol*K)'), Cp0=(33.2579,'J/(mol*K)'), CpInf=(399.095,'J/(mol*K)'), comment=\"\"\"Thermo group additivity estimation: group(Cb-(Cds-Cds)) + group(Cb-H) + group(Cb-H) + group(Cds-CdsCbH) + group(Cb-H) + group(Cb-H) + group(Cb-H) + group(Cds-CdsCtH) + group(Ct-Ct(Cds-Cds)) + group(Ct-CtH) + ring(Benzene) + radical(CbJ)\"\"\"), molecule=[Molecule(smiles=\"C#CC=Cc1[c]cccc1\")], molecular_weight=(127.162,'amu'))], products=[Species(label=\"C10H7-2\", thermo=ThermoData(Tdata=([300,400,500,600,800,1000,1500],'K'), Cpdata=([132.013,175.073,209.779,237.275,280.278,310.568,352.738],'J/(mol*K)'), H298=(401.323,'kJ/mol'), S298=(342.062,'J/(mol*K)'), Cp0=(33.2579,'J/(mol*K)'), CpInf=(407.409,'J/(mol*K)'), comment=\"\"\"Thermo group additivity estimation: group(Cbf-CbCbCbf) + group(Cbf-CbCbCbf) + group(Cb-H) + group(Cb-H) + group(Cb-H) + group(Cb-H) + group(Cb-H) + group(Cb-H) + group(Cb-H) + group(Cb-H) + polycyclic(s2_6_6_naphthalene) + radical(CbJ)\"\"\"), molecule=[Molecule(smiles=\"[c]1ccc2ccccc2c1\")], molecular_weight=(127.162,'amu'))], kinetics=Arrhenius(A=(2.992e+11,'s^-1'), n=0.67, Ea=(58.336,'kcal/mol'), T0=(1,'K')), rank=5)\n",
    "training_rxn_2 =  Reaction(reactants=[Species(label=\"C10H9-21\", thermo=ThermoData(Tdata=([300,400,500,600,800,1000,1500],'K'), Cpdata=([157.569,199.995,235.392,263.634,306.813,337.314,387.229],'J/(mol*K)'), H298=(534.703,'kJ/mol'), S298=(427.312,'J/(mol*K)'), Cp0=(33.2579,'J/(mol*K)'), CpInf=(444.824,'J/(mol*K)'), comment=\"\"\"Thermo group additivity estimation: group(Cs-CbCsHH) + group(Cs-CtCsHH) + group(Cb-Cs) + group(Cb-H) + group(Cb-H) + group(Cb-H) + group(Cb-H) + group(Cb-H) + group(Ct-CtCs) + group(Ct-CtH) + ring(Benzene) + radical(CbJ)\"\"\"), molecule=[Molecule(smiles=\"C#CCCc1[c]cccc1\")], molecular_weight=(129.178,'amu'))], products=[Species(label=\"C10H9-22\", thermo=ThermoData(Tdata=([300,400,500,600,800,1000,1500],'K'), Cpdata=([143.803,187.641,225.453,257.683,308.277,344.13,392.633],'J/(mol*K)'), H298=(359.57,'kJ/mol'), S298=(361.477,'J/(mol*K)'), Cp0=(33.2579,'J/(mol*K)'), CpInf=(457.296,'J/(mol*K)'), comment=\"\"\"Thermo group additivity estimation: group(Cs-CbCsHH) + group(Cs-(Cds-Cds)CsHH) + group(Cb-Cs) + group(Cb-(Cds-Cds)) + group(Cds-CdsCsH) + group(Cb-H) + group(Cds-CdsCbH) + group(Cb-H) + group(Cb-H) + group(Cb-H) + polycyclic(s2_6_6_ben_ene_1) + radical(Cds_S)\"\"\"), molecule=[Molecule(smiles=\"[C]1=Cc2ccccc2CC1\")], molecular_weight=(129.178,'amu'))], kinetics=Arrhenius(A=(6.09e+08,'s^-1'), n=0.695, Ea=(6.499,'kcal/mol'), T0=(1,'K')), rank=5) \n"
   ]
  },
  {
   "cell_type": "code",
   "execution_count": null,
   "id": "b444202a-d37f-4708-93a4-a737ac63cf17",
   "metadata": {},
   "outputs": [],
   "source": [
    "BM_fit_2 = Reaction(kinetics = ArrheniusBM(A=(2.992e+11,'s^-1'), n=0.67, w0=(289.5,'kJ/mol'), E0=(289.5,'kJ/mol'), Tmin=(300,'K'), Tmax=(2000,'K'), comment=\"\"\"Fitted to 1 reactions at temperatures: [ 300.  500.  600.  700.  800.  900. 1000. 1100. 1200. 1500. 2000.]\"\"\"))\n",
    "BM_fit_1 = Reaction(kinetics = ArrheniusBM(A=(6.09e+08,'s^-1'), n=0.695, w0=(289.5,'kJ/mol'), E0=(90.5131,'kJ/mol'), Tmin=(300,'K'), Tmax=(2000,'K'), comment=\"\"\"Fitted to 1 reactions at temperatures: [ 300.  500.  600.  700.  800.  900. 1000. 1100. 1200. 1500. 2000.]\"\"\"))\n",
    "\n",
    "\n",
    "Tref=1000\n",
    "\n",
    "print(BM_fit_2.kinetics.to_arrhenius(training_rxn_2.get_enthalpy_of_reaction(Tref)).get_rate_coefficient(Tref))  #problem, always becomes nan\n",
    "print(BM_fit_1.kinetics.to_arrhenius(training_rxn_1.get_enthalpy_of_reaction(Tref)).get_rate_coefficient(Tref))"
   ]
  },
  {
   "cell_type": "code",
   "execution_count": null,
   "id": "a62b2615-9f9f-4cec-987e-5d7b333521c9",
   "metadata": {},
   "outputs": [],
   "source": [
    "BM_fit_2.kinetics.to_arrhenius(training_rxn_2.get_enthalpy_of_reaction(Tref)).get_rate_coefficient(1000)"
   ]
  }
 ],
 "metadata": {
  "kernelspec": {
   "display_name": "rmg_env",
   "language": "python",
   "name": "rmg_env"
  },
  "language_info": {
   "codemirror_mode": {
    "name": "ipython",
    "version": 3
   },
   "file_extension": ".py",
   "mimetype": "text/x-python",
   "name": "python",
   "nbconvert_exporter": "python",
   "pygments_lexer": "ipython3",
   "version": "3.7.16"
  }
 },
 "nbformat": 4,
 "nbformat_minor": 5
}
