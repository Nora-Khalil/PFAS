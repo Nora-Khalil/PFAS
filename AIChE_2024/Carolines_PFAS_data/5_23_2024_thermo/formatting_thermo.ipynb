{
 "cells": [
  {
   "cell_type": "code",
   "execution_count": 1,
   "metadata": {},
   "outputs": [],
   "source": [
    "import cantera as ct"
   ]
  },
  {
   "cell_type": "code",
   "execution_count": null,
   "metadata": {},
   "outputs": [],
   "source": [
    "#first, edit the file so it doesn't overwrite the smiles\n",
    "path = './pfca_final.yaml'   #load in thermo file\n",
    "with open(path, 'r') as f: \n",
    "    lines = f.readlines()\n",
    "\n",
    "SMILES_indices = []\n",
    "for ind, line in enumerate(lines): \n",
    "    if \"SMILES\" in line: \n",
    "        SMILES_indices.append(ind)\n",
    "\n",
    "indices_to_remove = []\n",
    "#now look at the next three lines after these SMILE lines\n",
    "for ind in SMILES_indices: \n",
    "    for x in range(1,5):\n",
    "        next_ind = ind + x\n",
    "        if \"note:\" in lines[next_ind]: \n",
    "            #we will not be saving this line\n",
    "            indices_to_remove.append(next_ind)\n"
   ]
  },
  {
   "cell_type": "code",
   "execution_count": 37,
   "metadata": {},
   "outputs": [
    {
     "name": "stdout",
     "output_type": "stream",
     "text": [
      "1\n",
      "2\n",
      "3\n",
      "4\n"
     ]
    }
   ],
   "source": [
    "for x in range(1,5):\n",
    "    print(x)"
   ]
  },
  {
   "cell_type": "code",
   "execution_count": 10,
   "metadata": {},
   "outputs": [
    {
     "name": "stdout",
     "output_type": "stream",
     "text": [
      "yeah\n"
     ]
    }
   ],
   "source": [
    "if \"F\" in species.composition.keys():\n",
    "    print('yeah')"
   ]
  },
  {
   "cell_type": "code",
   "execution_count": 14,
   "metadata": {},
   "outputs": [],
   "source": [
    "gas = ct.Solution(path)     \n",
    "\n",
    "fluorinated_species = []\n",
    "\n",
    "for species in gas.species():\n",
    "    if \"F\" in species.composition.keys():\n",
    "        fluorinated_species.append(species)\n",
    "\n"
   ]
  },
  {
   "cell_type": "code",
   "execution_count": 32,
   "metadata": {},
   "outputs": [
    {
     "ename": "TypeError",
     "evalue": "from_yaml() takes exactly 1 positional argument (0 given)",
     "output_type": "error",
     "traceback": [
      "\u001b[0;31m---------------------------------------------------------------------------\u001b[0m",
      "\u001b[0;31mTypeError\u001b[0m                                 Traceback (most recent call last)",
      "\u001b[0;32m/var/folders/6l/p1nqgzp12zd6jw2460142plr0000gn/T/ipykernel_81607/1603057157.py\u001b[0m in \u001b[0;36m<module>\u001b[0;34m\u001b[0m\n\u001b[0;32m----> 1\u001b[0;31m \u001b[0mfluorinated_species\u001b[0m\u001b[0;34m[\u001b[0m\u001b[0;36m30\u001b[0m\u001b[0;34m]\u001b[0m\u001b[0;34m.\u001b[0m\u001b[0mfrom_yaml\u001b[0m\u001b[0;34m(\u001b[0m\u001b[0;34m)\u001b[0m\u001b[0;34m\u001b[0m\u001b[0;34m\u001b[0m\u001b[0m\n\u001b[0m",
      "\u001b[0;32mbuild/python/cantera/thermo.pyx\u001b[0m in \u001b[0;36mcantera._cantera.Species.from_yaml\u001b[0;34m()\u001b[0m\n",
      "\u001b[0;31mTypeError\u001b[0m: from_yaml() takes exactly 1 positional argument (0 given)"
     ]
    }
   ],
   "source": [
    "fluorinated_species[30].from_yaml()"
   ]
  },
  {
   "cell_type": "code",
   "execution_count": 13,
   "metadata": {},
   "outputs": [
    {
     "name": "stdout",
     "output_type": "stream",
     "text": [
      "0\n",
      "1\n",
      "2\n",
      "3\n",
      "4\n",
      "5\n",
      "6\n",
      "7\n",
      "8\n",
      "9\n",
      "10\n",
      "11\n",
      "12\n",
      "13\n",
      "14\n",
      "15\n",
      "16\n",
      "17\n",
      "18\n",
      "19\n",
      "20\n",
      "21\n",
      "22\n",
      "23\n",
      "24\n",
      "25\n",
      "26\n",
      "27\n",
      "28\n",
      "29\n",
      "30\n",
      "31\n",
      "32\n",
      "33\n",
      "34\n",
      "35\n",
      "36\n",
      "37\n",
      "38\n",
      "39\n",
      "40\n"
     ]
    }
   ],
   "source": [
    "final_string = ''\n",
    "\n",
    "for ind, spc in enumerate(fluorinated_species): \n",
    "    #get the label\n",
    "    label = spc.name\n",
    "\n",
    "    \n"
   ]
  }
 ],
 "metadata": {
  "kernelspec": {
   "display_name": "rmg_env",
   "language": "python",
   "name": "python3"
  },
  "language_info": {
   "codemirror_mode": {
    "name": "ipython",
    "version": 3
   },
   "file_extension": ".py",
   "mimetype": "text/x-python",
   "name": "python",
   "nbconvert_exporter": "python",
   "pygments_lexer": "ipython3",
   "version": "3.7.13"
  }
 },
 "nbformat": 4,
 "nbformat_minor": 2
}
