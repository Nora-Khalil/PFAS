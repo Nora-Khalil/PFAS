{
 "cells": [
  {
   "cell_type": "code",
   "execution_count": 1,
   "metadata": {
    "scrolled": true
   },
   "outputs": [],
   "source": [
    "import rmgpy\n",
    "import numpy as np\n",
    "from rmgpy.molecule.molecule import *\n",
    "from rmgpy.species import *\n",
    "from rmgpy.chemkin import *\n",
    "from rmgpy.data.rmg import RMGDatabase\n",
    "from IPython.display import display\n",
    "from rmgpy.data.thermo import ThermoLibrary\n",
    "from rmgpy.rmg.react import react\n",
    "from rmgpy.species import Species\n",
    "from rmgpy.reaction import Reaction\n",
    "from rmgpy.data.rmg import get_db\n",
    "from rmgpy.molecule.group import Group\n",
    "from rmgpy.kinetics.arrhenius import ArrheniusBM\n",
    "from rmgpy import settings\n",
    "import time\n",
    "import matplotlib.pyplot as plt\n",
    "import matplotlib"
   ]
  },
  {
   "cell_type": "code",
   "execution_count": 2,
   "metadata": {},
   "outputs": [
    {
     "data": {
      "text/plain": [
       "{'database.directory': '/home/khalil.nor/Code/RMG-database/input',\n",
       " 'test_data.directory': '/home/khalil.nor/Code/RMG-Py/rmgpy/test_data'}"
      ]
     },
     "execution_count": 2,
     "metadata": {},
     "output_type": "execute_result"
    }
   ],
   "source": [
    "settings"
   ]
  },
  {
   "cell_type": "code",
   "execution_count": null,
   "metadata": {},
   "outputs": [],
   "source": [
    "#these families just had training rxns added to them \n",
    "\n",
    "#dict_keys(['1,2_Insertion_carbene', 'R_Addition_MultipleBond', 'XY_Addition_MultipleBond', 'Singlet_Carbene_Intra_Disproportionation', '1,2_Insertion_CO', '1+2_Cycloaddition', '1,3_Insertion_CO2', '1,3_sigmatropic_rearrangement'])"
   ]
  },
  {
   "cell_type": "code",
   "execution_count": 3,
   "metadata": {},
   "outputs": [],
   "source": [
    "thermo_libs = [\n",
    "'C1_C2_Fluorine', #adding Siddha's as first most trusted because this is the thermo library that Franklin used\n",
    "'NCSU_C2_C8_PFAS', #adding Westmoreland's thermo as the second most trusted\n",
    "'primaryThermoLibrary',\n",
    "'Fluorine',\n",
    "'FFCM1(-)',\n",
    "'halogens',\n",
    "'CHOF_G4',\n",
    "'CHOCl_G4',\n",
    "'CHOBr_G4',\n",
    "'CHOFCl_G4',\n",
    "'CHOFBr_G4',\n",
    "'CHOFClBr_G4',\n",
    "'DFT_QCI_thermo',\n",
    "'2-BTP_G4',\n",
    "'thermo_DFT_CCSDTF12_BAC',\n",
    "'SulfurHaynes'\n",
    "]\n",
    "\n",
    "kin_families = ['1,2_Insertion_carbene', 'R_Addition_MultipleBond', 'XY_Addition_MultipleBond', 'Singlet_Carbene_Intra_Disproportionation', '1,2_Insertion_CO', '1+2_Cycloaddition', '1,3_Insertion_CO2', '1,3_sigmatropic_rearrangement']"
   ]
  },
  {
   "cell_type": "code",
   "execution_count": 4,
   "metadata": {
    "scrolled": true
   },
   "outputs": [],
   "source": [
    "database = RMGDatabase()\n",
    "database.load(\n",
    "            path = settings['database.directory'],\n",
    "            thermo_libraries = thermo_libs,\n",
    "            transport_libraries = [],\n",
    "            reaction_libraries = [],\n",
    "            seed_mechanisms = [],#['BurkeH2O2inN2','ERC-FoundationFuelv0.9'],\n",
    "            kinetics_families = kin_families,\n",
    "            kinetics_depositories = ['training'],\n",
    "            #frequenciesLibraries = self.statmechLibraries,\n",
    "            depository = False, # Don't bother loading the depository information, as we don't use it\n",
    "        )\n"
   ]
  },
  {
   "cell_type": "code",
   "execution_count": 5,
   "metadata": {},
   "outputs": [
    {
     "data": {
      "text/plain": [
       "{'1+2_Cycloaddition': <ReactionFamily \"1+2_Cycloaddition\">,\n",
       " '1,2_Insertion_CO': <ReactionFamily \"1,2_Insertion_CO\">,\n",
       " '1,2_Insertion_carbene': <ReactionFamily \"1,2_Insertion_carbene\">,\n",
       " '1,3_Insertion_CO2': <ReactionFamily \"1,3_Insertion_CO2\">,\n",
       " '1,3_sigmatropic_rearrangement': <ReactionFamily \"1,3_sigmatropic_rearrangement\">,\n",
       " 'R_Addition_MultipleBond': <ReactionFamily \"R_Addition_MultipleBond\">,\n",
       " 'Singlet_Carbene_Intra_Disproportionation': <ReactionFamily \"Singlet_Carbene_Intra_Disproportionation\">,\n",
       " 'XY_Addition_MultipleBond': <ReactionFamily \"XY_Addition_MultipleBond\">}"
      ]
     },
     "execution_count": 5,
     "metadata": {},
     "output_type": "execute_result"
    }
   ],
   "source": [
    "database.kinetics.families"
   ]
  },
  {
   "cell_type": "code",
   "execution_count": 6,
   "metadata": {},
   "outputs": [],
   "source": [
    "# '1,3_sigmatropic_rearrangement' \n",
    "family_to_train = \"1,3_sigmatropic_rearrangement\"\n",
    "family = database.kinetics.families[family_to_train]"
   ]
  },
  {
   "cell_type": "code",
   "execution_count": 7,
   "metadata": {},
   "outputs": [],
   "source": [
    "family.clean_tree()"
   ]
  },
  {
   "cell_type": "code",
   "execution_count": 8,
   "metadata": {},
   "outputs": [
    {
     "name": "stderr",
     "output_type": "stream",
     "text": [
      "WARNING:root:Cphigh is above the theoretical CpInf value for ThermoData object\n",
      "ThermoData(Tdata=([300,400,500,600,800,1000,1500],'K'), Cpdata=([181.425,211.751,232.143,247.468,271.725,290.011,303.982],'J/(mol*K)'), H298=(-1584.09,'kJ/mol'), S298=(751.842,'J/(mol*K)'), Cp0=(33.2579,'J/(mol*K)'), CpInf=(295.164,'J/(mol*K)'), comment=\"\"\"Thermo group additivity estimation: group(O2s-CsCs) + group(CsC2sFFF) + longDistanceInteraction_noncyclic(Cs(F)3-R-Cs(F)3) + group(CsC2sFFF) + longDistanceInteraction_noncyclic(Cs(F)3-R-Cs(F)3) + group(CsJ2_singlet-CsH) + group(COFFO)\"\"\").\n",
      "The thermo for this species is probably wrong! Setting CpInf = Cphigh for Entropy calculationat T = 2000.0 K...\n",
      "WARNING:root:Cphigh is above the theoretical CpInf value for ThermoData object\n",
      "ThermoData(Tdata=([300,400,500,600,800,1000,1500],'K'), Cpdata=([181.425,211.751,232.143,247.468,271.725,290.011,303.982],'J/(mol*K)'), H298=(-1584.09,'kJ/mol'), S298=(751.842,'J/(mol*K)'), Cp0=(33.2579,'J/(mol*K)'), CpInf=(295.164,'J/(mol*K)'), comment=\"\"\"Thermo group additivity estimation: group(O2s-CsCs) + group(CsC2sFFF) + longDistanceInteraction_noncyclic(Cs(F)3-R-Cs(F)3) + group(CsC2sFFF) + longDistanceInteraction_noncyclic(Cs(F)3-R-Cs(F)3) + group(CsJ2_singlet-CsH) + group(COFFO)\"\"\").\n",
      "The thermo for this species is probably wrong! Setting CpInf = Cphigh for Entropy calculationat T = 1666.6666666666665 K...\n",
      "WARNING:root:Cphigh is above the theoretical CpInf value for ThermoData object\n",
      "ThermoData(Tdata=([300,400,500,600,800,1000,1500],'K'), Cpdata=([229.706,264.702,288.986,307.228,335.031,355.364,371.101],'J/(mol*K)'), H298=(-2033.37,'kJ/mol'), S298=(829.768,'J/(mol*K)'), Cp0=(33.2579,'J/(mol*K)'), CpInf=(365.837,'J/(mol*K)'), comment=\"\"\"Thermo group additivity estimation: group(O2s-CsCs) + group(CsCCFF) + group(CsCsFFF) + longDistanceInteraction_noncyclic(Cs(F)3-Cs(F)2) + group(CsC2sFFF) + longDistanceInteraction_noncyclic(Cs(F)3-R-Cs(F)2) + group(CsJ2_singlet-CsH) + group(COFFO)\"\"\").\n",
      "The thermo for this species is probably wrong! Setting CpInf = Cphigh for Entropy calculationat T = 2000.0 K...\n",
      "WARNING:root:Cphigh is above the theoretical CpInf value for ThermoData object\n",
      "ThermoData(Tdata=([300,400,500,600,800,1000,1500],'K'), Cpdata=([229.706,264.702,288.986,307.228,335.031,355.364,371.101],'J/(mol*K)'), H298=(-2033.37,'kJ/mol'), S298=(829.768,'J/(mol*K)'), Cp0=(33.2579,'J/(mol*K)'), CpInf=(365.837,'J/(mol*K)'), comment=\"\"\"Thermo group additivity estimation: group(O2s-CsCs) + group(CsCCFF) + group(CsCsFFF) + longDistanceInteraction_noncyclic(Cs(F)3-Cs(F)2) + group(CsC2sFFF) + longDistanceInteraction_noncyclic(Cs(F)3-R-Cs(F)2) + group(CsJ2_singlet-CsH) + group(COFFO)\"\"\").\n",
      "The thermo for this species is probably wrong! Setting CpInf = Cphigh for Entropy calculationat T = 1666.6666666666665 K...\n",
      "ERROR:root:34.0\n",
      "ERROR:root:iter_max achieved terminating early\n",
      "ERROR:root:iter_max achieved terminating early\n",
      "ERROR:root:iter_max achieved terminating early\n"
     ]
    },
    {
     "name": "stdout",
     "output_type": "stream",
     "text": [
      "165.70419049263\n"
     ]
    }
   ],
   "source": [
    "start = time.time()\n",
    "family.generate_tree(thermo_database=database.thermo,\n",
    "                     nprocs=1,\n",
    "                     new_fraction_threshold_to_reopt_node=0.25,\n",
    "                     max_batch_size=800,\n",
    "                     extension_iter_max=2,\n",
    "                     extension_iter_item_cap=100)\n",
    "\n",
    "end = time.time()\n",
    "print(end-start)"
   ]
  },
  {
   "cell_type": "code",
   "execution_count": 9,
   "metadata": {},
   "outputs": [
    {
     "data": {
      "text/plain": [
       "56"
      ]
     },
     "execution_count": 9,
     "metadata": {},
     "output_type": "execute_result"
    }
   ],
   "source": [
    "len(family.groups.entries)"
   ]
  },
  {
   "cell_type": "code",
   "execution_count": 10,
   "metadata": {},
   "outputs": [
    {
     "data": {
      "text/plain": [
       "{'Root': <Entry index=0 label=\"Root\">,\n",
       " 'Root_1R!H->C': <Entry index=1 label=\"Root_1R!H->C\">,\n",
       " 'Root_N-1R!H->C': <Entry index=2 label=\"Root_N-1R!H->C\">,\n",
       " 'Root_1R!H->C_1C-inRing': <Entry index=3 label=\"Root_1R!H->C_1C-inRing\">,\n",
       " 'Root_1R!H->C_N-1C-inRing': <Entry index=4 label=\"Root_1R!H->C_N-1C-inRing\">,\n",
       " 'Root_N-1R!H->C_Ext-4R!H-R_Ext-4R!H-R_Ext-3R!H-R': <Entry index=5 label=\"Root_N-1R!H->C_Ext-4R!H-R_Ext-4R!H-R_Ext-3R!H-R\">,\n",
       " 'Root_N-1R!H->C_Ext-4R!H-R_5R!H->C': <Entry index=6 label=\"Root_N-1R!H->C_Ext-4R!H-R_5R!H->C\">,\n",
       " 'Root_N-1R!H->C_Ext-4R!H-R_N-5R!H->C': <Entry index=7 label=\"Root_N-1R!H->C_Ext-4R!H-R_N-5R!H->C\">,\n",
       " 'Root_1R!H->C_1C-inRing_2R!H->N': <Entry index=8 label=\"Root_1R!H->C_1C-inRing_2R!H->N\">,\n",
       " 'Root_1R!H->C_1C-inRing_N-2R!H->N': <Entry index=9 label=\"Root_1R!H->C_1C-inRing_N-2R!H->N\">,\n",
       " 'Root_1R!H->C_N-1C-inRing_Ext-4R!H-R': <Entry index=10 label=\"Root_1R!H->C_N-1C-inRing_Ext-4R!H-R\">,\n",
       " 'Root_1R!H->C_N-1C-inRing_Ext-1C-R': <Entry index=11 label=\"Root_1R!H->C_N-1C-inRing_Ext-1C-R\">,\n",
       " 'Root_1R!H->C_N-1C-inRing_2R!H->C': <Entry index=12 label=\"Root_1R!H->C_N-1C-inRing_2R!H->C\">,\n",
       " 'Root_1R!H->C_N-1C-inRing_N-2R!H->C': <Entry index=13 label=\"Root_1R!H->C_N-1C-inRing_N-2R!H->C\">,\n",
       " 'Root_N-1R!H->C_Ext-4R!H-R_Ext-4R!H-R_Ext-3R!H-R_Ext-4R!H-R_7R!H->C': <Entry index=14 label=\"Root_N-1R!H->C_Ext-4R!H-R_Ext-4R!H-R_Ext-3R!H-R_Ext-4R!H-R_7R!H->C\">,\n",
       " 'Root_N-1R!H->C_Ext-4R!H-R_Ext-4R!H-R_Ext-3R!H-R_Ext-4R!H-R_N-7R!H->C': <Entry index=15 label=\"Root_N-1R!H->C_Ext-4R!H-R_Ext-4R!H-R_Ext-3R!H-R_Ext-4R!H-R_N-7R!H->C\">,\n",
       " 'Root_1R!H->C_1C-inRing_2R!H->N_Ext-4R!H-R_5R!H->C': <Entry index=16 label=\"Root_1R!H->C_1C-inRing_2R!H->N_Ext-4R!H-R_5R!H->C\">,\n",
       " 'Root_1R!H->C_1C-inRing_2R!H->N_Ext-4R!H-R_N-5R!H->C': <Entry index=17 label=\"Root_1R!H->C_1C-inRing_2R!H->N_Ext-4R!H-R_N-5R!H->C\">,\n",
       " 'Root_1R!H->C_1C-inRing_N-2R!H->N_4R!H->N': <Entry index=18 label=\"Root_1R!H->C_1C-inRing_N-2R!H->N_4R!H->N\">,\n",
       " 'Root_1R!H->C_1C-inRing_N-2R!H->N_N-4R!H->N': <Entry index=19 label=\"Root_1R!H->C_1C-inRing_N-2R!H->N_N-4R!H->N\">,\n",
       " 'Root_1R!H->C_N-1C-inRing_Ext-4R!H-R_4R!H->N': <Entry index=20 label=\"Root_1R!H->C_N-1C-inRing_Ext-4R!H-R_4R!H->N\">,\n",
       " 'Root_1R!H->C_N-1C-inRing_Ext-4R!H-R_N-4R!H->N': <Entry index=21 label=\"Root_1R!H->C_N-1C-inRing_Ext-4R!H-R_N-4R!H->N\">,\n",
       " 'Root_1R!H->C_N-1C-inRing_Ext-1C-R_4R!H->F': <Entry index=22 label=\"Root_1R!H->C_N-1C-inRing_Ext-1C-R_4R!H->F\">,\n",
       " 'Root_1R!H->C_N-1C-inRing_Ext-1C-R_N-4R!H->F': <Entry index=23 label=\"Root_1R!H->C_N-1C-inRing_Ext-1C-R_N-4R!H->F\">,\n",
       " 'Root_1R!H->C_1C-inRing_2R!H->N_Ext-4R!H-R_5R!H->C_Ext-1C-R': <Entry index=24 label=\"Root_1R!H->C_1C-inRing_2R!H->N_Ext-4R!H-R_5R!H->C_Ext-1C-R\">,\n",
       " 'Root_1R!H->C_1C-inRing_N-2R!H->N_N-4R!H->N_Ext-1C-R': <Entry index=25 label=\"Root_1R!H->C_1C-inRing_N-2R!H->N_N-4R!H->N_Ext-1C-R\">,\n",
       " 'Root_1R!H->C_1C-inRing_N-2R!H->N_N-4R!H->N_Ext-4C-R_5R!H->C': <Entry index=26 label=\"Root_1R!H->C_1C-inRing_N-2R!H->N_N-4R!H->N_Ext-4C-R_5R!H->C\">,\n",
       " 'Root_1R!H->C_1C-inRing_N-2R!H->N_N-4R!H->N_Ext-4C-R_N-5R!H->C': <Entry index=27 label=\"Root_1R!H->C_1C-inRing_N-2R!H->N_N-4R!H->N_Ext-4C-R_N-5R!H->C\">,\n",
       " 'Root_1R!H->C_N-1C-inRing_Ext-4R!H-R_N-4R!H->N_2R!H->N': <Entry index=28 label=\"Root_1R!H->C_N-1C-inRing_Ext-4R!H-R_N-4R!H->N_2R!H->N\">,\n",
       " 'Root_1R!H->C_N-1C-inRing_Ext-4R!H-R_N-4R!H->N_N-2R!H->N': <Entry index=29 label=\"Root_1R!H->C_N-1C-inRing_Ext-4R!H-R_N-4R!H->N_N-2R!H->N\">,\n",
       " 'Root_1R!H->C_N-1C-inRing_Ext-1C-R_4R!H->F_Ext-2R!H-R': <Entry index=30 label=\"Root_1R!H->C_N-1C-inRing_Ext-1C-R_4R!H->F_Ext-2R!H-R\">,\n",
       " 'Root_1R!H->C_N-1C-inRing_Ext-1C-R_N-4R!H->F_Ext-2R!H-R': <Entry index=31 label=\"Root_1R!H->C_N-1C-inRing_Ext-1C-R_N-4R!H->F_Ext-2R!H-R\">,\n",
       " 'Root_1R!H->C_N-1C-inRing_Ext-1C-R_N-4R!H->F_4BrCCl->Br': <Entry index=32 label=\"Root_1R!H->C_N-1C-inRing_Ext-1C-R_N-4R!H->F_4BrCCl->Br\">,\n",
       " 'Root_1R!H->C_N-1C-inRing_Ext-1C-R_N-4R!H->F_N-4BrCCl->Br': <Entry index=33 label=\"Root_1R!H->C_N-1C-inRing_Ext-1C-R_N-4R!H->F_N-4BrCCl->Br\">,\n",
       " 'Root_1R!H->C_1C-inRing_2R!H->N_Ext-4R!H-R_5R!H->C_Ext-1C-R_3R!H->N': <Entry index=34 label=\"Root_1R!H->C_1C-inRing_2R!H->N_Ext-4R!H-R_5R!H->C_Ext-1C-R_3R!H->N\">,\n",
       " 'Root_1R!H->C_1C-inRing_2R!H->N_Ext-4R!H-R_5R!H->C_Ext-1C-R_N-3R!H->N': <Entry index=35 label=\"Root_1R!H->C_1C-inRing_2R!H->N_Ext-4R!H-R_5R!H->C_Ext-1C-R_N-3R!H->N\">,\n",
       " 'Root_1R!H->C_N-1C-inRing_Ext-4R!H-R_N-4R!H->N_2R!H->N_Ext-1C-R': <Entry index=36 label=\"Root_1R!H->C_N-1C-inRing_Ext-4R!H-R_N-4R!H->N_2R!H->N_Ext-1C-R\">,\n",
       " 'Root_1R!H->C_N-1C-inRing_Ext-4R!H-R_N-4R!H->N_2R!H->N_2N-inRing': <Entry index=37 label=\"Root_1R!H->C_N-1C-inRing_Ext-4R!H-R_N-4R!H->N_2R!H->N_2N-inRing\">,\n",
       " 'Root_1R!H->C_N-1C-inRing_Ext-4R!H-R_N-4R!H->N_2R!H->N_N-2N-inRing': <Entry index=38 label=\"Root_1R!H->C_N-1C-inRing_Ext-4R!H-R_N-4R!H->N_2R!H->N_N-2N-inRing\">,\n",
       " 'Root_1R!H->C_N-1C-inRing_Ext-4R!H-R_N-4R!H->N_N-2R!H->N_5R!H->N': <Entry index=39 label=\"Root_1R!H->C_N-1C-inRing_Ext-4R!H-R_N-4R!H->N_N-2R!H->N_5R!H->N\">,\n",
       " 'Root_1R!H->C_N-1C-inRing_Ext-4R!H-R_N-4R!H->N_N-2R!H->N_N-5R!H->N': <Entry index=40 label=\"Root_1R!H->C_N-1C-inRing_Ext-4R!H-R_N-4R!H->N_N-2R!H->N_N-5R!H->N\">,\n",
       " 'Root_1R!H->C_N-1C-inRing_Ext-1C-R_N-4R!H->F_Ext-2R!H-R_4BrCCl->Br': <Entry index=41 label=\"Root_1R!H->C_N-1C-inRing_Ext-1C-R_N-4R!H->F_Ext-2R!H-R_4BrCCl->Br\">,\n",
       " 'Root_1R!H->C_N-1C-inRing_Ext-1C-R_N-4R!H->F_Ext-2R!H-R_N-4BrCCl->Br': <Entry index=42 label=\"Root_1R!H->C_N-1C-inRing_Ext-1C-R_N-4R!H->F_Ext-2R!H-R_N-4BrCCl->Br\">,\n",
       " 'Root_1R!H->C_N-1C-inRing_Ext-4R!H-R_N-4R!H->N_2R!H->N_Ext-1C-R_2N-inRing': <Entry index=43 label=\"Root_1R!H->C_N-1C-inRing_Ext-4R!H-R_N-4R!H->N_2R!H->N_Ext-1C-R_2N-inRing\">,\n",
       " 'Root_1R!H->C_N-1C-inRing_Ext-4R!H-R_N-4R!H->N_2R!H->N_Ext-1C-R_N-2N-inRing': <Entry index=44 label=\"Root_1R!H->C_N-1C-inRing_Ext-4R!H-R_N-4R!H->N_2R!H->N_Ext-1C-R_N-2N-inRing\">,\n",
       " 'Root_1R!H->C_N-1C-inRing_Ext-4R!H-R_N-4R!H->N_2R!H->N_2N-inRing_3R!H->N': <Entry index=45 label=\"Root_1R!H->C_N-1C-inRing_Ext-4R!H-R_N-4R!H->N_2R!H->N_2N-inRing_3R!H->N\">,\n",
       " 'Root_1R!H->C_N-1C-inRing_Ext-4R!H-R_N-4R!H->N_2R!H->N_2N-inRing_N-3R!H->N': <Entry index=46 label=\"Root_1R!H->C_N-1C-inRing_Ext-4R!H-R_N-4R!H->N_2R!H->N_2N-inRing_N-3R!H->N\">,\n",
       " 'Root_1R!H->C_N-1C-inRing_Ext-4R!H-R_N-4R!H->N_2R!H->N_N-2N-inRing_5R!H->N': <Entry index=47 label=\"Root_1R!H->C_N-1C-inRing_Ext-4R!H-R_N-4R!H->N_2R!H->N_N-2N-inRing_5R!H->N\">,\n",
       " 'Root_1R!H->C_N-1C-inRing_Ext-4R!H-R_N-4R!H->N_2R!H->N_N-2N-inRing_N-5R!H->N': <Entry index=48 label=\"Root_1R!H->C_N-1C-inRing_Ext-4R!H-R_N-4R!H->N_2R!H->N_N-2N-inRing_N-5R!H->N\">,\n",
       " 'Root_1R!H->C_N-1C-inRing_Ext-4R!H-R_N-4R!H->N_N-2R!H->N_5R!H->N_Ext-4BrCClF-R': <Entry index=49 label=\"Root_1R!H->C_N-1C-inRing_Ext-4R!H-R_N-4R!H->N_N-2R!H->N_5R!H->N_Ext-4BrCClF-R\">,\n",
       " 'Root_1R!H->C_N-1C-inRing_Ext-4R!H-R_N-4R!H->N_N-2R!H->N_N-5R!H->N_Ext-1C-R': <Entry index=50 label=\"Root_1R!H->C_N-1C-inRing_Ext-4R!H-R_N-4R!H->N_N-2R!H->N_N-5R!H->N_Ext-1C-R\">,\n",
       " 'Root_1R!H->C_N-1C-inRing_Ext-4R!H-R_N-4R!H->N_2R!H->N_2N-inRing_3R!H->N_5R!H->N': <Entry index=51 label=\"Root_1R!H->C_N-1C-inRing_Ext-4R!H-R_N-4R!H->N_2R!H->N_2N-inRing_3R!H->N_5R!H->N\">,\n",
       " 'Root_1R!H->C_N-1C-inRing_Ext-4R!H-R_N-4R!H->N_2R!H->N_2N-inRing_3R!H->N_N-5R!H->N': <Entry index=52 label=\"Root_1R!H->C_N-1C-inRing_Ext-4R!H-R_N-4R!H->N_2R!H->N_2N-inRing_3R!H->N_N-5R!H->N\">,\n",
       " 'Root_1R!H->C_N-1C-inRing_Ext-4R!H-R_N-4R!H->N_2R!H->N_2N-inRing_N-3R!H->N_5R!H->N': <Entry index=53 label=\"Root_1R!H->C_N-1C-inRing_Ext-4R!H-R_N-4R!H->N_2R!H->N_2N-inRing_N-3R!H->N_5R!H->N\">,\n",
       " 'Root_1R!H->C_N-1C-inRing_Ext-4R!H-R_N-4R!H->N_2R!H->N_2N-inRing_N-3R!H->N_N-5R!H->N': <Entry index=54 label=\"Root_1R!H->C_N-1C-inRing_Ext-4R!H-R_N-4R!H->N_2R!H->N_2N-inRing_N-3R!H->N_N-5R!H->N\">,\n",
       " 'Root_1R!H->C_N-1C-inRing_Ext-4R!H-R_N-4R!H->N_2R!H->N_N-2N-inRing_5R!H->N_Ext-4BrCClF-R': <Entry index=55 label=\"Root_1R!H->C_N-1C-inRing_Ext-4R!H-R_N-4R!H->N_2R!H->N_N-2N-inRing_5R!H->N_Ext-4BrCClF-R\">}"
      ]
     },
     "execution_count": 10,
     "metadata": {},
     "output_type": "execute_result"
    }
   ],
   "source": [
    "family.groups.entries"
   ]
  },
  {
   "cell_type": "code",
   "execution_count": 11,
   "metadata": {},
   "outputs": [
    {
     "name": "stdout",
     "output_type": "stream",
     "text": [
      "0.0062274932861328125\n"
     ]
    }
   ],
   "source": [
    "start = time.time()\n",
    "family.check_tree()\n",
    "end = time.time()\n",
    "print(end-start)"
   ]
  },
  {
   "cell_type": "code",
   "execution_count": 12,
   "metadata": {},
   "outputs": [
    {
     "name": "stderr",
     "output_type": "stream",
     "text": [
      "WARNING:root:Cphigh is above the theoretical CpInf value for ThermoData object\n",
      "ThermoData(Tdata=([300,400,500,600,800,1000,1500],'K'), Cpdata=([181.425,211.751,232.143,247.468,271.725,290.011,303.982],'J/(mol*K)'), H298=(-1584.09,'kJ/mol'), S298=(751.842,'J/(mol*K)'), Cp0=(33.2579,'J/(mol*K)'), CpInf=(295.164,'J/(mol*K)'), comment=\"\"\"Thermo group additivity estimation: group(O2s-CsCs) + group(CsC2sFFF) + longDistanceInteraction_noncyclic(Cs(F)3-R-Cs(F)3) + group(CsC2sFFF) + longDistanceInteraction_noncyclic(Cs(F)3-R-Cs(F)3) + group(CsJ2_singlet-CsH) + group(COFFO)\"\"\").\n",
      "The thermo for this species is probably wrong! Setting CpInf = Cphigh for Entropy calculationat T = 2000.0 K...\n",
      "WARNING:root:Cphigh is above the theoretical CpInf value for ThermoData object\n",
      "ThermoData(Tdata=([300,400,500,600,800,1000,1500],'K'), Cpdata=([181.425,211.751,232.143,247.468,271.725,290.011,303.982],'J/(mol*K)'), H298=(-1584.09,'kJ/mol'), S298=(751.842,'J/(mol*K)'), Cp0=(33.2579,'J/(mol*K)'), CpInf=(295.164,'J/(mol*K)'), comment=\"\"\"Thermo group additivity estimation: group(O2s-CsCs) + group(CsC2sFFF) + longDistanceInteraction_noncyclic(Cs(F)3-R-Cs(F)3) + group(CsC2sFFF) + longDistanceInteraction_noncyclic(Cs(F)3-R-Cs(F)3) + group(CsJ2_singlet-CsH) + group(COFFO)\"\"\").\n",
      "The thermo for this species is probably wrong! Setting CpInf = Cphigh for Entropy calculationat T = 1666.6666666666665 K...\n",
      "WARNING:root:Cphigh is above the theoretical CpInf value for ThermoData object\n",
      "ThermoData(Tdata=([300,400,500,600,800,1000,1500],'K'), Cpdata=([229.706,264.702,288.986,307.228,335.031,355.364,371.101],'J/(mol*K)'), H298=(-2033.37,'kJ/mol'), S298=(829.768,'J/(mol*K)'), Cp0=(33.2579,'J/(mol*K)'), CpInf=(365.837,'J/(mol*K)'), comment=\"\"\"Thermo group additivity estimation: group(O2s-CsCs) + group(CsCCFF) + group(CsCsFFF) + longDistanceInteraction_noncyclic(Cs(F)3-Cs(F)2) + group(CsC2sFFF) + longDistanceInteraction_noncyclic(Cs(F)3-R-Cs(F)2) + group(CsJ2_singlet-CsH) + group(COFFO)\"\"\").\n",
      "The thermo for this species is probably wrong! Setting CpInf = Cphigh for Entropy calculationat T = 2000.0 K...\n",
      "WARNING:root:Cphigh is above the theoretical CpInf value for ThermoData object\n",
      "ThermoData(Tdata=([300,400,500,600,800,1000,1500],'K'), Cpdata=([229.706,264.702,288.986,307.228,335.031,355.364,371.101],'J/(mol*K)'), H298=(-2033.37,'kJ/mol'), S298=(829.768,'J/(mol*K)'), Cp0=(33.2579,'J/(mol*K)'), CpInf=(365.837,'J/(mol*K)'), comment=\"\"\"Thermo group additivity estimation: group(O2s-CsCs) + group(CsCCFF) + group(CsCsFFF) + longDistanceInteraction_noncyclic(Cs(F)3-Cs(F)2) + group(CsC2sFFF) + longDistanceInteraction_noncyclic(Cs(F)3-R-Cs(F)2) + group(CsJ2_singlet-CsH) + group(COFFO)\"\"\").\n",
      "The thermo for this species is probably wrong! Setting CpInf = Cphigh for Entropy calculationat T = 1666.6666666666665 K...\n"
     ]
    },
    {
     "name": "stdout",
     "output_type": "stream",
     "text": [
      "1.5958256721496582\n"
     ]
    }
   ],
   "source": [
    "start = time.time()\n",
    "family.regularize(thermo_database=database.thermo)\n",
    "end = time.time()\n",
    "print(end-start)"
   ]
  },
  {
   "cell_type": "code",
   "execution_count": 13,
   "metadata": {},
   "outputs": [
    {
     "name": "stderr",
     "output_type": "stream",
     "text": [
      "WARNING:root:Cphigh is above the theoretical CpInf value for ThermoData object\n",
      "ThermoData(Tdata=([300,400,500,600,800,1000,1500],'K'), Cpdata=([181.425,211.751,232.143,247.468,271.725,290.011,303.982],'J/(mol*K)'), H298=(-1584.09,'kJ/mol'), S298=(751.842,'J/(mol*K)'), Cp0=(33.2579,'J/(mol*K)'), CpInf=(295.164,'J/(mol*K)'), comment=\"\"\"Thermo group additivity estimation: group(O2s-CsCs) + group(CsC2sFFF) + longDistanceInteraction_noncyclic(Cs(F)3-R-Cs(F)3) + group(CsC2sFFF) + longDistanceInteraction_noncyclic(Cs(F)3-R-Cs(F)3) + group(CsJ2_singlet-CsH) + group(COFFO)\"\"\").\n",
      "The thermo for this species is probably wrong! Setting CpInf = Cphigh for Entropy calculationat T = 2000.0 K...\n",
      "WARNING:root:Cphigh is above the theoretical CpInf value for ThermoData object\n",
      "ThermoData(Tdata=([300,400,500,600,800,1000,1500],'K'), Cpdata=([181.425,211.751,232.143,247.468,271.725,290.011,303.982],'J/(mol*K)'), H298=(-1584.09,'kJ/mol'), S298=(751.842,'J/(mol*K)'), Cp0=(33.2579,'J/(mol*K)'), CpInf=(295.164,'J/(mol*K)'), comment=\"\"\"Thermo group additivity estimation: group(O2s-CsCs) + group(CsC2sFFF) + longDistanceInteraction_noncyclic(Cs(F)3-R-Cs(F)3) + group(CsC2sFFF) + longDistanceInteraction_noncyclic(Cs(F)3-R-Cs(F)3) + group(CsJ2_singlet-CsH) + group(COFFO)\"\"\").\n",
      "The thermo for this species is probably wrong! Setting CpInf = Cphigh for Entropy calculationat T = 1666.6666666666665 K...\n",
      "WARNING:root:Cphigh is above the theoretical CpInf value for ThermoData object\n",
      "ThermoData(Tdata=([300,400,500,600,800,1000,1500],'K'), Cpdata=([229.706,264.702,288.986,307.228,335.031,355.364,371.101],'J/(mol*K)'), H298=(-2033.37,'kJ/mol'), S298=(829.768,'J/(mol*K)'), Cp0=(33.2579,'J/(mol*K)'), CpInf=(365.837,'J/(mol*K)'), comment=\"\"\"Thermo group additivity estimation: group(O2s-CsCs) + group(CsCCFF) + group(CsCsFFF) + longDistanceInteraction_noncyclic(Cs(F)3-Cs(F)2) + group(CsC2sFFF) + longDistanceInteraction_noncyclic(Cs(F)3-R-Cs(F)2) + group(CsJ2_singlet-CsH) + group(COFFO)\"\"\").\n",
      "The thermo for this species is probably wrong! Setting CpInf = Cphigh for Entropy calculationat T = 2000.0 K...\n",
      "WARNING:root:Cphigh is above the theoretical CpInf value for ThermoData object\n",
      "ThermoData(Tdata=([300,400,500,600,800,1000,1500],'K'), Cpdata=([229.706,264.702,288.986,307.228,335.031,355.364,371.101],'J/(mol*K)'), H298=(-2033.37,'kJ/mol'), S298=(829.768,'J/(mol*K)'), Cp0=(33.2579,'J/(mol*K)'), CpInf=(365.837,'J/(mol*K)'), comment=\"\"\"Thermo group additivity estimation: group(O2s-CsCs) + group(CsCCFF) + group(CsCsFFF) + longDistanceInteraction_noncyclic(Cs(F)3-Cs(F)2) + group(CsC2sFFF) + longDistanceInteraction_noncyclic(Cs(F)3-R-Cs(F)2) + group(CsJ2_singlet-CsH) + group(COFFO)\"\"\").\n",
      "The thermo for this species is probably wrong! Setting CpInf = Cphigh for Entropy calculationat T = 1666.6666666666665 K...\n"
     ]
    },
    {
     "name": "stdout",
     "output_type": "stream",
     "text": [
      "1.520122766494751\n"
     ]
    }
   ],
   "source": [
    "start = time.time()\n",
    "templateRxnMap = family.get_reaction_matches(thermo_database=database.thermo,remove_degeneracy=True,\n",
    "                                             get_reverse=True,exact_matches_only=False,fix_labels=True)\n",
    "end = time.time()\n",
    "print(end-start)"
   ]
  },
  {
   "cell_type": "code",
   "execution_count": 14,
   "metadata": {},
   "outputs": [
    {
     "data": {
      "text/plain": [
       "56"
      ]
     },
     "execution_count": 14,
     "metadata": {},
     "output_type": "execute_result"
    }
   ],
   "source": [
    "len(templateRxnMap)"
   ]
  },
  {
   "cell_type": "code",
   "execution_count": 15,
   "metadata": {},
   "outputs": [],
   "source": [
    "family.clean_tree_rules()"
   ]
  },
  {
   "cell_type": "code",
   "execution_count": 16,
   "metadata": {},
   "outputs": [
    {
     "name": "stderr",
     "output_type": "stream",
     "text": [
      "/home/khalil.nor/Code/RMG-Py/rmgpy/data/kinetics/family.py:3620: VisibleDeprecationWarning: Creating an ndarray from ragged nested sequences (which is a list-or-tuple of lists-or-tuples-or ndarrays with different lengths or shapes) is deprecated. If you meant to do this, you must specify 'dtype=object' when creating the ndarray.\n",
      "  for rxns, label in rxnlists])\n",
      "/work/westgroup/nora/miniconda/envs/rmg_env/lib/python3.7/site-packages/scipy/optimize/minpack.py:834: OptimizeWarning: Covariance of the parameters could not be estimated\n",
      "  category=OptimizeWarning)\n"
     ]
    },
    {
     "name": "stdout",
     "output_type": "stream",
     "text": [
      "1.9915597438812256\n"
     ]
    }
   ],
   "source": [
    "start = time.time()\n",
    "family.make_bm_rules_from_template_rxn_map(templateRxnMap)#,nprocs=6)\n",
    "end = time.time()\n",
    "print(end-start)"
   ]
  },
  {
   "cell_type": "code",
   "execution_count": 17,
   "metadata": {},
   "outputs": [
    {
     "name": "stdout",
     "output_type": "stream",
     "text": [
      "0.009530305862426758\n"
     ]
    }
   ],
   "source": [
    "start = time.time()\n",
    "family.check_tree()\n",
    "end = time.time()\n",
    "print(end-start)"
   ]
  },
  {
   "cell_type": "code",
   "execution_count": 18,
   "metadata": {},
   "outputs": [
    {
     "name": "stderr",
     "output_type": "stream",
     "text": [
      "WARNING:root:Cphigh is above the theoretical CpInf value for ThermoData object\n",
      "ThermoData(Tdata=([300,400,500,600,800,1000,1500],'K'), Cpdata=([181.425,211.751,232.143,247.468,271.725,290.011,303.982],'J/(mol*K)'), H298=(-1584.09,'kJ/mol'), S298=(751.842,'J/(mol*K)'), Cp0=(33.2579,'J/(mol*K)'), CpInf=(295.164,'J/(mol*K)'), comment=\"\"\"Thermo group additivity estimation: group(O2s-CsCs) + group(CsC2sFFF) + longDistanceInteraction_noncyclic(Cs(F)3-R-Cs(F)3) + group(CsC2sFFF) + longDistanceInteraction_noncyclic(Cs(F)3-R-Cs(F)3) + group(CsJ2_singlet-CsH) + group(COFFO)\"\"\").\n",
      "The thermo for this species is probably wrong! Setting CpInf = Cphigh for Entropy calculationat T = 2000.0 K...\n",
      "WARNING:root:Cphigh is above the theoretical CpInf value for ThermoData object\n",
      "ThermoData(Tdata=([300,400,500,600,800,1000,1500],'K'), Cpdata=([181.425,211.751,232.143,247.468,271.725,290.011,303.982],'J/(mol*K)'), H298=(-1584.09,'kJ/mol'), S298=(751.842,'J/(mol*K)'), Cp0=(33.2579,'J/(mol*K)'), CpInf=(295.164,'J/(mol*K)'), comment=\"\"\"Thermo group additivity estimation: group(O2s-CsCs) + group(CsC2sFFF) + longDistanceInteraction_noncyclic(Cs(F)3-R-Cs(F)3) + group(CsC2sFFF) + longDistanceInteraction_noncyclic(Cs(F)3-R-Cs(F)3) + group(CsJ2_singlet-CsH) + group(COFFO)\"\"\").\n",
      "The thermo for this species is probably wrong! Setting CpInf = Cphigh for Entropy calculationat T = 1666.6666666666665 K...\n",
      "WARNING:root:Cphigh is above the theoretical CpInf value for ThermoData object\n",
      "ThermoData(Tdata=([300,400,500,600,800,1000,1500],'K'), Cpdata=([229.706,264.702,288.986,307.228,335.031,355.364,371.101],'J/(mol*K)'), H298=(-2033.37,'kJ/mol'), S298=(829.768,'J/(mol*K)'), Cp0=(33.2579,'J/(mol*K)'), CpInf=(365.837,'J/(mol*K)'), comment=\"\"\"Thermo group additivity estimation: group(O2s-CsCs) + group(CsCCFF) + group(CsCsFFF) + longDistanceInteraction_noncyclic(Cs(F)3-Cs(F)2) + group(CsC2sFFF) + longDistanceInteraction_noncyclic(Cs(F)3-R-Cs(F)2) + group(CsJ2_singlet-CsH) + group(COFFO)\"\"\").\n",
      "The thermo for this species is probably wrong! Setting CpInf = Cphigh for Entropy calculationat T = 2000.0 K...\n",
      "WARNING:root:Cphigh is above the theoretical CpInf value for ThermoData object\n",
      "ThermoData(Tdata=([300,400,500,600,800,1000,1500],'K'), Cpdata=([229.706,264.702,288.986,307.228,335.031,355.364,371.101],'J/(mol*K)'), H298=(-2033.37,'kJ/mol'), S298=(829.768,'J/(mol*K)'), Cp0=(33.2579,'J/(mol*K)'), CpInf=(365.837,'J/(mol*K)'), comment=\"\"\"Thermo group additivity estimation: group(O2s-CsCs) + group(CsCCFF) + group(CsCsFFF) + longDistanceInteraction_noncyclic(Cs(F)3-Cs(F)2) + group(CsC2sFFF) + longDistanceInteraction_noncyclic(Cs(F)3-R-Cs(F)2) + group(CsJ2_singlet-CsH) + group(COFFO)\"\"\").\n",
      "The thermo for this species is probably wrong! Setting CpInf = Cphigh for Entropy calculationat T = 1666.6666666666665 K...\n"
     ]
    },
    {
     "name": "stdout",
     "output_type": "stream",
     "text": [
      "1.8798112869262695\n"
     ]
    },
    {
     "name": "stderr",
     "output_type": "stream",
     "text": [
      "/work/westgroup/nora/miniconda/envs/rmg_env/lib/python3.7/site-packages/scipy/optimize/minpack.py:834: OptimizeWarning: Covariance of the parameters could not be estimated\n",
      "  category=OptimizeWarning)\n"
     ]
    }
   ],
   "source": [
    "start = time.time()\n",
    "errors,uncertainties = family.cross_validate(iters=0,random_state=5,folds=0,ascend=False)\n",
    "end = time.time()\n",
    "print(end-start)"
   ]
  },
  {
   "cell_type": "code",
   "execution_count": 19,
   "metadata": {},
   "outputs": [
    {
     "name": "stdout",
     "output_type": "stream",
     "text": [
      "/home/khalil.nor/Code/RMG-database/input/kinetics/families/1,3_sigmatropic_rearrangement\n"
     ]
    }
   ],
   "source": [
    "save_path = os.path.join(settings['database.directory'], 'kinetics', 'families', family.name)\n",
    "print(save_path)"
   ]
  },
  {
   "cell_type": "code",
   "execution_count": 20,
   "metadata": {},
   "outputs": [],
   "source": [
    "family.save(save_path)"
   ]
  },
  {
   "cell_type": "code",
   "execution_count": null,
   "metadata": {},
   "outputs": [],
   "source": []
  },
  {
   "cell_type": "code",
   "execution_count": null,
   "metadata": {},
   "outputs": [],
   "source": [
    "#ran to completion on Apr 30th, 2:45 pm "
   ]
  },
  {
   "cell_type": "code",
   "execution_count": null,
   "metadata": {},
   "outputs": [],
   "source": []
  },
  {
   "cell_type": "code",
   "execution_count": null,
   "metadata": {},
   "outputs": [],
   "source": []
  },
  {
   "cell_type": "code",
   "execution_count": null,
   "metadata": {},
   "outputs": [],
   "source": [
    "plt.figure(figsize=(10,8))\n",
    "plt.hist(np.abs(list(errors.values())),bins=30, density=True)\n",
    "plt.title('Decision Tree Estimator',fontsize=18)\n",
    "#plt.ylim(0,.4)\n",
    "plt.xlim(0,15)\n",
    "plt.ylabel('Probability density',fontsize=18)\n",
    "plt.xlabel(r'$|Ln(k_{est}/k_{rxn})|$',fontsize=18)"
   ]
  }
 ],
 "metadata": {
  "@webio": {
   "lastCommId": null,
   "lastKernelId": null
  },
  "kernelspec": {
   "display_name": "rmg_env",
   "language": "python",
   "name": "rmg_env"
  },
  "language_info": {
   "codemirror_mode": {
    "name": "ipython",
    "version": 3
   },
   "file_extension": ".py",
   "mimetype": "text/x-python",
   "name": "python",
   "nbconvert_exporter": "python",
   "pygments_lexer": "ipython3",
   "version": "3.7.16"
  }
 },
 "nbformat": 4,
 "nbformat_minor": 4
}
