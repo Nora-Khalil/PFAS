{
 "cells": [
  {
   "cell_type": "code",
   "execution_count": 1,
   "metadata": {
    "scrolled": true
   },
   "outputs": [],
   "source": [
    "import rmgpy\n",
    "import numpy as np\n",
    "from rmgpy.molecule.molecule import *\n",
    "from rmgpy.species import *\n",
    "from rmgpy.chemkin import *\n",
    "from rmgpy.data.rmg import RMGDatabase\n",
    "from IPython.display import display\n",
    "from rmgpy.data.thermo import ThermoLibrary\n",
    "from rmgpy.rmg.react import react\n",
    "from rmgpy.species import Species\n",
    "from rmgpy.reaction import Reaction\n",
    "from rmgpy.data.rmg import get_db\n",
    "from rmgpy.molecule.group import Group\n",
    "from rmgpy.kinetics.arrhenius import ArrheniusBM\n",
    "from rmgpy import settings\n",
    "import time\n",
    "import matplotlib.pyplot as plt\n",
    "import matplotlib"
   ]
  },
  {
   "cell_type": "code",
   "execution_count": 2,
   "metadata": {},
   "outputs": [
    {
     "data": {
      "text/plain": [
       "{'database.directory': '/home/khalil.nor/Code/RMG-database/input',\n",
       " 'test_data.directory': '/home/khalil.nor/Code/RMG-Py/rmgpy/test_data'}"
      ]
     },
     "execution_count": 2,
     "metadata": {},
     "output_type": "execute_result"
    }
   ],
   "source": [
    "settings"
   ]
  },
  {
   "cell_type": "code",
   "execution_count": null,
   "metadata": {},
   "outputs": [],
   "source": [
    "#these families just had training rxns added to them \n",
    "\n",
    "#dict_keys(['1,2_Insertion_carbene', 'R_Addition_MultipleBond', 'XY_Addition_MultipleBond', 'Singlet_Carbene_Intra_Disproportionation', '1,2_Insertion_CO', '1+2_Cycloaddition', '1,3_Insertion_CO2', '1,3_sigmatropic_rearrangement'])"
   ]
  },
  {
   "cell_type": "code",
   "execution_count": 3,
   "metadata": {},
   "outputs": [],
   "source": [
    "thermo_libs = [\n",
    "'C1_C2_Fluorine', #adding Siddha's as first most trusted because this is the thermo library that Franklin used\n",
    "'NCSU_C2_C8_PFAS', #adding Westmoreland's thermo as the second most trusted\n",
    "'primaryThermoLibrary',\n",
    "'Fluorine',\n",
    "'FFCM1(-)',\n",
    "'halogens',\n",
    "'CHOF_G4',\n",
    "'CHOCl_G4',\n",
    "'CHOBr_G4',\n",
    "'CHOFCl_G4',\n",
    "'CHOFBr_G4',\n",
    "'CHOFClBr_G4',\n",
    "'DFT_QCI_thermo',\n",
    "'2-BTP_G4',\n",
    "'thermo_DFT_CCSDTF12_BAC',\n",
    "'SulfurHaynes'\n",
    "]\n",
    "\n",
    "kin_families = ['R_Recombination', '1,2_Insertion_carbene', 'F_Abstraction', 'R_Addition_MultipleBond', 'XY_Addition_MultipleBond', 'Singlet_Carbene_Intra_Disproportionation', 'Intra_R_Add_Endocyclic', 'R_Addition_COm', '1,2_Insertion_CO', '1+2_Cycloaddition', '1,3_Insertion_CO2', '1,3_sigmatropic_rearrangement']\n"
   ]
  },
  {
   "cell_type": "code",
   "execution_count": 4,
   "metadata": {
    "scrolled": true
   },
   "outputs": [
    {
     "name": "stdout",
     "output_type": "stream",
     "text": [
      "1 *1 R u0 {2,[D,T]}\n",
      "2 *2 R u0 {1,[D,T]}\n",
      "3 *3 R u0 p[1,2,3]\n",
      "\n",
      "1 *2 [H,Cs,Cd,Cb,Ct,CO,O,Sis,Sid,N,S]              u0 {2,S}\n",
      "2 *3 [H,F1s,Cl1s,Br1s,I1s,Cs,Cd,Cb,Ct,Sis,Sid,N,S] u0 {1,S}\n",
      "3 *1 C                                             u0 p1 c-1 {4,T}\n",
      "4 *4 [O,S]                                         u0 p1 c+1 {3,T}\n",
      "\n",
      "1 *1 C2s                                             u0 p1 {2,S} {3,S}\n",
      "2    [H,F1s,Cl1s,Br1s,I1s]                           u0 {1,S}\n",
      "3    [H,F1s,Cl1s,Br1s,I1s,C]                         u0 {1,S}\n",
      "4 *2 [H,F1s,Cl1s,Br1s,I1s,Cs,Cd,Cb,Ct,O,Sis,Sid,N,S] u0 {5,S}\n",
      "5 *3 [H,F1s,Cl1s,Br1s,I1s,Cs,Cd,Cb,Ct,Sis,Sid,N,S]   u0 {4,S}\n",
      "\n",
      "1 *1 Cdd       u0 {2,D} {3,D}\n",
      "2 *2 [O2d,S2d] u0 {1,D}\n",
      "3    [O2d,S2d] u0 {1,D}\n",
      "4 *3 R         u0 {5,S}\n",
      "5 *4 R         u0 {4,S}\n",
      "\n",
      "1 *2 R!H u0 {2,[S,D,T,B]} {3,[D,T,B]}\n",
      "2 *1 R!H u1 {1,[S,D,T,B]}\n",
      "3 *3 R!H u0 c0 {1,[D,T,B]}\n",
      "\n",
      "1 *4 R!H ux {2,[S,D,T,B]} {3,[S,D,T,B]}\n",
      "2 *2 R!H u0 {1,[S,D,T,B]} {4,[D,T,B]}\n",
      "3 *1 R!H u1 {1,[S,D,T,B]}\n",
      "4 *3 R!H u0 c0 {2,[D,T,B]}\n",
      "\n",
      "1 *5 R!H ux {2,[S,D,T,B]} {3,[S,D,T,B]}\n",
      "2 *4 R!H ux {1,[S,D,T,B]} {4,[S,D,T,B]}\n",
      "3 *2 R!H u0 {1,[S,D,T,B]} {5,[D,T,B]}\n",
      "4 *1 R!H u1 {2,[S,D,T,B]}\n",
      "5 *3 R!H u0 c0 {3,[D,T,B]}\n",
      "\n",
      "1 *6 R!H ux {2,[S,D,T,B]} {3,[S,D,T,B]}\n",
      "2 *5 R!H ux {1,[S,D,T,B]} {4,[S,D,T,B]}\n",
      "3 *4 R!H ux {1,[S,D,T,B]} {5,[S,D,T,B]}\n",
      "4 *2 R!H u0 {2,[S,D,T,B]} {6,[D,T,B]}\n",
      "5 *1 R!H u1 {3,[S,D,T,B]}\n",
      "6 *3 R!H u0 c0 {4,[D,T,B]}\n",
      "\n",
      "1 *7 R!H ux {2,[S,D,T,B]} {3,[S,D,T,B]}\n",
      "2 *6 R!H ux {1,[S,D,T,B]} {4,[S,D,T,B]}\n",
      "3 *5 R!H ux {1,[S,D,T,B]} {5,[S,D,T,B]}\n",
      "4 *4 R!H ux {2,[S,D,T,B]} {6,[S,D,T,B]}\n",
      "5 *2 R!H u0 {3,[S,D,T,B]} {7,[D,T,B]}\n",
      "6 *1 R!H u1 {4,[S,D,T,B]}\n",
      "7 *3 R!H u0 c0 {5,[D,T,B]}\n",
      "\n",
      "1 *7 R!H ux {2,[S,D,T,B]} {3,[S,D,T,B]}\n",
      "2 *8 R!H ux {1,[S,D,T,B]} {4,[S,D,T,B]}\n",
      "3 *6 R!H ux {1,[S,D,T,B]} {5,[S,D,T,B]}\n",
      "4 *5 R!H ux {2,[S,D,T,B]} {6,[S,D,T,B]}\n",
      "5 *4 R!H ux {3,[S,D,T,B]} {7,[S,D,T,B]}\n",
      "6 *2 R!H u0 {4,[S,D,T,B]} {8,[D,T,B]}\n",
      "7 *1 R!H u1 {5,[S,D,T,B]}\n",
      "8 *3 R!H u0 c0 {6,[D,T,B]}\n",
      "\n",
      "1 *7 R!H ux {2,[S,D,T,B]} {4,[S,D,T,B]}\n",
      "2 *8 R!H ux {1,[S,D,T,B]} {3,[S,D,T,B]}\n",
      "3 *9 R!H ux {2,[S,D,T,B]} {5,[S,D,T,B]}\n",
      "4 *6 R!H ux {1,[S,D,T,B]} {6,[S,D,T,B]}\n",
      "5 *5 R!H ux {3,[S,D,T,B]} {7,[S,D,T,B]}\n",
      "6 *4 R!H ux {4,[S,D,T,B]} {8,[S,D,T,B]}\n",
      "7 *2 R!H u0 {5,[S,D,T,B]} {9,[D,T,B]}\n",
      "8 *1 R!H u1 {6,[S,D,T,B]}\n",
      "9 *3 R!H u0 c0 {7,[D,T,B]}\n",
      "\n",
      "1  *7  R!H ux {2,[S,D,T,B]} {5,[S,D,T,B]}\n",
      "2  *8  R!H ux {1,[S,D,T,B]} {3,[S,D,T,B]}\n",
      "3  *9  R!H ux {2,[S,D,T,B]} {4,[S,D,T,B]}\n",
      "4  *10 R!H ux {3,[S,D,T,B]} {6,[S,D,T,B]}\n",
      "5  *6  R!H ux {1,[S,D,T,B]} {7,[S,D,T,B]}\n",
      "6  *5  R!H ux {4,[S,D,T,B]} {8,[S,D,T,B]}\n",
      "7  *4  R!H ux {5,[S,D,T,B]} {9,[S,D,T,B]}\n",
      "8  *2  R!H u0 {6,[S,D,T,B]} {10,[D,T,B]}\n",
      "9  *1  R!H u1 {7,[S,D,T,B]}\n",
      "10 *3  R!H u0 c0 {8,[D,T,B]}\n",
      "\n",
      "1  *7  R!H ux {2,[S,D,T,B]} {6,[S,D,T,B]}\n",
      "2  *8  R!H ux {1,[S,D,T,B]} {3,[S,D,T,B]}\n",
      "3  *9  R!H ux {2,[S,D,T,B]} {4,[S,D,T,B]}\n",
      "4  *10 R!H ux {3,[S,D,T,B]} {5,[S,D,T,B]}\n",
      "5  *11 R!H ux {4,[S,D,T,B]} {7,[S,D,T,B]}\n",
      "6  *6  R!H ux {1,[S,D,T,B]} {8,[S,D,T,B]}\n",
      "7  *5  R!H ux {5,[S,D,T,B]} {9,[S,D,T,B]}\n",
      "8  *4  R!H ux {6,[S,D,T,B]} {10,[S,D,T,B]}\n",
      "9  *2  R!H u0 {7,[S,D,T,B]} {11,[D,T,B]}\n",
      "10 *1  R!H u1 {8,[S,D,T,B]}\n",
      "11 *3  R!H u0 c0 {9,[D,T,B]}\n",
      "\n",
      "1  *7  R!H ux {2,[S,D,T,B]} {7,[S,D,T,B]}\n",
      "2  *8  R!H ux {1,[S,D,T,B]} {3,[S,D,T,B]}\n",
      "3  *9  R!H ux {2,[S,D,T,B]} {4,[S,D,T,B]}\n",
      "4  *10 R!H ux {3,[S,D,T,B]} {5,[S,D,T,B]}\n",
      "5  *11 R!H ux {4,[S,D,T,B]} {6,[S,D,T,B]}\n",
      "6  *12 R!H ux {5,[S,D,T,B]} {8,[S,D,T,B]}\n",
      "7  *6  R!H ux {1,[S,D,T,B]} {9,[S,D,T,B]}\n",
      "8  *5  R!H ux {6,[S,D,T,B]} {10,[S,D,T,B]}\n",
      "9  *4  R!H ux {7,[S,D,T,B]} {11,[S,D,T,B]}\n",
      "10 *2  R!H u0 {8,[S,D,T,B]} {12,[D,T,B]}\n",
      "11 *1  R!H u1 {9,[S,D,T,B]}\n",
      "12 *3  R!H u0 c0 {10,[D,T,B]}\n",
      "\n",
      "1  *7  R!H ux {2,[S,D,T,B]} {8,[S,D,T,B]}\n",
      "2  *8  R!H ux {1,[S,D,T,B]} {3,[S,D,T,B]}\n",
      "3  *9  R!H ux {2,[S,D,T,B]} {4,[S,D,T,B]}\n",
      "4  *10 R!H ux {3,[S,D,T,B]} {5,[S,D,T,B]}\n",
      "5  *11 R!H ux {4,[S,D,T,B]} {6,[S,D,T,B]}\n",
      "6  *12 R!H ux {5,[S,D,T,B]} {7,[S,D,T,B]}\n",
      "7  *13 R!H ux {6,[S,D,T,B]} {9,[S,D,T,B]}\n",
      "8  *6  R!H ux {1,[S,D,T,B]} {10,[S,D,T,B]}\n",
      "9  *5  R!H ux {7,[S,D,T,B]} {11,[S,D,T,B]}\n",
      "10 *4  R!H ux {8,[S,D,T,B]} {12,[S,D,T,B]}\n",
      "11 *2  R!H u0 {9,[S,D,T,B]} {13,[D,T,B]}\n",
      "12 *1  R!H u1 {10,[S,D,T,B]}\n",
      "13 *3  R!H u0 c0 {11,[D,T,B]}\n",
      "\n",
      "1 *1 C2tc u0 p1 c-1 {2,T}\n",
      "2 *3 O4tc u0 p1 c+1 {1,T}\n",
      "3 *2 R    u1\n",
      "\n",
      "1 *1 R!H u0         {2,[D,T,B]}\n",
      "2 *2 R!H u0         {1,[D,T,B]}\n",
      "3 *3 R   u[1,2,3,4]\n",
      "\n",
      "1 * R u1\n",
      "2 * R u1\n",
      "\n",
      "1 *2 C                 u0 {2,S} {3,[S,D]}\n",
      "2 *3 [H,F1s,Cl1s,Br1s] u0 {1,S}\n",
      "3 *1 C                 u0 p1 c0 {1,[S,D]}\n",
      "\n",
      "1 *3 [H,F1s,Cl1s,Br1s]  u0 {2,S}\n",
      "2 *4 [F1s,Cl1s,Br1s]    u0 {1,S}\n",
      "3 *1 [Cd,Cdd,Ct,CO,O2d] u0 {4,[D,T]}\n",
      "4 *2 [Cd,Cdd,Ct,CO,O2d] u0 {3,[D,T]}\n",
      "\n"
     ]
    }
   ],
   "source": [
    "database = RMGDatabase()\n",
    "database.load(\n",
    "            path = settings['database.directory'],\n",
    "            thermo_libraries = thermo_libs,\n",
    "            transport_libraries = [],\n",
    "            reaction_libraries = [],\n",
    "            seed_mechanisms = [],#['BurkeH2O2inN2','ERC-FoundationFuelv0.9'],\n",
    "            kinetics_families = kin_families,\n",
    "            kinetics_depositories = ['training'],\n",
    "            #frequenciesLibraries = self.statmechLibraries,\n",
    "            depository = False, # Don't bother loading the depository information, as we don't use it\n",
    "        )\n"
   ]
  },
  {
   "cell_type": "code",
   "execution_count": 5,
   "metadata": {},
   "outputs": [
    {
     "data": {
      "text/plain": [
       "{'1+2_Cycloaddition': <ReactionFamily \"1+2_Cycloaddition\">,\n",
       " '1,2_Insertion_CO': <ReactionFamily \"1,2_Insertion_CO\">,\n",
       " '1,2_Insertion_carbene': <ReactionFamily \"1,2_Insertion_carbene\">,\n",
       " '1,3_Insertion_CO2': <ReactionFamily \"1,3_Insertion_CO2\">,\n",
       " '1,3_sigmatropic_rearrangement': <ReactionFamily \"1,3_sigmatropic_rearrangement\">,\n",
       " 'F_Abstraction': <ReactionFamily \"F_Abstraction\">,\n",
       " 'Intra_R_Add_Endocyclic': <ReactionFamily \"Intra_R_Add_Endocyclic\">,\n",
       " 'R_Addition_COm': <ReactionFamily \"R_Addition_COm\">,\n",
       " 'R_Addition_MultipleBond': <ReactionFamily \"R_Addition_MultipleBond\">,\n",
       " 'R_Recombination': <ReactionFamily \"R_Recombination\">,\n",
       " 'Singlet_Carbene_Intra_Disproportionation': <ReactionFamily \"Singlet_Carbene_Intra_Disproportionation\">,\n",
       " 'XY_Addition_MultipleBond': <ReactionFamily \"XY_Addition_MultipleBond\">}"
      ]
     },
     "execution_count": 5,
     "metadata": {},
     "output_type": "execute_result"
    }
   ],
   "source": [
    "database.kinetics.families"
   ]
  },
  {
   "cell_type": "code",
   "execution_count": 6,
   "metadata": {},
   "outputs": [],
   "source": [
    "# '1+2_Cycloaddition' \n",
    "family_to_train = \"1+2_Cycloaddition\"\n",
    "family = database.kinetics.families[family_to_train]"
   ]
  },
  {
   "cell_type": "code",
   "execution_count": 7,
   "metadata": {},
   "outputs": [],
   "source": [
    "family.clean_tree()"
   ]
  },
  {
   "cell_type": "code",
   "execution_count": 8,
   "metadata": {},
   "outputs": [
    {
     "name": "stderr",
     "output_type": "stream",
     "text": [
      "ERROR:root:20.0\n"
     ]
    },
    {
     "name": "stdout",
     "output_type": "stream",
     "text": [
      "156.510822057724\n"
     ]
    }
   ],
   "source": [
    "start = time.time()\n",
    "family.generate_tree(thermo_database=database.thermo,\n",
    "                     nprocs=1,\n",
    "                     new_fraction_threshold_to_reopt_node=0.25,\n",
    "                     max_batch_size=800,\n",
    "                     extension_iter_max=2,\n",
    "                     extension_iter_item_cap=100)\n",
    "\n",
    "end = time.time()\n",
    "print(end-start)"
   ]
  },
  {
   "cell_type": "code",
   "execution_count": 9,
   "metadata": {},
   "outputs": [
    {
     "data": {
      "text/plain": [
       "29"
      ]
     },
     "execution_count": 9,
     "metadata": {},
     "output_type": "execute_result"
    }
   ],
   "source": [
    "len(family.groups.entries)"
   ]
  },
  {
   "cell_type": "code",
   "execution_count": 10,
   "metadata": {},
   "outputs": [
    {
     "data": {
      "text/plain": [
       "{'cycle': <Entry index=-1 label=\"cycle\">,\n",
       " 'Root': <Entry index=0 label=\"Root\">,\n",
       " 'Root_Ext-3R-R': <Entry index=1 label=\"Root_Ext-3R-R\">,\n",
       " 'Root_Ext-1R-R': <Entry index=2 label=\"Root_Ext-1R-R\">,\n",
       " 'Root_Ext-2R-R': <Entry index=3 label=\"Root_Ext-2R-R\">,\n",
       " 'Root_Sp-2R=1R': <Entry index=4 label=\"Root_Sp-2R=1R\">,\n",
       " 'Root_N-Sp-2R=1R': <Entry index=5 label=\"Root_N-Sp-2R=1R\">,\n",
       " 'Root_Ext-3R-R_4R!H->F': <Entry index=6 label=\"Root_Ext-3R-R_4R!H->F\">,\n",
       " 'Root_Ext-3R-R_N-4R!H->F': <Entry index=7 label=\"Root_Ext-3R-R_N-4R!H->F\">,\n",
       " 'Root_Ext-1R-R_Ext-1R-R': <Entry index=8 label=\"Root_Ext-1R-R_Ext-1R-R\">,\n",
       " 'Root_Ext-1R-R_Sp-2R=1R': <Entry index=9 label=\"Root_Ext-1R-R_Sp-2R=1R\">,\n",
       " 'Root_Ext-1R-R_N-Sp-2R=1R': <Entry index=10 label=\"Root_Ext-1R-R_N-Sp-2R=1R\">,\n",
       " 'Root_Ext-2R-R_3R->C': <Entry index=11 label=\"Root_Ext-2R-R_3R->C\">,\n",
       " 'Root_Ext-2R-R_N-3R->C': <Entry index=12 label=\"Root_Ext-2R-R_N-3R->C\">,\n",
       " 'Root_Sp-2R=1R_3R->C': <Entry index=13 label=\"Root_Sp-2R=1R_3R->C\">,\n",
       " 'Root_Sp-2R=1R_N-3R->C': <Entry index=14 label=\"Root_Sp-2R=1R_N-3R->C\">,\n",
       " 'Root_Ext-3R-R_4R!H->F_Ext-1R-R': <Entry index=15 label=\"Root_Ext-3R-R_4R!H->F_Ext-1R-R\">,\n",
       " 'Root_Ext-3R-R_4R!H->F_Ext-2R-R': <Entry index=16 label=\"Root_Ext-3R-R_4R!H->F_Ext-2R-R\">,\n",
       " 'Root_Ext-3R-R_4R!H->F_2R->C': <Entry index=17 label=\"Root_Ext-3R-R_4R!H->F_2R->C\">,\n",
       " 'Root_Ext-3R-R_4R!H->F_N-2R->C': <Entry index=18 label=\"Root_Ext-3R-R_4R!H->F_N-2R->C\">,\n",
       " 'Root_Ext-3R-R_N-4R!H->F_4BrCClINOPSSi->Br': <Entry index=19 label=\"Root_Ext-3R-R_N-4R!H->F_4BrCClINOPSSi->Br\">,\n",
       " 'Root_Ext-3R-R_N-4R!H->F_N-4BrCClINOPSSi->Br': <Entry index=20 label=\"Root_Ext-3R-R_N-4R!H->F_N-4BrCClINOPSSi->Br\">,\n",
       " 'Root_Ext-1R-R_Sp-2R=1R_Ext-2R-R': <Entry index=21 label=\"Root_Ext-1R-R_Sp-2R=1R_Ext-2R-R\">,\n",
       " 'Root_Ext-1R-R_N-Sp-2R=1R_Ext-2R-R': <Entry index=22 label=\"Root_Ext-1R-R_N-Sp-2R=1R_Ext-2R-R\">,\n",
       " 'Root_Ext-2R-R_3R->C_Ext-4R!H-R': <Entry index=23 label=\"Root_Ext-2R-R_3R->C_Ext-4R!H-R\">,\n",
       " 'Root_Ext-2R-R_N-3R->C_Ext-2R-R': <Entry index=24 label=\"Root_Ext-2R-R_N-3R->C_Ext-2R-R\">,\n",
       " 'Root_Ext-3R-R_4R!H->F_Ext-1R-R_Ext-1R-R': <Entry index=25 label=\"Root_Ext-3R-R_4R!H->F_Ext-1R-R_Ext-1R-R\">,\n",
       " 'Root_Ext-3R-R_4R!H->F_Ext-1R-R_Ext-3R-R_6R!H->C': <Entry index=26 label=\"Root_Ext-3R-R_4R!H->F_Ext-1R-R_Ext-3R-R_6R!H->C\">,\n",
       " 'Root_Ext-3R-R_4R!H->F_Ext-1R-R_Ext-3R-R_N-6R!H->C': <Entry index=27 label=\"Root_Ext-3R-R_4R!H->F_Ext-1R-R_Ext-3R-R_N-6R!H->C\">}"
      ]
     },
     "execution_count": 10,
     "metadata": {},
     "output_type": "execute_result"
    }
   ],
   "source": [
    "family.groups.entries"
   ]
  },
  {
   "cell_type": "code",
   "execution_count": 11,
   "metadata": {},
   "outputs": [
    {
     "name": "stdout",
     "output_type": "stream",
     "text": [
      "0.0014500617980957031\n"
     ]
    }
   ],
   "source": [
    "start = time.time()\n",
    "family.check_tree()\n",
    "end = time.time()\n",
    "print(end-start)"
   ]
  },
  {
   "cell_type": "code",
   "execution_count": 12,
   "metadata": {},
   "outputs": [
    {
     "name": "stdout",
     "output_type": "stream",
     "text": [
      "0.35456228256225586\n"
     ]
    }
   ],
   "source": [
    "start = time.time()\n",
    "family.regularize(thermo_database=database.thermo)\n",
    "end = time.time()\n",
    "print(end-start)"
   ]
  },
  {
   "cell_type": "code",
   "execution_count": 13,
   "metadata": {},
   "outputs": [
    {
     "name": "stdout",
     "output_type": "stream",
     "text": [
      "0.34474730491638184\n"
     ]
    }
   ],
   "source": [
    "start = time.time()\n",
    "templateRxnMap = family.get_reaction_matches(thermo_database=database.thermo,remove_degeneracy=True,\n",
    "                                             get_reverse=True,exact_matches_only=False,fix_labels=True)\n",
    "end = time.time()\n",
    "print(end-start)"
   ]
  },
  {
   "cell_type": "code",
   "execution_count": 14,
   "metadata": {},
   "outputs": [
    {
     "data": {
      "text/plain": [
       "29"
      ]
     },
     "execution_count": 14,
     "metadata": {},
     "output_type": "execute_result"
    }
   ],
   "source": [
    "len(templateRxnMap)"
   ]
  },
  {
   "cell_type": "code",
   "execution_count": 15,
   "metadata": {},
   "outputs": [],
   "source": [
    "family.clean_tree_rules()"
   ]
  },
  {
   "cell_type": "code",
   "execution_count": 16,
   "metadata": {},
   "outputs": [
    {
     "name": "stderr",
     "output_type": "stream",
     "text": [
      "/home/khalil.nor/Code/RMG-Py/rmgpy/data/kinetics/family.py:3640: VisibleDeprecationWarning: Creating an ndarray from ragged nested sequences (which is a list-or-tuple of lists-or-tuples-or ndarrays with different lengths or shapes) is deprecated. If you meant to do this, you must specify 'dtype=object' when creating the ndarray.\n",
      "  for rxns, label in rxnlists])\n",
      "/work/westgroup/nora/miniconda/envs/rmg_env/lib/python3.7/site-packages/numpy/core/fromnumeric.py:3441: RuntimeWarning: Mean of empty slice.\n",
      "  out=out, **kwargs)\n",
      "/work/westgroup/nora/miniconda/envs/rmg_env/lib/python3.7/site-packages/numpy/core/_methods.py:189: RuntimeWarning: invalid value encountered in double_scalars\n",
      "  ret = ret.dtype.type(ret / rcount)\n",
      "/work/westgroup/nora/miniconda/envs/rmg_env/lib/python3.7/site-packages/scipy/optimize/minpack.py:834: OptimizeWarning: Covariance of the parameters could not be estimated\n",
      "  category=OptimizeWarning)\n"
     ]
    },
    {
     "name": "stdout",
     "output_type": "stream",
     "text": [
      "0.4910733699798584\n"
     ]
    }
   ],
   "source": [
    "start = time.time()\n",
    "family.make_bm_rules_from_template_rxn_map(templateRxnMap)#,nprocs=6)\n",
    "end = time.time()\n",
    "print(end-start)"
   ]
  },
  {
   "cell_type": "code",
   "execution_count": 17,
   "metadata": {},
   "outputs": [
    {
     "name": "stdout",
     "output_type": "stream",
     "text": [
      "0.0029611587524414062\n"
     ]
    }
   ],
   "source": [
    "start = time.time()\n",
    "family.check_tree()\n",
    "end = time.time()\n",
    "print(end-start)"
   ]
  },
  {
   "cell_type": "code",
   "execution_count": 18,
   "metadata": {},
   "outputs": [
    {
     "name": "stdout",
     "output_type": "stream",
     "text": [
      "0.45301270484924316\n"
     ]
    },
    {
     "name": "stderr",
     "output_type": "stream",
     "text": [
      "/work/westgroup/nora/miniconda/envs/rmg_env/lib/python3.7/site-packages/scipy/optimize/minpack.py:834: OptimizeWarning: Covariance of the parameters could not be estimated\n",
      "  category=OptimizeWarning)\n"
     ]
    }
   ],
   "source": [
    "start = time.time()\n",
    "errors,uncertainties = family.cross_validate(iters=0,random_state=5,folds=0,ascend=False)\n",
    "end = time.time()\n",
    "print(end-start)"
   ]
  },
  {
   "cell_type": "code",
   "execution_count": 19,
   "metadata": {},
   "outputs": [
    {
     "name": "stdout",
     "output_type": "stream",
     "text": [
      "/home/khalil.nor/Code/RMG-database/input/kinetics/families/1+2_Cycloaddition\n"
     ]
    }
   ],
   "source": [
    "save_path = os.path.join(settings['database.directory'], 'kinetics', 'families', family.name)\n",
    "print(save_path)"
   ]
  },
  {
   "cell_type": "code",
   "execution_count": 20,
   "metadata": {},
   "outputs": [],
   "source": [
    "family.save(save_path)"
   ]
  },
  {
   "cell_type": "code",
   "execution_count": null,
   "metadata": {},
   "outputs": [],
   "source": []
  },
  {
   "cell_type": "code",
   "execution_count": null,
   "metadata": {},
   "outputs": [],
   "source": []
  },
  {
   "cell_type": "code",
   "execution_count": null,
   "metadata": {},
   "outputs": [],
   "source": []
  },
  {
   "cell_type": "code",
   "execution_count": null,
   "metadata": {},
   "outputs": [],
   "source": [
    "# completed on May 13th, 2024 at 1:37 pm "
   ]
  }
 ],
 "metadata": {
  "@webio": {
   "lastCommId": null,
   "lastKernelId": null
  },
  "kernelspec": {
   "display_name": "rmg_env",
   "language": "python",
   "name": "rmg_env"
  },
  "language_info": {
   "codemirror_mode": {
    "name": "ipython",
    "version": 3
   },
   "file_extension": ".py",
   "mimetype": "text/x-python",
   "name": "python",
   "nbconvert_exporter": "python",
   "pygments_lexer": "ipython3",
   "version": "3.7.16"
  }
 },
 "nbformat": 4,
 "nbformat_minor": 4
}
