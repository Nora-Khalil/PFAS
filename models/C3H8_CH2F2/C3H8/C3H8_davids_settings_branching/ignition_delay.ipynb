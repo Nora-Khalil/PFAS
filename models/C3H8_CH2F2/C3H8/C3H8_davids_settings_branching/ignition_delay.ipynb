{
 "cells": [
  {
   "cell_type": "code",
   "execution_count": 1,
   "id": "484cc414-699c-4ffd-948d-4c6fb44623b8",
   "metadata": {},
   "outputs": [],
   "source": [
    "#ignition delay for RMG model of propane \n",
    "import pandas as pd\n",
    "import numpy as np\n",
    "import time\n",
    "import cantera as ct\n",
    "import sys "
   ]
  },
  {
   "cell_type": "code",
   "execution_count": 2,
   "id": "97a8ee58-a130-4145-8ae7-9789271f21c1",
   "metadata": {},
   "outputs": [
    {
     "name": "stdout",
     "output_type": "stream",
     "text": [
      "Runnning Cantera version: 2.5.1\n"
     ]
    }
   ],
   "source": [
    "print(f\"Runnning Cantera version: {ct.__version__}\")\n",
    "\n",
    "#constants\n",
    "pressure = 101325 #Pascals\n",
    "mole_frac_dict = {\"C3H8(1)\": 1, \"O2(2)\": 5, \"Ar\":94} #this technically sets equivalence ratio to 1 \n",
    "#mole_frac_dict_eduardos = {\"C3H8(1)\": 1, \"O2(2)\": 6, \"Ar\":93}\n",
    "\n",
    "def ignition_delay(states, species): \n",
    "    \"\"\"\n",
    "    This function computes the ignition delay from the occurence of the peak in species' concentration\n",
    "    \"\"\"\n",
    "    # pd = states.to_pandas()\n",
    "    # print(pd)\n",
    "    i_ign = states(species).Y.argmax()\n",
    "    return states.t[i_ign]\n",
    "\n",
    "def gas_conditions(temp): \n",
    "    \"\"\"\n",
    "    define gas conditions\n",
    "    \"\"\"\n",
    "    gas.TPX = temp, pressure, mole_frac_dict"
   ]
  },
  {
   "cell_type": "code",
   "execution_count": 5,
   "id": "33858366-b681-4215-800a-c2c03fe87c70",
   "metadata": {},
   "outputs": [
    {
     "name": "stdout",
     "output_type": "stream",
     "text": [
      "Computed Ignition Delay: 6.814e-05 seconds. Took 1.16s to compute\n",
      "Computed Ignition Delay: 7.240e-05 seconds. Took 0.85s to compute\n",
      "Computed Ignition Delay: 7.112e-05 seconds. Took 0.88s to compute\n",
      "Computed Ignition Delay: 7.539e-05 seconds. Took 0.90s to compute\n",
      "Computed Ignition Delay: 8.432e-05 seconds. Took 0.95s to compute\n",
      "Computed Ignition Delay: 9.164e-05 seconds. Took 1.05s to compute\n",
      "Computed Ignition Delay: 1.055e-04 seconds. Took 1.00s to compute\n",
      "Computed Ignition Delay: 1.249e-04 seconds. Took 1.01s to compute\n",
      "Computed Ignition Delay: 1.485e-04 seconds. Took 1.02s to compute\n",
      "Computed Ignition Delay: 1.817e-04 seconds. Took 1.19s to compute\n",
      "Computed Ignition Delay: 2.233e-04 seconds. Took 1.04s to compute\n",
      "Computed Ignition Delay: 2.870e-04 seconds. Took 1.35s to compute\n",
      "Computed Ignition Delay: 3.797e-04 seconds. Took 1.16s to compute\n",
      "Computed Ignition Delay: 5.055e-04 seconds. Took 1.08s to compute\n",
      "Computed Ignition Delay: 6.954e-04 seconds. Took 1.24s to compute\n",
      "Computed Ignition Delay: 9.716e-04 seconds. Took 1.11s to compute\n",
      "Computed Ignition Delay: 1.369e-03 seconds. Took 1.13s to compute\n",
      "Computed Ignition Delay: 1.941e-03 seconds. Took 1.26s to compute\n",
      "Computed Ignition Delay: 2.771e-03 seconds. Took 1.22s to compute\n",
      "Computed Ignition Delay: 3.965e-03 seconds. Took 1.40s to compute\n"
     ]
    }
   ],
   "source": [
    "#to save data\n",
    "taus = []\n",
    "\n",
    "\n",
    "reference_species = \"OH(6)\"\n",
    "\n",
    "x_axis_vals= list(np.linspace(0.55, 0.8, 20))\n",
    "\n",
    "\n",
    "for i in x_axis_vals: \n",
    "        \n",
    "    gas = ct.Solution(\"./cantera/chem_annotated.yaml\")\n",
    "    temp= 1000/i\n",
    "    gas_conditions(temp)\n",
    "    \n",
    "    # Create a batch reactor object and add it to a reactor network\n",
    "    # In this example, the batch reactor will be the only reactor in the network\n",
    "    r = ct.IdealGasReactor(contents=gas, name=\"Batch Reactor\")\n",
    "    reactor_network = ct.ReactorNet([r])\n",
    "    \n",
    "    \n",
    "    # use the above list to create a DataFrame\n",
    "    time_history = ct.SolutionArray(gas, extra=\"t\")\n",
    "\n",
    "    t0 = time.time()\n",
    "    \n",
    "    # This is a starting estimate. If you do not get an ignition within this time, increase it\n",
    "    estimated_ignition_delay_time = 0.4\n",
    "    t = 0\n",
    "\n",
    "    counter = 1\n",
    "    while t < estimated_ignition_delay_time:\n",
    "        t = reactor_network.step()\n",
    "        if not counter % 10:\n",
    "            # We will save only every 10th value. Otherwise, this takes too long\n",
    "            # Note that the species concentrations are mass fractions\n",
    "            time_history.append(r.thermo.state, t=t)\n",
    "        counter += 1\n",
    "\n",
    "    # We will use the 'OH(6)' species to compute the ignition delay\n",
    "    tau = ignition_delay(time_history, reference_species)\n",
    "\n",
    "    # Toc\n",
    "    t1 = time.time()\n",
    "\n",
    "    print(f\"Computed Ignition Delay: {tau:.3e} seconds. Took {t1-t0:3.2f}s to compute\")\n",
    "\n",
    "    #save to large data array\n",
    "    taus.append(tau)\n",
    "    \n",
    "    # If you want to save all the data - molefractions, temperature, pressure, etc\n",
    "    #time_history.to_pandas().to_csv(\"time_history.csv\")\n"
   ]
  },
  {
   "cell_type": "code",
   "execution_count": 48,
   "id": "b28079e4-957c-4280-88cf-820967c17032",
   "metadata": {
    "jupyter": {
     "source_hidden": true
    },
    "tags": []
   },
   "outputs": [],
   "source": [
    "#save to csv file \n",
    "dataframe = pd.DataFrame([x_axis_vals, taus]) \n",
    "dataframe.to_csv('C3H8_ignition_delays_eds_stoic.csv', index=False)"
   ]
  },
  {
   "cell_type": "code",
   "execution_count": 6,
   "id": "e32b983c-122b-4b6a-81bb-b7efa04a54d3",
   "metadata": {},
   "outputs": [],
   "source": [
    "#save to csv file \n",
    "dataframe = pd.DataFrame([x_axis_vals, taus]) \n",
    "dataframe.to_csv('C3H8_ignition_delays.csv', index=False)"
   ]
  },
  {
   "cell_type": "code",
   "execution_count": 7,
   "id": "f56bc5d8-e3b3-40d9-89e5-dd9d351c87c8",
   "metadata": {},
   "outputs": [
    {
     "data": {
      "text/plain": [
       "array([6.81426807e-05, 7.23993438e-05, 7.11177228e-05, 7.53888263e-05,\n",
       "       8.43228954e-05, 9.16356488e-05, 1.05537980e-04, 1.24853045e-04,\n",
       "       1.48472959e-04, 1.81719256e-04, 2.23276796e-04, 2.86987392e-04,\n",
       "       3.79699288e-04, 5.05536773e-04, 6.95442853e-04, 9.71632618e-04,\n",
       "       1.36864714e-03, 1.94134963e-03, 2.77099482e-03, 3.96513719e-03])"
      ]
     },
     "execution_count": 7,
     "metadata": {},
     "output_type": "execute_result"
    }
   ],
   "source": [
    "nora_df = pd.read_csv('/work/westgroup/nora/Code/projects/PFAS/models/C3H8_CH2F2/C3H8/C3H8_davids_settings_branching/C3H8_ignition_delays.csv')\n",
    "nora_df.iloc[1].values"
   ]
  }
 ],
 "metadata": {
  "kernelspec": {
   "display_name": "cantera_env",
   "language": "python",
   "name": "cantera_env"
  },
  "language_info": {
   "codemirror_mode": {
    "name": "ipython",
    "version": 3
   },
   "file_extension": ".py",
   "mimetype": "text/x-python",
   "name": "python",
   "nbconvert_exporter": "python",
   "pygments_lexer": "ipython3",
   "version": "3.9.7"
  }
 },
 "nbformat": 4,
 "nbformat_minor": 5
}
