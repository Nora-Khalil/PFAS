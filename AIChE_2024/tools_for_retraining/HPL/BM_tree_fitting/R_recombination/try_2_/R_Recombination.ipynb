{
 "cells": [
  {
   "cell_type": "code",
   "execution_count": 1,
   "metadata": {
    "scrolled": true
   },
   "outputs": [],
   "source": [
    "import rmgpy\n",
    "import numpy as np\n",
    "from rmgpy.molecule.molecule import *\n",
    "from rmgpy.species import *\n",
    "from rmgpy.chemkin import *\n",
    "from rmgpy.data.rmg import RMGDatabase\n",
    "from IPython.display import display\n",
    "from rmgpy.data.thermo import ThermoLibrary\n",
    "from rmgpy.rmg.react import react\n",
    "from rmgpy.species import Species\n",
    "from rmgpy.reaction import Reaction\n",
    "from rmgpy.data.rmg import get_db\n",
    "from rmgpy.molecule.group import Group\n",
    "from rmgpy.kinetics.arrhenius import ArrheniusBM\n",
    "from rmgpy import settings\n",
    "import time\n",
    "import matplotlib.pyplot as plt\n",
    "import matplotlib"
   ]
  },
  {
   "cell_type": "code",
   "execution_count": 2,
   "metadata": {},
   "outputs": [
    {
     "data": {
      "text/plain": [
       "{'database.directory': '/home/khalil.nor/Code/RMG-database/input',\n",
       " 'test_data.directory': '/home/khalil.nor/Code/RMG-Py/test/rmgpy/test_data'}"
      ]
     },
     "execution_count": 2,
     "metadata": {},
     "output_type": "execute_result"
    }
   ],
   "source": [
    "settings"
   ]
  },
  {
   "cell_type": "code",
   "execution_count": null,
   "metadata": {},
   "outputs": [],
   "source": [
    "#these families just had training rxns added to them \n",
    "\n",
    "#dict_keys(['1,2_Insertion_carbene', 'R_Addition_MultipleBond', 'XY_Addition_MultipleBond', 'Singlet_Carbene_Intra_Disproportionation', '1,2_Insertion_CO', '1+2_Cycloaddition', '1,3_Insertion_CO2', '1,3_sigmatropic_rearrangement'])"
   ]
  },
  {
   "cell_type": "code",
   "execution_count": 3,
   "metadata": {},
   "outputs": [],
   "source": [
    "thermo_libs = [\n",
    "'C1_C2_Fluorine', #adding Siddha's as first most trusted because this is the thermo library that Franklin used\n",
    "'NCSU_C2_C8_PFAS', #adding Westmoreland's thermo as the second most trusted\n",
    "'primaryThermoLibrary',\n",
    "'Fluorine',\n",
    "'FFCM1(-)',\n",
    "'halogens',\n",
    "'CHOF_G4',\n",
    "'CHOCl_G4',\n",
    "'CHOBr_G4',\n",
    "'CHOFCl_G4',\n",
    "'CHOFBr_G4',\n",
    "'CHOFClBr_G4',\n",
    "'DFT_QCI_thermo',\n",
    "'2-BTP_G4',\n",
    "'thermo_DFT_CCSDTF12_BAC',\n",
    "'SulfurHaynes'\n",
    "]\n",
    "\n",
    "kin_families = ['R_Recombination', '1,2_Insertion_carbene', 'F_Abstraction', 'R_Addition_MultipleBond', 'XY_Addition_MultipleBond', 'Singlet_Carbene_Intra_Disproportionation', 'Intra_R_Add_Endocyclic', 'R_Addition_COm', '1,2_Insertion_CO', '1+2_Cycloaddition', '1,3_Insertion_CO2', '1,3_sigmatropic_rearrangement']"
   ]
  },
  {
   "cell_type": "code",
   "execution_count": 4,
   "metadata": {
    "scrolled": true
   },
   "outputs": [
    {
     "name": "stderr",
     "output_type": "stream",
     "text": [
      "ERROR:root:Error while reading database file /home/khalil.nor/Code/RMG-database/input/kinetics/families/Intra_R_Add_Endocyclic/rules.py.\n",
      "Traceback (most recent call last):\n",
      "  File \"/home/khalil.nor/Code/RMG-Py/rmgpy/data/base.py\", line 242, in load\n",
      "    exec(content, global_context, local_context)\n",
      "  File \"<string>\", line 3732, in <module>\n",
      "TypeError: 'NoneType' object is not subscriptable\n",
      "ERROR:root:Error occurred at or near line 3732 of /home/khalil.nor/Code/RMG-database/input/kinetics/families/Intra_R_Add_Endocyclic/rules.py.\n",
      "ERROR:root:Line:     kinetics = ArrheniusBM(A=(1.17041e-45,'s^-1'), n=16.4585, w0=(289.5,'kJ/mol'), E0=(7.90103,'kJ/mol'), Tmin=(300,'K'), Tmax=(2000,'K'), uncertainty=RateUncertainty(mu=nan, var=nan, Tref=1000.0, N=2, data_mean=0.0, correlation='Root_N-1R-inRing_N-3R->O_Ext-3CS-R_N-Sp-4R!H=3CCSS_Ext-3CS-R_Ext-5R!H-R_N-Sp-6R!H=5R!H_3CS-inRing_N-Sp-2R=1R',), comment=\"\"\"BM rule fitted to 2 training reactions at node Root_N-1R-inRing_N-3R->O_Ext-3CS-R_N-Sp-4R!H=3CCSS_Ext-3CS-R_Ext-5R!H-R_N-Sp-6R!H=5R!H_3CS-inRing_N-Sp-2R=1R\n",
      "ERROR:root:Error when loading reaction family '/home/khalil.nor/Code/RMG-database/input/kinetics/families/Intra_R_Add_Endocyclic'\n"
     ]
    },
    {
     "ename": "TypeError",
     "evalue": "'NoneType' object is not subscriptable",
     "output_type": "error",
     "traceback": [
      "\u001b[0;31m---------------------------------------------------------------------------\u001b[0m",
      "\u001b[0;31mTypeError\u001b[0m                                 Traceback (most recent call last)",
      "\u001b[0;32m/tmp/ipykernel_6108/3914763030.py\u001b[0m in \u001b[0;36m<module>\u001b[0;34m\u001b[0m\n\u001b[1;32m      9\u001b[0m             \u001b[0mkinetics_depositories\u001b[0m \u001b[0;34m=\u001b[0m \u001b[0;34m[\u001b[0m\u001b[0;34m'training'\u001b[0m\u001b[0;34m]\u001b[0m\u001b[0;34m,\u001b[0m\u001b[0;34m\u001b[0m\u001b[0;34m\u001b[0m\u001b[0m\n\u001b[1;32m     10\u001b[0m             \u001b[0;31m#frequenciesLibraries = self.statmechLibraries,\u001b[0m\u001b[0;34m\u001b[0m\u001b[0;34m\u001b[0m\u001b[0;34m\u001b[0m\u001b[0m\n\u001b[0;32m---> 11\u001b[0;31m             \u001b[0mdepository\u001b[0m \u001b[0;34m=\u001b[0m \u001b[0;32mFalse\u001b[0m\u001b[0;34m,\u001b[0m \u001b[0;31m# Don't bother loading the depository information, as we don't use it\u001b[0m\u001b[0;34m\u001b[0m\u001b[0;34m\u001b[0m\u001b[0m\n\u001b[0m\u001b[1;32m     12\u001b[0m         )\n",
      "\u001b[0;32m~/Code/RMG-Py/rmgpy/data/rmg.py\u001b[0m in \u001b[0;36mload\u001b[0;34m(self, path, thermo_libraries, transport_libraries, reaction_libraries, seed_mechanisms, kinetics_families, kinetics_depositories, statmech_libraries, depository, solvation, surface, testing)\u001b[0m\n\u001b[1;32m    101\u001b[0m                            \u001b[0mseed_mechanisms\u001b[0m\u001b[0;34m,\u001b[0m\u001b[0;34m\u001b[0m\u001b[0;34m\u001b[0m\u001b[0m\n\u001b[1;32m    102\u001b[0m                            \u001b[0mkinetics_families\u001b[0m\u001b[0;34m,\u001b[0m\u001b[0;34m\u001b[0m\u001b[0;34m\u001b[0m\u001b[0m\n\u001b[0;32m--> 103\u001b[0;31m                            \u001b[0mkinetics_depositories\u001b[0m\u001b[0;34m\u001b[0m\u001b[0;34m\u001b[0m\u001b[0m\n\u001b[0m\u001b[1;32m    104\u001b[0m                            )\n\u001b[1;32m    105\u001b[0m         \u001b[0;32mif\u001b[0m \u001b[0;32mnot\u001b[0m \u001b[0mtesting\u001b[0m\u001b[0;34m:\u001b[0m\u001b[0;34m\u001b[0m\u001b[0;34m\u001b[0m\u001b[0m\n",
      "\u001b[0;32m~/Code/RMG-Py/rmgpy/data/rmg.py\u001b[0m in \u001b[0;36mload_kinetics\u001b[0;34m(self, path, reaction_libraries, seed_mechanisms, kinetics_families, kinetics_depositories)\u001b[0m\n\u001b[1;32m    170\u001b[0m                            \u001b[0mfamilies\u001b[0m\u001b[0;34m=\u001b[0m\u001b[0mkinetics_families\u001b[0m\u001b[0;34m,\u001b[0m\u001b[0;34m\u001b[0m\u001b[0;34m\u001b[0m\u001b[0m\n\u001b[1;32m    171\u001b[0m                            \u001b[0mlibraries\u001b[0m\u001b[0;34m=\u001b[0m\u001b[0mkinetics_libraries\u001b[0m\u001b[0;34m,\u001b[0m\u001b[0;34m\u001b[0m\u001b[0;34m\u001b[0m\u001b[0m\n\u001b[0;32m--> 172\u001b[0;31m                            \u001b[0mdepositories\u001b[0m\u001b[0;34m=\u001b[0m\u001b[0mkinetics_depositories\u001b[0m\u001b[0;34m\u001b[0m\u001b[0;34m\u001b[0m\u001b[0m\n\u001b[0m\u001b[1;32m    173\u001b[0m                            )\n\u001b[1;32m    174\u001b[0m \u001b[0;34m\u001b[0m\u001b[0m\n",
      "\u001b[0;32m~/Code/RMG-Py/rmgpy/data/kinetics/database.py\u001b[0m in \u001b[0;36mload\u001b[0;34m(self, path, families, libraries, depositories)\u001b[0m\n\u001b[1;32m    110\u001b[0m         \"\"\"\n\u001b[1;32m    111\u001b[0m         \u001b[0mself\u001b[0m\u001b[0;34m.\u001b[0m\u001b[0mload_recommended_families\u001b[0m\u001b[0;34m(\u001b[0m\u001b[0mos\u001b[0m\u001b[0;34m.\u001b[0m\u001b[0mpath\u001b[0m\u001b[0;34m.\u001b[0m\u001b[0mjoin\u001b[0m\u001b[0;34m(\u001b[0m\u001b[0mpath\u001b[0m\u001b[0;34m,\u001b[0m \u001b[0;34m'families'\u001b[0m\u001b[0;34m,\u001b[0m \u001b[0;34m'recommended.py'\u001b[0m\u001b[0;34m)\u001b[0m\u001b[0;34m)\u001b[0m\u001b[0;34m,\u001b[0m\u001b[0;34m\u001b[0m\u001b[0;34m\u001b[0m\u001b[0m\n\u001b[0;32m--> 112\u001b[0;31m         \u001b[0mself\u001b[0m\u001b[0;34m.\u001b[0m\u001b[0mload_families\u001b[0m\u001b[0;34m(\u001b[0m\u001b[0mos\u001b[0m\u001b[0;34m.\u001b[0m\u001b[0mpath\u001b[0m\u001b[0;34m.\u001b[0m\u001b[0mjoin\u001b[0m\u001b[0;34m(\u001b[0m\u001b[0mpath\u001b[0m\u001b[0;34m,\u001b[0m \u001b[0;34m'families'\u001b[0m\u001b[0;34m)\u001b[0m\u001b[0;34m,\u001b[0m \u001b[0mfamilies\u001b[0m\u001b[0;34m,\u001b[0m \u001b[0mdepositories\u001b[0m\u001b[0;34m)\u001b[0m\u001b[0;34m\u001b[0m\u001b[0;34m\u001b[0m\u001b[0m\n\u001b[0m\u001b[1;32m    113\u001b[0m         \u001b[0mself\u001b[0m\u001b[0;34m.\u001b[0m\u001b[0mload_libraries\u001b[0m\u001b[0;34m(\u001b[0m\u001b[0mos\u001b[0m\u001b[0;34m.\u001b[0m\u001b[0mpath\u001b[0m\u001b[0;34m.\u001b[0m\u001b[0mjoin\u001b[0m\u001b[0;34m(\u001b[0m\u001b[0mpath\u001b[0m\u001b[0;34m,\u001b[0m \u001b[0;34m'libraries'\u001b[0m\u001b[0;34m)\u001b[0m\u001b[0;34m,\u001b[0m \u001b[0mlibraries\u001b[0m\u001b[0;34m)\u001b[0m\u001b[0;34m\u001b[0m\u001b[0;34m\u001b[0m\u001b[0m\n\u001b[1;32m    114\u001b[0m \u001b[0;34m\u001b[0m\u001b[0m\n",
      "\u001b[0;32m~/Code/RMG-Py/rmgpy/data/kinetics/database.py\u001b[0m in \u001b[0;36mload_families\u001b[0;34m(self, path, families, depositories)\u001b[0m\n\u001b[1;32m    214\u001b[0m             \u001b[0mfamily\u001b[0m \u001b[0;34m=\u001b[0m \u001b[0mKineticsFamily\u001b[0m\u001b[0;34m(\u001b[0m\u001b[0mlabel\u001b[0m\u001b[0;34m=\u001b[0m\u001b[0mlabel\u001b[0m\u001b[0;34m)\u001b[0m\u001b[0;34m\u001b[0m\u001b[0;34m\u001b[0m\u001b[0m\n\u001b[1;32m    215\u001b[0m             \u001b[0;32mtry\u001b[0m\u001b[0;34m:\u001b[0m\u001b[0;34m\u001b[0m\u001b[0;34m\u001b[0m\u001b[0m\n\u001b[0;32m--> 216\u001b[0;31m                 \u001b[0mfamily\u001b[0m\u001b[0;34m.\u001b[0m\u001b[0mload\u001b[0m\u001b[0;34m(\u001b[0m\u001b[0mfamily_path\u001b[0m\u001b[0;34m,\u001b[0m \u001b[0mself\u001b[0m\u001b[0;34m.\u001b[0m\u001b[0mlocal_context\u001b[0m\u001b[0;34m,\u001b[0m \u001b[0mself\u001b[0m\u001b[0;34m.\u001b[0m\u001b[0mglobal_context\u001b[0m\u001b[0;34m,\u001b[0m \u001b[0mdepository_labels\u001b[0m\u001b[0;34m=\u001b[0m\u001b[0mdepositories\u001b[0m\u001b[0;34m)\u001b[0m\u001b[0;34m\u001b[0m\u001b[0;34m\u001b[0m\u001b[0m\n\u001b[0m\u001b[1;32m    217\u001b[0m             \u001b[0;32mexcept\u001b[0m\u001b[0;34m:\u001b[0m\u001b[0;34m\u001b[0m\u001b[0;34m\u001b[0m\u001b[0m\n\u001b[1;32m    218\u001b[0m                 \u001b[0mlogging\u001b[0m\u001b[0;34m.\u001b[0m\u001b[0merror\u001b[0m\u001b[0;34m(\u001b[0m\u001b[0;34m\"Error when loading reaction family {!r}\"\u001b[0m\u001b[0;34m.\u001b[0m\u001b[0mformat\u001b[0m\u001b[0;34m(\u001b[0m\u001b[0mfamily_path\u001b[0m\u001b[0;34m)\u001b[0m\u001b[0;34m)\u001b[0m\u001b[0;34m\u001b[0m\u001b[0;34m\u001b[0m\u001b[0m\n",
      "\u001b[0;32m~/Code/RMG-Py/rmgpy/data/kinetics/family.py\u001b[0m in \u001b[0;36mload\u001b[0;34m(self, path, local_context, global_context, depository_labels)\u001b[0m\n\u001b[1;32m    596\u001b[0m         \u001b[0mself\u001b[0m\u001b[0;34m.\u001b[0m\u001b[0mrules\u001b[0m \u001b[0;34m=\u001b[0m \u001b[0mKineticsRules\u001b[0m\u001b[0;34m(\u001b[0m\u001b[0mlabel\u001b[0m\u001b[0;34m=\u001b[0m\u001b[0;34m'{0}/rules'\u001b[0m\u001b[0;34m.\u001b[0m\u001b[0mformat\u001b[0m\u001b[0;34m(\u001b[0m\u001b[0mself\u001b[0m\u001b[0;34m.\u001b[0m\u001b[0mlabel\u001b[0m\u001b[0;34m)\u001b[0m\u001b[0;34m,\u001b[0m\u001b[0mauto_generated\u001b[0m\u001b[0;34m=\u001b[0m\u001b[0mself\u001b[0m\u001b[0;34m.\u001b[0m\u001b[0mauto_generated\u001b[0m\u001b[0;34m)\u001b[0m\u001b[0;34m\u001b[0m\u001b[0;34m\u001b[0m\u001b[0m\n\u001b[1;32m    597\u001b[0m         \u001b[0mlogging\u001b[0m\u001b[0;34m.\u001b[0m\u001b[0mdebug\u001b[0m\u001b[0;34m(\u001b[0m\u001b[0;34m\"Loading kinetics family rules from {0}\"\u001b[0m\u001b[0;34m.\u001b[0m\u001b[0mformat\u001b[0m\u001b[0;34m(\u001b[0m\u001b[0mos\u001b[0m\u001b[0;34m.\u001b[0m\u001b[0mpath\u001b[0m\u001b[0;34m.\u001b[0m\u001b[0mjoin\u001b[0m\u001b[0;34m(\u001b[0m\u001b[0mpath\u001b[0m\u001b[0;34m,\u001b[0m \u001b[0;34m'rules.py'\u001b[0m\u001b[0;34m)\u001b[0m\u001b[0;34m)\u001b[0m\u001b[0;34m)\u001b[0m\u001b[0;34m\u001b[0m\u001b[0;34m\u001b[0m\u001b[0m\n\u001b[0;32m--> 598\u001b[0;31m         \u001b[0mself\u001b[0m\u001b[0;34m.\u001b[0m\u001b[0mrules\u001b[0m\u001b[0;34m.\u001b[0m\u001b[0mload\u001b[0m\u001b[0;34m(\u001b[0m\u001b[0mos\u001b[0m\u001b[0;34m.\u001b[0m\u001b[0mpath\u001b[0m\u001b[0;34m.\u001b[0m\u001b[0mjoin\u001b[0m\u001b[0;34m(\u001b[0m\u001b[0mpath\u001b[0m\u001b[0;34m,\u001b[0m \u001b[0;34m'rules.py'\u001b[0m\u001b[0;34m)\u001b[0m\u001b[0;34m,\u001b[0m \u001b[0mlocal_context\u001b[0m\u001b[0;34m,\u001b[0m \u001b[0mglobal_context\u001b[0m\u001b[0;34m)\u001b[0m\u001b[0;34m\u001b[0m\u001b[0;34m\u001b[0m\u001b[0m\n\u001b[0m\u001b[1;32m    599\u001b[0m \u001b[0;34m\u001b[0m\u001b[0m\n\u001b[1;32m    600\u001b[0m         \u001b[0;31m# load the groups indicated in the entry label\u001b[0m\u001b[0;34m\u001b[0m\u001b[0;34m\u001b[0m\u001b[0;34m\u001b[0m\u001b[0m\n",
      "\u001b[0;32m~/Code/RMG-Py/rmgpy/data/base.py\u001b[0m in \u001b[0;36mload\u001b[0;34m(self, path, local_context, global_context)\u001b[0m\n\u001b[1;32m    240\u001b[0m             \u001b[0mcontent\u001b[0m \u001b[0;34m=\u001b[0m \u001b[0mf\u001b[0m\u001b[0;34m.\u001b[0m\u001b[0mread\u001b[0m\u001b[0;34m(\u001b[0m\u001b[0;34m)\u001b[0m\u001b[0;34m\u001b[0m\u001b[0;34m\u001b[0m\u001b[0m\n\u001b[1;32m    241\u001b[0m         \u001b[0;32mtry\u001b[0m\u001b[0;34m:\u001b[0m\u001b[0;34m\u001b[0m\u001b[0;34m\u001b[0m\u001b[0m\n\u001b[0;32m--> 242\u001b[0;31m             \u001b[0mexec\u001b[0m\u001b[0;34m(\u001b[0m\u001b[0mcontent\u001b[0m\u001b[0;34m,\u001b[0m \u001b[0mglobal_context\u001b[0m\u001b[0;34m,\u001b[0m \u001b[0mlocal_context\u001b[0m\u001b[0;34m)\u001b[0m\u001b[0;34m\u001b[0m\u001b[0;34m\u001b[0m\u001b[0m\n\u001b[0m\u001b[1;32m    243\u001b[0m         \u001b[0;32mexcept\u001b[0m \u001b[0mException\u001b[0m \u001b[0;32mas\u001b[0m \u001b[0me\u001b[0m\u001b[0;34m:\u001b[0m\u001b[0;34m\u001b[0m\u001b[0;34m\u001b[0m\u001b[0m\n\u001b[1;32m    244\u001b[0m             \u001b[0mlogging\u001b[0m\u001b[0;34m.\u001b[0m\u001b[0mexception\u001b[0m\u001b[0;34m(\u001b[0m\u001b[0;34mf'Error while reading database file {path}.'\u001b[0m\u001b[0;34m)\u001b[0m\u001b[0;34m\u001b[0m\u001b[0;34m\u001b[0m\u001b[0m\n",
      "\u001b[0;32m<string>\u001b[0m in \u001b[0;36m<module>\u001b[0;34m\u001b[0m\n",
      "\u001b[0;31mTypeError\u001b[0m: 'NoneType' object is not subscriptable"
     ]
    }
   ],
   "source": [
    "database = RMGDatabase()\n",
    "database.load(\n",
    "            path = settings['database.directory'],\n",
    "            thermo_libraries = thermo_libs,\n",
    "            transport_libraries = [],\n",
    "            reaction_libraries = [],\n",
    "            seed_mechanisms = [],#['BurkeH2O2inN2','ERC-FoundationFuelv0.9'],\n",
    "            kinetics_families = kin_families,\n",
    "            kinetics_depositories = ['training'],\n",
    "            #frequenciesLibraries = self.statmechLibraries,\n",
    "            depository = False, # Don't bother loading the depository information, as we don't use it\n",
    "        )\n"
   ]
  },
  {
   "cell_type": "code",
   "execution_count": null,
   "metadata": {},
   "outputs": [],
   "source": []
  },
  {
   "cell_type": "code",
   "execution_count": 5,
   "metadata": {},
   "outputs": [
    {
     "data": {
      "text/plain": [
       "{'1+2_Cycloaddition': <ReactionFamily \"1+2_Cycloaddition\">,\n",
       " '1,2_Insertion_CO': <ReactionFamily \"1,2_Insertion_CO\">,\n",
       " '1,2_Insertion_carbene': <ReactionFamily \"1,2_Insertion_carbene\">,\n",
       " '1,3_Insertion_CO2': <ReactionFamily \"1,3_Insertion_CO2\">,\n",
       " '1,3_sigmatropic_rearrangement': <ReactionFamily \"1,3_sigmatropic_rearrangement\">,\n",
       " 'F_Abstraction': <ReactionFamily \"F_Abstraction\">,\n",
       " 'Intra_R_Add_Endocyclic': <ReactionFamily \"Intra_R_Add_Endocyclic\">,\n",
       " 'R_Addition_COm': <ReactionFamily \"R_Addition_COm\">,\n",
       " 'R_Addition_MultipleBond': <ReactionFamily \"R_Addition_MultipleBond\">,\n",
       " 'R_Recombination': <ReactionFamily \"R_Recombination\">,\n",
       " 'Singlet_Carbene_Intra_Disproportionation': <ReactionFamily \"Singlet_Carbene_Intra_Disproportionation\">,\n",
       " 'XY_Addition_MultipleBond': <ReactionFamily \"XY_Addition_MultipleBond\">}"
      ]
     },
     "execution_count": 5,
     "metadata": {},
     "output_type": "execute_result"
    }
   ],
   "source": [
    "database.kinetics.families"
   ]
  },
  {
   "cell_type": "code",
   "execution_count": 6,
   "metadata": {},
   "outputs": [],
   "source": [
    "# 'R_Recombination' \n",
    "family_to_train = \"R_Recombination\"\n",
    "family = database.kinetics.families[family_to_train]"
   ]
  },
  {
   "cell_type": "code",
   "execution_count": 7,
   "metadata": {},
   "outputs": [],
   "source": [
    "family.clean_tree()"
   ]
  },
  {
   "cell_type": "code",
   "execution_count": null,
   "metadata": {},
   "outputs": [
    {
     "name": "stderr",
     "output_type": "stream",
     "text": [
      "WARNING:root:Cphigh is above the theoretical CpInf value for ThermoData object\n",
      "ThermoData(Tdata=([300,400,500,600,800,1000,1500],'K'), Cpdata=([137.768,160.122,175.836,187.866,204.429,214.362,222.779],'J/(mol*K)'), H298=(-1261.23,'kJ/mol'), S298=(402.766,'J/(mol*K)'), Cp0=(33.2579,'J/(mol*K)'), CpInf=(220.334,'J/(mol*K)'), comment=\"\"\"Thermo group additivity estimation: group(O2s-Cs(Cds-O2d)) + group(CsCFFO) + group(CsCsFFF) + longDistanceInteraction_noncyclic(Cs(F)3-Cs(F)2) + group(Cds-OdOsH) + radical((O)CJOC)\"\"\").\n",
      "The thermo for this species is probably wrong! Setting CpInf = Cphigh for Entropy calculationat T = 2000.0 K...\n",
      "WARNING:root:Cphigh is above the theoretical CpInf value for ThermoData object\n",
      "ThermoData(Tdata=([300,400,500,600,800,1000,1500],'K'), Cpdata=([137.768,160.122,175.836,187.866,204.429,214.362,222.779],'J/(mol*K)'), H298=(-1261.23,'kJ/mol'), S298=(402.766,'J/(mol*K)'), Cp0=(33.2579,'J/(mol*K)'), CpInf=(220.334,'J/(mol*K)'), comment=\"\"\"Thermo group additivity estimation: group(O2s-Cs(Cds-O2d)) + group(CsCFFO) + group(CsCsFFF) + longDistanceInteraction_noncyclic(Cs(F)3-Cs(F)2) + group(Cds-OdOsH) + radical((O)CJOC)\"\"\").\n",
      "The thermo for this species is probably wrong! Setting CpInf = Cphigh for Entropy calculationat T = 1666.6666666666665 K...\n",
      "WARNING:root:Cphigh is above the theoretical CpInf value for ThermoData object\n",
      "ThermoData(Tdata=([300,400,500,600,800,1000,1500],'K'), Cpdata=([133.883,155.55,173.376,188.387,210.872,224.909,241.381],'J/(mol*K)'), H298=(-1313.31,'kJ/mol'), S298=(422.435,'J/(mol*K)'), Cp0=(33.2579,'J/(mol*K)'), CpInf=(241.12,'J/(mol*K)'), comment=\"\"\"Thermo group additivity estimation: group(O2s-CsCs) + group(O2s-(Cds-O2d)H) + group(CsCFHO) + longDistanceInteraction_noncyclic(Cs(F)-CO) + group(CsFFFO) + group(Cds-OdCsOs) + radical(CsCOF1sO2s)\"\"\").\n",
      "The thermo for this species is probably wrong! Setting CpInf = Cphigh for Entropy calculationat T = 2000.0 K...\n",
      "WARNING:root:Cphigh is above the theoretical CpInf value for ThermoData object\n",
      "ThermoData(Tdata=([300,400,500,600,800,1000,1500],'K'), Cpdata=([133.883,155.55,173.376,188.387,210.872,224.909,241.381],'J/(mol*K)'), H298=(-1313.31,'kJ/mol'), S298=(422.435,'J/(mol*K)'), Cp0=(33.2579,'J/(mol*K)'), CpInf=(241.12,'J/(mol*K)'), comment=\"\"\"Thermo group additivity estimation: group(O2s-CsCs) + group(O2s-(Cds-O2d)H) + group(CsCFHO) + longDistanceInteraction_noncyclic(Cs(F)-CO) + group(CsFFFO) + group(Cds-OdCsOs) + radical(CsCOF1sO2s)\"\"\").\n",
      "The thermo for this species is probably wrong! Setting CpInf = Cphigh for Entropy calculationat T = 1666.6666666666665 K...\n",
      "WARNING:root:Cphigh is above the theoretical CpInf value for ThermoData object\n",
      "ThermoData(Tdata=([300,400,500,600,800,1000,1500],'K'), Cpdata=([182.969,211.846,232.552,247.934,268.604,281.111,291.938],'J/(mol*K)'), H298=(-1667.91,'kJ/mol'), S298=(473.279,'J/(mol*K)'), Cp0=(33.2579,'J/(mol*K)'), CpInf=(291.007,'J/(mol*K)'), comment=\"\"\"Thermo group additivity estimation: group(O2s-Cs(Cds-O2d)) + group(CsCsCsFF) + longDistanceInteraction_noncyclic(Cs(F)2-Cs(F)2) + group(CsCFFO) + longDistanceInteraction_noncyclic(Cs(F)2-Cs(F)2) + longDistanceInteraction_noncyclic(CsF2-CsF2-CsF2) + group(CsCsFFF) + longDistanceInteraction_noncyclic(Cs(F)3-Cs(F)2) + longDistanceInteraction_noncyclic(Cs(F)3-R-Cs(F)2) + group(Cds-OdOsH) + radical((O)CJOC)\"\"\").\n",
      "The thermo for this species is probably wrong! Setting CpInf = Cphigh for Entropy calculationat T = 2000.0 K...\n",
      "WARNING:root:Cphigh is above the theoretical CpInf value for ThermoData object\n",
      "ThermoData(Tdata=([300,400,500,600,800,1000,1500],'K'), Cpdata=([182.969,211.846,232.552,247.934,268.604,281.111,291.938],'J/(mol*K)'), H298=(-1667.91,'kJ/mol'), S298=(473.279,'J/(mol*K)'), Cp0=(33.2579,'J/(mol*K)'), CpInf=(291.007,'J/(mol*K)'), comment=\"\"\"Thermo group additivity estimation: group(O2s-Cs(Cds-O2d)) + group(CsCsCsFF) + longDistanceInteraction_noncyclic(Cs(F)2-Cs(F)2) + group(CsCFFO) + longDistanceInteraction_noncyclic(Cs(F)2-Cs(F)2) + longDistanceInteraction_noncyclic(CsF2-CsF2-CsF2) + group(CsCsFFF) + longDistanceInteraction_noncyclic(Cs(F)3-Cs(F)2) + longDistanceInteraction_noncyclic(Cs(F)3-R-Cs(F)2) + group(Cds-OdOsH) + radical((O)CJOC)\"\"\").\n",
      "The thermo for this species is probably wrong! Setting CpInf = Cphigh for Entropy calculationat T = 1666.6666666666665 K...\n",
      "WARNING:root:Cphigh is above the theoretical CpInf value for ThermoData object\n",
      "ThermoData(Tdata=([300,400,500,600,800,1000,1500],'K'), Cpdata=([181.904,211.978,234.778,253.306,279.954,296.244,312.575],'J/(mol*K)'), H298=(-1738.61,'kJ/mol'), S298=(487.312,'J/(mol*K)'), Cp0=(33.2579,'J/(mol*K)'), CpInf=(311.793,'J/(mol*K)'), comment=\"\"\"Thermo group additivity estimation: group(O2s-CsCs) + group(O2s-(Cds-O2d)H) + group(CsCFFO) + group(CsCFHO) + longDistanceInteraction_noncyclic(Cs(F)-CO) + group(CsCsFFF) + longDistanceInteraction_noncyclic(Cs(F)3-Cs(F)2) + group(Cds-OdCsOs) + radical(CsCOF1sO2s)\"\"\").\n",
      "The thermo for this species is probably wrong! Setting CpInf = Cphigh for Entropy calculationat T = 2000.0 K...\n",
      "WARNING:root:Cphigh is above the theoretical CpInf value for ThermoData object\n",
      "ThermoData(Tdata=([300,400,500,600,800,1000,1500],'K'), Cpdata=([181.904,211.978,234.778,253.306,279.954,296.244,312.575],'J/(mol*K)'), H298=(-1738.61,'kJ/mol'), S298=(487.312,'J/(mol*K)'), Cp0=(33.2579,'J/(mol*K)'), CpInf=(311.793,'J/(mol*K)'), comment=\"\"\"Thermo group additivity estimation: group(O2s-CsCs) + group(O2s-(Cds-O2d)H) + group(CsCFFO) + group(CsCFHO) + longDistanceInteraction_noncyclic(Cs(F)-CO) + group(CsCsFFF) + longDistanceInteraction_noncyclic(Cs(F)3-Cs(F)2) + group(Cds-OdCsOs) + radical(CsCOF1sO2s)\"\"\").\n",
      "The thermo for this species is probably wrong! Setting CpInf = Cphigh for Entropy calculationat T = 1666.6666666666665 K...\n",
      "ERROR:root:369.0\n",
      "ERROR:root:iter_max achieved terminating early\n",
      "ERROR:root:iter_max achieved terminating early\n",
      "ERROR:root:iter_max achieved terminating early\n",
      "ERROR:root:iter_max achieved terminating early\n",
      "ERROR:root:iter_max achieved terminating early\n",
      "ERROR:root:iter_max achieved terminating early\n",
      "ERROR:root:iter_max achieved terminating early\n",
      "ERROR:root:iter_max achieved terminating early\n",
      "ERROR:root:iter_max achieved terminating early\n",
      "ERROR:root:iter_max achieved terminating early\n",
      "ERROR:root:iter_max achieved terminating early\n",
      "ERROR:root:iter_max achieved terminating early\n",
      "ERROR:root:iter_max achieved terminating early\n"
     ]
    }
   ],
   "source": [
    "start = time.time()\n",
    "family.generate_tree(thermo_database=database.thermo,\n",
    "                     nprocs=1,\n",
    "                     new_fraction_threshold_to_reopt_node=0.25,\n",
    "                     max_batch_size=800,\n",
    "                     extension_iter_max=2,\n",
    "                     extension_iter_item_cap=100)\n",
    "\n",
    "end = time.time()\n",
    "print(end-start)"
   ]
  },
  {
   "cell_type": "code",
   "execution_count": null,
   "metadata": {},
   "outputs": [],
   "source": [
    "len(family.groups.entries)"
   ]
  },
  {
   "cell_type": "code",
   "execution_count": null,
   "metadata": {
    "tags": []
   },
   "outputs": [],
   "source": [
    "family.groups.entries"
   ]
  },
  {
   "cell_type": "code",
   "execution_count": null,
   "metadata": {},
   "outputs": [],
   "source": [
    "start = time.time()\n",
    "family.check_tree()\n",
    "end = time.time()\n",
    "print(end-start)"
   ]
  },
  {
   "cell_type": "code",
   "execution_count": null,
   "metadata": {},
   "outputs": [],
   "source": [
    "start = time.time()\n",
    "family.regularize(thermo_database=database.thermo)\n",
    "end = time.time()\n",
    "print(end-start)"
   ]
  },
  {
   "cell_type": "code",
   "execution_count": null,
   "metadata": {},
   "outputs": [],
   "source": [
    "start = time.time()\n",
    "templateRxnMap = family.get_reaction_matches(thermo_database=database.thermo,remove_degeneracy=True,\n",
    "                                             get_reverse=True,exact_matches_only=False,fix_labels=True)\n",
    "end = time.time()\n",
    "print(end-start)"
   ]
  },
  {
   "cell_type": "code",
   "execution_count": null,
   "metadata": {},
   "outputs": [],
   "source": [
    "len(templateRxnMap)"
   ]
  },
  {
   "cell_type": "code",
   "execution_count": null,
   "metadata": {},
   "outputs": [],
   "source": [
    "family.clean_tree_rules()"
   ]
  },
  {
   "cell_type": "code",
   "execution_count": null,
   "metadata": {},
   "outputs": [],
   "source": [
    "start = time.time()\n",
    "family.make_bm_rules_from_template_rxn_map(templateRxnMap)#,nprocs=6)\n",
    "end = time.time()\n",
    "print(end-start)"
   ]
  },
  {
   "cell_type": "code",
   "execution_count": null,
   "metadata": {},
   "outputs": [],
   "source": [
    "start = time.time()\n",
    "family.check_tree()\n",
    "end = time.time()\n",
    "print(end-start)"
   ]
  },
  {
   "cell_type": "code",
   "execution_count": null,
   "metadata": {},
   "outputs": [],
   "source": [
    "start = time.time()\n",
    "errors,uncertainties = family.cross_validate(iters=0,random_state=5,folds=0,ascend=False)\n",
    "end = time.time()\n",
    "print(end-start)"
   ]
  },
  {
   "cell_type": "code",
   "execution_count": null,
   "metadata": {},
   "outputs": [],
   "source": [
    "save_path = os.path.join(settings['database.directory'], 'kinetics', 'families', family.name)\n",
    "print(save_path)"
   ]
  },
  {
   "cell_type": "code",
   "execution_count": null,
   "metadata": {},
   "outputs": [],
   "source": [
    "family.save(save_path)"
   ]
  },
  {
   "cell_type": "code",
   "execution_count": null,
   "metadata": {},
   "outputs": [],
   "source": []
  },
  {
   "cell_type": "code",
   "execution_count": null,
   "metadata": {},
   "outputs": [],
   "source": [
    "#ran to completion on May 7th, 10:15 am"
   ]
  },
  {
   "cell_type": "code",
   "execution_count": null,
   "metadata": {},
   "outputs": [],
   "source": []
  },
  {
   "cell_type": "code",
   "execution_count": null,
   "metadata": {},
   "outputs": [],
   "source": []
  },
  {
   "cell_type": "code",
   "execution_count": null,
   "metadata": {},
   "outputs": [],
   "source": []
  }
 ],
 "metadata": {
  "@webio": {
   "lastCommId": null,
   "lastKernelId": null
  },
  "kernelspec": {
   "display_name": "rmg_env",
   "language": "python",
   "name": "rmg_env"
  },
  "language_info": {
   "codemirror_mode": {
    "name": "ipython",
    "version": 3
   },
   "file_extension": ".py",
   "mimetype": "text/x-python",
   "name": "python",
   "nbconvert_exporter": "python",
   "pygments_lexer": "ipython3",
   "version": "3.7.16"
  }
 },
 "nbformat": 4,
 "nbformat_minor": 4
}
