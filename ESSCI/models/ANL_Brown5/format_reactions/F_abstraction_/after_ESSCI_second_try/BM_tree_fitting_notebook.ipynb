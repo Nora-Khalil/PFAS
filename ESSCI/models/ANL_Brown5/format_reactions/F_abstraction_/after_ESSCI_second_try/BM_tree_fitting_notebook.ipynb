{
 "cells": [
  {
   "cell_type": "code",
   "execution_count": 1,
   "metadata": {
    "scrolled": true
   },
   "outputs": [],
   "source": [
    "import rmgpy\n",
    "import numpy as np\n",
    "from rmgpy.molecule.molecule import *\n",
    "from rmgpy.species import *\n",
    "from rmgpy.chemkin import *\n",
    "from rmgpy.data.rmg import RMGDatabase\n",
    "from IPython.display import display\n",
    "from rmgpy.data.thermo import ThermoLibrary\n",
    "from rmgpy.rmg.react import react\n",
    "from rmgpy.species import Species\n",
    "from rmgpy.reaction import Reaction\n",
    "from rmgpy.data.rmg import get_db\n",
    "from rmgpy.molecule.group import Group\n",
    "from rmgpy.kinetics.arrhenius import ArrheniusBM\n",
    "from rmgpy import settings\n",
    "import time\n",
    "import matplotlib.pyplot as plt\n",
    "import matplotlib"
   ]
  },
  {
   "cell_type": "code",
   "execution_count": 2,
   "metadata": {},
   "outputs": [
    {
     "data": {
      "text/plain": [
       "{'database.directory': '/home/khalil.nor/Code/RMG-database/input',\n",
       " 'test_data.directory': '/home/khalil.nor/Code/RMG-Py/rmgpy/test_data'}"
      ]
     },
     "execution_count": 2,
     "metadata": {},
     "output_type": "execute_result"
    }
   ],
   "source": [
    "settings"
   ]
  },
  {
   "cell_type": "code",
   "execution_count": 3,
   "metadata": {},
   "outputs": [],
   "source": [
    "thermo_libs = [\n",
    "'C1_C2_Fluorine', #adding Siddha's as first most trusted because this is the thermo library that Franklin used\n",
    "'NCSU_C2_C8_PFAS', #adding Westmoreland's thermo as the second most trusted\n",
    "'primaryThermoLibrary',\n",
    "'Fluorine',\n",
    "'FFCM1(-)',\n",
    "'halogens',\n",
    "'CHOF_G4',\n",
    "'CHOCl_G4',\n",
    "'CHOBr_G4',\n",
    "'CHOFCl_G4',\n",
    "'CHOFBr_G4',\n",
    "'CHOFClBr_G4',\n",
    "'DFT_QCI_thermo',\n",
    "'2-BTP_G4',\n",
    "'thermo_DFT_CCSDTF12_BAC',\n",
    "'SulfurHaynes'\n",
    "]\n"
   ]
  },
  {
   "cell_type": "code",
   "execution_count": 4,
   "metadata": {
    "scrolled": true
   },
   "outputs": [],
   "source": [
    "database = RMGDatabase()\n",
    "database.load(\n",
    "            path = settings['database.directory'],\n",
    "            thermo_libraries = thermo_libs,\n",
    "            transport_libraries = [],\n",
    "            reaction_libraries = [],\n",
    "            seed_mechanisms = [],#['BurkeH2O2inN2','ERC-FoundationFuelv0.9'],\n",
    "            kinetics_families = 'F_Abstraction',\n",
    "            kinetics_depositories = ['training'],\n",
    "            #frequenciesLibraries = self.statmechLibraries,\n",
    "            depository = False, # Don't bother loading the depository information, as we don't use it\n",
    "        )\n"
   ]
  },
  {
   "cell_type": "code",
   "execution_count": 5,
   "metadata": {},
   "outputs": [
    {
     "data": {
      "text/plain": [
       "{'F_Abstraction': <ReactionFamily \"F_Abstraction\">}"
      ]
     },
     "execution_count": 5,
     "metadata": {},
     "output_type": "execute_result"
    }
   ],
   "source": [
    "database.kinetics.families"
   ]
  },
  {
   "cell_type": "code",
   "execution_count": 6,
   "metadata": {},
   "outputs": [],
   "source": [
    "family = database.kinetics.families[\"F_Abstraction\"]\n"
   ]
  },
  {
   "cell_type": "code",
   "execution_count": 7,
   "metadata": {},
   "outputs": [],
   "source": [
    "family.clean_tree()"
   ]
  },
  {
   "cell_type": "code",
   "execution_count": 8,
   "metadata": {
    "scrolled": true
   },
   "outputs": [
    {
     "name": "stderr",
     "output_type": "stream",
     "text": [
      "ERROR:root:234.0\n",
      "ERROR:root:iter_max achieved terminating early\n",
      "ERROR:root:iter_max achieved terminating early\n"
     ]
    },
    {
     "name": "stdout",
     "output_type": "stream",
     "text": [
      "195.49433207511902\n"
     ]
    }
   ],
   "source": [
    "start = time.time()\n",
    "family.generate_tree(thermo_database=database.thermo,\n",
    "                     nprocs=1,\n",
    "                     new_fraction_threshold_to_reopt_node=0.25,\n",
    "                     max_batch_size=800,\n",
    "                     extension_iter_max=2,\n",
    "                     extension_iter_item_cap=100)\n",
    "\n",
    "end = time.time()\n",
    "print(end-start)"
   ]
  },
  {
   "cell_type": "code",
   "execution_count": 9,
   "metadata": {},
   "outputs": [
    {
     "data": {
      "text/plain": [
       "365"
      ]
     },
     "execution_count": 9,
     "metadata": {},
     "output_type": "execute_result"
    }
   ],
   "source": [
    "len(family.groups.entries)"
   ]
  },
  {
   "cell_type": "code",
   "execution_count": 10,
   "metadata": {
    "scrolled": true,
    "tags": []
   },
   "outputs": [
    {
     "data": {
      "text/plain": [
       "{'Root': <Entry index=0 label=\"Root\">,\n",
       " 'Root_1R->O': <Entry index=1 label=\"Root_1R->O\">,\n",
       " 'Root_N-1R->O': <Entry index=2 label=\"Root_N-1R->O\">,\n",
       " 'Root_1R->O_3R->O': <Entry index=3 label=\"Root_1R->O_3R->O\">,\n",
       " 'Root_1R->O_N-3R->O': <Entry index=4 label=\"Root_1R->O_N-3R->O\">,\n",
       " 'Root_N-1R->O_3R->O': <Entry index=5 label=\"Root_N-1R->O_3R->O\">,\n",
       " 'Root_N-1R->O_N-3R->O': <Entry index=6 label=\"Root_N-1R->O_N-3R->O\">,\n",
       " 'Root_1R->O_3R->O_Ext-1O-R': <Entry index=7 label=\"Root_1R->O_3R->O_Ext-1O-R\">,\n",
       " 'Root_1R->O_3R->O_Ext-3O-R_Ext-4R!H-R': <Entry index=8 label=\"Root_1R->O_3R->O_Ext-3O-R_Ext-4R!H-R\">,\n",
       " 'Root_1R->O_3R->O_1O-u0': <Entry index=9 label=\"Root_1R->O_3R->O_1O-u0\">,\n",
       " 'Root_1R->O_3R->O_N-1O-u0': <Entry index=10 label=\"Root_1R->O_3R->O_N-1O-u0\">,\n",
       " 'Root_1R->O_N-3R->O_1O-u0': <Entry index=11 label=\"Root_1R->O_N-3R->O_1O-u0\">,\n",
       " 'Root_1R->O_N-3R->O_N-1O-u0': <Entry index=12 label=\"Root_1R->O_N-3R->O_N-1O-u0\">,\n",
       " 'Root_N-1R->O_3R->O_Ext-3O-R': <Entry index=13 label=\"Root_N-1R->O_3R->O_Ext-3O-R\">,\n",
       " 'Root_N-1R->O_3R->O_1BrCClFHINPSSi-u0': <Entry index=14 label=\"Root_N-1R->O_3R->O_1BrCClFHINPSSi-u0\">,\n",
       " 'Root_N-1R->O_3R->O_N-1BrCClFHINPSSi-u0': <Entry index=15 label=\"Root_N-1R->O_3R->O_N-1BrCClFHINPSSi-u0\">,\n",
       " 'Root_N-1R->O_N-3R->O_1BrCClFHINPSSi->F': <Entry index=16 label=\"Root_N-1R->O_N-3R->O_1BrCClFHINPSSi->F\">,\n",
       " 'Root_N-1R->O_N-3R->O_N-1BrCClFHINPSSi->F': <Entry index=17 label=\"Root_N-1R->O_N-3R->O_N-1BrCClFHINPSSi->F\">,\n",
       " 'Root_1R->O_3R->O_Ext-1O-R_Ext-4R!H-R': <Entry index=18 label=\"Root_1R->O_3R->O_Ext-1O-R_Ext-4R!H-R\">,\n",
       " 'Root_1R->O_3R->O_Ext-1O-R_4R!H->C': <Entry index=19 label=\"Root_1R->O_3R->O_Ext-1O-R_4R!H->C\">,\n",
       " 'Root_1R->O_3R->O_Ext-1O-R_N-4R!H->C': <Entry index=20 label=\"Root_1R->O_3R->O_Ext-1O-R_N-4R!H->C\">,\n",
       " 'Root_1R->O_3R->O_N-1O-u0_Ext-3O-R_4R!H->C': <Entry index=21 label=\"Root_1R->O_3R->O_N-1O-u0_Ext-3O-R_4R!H->C\">,\n",
       " 'Root_1R->O_3R->O_N-1O-u0_Ext-3O-R_N-4R!H->C': <Entry index=22 label=\"Root_1R->O_3R->O_N-1O-u0_Ext-3O-R_N-4R!H->C\">,\n",
       " 'Root_1R->O_N-3R->O_1O-u0_3CClFH-u1': <Entry index=23 label=\"Root_1R->O_N-3R->O_1O-u0_3CClFH-u1\">,\n",
       " 'Root_1R->O_N-3R->O_1O-u0_N-3CClFH-u1': <Entry index=24 label=\"Root_1R->O_N-3R->O_1O-u0_N-3CClFH-u1\">,\n",
       " 'Root_1R->O_N-3R->O_N-1O-u0_Ext-3CClFH-R': <Entry index=25 label=\"Root_1R->O_N-3R->O_N-1O-u0_Ext-3CClFH-R\">,\n",
       " 'Root_1R->O_N-3R->O_N-1O-u0_3CClFH-u1': <Entry index=26 label=\"Root_1R->O_N-3R->O_N-1O-u0_3CClFH-u1\">,\n",
       " 'Root_1R->O_N-3R->O_N-1O-u0_N-3CClFH-u1': <Entry index=27 label=\"Root_1R->O_N-3R->O_N-1O-u0_N-3CClFH-u1\">,\n",
       " 'Root_N-1R->O_3R->O_Ext-3O-R_4R!H->O': <Entry index=28 label=\"Root_N-1R->O_3R->O_Ext-3O-R_4R!H->O\">,\n",
       " 'Root_N-1R->O_3R->O_Ext-3O-R_N-4R!H->O': <Entry index=29 label=\"Root_N-1R->O_3R->O_Ext-3O-R_N-4R!H->O\">,\n",
       " 'Root_N-1R->O_3R->O_1BrCClFHINPSSi-u0_Ext-1BrCClFHINPSSi-R': <Entry index=30 label=\"Root_N-1R->O_3R->O_1BrCClFHINPSSi-u0_Ext-1BrCClFHINPSSi-R\">,\n",
       " 'Root_N-1R->O_3R->O_1BrCClFHINPSSi-u0_3O-u1': <Entry index=31 label=\"Root_N-1R->O_3R->O_1BrCClFHINPSSi-u0_3O-u1\">,\n",
       " 'Root_N-1R->O_3R->O_1BrCClFHINPSSi-u0_N-3O-u1': <Entry index=32 label=\"Root_N-1R->O_3R->O_1BrCClFHINPSSi-u0_N-3O-u1\">,\n",
       " 'Root_N-1R->O_3R->O_N-1BrCClFHINPSSi-u0_Ext-1BrCClFHINPSSi-R': <Entry index=33 label=\"Root_N-1R->O_3R->O_N-1BrCClFHINPSSi-u0_Ext-1BrCClFHINPSSi-R\">,\n",
       " 'Root_N-1R->O_3R->O_N-1BrCClFHINPSSi-u0_3O-u1': <Entry index=34 label=\"Root_N-1R->O_3R->O_N-1BrCClFHINPSSi-u0_3O-u1\">,\n",
       " 'Root_N-1R->O_3R->O_N-1BrCClFHINPSSi-u0_N-3O-u1': <Entry index=35 label=\"Root_N-1R->O_3R->O_N-1BrCClFHINPSSi-u0_N-3O-u1\">,\n",
       " 'Root_N-1R->O_N-3R->O_1BrCClFHINPSSi->F_3CClFH->H': <Entry index=36 label=\"Root_N-1R->O_N-3R->O_1BrCClFHINPSSi->F_3CClFH->H\">,\n",
       " 'Root_N-1R->O_N-3R->O_1BrCClFHINPSSi->F_N-3CClFH->H': <Entry index=37 label=\"Root_N-1R->O_N-3R->O_1BrCClFHINPSSi->F_N-3CClFH->H\">,\n",
       " 'Root_N-1R->O_N-3R->O_N-1BrCClFHINPSSi->F_3CClFH->F': <Entry index=38 label=\"Root_N-1R->O_N-3R->O_N-1BrCClFHINPSSi->F_3CClFH->F\">,\n",
       " 'Root_N-1R->O_N-3R->O_N-1BrCClFHINPSSi->F_N-3CClFH->F': <Entry index=39 label=\"Root_N-1R->O_N-3R->O_N-1BrCClFHINPSSi->F_N-3CClFH->F\">,\n",
       " 'Root_1R->O_3R->O_Ext-1O-R_4R!H->C_3O-u1': <Entry index=40 label=\"Root_1R->O_3R->O_Ext-1O-R_4R!H->C_3O-u1\">,\n",
       " 'Root_1R->O_3R->O_Ext-1O-R_4R!H->C_N-3O-u1': <Entry index=41 label=\"Root_1R->O_3R->O_Ext-1O-R_4R!H->C_N-3O-u1\">,\n",
       " 'Root_1R->O_N-3R->O_1O-u0_3CClFH-u1_Ext-3CClFH-R': <Entry index=42 label=\"Root_1R->O_N-3R->O_1O-u0_3CClFH-u1_Ext-3CClFH-R\">,\n",
       " 'Root_1R->O_N-3R->O_1O-u0_3CClFH-u1_3CClFH->C': <Entry index=43 label=\"Root_1R->O_N-3R->O_1O-u0_3CClFH-u1_3CClFH->C\">,\n",
       " 'Root_1R->O_N-3R->O_1O-u0_3CClFH-u1_N-3CClFH->C': <Entry index=44 label=\"Root_1R->O_N-3R->O_1O-u0_3CClFH-u1_N-3CClFH->C\">,\n",
       " 'Root_1R->O_N-3R->O_1O-u0_N-3CClFH-u1_Ext-3CClFH-R': <Entry index=45 label=\"Root_1R->O_N-3R->O_1O-u0_N-3CClFH-u1_Ext-3CClFH-R\">,\n",
       " 'Root_1R->O_N-3R->O_1O-u0_N-3CClFH-u1_Ext-1O-R': <Entry index=46 label=\"Root_1R->O_N-3R->O_1O-u0_N-3CClFH-u1_Ext-1O-R\">,\n",
       " 'Root_1R->O_N-3R->O_N-1O-u0_Ext-3CClFH-R_Sp-4R!H-3CClFH': <Entry index=47 label=\"Root_1R->O_N-3R->O_N-1O-u0_Ext-3CClFH-R_Sp-4R!H-3CClFH\">,\n",
       " 'Root_1R->O_N-3R->O_N-1O-u0_Ext-3CClFH-R_N-Sp-4R!H-3CClFH': <Entry index=48 label=\"Root_1R->O_N-3R->O_N-1O-u0_Ext-3CClFH-R_N-Sp-4R!H-3CClFH\">,\n",
       " 'Root_N-1R->O_3R->O_Ext-3O-R_4R!H->O_1BrCClFHINPSSi-u0': <Entry index=49 label=\"Root_N-1R->O_3R->O_Ext-3O-R_4R!H->O_1BrCClFHINPSSi-u0\">,\n",
       " 'Root_N-1R->O_3R->O_Ext-3O-R_4R!H->O_N-1BrCClFHINPSSi-u0': <Entry index=50 label=\"Root_N-1R->O_3R->O_Ext-3O-R_4R!H->O_N-1BrCClFHINPSSi-u0\">,\n",
       " 'Root_N-1R->O_3R->O_Ext-3O-R_N-4R!H->O_1BrCClFHINPSSi->H': <Entry index=51 label=\"Root_N-1R->O_3R->O_Ext-3O-R_N-4R!H->O_1BrCClFHINPSSi->H\">,\n",
       " 'Root_N-1R->O_3R->O_Ext-3O-R_N-4R!H->O_N-1BrCClFHINPSSi->H': <Entry index=52 label=\"Root_N-1R->O_3R->O_Ext-3O-R_N-4R!H->O_N-1BrCClFHINPSSi->H\">,\n",
       " 'Root_N-1R->O_3R->O_1BrCClFHINPSSi-u0_Ext-1BrCClFHINPSSi-R_Sp-4R!H#1BrBrBrCCCClClClFFFHHHIIINNNPPPSSSSiSiSi': <Entry index=53 label=\"Root_N-1R->O_3R->O_1BrCClFHINPSSi-u0_Ext-1BrCClFHINPSSi-R_Sp-4R!H#1BrBrBrCCCClClClFFFHHHIIINNNPPPSSSSiSiSi\">,\n",
       " 'Root_N-1R->O_3R->O_1BrCClFHINPSSi-u0_Ext-1BrCClFHINPSSi-R_N-Sp-4R!H#1BrBrBrCCCClClClFFFHHHIIINNNPPPSSSSiSiSi': <Entry index=54 label=\"Root_N-1R->O_3R->O_1BrCClFHINPSSi-u0_Ext-1BrCClFHINPSSi-R_N-Sp-4R!H#1BrBrBrCCCClClClFFFHHHIIINNNPPPSSSSiSiSi\">,\n",
       " 'Root_N-1R->O_3R->O_N-1BrCClFHINPSSi-u0_Ext-1BrCClFHINPSSi-R_Sp-4R!H-1BrCClFHINPSSi': <Entry index=55 label=\"Root_N-1R->O_3R->O_N-1BrCClFHINPSSi-u0_Ext-1BrCClFHINPSSi-R_Sp-4R!H-1BrCClFHINPSSi\">,\n",
       " 'Root_N-1R->O_3R->O_N-1BrCClFHINPSSi-u0_Ext-1BrCClFHINPSSi-R_N-Sp-4R!H-1BrCClFHINPSSi': <Entry index=56 label=\"Root_N-1R->O_3R->O_N-1BrCClFHINPSSi-u0_Ext-1BrCClFHINPSSi-R_N-Sp-4R!H-1BrCClFHINPSSi\">,\n",
       " 'Root_N-1R->O_N-3R->O_1BrCClFHINPSSi->F_N-3CClFH->H_Ext-3CClF-R': <Entry index=57 label=\"Root_N-1R->O_N-3R->O_1BrCClFHINPSSi->F_N-3CClFH->H_Ext-3CClF-R\">,\n",
       " 'Root_N-1R->O_N-3R->O_N-1BrCClFHINPSSi->F_3CClFH->F_1CClH->H': <Entry index=58 label=\"Root_N-1R->O_N-3R->O_N-1BrCClFHINPSSi->F_3CClFH->F_1CClH->H\">,\n",
       " 'Root_N-1R->O_N-3R->O_N-1BrCClFHINPSSi->F_3CClFH->F_N-1CClH->H': <Entry index=59 label=\"Root_N-1R->O_N-3R->O_N-1BrCClFHINPSSi->F_3CClFH->F_N-1CClH->H\">,\n",
       " 'Root_N-1R->O_N-3R->O_N-1BrCClFHINPSSi->F_N-3CClFH->F_3CClH->H': <Entry index=60 label=\"Root_N-1R->O_N-3R->O_N-1BrCClFHINPSSi->F_N-3CClFH->F_3CClH->H\">,\n",
       " 'Root_N-1R->O_N-3R->O_N-1BrCClFHINPSSi->F_N-3CClFH->F_N-3CClH->H': <Entry index=61 label=\"Root_N-1R->O_N-3R->O_N-1BrCClFHINPSSi->F_N-3CClFH->F_N-3CClH->H\">,\n",
       " 'Root_1R->O_N-3R->O_1O-u0_3CClFH-u1_Ext-3CClFH-R_4R!H->Cl': <Entry index=62 label=\"Root_1R->O_N-3R->O_1O-u0_3CClFH-u1_Ext-3CClFH-R_4R!H->Cl\">,\n",
       " 'Root_1R->O_N-3R->O_1O-u0_3CClFH-u1_Ext-3CClFH-R_N-4R!H->Cl': <Entry index=63 label=\"Root_1R->O_N-3R->O_1O-u0_3CClFH-u1_Ext-3CClFH-R_N-4R!H->Cl\">,\n",
       " 'Root_1R->O_N-3R->O_1O-u0_3CClFH-u1_3CClFH->C_Ext-1O-R': <Entry index=64 label=\"Root_1R->O_N-3R->O_1O-u0_3CClFH-u1_3CClFH->C_Ext-1O-R\">,\n",
       " 'Root_1R->O_N-3R->O_1O-u0_N-3CClFH-u1_Ext-3CClFH-R_Ext-3CClFH-R': <Entry index=65 label=\"Root_1R->O_N-3R->O_1O-u0_N-3CClFH-u1_Ext-3CClFH-R_Ext-3CClFH-R\">,\n",
       " 'Root_1R->O_N-3R->O_1O-u0_N-3CClFH-u1_Ext-3CClFH-R_Ext-1O-R': <Entry index=66 label=\"Root_1R->O_N-3R->O_1O-u0_N-3CClFH-u1_Ext-3CClFH-R_Ext-1O-R\">,\n",
       " 'Root_1R->O_N-3R->O_1O-u0_N-3CClFH-u1_Ext-3CClFH-R_4R!H->C': <Entry index=67 label=\"Root_1R->O_N-3R->O_1O-u0_N-3CClFH-u1_Ext-3CClFH-R_4R!H->C\">,\n",
       " 'Root_1R->O_N-3R->O_1O-u0_N-3CClFH-u1_Ext-3CClFH-R_N-4R!H->C': <Entry index=68 label=\"Root_1R->O_N-3R->O_1O-u0_N-3CClFH-u1_Ext-3CClFH-R_N-4R!H->C\">,\n",
       " 'Root_1R->O_N-3R->O_N-1O-u0_Ext-3CClFH-R_Sp-4R!H-3CClFH_4R!H->F': <Entry index=69 label=\"Root_1R->O_N-3R->O_N-1O-u0_Ext-3CClFH-R_Sp-4R!H-3CClFH_4R!H->F\">,\n",
       " 'Root_1R->O_N-3R->O_N-1O-u0_Ext-3CClFH-R_Sp-4R!H-3CClFH_N-4R!H->F': <Entry index=70 label=\"Root_1R->O_N-3R->O_N-1O-u0_Ext-3CClFH-R_Sp-4R!H-3CClFH_N-4R!H->F\">,\n",
       " 'Root_N-1R->O_3R->O_Ext-3O-R_4R!H->O_1BrCClFHINPSSi-u0_Ext-1BrCClFHINPSSi-R': <Entry index=71 label=\"Root_N-1R->O_3R->O_Ext-3O-R_4R!H->O_1BrCClFHINPSSi-u0_Ext-1BrCClFHINPSSi-R\">,\n",
       " 'Root_N-1R->O_3R->O_Ext-3O-R_4R!H->O_N-1BrCClFHINPSSi-u0_Ext-1BrCClFHINPSSi-R': <Entry index=72 label=\"Root_N-1R->O_3R->O_Ext-3O-R_4R!H->O_N-1BrCClFHINPSSi-u0_Ext-1BrCClFHINPSSi-R\">,\n",
       " 'Root_N-1R->O_3R->O_Ext-3O-R_N-4R!H->O_N-1BrCClFHINPSSi->H_4BrCClFINPSSi->F': <Entry index=73 label=\"Root_N-1R->O_3R->O_Ext-3O-R_N-4R!H->O_N-1BrCClFHINPSSi->H_4BrCClFINPSSi->F\">,\n",
       " 'Root_N-1R->O_3R->O_Ext-3O-R_N-4R!H->O_N-1BrCClFHINPSSi->H_N-4BrCClFINPSSi->F': <Entry index=74 label=\"Root_N-1R->O_3R->O_Ext-3O-R_N-4R!H->O_N-1BrCClFHINPSSi->H_N-4BrCClFINPSSi->F\">,\n",
       " 'Root_N-1R->O_3R->O_1BrCClFHINPSSi-u0_Ext-1BrCClFHINPSSi-R_N-Sp-4R!H#1BrBrBrCCCClClClFFFHHHIIINNNPPPSSSSiSiSi_4R!H->F': <Entry index=75 label=\"Root_N-1R->O_3R->O_1BrCClFHINPSSi-u0_Ext-1BrCClFHINPSSi-R_N-Sp-4R!H#1BrBrBrCCCClClClFFFHHHIIINNNPPPSSSSiSiSi_4R!H->F\">,\n",
       " 'Root_N-1R->O_3R->O_1BrCClFHINPSSi-u0_Ext-1BrCClFHINPSSi-R_N-Sp-4R!H#1BrBrBrCCCClClClFFFHHHIIINNNPPPSSSSiSiSi_N-4R!H->F': <Entry index=76 label=\"Root_N-1R->O_3R->O_1BrCClFHINPSSi-u0_Ext-1BrCClFHINPSSi-R_N-Sp-4R!H#1BrBrBrCCCClClClFFFHHHIIINNNPPPSSSSiSiSi_N-4R!H->F\">,\n",
       " 'Root_N-1R->O_3R->O_N-1BrCClFHINPSSi-u0_Ext-1BrCClFHINPSSi-R_Sp-4R!H-1BrCClFHINPSSi_4R!H->O': <Entry index=77 label=\"Root_N-1R->O_3R->O_N-1BrCClFHINPSSi-u0_Ext-1BrCClFHINPSSi-R_Sp-4R!H-1BrCClFHINPSSi_4R!H->O\">,\n",
       " 'Root_N-1R->O_3R->O_N-1BrCClFHINPSSi-u0_Ext-1BrCClFHINPSSi-R_Sp-4R!H-1BrCClFHINPSSi_N-4R!H->O': <Entry index=78 label=\"Root_N-1R->O_3R->O_N-1BrCClFHINPSSi-u0_Ext-1BrCClFHINPSSi-R_Sp-4R!H-1BrCClFHINPSSi_N-4R!H->O\">,\n",
       " 'Root_N-1R->O_N-3R->O_1BrCClFHINPSSi->F_N-3CClFH->H_Ext-3CClF-R_Ext-3CClF-R': <Entry index=79 label=\"Root_N-1R->O_N-3R->O_1BrCClFHINPSSi->F_N-3CClFH->H_Ext-3CClF-R_Ext-3CClF-R\">,\n",
       " 'Root_N-1R->O_N-3R->O_N-1BrCClFHINPSSi->F_3CClFH->F_N-1CClH->H_Ext-1CCl-R': <Entry index=80 label=\"Root_N-1R->O_N-3R->O_N-1BrCClFHINPSSi->F_3CClFH->F_N-1CClH->H_Ext-1CCl-R\">,\n",
       " 'Root_N-1R->O_N-3R->O_N-1BrCClFHINPSSi->F_N-3CClFH->F_3CClH->H_1CClH->Cl': <Entry index=81 label=\"Root_N-1R->O_N-3R->O_N-1BrCClFHINPSSi->F_N-3CClFH->F_3CClH->H_1CClH->Cl\">,\n",
       " 'Root_N-1R->O_N-3R->O_N-1BrCClFHINPSSi->F_N-3CClFH->F_3CClH->H_N-1CClH->Cl': <Entry index=82 label=\"Root_N-1R->O_N-3R->O_N-1BrCClFHINPSSi->F_N-3CClFH->F_3CClH->H_N-1CClH->Cl\">,\n",
       " 'Root_N-1R->O_N-3R->O_N-1BrCClFHINPSSi->F_N-3CClFH->F_N-3CClH->H_3CCl-u1': <Entry index=83 label=\"Root_N-1R->O_N-3R->O_N-1BrCClFHINPSSi->F_N-3CClFH->F_N-3CClH->H_3CCl-u1\">,\n",
       " 'Root_N-1R->O_N-3R->O_N-1BrCClFHINPSSi->F_N-3CClFH->F_N-3CClH->H_N-3CCl-u1': <Entry index=84 label=\"Root_N-1R->O_N-3R->O_N-1BrCClFHINPSSi->F_N-3CClFH->F_N-3CClH->H_N-3CCl-u1\">,\n",
       " 'Root_1R->O_N-3R->O_1O-u0_3CClFH-u1_Ext-3CClFH-R_4R!H->Cl_Ext-1O-R': <Entry index=85 label=\"Root_1R->O_N-3R->O_1O-u0_3CClFH-u1_Ext-3CClFH-R_4R!H->Cl_Ext-1O-R\">,\n",
       " 'Root_1R->O_N-3R->O_1O-u0_3CClFH-u1_Ext-3CClFH-R_4R!H->Cl_Ext-3CClFH-R': <Entry index=86 label=\"Root_1R->O_N-3R->O_1O-u0_3CClFH-u1_Ext-3CClFH-R_4R!H->Cl_Ext-3CClFH-R\">,\n",
       " 'Root_1R->O_N-3R->O_1O-u0_3CClFH-u1_Ext-3CClFH-R_N-4R!H->Cl_Ext-4BrCFINOPSSi-R': <Entry index=87 label=\"Root_1R->O_N-3R->O_1O-u0_3CClFH-u1_Ext-3CClFH-R_N-4R!H->Cl_Ext-4BrCFINOPSSi-R\">,\n",
       " 'Root_1R->O_N-3R->O_1O-u0_3CClFH-u1_Ext-3CClFH-R_N-4R!H->Cl_Sp-4BrBrBrCCCCCClClFFFFFHHIIINNNOOOPPPSSSSiSiSi#3BrBrBrCCCCCCClClClFFFFFFHHHIIINNNOOOPPPSSSSiSiSi': <Entry index=88 label=\"Root_1R->O_N-3R->O_1O-u0_3CClFH-u1_Ext-3CClFH-R_N-4R!H->Cl_Sp-4BrBrBrCCCCCClClFFFFFHHIIINNNOOOPPPSSSSiSiSi#3BrBrBrCCCCCCClClClFFFFFFHHHIIINNNOOOPPPSSSSiSiSi\">,\n",
       " 'Root_1R->O_N-3R->O_1O-u0_3CClFH-u1_Ext-3CClFH-R_N-4R!H->Cl_N-Sp-4BrBrBrCCCCCClClFFFFFHHIIINNNOOOPPPSSSSiSiSi#3BrBrBrCCCCCCClClClFFFFFFHHHIIINNNOOOPPPSSSSiSiSi': <Entry index=89 label=\"Root_1R->O_N-3R->O_1O-u0_3CClFH-u1_Ext-3CClFH-R_N-4R!H->Cl_N-Sp-4BrBrBrCCCCCClClFFFFFHHIIINNNOOOPPPSSSSiSiSi#3BrBrBrCCCCCCClClClFFFFFFHHHIIINNNOOOPPPSSSSiSiSi\">,\n",
       " 'Root_1R->O_N-3R->O_1O-u0_3CClFH-u1_3CClFH->C_Ext-1O-R_4R!H->C': <Entry index=90 label=\"Root_1R->O_N-3R->O_1O-u0_3CClFH-u1_3CClFH->C_Ext-1O-R_4R!H->C\">,\n",
       " 'Root_1R->O_N-3R->O_1O-u0_3CClFH-u1_3CClFH->C_Ext-1O-R_N-4R!H->C': <Entry index=91 label=\"Root_1R->O_N-3R->O_1O-u0_3CClFH-u1_3CClFH->C_Ext-1O-R_N-4R!H->C\">,\n",
       " 'Root_1R->O_N-3R->O_1O-u0_N-3CClFH-u1_Ext-3CClFH-R_Ext-3CClFH-R_4R!H->C': <Entry index=92 label=\"Root_1R->O_N-3R->O_1O-u0_N-3CClFH-u1_Ext-3CClFH-R_Ext-3CClFH-R_4R!H->C\">,\n",
       " 'Root_1R->O_N-3R->O_1O-u0_N-3CClFH-u1_Ext-3CClFH-R_Ext-3CClFH-R_N-4R!H->C': <Entry index=93 label=\"Root_1R->O_N-3R->O_1O-u0_N-3CClFH-u1_Ext-3CClFH-R_Ext-3CClFH-R_N-4R!H->C\">,\n",
       " 'Root_1R->O_N-3R->O_1O-u0_N-3CClFH-u1_Ext-3CClFH-R_4R!H->C_Sp-4C-3CClFH': <Entry index=94 label=\"Root_1R->O_N-3R->O_1O-u0_N-3CClFH-u1_Ext-3CClFH-R_4R!H->C_Sp-4C-3CClFH\">,\n",
       " 'Root_1R->O_N-3R->O_1O-u0_N-3CClFH-u1_Ext-3CClFH-R_4R!H->C_N-Sp-4C-3CClFH': <Entry index=95 label=\"Root_1R->O_N-3R->O_1O-u0_N-3CClFH-u1_Ext-3CClFH-R_4R!H->C_N-Sp-4C-3CClFH\">,\n",
       " 'Root_1R->O_N-3R->O_N-1O-u0_Ext-3CClFH-R_Sp-4R!H-3CClFH_4R!H->F_Ext-3CClFH-R': <Entry index=96 label=\"Root_1R->O_N-3R->O_N-1O-u0_Ext-3CClFH-R_Sp-4R!H-3CClFH_4R!H->F_Ext-3CClFH-R\">,\n",
       " 'Root_1R->O_N-3R->O_N-1O-u0_Ext-3CClFH-R_Sp-4R!H-3CClFH_N-4R!H->F_Ext-3CClFH-R': <Entry index=97 label=\"Root_1R->O_N-3R->O_N-1O-u0_Ext-3CClFH-R_Sp-4R!H-3CClFH_N-4R!H->F_Ext-3CClFH-R\">,\n",
       " 'Root_1R->O_N-3R->O_N-1O-u0_Ext-3CClFH-R_Sp-4R!H-3CClFH_N-4R!H->F_3CClFH-u1': <Entry index=98 label=\"Root_1R->O_N-3R->O_N-1O-u0_Ext-3CClFH-R_Sp-4R!H-3CClFH_N-4R!H->F_3CClFH-u1\">,\n",
       " 'Root_1R->O_N-3R->O_N-1O-u0_Ext-3CClFH-R_Sp-4R!H-3CClFH_N-4R!H->F_N-3CClFH-u1': <Entry index=99 label=\"Root_1R->O_N-3R->O_N-1O-u0_Ext-3CClFH-R_Sp-4R!H-3CClFH_N-4R!H->F_N-3CClFH-u1\">,\n",
       " 'Root_N-1R->O_3R->O_Ext-3O-R_4R!H->O_1BrCClFHINPSSi-u0_Ext-1BrCClFHINPSSi-R_Sp-5R!H=1BrBrCCClClFFHHIINNPPSSSiSi': <Entry index=100 label=\"Root_N-1R->O_3R->O_Ext-3O-R_4R!H->O_1BrCClFHINPSSi-u0_Ext-1BrCClFHINPSSi-R_Sp-5R!H=1BrBrCCClClFFHHIINNPPSSSiSi\">,\n",
       " 'Root_N-1R->O_3R->O_Ext-3O-R_4R!H->O_1BrCClFHINPSSi-u0_Ext-1BrCClFHINPSSi-R_N-Sp-5R!H=1BrBrCCClClFFHHIINNPPSSSiSi': <Entry index=101 label=\"Root_N-1R->O_3R->O_Ext-3O-R_4R!H->O_1BrCClFHINPSSi-u0_Ext-1BrCClFHINPSSi-R_N-Sp-5R!H=1BrBrCCClClFFHHIINNPPSSSiSi\">,\n",
       " 'Root_N-1R->O_3R->O_Ext-3O-R_4R!H->O_N-1BrCClFHINPSSi-u0_Ext-1BrCClFHINPSSi-R_Ext-1BrCClFHINPSSi-R': <Entry index=102 label=\"Root_N-1R->O_3R->O_Ext-3O-R_4R!H->O_N-1BrCClFHINPSSi-u0_Ext-1BrCClFHINPSSi-R_Ext-1BrCClFHINPSSi-R\">,\n",
       " 'Root_N-1R->O_3R->O_Ext-3O-R_N-4R!H->O_N-1BrCClFHINPSSi->H_4BrCClFINPSSi->F_Ext-1C-R': <Entry index=103 label=\"Root_N-1R->O_3R->O_Ext-3O-R_N-4R!H->O_N-1BrCClFHINPSSi->H_4BrCClFINPSSi->F_Ext-1C-R\">,\n",
       " 'Root_N-1R->O_3R->O_Ext-3O-R_N-4R!H->O_N-1BrCClFHINPSSi->H_N-4BrCClFINPSSi->F_Ext-1C-R': <Entry index=104 label=\"Root_N-1R->O_3R->O_Ext-3O-R_N-4R!H->O_N-1BrCClFHINPSSi->H_N-4BrCClFINPSSi->F_Ext-1C-R\">,\n",
       " 'Root_N-1R->O_3R->O_1BrCClFHINPSSi-u0_Ext-1BrCClFHINPSSi-R_N-Sp-4R!H#1BrBrBrCCCClClClFFFHHHIIINNNPPPSSSSiSiSi_4R!H->F_Ext-1BrCClFHINPSSi-R': <Entry index=105 label=\"Root_N-1R->O_3R->O_1BrCClFHINPSSi-u0_Ext-1BrCClFHINPSSi-R_N-Sp-4R!H#1BrBrBrCCCClClClFFFHHHIIINNNPPPSSSSiSiSi_4R!H->F_Ext-1BrCClFHINPSSi-R\">,\n",
       " 'Root_N-1R->O_3R->O_1BrCClFHINPSSi-u0_Ext-1BrCClFHINPSSi-R_N-Sp-4R!H#1BrBrBrCCCClClClFFFHHHIIINNNPPPSSSSiSiSi_4R!H->F_3O-u1': <Entry index=106 label=\"Root_N-1R->O_3R->O_1BrCClFHINPSSi-u0_Ext-1BrCClFHINPSSi-R_N-Sp-4R!H#1BrBrBrCCCClClClFFFHHHIIINNNPPPSSSSiSiSi_4R!H->F_3O-u1\">,\n",
       " 'Root_N-1R->O_3R->O_1BrCClFHINPSSi-u0_Ext-1BrCClFHINPSSi-R_N-Sp-4R!H#1BrBrBrCCCClClClFFFHHHIIINNNPPPSSSSiSiSi_4R!H->F_N-3O-u1': <Entry index=107 label=\"Root_N-1R->O_3R->O_1BrCClFHINPSSi-u0_Ext-1BrCClFHINPSSi-R_N-Sp-4R!H#1BrBrBrCCCClClClFFFHHHIIINNNPPPSSSSiSiSi_4R!H->F_N-3O-u1\">,\n",
       " 'Root_N-1R->O_3R->O_1BrCClFHINPSSi-u0_Ext-1BrCClFHINPSSi-R_N-Sp-4R!H#1BrBrBrCCCClClClFFFHHHIIINNNPPPSSSSiSiSi_N-4R!H->F_Sp-4BrCCCClClClFHINOOPSSi=1BrBrCCCCClClClClFFHHIINNOOPPSSSiSi': <Entry index=108 label=\"Root_N-1R->O_3R->O_1BrCClFHINPSSi-u0_Ext-1BrCClFHINPSSi-R_N-Sp-4R!H#1BrBrBrCCCClClClFFFHHHIIINNNPPPSSSSiSiSi_N-4R!H->F_Sp-4BrCCCClClClFHINOOPSSi=1BrBrCCCCClClClClFFHHIINNOOPPSSSiSi\">,\n",
       " 'Root_N-1R->O_3R->O_1BrCClFHINPSSi-u0_Ext-1BrCClFHINPSSi-R_N-Sp-4R!H#1BrBrBrCCCClClClFFFHHHIIINNNPPPSSSSiSiSi_N-4R!H->F_N-Sp-4BrCCCClClClFHINOOPSSi=1BrBrCCCCClClClClFFHHIINNOOPPSSSiSi': <Entry index=109 label=\"Root_N-1R->O_3R->O_1BrCClFHINPSSi-u0_Ext-1BrCClFHINPSSi-R_N-Sp-4R!H#1BrBrBrCCCClClClFFFHHHIIINNNPPPSSSSiSiSi_N-4R!H->F_N-Sp-4BrCCCClClClFHINOOPSSi=1BrBrCCCCClClClClFFHHIINNOOPPSSSiSi\">,\n",
       " 'Root_N-1R->O_3R->O_N-1BrCClFHINPSSi-u0_Ext-1BrCClFHINPSSi-R_Sp-4R!H-1BrCClFHINPSSi_4R!H->O_Ext-1BrCClFHINPSSi-R': <Entry index=110 label=\"Root_N-1R->O_3R->O_N-1BrCClFHINPSSi-u0_Ext-1BrCClFHINPSSi-R_Sp-4R!H-1BrCClFHINPSSi_4R!H->O_Ext-1BrCClFHINPSSi-R\">,\n",
       " 'Root_N-1R->O_3R->O_N-1BrCClFHINPSSi-u0_Ext-1BrCClFHINPSSi-R_Sp-4R!H-1BrCClFHINPSSi_4R!H->O_3O-u1': <Entry index=111 label=\"Root_N-1R->O_3R->O_N-1BrCClFHINPSSi-u0_Ext-1BrCClFHINPSSi-R_Sp-4R!H-1BrCClFHINPSSi_4R!H->O_3O-u1\">,\n",
       " 'Root_N-1R->O_3R->O_N-1BrCClFHINPSSi-u0_Ext-1BrCClFHINPSSi-R_Sp-4R!H-1BrCClFHINPSSi_4R!H->O_N-3O-u1': <Entry index=112 label=\"Root_N-1R->O_3R->O_N-1BrCClFHINPSSi-u0_Ext-1BrCClFHINPSSi-R_Sp-4R!H-1BrCClFHINPSSi_4R!H->O_N-3O-u1\">,\n",
       " 'Root_N-1R->O_3R->O_N-1BrCClFHINPSSi-u0_Ext-1BrCClFHINPSSi-R_Sp-4R!H-1BrCClFHINPSSi_N-4R!H->O_Ext-1BrCClFHINPSSi-R': <Entry index=113 label=\"Root_N-1R->O_3R->O_N-1BrCClFHINPSSi-u0_Ext-1BrCClFHINPSSi-R_Sp-4R!H-1BrCClFHINPSSi_N-4R!H->O_Ext-1BrCClFHINPSSi-R\">,\n",
       " 'Root_N-1R->O_N-3R->O_1BrCClFHINPSSi->F_N-3CClFH->H_Ext-3CClF-R_Ext-3CClF-R_4R!H->O': <Entry index=114 label=\"Root_N-1R->O_N-3R->O_1BrCClFHINPSSi->F_N-3CClFH->H_Ext-3CClF-R_Ext-3CClF-R_4R!H->O\">,\n",
       " 'Root_N-1R->O_N-3R->O_1BrCClFHINPSSi->F_N-3CClFH->H_Ext-3CClF-R_Ext-3CClF-R_N-4R!H->O': <Entry index=115 label=\"Root_N-1R->O_N-3R->O_1BrCClFHINPSSi->F_N-3CClFH->H_Ext-3CClF-R_Ext-3CClF-R_N-4R!H->O\">,\n",
       " 'Root_N-1R->O_N-3R->O_N-1BrCClFHINPSSi->F_3CClFH->F_N-1CClH->H_Ext-1CCl-R_Ext-1CCl-R': <Entry index=116 label=\"Root_N-1R->O_N-3R->O_N-1BrCClFHINPSSi->F_3CClFH->F_N-1CClH->H_Ext-1CCl-R_Ext-1CCl-R\">,\n",
       " 'Root_N-1R->O_N-3R->O_N-1BrCClFHINPSSi->F_N-3CClFH->F_3CClH->H_N-1CClH->Cl_Ext-1CH-R': <Entry index=117 label=\"Root_N-1R->O_N-3R->O_N-1BrCClFHINPSSi->F_N-3CClFH->F_3CClH->H_N-1CClH->Cl_Ext-1CH-R\">,\n",
       " 'Root_N-1R->O_N-3R->O_N-1BrCClFHINPSSi->F_N-3CClFH->F_N-3CClH->H_3CCl-u1_1CClH->H': <Entry index=118 label=\"Root_N-1R->O_N-3R->O_N-1BrCClFHINPSSi->F_N-3CClFH->F_N-3CClH->H_3CCl-u1_1CClH->H\">,\n",
       " 'Root_N-1R->O_N-3R->O_N-1BrCClFHINPSSi->F_N-3CClFH->F_N-3CClH->H_3CCl-u1_N-1CClH->H': <Entry index=119 label=\"Root_N-1R->O_N-3R->O_N-1BrCClFHINPSSi->F_N-3CClFH->F_N-3CClH->H_3CCl-u1_N-1CClH->H\">,\n",
       " 'Root_N-1R->O_N-3R->O_N-1BrCClFHINPSSi->F_N-3CClFH->F_N-3CClH->H_N-3CCl-u1_Ext-3CCl-R_Ext-3CCl-R': <Entry index=120 label=\"Root_N-1R->O_N-3R->O_N-1BrCClFHINPSSi->F_N-3CClFH->F_N-3CClH->H_N-3CCl-u1_Ext-3CCl-R_Ext-3CCl-R\">,\n",
       " 'Root_N-1R->O_N-3R->O_N-1BrCClFHINPSSi->F_N-3CClFH->F_N-3CClH->H_N-3CCl-u1_Ext-3CCl-R_Sp-4R!H-3CCl': <Entry index=121 label=\"Root_N-1R->O_N-3R->O_N-1BrCClFHINPSSi->F_N-3CClFH->F_N-3CClH->H_N-3CCl-u1_Ext-3CCl-R_Sp-4R!H-3CCl\">,\n",
       " 'Root_N-1R->O_N-3R->O_N-1BrCClFHINPSSi->F_N-3CClFH->F_N-3CClH->H_N-3CCl-u1_Ext-3CCl-R_N-Sp-4R!H-3CCl': <Entry index=122 label=\"Root_N-1R->O_N-3R->O_N-1BrCClFHINPSSi->F_N-3CClFH->F_N-3CClH->H_N-3CCl-u1_Ext-3CCl-R_N-Sp-4R!H-3CCl\">,\n",
       " 'Root_1R->O_N-3R->O_1O-u0_3CClFH-u1_Ext-3CClFH-R_4R!H->Cl_Ext-1O-R_5R!H->C': <Entry index=123 label=\"Root_1R->O_N-3R->O_1O-u0_3CClFH-u1_Ext-3CClFH-R_4R!H->Cl_Ext-1O-R_5R!H->C\">,\n",
       " 'Root_1R->O_N-3R->O_1O-u0_3CClFH-u1_Ext-3CClFH-R_4R!H->Cl_Ext-1O-R_N-5R!H->C': <Entry index=124 label=\"Root_1R->O_N-3R->O_1O-u0_3CClFH-u1_Ext-3CClFH-R_4R!H->Cl_Ext-1O-R_N-5R!H->C\">,\n",
       " 'Root_1R->O_N-3R->O_1O-u0_3CClFH-u1_Ext-3CClFH-R_N-4R!H->Cl_Ext-4BrCFINOPSSi-R_Sp-4BrCFINOPSSi-3BrCCClFFHINOPSSi': <Entry index=125 label=\"Root_1R->O_N-3R->O_1O-u0_3CClFH-u1_Ext-3CClFH-R_N-4R!H->Cl_Ext-4BrCFINOPSSi-R_Sp-4BrCFINOPSSi-3BrCCClFFHINOPSSi\">,\n",
       " 'Root_1R->O_N-3R->O_1O-u0_3CClFH-u1_Ext-3CClFH-R_N-4R!H->Cl_Ext-4BrCFINOPSSi-R_N-Sp-4BrCFINOPSSi-3BrCCClFFHINOPSSi': <Entry index=126 label=\"Root_1R->O_N-3R->O_1O-u0_3CClFH-u1_Ext-3CClFH-R_N-4R!H->Cl_Ext-4BrCFINOPSSi-R_N-Sp-4BrCFINOPSSi-3BrCCClFFHINOPSSi\">,\n",
       " 'Root_1R->O_N-3R->O_1O-u0_3CClFH-u1_Ext-3CClFH-R_N-4R!H->Cl_N-Sp-4BrBrBrCCCCCClClFFFFFHHIIINNNOOOPPPSSSSiSiSi#3BrBrBrCCCCCCClClClFFFFFFHHHIIINNNOOOPPPSSSSiSiSi_Sp-4BrCFINOPSSi-3BrCCClFFHINOPSSi': <Entry index=127 label=\"Root_1R->O_N-3R->O_1O-u0_3CClFH-u1_Ext-3CClFH-R_N-4R!H->Cl_N-Sp-4BrBrBrCCCCCClClFFFFFHHIIINNNOOOPPPSSSSiSiSi#3BrBrBrCCCCCCClClClFFFFFFHHHIIINNNOOOPPPSSSSiSiSi_Sp-4BrCFINOPSSi-3BrCCClFFHINOPSSi\">,\n",
       " 'Root_1R->O_N-3R->O_1O-u0_3CClFH-u1_Ext-3CClFH-R_N-4R!H->Cl_N-Sp-4BrBrBrCCCCCClClFFFFFHHIIINNNOOOPPPSSSSiSiSi#3BrBrBrCCCCCCClClClFFFFFFHHHIIINNNOOOPPPSSSSiSiSi_N-Sp-4BrCFINOPSSi-3BrCCClFFHINOPSSi': <Entry index=128 label=\"Root_1R->O_N-3R->O_1O-u0_3CClFH-u1_Ext-3CClFH-R_N-4R!H->Cl_N-Sp-4BrBrBrCCCCCClClFFFFFHHIIINNNOOOPPPSSSSiSiSi#3BrBrBrCCCCCCClClClFFFFFFHHHIIINNNOOOPPPSSSSiSiSi_N-Sp-4BrCFINOPSSi-3BrCCClFFHINOPSSi\">,\n",
       " 'Root_1R->O_N-3R->O_1O-u0_3CClFH-u1_3CClFH->C_Ext-1O-R_N-4R!H->C_4BrClFINOPSSi->F': <Entry index=129 label=\"Root_1R->O_N-3R->O_1O-u0_3CClFH-u1_3CClFH->C_Ext-1O-R_N-4R!H->C_4BrClFINOPSSi->F\">,\n",
       " 'Root_1R->O_N-3R->O_1O-u0_3CClFH-u1_3CClFH->C_Ext-1O-R_N-4R!H->C_N-4BrClFINOPSSi->F': <Entry index=130 label=\"Root_1R->O_N-3R->O_1O-u0_3CClFH-u1_3CClFH->C_Ext-1O-R_N-4R!H->C_N-4BrClFINOPSSi->F\">,\n",
       " 'Root_1R->O_N-3R->O_1O-u0_N-3CClFH-u1_Ext-3CClFH-R_Ext-3CClFH-R_4R!H->C_5R!H->C': <Entry index=131 label=\"Root_1R->O_N-3R->O_1O-u0_N-3CClFH-u1_Ext-3CClFH-R_Ext-3CClFH-R_4R!H->C_5R!H->C\">,\n",
       " 'Root_1R->O_N-3R->O_1O-u0_N-3CClFH-u1_Ext-3CClFH-R_Ext-3CClFH-R_4R!H->C_N-5R!H->C': <Entry index=132 label=\"Root_1R->O_N-3R->O_1O-u0_N-3CClFH-u1_Ext-3CClFH-R_Ext-3CClFH-R_4R!H->C_N-5R!H->C\">,\n",
       " 'Root_1R->O_N-3R->O_N-1O-u0_Ext-3CClFH-R_Sp-4R!H-3CClFH_4R!H->F_Ext-3CClFH-R_Ext-3CClFH-R': <Entry index=133 label=\"Root_1R->O_N-3R->O_N-1O-u0_Ext-3CClFH-R_Sp-4R!H-3CClFH_4R!H->F_Ext-3CClFH-R_Ext-3CClFH-R\">,\n",
       " 'Root_1R->O_N-3R->O_N-1O-u0_Ext-3CClFH-R_Sp-4R!H-3CClFH_4R!H->F_Ext-3CClFH-R_5R!H->F': <Entry index=134 label=\"Root_1R->O_N-3R->O_N-1O-u0_Ext-3CClFH-R_Sp-4R!H-3CClFH_4R!H->F_Ext-3CClFH-R_5R!H->F\">,\n",
       " 'Root_1R->O_N-3R->O_N-1O-u0_Ext-3CClFH-R_Sp-4R!H-3CClFH_4R!H->F_Ext-3CClFH-R_N-5R!H->F': <Entry index=135 label=\"Root_1R->O_N-3R->O_N-1O-u0_Ext-3CClFH-R_Sp-4R!H-3CClFH_4R!H->F_Ext-3CClFH-R_N-5R!H->F\">,\n",
       " 'Root_N-1R->O_3R->O_Ext-3O-R_4R!H->O_1BrCClFHINPSSi-u0_Ext-1BrCClFHINPSSi-R_Sp-5R!H=1BrBrCCClClFFHHIINNPPSSSiSi_5R!H->C': <Entry index=136 label=\"Root_N-1R->O_3R->O_Ext-3O-R_4R!H->O_1BrCClFHINPSSi-u0_Ext-1BrCClFHINPSSi-R_Sp-5R!H=1BrBrCCClClFFHHIINNPPSSSiSi_5R!H->C\">,\n",
       " 'Root_N-1R->O_3R->O_Ext-3O-R_4R!H->O_1BrCClFHINPSSi-u0_Ext-1BrCClFHINPSSi-R_Sp-5R!H=1BrBrCCClClFFHHIINNPPSSSiSi_N-5R!H->C': <Entry index=137 label=\"Root_N-1R->O_3R->O_Ext-3O-R_4R!H->O_1BrCClFHINPSSi-u0_Ext-1BrCClFHINPSSi-R_Sp-5R!H=1BrBrCCClClFFHHIINNPPSSSiSi_N-5R!H->C\">,\n",
       " 'Root_N-1R->O_3R->O_Ext-3O-R_4R!H->O_1BrCClFHINPSSi-u0_Ext-1BrCClFHINPSSi-R_N-Sp-5R!H=1BrBrCCClClFFHHIINNPPSSSiSi_Ext-1BrCClFHINPSSi-R': <Entry index=138 label=\"Root_N-1R->O_3R->O_Ext-3O-R_4R!H->O_1BrCClFHINPSSi-u0_Ext-1BrCClFHINPSSi-R_N-Sp-5R!H=1BrBrCCClClFFHHIINNPPSSSiSi_Ext-1BrCClFHINPSSi-R\">,\n",
       " 'Root_N-1R->O_3R->O_Ext-3O-R_4R!H->O_1BrCClFHINPSSi-u0_Ext-1BrCClFHINPSSi-R_N-Sp-5R!H=1BrBrCCClClFFHHIINNPPSSSiSi_Ext-5R!H-R': <Entry index=139 label=\"Root_N-1R->O_3R->O_Ext-3O-R_4R!H->O_1BrCClFHINPSSi-u0_Ext-1BrCClFHINPSSi-R_N-Sp-5R!H=1BrBrCCClClFFHHIINNPPSSSiSi_Ext-5R!H-R\">,\n",
       " 'Root_N-1R->O_3R->O_Ext-3O-R_4R!H->O_1BrCClFHINPSSi-u0_Ext-1BrCClFHINPSSi-R_N-Sp-5R!H=1BrBrCCClClFFHHIINNPPSSSiSi_5R!H->Cl': <Entry index=140 label=\"Root_N-1R->O_3R->O_Ext-3O-R_4R!H->O_1BrCClFHINPSSi-u0_Ext-1BrCClFHINPSSi-R_N-Sp-5R!H=1BrBrCCClClFFHHIINNPPSSSiSi_5R!H->Cl\">,\n",
       " 'Root_N-1R->O_3R->O_Ext-3O-R_4R!H->O_1BrCClFHINPSSi-u0_Ext-1BrCClFHINPSSi-R_N-Sp-5R!H=1BrBrCCClClFFHHIINNPPSSSiSi_N-5R!H->Cl': <Entry index=141 label=\"Root_N-1R->O_3R->O_Ext-3O-R_4R!H->O_1BrCClFHINPSSi-u0_Ext-1BrCClFHINPSSi-R_N-Sp-5R!H=1BrBrCCClClFFHHIINNPPSSSiSi_N-5R!H->Cl\">,\n",
       " 'Root_N-1R->O_3R->O_Ext-3O-R_N-4R!H->O_N-1BrCClFHINPSSi->H_4BrCClFINPSSi->F_Ext-1C-R_Ext-1C-R': <Entry index=142 label=\"Root_N-1R->O_3R->O_Ext-3O-R_N-4R!H->O_N-1BrCClFHINPSSi->H_4BrCClFINPSSi->F_Ext-1C-R_Ext-1C-R\">,\n",
       " 'Root_N-1R->O_3R->O_Ext-3O-R_N-4R!H->O_N-1BrCClFHINPSSi->H_4BrCClFINPSSi->F_Ext-1C-R_5R!H->F': <Entry index=143 label=\"Root_N-1R->O_3R->O_Ext-3O-R_N-4R!H->O_N-1BrCClFHINPSSi->H_4BrCClFINPSSi->F_Ext-1C-R_5R!H->F\">,\n",
       " 'Root_N-1R->O_3R->O_Ext-3O-R_N-4R!H->O_N-1BrCClFHINPSSi->H_4BrCClFINPSSi->F_Ext-1C-R_N-5R!H->F': <Entry index=144 label=\"Root_N-1R->O_3R->O_Ext-3O-R_N-4R!H->O_N-1BrCClFHINPSSi->H_4BrCClFINPSSi->F_Ext-1C-R_N-5R!H->F\">,\n",
       " 'Root_N-1R->O_3R->O_Ext-3O-R_N-4R!H->O_N-1BrCClFHINPSSi->H_N-4BrCClFINPSSi->F_Ext-1C-R_5R!H->C': <Entry index=145 label=\"Root_N-1R->O_3R->O_Ext-3O-R_N-4R!H->O_N-1BrCClFHINPSSi->H_N-4BrCClFINPSSi->F_Ext-1C-R_5R!H->C\">,\n",
       " 'Root_N-1R->O_3R->O_Ext-3O-R_N-4R!H->O_N-1BrCClFHINPSSi->H_N-4BrCClFINPSSi->F_Ext-1C-R_N-5R!H->C': <Entry index=146 label=\"Root_N-1R->O_3R->O_Ext-3O-R_N-4R!H->O_N-1BrCClFHINPSSi->H_N-4BrCClFINPSSi->F_Ext-1C-R_N-5R!H->C\">,\n",
       " 'Root_N-1R->O_3R->O_1BrCClFHINPSSi-u0_Ext-1BrCClFHINPSSi-R_N-Sp-4R!H#1BrBrBrCCCClClClFFFHHHIIINNNPPPSSSSiSiSi_4R!H->F_Ext-1BrCClFHINPSSi-R_5R!H->O': <Entry index=147 label=\"Root_N-1R->O_3R->O_1BrCClFHINPSSi-u0_Ext-1BrCClFHINPSSi-R_N-Sp-4R!H#1BrBrBrCCCClClClFFFHHHIIINNNPPPSSSSiSiSi_4R!H->F_Ext-1BrCClFHINPSSi-R_5R!H->O\">,\n",
       " 'Root_N-1R->O_3R->O_1BrCClFHINPSSi-u0_Ext-1BrCClFHINPSSi-R_N-Sp-4R!H#1BrBrBrCCCClClClFFFHHHIIINNNPPPSSSSiSiSi_4R!H->F_Ext-1BrCClFHINPSSi-R_N-5R!H->O': <Entry index=148 label=\"Root_N-1R->O_3R->O_1BrCClFHINPSSi-u0_Ext-1BrCClFHINPSSi-R_N-Sp-4R!H#1BrBrBrCCCClClClFFFHHHIIINNNPPPSSSSiSiSi_4R!H->F_Ext-1BrCClFHINPSSi-R_N-5R!H->O\">,\n",
       " 'Root_N-1R->O_3R->O_1BrCClFHINPSSi-u0_Ext-1BrCClFHINPSSi-R_N-Sp-4R!H#1BrBrBrCCCClClClFFFHHHIIINNNPPPSSSSiSiSi_N-4R!H->F_Sp-4BrCCCClClClFHINOOPSSi=1BrBrCCCCClClClClFFHHIINNOOPPSSSiSi_Ext-4CClO-R': <Entry index=149 label=\"Root_N-1R->O_3R->O_1BrCClFHINPSSi-u0_Ext-1BrCClFHINPSSi-R_N-Sp-4R!H#1BrBrBrCCCClClClFFFHHHIIINNNPPPSSSSiSiSi_N-4R!H->F_Sp-4BrCCCClClClFHINOOPSSi=1BrBrCCCCClClClClFFHHIINNOOPPSSSiSi_Ext-4CClO-R\">,\n",
       " 'Root_N-1R->O_3R->O_1BrCClFHINPSSi-u0_Ext-1BrCClFHINPSSi-R_N-Sp-4R!H#1BrBrBrCCCClClClFFFHHHIIINNNPPPSSSSiSiSi_N-4R!H->F_Sp-4BrCCCClClClFHINOOPSSi=1BrBrCCCCClClClClFFHHIINNOOPPSSSiSi_Ext-1BrCClFHINPSSi-R': <Entry index=150 label=\"Root_N-1R->O_3R->O_1BrCClFHINPSSi-u0_Ext-1BrCClFHINPSSi-R_N-Sp-4R!H#1BrBrBrCCCClClClFFFHHHIIINNNPPPSSSSiSiSi_N-4R!H->F_Sp-4BrCCCClClClFHINOOPSSi=1BrBrCCCCClClClClFFHHIINNOOPPSSSiSi_Ext-1BrCClFHINPSSi-R\">,\n",
       " 'Root_N-1R->O_3R->O_1BrCClFHINPSSi-u0_Ext-1BrCClFHINPSSi-R_N-Sp-4R!H#1BrBrBrCCCClClClFFFHHHIIINNNPPPSSSSiSiSi_N-4R!H->F_Sp-4BrCCCClClClFHINOOPSSi=1BrBrCCCCClClClClFFHHIINNOOPPSSSiSi_3O-u1': <Entry index=151 label=\"Root_N-1R->O_3R->O_1BrCClFHINPSSi-u0_Ext-1BrCClFHINPSSi-R_N-Sp-4R!H#1BrBrBrCCCClClClFFFHHHIIINNNPPPSSSSiSiSi_N-4R!H->F_Sp-4BrCCCClClClFHINOOPSSi=1BrBrCCCCClClClClFFHHIINNOOPPSSSiSi_3O-u1\">,\n",
       " 'Root_N-1R->O_3R->O_1BrCClFHINPSSi-u0_Ext-1BrCClFHINPSSi-R_N-Sp-4R!H#1BrBrBrCCCClClClFFFHHHIIINNNPPPSSSSiSiSi_N-4R!H->F_Sp-4BrCCCClClClFHINOOPSSi=1BrBrCCCCClClClClFFHHIINNOOPPSSSiSi_N-3O-u1': <Entry index=152 label=\"Root_N-1R->O_3R->O_1BrCClFHINPSSi-u0_Ext-1BrCClFHINPSSi-R_N-Sp-4R!H#1BrBrBrCCCClClClFFFHHHIIINNNPPPSSSSiSiSi_N-4R!H->F_Sp-4BrCCCClClClFHINOOPSSi=1BrBrCCCCClClClClFFHHIINNOOPPSSSiSi_N-3O-u1\">,\n",
       " 'Root_N-1R->O_3R->O_1BrCClFHINPSSi-u0_Ext-1BrCClFHINPSSi-R_N-Sp-4R!H#1BrBrBrCCCClClClFFFHHHIIINNNPPPSSSSiSiSi_N-4R!H->F_N-Sp-4BrCCCClClClFHINOOPSSi=1BrBrCCCCClClClClFFHHIINNOOPPSSSiSi_Ext-1BrCClFHINPSSi-R': <Entry index=153 label=\"Root_N-1R->O_3R->O_1BrCClFHINPSSi-u0_Ext-1BrCClFHINPSSi-R_N-Sp-4R!H#1BrBrBrCCCClClClFFFHHHIIINNNPPPSSSSiSiSi_N-4R!H->F_N-Sp-4BrCCCClClClFHINOOPSSi=1BrBrCCCCClClClClFFHHIINNOOPPSSSiSi_Ext-1BrCClFHINPSSi-R\">,\n",
       " 'Root_N-1R->O_3R->O_1BrCClFHINPSSi-u0_Ext-1BrCClFHINPSSi-R_N-Sp-4R!H#1BrBrBrCCCClClClFFFHHHIIINNNPPPSSSSiSiSi_N-4R!H->F_N-Sp-4BrCCCClClClFHINOOPSSi=1BrBrCCCCClClClClFFHHIINNOOPPSSSiSi_3O-u1': <Entry index=154 label=\"Root_N-1R->O_3R->O_1BrCClFHINPSSi-u0_Ext-1BrCClFHINPSSi-R_N-Sp-4R!H#1BrBrBrCCCClClClFFFHHHIIINNNPPPSSSSiSiSi_N-4R!H->F_N-Sp-4BrCCCClClClFHINOOPSSi=1BrBrCCCCClClClClFFHHIINNOOPPSSSiSi_3O-u1\">,\n",
       " 'Root_N-1R->O_3R->O_1BrCClFHINPSSi-u0_Ext-1BrCClFHINPSSi-R_N-Sp-4R!H#1BrBrBrCCCClClClFFFHHHIIINNNPPPSSSSiSiSi_N-4R!H->F_N-Sp-4BrCCCClClClFHINOOPSSi=1BrBrCCCCClClClClFFHHIINNOOPPSSSiSi_N-3O-u1': <Entry index=155 label=\"Root_N-1R->O_3R->O_1BrCClFHINPSSi-u0_Ext-1BrCClFHINPSSi-R_N-Sp-4R!H#1BrBrBrCCCClClClFFFHHHIIINNNPPPSSSSiSiSi_N-4R!H->F_N-Sp-4BrCCCClClClFHINOOPSSi=1BrBrCCCCClClClClFFHHIINNOOPPSSSiSi_N-3O-u1\">,\n",
       " 'Root_N-1R->O_3R->O_N-1BrCClFHINPSSi-u0_Ext-1BrCClFHINPSSi-R_Sp-4R!H-1BrCClFHINPSSi_4R!H->O_Ext-1BrCClFHINPSSi-R_5R!H->C': <Entry index=156 label=\"Root_N-1R->O_3R->O_N-1BrCClFHINPSSi-u0_Ext-1BrCClFHINPSSi-R_Sp-4R!H-1BrCClFHINPSSi_4R!H->O_Ext-1BrCClFHINPSSi-R_5R!H->C\">,\n",
       " 'Root_N-1R->O_3R->O_N-1BrCClFHINPSSi-u0_Ext-1BrCClFHINPSSi-R_Sp-4R!H-1BrCClFHINPSSi_4R!H->O_Ext-1BrCClFHINPSSi-R_N-5R!H->C': <Entry index=157 label=\"Root_N-1R->O_3R->O_N-1BrCClFHINPSSi-u0_Ext-1BrCClFHINPSSi-R_Sp-4R!H-1BrCClFHINPSSi_4R!H->O_Ext-1BrCClFHINPSSi-R_N-5R!H->C\">,\n",
       " 'Root_N-1R->O_N-3R->O_1BrCClFHINPSSi->F_N-3CClFH->H_Ext-3CClF-R_Ext-3CClF-R_N-4R!H->O_Ext-3CClF-R': <Entry index=158 label=\"Root_N-1R->O_N-3R->O_1BrCClFHINPSSi->F_N-3CClFH->H_Ext-3CClF-R_Ext-3CClF-R_N-4R!H->O_Ext-3CClF-R\">,\n",
       " 'Root_N-1R->O_N-3R->O_N-1BrCClFHINPSSi->F_3CClFH->F_N-1CClH->H_Ext-1CCl-R_Ext-1CCl-R_Ext-1CCl-R': <Entry index=159 label=\"Root_N-1R->O_N-3R->O_N-1BrCClFHINPSSi->F_3CClFH->F_N-1CClH->H_Ext-1CCl-R_Ext-1CCl-R_Ext-1CCl-R\">,\n",
       " 'Root_N-1R->O_N-3R->O_N-1BrCClFHINPSSi->F_3CClFH->F_N-1CClH->H_Ext-1CCl-R_Ext-1CCl-R_4R!H->O': <Entry index=160 label=\"Root_N-1R->O_N-3R->O_N-1BrCClFHINPSSi->F_3CClFH->F_N-1CClH->H_Ext-1CCl-R_Ext-1CCl-R_4R!H->O\">,\n",
       " 'Root_N-1R->O_N-3R->O_N-1BrCClFHINPSSi->F_3CClFH->F_N-1CClH->H_Ext-1CCl-R_Ext-1CCl-R_N-4R!H->O': <Entry index=161 label=\"Root_N-1R->O_N-3R->O_N-1BrCClFHINPSSi->F_3CClFH->F_N-1CClH->H_Ext-1CCl-R_Ext-1CCl-R_N-4R!H->O\">,\n",
       " 'Root_N-1R->O_N-3R->O_N-1BrCClFHINPSSi->F_N-3CClFH->F_3CClH->H_N-1CClH->Cl_Ext-1CH-R_4R!H->F': <Entry index=162 label=\"Root_N-1R->O_N-3R->O_N-1BrCClFHINPSSi->F_N-3CClFH->F_3CClH->H_N-1CClH->Cl_Ext-1CH-R_4R!H->F\">,\n",
       " 'Root_N-1R->O_N-3R->O_N-1BrCClFHINPSSi->F_N-3CClFH->F_3CClH->H_N-1CClH->Cl_Ext-1CH-R_N-4R!H->F': <Entry index=163 label=\"Root_N-1R->O_N-3R->O_N-1BrCClFHINPSSi->F_N-3CClFH->F_3CClH->H_N-1CClH->Cl_Ext-1CH-R_N-4R!H->F\">,\n",
       " 'Root_N-1R->O_N-3R->O_N-1BrCClFHINPSSi->F_N-3CClFH->F_N-3CClH->H_3CCl-u1_1CClH->H_3CCl->Cl': <Entry index=164 label=\"Root_N-1R->O_N-3R->O_N-1BrCClFHINPSSi->F_N-3CClFH->F_N-3CClH->H_3CCl-u1_1CClH->H_3CCl->Cl\">,\n",
       " 'Root_N-1R->O_N-3R->O_N-1BrCClFHINPSSi->F_N-3CClFH->F_N-3CClH->H_3CCl-u1_1CClH->H_N-3CCl->Cl': <Entry index=165 label=\"Root_N-1R->O_N-3R->O_N-1BrCClFHINPSSi->F_N-3CClFH->F_N-3CClH->H_3CCl-u1_1CClH->H_N-3CCl->Cl\">,\n",
       " 'Root_N-1R->O_N-3R->O_N-1BrCClFHINPSSi->F_N-3CClFH->F_N-3CClH->H_3CCl-u1_N-1CClH->H_Ext-1C-R': <Entry index=166 label=\"Root_N-1R->O_N-3R->O_N-1BrCClFHINPSSi->F_N-3CClFH->F_N-3CClH->H_3CCl-u1_N-1CClH->H_Ext-1C-R\">,\n",
       " 'Root_N-1R->O_N-3R->O_N-1BrCClFHINPSSi->F_N-3CClFH->F_N-3CClH->H_3CCl-u1_N-1CClH->H_Ext-3CCl-R_Sp-4R!H=3CCClCl': <Entry index=167 label=\"Root_N-1R->O_N-3R->O_N-1BrCClFHINPSSi->F_N-3CClFH->F_N-3CClH->H_3CCl-u1_N-1CClH->H_Ext-3CCl-R_Sp-4R!H=3CCClCl\">,\n",
       " 'Root_N-1R->O_N-3R->O_N-1BrCClFHINPSSi->F_N-3CClFH->F_N-3CClH->H_3CCl-u1_N-1CClH->H_Ext-3CCl-R_N-Sp-4R!H=3CCClCl': <Entry index=168 label=\"Root_N-1R->O_N-3R->O_N-1BrCClFHINPSSi->F_N-3CClFH->F_N-3CClH->H_3CCl-u1_N-1CClH->H_Ext-3CCl-R_N-Sp-4R!H=3CCClCl\">,\n",
       " 'Root_N-1R->O_N-3R->O_N-1BrCClFHINPSSi->F_N-3CClFH->F_N-3CClH->H_N-3CCl-u1_Ext-3CCl-R_Ext-3CCl-R_4R!H->O': <Entry index=169 label=\"Root_N-1R->O_N-3R->O_N-1BrCClFHINPSSi->F_N-3CClFH->F_N-3CClH->H_N-3CCl-u1_Ext-3CCl-R_Ext-3CCl-R_4R!H->O\">,\n",
       " 'Root_N-1R->O_N-3R->O_N-1BrCClFHINPSSi->F_N-3CClFH->F_N-3CClH->H_N-3CCl-u1_Ext-3CCl-R_Ext-3CCl-R_N-4R!H->O': <Entry index=170 label=\"Root_N-1R->O_N-3R->O_N-1BrCClFHINPSSi->F_N-3CClFH->F_N-3CClH->H_N-3CCl-u1_Ext-3CCl-R_Ext-3CCl-R_N-4R!H->O\">,\n",
       " 'Root_N-1R->O_N-3R->O_N-1BrCClFHINPSSi->F_N-3CClFH->F_N-3CClH->H_N-3CCl-u1_Ext-3CCl-R_Sp-4R!H-3CCl_4R!H->C': <Entry index=171 label=\"Root_N-1R->O_N-3R->O_N-1BrCClFHINPSSi->F_N-3CClFH->F_N-3CClH->H_N-3CCl-u1_Ext-3CCl-R_Sp-4R!H-3CCl_4R!H->C\">,\n",
       " 'Root_N-1R->O_N-3R->O_N-1BrCClFHINPSSi->F_N-3CClFH->F_N-3CClH->H_N-3CCl-u1_Ext-3CCl-R_Sp-4R!H-3CCl_N-4R!H->C': <Entry index=172 label=\"Root_N-1R->O_N-3R->O_N-1BrCClFHINPSSi->F_N-3CClFH->F_N-3CClH->H_N-3CCl-u1_Ext-3CCl-R_Sp-4R!H-3CCl_N-4R!H->C\">,\n",
       " 'Root_1R->O_N-3R->O_1O-u0_3CClFH-u1_Ext-3CClFH-R_N-4R!H->Cl_Ext-4BrCFINOPSSi-R_Sp-4BrCFINOPSSi-3BrCCClFFHINOPSSi_Ext-4BrCFINOPSSi-R': <Entry index=173 label=\"Root_1R->O_N-3R->O_1O-u0_3CClFH-u1_Ext-3CClFH-R_N-4R!H->Cl_Ext-4BrCFINOPSSi-R_Sp-4BrCFINOPSSi-3BrCCClFFHINOPSSi_Ext-4BrCFINOPSSi-R\">,\n",
       " 'Root_1R->O_N-3R->O_1O-u0_3CClFH-u1_Ext-3CClFH-R_N-4R!H->Cl_Ext-4BrCFINOPSSi-R_Sp-4BrCFINOPSSi-3BrCCClFFHINOPSSi_Ext-1O-R': <Entry index=174 label=\"Root_1R->O_N-3R->O_1O-u0_3CClFH-u1_Ext-3CClFH-R_N-4R!H->Cl_Ext-4BrCFINOPSSi-R_Sp-4BrCFINOPSSi-3BrCCClFFHINOPSSi_Ext-1O-R\">,\n",
       " 'Root_1R->O_N-3R->O_1O-u0_3CClFH-u1_Ext-3CClFH-R_N-4R!H->Cl_N-Sp-4BrBrBrCCCCCClClFFFFFHHIIINNNOOOPPPSSSSiSiSi#3BrBrBrCCCCCCClClClFFFFFFHHHIIINNNOOOPPPSSSSiSiSi_Sp-4BrCFINOPSSi-3BrCCClFFHINOPSSi_4BrCFINOPSSi->C': <Entry index=175 label=\"Root_1R->O_N-3R->O_1O-u0_3CClFH-u1_Ext-3CClFH-R_N-4R!H->Cl_N-Sp-4BrBrBrCCCCCClClFFFFFHHIIINNNOOOPPPSSSSiSiSi#3BrBrBrCCCCCCClClClFFFFFFHHHIIINNNOOOPPPSSSSiSiSi_Sp-4BrCFINOPSSi-3BrCCClFFHINOPSSi_4BrCFINOPSSi->C\">,\n",
       " 'Root_1R->O_N-3R->O_1O-u0_3CClFH-u1_Ext-3CClFH-R_N-4R!H->Cl_N-Sp-4BrBrBrCCCCCClClFFFFFHHIIINNNOOOPPPSSSSiSiSi#3BrBrBrCCCCCCClClClFFFFFFHHHIIINNNOOOPPPSSSSiSiSi_Sp-4BrCFINOPSSi-3BrCCClFFHINOPSSi_N-4BrCFINOPSSi->C': <Entry index=176 label=\"Root_1R->O_N-3R->O_1O-u0_3CClFH-u1_Ext-3CClFH-R_N-4R!H->Cl_N-Sp-4BrBrBrCCCCCClClFFFFFHHIIINNNOOOPPPSSSSiSiSi#3BrBrBrCCCCCCClClClFFFFFFHHHIIINNNOOOPPPSSSSiSiSi_Sp-4BrCFINOPSSi-3BrCCClFFHINOPSSi_N-4BrCFINOPSSi->C\">,\n",
       " 'Root_1R->O_N-3R->O_1O-u0_3CClFH-u1_Ext-3CClFH-R_N-4R!H->Cl_N-Sp-4BrBrBrCCCCCClClFFFFFHHIIINNNOOOPPPSSSSiSiSi#3BrBrBrCCCCCCClClClFFFFFFHHHIIINNNOOOPPPSSSSiSiSi_N-Sp-4BrCFINOPSSi-3BrCCClFFHINOPSSi_4BrCFINOPSSi->C': <Entry index=177 label=\"Root_1R->O_N-3R->O_1O-u0_3CClFH-u1_Ext-3CClFH-R_N-4R!H->Cl_N-Sp-4BrBrBrCCCCCClClFFFFFHHIIINNNOOOPPPSSSSiSiSi#3BrBrBrCCCCCCClClClFFFFFFHHHIIINNNOOOPPPSSSSiSiSi_N-Sp-4BrCFINOPSSi-3BrCCClFFHINOPSSi_4BrCFINOPSSi->C\">,\n",
       " 'Root_1R->O_N-3R->O_1O-u0_3CClFH-u1_Ext-3CClFH-R_N-4R!H->Cl_N-Sp-4BrBrBrCCCCCClClFFFFFHHIIINNNOOOPPPSSSSiSiSi#3BrBrBrCCCCCCClClClFFFFFFHHHIIINNNOOOPPPSSSSiSiSi_N-Sp-4BrCFINOPSSi-3BrCCClFFHINOPSSi_N-4BrCFINOPSSi->C': <Entry index=178 label=\"Root_1R->O_N-3R->O_1O-u0_3CClFH-u1_Ext-3CClFH-R_N-4R!H->Cl_N-Sp-4BrBrBrCCCCCClClFFFFFHHIIINNNOOOPPPSSSSiSiSi#3BrBrBrCCCCCCClClClFFFFFFHHHIIINNNOOOPPPSSSSiSiSi_N-Sp-4BrCFINOPSSi-3BrCCClFFHINOPSSi_N-4BrCFINOPSSi->C\">,\n",
       " 'Root_1R->O_N-3R->O_1O-u0_N-3CClFH-u1_Ext-3CClFH-R_Ext-3CClFH-R_4R!H->C_5R!H->C_Ext-1O-R': <Entry index=179 label=\"Root_1R->O_N-3R->O_1O-u0_N-3CClFH-u1_Ext-3CClFH-R_Ext-3CClFH-R_4R!H->C_5R!H->C_Ext-1O-R\">,\n",
       " 'Root_N-1R->O_3R->O_Ext-3O-R_4R!H->O_1BrCClFHINPSSi-u0_Ext-1BrCClFHINPSSi-R_Sp-5R!H=1BrBrCCClClFFHHIINNPPSSSiSi_5R!H->C_Ext-1BrCClFHINPSSi-R': <Entry index=180 label=\"Root_N-1R->O_3R->O_Ext-3O-R_4R!H->O_1BrCClFHINPSSi-u0_Ext-1BrCClFHINPSSi-R_Sp-5R!H=1BrBrCCClClFFHHIINNPPSSSiSi_5R!H->C_Ext-1BrCClFHINPSSi-R\">,\n",
       " 'Root_N-1R->O_3R->O_Ext-3O-R_N-4R!H->O_N-1BrCClFHINPSSi->H_4BrCClFINPSSi->F_Ext-1C-R_Ext-1C-R_Ext-1C-R': <Entry index=181 label=\"Root_N-1R->O_3R->O_Ext-3O-R_N-4R!H->O_N-1BrCClFHINPSSi->H_4BrCClFINPSSi->F_Ext-1C-R_Ext-1C-R_Ext-1C-R\">,\n",
       " 'Root_N-1R->O_3R->O_Ext-3O-R_N-4R!H->O_N-1BrCClFHINPSSi->H_4BrCClFINPSSi->F_Ext-1C-R_Ext-1C-R_5R!H->O': <Entry index=182 label=\"Root_N-1R->O_3R->O_Ext-3O-R_N-4R!H->O_N-1BrCClFHINPSSi->H_4BrCClFINPSSi->F_Ext-1C-R_Ext-1C-R_5R!H->O\">,\n",
       " 'Root_N-1R->O_3R->O_Ext-3O-R_N-4R!H->O_N-1BrCClFHINPSSi->H_4BrCClFINPSSi->F_Ext-1C-R_Ext-1C-R_N-5R!H->O': <Entry index=183 label=\"Root_N-1R->O_3R->O_Ext-3O-R_N-4R!H->O_N-1BrCClFHINPSSi->H_4BrCClFINPSSi->F_Ext-1C-R_Ext-1C-R_N-5R!H->O\">,\n",
       " 'Root_N-1R->O_3R->O_Ext-3O-R_N-4R!H->O_N-1BrCClFHINPSSi->H_N-4BrCClFINPSSi->F_Ext-1C-R_5R!H->C_Ext-5C-R': <Entry index=184 label=\"Root_N-1R->O_3R->O_Ext-3O-R_N-4R!H->O_N-1BrCClFHINPSSi->H_N-4BrCClFINPSSi->F_Ext-1C-R_5R!H->C_Ext-5C-R\">,\n",
       " 'Root_N-1R->O_3R->O_1BrCClFHINPSSi-u0_Ext-1BrCClFHINPSSi-R_N-Sp-4R!H#1BrBrBrCCCClClClFFFHHHIIINNNPPPSSSSiSiSi_4R!H->F_Ext-1BrCClFHINPSSi-R_5R!H->O_3O-u1': <Entry index=185 label=\"Root_N-1R->O_3R->O_1BrCClFHINPSSi-u0_Ext-1BrCClFHINPSSi-R_N-Sp-4R!H#1BrBrBrCCCClClClFFFHHHIIINNNPPPSSSSiSiSi_4R!H->F_Ext-1BrCClFHINPSSi-R_5R!H->O_3O-u1\">,\n",
       " 'Root_N-1R->O_3R->O_1BrCClFHINPSSi-u0_Ext-1BrCClFHINPSSi-R_N-Sp-4R!H#1BrBrBrCCCClClClFFFHHHIIINNNPPPSSSSiSiSi_4R!H->F_Ext-1BrCClFHINPSSi-R_5R!H->O_N-3O-u1': <Entry index=186 label=\"Root_N-1R->O_3R->O_1BrCClFHINPSSi-u0_Ext-1BrCClFHINPSSi-R_N-Sp-4R!H#1BrBrBrCCCClClClFFFHHHIIINNNPPPSSSSiSiSi_4R!H->F_Ext-1BrCClFHINPSSi-R_5R!H->O_N-3O-u1\">,\n",
       " 'Root_N-1R->O_3R->O_1BrCClFHINPSSi-u0_Ext-1BrCClFHINPSSi-R_N-Sp-4R!H#1BrBrBrCCCClClClFFFHHHIIINNNPPPSSSSiSiSi_4R!H->F_Ext-1BrCClFHINPSSi-R_N-5R!H->O_Ext-1BrCClFHINPSSi-R': <Entry index=187 label=\"Root_N-1R->O_3R->O_1BrCClFHINPSSi-u0_Ext-1BrCClFHINPSSi-R_N-Sp-4R!H#1BrBrBrCCCClClClFFFHHHIIINNNPPPSSSSiSiSi_4R!H->F_Ext-1BrCClFHINPSSi-R_N-5R!H->O_Ext-1BrCClFHINPSSi-R\">,\n",
       " 'Root_N-1R->O_3R->O_1BrCClFHINPSSi-u0_Ext-1BrCClFHINPSSi-R_N-Sp-4R!H#1BrBrBrCCCClClClFFFHHHIIINNNPPPSSSSiSiSi_4R!H->F_Ext-1BrCClFHINPSSi-R_N-5R!H->O_3O-u1': <Entry index=188 label=\"Root_N-1R->O_3R->O_1BrCClFHINPSSi-u0_Ext-1BrCClFHINPSSi-R_N-Sp-4R!H#1BrBrBrCCCClClClFFFHHHIIINNNPPPSSSSiSiSi_4R!H->F_Ext-1BrCClFHINPSSi-R_N-5R!H->O_3O-u1\">,\n",
       " 'Root_N-1R->O_3R->O_1BrCClFHINPSSi-u0_Ext-1BrCClFHINPSSi-R_N-Sp-4R!H#1BrBrBrCCCClClClFFFHHHIIINNNPPPSSSSiSiSi_4R!H->F_Ext-1BrCClFHINPSSi-R_N-5R!H->O_N-3O-u1': <Entry index=189 label=\"Root_N-1R->O_3R->O_1BrCClFHINPSSi-u0_Ext-1BrCClFHINPSSi-R_N-Sp-4R!H#1BrBrBrCCCClClClFFFHHHIIINNNPPPSSSSiSiSi_4R!H->F_Ext-1BrCClFHINPSSi-R_N-5R!H->O_N-3O-u1\">,\n",
       " 'Root_N-1R->O_3R->O_1BrCClFHINPSSi-u0_Ext-1BrCClFHINPSSi-R_N-Sp-4R!H#1BrBrBrCCCClClClFFFHHHIIINNNPPPSSSSiSiSi_N-4R!H->F_Sp-4BrCCCClClClFHINOOPSSi=1BrBrCCCCClClClClFFHHIINNOOPPSSSiSi_Ext-1BrCClFHINPSSi-R_3O-u1': <Entry index=190 label=\"Root_N-1R->O_3R->O_1BrCClFHINPSSi-u0_Ext-1BrCClFHINPSSi-R_N-Sp-4R!H#1BrBrBrCCCClClClFFFHHHIIINNNPPPSSSSiSiSi_N-4R!H->F_Sp-4BrCCCClClClFHINOOPSSi=1BrBrCCCCClClClClFFHHIINNOOPPSSSiSi_Ext-1BrCClFHINPSSi-R_3O-u1\">,\n",
       " 'Root_N-1R->O_3R->O_1BrCClFHINPSSi-u0_Ext-1BrCClFHINPSSi-R_N-Sp-4R!H#1BrBrBrCCCClClClFFFHHHIIINNNPPPSSSSiSiSi_N-4R!H->F_Sp-4BrCCCClClClFHINOOPSSi=1BrBrCCCCClClClClFFHHIINNOOPPSSSiSi_Ext-1BrCClFHINPSSi-R_N-3O-u1': <Entry index=191 label=\"Root_N-1R->O_3R->O_1BrCClFHINPSSi-u0_Ext-1BrCClFHINPSSi-R_N-Sp-4R!H#1BrBrBrCCCClClClFFFHHHIIINNNPPPSSSSiSiSi_N-4R!H->F_Sp-4BrCCCClClClFHINOOPSSi=1BrBrCCCCClClClClFFHHIINNOOPPSSSiSi_Ext-1BrCClFHINPSSi-R_N-3O-u1\">,\n",
       " 'Root_N-1R->O_3R->O_1BrCClFHINPSSi-u0_Ext-1BrCClFHINPSSi-R_N-Sp-4R!H#1BrBrBrCCCClClClFFFHHHIIINNNPPPSSSSiSiSi_N-4R!H->F_N-Sp-4BrCCCClClClFHINOOPSSi=1BrBrCCCCClClClClFFHHIINNOOPPSSSiSi_Ext-1BrCClFHINPSSi-R_4CClO->C': <Entry index=192 label=\"Root_N-1R->O_3R->O_1BrCClFHINPSSi-u0_Ext-1BrCClFHINPSSi-R_N-Sp-4R!H#1BrBrBrCCCClClClFFFHHHIIINNNPPPSSSSiSiSi_N-4R!H->F_N-Sp-4BrCCCClClClFHINOOPSSi=1BrBrCCCCClClClClFFHHIINNOOPPSSSiSi_Ext-1BrCClFHINPSSi-R_4CClO->C\">,\n",
       " 'Root_N-1R->O_3R->O_1BrCClFHINPSSi-u0_Ext-1BrCClFHINPSSi-R_N-Sp-4R!H#1BrBrBrCCCClClClFFFHHHIIINNNPPPSSSSiSiSi_N-4R!H->F_N-Sp-4BrCCCClClClFHINOOPSSi=1BrBrCCCCClClClClFFHHIINNOOPPSSSiSi_Ext-1BrCClFHINPSSi-R_N-4CClO->C': <Entry index=193 label=\"Root_N-1R->O_3R->O_1BrCClFHINPSSi-u0_Ext-1BrCClFHINPSSi-R_N-Sp-4R!H#1BrBrBrCCCClClClFFFHHHIIINNNPPPSSSSiSiSi_N-4R!H->F_N-Sp-4BrCCCClClClFHINOOPSSi=1BrBrCCCCClClClClFFHHIINNOOPPSSSiSi_Ext-1BrCClFHINPSSi-R_N-4CClO->C\">,\n",
       " 'Root_N-1R->O_3R->O_1BrCClFHINPSSi-u0_Ext-1BrCClFHINPSSi-R_N-Sp-4R!H#1BrBrBrCCCClClClFFFHHHIIINNNPPPSSSSiSiSi_N-4R!H->F_N-Sp-4BrCCCClClClFHINOOPSSi=1BrBrCCCCClClClClFFHHIINNOOPPSSSiSi_3O-u1_4CClO->Cl': <Entry index=194 label=\"Root_N-1R->O_3R->O_1BrCClFHINPSSi-u0_Ext-1BrCClFHINPSSi-R_N-Sp-4R!H#1BrBrBrCCCClClClFFFHHHIIINNNPPPSSSSiSiSi_N-4R!H->F_N-Sp-4BrCCCClClClFHINOOPSSi=1BrBrCCCCClClClClFFHHIINNOOPPSSSiSi_3O-u1_4CClO->Cl\">,\n",
       " 'Root_N-1R->O_3R->O_1BrCClFHINPSSi-u0_Ext-1BrCClFHINPSSi-R_N-Sp-4R!H#1BrBrBrCCCClClClFFFHHHIIINNNPPPSSSSiSiSi_N-4R!H->F_N-Sp-4BrCCCClClClFHINOOPSSi=1BrBrCCCCClClClClFFHHIINNOOPPSSSiSi_3O-u1_N-4CClO->Cl': <Entry index=195 label=\"Root_N-1R->O_3R->O_1BrCClFHINPSSi-u0_Ext-1BrCClFHINPSSi-R_N-Sp-4R!H#1BrBrBrCCCClClClFFFHHHIIINNNPPPSSSSiSiSi_N-4R!H->F_N-Sp-4BrCCCClClClFHINOOPSSi=1BrBrCCCCClClClClFFHHIINNOOPPSSSiSi_3O-u1_N-4CClO->Cl\">,\n",
       " 'Root_N-1R->O_N-3R->O_N-1BrCClFHINPSSi->F_N-3CClFH->F_3CClH->H_N-1CClH->Cl_Ext-1CH-R_4R!H->F_Ext-1CH-R': <Entry index=196 label=\"Root_N-1R->O_N-3R->O_N-1BrCClFHINPSSi->F_N-3CClFH->F_3CClH->H_N-1CClH->Cl_Ext-1CH-R_4R!H->F_Ext-1CH-R\">,\n",
       " 'Root_N-1R->O_N-3R->O_N-1BrCClFHINPSSi->F_N-3CClFH->F_3CClH->H_N-1CClH->Cl_Ext-1CH-R_N-4R!H->F_Sp-4BrBrCCCClClHIINNOOPPSSSiSi=1BrBrCCCCClClHHIINNOOPPSSSiSi': <Entry index=197 label=\"Root_N-1R->O_N-3R->O_N-1BrCClFHINPSSi->F_N-3CClFH->F_3CClH->H_N-1CClH->Cl_Ext-1CH-R_N-4R!H->F_Sp-4BrBrCCCClClHIINNOOPPSSSiSi=1BrBrCCCCClClHHIINNOOPPSSSiSi\">,\n",
       " 'Root_N-1R->O_N-3R->O_N-1BrCClFHINPSSi->F_N-3CClFH->F_3CClH->H_N-1CClH->Cl_Ext-1CH-R_N-4R!H->F_N-Sp-4BrBrCCCClClHIINNOOPPSSSiSi=1BrBrCCCCClClHHIINNOOPPSSSiSi': <Entry index=198 label=\"Root_N-1R->O_N-3R->O_N-1BrCClFHINPSSi->F_N-3CClFH->F_3CClH->H_N-1CClH->Cl_Ext-1CH-R_N-4R!H->F_N-Sp-4BrBrCCCClClHIINNOOPPSSSiSi=1BrBrCCCCClClHHIINNOOPPSSSiSi\">,\n",
       " 'Root_N-1R->O_N-3R->O_N-1BrCClFHINPSSi->F_N-3CClFH->F_N-3CClH->H_3CCl-u1_1CClH->H_N-3CCl->Cl_Ext-3C-R': <Entry index=199 label=\"Root_N-1R->O_N-3R->O_N-1BrCClFHINPSSi->F_N-3CClFH->F_N-3CClH->H_3CCl-u1_1CClH->H_N-3CCl->Cl_Ext-3C-R\">,\n",
       " 'Root_N-1R->O_N-3R->O_N-1BrCClFHINPSSi->F_N-3CClFH->F_N-3CClH->H_3CCl-u1_N-1CClH->H_Ext-1C-R_1C-u0': <Entry index=200 label=\"Root_N-1R->O_N-3R->O_N-1BrCClFHINPSSi->F_N-3CClFH->F_N-3CClH->H_3CCl-u1_N-1CClH->H_Ext-1C-R_1C-u0\">,\n",
       " 'Root_N-1R->O_N-3R->O_N-1BrCClFHINPSSi->F_N-3CClFH->F_N-3CClH->H_3CCl-u1_N-1CClH->H_Ext-1C-R_N-1C-u0': <Entry index=201 label=\"Root_N-1R->O_N-3R->O_N-1BrCClFHINPSSi->F_N-3CClFH->F_N-3CClH->H_3CCl-u1_N-1CClH->H_Ext-1C-R_N-1C-u0\">,\n",
       " 'Root_N-1R->O_N-3R->O_N-1BrCClFHINPSSi->F_N-3CClFH->F_N-3CClH->H_3CCl-u1_N-1CClH->H_Ext-3CCl-R_Sp-4R!H=3CCClCl_Ext-3CCl-R': <Entry index=202 label=\"Root_N-1R->O_N-3R->O_N-1BrCClFHINPSSi->F_N-3CClFH->F_N-3CClH->H_3CCl-u1_N-1CClH->H_Ext-3CCl-R_Sp-4R!H=3CCClCl_Ext-3CCl-R\">,\n",
       " 'Root_N-1R->O_N-3R->O_N-1BrCClFHINPSSi->F_N-3CClFH->F_N-3CClH->H_3CCl-u1_N-1CClH->H_Ext-3CCl-R_Sp-4R!H=3CCClCl_4R!H->C': <Entry index=203 label=\"Root_N-1R->O_N-3R->O_N-1BrCClFHINPSSi->F_N-3CClFH->F_N-3CClH->H_3CCl-u1_N-1CClH->H_Ext-3CCl-R_Sp-4R!H=3CCClCl_4R!H->C\">,\n",
       " 'Root_N-1R->O_N-3R->O_N-1BrCClFHINPSSi->F_N-3CClFH->F_N-3CClH->H_3CCl-u1_N-1CClH->H_Ext-3CCl-R_Sp-4R!H=3CCClCl_N-4R!H->C': <Entry index=204 label=\"Root_N-1R->O_N-3R->O_N-1BrCClFHINPSSi->F_N-3CClFH->F_N-3CClH->H_3CCl-u1_N-1CClH->H_Ext-3CCl-R_Sp-4R!H=3CCClCl_N-4R!H->C\">,\n",
       " 'Root_N-1R->O_N-3R->O_N-1BrCClFHINPSSi->F_N-3CClFH->F_N-3CClH->H_3CCl-u1_N-1CClH->H_Ext-3CCl-R_N-Sp-4R!H=3CCClCl_Ext-3CCl-R': <Entry index=205 label=\"Root_N-1R->O_N-3R->O_N-1BrCClFHINPSSi->F_N-3CClFH->F_N-3CClH->H_3CCl-u1_N-1CClH->H_Ext-3CCl-R_N-Sp-4R!H=3CCClCl_Ext-3CCl-R\">,\n",
       " 'Root_N-1R->O_N-3R->O_N-1BrCClFHINPSSi->F_N-3CClFH->F_N-3CClH->H_3CCl-u1_N-1CClH->H_Ext-3CCl-R_N-Sp-4R!H=3CCClCl_4R!H->C': <Entry index=206 label=\"Root_N-1R->O_N-3R->O_N-1BrCClFHINPSSi->F_N-3CClFH->F_N-3CClH->H_3CCl-u1_N-1CClH->H_Ext-3CCl-R_N-Sp-4R!H=3CCClCl_4R!H->C\">,\n",
       " 'Root_N-1R->O_N-3R->O_N-1BrCClFHINPSSi->F_N-3CClFH->F_N-3CClH->H_3CCl-u1_N-1CClH->H_Ext-3CCl-R_N-Sp-4R!H=3CCClCl_N-4R!H->C': <Entry index=207 label=\"Root_N-1R->O_N-3R->O_N-1BrCClFHINPSSi->F_N-3CClFH->F_N-3CClH->H_3CCl-u1_N-1CClH->H_Ext-3CCl-R_N-Sp-4R!H=3CCClCl_N-4R!H->C\">,\n",
       " 'Root_N-1R->O_N-3R->O_N-1BrCClFHINPSSi->F_N-3CClFH->F_N-3CClH->H_N-3CCl-u1_Ext-3CCl-R_Ext-3CCl-R_4R!H->O_5R!H->C': <Entry index=208 label=\"Root_N-1R->O_N-3R->O_N-1BrCClFHINPSSi->F_N-3CClFH->F_N-3CClH->H_N-3CCl-u1_Ext-3CCl-R_Ext-3CCl-R_4R!H->O_5R!H->C\">,\n",
       " 'Root_N-1R->O_N-3R->O_N-1BrCClFHINPSSi->F_N-3CClFH->F_N-3CClH->H_N-3CCl-u1_Ext-3CCl-R_Ext-3CCl-R_4R!H->O_N-5R!H->C': <Entry index=209 label=\"Root_N-1R->O_N-3R->O_N-1BrCClFHINPSSi->F_N-3CClFH->F_N-3CClH->H_N-3CCl-u1_Ext-3CCl-R_Ext-3CCl-R_4R!H->O_N-5R!H->C\">,\n",
       " 'Root_1R->O_N-3R->O_1O-u0_3CClFH-u1_Ext-3CClFH-R_N-4R!H->Cl_Ext-4BrCFINOPSSi-R_Sp-4BrCFINOPSSi-3BrCCClFFHINOPSSi_Ext-1O-R_6R!H->C': <Entry index=210 label=\"Root_1R->O_N-3R->O_1O-u0_3CClFH-u1_Ext-3CClFH-R_N-4R!H->Cl_Ext-4BrCFINOPSSi-R_Sp-4BrCFINOPSSi-3BrCCClFFHINOPSSi_Ext-1O-R_6R!H->C\">,\n",
       " 'Root_1R->O_N-3R->O_1O-u0_3CClFH-u1_Ext-3CClFH-R_N-4R!H->Cl_Ext-4BrCFINOPSSi-R_Sp-4BrCFINOPSSi-3BrCCClFFHINOPSSi_Ext-1O-R_N-6R!H->C': <Entry index=211 label=\"Root_1R->O_N-3R->O_1O-u0_3CClFH-u1_Ext-3CClFH-R_N-4R!H->Cl_Ext-4BrCFINOPSSi-R_Sp-4BrCFINOPSSi-3BrCCClFFHINOPSSi_Ext-1O-R_N-6R!H->C\">,\n",
       " 'Root_1R->O_N-3R->O_1O-u0_3CClFH-u1_Ext-3CClFH-R_N-4R!H->Cl_N-Sp-4BrBrBrCCCCCClClFFFFFHHIIINNNOOOPPPSSSSiSiSi#3BrBrBrCCCCCCClClClFFFFFFHHHIIINNNOOOPPPSSSSiSiSi_Sp-4BrCFINOPSSi-3BrCCClFFHINOPSSi_4BrCFINOPSSi->C_Ext-3CClFH-R': <Entry index=212 label=\"Root_1R->O_N-3R->O_1O-u0_3CClFH-u1_Ext-3CClFH-R_N-4R!H->Cl_N-Sp-4BrBrBrCCCCCClClFFFFFHHIIINNNOOOPPPSSSSiSiSi#3BrBrBrCCCCCCClClClFFFFFFHHHIIINNNOOOPPPSSSSiSiSi_Sp-4BrCFINOPSSi-3BrCCClFFHINOPSSi_4BrCFINOPSSi->C_Ext-3CClFH-R\">,\n",
       " 'Root_1R->O_N-3R->O_1O-u0_3CClFH-u1_Ext-3CClFH-R_N-4R!H->Cl_N-Sp-4BrBrBrCCCCCClClFFFFFHHIIINNNOOOPPPSSSSiSiSi#3BrBrBrCCCCCCClClClFFFFFFHHHIIINNNOOOPPPSSSSiSiSi_Sp-4BrCFINOPSSi-3BrCCClFFHINOPSSi_4BrCFINOPSSi->C_Ext-1O-R': <Entry index=213 label=\"Root_1R->O_N-3R->O_1O-u0_3CClFH-u1_Ext-3CClFH-R_N-4R!H->Cl_N-Sp-4BrBrBrCCCCCClClFFFFFHHIIINNNOOOPPPSSSSiSiSi#3BrBrBrCCCCCCClClClFFFFFFHHHIIINNNOOOPPPSSSSiSiSi_Sp-4BrCFINOPSSi-3BrCCClFFHINOPSSi_4BrCFINOPSSi->C_Ext-1O-R\">,\n",
       " 'Root_1R->O_N-3R->O_1O-u0_3CClFH-u1_Ext-3CClFH-R_N-4R!H->Cl_N-Sp-4BrBrBrCCCCCClClFFFFFHHIIINNNOOOPPPSSSSiSiSi#3BrBrBrCCCCCCClClClFFFFFFHHHIIINNNOOOPPPSSSSiSiSi_Sp-4BrCFINOPSSi-3BrCCClFFHINOPSSi_N-4BrCFINOPSSi->C_Ext-1O-R': <Entry index=214 label=\"Root_1R->O_N-3R->O_1O-u0_3CClFH-u1_Ext-3CClFH-R_N-4R!H->Cl_N-Sp-4BrBrBrCCCCCClClFFFFFHHIIINNNOOOPPPSSSSiSiSi#3BrBrBrCCCCCCClClClFFFFFFHHHIIINNNOOOPPPSSSSiSiSi_Sp-4BrCFINOPSSi-3BrCCClFFHINOPSSi_N-4BrCFINOPSSi->C_Ext-1O-R\">,\n",
       " 'Root_1R->O_N-3R->O_1O-u0_3CClFH-u1_Ext-3CClFH-R_N-4R!H->Cl_N-Sp-4BrBrBrCCCCCClClFFFFFHHIIINNNOOOPPPSSSSiSiSi#3BrBrBrCCCCCCClClClFFFFFFHHHIIINNNOOOPPPSSSSiSiSi_Sp-4BrCFINOPSSi-3BrCCClFFHINOPSSi_N-4BrCFINOPSSi->C_4FO->F': <Entry index=215 label=\"Root_1R->O_N-3R->O_1O-u0_3CClFH-u1_Ext-3CClFH-R_N-4R!H->Cl_N-Sp-4BrBrBrCCCCCClClFFFFFHHIIINNNOOOPPPSSSSiSiSi#3BrBrBrCCCCCCClClClFFFFFFHHHIIINNNOOOPPPSSSSiSiSi_Sp-4BrCFINOPSSi-3BrCCClFFHINOPSSi_N-4BrCFINOPSSi->C_4FO->F\">,\n",
       " 'Root_1R->O_N-3R->O_1O-u0_3CClFH-u1_Ext-3CClFH-R_N-4R!H->Cl_N-Sp-4BrBrBrCCCCCClClFFFFFHHIIINNNOOOPPPSSSSiSiSi#3BrBrBrCCCCCCClClClFFFFFFHHHIIINNNOOOPPPSSSSiSiSi_Sp-4BrCFINOPSSi-3BrCCClFFHINOPSSi_N-4BrCFINOPSSi->C_N-4FO->F': <Entry index=216 label=\"Root_1R->O_N-3R->O_1O-u0_3CClFH-u1_Ext-3CClFH-R_N-4R!H->Cl_N-Sp-4BrBrBrCCCCCClClFFFFFHHIIINNNOOOPPPSSSSiSiSi#3BrBrBrCCCCCCClClClFFFFFFHHHIIINNNOOOPPPSSSSiSiSi_Sp-4BrCFINOPSSi-3BrCCClFFHINOPSSi_N-4BrCFINOPSSi->C_N-4FO->F\">,\n",
       " 'Root_1R->O_N-3R->O_1O-u0_3CClFH-u1_Ext-3CClFH-R_N-4R!H->Cl_N-Sp-4BrBrBrCCCCCClClFFFFFHHIIINNNOOOPPPSSSSiSiSi#3BrBrBrCCCCCCClClClFFFFFFHHHIIINNNOOOPPPSSSSiSiSi_N-Sp-4BrCFINOPSSi-3BrCCClFFHINOPSSi_4BrCFINOPSSi->C_Ext-1O-R_5R!H->C': <Entry index=217 label=\"Root_1R->O_N-3R->O_1O-u0_3CClFH-u1_Ext-3CClFH-R_N-4R!H->Cl_N-Sp-4BrBrBrCCCCCClClFFFFFHHIIINNNOOOPPPSSSSiSiSi#3BrBrBrCCCCCCClClClFFFFFFHHHIIINNNOOOPPPSSSSiSiSi_N-Sp-4BrCFINOPSSi-3BrCCClFFHINOPSSi_4BrCFINOPSSi->C_Ext-1O-R_5R!H->C\">,\n",
       " 'Root_1R->O_N-3R->O_1O-u0_3CClFH-u1_Ext-3CClFH-R_N-4R!H->Cl_N-Sp-4BrBrBrCCCCCClClFFFFFHHIIINNNOOOPPPSSSSiSiSi#3BrBrBrCCCCCCClClClFFFFFFHHHIIINNNOOOPPPSSSSiSiSi_N-Sp-4BrCFINOPSSi-3BrCCClFFHINOPSSi_4BrCFINOPSSi->C_Ext-1O-R_N-5R!H->C': <Entry index=218 label=\"Root_1R->O_N-3R->O_1O-u0_3CClFH-u1_Ext-3CClFH-R_N-4R!H->Cl_N-Sp-4BrBrBrCCCCCClClFFFFFHHIIINNNOOOPPPSSSSiSiSi#3BrBrBrCCCCCCClClClFFFFFFHHHIIINNNOOOPPPSSSSiSiSi_N-Sp-4BrCFINOPSSi-3BrCCClFFHINOPSSi_4BrCFINOPSSi->C_Ext-1O-R_N-5R!H->C\">,\n",
       " 'Root_1R->O_N-3R->O_1O-u0_3CClFH-u1_Ext-3CClFH-R_N-4R!H->Cl_N-Sp-4BrBrBrCCCCCClClFFFFFHHIIINNNOOOPPPSSSSiSiSi#3BrBrBrCCCCCCClClClFFFFFFHHHIIINNNOOOPPPSSSSiSiSi_N-Sp-4BrCFINOPSSi-3BrCCClFFHINOPSSi_N-4BrCFINOPSSi->C_Ext-1O-R': <Entry index=219 label=\"Root_1R->O_N-3R->O_1O-u0_3CClFH-u1_Ext-3CClFH-R_N-4R!H->Cl_N-Sp-4BrBrBrCCCCCClClFFFFFHHIIINNNOOOPPPSSSSiSiSi#3BrBrBrCCCCCCClClClFFFFFFHHHIIINNNOOOPPPSSSSiSiSi_N-Sp-4BrCFINOPSSi-3BrCCClFFHINOPSSi_N-4BrCFINOPSSi->C_Ext-1O-R\">,\n",
       " 'Root_N-1R->O_3R->O_1BrCClFHINPSSi-u0_Ext-1BrCClFHINPSSi-R_N-Sp-4R!H#1BrBrBrCCCClClClFFFHHHIIINNNPPPSSSSiSiSi_4R!H->F_Ext-1BrCClFHINPSSi-R_N-5R!H->O_Ext-1BrCClFHINPSSi-R_3O-u1': <Entry index=220 label=\"Root_N-1R->O_3R->O_1BrCClFHINPSSi-u0_Ext-1BrCClFHINPSSi-R_N-Sp-4R!H#1BrBrBrCCCClClClFFFHHHIIINNNPPPSSSSiSiSi_4R!H->F_Ext-1BrCClFHINPSSi-R_N-5R!H->O_Ext-1BrCClFHINPSSi-R_3O-u1\">,\n",
       " 'Root_N-1R->O_3R->O_1BrCClFHINPSSi-u0_Ext-1BrCClFHINPSSi-R_N-Sp-4R!H#1BrBrBrCCCClClClFFFHHHIIINNNPPPSSSSiSiSi_4R!H->F_Ext-1BrCClFHINPSSi-R_N-5R!H->O_Ext-1BrCClFHINPSSi-R_N-3O-u1': <Entry index=221 label=\"Root_N-1R->O_3R->O_1BrCClFHINPSSi-u0_Ext-1BrCClFHINPSSi-R_N-Sp-4R!H#1BrBrBrCCCClClClFFFHHHIIINNNPPPSSSSiSiSi_4R!H->F_Ext-1BrCClFHINPSSi-R_N-5R!H->O_Ext-1BrCClFHINPSSi-R_N-3O-u1\">,\n",
       " 'Root_N-1R->O_3R->O_1BrCClFHINPSSi-u0_Ext-1BrCClFHINPSSi-R_N-Sp-4R!H#1BrBrBrCCCClClClFFFHHHIIINNNPPPSSSSiSiSi_N-4R!H->F_N-Sp-4BrCCCClClClFHINOOPSSi=1BrBrCCCCClClClClFFHHIINNOOPPSSSiSi_Ext-1BrCClFHINPSSi-R_4CClO->C_Ext-1BrCClFHINPSSi-R': <Entry index=222 label=\"Root_N-1R->O_3R->O_1BrCClFHINPSSi-u0_Ext-1BrCClFHINPSSi-R_N-Sp-4R!H#1BrBrBrCCCClClClFFFHHHIIINNNPPPSSSSiSiSi_N-4R!H->F_N-Sp-4BrCCCClClClFHINOOPSSi=1BrBrCCCCClClClClFFHHIINNOOPPSSSiSi_Ext-1BrCClFHINPSSi-R_4CClO->C_Ext-1BrCClFHINPSSi-R\">,\n",
       " 'Root_N-1R->O_3R->O_1BrCClFHINPSSi-u0_Ext-1BrCClFHINPSSi-R_N-Sp-4R!H#1BrBrBrCCCClClClFFFHHHIIINNNPPPSSSSiSiSi_N-4R!H->F_N-Sp-4BrCCCClClClFHINOOPSSi=1BrBrCCCCClClClClFFHHIINNOOPPSSSiSi_3O-u1_N-4CClO->Cl_Ext-4CO-R': <Entry index=223 label=\"Root_N-1R->O_3R->O_1BrCClFHINPSSi-u0_Ext-1BrCClFHINPSSi-R_N-Sp-4R!H#1BrBrBrCCCClClClFFFHHHIIINNNPPPSSSSiSiSi_N-4R!H->F_N-Sp-4BrCCCClClClFHINOOPSSi=1BrBrCCCCClClClClFFHHIINNOOPPSSSiSi_3O-u1_N-4CClO->Cl_Ext-4CO-R\">,\n",
       " 'Root_N-1R->O_3R->O_1BrCClFHINPSSi-u0_Ext-1BrCClFHINPSSi-R_N-Sp-4R!H#1BrBrBrCCCClClClFFFHHHIIINNNPPPSSSSiSiSi_N-4R!H->F_N-Sp-4BrCCCClClClFHINOOPSSi=1BrBrCCCCClClClClFFHHIINNOOPPSSSiSi_3O-u1_N-4CClO->Cl_4CO->C': <Entry index=224 label=\"Root_N-1R->O_3R->O_1BrCClFHINPSSi-u0_Ext-1BrCClFHINPSSi-R_N-Sp-4R!H#1BrBrBrCCCClClClFFFHHHIIINNNPPPSSSSiSiSi_N-4R!H->F_N-Sp-4BrCCCClClClFHINOOPSSi=1BrBrCCCCClClClClFFHHIINNOOPPSSSiSi_3O-u1_N-4CClO->Cl_4CO->C\">,\n",
       " 'Root_N-1R->O_3R->O_1BrCClFHINPSSi-u0_Ext-1BrCClFHINPSSi-R_N-Sp-4R!H#1BrBrBrCCCClClClFFFHHHIIINNNPPPSSSSiSiSi_N-4R!H->F_N-Sp-4BrCCCClClClFHINOOPSSi=1BrBrCCCCClClClClFFHHIINNOOPPSSSiSi_3O-u1_N-4CClO->Cl_N-4CO->C': <Entry index=225 label=\"Root_N-1R->O_3R->O_1BrCClFHINPSSi-u0_Ext-1BrCClFHINPSSi-R_N-Sp-4R!H#1BrBrBrCCCClClClFFFHHHIIINNNPPPSSSSiSiSi_N-4R!H->F_N-Sp-4BrCCCClClClFHINOOPSSi=1BrBrCCCCClClClClFFHHIINNOOPPSSSiSi_3O-u1_N-4CClO->Cl_N-4CO->C\">,\n",
       " 'Root_N-1R->O_N-3R->O_N-1BrCClFHINPSSi->F_N-3CClFH->F_3CClH->H_N-1CClH->Cl_Ext-1CH-R_4R!H->F_Ext-1CH-R_5R!H->F': <Entry index=226 label=\"Root_N-1R->O_N-3R->O_N-1BrCClFHINPSSi->F_N-3CClFH->F_3CClH->H_N-1CClH->Cl_Ext-1CH-R_4R!H->F_Ext-1CH-R_5R!H->F\">,\n",
       " 'Root_N-1R->O_N-3R->O_N-1BrCClFHINPSSi->F_N-3CClFH->F_3CClH->H_N-1CClH->Cl_Ext-1CH-R_4R!H->F_Ext-1CH-R_N-5R!H->F': <Entry index=227 label=\"Root_N-1R->O_N-3R->O_N-1BrCClFHINPSSi->F_N-3CClFH->F_3CClH->H_N-1CClH->Cl_Ext-1CH-R_4R!H->F_Ext-1CH-R_N-5R!H->F\">,\n",
       " 'Root_N-1R->O_N-3R->O_N-1BrCClFHINPSSi->F_N-3CClFH->F_3CClH->H_N-1CClH->Cl_Ext-1CH-R_N-4R!H->F_Sp-4BrBrCCCClClHIINNOOPPSSSiSi=1BrBrCCCCClClHHIINNOOPPSSSiSi_Ext-1CH-R': <Entry index=228 label=\"Root_N-1R->O_N-3R->O_N-1BrCClFHINPSSi->F_N-3CClFH->F_3CClH->H_N-1CClH->Cl_Ext-1CH-R_N-4R!H->F_Sp-4BrBrCCCClClHIINNOOPPSSSiSi=1BrBrCCCCClClHHIINNOOPPSSSiSi_Ext-1CH-R\">,\n",
       " 'Root_N-1R->O_N-3R->O_N-1BrCClFHINPSSi->F_N-3CClFH->F_3CClH->H_N-1CClH->Cl_Ext-1CH-R_N-4R!H->F_N-Sp-4BrBrCCCClClHIINNOOPPSSSiSi=1BrBrCCCCClClHHIINNOOPPSSSiSi_4BrCClINOPSSi->C': <Entry index=229 label=\"Root_N-1R->O_N-3R->O_N-1BrCClFHINPSSi->F_N-3CClFH->F_3CClH->H_N-1CClH->Cl_Ext-1CH-R_N-4R!H->F_N-Sp-4BrBrCCCClClHIINNOOPPSSSiSi=1BrBrCCCCClClHHIINNOOPPSSSiSi_4BrCClINOPSSi->C\">,\n",
       " 'Root_N-1R->O_N-3R->O_N-1BrCClFHINPSSi->F_N-3CClFH->F_3CClH->H_N-1CClH->Cl_Ext-1CH-R_N-4R!H->F_N-Sp-4BrBrCCCClClHIINNOOPPSSSiSi=1BrBrCCCCClClHHIINNOOPPSSSiSi_N-4BrCClINOPSSi->C': <Entry index=230 label=\"Root_N-1R->O_N-3R->O_N-1BrCClFHINPSSi->F_N-3CClFH->F_3CClH->H_N-1CClH->Cl_Ext-1CH-R_N-4R!H->F_N-Sp-4BrBrCCCClClHIINNOOPPSSSiSi=1BrBrCCCCClClHHIINNOOPPSSSiSi_N-4BrCClINOPSSi->C\">,\n",
       " 'Root_N-1R->O_N-3R->O_N-1BrCClFHINPSSi->F_N-3CClFH->F_N-3CClH->H_3CCl-u1_1CClH->H_N-3CCl->Cl_Ext-3C-R_4R!H->Cl': <Entry index=231 label=\"Root_N-1R->O_N-3R->O_N-1BrCClFHINPSSi->F_N-3CClFH->F_N-3CClH->H_3CCl-u1_1CClH->H_N-3CCl->Cl_Ext-3C-R_4R!H->Cl\">,\n",
       " 'Root_N-1R->O_N-3R->O_N-1BrCClFHINPSSi->F_N-3CClFH->F_N-3CClH->H_3CCl-u1_1CClH->H_N-3CCl->Cl_Ext-3C-R_N-4R!H->Cl': <Entry index=232 label=\"Root_N-1R->O_N-3R->O_N-1BrCClFHINPSSi->F_N-3CClFH->F_N-3CClH->H_3CCl-u1_1CClH->H_N-3CCl->Cl_Ext-3C-R_N-4R!H->Cl\">,\n",
       " 'Root_N-1R->O_N-3R->O_N-1BrCClFHINPSSi->F_N-3CClFH->F_N-3CClH->H_3CCl-u1_N-1CClH->H_Ext-1C-R_1C-u0_Ext-1C-R': <Entry index=233 label=\"Root_N-1R->O_N-3R->O_N-1BrCClFHINPSSi->F_N-3CClFH->F_N-3CClH->H_3CCl-u1_N-1CClH->H_Ext-1C-R_1C-u0_Ext-1C-R\">,\n",
       " 'Root_N-1R->O_N-3R->O_N-1BrCClFHINPSSi->F_N-3CClFH->F_N-3CClH->H_3CCl-u1_N-1CClH->H_Ext-1C-R_1C-u0_Sp-4R!H-1C': <Entry index=234 label=\"Root_N-1R->O_N-3R->O_N-1BrCClFHINPSSi->F_N-3CClFH->F_N-3CClH->H_3CCl-u1_N-1CClH->H_Ext-1C-R_1C-u0_Sp-4R!H-1C\">,\n",
       " 'Root_N-1R->O_N-3R->O_N-1BrCClFHINPSSi->F_N-3CClFH->F_N-3CClH->H_3CCl-u1_N-1CClH->H_Ext-1C-R_1C-u0_N-Sp-4R!H-1C': <Entry index=235 label=\"Root_N-1R->O_N-3R->O_N-1BrCClFHINPSSi->F_N-3CClFH->F_N-3CClH->H_3CCl-u1_N-1CClH->H_Ext-1C-R_1C-u0_N-Sp-4R!H-1C\">,\n",
       " 'Root_N-1R->O_N-3R->O_N-1BrCClFHINPSSi->F_N-3CClFH->F_N-3CClH->H_3CCl-u1_N-1CClH->H_Ext-1C-R_N-1C-u0_Sp-4R!H-1C': <Entry index=236 label=\"Root_N-1R->O_N-3R->O_N-1BrCClFHINPSSi->F_N-3CClFH->F_N-3CClH->H_3CCl-u1_N-1CClH->H_Ext-1C-R_N-1C-u0_Sp-4R!H-1C\">,\n",
       " 'Root_N-1R->O_N-3R->O_N-1BrCClFHINPSSi->F_N-3CClFH->F_N-3CClH->H_3CCl-u1_N-1CClH->H_Ext-1C-R_N-1C-u0_N-Sp-4R!H-1C': <Entry index=237 label=\"Root_N-1R->O_N-3R->O_N-1BrCClFHINPSSi->F_N-3CClFH->F_N-3CClH->H_3CCl-u1_N-1CClH->H_Ext-1C-R_N-1C-u0_N-Sp-4R!H-1C\">,\n",
       " 'Root_N-1R->O_N-3R->O_N-1BrCClFHINPSSi->F_N-3CClFH->F_N-3CClH->H_3CCl-u1_N-1CClH->H_Ext-3CCl-R_Sp-4R!H=3CCClCl_Ext-3CCl-R_4R!H->C': <Entry index=238 label=\"Root_N-1R->O_N-3R->O_N-1BrCClFHINPSSi->F_N-3CClFH->F_N-3CClH->H_3CCl-u1_N-1CClH->H_Ext-3CCl-R_Sp-4R!H=3CCClCl_Ext-3CCl-R_4R!H->C\">,\n",
       " 'Root_N-1R->O_N-3R->O_N-1BrCClFHINPSSi->F_N-3CClFH->F_N-3CClH->H_3CCl-u1_N-1CClH->H_Ext-3CCl-R_Sp-4R!H=3CCClCl_Ext-3CCl-R_N-4R!H->C': <Entry index=239 label=\"Root_N-1R->O_N-3R->O_N-1BrCClFHINPSSi->F_N-3CClFH->F_N-3CClH->H_3CCl-u1_N-1CClH->H_Ext-3CCl-R_Sp-4R!H=3CCClCl_Ext-3CCl-R_N-4R!H->C\">,\n",
       " 'Root_N-1R->O_N-3R->O_N-1BrCClFHINPSSi->F_N-3CClFH->F_N-3CClH->H_3CCl-u1_N-1CClH->H_Ext-3CCl-R_N-Sp-4R!H=3CCClCl_Ext-3CCl-R_Ext-3CCl-R': <Entry index=240 label=\"Root_N-1R->O_N-3R->O_N-1BrCClFHINPSSi->F_N-3CClFH->F_N-3CClH->H_3CCl-u1_N-1CClH->H_Ext-3CCl-R_N-Sp-4R!H=3CCClCl_Ext-3CCl-R_Ext-3CCl-R\">,\n",
       " 'Root_N-1R->O_N-3R->O_N-1BrCClFHINPSSi->F_N-3CClFH->F_N-3CClH->H_3CCl-u1_N-1CClH->H_Ext-3CCl-R_N-Sp-4R!H=3CCClCl_Ext-3CCl-R_4R!H->C': <Entry index=241 label=\"Root_N-1R->O_N-3R->O_N-1BrCClFHINPSSi->F_N-3CClFH->F_N-3CClH->H_3CCl-u1_N-1CClH->H_Ext-3CCl-R_N-Sp-4R!H=3CCClCl_Ext-3CCl-R_4R!H->C\">,\n",
       " 'Root_N-1R->O_N-3R->O_N-1BrCClFHINPSSi->F_N-3CClFH->F_N-3CClH->H_3CCl-u1_N-1CClH->H_Ext-3CCl-R_N-Sp-4R!H=3CCClCl_Ext-3CCl-R_N-4R!H->C': <Entry index=242 label=\"Root_N-1R->O_N-3R->O_N-1BrCClFHINPSSi->F_N-3CClFH->F_N-3CClH->H_3CCl-u1_N-1CClH->H_Ext-3CCl-R_N-Sp-4R!H=3CCClCl_Ext-3CCl-R_N-4R!H->C\">,\n",
       " 'Root_N-1R->O_N-3R->O_N-1BrCClFHINPSSi->F_N-3CClFH->F_N-3CClH->H_3CCl-u1_N-1CClH->H_Ext-3CCl-R_N-Sp-4R!H=3CCClCl_4R!H->C_Ext-4C-R': <Entry index=243 label=\"Root_N-1R->O_N-3R->O_N-1BrCClFHINPSSi->F_N-3CClFH->F_N-3CClH->H_3CCl-u1_N-1CClH->H_Ext-3CCl-R_N-Sp-4R!H=3CCClCl_4R!H->C_Ext-4C-R\">,\n",
       " 'Root_N-1R->O_N-3R->O_N-1BrCClFHINPSSi->F_N-3CClFH->F_N-3CClH->H_3CCl-u1_N-1CClH->H_Ext-3CCl-R_N-Sp-4R!H=3CCClCl_N-4R!H->C_4FO->F': <Entry index=244 label=\"Root_N-1R->O_N-3R->O_N-1BrCClFHINPSSi->F_N-3CClFH->F_N-3CClH->H_3CCl-u1_N-1CClH->H_Ext-3CCl-R_N-Sp-4R!H=3CCClCl_N-4R!H->C_4FO->F\">,\n",
       " 'Root_N-1R->O_N-3R->O_N-1BrCClFHINPSSi->F_N-3CClFH->F_N-3CClH->H_3CCl-u1_N-1CClH->H_Ext-3CCl-R_N-Sp-4R!H=3CCClCl_N-4R!H->C_N-4FO->F': <Entry index=245 label=\"Root_N-1R->O_N-3R->O_N-1BrCClFHINPSSi->F_N-3CClFH->F_N-3CClH->H_3CCl-u1_N-1CClH->H_Ext-3CCl-R_N-Sp-4R!H=3CCClCl_N-4R!H->C_N-4FO->F\">,\n",
       " 'Root_1R->O_N-3R->O_1O-u0_3CClFH-u1_Ext-3CClFH-R_N-4R!H->Cl_N-Sp-4BrBrBrCCCCCClClFFFFFHHIIINNNOOOPPPSSSSiSiSi#3BrBrBrCCCCCCClClClFFFFFFHHHIIINNNOOOPPPSSSSiSiSi_Sp-4BrCFINOPSSi-3BrCCClFFHINOPSSi_4BrCFINOPSSi->C_Ext-3CClFH-R_Ext-3CClFH-R': <Entry index=246 label=\"Root_1R->O_N-3R->O_1O-u0_3CClFH-u1_Ext-3CClFH-R_N-4R!H->Cl_N-Sp-4BrBrBrCCCCCClClFFFFFHHIIINNNOOOPPPSSSSiSiSi#3BrBrBrCCCCCCClClClFFFFFFHHHIIINNNOOOPPPSSSSiSiSi_Sp-4BrCFINOPSSi-3BrCCClFFHINOPSSi_4BrCFINOPSSi->C_Ext-3CClFH-R_Ext-3CClFH-R\">,\n",
       " 'Root_1R->O_N-3R->O_1O-u0_3CClFH-u1_Ext-3CClFH-R_N-4R!H->Cl_N-Sp-4BrBrBrCCCCCClClFFFFFHHIIINNNOOOPPPSSSSiSiSi#3BrBrBrCCCCCCClClClFFFFFFHHHIIINNNOOOPPPSSSSiSiSi_Sp-4BrCFINOPSSi-3BrCCClFFHINOPSSi_4BrCFINOPSSi->C_Ext-3CClFH-R_Sp-5R!H-3CClFH': <Entry index=247 label=\"Root_1R->O_N-3R->O_1O-u0_3CClFH-u1_Ext-3CClFH-R_N-4R!H->Cl_N-Sp-4BrBrBrCCCCCClClFFFFFHHIIINNNOOOPPPSSSSiSiSi#3BrBrBrCCCCCCClClClFFFFFFHHHIIINNNOOOPPPSSSSiSiSi_Sp-4BrCFINOPSSi-3BrCCClFFHINOPSSi_4BrCFINOPSSi->C_Ext-3CClFH-R_Sp-5R!H-3CClFH\">,\n",
       " 'Root_1R->O_N-3R->O_1O-u0_3CClFH-u1_Ext-3CClFH-R_N-4R!H->Cl_N-Sp-4BrBrBrCCCCCClClFFFFFHHIIINNNOOOPPPSSSSiSiSi#3BrBrBrCCCCCCClClClFFFFFFHHHIIINNNOOOPPPSSSSiSiSi_Sp-4BrCFINOPSSi-3BrCCClFFHINOPSSi_4BrCFINOPSSi->C_Ext-3CClFH-R_N-Sp-5R!H-3CClFH': <Entry index=248 label=\"Root_1R->O_N-3R->O_1O-u0_3CClFH-u1_Ext-3CClFH-R_N-4R!H->Cl_N-Sp-4BrBrBrCCCCCClClFFFFFHHIIINNNOOOPPPSSSSiSiSi#3BrBrBrCCCCCCClClClFFFFFFHHHIIINNNOOOPPPSSSSiSiSi_Sp-4BrCFINOPSSi-3BrCCClFFHINOPSSi_4BrCFINOPSSi->C_Ext-3CClFH-R_N-Sp-5R!H-3CClFH\">,\n",
       " 'Root_1R->O_N-3R->O_1O-u0_3CClFH-u1_Ext-3CClFH-R_N-4R!H->Cl_N-Sp-4BrBrBrCCCCCClClFFFFFHHIIINNNOOOPPPSSSSiSiSi#3BrBrBrCCCCCCClClClFFFFFFHHHIIINNNOOOPPPSSSSiSiSi_Sp-4BrCFINOPSSi-3BrCCClFFHINOPSSi_N-4BrCFINOPSSi->C_Ext-1O-R_Ext-3CClFH-R': <Entry index=249 label=\"Root_1R->O_N-3R->O_1O-u0_3CClFH-u1_Ext-3CClFH-R_N-4R!H->Cl_N-Sp-4BrBrBrCCCCCClClFFFFFHHIIINNNOOOPPPSSSSiSiSi#3BrBrBrCCCCCCClClClFFFFFFHHHIIINNNOOOPPPSSSSiSiSi_Sp-4BrCFINOPSSi-3BrCCClFFHINOPSSi_N-4BrCFINOPSSi->C_Ext-1O-R_Ext-3CClFH-R\">,\n",
       " 'Root_1R->O_N-3R->O_1O-u0_3CClFH-u1_Ext-3CClFH-R_N-4R!H->Cl_N-Sp-4BrBrBrCCCCCClClFFFFFHHIIINNNOOOPPPSSSSiSiSi#3BrBrBrCCCCCCClClClFFFFFFHHHIIINNNOOOPPPSSSSiSiSi_Sp-4BrCFINOPSSi-3BrCCClFFHINOPSSi_N-4BrCFINOPSSi->C_4FO->F_Ext-3CClFH-R': <Entry index=250 label=\"Root_1R->O_N-3R->O_1O-u0_3CClFH-u1_Ext-3CClFH-R_N-4R!H->Cl_N-Sp-4BrBrBrCCCCCClClFFFFFHHIIINNNOOOPPPSSSSiSiSi#3BrBrBrCCCCCCClClClFFFFFFHHHIIINNNOOOPPPSSSSiSiSi_Sp-4BrCFINOPSSi-3BrCCClFFHINOPSSi_N-4BrCFINOPSSi->C_4FO->F_Ext-3CClFH-R\">,\n",
       " 'Root_1R->O_N-3R->O_1O-u0_3CClFH-u1_Ext-3CClFH-R_N-4R!H->Cl_N-Sp-4BrBrBrCCCCCClClFFFFFHHIIINNNOOOPPPSSSSiSiSi#3BrBrBrCCCCCCClClClFFFFFFHHHIIINNNOOOPPPSSSSiSiSi_N-Sp-4BrCFINOPSSi-3BrCCClFFHINOPSSi_N-4BrCFINOPSSi->C_Ext-1O-R_5R!H->O': <Entry index=251 label=\"Root_1R->O_N-3R->O_1O-u0_3CClFH-u1_Ext-3CClFH-R_N-4R!H->Cl_N-Sp-4BrBrBrCCCCCClClFFFFFHHIIINNNOOOPPPSSSSiSiSi#3BrBrBrCCCCCCClClClFFFFFFHHHIIINNNOOOPPPSSSSiSiSi_N-Sp-4BrCFINOPSSi-3BrCCClFFHINOPSSi_N-4BrCFINOPSSi->C_Ext-1O-R_5R!H->O\">,\n",
       " 'Root_1R->O_N-3R->O_1O-u0_3CClFH-u1_Ext-3CClFH-R_N-4R!H->Cl_N-Sp-4BrBrBrCCCCCClClFFFFFHHIIINNNOOOPPPSSSSiSiSi#3BrBrBrCCCCCCClClClFFFFFFHHHIIINNNOOOPPPSSSSiSiSi_N-Sp-4BrCFINOPSSi-3BrCCClFFHINOPSSi_N-4BrCFINOPSSi->C_Ext-1O-R_N-5R!H->O': <Entry index=252 label=\"Root_1R->O_N-3R->O_1O-u0_3CClFH-u1_Ext-3CClFH-R_N-4R!H->Cl_N-Sp-4BrBrBrCCCCCClClFFFFFHHIIINNNOOOPPPSSSSiSiSi#3BrBrBrCCCCCCClClClFFFFFFHHHIIINNNOOOPPPSSSSiSiSi_N-Sp-4BrCFINOPSSi-3BrCCClFFHINOPSSi_N-4BrCFINOPSSi->C_Ext-1O-R_N-5R!H->O\">,\n",
       " 'Root_N-1R->O_3R->O_1BrCClFHINPSSi-u0_Ext-1BrCClFHINPSSi-R_N-Sp-4R!H#1BrBrBrCCCClClClFFFHHHIIINNNPPPSSSSiSiSi_N-4R!H->F_N-Sp-4BrCCCClClClFHINOOPSSi=1BrBrCCCCClClClClFFHHIINNOOPPSSSiSi_3O-u1_N-4CClO->Cl_Ext-4CO-R_Ext-4CO-R': <Entry index=253 label=\"Root_N-1R->O_3R->O_1BrCClFHINPSSi-u0_Ext-1BrCClFHINPSSi-R_N-Sp-4R!H#1BrBrBrCCCClClClFFFHHHIIINNNPPPSSSSiSiSi_N-4R!H->F_N-Sp-4BrCCCClClClFHINOOPSSi=1BrBrCCCCClClClClFFHHIINNOOPPSSSiSi_3O-u1_N-4CClO->Cl_Ext-4CO-R_Ext-4CO-R\">,\n",
       " 'Root_N-1R->O_N-3R->O_N-1BrCClFHINPSSi->F_N-3CClFH->F_3CClH->H_N-1CClH->Cl_Ext-1CH-R_4R!H->F_Ext-1CH-R_5R!H->F_Ext-1CH-R': <Entry index=254 label=\"Root_N-1R->O_N-3R->O_N-1BrCClFHINPSSi->F_N-3CClFH->F_3CClH->H_N-1CClH->Cl_Ext-1CH-R_4R!H->F_Ext-1CH-R_5R!H->F_Ext-1CH-R\">,\n",
       " 'Root_N-1R->O_N-3R->O_N-1BrCClFHINPSSi->F_N-3CClFH->F_3CClH->H_N-1CClH->Cl_Ext-1CH-R_4R!H->F_Ext-1CH-R_N-5R!H->F_5BrCClINOPSSi->C': <Entry index=255 label=\"Root_N-1R->O_N-3R->O_N-1BrCClFHINPSSi->F_N-3CClFH->F_3CClH->H_N-1CClH->Cl_Ext-1CH-R_4R!H->F_Ext-1CH-R_N-5R!H->F_5BrCClINOPSSi->C\">,\n",
       " 'Root_N-1R->O_N-3R->O_N-1BrCClFHINPSSi->F_N-3CClFH->F_3CClH->H_N-1CClH->Cl_Ext-1CH-R_4R!H->F_Ext-1CH-R_N-5R!H->F_N-5BrCClINOPSSi->C': <Entry index=256 label=\"Root_N-1R->O_N-3R->O_N-1BrCClFHINPSSi->F_N-3CClFH->F_3CClH->H_N-1CClH->Cl_Ext-1CH-R_4R!H->F_Ext-1CH-R_N-5R!H->F_N-5BrCClINOPSSi->C\">,\n",
       " 'Root_N-1R->O_N-3R->O_N-1BrCClFHINPSSi->F_N-3CClFH->F_3CClH->H_N-1CClH->Cl_Ext-1CH-R_N-4R!H->F_N-Sp-4BrBrCCCClClHIINNOOPPSSSiSi=1BrBrCCCCClClHHIINNOOPPSSSiSi_N-4BrCClINOPSSi->C_Ext-1CH-R': <Entry index=257 label=\"Root_N-1R->O_N-3R->O_N-1BrCClFHINPSSi->F_N-3CClFH->F_3CClH->H_N-1CClH->Cl_Ext-1CH-R_N-4R!H->F_N-Sp-4BrBrCCCClClHIINNOOPPSSSiSi=1BrBrCCCCClClHHIINNOOPPSSSiSi_N-4BrCClINOPSSi->C_Ext-1CH-R\">,\n",
       " 'Root_N-1R->O_N-3R->O_N-1BrCClFHINPSSi->F_N-3CClFH->F_3CClH->H_N-1CClH->Cl_Ext-1CH-R_N-4R!H->F_N-Sp-4BrBrCCCClClHIINNOOPPSSSiSi=1BrBrCCCCClClHHIINNOOPPSSSiSi_N-4BrCClINOPSSi->C_4ClO->Cl': <Entry index=258 label=\"Root_N-1R->O_N-3R->O_N-1BrCClFHINPSSi->F_N-3CClFH->F_3CClH->H_N-1CClH->Cl_Ext-1CH-R_N-4R!H->F_N-Sp-4BrBrCCCClClHIINNOOPPSSSiSi=1BrBrCCCCClClHHIINNOOPPSSSiSi_N-4BrCClINOPSSi->C_4ClO->Cl\">,\n",
       " 'Root_N-1R->O_N-3R->O_N-1BrCClFHINPSSi->F_N-3CClFH->F_3CClH->H_N-1CClH->Cl_Ext-1CH-R_N-4R!H->F_N-Sp-4BrBrCCCClClHIINNOOPPSSSiSi=1BrBrCCCCClClHHIINNOOPPSSSiSi_N-4BrCClINOPSSi->C_N-4ClO->Cl': <Entry index=259 label=\"Root_N-1R->O_N-3R->O_N-1BrCClFHINPSSi->F_N-3CClFH->F_3CClH->H_N-1CClH->Cl_Ext-1CH-R_N-4R!H->F_N-Sp-4BrBrCCCClClHIINNOOPPSSSiSi=1BrBrCCCCClClHHIINNOOPPSSSiSi_N-4BrCClINOPSSi->C_N-4ClO->Cl\">,\n",
       " 'Root_N-1R->O_N-3R->O_N-1BrCClFHINPSSi->F_N-3CClFH->F_N-3CClH->H_3CCl-u1_1CClH->H_N-3CCl->Cl_Ext-3C-R_4R!H->Cl_Ext-3C-R': <Entry index=260 label=\"Root_N-1R->O_N-3R->O_N-1BrCClFHINPSSi->F_N-3CClFH->F_N-3CClH->H_3CCl-u1_1CClH->H_N-3CCl->Cl_Ext-3C-R_4R!H->Cl_Ext-3C-R\">,\n",
       " 'Root_N-1R->O_N-3R->O_N-1BrCClFHINPSSi->F_N-3CClFH->F_N-3CClH->H_3CCl-u1_1CClH->H_N-3CCl->Cl_Ext-3C-R_N-4R!H->Cl_Ext-3C-R': <Entry index=261 label=\"Root_N-1R->O_N-3R->O_N-1BrCClFHINPSSi->F_N-3CClFH->F_N-3CClH->H_3CCl-u1_1CClH->H_N-3CCl->Cl_Ext-3C-R_N-4R!H->Cl_Ext-3C-R\">,\n",
       " 'Root_N-1R->O_N-3R->O_N-1BrCClFHINPSSi->F_N-3CClFH->F_N-3CClH->H_3CCl-u1_1CClH->H_N-3CCl->Cl_Ext-3C-R_N-4R!H->Cl_4BrCFINOPSSi->C': <Entry index=262 label=\"Root_N-1R->O_N-3R->O_N-1BrCClFHINPSSi->F_N-3CClFH->F_N-3CClH->H_3CCl-u1_1CClH->H_N-3CCl->Cl_Ext-3C-R_N-4R!H->Cl_4BrCFINOPSSi->C\">,\n",
       " 'Root_N-1R->O_N-3R->O_N-1BrCClFHINPSSi->F_N-3CClFH->F_N-3CClH->H_3CCl-u1_1CClH->H_N-3CCl->Cl_Ext-3C-R_N-4R!H->Cl_N-4BrCFINOPSSi->C': <Entry index=263 label=\"Root_N-1R->O_N-3R->O_N-1BrCClFHINPSSi->F_N-3CClFH->F_N-3CClH->H_3CCl-u1_1CClH->H_N-3CCl->Cl_Ext-3C-R_N-4R!H->Cl_N-4BrCFINOPSSi->C\">,\n",
       " 'Root_N-1R->O_N-3R->O_N-1BrCClFHINPSSi->F_N-3CClFH->F_N-3CClH->H_3CCl-u1_N-1CClH->H_Ext-1C-R_1C-u0_Ext-1C-R_4R!H->C': <Entry index=264 label=\"Root_N-1R->O_N-3R->O_N-1BrCClFHINPSSi->F_N-3CClFH->F_N-3CClH->H_3CCl-u1_N-1CClH->H_Ext-1C-R_1C-u0_Ext-1C-R_4R!H->C\">,\n",
       " 'Root_N-1R->O_N-3R->O_N-1BrCClFHINPSSi->F_N-3CClFH->F_N-3CClH->H_3CCl-u1_N-1CClH->H_Ext-1C-R_1C-u0_Ext-1C-R_N-4R!H->C': <Entry index=265 label=\"Root_N-1R->O_N-3R->O_N-1BrCClFHINPSSi->F_N-3CClFH->F_N-3CClH->H_3CCl-u1_N-1CClH->H_Ext-1C-R_1C-u0_Ext-1C-R_N-4R!H->C\">,\n",
       " 'Root_N-1R->O_N-3R->O_N-1BrCClFHINPSSi->F_N-3CClFH->F_N-3CClH->H_3CCl-u1_N-1CClH->H_Ext-1C-R_1C-u0_Sp-4R!H-1C_4R!H->F': <Entry index=266 label=\"Root_N-1R->O_N-3R->O_N-1BrCClFHINPSSi->F_N-3CClFH->F_N-3CClH->H_3CCl-u1_N-1CClH->H_Ext-1C-R_1C-u0_Sp-4R!H-1C_4R!H->F\">,\n",
       " 'Root_N-1R->O_N-3R->O_N-1BrCClFHINPSSi->F_N-3CClFH->F_N-3CClH->H_3CCl-u1_N-1CClH->H_Ext-1C-R_1C-u0_Sp-4R!H-1C_N-4R!H->F': <Entry index=267 label=\"Root_N-1R->O_N-3R->O_N-1BrCClFHINPSSi->F_N-3CClFH->F_N-3CClH->H_3CCl-u1_N-1CClH->H_Ext-1C-R_1C-u0_Sp-4R!H-1C_N-4R!H->F\">,\n",
       " 'Root_N-1R->O_N-3R->O_N-1BrCClFHINPSSi->F_N-3CClFH->F_N-3CClH->H_3CCl-u1_N-1CClH->H_Ext-1C-R_1C-u0_N-Sp-4R!H-1C_4R!H->C': <Entry index=268 label=\"Root_N-1R->O_N-3R->O_N-1BrCClFHINPSSi->F_N-3CClFH->F_N-3CClH->H_3CCl-u1_N-1CClH->H_Ext-1C-R_1C-u0_N-Sp-4R!H-1C_4R!H->C\">,\n",
       " 'Root_N-1R->O_N-3R->O_N-1BrCClFHINPSSi->F_N-3CClFH->F_N-3CClH->H_3CCl-u1_N-1CClH->H_Ext-1C-R_1C-u0_N-Sp-4R!H-1C_N-4R!H->C': <Entry index=269 label=\"Root_N-1R->O_N-3R->O_N-1BrCClFHINPSSi->F_N-3CClFH->F_N-3CClH->H_3CCl-u1_N-1CClH->H_Ext-1C-R_1C-u0_N-Sp-4R!H-1C_N-4R!H->C\">,\n",
       " 'Root_N-1R->O_N-3R->O_N-1BrCClFHINPSSi->F_N-3CClFH->F_N-3CClH->H_3CCl-u1_N-1CClH->H_Ext-1C-R_N-1C-u0_Sp-4R!H-1C_4R!H->C': <Entry index=270 label=\"Root_N-1R->O_N-3R->O_N-1BrCClFHINPSSi->F_N-3CClFH->F_N-3CClH->H_3CCl-u1_N-1CClH->H_Ext-1C-R_N-1C-u0_Sp-4R!H-1C_4R!H->C\">,\n",
       " 'Root_N-1R->O_N-3R->O_N-1BrCClFHINPSSi->F_N-3CClFH->F_N-3CClH->H_3CCl-u1_N-1CClH->H_Ext-1C-R_N-1C-u0_Sp-4R!H-1C_N-4R!H->C': <Entry index=271 label=\"Root_N-1R->O_N-3R->O_N-1BrCClFHINPSSi->F_N-3CClFH->F_N-3CClH->H_3CCl-u1_N-1CClH->H_Ext-1C-R_N-1C-u0_Sp-4R!H-1C_N-4R!H->C\">,\n",
       " 'Root_N-1R->O_N-3R->O_N-1BrCClFHINPSSi->F_N-3CClFH->F_N-3CClH->H_3CCl-u1_N-1CClH->H_Ext-3CCl-R_N-Sp-4R!H=3CCClCl_Ext-3CCl-R_4R!H->C_5R!H->C': <Entry index=272 label=\"Root_N-1R->O_N-3R->O_N-1BrCClFHINPSSi->F_N-3CClFH->F_N-3CClH->H_3CCl-u1_N-1CClH->H_Ext-3CCl-R_N-Sp-4R!H=3CCClCl_Ext-3CCl-R_4R!H->C_5R!H->C\">,\n",
       " 'Root_N-1R->O_N-3R->O_N-1BrCClFHINPSSi->F_N-3CClFH->F_N-3CClH->H_3CCl-u1_N-1CClH->H_Ext-3CCl-R_N-Sp-4R!H=3CCClCl_Ext-3CCl-R_4R!H->C_N-5R!H->C': <Entry index=273 label=\"Root_N-1R->O_N-3R->O_N-1BrCClFHINPSSi->F_N-3CClFH->F_N-3CClH->H_3CCl-u1_N-1CClH->H_Ext-3CCl-R_N-Sp-4R!H=3CCClCl_Ext-3CCl-R_4R!H->C_N-5R!H->C\">,\n",
       " 'Root_1R->O_N-3R->O_1O-u0_3CClFH-u1_Ext-3CClFH-R_N-4R!H->Cl_N-Sp-4BrBrBrCCCCCClClFFFFFHHIIINNNOOOPPPSSSSiSiSi#3BrBrBrCCCCCCClClClFFFFFFHHHIIINNNOOOPPPSSSSiSiSi_Sp-4BrCFINOPSSi-3BrCCClFFHINOPSSi_4BrCFINOPSSi->C_Ext-3CClFH-R_Sp-5R!H-3CClFH_Ext-1O-R': <Entry index=274 label=\"Root_1R->O_N-3R->O_1O-u0_3CClFH-u1_Ext-3CClFH-R_N-4R!H->Cl_N-Sp-4BrBrBrCCCCCClClFFFFFHHIIINNNOOOPPPSSSSiSiSi#3BrBrBrCCCCCCClClClFFFFFFHHHIIINNNOOOPPPSSSSiSiSi_Sp-4BrCFINOPSSi-3BrCCClFFHINOPSSi_4BrCFINOPSSi->C_Ext-3CClFH-R_Sp-5R!H-3CClFH_Ext-1O-R\">,\n",
       " 'Root_1R->O_N-3R->O_1O-u0_3CClFH-u1_Ext-3CClFH-R_N-4R!H->Cl_N-Sp-4BrBrBrCCCCCClClFFFFFHHIIINNNOOOPPPSSSSiSiSi#3BrBrBrCCCCCCClClClFFFFFFHHHIIINNNOOOPPPSSSSiSiSi_Sp-4BrCFINOPSSi-3BrCCClFFHINOPSSi_4BrCFINOPSSi->C_Ext-3CClFH-R_N-Sp-5R!H-3CClFH_Ext-1O-R': <Entry index=275 label=\"Root_1R->O_N-3R->O_1O-u0_3CClFH-u1_Ext-3CClFH-R_N-4R!H->Cl_N-Sp-4BrBrBrCCCCCClClFFFFFHHIIINNNOOOPPPSSSSiSiSi#3BrBrBrCCCCCCClClClFFFFFFHHHIIINNNOOOPPPSSSSiSiSi_Sp-4BrCFINOPSSi-3BrCCClFFHINOPSSi_4BrCFINOPSSi->C_Ext-3CClFH-R_N-Sp-5R!H-3CClFH_Ext-1O-R\">,\n",
       " 'Root_1R->O_N-3R->O_1O-u0_3CClFH-u1_Ext-3CClFH-R_N-4R!H->Cl_N-Sp-4BrBrBrCCCCCClClFFFFFHHIIINNNOOOPPPSSSSiSiSi#3BrBrBrCCCCCCClClClFFFFFFHHHIIINNNOOOPPPSSSSiSiSi_Sp-4BrCFINOPSSi-3BrCCClFFHINOPSSi_N-4BrCFINOPSSi->C_Ext-1O-R_Ext-3CClFH-R_Ext-3CClFH-R': <Entry index=276 label=\"Root_1R->O_N-3R->O_1O-u0_3CClFH-u1_Ext-3CClFH-R_N-4R!H->Cl_N-Sp-4BrBrBrCCCCCClClFFFFFHHIIINNNOOOPPPSSSSiSiSi#3BrBrBrCCCCCCClClClFFFFFFHHHIIINNNOOOPPPSSSSiSiSi_Sp-4BrCFINOPSSi-3BrCCClFFHINOPSSi_N-4BrCFINOPSSi->C_Ext-1O-R_Ext-3CClFH-R_Ext-3CClFH-R\">,\n",
       " 'Root_1R->O_N-3R->O_1O-u0_3CClFH-u1_Ext-3CClFH-R_N-4R!H->Cl_N-Sp-4BrBrBrCCCCCClClFFFFFHHIIINNNOOOPPPSSSSiSiSi#3BrBrBrCCCCCCClClClFFFFFFHHHIIINNNOOOPPPSSSSiSiSi_Sp-4BrCFINOPSSi-3BrCCClFFHINOPSSi_N-4BrCFINOPSSi->C_Ext-1O-R_Ext-3CClFH-R_6R!H->F': <Entry index=277 label=\"Root_1R->O_N-3R->O_1O-u0_3CClFH-u1_Ext-3CClFH-R_N-4R!H->Cl_N-Sp-4BrBrBrCCCCCClClFFFFFHHIIINNNOOOPPPSSSSiSiSi#3BrBrBrCCCCCCClClClFFFFFFHHHIIINNNOOOPPPSSSSiSiSi_Sp-4BrCFINOPSSi-3BrCCClFFHINOPSSi_N-4BrCFINOPSSi->C_Ext-1O-R_Ext-3CClFH-R_6R!H->F\">,\n",
       " 'Root_1R->O_N-3R->O_1O-u0_3CClFH-u1_Ext-3CClFH-R_N-4R!H->Cl_N-Sp-4BrBrBrCCCCCClClFFFFFHHIIINNNOOOPPPSSSSiSiSi#3BrBrBrCCCCCCClClClFFFFFFHHHIIINNNOOOPPPSSSSiSiSi_Sp-4BrCFINOPSSi-3BrCCClFFHINOPSSi_N-4BrCFINOPSSi->C_Ext-1O-R_Ext-3CClFH-R_N-6R!H->F': <Entry index=278 label=\"Root_1R->O_N-3R->O_1O-u0_3CClFH-u1_Ext-3CClFH-R_N-4R!H->Cl_N-Sp-4BrBrBrCCCCCClClFFFFFHHIIINNNOOOPPPSSSSiSiSi#3BrBrBrCCCCCCClClClFFFFFFHHHIIINNNOOOPPPSSSSiSiSi_Sp-4BrCFINOPSSi-3BrCCClFFHINOPSSi_N-4BrCFINOPSSi->C_Ext-1O-R_Ext-3CClFH-R_N-6R!H->F\">,\n",
       " 'Root_1R->O_N-3R->O_1O-u0_3CClFH-u1_Ext-3CClFH-R_N-4R!H->Cl_N-Sp-4BrBrBrCCCCCClClFFFFFHHIIINNNOOOPPPSSSSiSiSi#3BrBrBrCCCCCCClClClFFFFFFHHHIIINNNOOOPPPSSSSiSiSi_Sp-4BrCFINOPSSi-3BrCCClFFHINOPSSi_N-4BrCFINOPSSi->C_4FO->F_Ext-3CClFH-R_Ext-3CClFH-R': <Entry index=279 label=\"Root_1R->O_N-3R->O_1O-u0_3CClFH-u1_Ext-3CClFH-R_N-4R!H->Cl_N-Sp-4BrBrBrCCCCCClClFFFFFHHIIINNNOOOPPPSSSSiSiSi#3BrBrBrCCCCCCClClClFFFFFFHHHIIINNNOOOPPPSSSSiSiSi_Sp-4BrCFINOPSSi-3BrCCClFFHINOPSSi_N-4BrCFINOPSSi->C_4FO->F_Ext-3CClFH-R_Ext-3CClFH-R\">,\n",
       " 'Root_1R->O_N-3R->O_1O-u0_3CClFH-u1_Ext-3CClFH-R_N-4R!H->Cl_N-Sp-4BrBrBrCCCCCClClFFFFFHHIIINNNOOOPPPSSSSiSiSi#3BrBrBrCCCCCCClClClFFFFFFHHHIIINNNOOOPPPSSSSiSiSi_Sp-4BrCFINOPSSi-3BrCCClFFHINOPSSi_N-4BrCFINOPSSi->C_4FO->F_Ext-3CClFH-R_5R!H->F': <Entry index=280 label=\"Root_1R->O_N-3R->O_1O-u0_3CClFH-u1_Ext-3CClFH-R_N-4R!H->Cl_N-Sp-4BrBrBrCCCCCClClFFFFFHHIIINNNOOOPPPSSSSiSiSi#3BrBrBrCCCCCCClClClFFFFFFHHHIIINNNOOOPPPSSSSiSiSi_Sp-4BrCFINOPSSi-3BrCCClFFHINOPSSi_N-4BrCFINOPSSi->C_4FO->F_Ext-3CClFH-R_5R!H->F\">,\n",
       " 'Root_1R->O_N-3R->O_1O-u0_3CClFH-u1_Ext-3CClFH-R_N-4R!H->Cl_N-Sp-4BrBrBrCCCCCClClFFFFFHHIIINNNOOOPPPSSSSiSiSi#3BrBrBrCCCCCCClClClFFFFFFHHHIIINNNOOOPPPSSSSiSiSi_Sp-4BrCFINOPSSi-3BrCCClFFHINOPSSi_N-4BrCFINOPSSi->C_4FO->F_Ext-3CClFH-R_N-5R!H->F': <Entry index=281 label=\"Root_1R->O_N-3R->O_1O-u0_3CClFH-u1_Ext-3CClFH-R_N-4R!H->Cl_N-Sp-4BrBrBrCCCCCClClFFFFFHHIIINNNOOOPPPSSSSiSiSi#3BrBrBrCCCCCCClClClFFFFFFHHHIIINNNOOOPPPSSSSiSiSi_Sp-4BrCFINOPSSi-3BrCCClFFHINOPSSi_N-4BrCFINOPSSi->C_4FO->F_Ext-3CClFH-R_N-5R!H->F\">,\n",
       " 'Root_N-1R->O_N-3R->O_N-1BrCClFHINPSSi->F_N-3CClFH->F_3CClH->H_N-1CClH->Cl_Ext-1CH-R_4R!H->F_Ext-1CH-R_5R!H->F_Ext-1CH-R_6R!H->C': <Entry index=282 label=\"Root_N-1R->O_N-3R->O_N-1BrCClFHINPSSi->F_N-3CClFH->F_3CClH->H_N-1CClH->Cl_Ext-1CH-R_4R!H->F_Ext-1CH-R_5R!H->F_Ext-1CH-R_6R!H->C\">,\n",
       " 'Root_N-1R->O_N-3R->O_N-1BrCClFHINPSSi->F_N-3CClFH->F_3CClH->H_N-1CClH->Cl_Ext-1CH-R_4R!H->F_Ext-1CH-R_5R!H->F_Ext-1CH-R_N-6R!H->C': <Entry index=283 label=\"Root_N-1R->O_N-3R->O_N-1BrCClFHINPSSi->F_N-3CClFH->F_3CClH->H_N-1CClH->Cl_Ext-1CH-R_4R!H->F_Ext-1CH-R_5R!H->F_Ext-1CH-R_N-6R!H->C\">,\n",
       " 'Root_N-1R->O_N-3R->O_N-1BrCClFHINPSSi->F_N-3CClFH->F_N-3CClH->H_3CCl-u1_1CClH->H_N-3CCl->Cl_Ext-3C-R_N-4R!H->Cl_Ext-3C-R_Ext-3C-R': <Entry index=284 label=\"Root_N-1R->O_N-3R->O_N-1BrCClFHINPSSi->F_N-3CClFH->F_N-3CClH->H_3CCl-u1_1CClH->H_N-3CCl->Cl_Ext-3C-R_N-4R!H->Cl_Ext-3C-R_Ext-3C-R\">,\n",
       " 'Root_N-1R->O_N-3R->O_N-1BrCClFHINPSSi->F_N-3CClFH->F_N-3CClH->H_3CCl-u1_1CClH->H_N-3CCl->Cl_Ext-3C-R_N-4R!H->Cl_Ext-3C-R_4BrCFINOPSSi->C': <Entry index=285 label=\"Root_N-1R->O_N-3R->O_N-1BrCClFHINPSSi->F_N-3CClFH->F_N-3CClH->H_3CCl-u1_1CClH->H_N-3CCl->Cl_Ext-3C-R_N-4R!H->Cl_Ext-3C-R_4BrCFINOPSSi->C\">,\n",
       " 'Root_N-1R->O_N-3R->O_N-1BrCClFHINPSSi->F_N-3CClFH->F_N-3CClH->H_3CCl-u1_1CClH->H_N-3CCl->Cl_Ext-3C-R_N-4R!H->Cl_Ext-3C-R_N-4BrCFINOPSSi->C': <Entry index=286 label=\"Root_N-1R->O_N-3R->O_N-1BrCClFHINPSSi->F_N-3CClFH->F_N-3CClH->H_3CCl-u1_1CClH->H_N-3CCl->Cl_Ext-3C-R_N-4R!H->Cl_Ext-3C-R_N-4BrCFINOPSSi->C\">,\n",
       " 'Root_N-1R->O_N-3R->O_N-1BrCClFHINPSSi->F_N-3CClFH->F_N-3CClH->H_3CCl-u1_1CClH->H_N-3CCl->Cl_Ext-3C-R_N-4R!H->Cl_N-4BrCFINOPSSi->C_4FO->F': <Entry index=287 label=\"Root_N-1R->O_N-3R->O_N-1BrCClFHINPSSi->F_N-3CClFH->F_N-3CClH->H_3CCl-u1_1CClH->H_N-3CCl->Cl_Ext-3C-R_N-4R!H->Cl_N-4BrCFINOPSSi->C_4FO->F\">,\n",
       " 'Root_N-1R->O_N-3R->O_N-1BrCClFHINPSSi->F_N-3CClFH->F_N-3CClH->H_3CCl-u1_1CClH->H_N-3CCl->Cl_Ext-3C-R_N-4R!H->Cl_N-4BrCFINOPSSi->C_N-4FO->F': <Entry index=288 label=\"Root_N-1R->O_N-3R->O_N-1BrCClFHINPSSi->F_N-3CClFH->F_N-3CClH->H_3CCl-u1_1CClH->H_N-3CCl->Cl_Ext-3C-R_N-4R!H->Cl_N-4BrCFINOPSSi->C_N-4FO->F\">,\n",
       " 'Root_N-1R->O_N-3R->O_N-1BrCClFHINPSSi->F_N-3CClFH->F_N-3CClH->H_3CCl-u1_N-1CClH->H_Ext-1C-R_1C-u0_Ext-1C-R_4R!H->C_Ext-4C-R': <Entry index=289 label=\"Root_N-1R->O_N-3R->O_N-1BrCClFHINPSSi->F_N-3CClFH->F_N-3CClH->H_3CCl-u1_N-1CClH->H_Ext-1C-R_1C-u0_Ext-1C-R_4R!H->C_Ext-4C-R\">,\n",
       " 'Root_N-1R->O_N-3R->O_N-1BrCClFHINPSSi->F_N-3CClFH->F_N-3CClH->H_3CCl-u1_N-1CClH->H_Ext-1C-R_1C-u0_Ext-1C-R_4R!H->C_Sp-4C=1C': <Entry index=290 label=\"Root_N-1R->O_N-3R->O_N-1BrCClFHINPSSi->F_N-3CClFH->F_N-3CClH->H_3CCl-u1_N-1CClH->H_Ext-1C-R_1C-u0_Ext-1C-R_4R!H->C_Sp-4C=1C\">,\n",
       " 'Root_N-1R->O_N-3R->O_N-1BrCClFHINPSSi->F_N-3CClFH->F_N-3CClH->H_3CCl-u1_N-1CClH->H_Ext-1C-R_1C-u0_Ext-1C-R_4R!H->C_N-Sp-4C=1C': <Entry index=291 label=\"Root_N-1R->O_N-3R->O_N-1BrCClFHINPSSi->F_N-3CClFH->F_N-3CClH->H_3CCl-u1_N-1CClH->H_Ext-1C-R_1C-u0_Ext-1C-R_4R!H->C_N-Sp-4C=1C\">,\n",
       " 'Root_N-1R->O_N-3R->O_N-1BrCClFHINPSSi->F_N-3CClFH->F_N-3CClH->H_3CCl-u1_N-1CClH->H_Ext-1C-R_1C-u0_Ext-1C-R_N-4R!H->C_4FO->O': <Entry index=292 label=\"Root_N-1R->O_N-3R->O_N-1BrCClFHINPSSi->F_N-3CClFH->F_N-3CClH->H_3CCl-u1_N-1CClH->H_Ext-1C-R_1C-u0_Ext-1C-R_N-4R!H->C_4FO->O\">,\n",
       " 'Root_N-1R->O_N-3R->O_N-1BrCClFHINPSSi->F_N-3CClFH->F_N-3CClH->H_3CCl-u1_N-1CClH->H_Ext-1C-R_1C-u0_Ext-1C-R_N-4R!H->C_N-4FO->O': <Entry index=293 label=\"Root_N-1R->O_N-3R->O_N-1BrCClFHINPSSi->F_N-3CClFH->F_N-3CClH->H_3CCl-u1_N-1CClH->H_Ext-1C-R_1C-u0_Ext-1C-R_N-4R!H->C_N-4FO->O\">,\n",
       " 'Root_N-1R->O_N-3R->O_N-1BrCClFHINPSSi->F_N-3CClFH->F_N-3CClH->H_3CCl-u1_N-1CClH->H_Ext-1C-R_1C-u0_Sp-4R!H-1C_4R!H->F_Ext-3CCl-R': <Entry index=294 label=\"Root_N-1R->O_N-3R->O_N-1BrCClFHINPSSi->F_N-3CClFH->F_N-3CClH->H_3CCl-u1_N-1CClH->H_Ext-1C-R_1C-u0_Sp-4R!H-1C_4R!H->F_Ext-3CCl-R\">,\n",
       " 'Root_N-1R->O_N-3R->O_N-1BrCClFHINPSSi->F_N-3CClFH->F_N-3CClH->H_3CCl-u1_N-1CClH->H_Ext-1C-R_1C-u0_Sp-4R!H-1C_N-4R!H->F_Ext-3CCl-R': <Entry index=295 label=\"Root_N-1R->O_N-3R->O_N-1BrCClFHINPSSi->F_N-3CClFH->F_N-3CClH->H_3CCl-u1_N-1CClH->H_Ext-1C-R_1C-u0_Sp-4R!H-1C_N-4R!H->F_Ext-3CCl-R\">,\n",
       " 'Root_N-1R->O_N-3R->O_N-1BrCClFHINPSSi->F_N-3CClFH->F_N-3CClH->H_3CCl-u1_N-1CClH->H_Ext-1C-R_1C-u0_Sp-4R!H-1C_N-4R!H->F_4CO->C': <Entry index=296 label=\"Root_N-1R->O_N-3R->O_N-1BrCClFHINPSSi->F_N-3CClFH->F_N-3CClH->H_3CCl-u1_N-1CClH->H_Ext-1C-R_1C-u0_Sp-4R!H-1C_N-4R!H->F_4CO->C\">,\n",
       " 'Root_N-1R->O_N-3R->O_N-1BrCClFHINPSSi->F_N-3CClFH->F_N-3CClH->H_3CCl-u1_N-1CClH->H_Ext-1C-R_1C-u0_Sp-4R!H-1C_N-4R!H->F_N-4CO->C': <Entry index=297 label=\"Root_N-1R->O_N-3R->O_N-1BrCClFHINPSSi->F_N-3CClFH->F_N-3CClH->H_3CCl-u1_N-1CClH->H_Ext-1C-R_1C-u0_Sp-4R!H-1C_N-4R!H->F_N-4CO->C\">,\n",
       " 'Root_N-1R->O_N-3R->O_N-1BrCClFHINPSSi->F_N-3CClFH->F_N-3CClH->H_3CCl-u1_N-1CClH->H_Ext-1C-R_1C-u0_N-Sp-4R!H-1C_N-4R!H->C_Ext-3CCl-R': <Entry index=298 label=\"Root_N-1R->O_N-3R->O_N-1BrCClFHINPSSi->F_N-3CClFH->F_N-3CClH->H_3CCl-u1_N-1CClH->H_Ext-1C-R_1C-u0_N-Sp-4R!H-1C_N-4R!H->C_Ext-3CCl-R\">,\n",
       " 'Root_N-1R->O_N-3R->O_N-1BrCClFHINPSSi->F_N-3CClFH->F_N-3CClH->H_3CCl-u1_N-1CClH->H_Ext-1C-R_N-1C-u0_Sp-4R!H-1C_4R!H->C_Ext-1C-R': <Entry index=299 label=\"Root_N-1R->O_N-3R->O_N-1BrCClFHINPSSi->F_N-3CClFH->F_N-3CClH->H_3CCl-u1_N-1CClH->H_Ext-1C-R_N-1C-u0_Sp-4R!H-1C_4R!H->C_Ext-1C-R\">,\n",
       " 'Root_N-1R->O_N-3R->O_N-1BrCClFHINPSSi->F_N-3CClFH->F_N-3CClH->H_3CCl-u1_N-1CClH->H_Ext-1C-R_N-1C-u0_Sp-4R!H-1C_N-4R!H->C_Ext-1C-R': <Entry index=300 label=\"Root_N-1R->O_N-3R->O_N-1BrCClFHINPSSi->F_N-3CClFH->F_N-3CClH->H_3CCl-u1_N-1CClH->H_Ext-1C-R_N-1C-u0_Sp-4R!H-1C_N-4R!H->C_Ext-1C-R\">,\n",
       " 'Root_N-1R->O_N-3R->O_N-1BrCClFHINPSSi->F_N-3CClFH->F_N-3CClH->H_3CCl-u1_1CClH->H_N-3CCl->Cl_Ext-3C-R_N-4R!H->Cl_Ext-3C-R_Ext-3C-R_4BrCFINOPSSi->C': <Entry index=301 label=\"Root_N-1R->O_N-3R->O_N-1BrCClFHINPSSi->F_N-3CClFH->F_N-3CClH->H_3CCl-u1_1CClH->H_N-3CCl->Cl_Ext-3C-R_N-4R!H->Cl_Ext-3C-R_Ext-3C-R_4BrCFINOPSSi->C\">,\n",
       " 'Root_N-1R->O_N-3R->O_N-1BrCClFHINPSSi->F_N-3CClFH->F_N-3CClH->H_3CCl-u1_1CClH->H_N-3CCl->Cl_Ext-3C-R_N-4R!H->Cl_Ext-3C-R_Ext-3C-R_N-4BrCFINOPSSi->C': <Entry index=302 label=\"Root_N-1R->O_N-3R->O_N-1BrCClFHINPSSi->F_N-3CClFH->F_N-3CClH->H_3CCl-u1_1CClH->H_N-3CCl->Cl_Ext-3C-R_N-4R!H->Cl_Ext-3C-R_Ext-3C-R_N-4BrCFINOPSSi->C\">,\n",
       " 'Root_N-1R->O_N-3R->O_N-1BrCClFHINPSSi->F_N-3CClFH->F_N-3CClH->H_3CCl-u1_1CClH->H_N-3CCl->Cl_Ext-3C-R_N-4R!H->Cl_Ext-3C-R_4BrCFINOPSSi->C_Ext-4C-R': <Entry index=303 label=\"Root_N-1R->O_N-3R->O_N-1BrCClFHINPSSi->F_N-3CClFH->F_N-3CClH->H_3CCl-u1_1CClH->H_N-3CCl->Cl_Ext-3C-R_N-4R!H->Cl_Ext-3C-R_4BrCFINOPSSi->C_Ext-4C-R\">,\n",
       " 'Root_N-1R->O_N-3R->O_N-1BrCClFHINPSSi->F_N-3CClFH->F_N-3CClH->H_3CCl-u1_1CClH->H_N-3CCl->Cl_Ext-3C-R_N-4R!H->Cl_Ext-3C-R_N-4BrCFINOPSSi->C_4FO->O': <Entry index=304 label=\"Root_N-1R->O_N-3R->O_N-1BrCClFHINPSSi->F_N-3CClFH->F_N-3CClH->H_3CCl-u1_1CClH->H_N-3CCl->Cl_Ext-3C-R_N-4R!H->Cl_Ext-3C-R_N-4BrCFINOPSSi->C_4FO->O\">,\n",
       " 'Root_N-1R->O_N-3R->O_N-1BrCClFHINPSSi->F_N-3CClFH->F_N-3CClH->H_3CCl-u1_1CClH->H_N-3CCl->Cl_Ext-3C-R_N-4R!H->Cl_Ext-3C-R_N-4BrCFINOPSSi->C_N-4FO->O': <Entry index=305 label=\"Root_N-1R->O_N-3R->O_N-1BrCClFHINPSSi->F_N-3CClFH->F_N-3CClH->H_3CCl-u1_1CClH->H_N-3CCl->Cl_Ext-3C-R_N-4R!H->Cl_Ext-3C-R_N-4BrCFINOPSSi->C_N-4FO->O\">,\n",
       " 'Root_N-1R->O_N-3R->O_N-1BrCClFHINPSSi->F_N-3CClFH->F_N-3CClH->H_3CCl-u1_1CClH->H_N-3CCl->Cl_Ext-3C-R_N-4R!H->Cl_N-4BrCFINOPSSi->C_N-4FO->F_Sp-4O-3C': <Entry index=306 label=\"Root_N-1R->O_N-3R->O_N-1BrCClFHINPSSi->F_N-3CClFH->F_N-3CClH->H_3CCl-u1_1CClH->H_N-3CCl->Cl_Ext-3C-R_N-4R!H->Cl_N-4BrCFINOPSSi->C_N-4FO->F_Sp-4O-3C\">,\n",
       " 'Root_N-1R->O_N-3R->O_N-1BrCClFHINPSSi->F_N-3CClFH->F_N-3CClH->H_3CCl-u1_1CClH->H_N-3CCl->Cl_Ext-3C-R_N-4R!H->Cl_N-4BrCFINOPSSi->C_N-4FO->F_N-Sp-4O-3C': <Entry index=307 label=\"Root_N-1R->O_N-3R->O_N-1BrCClFHINPSSi->F_N-3CClFH->F_N-3CClH->H_3CCl-u1_1CClH->H_N-3CCl->Cl_Ext-3C-R_N-4R!H->Cl_N-4BrCFINOPSSi->C_N-4FO->F_N-Sp-4O-3C\">,\n",
       " 'Root_N-1R->O_N-3R->O_N-1BrCClFHINPSSi->F_N-3CClFH->F_N-3CClH->H_3CCl-u1_N-1CClH->H_Ext-1C-R_1C-u0_Ext-1C-R_4R!H->C_Ext-4C-R_Ext-3CCl-R_7R!H->C': <Entry index=308 label=\"Root_N-1R->O_N-3R->O_N-1BrCClFHINPSSi->F_N-3CClFH->F_N-3CClH->H_3CCl-u1_N-1CClH->H_Ext-1C-R_1C-u0_Ext-1C-R_4R!H->C_Ext-4C-R_Ext-3CCl-R_7R!H->C\">,\n",
       " 'Root_N-1R->O_N-3R->O_N-1BrCClFHINPSSi->F_N-3CClFH->F_N-3CClH->H_3CCl-u1_N-1CClH->H_Ext-1C-R_1C-u0_Ext-1C-R_4R!H->C_Ext-4C-R_Ext-3CCl-R_N-7R!H->C': <Entry index=309 label=\"Root_N-1R->O_N-3R->O_N-1BrCClFHINPSSi->F_N-3CClFH->F_N-3CClH->H_3CCl-u1_N-1CClH->H_Ext-1C-R_1C-u0_Ext-1C-R_4R!H->C_Ext-4C-R_Ext-3CCl-R_N-7R!H->C\">,\n",
       " 'Root_N-1R->O_N-3R->O_N-1BrCClFHINPSSi->F_N-3CClFH->F_N-3CClH->H_3CCl-u1_N-1CClH->H_Ext-1C-R_1C-u0_Ext-1C-R_4R!H->C_N-Sp-4C=1C_Ext-3CCl-R': <Entry index=310 label=\"Root_N-1R->O_N-3R->O_N-1BrCClFHINPSSi->F_N-3CClFH->F_N-3CClH->H_3CCl-u1_N-1CClH->H_Ext-1C-R_1C-u0_Ext-1C-R_4R!H->C_N-Sp-4C=1C_Ext-3CCl-R\">,\n",
       " 'Root_N-1R->O_N-3R->O_N-1BrCClFHINPSSi->F_N-3CClFH->F_N-3CClH->H_3CCl-u1_N-1CClH->H_Ext-1C-R_1C-u0_Ext-1C-R_4R!H->C_N-Sp-4C=1C_5R!H->C': <Entry index=311 label=\"Root_N-1R->O_N-3R->O_N-1BrCClFHINPSSi->F_N-3CClFH->F_N-3CClH->H_3CCl-u1_N-1CClH->H_Ext-1C-R_1C-u0_Ext-1C-R_4R!H->C_N-Sp-4C=1C_5R!H->C\">,\n",
       " 'Root_N-1R->O_N-3R->O_N-1BrCClFHINPSSi->F_N-3CClFH->F_N-3CClH->H_3CCl-u1_N-1CClH->H_Ext-1C-R_1C-u0_Ext-1C-R_4R!H->C_N-Sp-4C=1C_N-5R!H->C': <Entry index=312 label=\"Root_N-1R->O_N-3R->O_N-1BrCClFHINPSSi->F_N-3CClFH->F_N-3CClH->H_3CCl-u1_N-1CClH->H_Ext-1C-R_1C-u0_Ext-1C-R_4R!H->C_N-Sp-4C=1C_N-5R!H->C\">,\n",
       " 'Root_N-1R->O_N-3R->O_N-1BrCClFHINPSSi->F_N-3CClFH->F_N-3CClH->H_3CCl-u1_N-1CClH->H_Ext-1C-R_1C-u0_Ext-1C-R_N-4R!H->C_4FO->O_Ext-3CCl-R': <Entry index=313 label=\"Root_N-1R->O_N-3R->O_N-1BrCClFHINPSSi->F_N-3CClFH->F_N-3CClH->H_3CCl-u1_N-1CClH->H_Ext-1C-R_1C-u0_Ext-1C-R_N-4R!H->C_4FO->O_Ext-3CCl-R\">,\n",
       " 'Root_N-1R->O_N-3R->O_N-1BrCClFHINPSSi->F_N-3CClFH->F_N-3CClH->H_3CCl-u1_N-1CClH->H_Ext-1C-R_1C-u0_Ext-1C-R_N-4R!H->C_N-4FO->O_Ext-3CCl-R': <Entry index=314 label=\"Root_N-1R->O_N-3R->O_N-1BrCClFHINPSSi->F_N-3CClFH->F_N-3CClH->H_3CCl-u1_N-1CClH->H_Ext-1C-R_1C-u0_Ext-1C-R_N-4R!H->C_N-4FO->O_Ext-3CCl-R\">,\n",
       " 'Root_N-1R->O_N-3R->O_N-1BrCClFHINPSSi->F_N-3CClFH->F_N-3CClH->H_3CCl-u1_N-1CClH->H_Ext-1C-R_1C-u0_Ext-1C-R_N-4R!H->C_N-4FO->O_Ext-1C-R': <Entry index=315 label=\"Root_N-1R->O_N-3R->O_N-1BrCClFHINPSSi->F_N-3CClFH->F_N-3CClH->H_3CCl-u1_N-1CClH->H_Ext-1C-R_1C-u0_Ext-1C-R_N-4R!H->C_N-4FO->O_Ext-1C-R\">,\n",
       " 'Root_N-1R->O_N-3R->O_N-1BrCClFHINPSSi->F_N-3CClFH->F_N-3CClH->H_3CCl-u1_N-1CClH->H_Ext-1C-R_1C-u0_Sp-4R!H-1C_4R!H->F_Ext-3CCl-R_5R!H->C': <Entry index=316 label=\"Root_N-1R->O_N-3R->O_N-1BrCClFHINPSSi->F_N-3CClFH->F_N-3CClH->H_3CCl-u1_N-1CClH->H_Ext-1C-R_1C-u0_Sp-4R!H-1C_4R!H->F_Ext-3CCl-R_5R!H->C\">,\n",
       " 'Root_N-1R->O_N-3R->O_N-1BrCClFHINPSSi->F_N-3CClFH->F_N-3CClH->H_3CCl-u1_N-1CClH->H_Ext-1C-R_1C-u0_Sp-4R!H-1C_4R!H->F_Ext-3CCl-R_N-5R!H->C': <Entry index=317 label=\"Root_N-1R->O_N-3R->O_N-1BrCClFHINPSSi->F_N-3CClFH->F_N-3CClH->H_3CCl-u1_N-1CClH->H_Ext-1C-R_1C-u0_Sp-4R!H-1C_4R!H->F_Ext-3CCl-R_N-5R!H->C\">,\n",
       " 'Root_N-1R->O_N-3R->O_N-1BrCClFHINPSSi->F_N-3CClFH->F_N-3CClH->H_3CCl-u1_N-1CClH->H_Ext-1C-R_1C-u0_Sp-4R!H-1C_N-4R!H->F_Ext-3CCl-R_4CO->C': <Entry index=318 label=\"Root_N-1R->O_N-3R->O_N-1BrCClFHINPSSi->F_N-3CClFH->F_N-3CClH->H_3CCl-u1_N-1CClH->H_Ext-1C-R_1C-u0_Sp-4R!H-1C_N-4R!H->F_Ext-3CCl-R_4CO->C\">,\n",
       " 'Root_N-1R->O_N-3R->O_N-1BrCClFHINPSSi->F_N-3CClFH->F_N-3CClH->H_3CCl-u1_N-1CClH->H_Ext-1C-R_1C-u0_Sp-4R!H-1C_N-4R!H->F_Ext-3CCl-R_N-4CO->C': <Entry index=319 label=\"Root_N-1R->O_N-3R->O_N-1BrCClFHINPSSi->F_N-3CClFH->F_N-3CClH->H_3CCl-u1_N-1CClH->H_Ext-1C-R_1C-u0_Sp-4R!H-1C_N-4R!H->F_Ext-3CCl-R_N-4CO->C\">,\n",
       " 'Root_N-1R->O_N-3R->O_N-1BrCClFHINPSSi->F_N-3CClFH->F_N-3CClH->H_3CCl-u1_N-1CClH->H_Ext-1C-R_1C-u0_Sp-4R!H-1C_N-4R!H->F_4CO->C_Ext-4C-R': <Entry index=320 label=\"Root_N-1R->O_N-3R->O_N-1BrCClFHINPSSi->F_N-3CClFH->F_N-3CClH->H_3CCl-u1_N-1CClH->H_Ext-1C-R_1C-u0_Sp-4R!H-1C_N-4R!H->F_4CO->C_Ext-4C-R\">,\n",
       " 'Root_N-1R->O_N-3R->O_N-1BrCClFHINPSSi->F_N-3CClFH->F_N-3CClH->H_3CCl-u1_N-1CClH->H_Ext-1C-R_1C-u0_N-Sp-4R!H-1C_N-4R!H->C_Ext-3CCl-R_Ext-3CCl-R': <Entry index=321 label=\"Root_N-1R->O_N-3R->O_N-1BrCClFHINPSSi->F_N-3CClFH->F_N-3CClH->H_3CCl-u1_N-1CClH->H_Ext-1C-R_1C-u0_N-Sp-4R!H-1C_N-4R!H->C_Ext-3CCl-R_Ext-3CCl-R\">,\n",
       " 'Root_N-1R->O_N-3R->O_N-1BrCClFHINPSSi->F_N-3CClFH->F_N-3CClH->H_3CCl-u1_N-1CClH->H_Ext-1C-R_1C-u0_N-Sp-4R!H-1C_N-4R!H->C_Ext-3CCl-R_5R!H->F': <Entry index=322 label=\"Root_N-1R->O_N-3R->O_N-1BrCClFHINPSSi->F_N-3CClFH->F_N-3CClH->H_3CCl-u1_N-1CClH->H_Ext-1C-R_1C-u0_N-Sp-4R!H-1C_N-4R!H->C_Ext-3CCl-R_5R!H->F\">,\n",
       " 'Root_N-1R->O_N-3R->O_N-1BrCClFHINPSSi->F_N-3CClFH->F_N-3CClH->H_3CCl-u1_N-1CClH->H_Ext-1C-R_1C-u0_N-Sp-4R!H-1C_N-4R!H->C_Ext-3CCl-R_N-5R!H->F': <Entry index=323 label=\"Root_N-1R->O_N-3R->O_N-1BrCClFHINPSSi->F_N-3CClFH->F_N-3CClH->H_3CCl-u1_N-1CClH->H_Ext-1C-R_1C-u0_N-Sp-4R!H-1C_N-4R!H->C_Ext-3CCl-R_N-5R!H->F\">,\n",
       " 'Root_N-1R->O_N-3R->O_N-1BrCClFHINPSSi->F_N-3CClFH->F_N-3CClH->H_3CCl-u1_N-1CClH->H_Ext-1C-R_N-1C-u0_Sp-4R!H-1C_4R!H->C_Ext-1C-R_5R!H->C': <Entry index=324 label=\"Root_N-1R->O_N-3R->O_N-1BrCClFHINPSSi->F_N-3CClFH->F_N-3CClH->H_3CCl-u1_N-1CClH->H_Ext-1C-R_N-1C-u0_Sp-4R!H-1C_4R!H->C_Ext-1C-R_5R!H->C\">,\n",
       " 'Root_N-1R->O_N-3R->O_N-1BrCClFHINPSSi->F_N-3CClFH->F_N-3CClH->H_3CCl-u1_N-1CClH->H_Ext-1C-R_N-1C-u0_Sp-4R!H-1C_4R!H->C_Ext-1C-R_N-5R!H->C': <Entry index=325 label=\"Root_N-1R->O_N-3R->O_N-1BrCClFHINPSSi->F_N-3CClFH->F_N-3CClH->H_3CCl-u1_N-1CClH->H_Ext-1C-R_N-1C-u0_Sp-4R!H-1C_4R!H->C_Ext-1C-R_N-5R!H->C\">,\n",
       " 'Root_N-1R->O_N-3R->O_N-1BrCClFHINPSSi->F_N-3CClFH->F_N-3CClH->H_3CCl-u1_N-1CClH->H_Ext-1C-R_1C-u0_Ext-1C-R_4R!H->C_Ext-4C-R_Ext-3CCl-R_7R!H->C_Ext-1C-R': <Entry index=326 label=\"Root_N-1R->O_N-3R->O_N-1BrCClFHINPSSi->F_N-3CClFH->F_N-3CClH->H_3CCl-u1_N-1CClH->H_Ext-1C-R_1C-u0_Ext-1C-R_4R!H->C_Ext-4C-R_Ext-3CCl-R_7R!H->C_Ext-1C-R\">,\n",
       " 'Root_N-1R->O_N-3R->O_N-1BrCClFHINPSSi->F_N-3CClFH->F_N-3CClH->H_3CCl-u1_N-1CClH->H_Ext-1C-R_1C-u0_Ext-1C-R_4R!H->C_Ext-4C-R_Ext-3CCl-R_N-7R!H->C_5R!H->F': <Entry index=327 label=\"Root_N-1R->O_N-3R->O_N-1BrCClFHINPSSi->F_N-3CClFH->F_N-3CClH->H_3CCl-u1_N-1CClH->H_Ext-1C-R_1C-u0_Ext-1C-R_4R!H->C_Ext-4C-R_Ext-3CCl-R_N-7R!H->C_5R!H->F\">,\n",
       " 'Root_N-1R->O_N-3R->O_N-1BrCClFHINPSSi->F_N-3CClFH->F_N-3CClH->H_3CCl-u1_N-1CClH->H_Ext-1C-R_1C-u0_Ext-1C-R_4R!H->C_Ext-4C-R_Ext-3CCl-R_N-7R!H->C_N-5R!H->F': <Entry index=328 label=\"Root_N-1R->O_N-3R->O_N-1BrCClFHINPSSi->F_N-3CClFH->F_N-3CClH->H_3CCl-u1_N-1CClH->H_Ext-1C-R_1C-u0_Ext-1C-R_4R!H->C_Ext-4C-R_Ext-3CCl-R_N-7R!H->C_N-5R!H->F\">,\n",
       " 'Root_N-1R->O_N-3R->O_N-1BrCClFHINPSSi->F_N-3CClFH->F_N-3CClH->H_3CCl-u1_N-1CClH->H_Ext-1C-R_1C-u0_Ext-1C-R_N-4R!H->C_N-4FO->O_Ext-3CCl-R_6R!H->O': <Entry index=329 label=\"Root_N-1R->O_N-3R->O_N-1BrCClFHINPSSi->F_N-3CClFH->F_N-3CClH->H_3CCl-u1_N-1CClH->H_Ext-1C-R_1C-u0_Ext-1C-R_N-4R!H->C_N-4FO->O_Ext-3CCl-R_6R!H->O\">,\n",
       " 'Root_N-1R->O_N-3R->O_N-1BrCClFHINPSSi->F_N-3CClFH->F_N-3CClH->H_3CCl-u1_N-1CClH->H_Ext-1C-R_1C-u0_Ext-1C-R_N-4R!H->C_N-4FO->O_Ext-3CCl-R_N-6R!H->O': <Entry index=330 label=\"Root_N-1R->O_N-3R->O_N-1BrCClFHINPSSi->F_N-3CClFH->F_N-3CClH->H_3CCl-u1_N-1CClH->H_Ext-1C-R_1C-u0_Ext-1C-R_N-4R!H->C_N-4FO->O_Ext-3CCl-R_N-6R!H->O\">,\n",
       " 'Root_N-1R->O_N-3R->O_N-1BrCClFHINPSSi->F_N-3CClFH->F_N-3CClH->H_3CCl-u1_N-1CClH->H_Ext-1C-R_1C-u0_Sp-4R!H-1C_4R!H->F_Ext-3CCl-R_5R!H->C_Ext-3CCl-R': <Entry index=331 label=\"Root_N-1R->O_N-3R->O_N-1BrCClFHINPSSi->F_N-3CClFH->F_N-3CClH->H_3CCl-u1_N-1CClH->H_Ext-1C-R_1C-u0_Sp-4R!H-1C_4R!H->F_Ext-3CCl-R_5R!H->C_Ext-3CCl-R\">,\n",
       " 'Root_N-1R->O_N-3R->O_N-1BrCClFHINPSSi->F_N-3CClFH->F_N-3CClH->H_3CCl-u1_N-1CClH->H_Ext-1C-R_1C-u0_Sp-4R!H-1C_4R!H->F_Ext-3CCl-R_5R!H->C_Ext-5C-R': <Entry index=332 label=\"Root_N-1R->O_N-3R->O_N-1BrCClFHINPSSi->F_N-3CClFH->F_N-3CClH->H_3CCl-u1_N-1CClH->H_Ext-1C-R_1C-u0_Sp-4R!H-1C_4R!H->F_Ext-3CCl-R_5R!H->C_Ext-5C-R\">,\n",
       " 'Root_N-1R->O_N-3R->O_N-1BrCClFHINPSSi->F_N-3CClFH->F_N-3CClH->H_3CCl-u1_N-1CClH->H_Ext-1C-R_1C-u0_Sp-4R!H-1C_4R!H->F_Ext-3CCl-R_N-5R!H->C_Sp-5BrBrCClClClFFIINNOOPPSSSiSi=3BrBrCCClClClClFFIINNOOPPSSSiSi': <Entry index=333 label=\"Root_N-1R->O_N-3R->O_N-1BrCClFHINPSSi->F_N-3CClFH->F_N-3CClH->H_3CCl-u1_N-1CClH->H_Ext-1C-R_1C-u0_Sp-4R!H-1C_4R!H->F_Ext-3CCl-R_N-5R!H->C_Sp-5BrBrCClClClFFIINNOOPPSSSiSi=3BrBrCCClClClClFFIINNOOPPSSSiSi\">,\n",
       " 'Root_N-1R->O_N-3R->O_N-1BrCClFHINPSSi->F_N-3CClFH->F_N-3CClH->H_3CCl-u1_N-1CClH->H_Ext-1C-R_1C-u0_Sp-4R!H-1C_4R!H->F_Ext-3CCl-R_N-5R!H->C_N-Sp-5BrBrCClClClFFIINNOOPPSSSiSi=3BrBrCCClClClClFFIINNOOPPSSSiSi': <Entry index=334 label=\"Root_N-1R->O_N-3R->O_N-1BrCClFHINPSSi->F_N-3CClFH->F_N-3CClH->H_3CCl-u1_N-1CClH->H_Ext-1C-R_1C-u0_Sp-4R!H-1C_4R!H->F_Ext-3CCl-R_N-5R!H->C_N-Sp-5BrBrCClClClFFIINNOOPPSSSiSi=3BrBrCCClClClClFFIINNOOPPSSSiSi\">,\n",
       " 'Root_N-1R->O_N-3R->O_N-1BrCClFHINPSSi->F_N-3CClFH->F_N-3CClH->H_3CCl-u1_N-1CClH->H_Ext-1C-R_1C-u0_Sp-4R!H-1C_N-4R!H->F_Ext-3CCl-R_4CO->C_5R!H->F': <Entry index=335 label=\"Root_N-1R->O_N-3R->O_N-1BrCClFHINPSSi->F_N-3CClFH->F_N-3CClH->H_3CCl-u1_N-1CClH->H_Ext-1C-R_1C-u0_Sp-4R!H-1C_N-4R!H->F_Ext-3CCl-R_4CO->C_5R!H->F\">,\n",
       " 'Root_N-1R->O_N-3R->O_N-1BrCClFHINPSSi->F_N-3CClFH->F_N-3CClH->H_3CCl-u1_N-1CClH->H_Ext-1C-R_1C-u0_Sp-4R!H-1C_N-4R!H->F_Ext-3CCl-R_4CO->C_N-5R!H->F': <Entry index=336 label=\"Root_N-1R->O_N-3R->O_N-1BrCClFHINPSSi->F_N-3CClFH->F_N-3CClH->H_3CCl-u1_N-1CClH->H_Ext-1C-R_1C-u0_Sp-4R!H-1C_N-4R!H->F_Ext-3CCl-R_4CO->C_N-5R!H->F\">,\n",
       " 'Root_N-1R->O_N-3R->O_N-1BrCClFHINPSSi->F_N-3CClFH->F_N-3CClH->H_3CCl-u1_N-1CClH->H_Ext-1C-R_1C-u0_Sp-4R!H-1C_N-4R!H->F_Ext-3CCl-R_N-4CO->C_Ext-3CCl-R': <Entry index=337 label=\"Root_N-1R->O_N-3R->O_N-1BrCClFHINPSSi->F_N-3CClFH->F_N-3CClH->H_3CCl-u1_N-1CClH->H_Ext-1C-R_1C-u0_Sp-4R!H-1C_N-4R!H->F_Ext-3CCl-R_N-4CO->C_Ext-3CCl-R\">,\n",
       " 'Root_N-1R->O_N-3R->O_N-1BrCClFHINPSSi->F_N-3CClFH->F_N-3CClH->H_3CCl-u1_N-1CClH->H_Ext-1C-R_1C-u0_Ext-1C-R_4R!H->C_Ext-4C-R_Ext-3CCl-R_N-7R!H->C_5R!H->F_Sp-6R!H=4C': <Entry index=338 label=\"Root_N-1R->O_N-3R->O_N-1BrCClFHINPSSi->F_N-3CClFH->F_N-3CClH->H_3CCl-u1_N-1CClH->H_Ext-1C-R_1C-u0_Ext-1C-R_4R!H->C_Ext-4C-R_Ext-3CCl-R_N-7R!H->C_5R!H->F_Sp-6R!H=4C\">,\n",
       " 'Root_N-1R->O_N-3R->O_N-1BrCClFHINPSSi->F_N-3CClFH->F_N-3CClH->H_3CCl-u1_N-1CClH->H_Ext-1C-R_1C-u0_Ext-1C-R_4R!H->C_Ext-4C-R_Ext-3CCl-R_N-7R!H->C_5R!H->F_N-Sp-6R!H=4C': <Entry index=339 label=\"Root_N-1R->O_N-3R->O_N-1BrCClFHINPSSi->F_N-3CClFH->F_N-3CClH->H_3CCl-u1_N-1CClH->H_Ext-1C-R_1C-u0_Ext-1C-R_4R!H->C_Ext-4C-R_Ext-3CCl-R_N-7R!H->C_5R!H->F_N-Sp-6R!H=4C\">,\n",
       " 'Root_N-1R->O_N-3R->O_N-1BrCClFHINPSSi->F_N-3CClFH->F_N-3CClH->H_3CCl-u1_N-1CClH->H_Ext-1C-R_1C-u0_Ext-1C-R_N-4R!H->C_N-4FO->O_Ext-3CCl-R_6R!H->O_Ext-1C-R': <Entry index=340 label=\"Root_N-1R->O_N-3R->O_N-1BrCClFHINPSSi->F_N-3CClFH->F_N-3CClH->H_3CCl-u1_N-1CClH->H_Ext-1C-R_1C-u0_Ext-1C-R_N-4R!H->C_N-4FO->O_Ext-3CCl-R_6R!H->O_Ext-1C-R\">,\n",
       " 'Root_N-1R->O_N-3R->O_N-1BrCClFHINPSSi->F_N-3CClFH->F_N-3CClH->H_3CCl-u1_N-1CClH->H_Ext-1C-R_1C-u0_Ext-1C-R_N-4R!H->C_N-4FO->O_Ext-3CCl-R_6R!H->O_Sp-6O-3CCl': <Entry index=341 label=\"Root_N-1R->O_N-3R->O_N-1BrCClFHINPSSi->F_N-3CClFH->F_N-3CClH->H_3CCl-u1_N-1CClH->H_Ext-1C-R_1C-u0_Ext-1C-R_N-4R!H->C_N-4FO->O_Ext-3CCl-R_6R!H->O_Sp-6O-3CCl\">,\n",
       " 'Root_N-1R->O_N-3R->O_N-1BrCClFHINPSSi->F_N-3CClFH->F_N-3CClH->H_3CCl-u1_N-1CClH->H_Ext-1C-R_1C-u0_Ext-1C-R_N-4R!H->C_N-4FO->O_Ext-3CCl-R_6R!H->O_N-Sp-6O-3CCl': <Entry index=342 label=\"Root_N-1R->O_N-3R->O_N-1BrCClFHINPSSi->F_N-3CClFH->F_N-3CClH->H_3CCl-u1_N-1CClH->H_Ext-1C-R_1C-u0_Ext-1C-R_N-4R!H->C_N-4FO->O_Ext-3CCl-R_6R!H->O_N-Sp-6O-3CCl\">,\n",
       " 'Root_N-1R->O_N-3R->O_N-1BrCClFHINPSSi->F_N-3CClFH->F_N-3CClH->H_3CCl-u1_N-1CClH->H_Ext-1C-R_1C-u0_Ext-1C-R_N-4R!H->C_N-4FO->O_Ext-3CCl-R_N-6R!H->O_6BrCClFINPSSi->C': <Entry index=343 label=\"Root_N-1R->O_N-3R->O_N-1BrCClFHINPSSi->F_N-3CClFH->F_N-3CClH->H_3CCl-u1_N-1CClH->H_Ext-1C-R_1C-u0_Ext-1C-R_N-4R!H->C_N-4FO->O_Ext-3CCl-R_N-6R!H->O_6BrCClFINPSSi->C\">,\n",
       " 'Root_N-1R->O_N-3R->O_N-1BrCClFHINPSSi->F_N-3CClFH->F_N-3CClH->H_3CCl-u1_N-1CClH->H_Ext-1C-R_1C-u0_Ext-1C-R_N-4R!H->C_N-4FO->O_Ext-3CCl-R_N-6R!H->O_N-6BrCClFINPSSi->C': <Entry index=344 label=\"Root_N-1R->O_N-3R->O_N-1BrCClFHINPSSi->F_N-3CClFH->F_N-3CClH->H_3CCl-u1_N-1CClH->H_Ext-1C-R_1C-u0_Ext-1C-R_N-4R!H->C_N-4FO->O_Ext-3CCl-R_N-6R!H->O_N-6BrCClFINPSSi->C\">,\n",
       " 'Root_N-1R->O_N-3R->O_N-1BrCClFHINPSSi->F_N-3CClFH->F_N-3CClH->H_3CCl-u1_N-1CClH->H_Ext-1C-R_1C-u0_Sp-4R!H-1C_4R!H->F_Ext-3CCl-R_5R!H->C_Ext-3CCl-R_Ext-5C-R_7R!H->C': <Entry index=345 label=\"Root_N-1R->O_N-3R->O_N-1BrCClFHINPSSi->F_N-3CClFH->F_N-3CClH->H_3CCl-u1_N-1CClH->H_Ext-1C-R_1C-u0_Sp-4R!H-1C_4R!H->F_Ext-3CCl-R_5R!H->C_Ext-3CCl-R_Ext-5C-R_7R!H->C\">,\n",
       " 'Root_N-1R->O_N-3R->O_N-1BrCClFHINPSSi->F_N-3CClFH->F_N-3CClH->H_3CCl-u1_N-1CClH->H_Ext-1C-R_1C-u0_Sp-4R!H-1C_4R!H->F_Ext-3CCl-R_5R!H->C_Ext-3CCl-R_Ext-5C-R_N-7R!H->C': <Entry index=346 label=\"Root_N-1R->O_N-3R->O_N-1BrCClFHINPSSi->F_N-3CClFH->F_N-3CClH->H_3CCl-u1_N-1CClH->H_Ext-1C-R_1C-u0_Sp-4R!H-1C_4R!H->F_Ext-3CCl-R_5R!H->C_Ext-3CCl-R_Ext-5C-R_N-7R!H->C\">,\n",
       " 'Root_N-1R->O_N-3R->O_N-1BrCClFHINPSSi->F_N-3CClFH->F_N-3CClH->H_3CCl-u1_N-1CClH->H_Ext-1C-R_1C-u0_Sp-4R!H-1C_4R!H->F_Ext-3CCl-R_5R!H->C_Ext-5C-R_6R!H->C': <Entry index=347 label=\"Root_N-1R->O_N-3R->O_N-1BrCClFHINPSSi->F_N-3CClFH->F_N-3CClH->H_3CCl-u1_N-1CClH->H_Ext-1C-R_1C-u0_Sp-4R!H-1C_4R!H->F_Ext-3CCl-R_5R!H->C_Ext-5C-R_6R!H->C\">,\n",
       " 'Root_N-1R->O_N-3R->O_N-1BrCClFHINPSSi->F_N-3CClFH->F_N-3CClH->H_3CCl-u1_N-1CClH->H_Ext-1C-R_1C-u0_Sp-4R!H-1C_4R!H->F_Ext-3CCl-R_5R!H->C_Ext-5C-R_N-6R!H->C': <Entry index=348 label=\"Root_N-1R->O_N-3R->O_N-1BrCClFHINPSSi->F_N-3CClFH->F_N-3CClH->H_3CCl-u1_N-1CClH->H_Ext-1C-R_1C-u0_Sp-4R!H-1C_4R!H->F_Ext-3CCl-R_5R!H->C_Ext-5C-R_N-6R!H->C\">,\n",
       " 'Root_N-1R->O_N-3R->O_N-1BrCClFHINPSSi->F_N-3CClFH->F_N-3CClH->H_3CCl-u1_N-1CClH->H_Ext-1C-R_1C-u0_Sp-4R!H-1C_4R!H->F_Ext-3CCl-R_N-5R!H->C_Sp-5BrBrCClClClFFIINNOOPPSSSiSi=3BrBrCCClClClClFFIINNOOPPSSSiSi_Ext-3CCl-R': <Entry index=349 label=\"Root_N-1R->O_N-3R->O_N-1BrCClFHINPSSi->F_N-3CClFH->F_N-3CClH->H_3CCl-u1_N-1CClH->H_Ext-1C-R_1C-u0_Sp-4R!H-1C_4R!H->F_Ext-3CCl-R_N-5R!H->C_Sp-5BrBrCClClClFFIINNOOPPSSSiSi=3BrBrCCClClClClFFIINNOOPPSSSiSi_Ext-3CCl-R\">,\n",
       " 'Root_N-1R->O_N-3R->O_N-1BrCClFHINPSSi->F_N-3CClFH->F_N-3CClH->H_3CCl-u1_N-1CClH->H_Ext-1C-R_1C-u0_Sp-4R!H-1C_4R!H->F_Ext-3CCl-R_N-5R!H->C_N-Sp-5BrBrCClClClFFIINNOOPPSSSiSi=3BrBrCCClClClClFFIINNOOPPSSSiSi_Ext-3CCl-R': <Entry index=350 label=\"Root_N-1R->O_N-3R->O_N-1BrCClFHINPSSi->F_N-3CClFH->F_N-3CClH->H_3CCl-u1_N-1CClH->H_Ext-1C-R_1C-u0_Sp-4R!H-1C_4R!H->F_Ext-3CCl-R_N-5R!H->C_N-Sp-5BrBrCClClClFFIINNOOPPSSSiSi=3BrBrCCClClClClFFIINNOOPPSSSiSi_Ext-3CCl-R\">,\n",
       " 'Root_N-1R->O_N-3R->O_N-1BrCClFHINPSSi->F_N-3CClFH->F_N-3CClH->H_3CCl-u1_N-1CClH->H_Ext-1C-R_1C-u0_Sp-4R!H-1C_N-4R!H->F_Ext-3CCl-R_4CO->C_5R!H->F_Ext-4C-R': <Entry index=351 label=\"Root_N-1R->O_N-3R->O_N-1BrCClFHINPSSi->F_N-3CClFH->F_N-3CClH->H_3CCl-u1_N-1CClH->H_Ext-1C-R_1C-u0_Sp-4R!H-1C_N-4R!H->F_Ext-3CCl-R_4CO->C_5R!H->F_Ext-4C-R\">,\n",
       " 'Root_N-1R->O_N-3R->O_N-1BrCClFHINPSSi->F_N-3CClFH->F_N-3CClH->H_3CCl-u1_N-1CClH->H_Ext-1C-R_1C-u0_Sp-4R!H-1C_N-4R!H->F_Ext-3CCl-R_N-4CO->C_Ext-3CCl-R_5R!H->C': <Entry index=352 label=\"Root_N-1R->O_N-3R->O_N-1BrCClFHINPSSi->F_N-3CClFH->F_N-3CClH->H_3CCl-u1_N-1CClH->H_Ext-1C-R_1C-u0_Sp-4R!H-1C_N-4R!H->F_Ext-3CCl-R_N-4CO->C_Ext-3CCl-R_5R!H->C\">,\n",
       " 'Root_N-1R->O_N-3R->O_N-1BrCClFHINPSSi->F_N-3CClFH->F_N-3CClH->H_3CCl-u1_N-1CClH->H_Ext-1C-R_1C-u0_Sp-4R!H-1C_N-4R!H->F_Ext-3CCl-R_N-4CO->C_Ext-3CCl-R_N-5R!H->C': <Entry index=353 label=\"Root_N-1R->O_N-3R->O_N-1BrCClFHINPSSi->F_N-3CClFH->F_N-3CClH->H_3CCl-u1_N-1CClH->H_Ext-1C-R_1C-u0_Sp-4R!H-1C_N-4R!H->F_Ext-3CCl-R_N-4CO->C_Ext-3CCl-R_N-5R!H->C\">,\n",
       " 'Root_N-1R->O_N-3R->O_N-1BrCClFHINPSSi->F_N-3CClFH->F_N-3CClH->H_3CCl-u1_N-1CClH->H_Ext-1C-R_1C-u0_Ext-1C-R_4R!H->C_Ext-4C-R_Ext-3CCl-R_N-7R!H->C_5R!H->F_N-Sp-6R!H=4C_Ext-1C-R': <Entry index=354 label=\"Root_N-1R->O_N-3R->O_N-1BrCClFHINPSSi->F_N-3CClFH->F_N-3CClH->H_3CCl-u1_N-1CClH->H_Ext-1C-R_1C-u0_Ext-1C-R_4R!H->C_Ext-4C-R_Ext-3CCl-R_N-7R!H->C_5R!H->F_N-Sp-6R!H=4C_Ext-1C-R\">,\n",
       " 'Root_N-1R->O_N-3R->O_N-1BrCClFHINPSSi->F_N-3CClFH->F_N-3CClH->H_3CCl-u1_N-1CClH->H_Ext-1C-R_1C-u0_Ext-1C-R_4R!H->C_Ext-4C-R_Ext-3CCl-R_N-7R!H->C_5R!H->F_N-Sp-6R!H=4C_6R!H->F': <Entry index=355 label=\"Root_N-1R->O_N-3R->O_N-1BrCClFHINPSSi->F_N-3CClFH->F_N-3CClH->H_3CCl-u1_N-1CClH->H_Ext-1C-R_1C-u0_Ext-1C-R_4R!H->C_Ext-4C-R_Ext-3CCl-R_N-7R!H->C_5R!H->F_N-Sp-6R!H=4C_6R!H->F\">,\n",
       " 'Root_N-1R->O_N-3R->O_N-1BrCClFHINPSSi->F_N-3CClFH->F_N-3CClH->H_3CCl-u1_N-1CClH->H_Ext-1C-R_1C-u0_Ext-1C-R_4R!H->C_Ext-4C-R_Ext-3CCl-R_N-7R!H->C_5R!H->F_N-Sp-6R!H=4C_N-6R!H->F': <Entry index=356 label=\"Root_N-1R->O_N-3R->O_N-1BrCClFHINPSSi->F_N-3CClFH->F_N-3CClH->H_3CCl-u1_N-1CClH->H_Ext-1C-R_1C-u0_Ext-1C-R_4R!H->C_Ext-4C-R_Ext-3CCl-R_N-7R!H->C_5R!H->F_N-Sp-6R!H=4C_N-6R!H->F\">,\n",
       " 'Root_N-1R->O_N-3R->O_N-1BrCClFHINPSSi->F_N-3CClFH->F_N-3CClH->H_3CCl-u1_N-1CClH->H_Ext-1C-R_1C-u0_Ext-1C-R_N-4R!H->C_N-4FO->O_Ext-3CCl-R_N-6R!H->O_6BrCClFINPSSi->C_Ext-6C-R_7R!H->C': <Entry index=357 label=\"Root_N-1R->O_N-3R->O_N-1BrCClFHINPSSi->F_N-3CClFH->F_N-3CClH->H_3CCl-u1_N-1CClH->H_Ext-1C-R_1C-u0_Ext-1C-R_N-4R!H->C_N-4FO->O_Ext-3CCl-R_N-6R!H->O_6BrCClFINPSSi->C_Ext-6C-R_7R!H->C\">,\n",
       " 'Root_N-1R->O_N-3R->O_N-1BrCClFHINPSSi->F_N-3CClFH->F_N-3CClH->H_3CCl-u1_N-1CClH->H_Ext-1C-R_1C-u0_Ext-1C-R_N-4R!H->C_N-4FO->O_Ext-3CCl-R_N-6R!H->O_6BrCClFINPSSi->C_Ext-6C-R_N-7R!H->C': <Entry index=358 label=\"Root_N-1R->O_N-3R->O_N-1BrCClFHINPSSi->F_N-3CClFH->F_N-3CClH->H_3CCl-u1_N-1CClH->H_Ext-1C-R_1C-u0_Ext-1C-R_N-4R!H->C_N-4FO->O_Ext-3CCl-R_N-6R!H->O_6BrCClFINPSSi->C_Ext-6C-R_N-7R!H->C\">,\n",
       " 'Root_N-1R->O_N-3R->O_N-1BrCClFHINPSSi->F_N-3CClFH->F_N-3CClH->H_3CCl-u1_N-1CClH->H_Ext-1C-R_1C-u0_Ext-1C-R_N-4R!H->C_N-4FO->O_Ext-3CCl-R_N-6R!H->O_N-6BrCClFINPSSi->C_Ext-1C-R': <Entry index=359 label=\"Root_N-1R->O_N-3R->O_N-1BrCClFHINPSSi->F_N-3CClFH->F_N-3CClH->H_3CCl-u1_N-1CClH->H_Ext-1C-R_1C-u0_Ext-1C-R_N-4R!H->C_N-4FO->O_Ext-3CCl-R_N-6R!H->O_N-6BrCClFINPSSi->C_Ext-1C-R\">,\n",
       " 'Root_N-1R->O_N-3R->O_N-1BrCClFHINPSSi->F_N-3CClFH->F_N-3CClH->H_3CCl-u1_N-1CClH->H_Ext-1C-R_1C-u0_Ext-1C-R_N-4R!H->C_N-4FO->O_Ext-3CCl-R_N-6R!H->O_N-6BrCClFINPSSi->C_Ext-3CCl-R': <Entry index=360 label=\"Root_N-1R->O_N-3R->O_N-1BrCClFHINPSSi->F_N-3CClFH->F_N-3CClH->H_3CCl-u1_N-1CClH->H_Ext-1C-R_1C-u0_Ext-1C-R_N-4R!H->C_N-4FO->O_Ext-3CCl-R_N-6R!H->O_N-6BrCClFINPSSi->C_Ext-3CCl-R\">,\n",
       " 'Root_N-1R->O_N-3R->O_N-1BrCClFHINPSSi->F_N-3CClFH->F_N-3CClH->H_3CCl-u1_N-1CClH->H_Ext-1C-R_1C-u0_Sp-4R!H-1C_4R!H->F_Ext-3CCl-R_N-5R!H->C_N-Sp-5BrBrCClClClFFIINNOOPPSSSiSi=3BrBrCCClClClClFFIINNOOPPSSSiSi_Ext-3CCl-R_Ext-3CCl-R': <Entry index=361 label=\"Root_N-1R->O_N-3R->O_N-1BrCClFHINPSSi->F_N-3CClFH->F_N-3CClH->H_3CCl-u1_N-1CClH->H_Ext-1C-R_1C-u0_Sp-4R!H-1C_4R!H->F_Ext-3CCl-R_N-5R!H->C_N-Sp-5BrBrCClClClFFIINNOOPPSSSiSi=3BrBrCCClClClClFFIINNOOPPSSSiSi_Ext-3CCl-R_Ext-3CCl-R\">,\n",
       " 'Root_N-1R->O_N-3R->O_N-1BrCClFHINPSSi->F_N-3CClFH->F_N-3CClH->H_3CCl-u1_N-1CClH->H_Ext-1C-R_1C-u0_Sp-4R!H-1C_N-4R!H->F_Ext-3CCl-R_4CO->C_5R!H->F_Ext-4C-R_6R!H->C': <Entry index=362 label=\"Root_N-1R->O_N-3R->O_N-1BrCClFHINPSSi->F_N-3CClFH->F_N-3CClH->H_3CCl-u1_N-1CClH->H_Ext-1C-R_1C-u0_Sp-4R!H-1C_N-4R!H->F_Ext-3CCl-R_4CO->C_5R!H->F_Ext-4C-R_6R!H->C\">,\n",
       " 'Root_N-1R->O_N-3R->O_N-1BrCClFHINPSSi->F_N-3CClFH->F_N-3CClH->H_3CCl-u1_N-1CClH->H_Ext-1C-R_1C-u0_Sp-4R!H-1C_N-4R!H->F_Ext-3CCl-R_4CO->C_5R!H->F_Ext-4C-R_N-6R!H->C': <Entry index=363 label=\"Root_N-1R->O_N-3R->O_N-1BrCClFHINPSSi->F_N-3CClFH->F_N-3CClH->H_3CCl-u1_N-1CClH->H_Ext-1C-R_1C-u0_Sp-4R!H-1C_N-4R!H->F_Ext-3CCl-R_4CO->C_5R!H->F_Ext-4C-R_N-6R!H->C\">,\n",
       " 'Root_N-1R->O_N-3R->O_N-1BrCClFHINPSSi->F_N-3CClFH->F_N-3CClH->H_3CCl-u1_N-1CClH->H_Ext-1C-R_1C-u0_Ext-1C-R_N-4R!H->C_N-4FO->O_Ext-3CCl-R_N-6R!H->O_N-6BrCClFINPSSi->C_Ext-1C-R_Ext-3CCl-R': <Entry index=364 label=\"Root_N-1R->O_N-3R->O_N-1BrCClFHINPSSi->F_N-3CClFH->F_N-3CClH->H_3CCl-u1_N-1CClH->H_Ext-1C-R_1C-u0_Ext-1C-R_N-4R!H->C_N-4FO->O_Ext-3CCl-R_N-6R!H->O_N-6BrCClFINPSSi->C_Ext-1C-R_Ext-3CCl-R\">}"
      ]
     },
     "execution_count": 10,
     "metadata": {},
     "output_type": "execute_result"
    }
   ],
   "source": [
    "family.groups.entries"
   ]
  },
  {
   "cell_type": "code",
   "execution_count": 11,
   "metadata": {},
   "outputs": [
    {
     "name": "stdout",
     "output_type": "stream",
     "text": [
      "0.17911577224731445\n"
     ]
    }
   ],
   "source": [
    "start = time.time()\n",
    "family.check_tree()\n",
    "end = time.time()\n",
    "print(end-start)"
   ]
  },
  {
   "cell_type": "code",
   "execution_count": 12,
   "metadata": {},
   "outputs": [
    {
     "name": "stdout",
     "output_type": "stream",
     "text": [
      "1.7777605056762695\n"
     ]
    }
   ],
   "source": [
    "start = time.time()\n",
    "family.regularize(thermo_database=database.thermo)\n",
    "end = time.time()\n",
    "print(end-start)"
   ]
  },
  {
   "cell_type": "code",
   "execution_count": 13,
   "metadata": {},
   "outputs": [
    {
     "name": "stdout",
     "output_type": "stream",
     "text": [
      "1.5876598358154297\n"
     ]
    }
   ],
   "source": [
    "start = time.time()\n",
    "templateRxnMap = family.get_reaction_matches(thermo_database=database.thermo,remove_degeneracy=True,\n",
    "                                             get_reverse=True,exact_matches_only=False,fix_labels=True)\n",
    "end = time.time()\n",
    "print(end-start)"
   ]
  },
  {
   "cell_type": "code",
   "execution_count": 14,
   "metadata": {},
   "outputs": [
    {
     "data": {
      "text/plain": [
       "365"
      ]
     },
     "execution_count": 14,
     "metadata": {},
     "output_type": "execute_result"
    }
   ],
   "source": [
    "len(templateRxnMap)"
   ]
  },
  {
   "cell_type": "code",
   "execution_count": 16,
   "metadata": {},
   "outputs": [],
   "source": [
    "family.clean_tree_rules()"
   ]
  },
  {
   "cell_type": "code",
   "execution_count": 17,
   "metadata": {},
   "outputs": [
    {
     "name": "stderr",
     "output_type": "stream",
     "text": [
      "/home/khalil.nor/Code/RMG-Py/rmgpy/data/kinetics/family.py:3617: VisibleDeprecationWarning: Creating an ndarray from ragged nested sequences (which is a list-or-tuple of lists-or-tuples-or ndarrays with different lengths or shapes) is deprecated. If you meant to do this, you must specify 'dtype=object' when creating the ndarray.\n",
      "  for rxns, label in rxnlists])\n",
      "/work/westgroup/nora/miniconda/envs/rmg_env/lib/python3.7/site-packages/scipy/optimize/minpack.py:834: OptimizeWarning: Covariance of the parameters could not be estimated\n",
      "  category=OptimizeWarning)\n"
     ]
    },
    {
     "name": "stdout",
     "output_type": "stream",
     "text": [
      "49.31952905654907\n"
     ]
    }
   ],
   "source": [
    "start = time.time()\n",
    "family.make_bm_rules_from_template_rxn_map(templateRxnMap)#,nprocs=6)\n",
    "end = time.time()\n",
    "print(end-start)"
   ]
  },
  {
   "cell_type": "code",
   "execution_count": 18,
   "metadata": {},
   "outputs": [
    {
     "name": "stdout",
     "output_type": "stream",
     "text": [
      "0.179642915725708\n"
     ]
    }
   ],
   "source": [
    "start = time.time()\n",
    "family.check_tree()\n",
    "end = time.time()\n",
    "print(end-start)"
   ]
  },
  {
   "cell_type": "code",
   "execution_count": 19,
   "metadata": {},
   "outputs": [
    {
     "name": "stderr",
     "output_type": "stream",
     "text": [
      "/work/westgroup/nora/miniconda/envs/rmg_env/lib/python3.7/site-packages/scipy/optimize/minpack.py:834: OptimizeWarning: Covariance of the parameters could not be estimated\n",
      "  category=OptimizeWarning)\n"
     ]
    },
    {
     "name": "stdout",
     "output_type": "stream",
     "text": [
      "2.220993757247925\n"
     ]
    }
   ],
   "source": [
    "start = time.time()\n",
    "errors,uncertainties = family.cross_validate(iters=0,random_state=5,folds=0,ascend=False)\n",
    "end = time.time()\n",
    "print(end-start)"
   ]
  },
  {
   "cell_type": "code",
   "execution_count": 20,
   "metadata": {},
   "outputs": [
    {
     "data": {
      "text/plain": [
       "dict_values([-1.4815502647715686, -1.2633803323126445, -1.3373686466083032, 1.1173386285873483, 1.2017779612962136, 0.6127892888118722, -0.018646936895190175, 0.3903800973040277, 3.307838231001113, 0.3761562963111153, -1.7441715960234525, 0.34244087511163235, 2.7598705284078555, -1.16620428291436, 1.62918588767182, -0.411083092718251, 1.9496791293492823, 1.1903908122802627, -0.6365865832116328, 0.37457399490984766, -1.0730897807829056, -2.261685178116033, -0.7899784643609935, 2.379621371814591, 0.32191377705518004, 0.7426805828141225, 0.8692136149422504, -1.9481707042745955, -1.7170882685803965, -5.72277224428623, 1.5054477508884447, 0.21085163953238625, 1.275228730503887, 1.2334776959548654, 2.3158900493123467, 0.9942378298401978, 3.0460455712929404, 2.219495509459154, -0.9447524458152803, 5.055969497724739, 1.2761409722375303, -6.090303880959565, 0.2520876217742862, 0.4861880182779506, -0.6107292103770013, 0.17077144509535516, 0.7738372224418322, 1.084958656105513, -1.5410254414849112, 0.7282458797595656, -0.095999305421579, -0.6718875886952816, -1.6789424689908834, -0.2810783899912988, -1.337940627439745, 1.220905499779203, -2.112211697952521, -9.68040069518846, -0.2138870183810365, -1.3094472502297105, 1.874791012777586, -4.577793740224122, -2.0145096653019223, 1.3730763459352937, -1.6997311474522523, 0.10782429674325401, 2.740001125665443, 2.6581506463706224, 0.119417154130868, 0.6544197555854857, 1.8770970878960056, -0.2997631459256803, -0.17793580546805735, 0.4679512872862888, -4.356517601648297, -0.26600460878482446, 1.4086470408666598, -1.1974988867490317, 0.19009442487676304, -1.3729011154794128, -1.8661457155220094, 1.972267320783037, 2.701312859560025, -3.2434573798369457, -0.9860631794593125, -4.7959516476823465, 0.2761590111425639, 2.3310889927138394, 0.7002342130498042, 0.008802115290756267, 2.9581572631041078, 3.277314954595821, -6.601813315018615, -4.83099939480453, 1.1974878002710712, -0.02340873194201714, -2.8552716162668714, -0.6964717817296305, 0.13426573921788668, -1.0788530116376842, -2.671256697843459, 1.9126016566965365, 2.5445481297827253, 1.1814054439977932, -3.923671572071439, 0.8576915914307408, -0.1222759766577861, 2.5018143627232656, -5.349155826655006, -1.0772504779753096, -3.110149073808163, 1.771738371447652, 0.8424819388662987, 0.19597735920727413, 0.4104102495104301, -1.2018899880303355, -3.2324113134610135, 1.6043758931752483, -0.9821241838833376, -0.2872371921386754, -2.8187224937721647, 0.34918051691970836, -0.5263187328971868, -1.3218517731552937, -1.2822891279440713, 2.6230906502998876, -1.0418710101914568, 1.6542712827772703, -3.939252762458502, 1.5237594634504525, -1.105841313258706, 0.12274365422070953, 0.3072353533192258, 0.5518176557148826, -2.2489592528212414, -1.1378550550906155, 3.241502388817768, -0.8695211877481187, -2.1017493883549903, 0.23365547651327842, -0.13171368703200764, -2.2139253161725763, 0.24732777498828803, 3.0783458956376797, 0.9985209390904477, -1.442754762134948, 1.3979280497676405, -0.31802129442075605, 0.9655430105664059, 2.3176898521805867, -1.7159382973897805, -2.0677519772556647, -1.3114375090329327, 3.404217771174417, -0.9270909899538606, -1.6030605199477, 2.2039224380702658, -1.2215651954773281, -3.7688830099582695, -1.349238539563448, 1.7053029694720243, 7.223134197165181, -0.8917612819856139, -1.5975065273298514, 1.1344209644260725, 0.8949429470509549, -3.4387246947973096, -4.947237560533823, -9.455413561411468, -1.6121421545951549, 0.2170505997690298, 5.871427905917487, 1.6674085666640441, -2.735005877440044, 1.5122545161992114, 10.535205011731707, -1.21804990162388, 0.31433702800953656, 2.648951050381776, 2.272292518822211, -0.8597824002616699, -2.0654924722552757, 0.7948074359373177, 1.2105814125508099, 1.822073675287469, -2.9576495039673665, -0.20848108244471616, 4.669585480747341, -1.1418245250186458, -1.167030068124228, 8.805763477686423, 4.934223969465235, 0.06741976254974008, 1.3024799179157136, 9.020511714751587, 0.1340110598435614, -1.3725911276402079, -1.814998835332453, -0.08135639175459364, 0.3409114684986585, 0.17522932874771818, 2.0398561765519885, -0.2647473552344748, -0.33862870424959923, 0.43547120593276256, -1.0886579685440687, 2.353733609367993, -1.4754083665561628, 3.741475972570259, 2.039270870320812, 5.542840260057794, -1.4166344232460513, -0.4126147396220441, 0.0912160772302507, 2.201304932139224, 1.290865113137056, 1.9032407415633892, -1.0094445400661034, 2.837013880544743, -0.8759452451480649, 0.3276837146110233, -0.3752305791069693, 1.781536948044652, 0.4237764398547842, 2.0225675187170533, 1.239323553960372, 1.064992072797357, 0.5660388899054263, 0.20179737792702043, 0.7239983994191995, -2.8205260359511777, -1.1742435303538932, -1.3844106043477022, -0.797310948610936])"
      ]
     },
     "execution_count": 20,
     "metadata": {},
     "output_type": "execute_result"
    }
   ],
   "source": [
    "errors.values()"
   ]
  },
  {
   "cell_type": "code",
   "execution_count": 21,
   "metadata": {},
   "outputs": [
    {
     "data": {
      "text/plain": [
       "Text(0.5, 0, '$|Ln(k_{est}/k_{rxn})|$')"
      ]
     },
     "execution_count": 21,
     "metadata": {},
     "output_type": "execute_result"
    }
   ],
   "source": [
    "plt.figure(figsize=(10,8))\n",
    "plt.hist(np.abs(list(errors.values())),bins=30, density=True)\n",
    "plt.title('Decision Tree Estimator',fontsize=18)\n",
    "#plt.ylim(0,.4)\n",
    "plt.xlim(0,15)\n",
    "plt.ylabel('Probability density',fontsize=18)\n",
    "plt.xlabel(r'$|Ln(k_{est}/k_{rxn})|$',fontsize=18)"
   ]
  },
  {
   "cell_type": "code",
   "execution_count": null,
   "metadata": {},
   "outputs": [],
   "source": [
    "#family.save('/Users/mattjohnson/RMGCODE/RMG-database/input/kinetics/families/')"
   ]
  },
  {
   "cell_type": "code",
   "execution_count": 22,
   "metadata": {},
   "outputs": [
    {
     "name": "stdout",
     "output_type": "stream",
     "text": [
      "/home/khalil.nor/Code/RMG-database/input/kinetics/families/F_Abstraction\n"
     ]
    }
   ],
   "source": [
    "save_path = os.path.join(settings['database.directory'], 'kinetics', 'families', family.name)\n",
    "print(save_path)"
   ]
  },
  {
   "cell_type": "code",
   "execution_count": 23,
   "metadata": {},
   "outputs": [],
   "source": [
    "family.save(save_path)"
   ]
  },
  {
   "cell_type": "code",
   "execution_count": null,
   "metadata": {},
   "outputs": [],
   "source": [
    "#note: ran this jupyter notebook up to this point on Apr 24th, 2024 at 10:46 am "
   ]
  },
  {
   "cell_type": "code",
   "execution_count": null,
   "metadata": {},
   "outputs": [],
   "source": []
  }
 ],
 "metadata": {
  "@webio": {
   "lastCommId": null,
   "lastKernelId": null
  },
  "kernelspec": {
   "display_name": "rmg_env",
   "language": "python",
   "name": "rmg_env"
  },
  "language_info": {
   "codemirror_mode": {
    "name": "ipython",
    "version": 3
   },
   "file_extension": ".py",
   "mimetype": "text/x-python",
   "name": "python",
   "nbconvert_exporter": "python",
   "pygments_lexer": "ipython3",
   "version": "3.7.16"
  }
 },
 "nbformat": 4,
 "nbformat_minor": 4
}
