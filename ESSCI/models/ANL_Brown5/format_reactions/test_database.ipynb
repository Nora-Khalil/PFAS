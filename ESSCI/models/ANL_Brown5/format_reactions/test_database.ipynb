{
 "cells": [
  {
   "cell_type": "code",
   "execution_count": 1,
   "id": "d5104b3c-e143-4d56-bdc4-2529fab7d98c",
   "metadata": {},
   "outputs": [],
   "source": [
    "import cantera as ct\n",
    "import os \n",
    "import re\n",
    "from rmgpy.molecule import Molecule\n",
    "from rmgpy.reaction import Reaction\n",
    "from rmgpy.species import Species\n",
    "from rmgpy.data.kinetics.family import KineticsFamily\n",
    "from rmgpy.data.rmg import RMGDatabase\n",
    "from rmgpy import settings\n",
    "from rmgpy.data.base import Database\n",
    "from rmgpy.chemkin import load_species_dictionary"
   ]
  },
  {
   "cell_type": "markdown",
   "id": "ffb7b4cc-f479-4059-8064-dfe12c67ff98",
   "metadata": {},
   "source": [
    "Make a species dictionary"
   ]
  },
  {
   "cell_type": "code",
   "execution_count": 5,
   "id": "e1e28603-4ea5-4683-a0c1-cb9f941f9955",
   "metadata": {},
   "outputs": [
    {
     "name": "stderr",
     "output_type": "stream",
     "text": [
      "WARNING:root:An instance of RMGDatabase already exists. Re-initializing it.\n"
     ]
    }
   ],
   "source": [
    "#load in the database\n",
    "database = RMGDatabase()\n",
    "database.load(\n",
    "            path = '/home/khalil.nor/Code/RMG-database/input',\n",
    "            thermo_libraries = ['Klippenstein_Glarborg2016', 'BurkeH2O2', 'thermo_DFT_CCSDTF12_BAC', \n",
    "                               'DFT_QCI_thermo',\n",
    "                           'primaryThermoLibrary', 'primaryNS', 'NitrogenCurran', 'NOx2018', 'FFCM1(-)',\n",
    "'SulfurLibrary', 'SulfurGlarborgH2S','SABIC_aromatics'],\n",
    "            transport_libraries = [],\n",
    "            reaction_libraries = ['Brown_difluoromethane'],\n",
    "            seed_mechanisms = [],#['BurkeH2O2inN2','ERC-FoundationFuelv0.9'],\n",
    "            kinetics_families = 'all',\n",
    "            kinetics_depositories = ['training'],\n",
    "            #frequenciesLibraries = self.statmechLibraries,\n",
    "            depository = False, # Don't bother loading the depository information, as we don't use it\n",
    "        )\n",
    "\n",
    "#kinetic families of H abstraction and F abstraction load fine. \n",
    "#now let's try the Brown reaction libraries\n",
    "#Brown_pdep is fine \n"
   ]
  }
 ],
 "metadata": {
  "kernelspec": {
   "display_name": "rmg_env",
   "language": "python",
   "name": "rmg_env"
  },
  "language_info": {
   "codemirror_mode": {
    "name": "ipython",
    "version": 3
   },
   "file_extension": ".py",
   "mimetype": "text/x-python",
   "name": "python",
   "nbconvert_exporter": "python",
   "pygments_lexer": "ipython3",
   "version": "3.7.16"
  }
 },
 "nbformat": 4,
 "nbformat_minor": 5
}
