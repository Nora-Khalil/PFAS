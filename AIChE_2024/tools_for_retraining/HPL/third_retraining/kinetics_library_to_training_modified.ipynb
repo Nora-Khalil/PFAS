{
 "cells": [
  {
   "cell_type": "markdown",
   "metadata": {},
   "source": [
    "# Convert Kinetics Library to Training Reactions Script\n",
    "\n",
    "Specify the kinetics library name below and run the script.  It automatically overwrites the training reactions files it needs to.  Then you should commit those files.\n",
    "\n",
    "This script only trains safely.  In other words, if a single match from an RMG family is found, a training reaction is created.  Sometimes, there are no matches from RMG reaction families, or multiple matches.  This indicates an error that requires manual fixing, and a printout is given in the script."
   ]
  },
  {
   "cell_type": "code",
   "execution_count": 1,
   "metadata": {},
   "outputs": [],
   "source": [
    "from rmgpy import settings\n",
    "from rmgpy.data.rmg import RMGDatabase\n",
    "from kinetics_library_to_training_tools_modified import *\n",
    "import kinetics_library_to_training_tools_modified# import process_reactions\n",
    "from base64 import b64encode\n",
    "from IPython.display import display, HTML\n",
    "import os\n",
    "import re\n",
    "from importlib import reload\n",
    "\n",
    "\n",
    "# Set libraries to load reactions from; set to None to load all libraries\n",
    "# libraries = ['PFAS_HPL']\n",
    "libraries = ['PFAS_HPL_Test/1,3_sigmatropic_rearrangement/']\n",
    "# Set families to add training reactions to; either 'default' or a list, e.g. ['R_Addition_MultipleBond']\n",
    "# families = ['Perfluoroalkene_Formation',\n",
    "            # 'CF_Radical_Formation_3',\n",
    "            # 'CF_Radical_Formation_2', \n",
    "            # 'CF_Radical_Formation_1', \n",
    "            # 'OF_Radical_Formation', \n",
    "            # 'Enol_Ether_Formation',\n",
    "            # 'Lactone_to_Perfluoroalkene', \n",
    "            # 'CO2_Elimination_From_Lactone', \n",
    "            # 'CO2_Elimination_From_Carboxylic_Acid', \n",
    "            # 'CO2_Elimination_From_Lactone_Ether', \n",
    "            # 'CO_Elimination_From_Lactone', \n",
    "            # 'CO_CF_bond_dissociation', \n",
    "            # 'PFAS_Hydrolysis', \n",
    "            # 'Lactone_Formation', \n",
    "            # 'CO2_Elimination_From_PFCA_Radical']\n",
    "\n",
    "# Specify whether to plot kinetics comparisons\n",
    "compare_kinetics = False\n",
    "\n",
    "# Specify whether to print library reactions which don't fit in the specified families\n",
    "# This can result in a lot of unnecessary output if only using a few families\n",
    "show_all = False\n",
    "\n",
    "# Specify whether to prioritize aromatic resonance structures to reduce cases of multiple matches\n",
    "filter_aromatic = True\n",
    "#filter_aromatic = \n",
    "\n",
    "# Specify whether to use verbose comments when averaging tree\n",
    "verbose_comments = True\n",
    "\n",
    "\n",
    "\n",
    "\n",
    "# families = ['Perfluorinated_Alkyl_Rearrangement']\n",
    "\n",
    "thermolibs = [\n",
    "'C1_C2_Fluorine', #putting Siddha's as most trusted because Caroline used this thermo for calcs\n",
    "'PFCA_thermo',\n",
    "'NCSU_C2_C8_PFAS', #using this as second trusted thermo because has good estimates for higher C pfas\n",
    "'Fluorine',\n",
    "'primaryThermoLibrary',\n",
    "'FFCM1(-)',\n",
    "'halogens',\n",
    "'CHOF_G4',\n",
    "'CHOCl_G4',\n",
    "'CHOBr_G4',\n",
    "'CHOFCl_G4',\n",
    "'CHOFBr_G4',\n",
    "'CHOFClBr_G4',\n",
    "'DFT_QCI_thermo',\n",
    "'2-BTP_G4',\n",
    "'thermo_DFT_CCSDTF12_BAC',\n",
    "'SulfurHaynes'\n",
    "]\n",
    "\n",
    "# thermolibs = []"
   ]
  },
  {
   "cell_type": "code",
   "execution_count": 2,
   "metadata": {},
   "outputs": [],
   "source": [
    "# families = ['default', 'halogens']\n",
    "families = ['1,3_sigmatropic_rearrangement']"
   ]
  },
  {
   "cell_type": "code",
   "execution_count": null,
   "metadata": {
    "tags": []
   },
   "outputs": [],
   "source": [
    "# #if we want to add in the other reaction families (not new) \n",
    "# matched_families_path = '/work/westgroup/nora/Code/projects/PFAS/AIChE_2024/organized_into_rxn_families/HPL_matches/'\n",
    "# matched_htmls = [html for html in os.listdir(matched_families_path) if '_matched_rxns.html' in html]\n",
    "# previously_matched_families = [re.search('(\\S+)_matched_rxns', html).group(1) for html in matched_htmls]\n",
    "# families.extend(previously_matched_families)\n",
    "\n",
    "families = ['Perfluoroalkene_Formation',\n",
    " 'CF_Radical_Formation_3',\n",
    " 'CF_Radical_Formation_2',\n",
    " 'CF_Radical_Formation_1',\n",
    " 'OF_Radical_Formation',\n",
    " 'Enol_Ether_Formation',\n",
    " 'Lactone_to_Perfluoroalkene',\n",
    "'CO2_Elimination_From_Lactone',\n",
    " 'CO2_Elimination_From_Carboxylic_Acid',\n",
    "'CO2_Elimination_From_Lactone_Ether',\n",
    "'CO_Elimination_From_Lactone',\n",
    " 'CO_CF_bond_dissociation',\n",
    " 'PFAS_Hydrolysis',\n",
    " 'Lactone_Formation',\n",
    "'CO2_Elimination_From_PFCA_Radical',\n",
    " '1+2_Cycloaddition',\n",
    " '1,2_Insertion_CO',\n",
    " '1,2_Insertion_carbene',\n",
    " '1,3_Insertion_CO2',\n",
    " '1,3_sigmatropic_rearrangement',\n",
    " 'F_Abstraction',\n",
    " 'Intra_R_Add_Endocyclic',\n",
    " 'R_Addition_COm',\n",
    " 'R_Addition_MultipleBond',\n",
    " 'R_Recombination',\n",
    " 'Singlet_Carbene_Intra_Disproportionation',\n",
    " 'XY_Addition_MultipleBond',\n",
    " 'Enol_Ether_Formation',\n",
    " 'Perfluorinated_Alkyl_Rearrangement']\n",
    "\n",
    "#these ones are missed, maybe they're fitting to a new family? \n",
    "# ['CO2_Elimination_From_Lactone',\n",
    "#  'CO2_Elimination_From_Lactone_Ether',\n",
    "#  'CO_Elimination_From_Lactone',\n",
    "#  'CO2_Elimination_From_PFCA_Radical']"
   ]
  },
  {
   "cell_type": "markdown",
   "metadata": {},
   "source": [
    "\n",
    "## Step 1: Load RMG-database with specified libraries and families"
   ]
  },
  {
   "cell_type": "code",
   "execution_count": 3,
   "metadata": {},
   "outputs": [],
   "source": [
    "database = RMGDatabase()\n",
    "database.load(\n",
    "    path = settings['database.directory'],\n",
    "    thermo_libraries = thermolibs,  # Can add others if necessary\n",
    "    kinetics_families = families,\n",
    "    reaction_libraries = libraries,\n",
    "    kinetics_depositories = ['training'],\n",
    ")\n",
    "# If we want accurate kinetics comparison, add existing training reactions and fill tree by averaging\n",
    "if compare_kinetics:\n",
    "    for family in database.kinetics.families.values():\n",
    "        if not family.auto_generated:\n",
    "            family.add_rules_from_training(thermo_database=database.thermo)\n",
    "            family.fill_rules_by_averaging_up(verbose=verbose_comments)"
   ]
  },
  {
   "cell_type": "code",
   "execution_count": 4,
   "metadata": {},
   "outputs": [
    {
     "data": {
      "text/plain": [
       "dict_keys(['1,3_sigmatropic_rearrangement'])"
      ]
     },
     "execution_count": 4,
     "metadata": {},
     "output_type": "execute_result"
    }
   ],
   "source": [
    "database.kinetics.families.keys()"
   ]
  },
  {
   "cell_type": "markdown",
   "metadata": {},
   "source": [
    "## Step 2a: Generate library reactions from families to get proper labels"
   ]
  },
  {
   "cell_type": "code",
   "execution_count": null,
   "metadata": {},
   "outputs": [],
   "source": [
    "reload(kinetics_library_to_training_tools_modified)"
   ]
  },
  {
   "cell_type": "code",
   "execution_count": 5,
   "metadata": {
    "tags": []
   },
   "outputs": [
    {
     "name": "stdout",
     "output_type": "stream",
     "text": [
      "[Species(label=\"C2F5CFO\", molecule=[Molecule(smiles=\"O=C(F)C(F)(F)C(F)(F)F\")], molecular_weight=(166.022,'amu'))] [Species(label=\"CF3OCFCF2\", molecule=[Molecule(smiles=\"FC(F)=C(F)OC(F)(F)F\")], molecular_weight=(166.022,'amu'))]\n",
      "getting fam rxn list...\n"
     ]
    },
    {
     "name": "stderr",
     "output_type": "stream",
     "text": [
      "WARNING: method definition for getreactionindices at /work/westgroup/nora/miniconda/envs/rmg_env/share/julia/site/packages/ReactionMechanismSimulator/mfVTj/src/Phase.jl:320 declares type variable Q but does not use it.\n",
      "WARNING: using StaticArrays.setindex in module FiniteDiff conflicts with an existing identifier.\n",
      "WARNING: method definition for Inlet at /work/westgroup/nora/miniconda/envs/rmg_env/share/julia/site/packages/ReactionMechanismSimulator/mfVTj/src/Interface.jl:243 declares type variable B but does not use it.\n",
      "WARNING: method definition for #ConstantTPDomain#328 at /work/westgroup/nora/miniconda/envs/rmg_env/share/julia/site/packages/ReactionMechanismSimulator/mfVTj/src/Domain.jl:42 declares type variable W but does not use it.\n",
      "WARNING: method definition for #ConstantTPDomain#328 at /work/westgroup/nora/miniconda/envs/rmg_env/share/julia/site/packages/ReactionMechanismSimulator/mfVTj/src/Domain.jl:42 declares type variable Q but does not use it.\n",
      "WARNING: method definition for #ConstantTPDomain#328 at /work/westgroup/nora/miniconda/envs/rmg_env/share/julia/site/packages/ReactionMechanismSimulator/mfVTj/src/Domain.jl:42 declares type variable E but does not use it.\n",
      "WARNING: method definition for #ConstantVDomain#339 at /work/westgroup/nora/miniconda/envs/rmg_env/share/julia/site/packages/ReactionMechanismSimulator/mfVTj/src/Domain.jl:120 declares type variable Q but does not use it.\n",
      "WARNING: method definition for #ConstantPDomain#348 at /work/westgroup/nora/miniconda/envs/rmg_env/share/julia/site/packages/ReactionMechanismSimulator/mfVTj/src/Domain.jl:188 declares type variable Q but does not use it.\n",
      "WARNING: method definition for #ParametrizedTPDomain#357 at /work/westgroup/nora/miniconda/envs/rmg_env/share/julia/site/packages/ReactionMechanismSimulator/mfVTj/src/Domain.jl:257 declares type variable Q but does not use it.\n",
      "WARNING: method definition for #ParametrizedVDomain#366 at /work/westgroup/nora/miniconda/envs/rmg_env/share/julia/site/packages/ReactionMechanismSimulator/mfVTj/src/Domain.jl:337 declares type variable Q but does not use it.\n",
      "WARNING: method definition for #ParametrizedVDomain#366 at /work/westgroup/nora/miniconda/envs/rmg_env/share/julia/site/packages/ReactionMechanismSimulator/mfVTj/src/Domain.jl:337 declares type variable E but does not use it.\n",
      "WARNING: method definition for #ParametrizedPDomain#375 at /work/westgroup/nora/miniconda/envs/rmg_env/share/julia/site/packages/ReactionMechanismSimulator/mfVTj/src/Domain.jl:414 declares type variable Q but does not use it.\n",
      "WARNING: method definition for #ParametrizedPDomain#375 at /work/westgroup/nora/miniconda/envs/rmg_env/share/julia/site/packages/ReactionMechanismSimulator/mfVTj/src/Domain.jl:414 declares type variable E but does not use it.\n",
      "WARNING: method definition for #ConstantTVDomain#384 at /work/westgroup/nora/miniconda/envs/rmg_env/share/julia/site/packages/ReactionMechanismSimulator/mfVTj/src/Domain.jl:500 declares type variable W but does not use it.\n",
      "WARNING: method definition for #ConstantTVDomain#384 at /work/westgroup/nora/miniconda/envs/rmg_env/share/julia/site/packages/ReactionMechanismSimulator/mfVTj/src/Domain.jl:500 declares type variable Q but does not use it.\n",
      "WARNING: method definition for #ParametrizedTConstantVDomain#395 at /work/westgroup/nora/miniconda/envs/rmg_env/share/julia/site/packages/ReactionMechanismSimulator/mfVTj/src/Domain.jl:580 declares type variable Q but does not use it.\n",
      "WARNING: method definition for #ConstantTAPhiDomain#404 at /work/westgroup/nora/miniconda/envs/rmg_env/share/julia/site/packages/ReactionMechanismSimulator/mfVTj/src/Domain.jl:660 declares type variable W but does not use it.\n",
      "WARNING: method definition for #ConstantTAPhiDomain#404 at /work/westgroup/nora/miniconda/envs/rmg_env/share/julia/site/packages/ReactionMechanismSimulator/mfVTj/src/Domain.jl:660 declares type variable E but does not use it.\n",
      "WARNING: method definition for #FragmentBasedConstantTrhoDomain#413 at /work/westgroup/nora/miniconda/envs/rmg_env/share/julia/site/packages/ReactionMechanismSimulator/mfVTj/src/Domain.jl:747 declares type variable X3 but does not use it.\n",
      "WARNING: method definition for #FragmentBasedConstantTrhoDomain#413 at /work/westgroup/nora/miniconda/envs/rmg_env/share/julia/site/packages/ReactionMechanismSimulator/mfVTj/src/Domain.jl:747 declares type variable E1 but does not use it.\n",
      "WARNING: method definition for #FragmentBasedConstantTrhoDomain#413 at /work/westgroup/nora/miniconda/envs/rmg_env/share/julia/site/packages/ReactionMechanismSimulator/mfVTj/src/Domain.jl:747 declares type variable X1 but does not use it.\n",
      "WARNING: method definition for #ConstantTLiqFilmDomain#422 at /work/westgroup/nora/miniconda/envs/rmg_env/share/julia/site/packages/ReactionMechanismSimulator/mfVTj/src/Domain.jl:848 declares type variable W but does not use it.\n",
      "WARNING: method definition for #ConstantTLiqFilmDomain#422 at /work/westgroup/nora/miniconda/envs/rmg_env/share/julia/site/packages/ReactionMechanismSimulator/mfVTj/src/Domain.jl:848 declares type variable Q but does not use it.\n",
      "WARNING: method definition for calcthermo at /work/westgroup/nora/miniconda/envs/rmg_env/share/julia/site/packages/ReactionMechanismSimulator/mfVTj/src/Domain.jl:1563 declares type variable J but does not use it.\n",
      "WARNING: method definition for calcthermo at /work/westgroup/nora/miniconda/envs/rmg_env/share/julia/site/packages/ReactionMechanismSimulator/mfVTj/src/Domain.jl:1635 declares type variable J but does not use it.\n",
      "WARNING: method definition for calcthermo at /work/westgroup/nora/miniconda/envs/rmg_env/share/julia/site/packages/ReactionMechanismSimulator/mfVTj/src/Domain.jl:1722 declares type variable J but does not use it.\n",
      "WARNING: method definition for calcthermo at /work/westgroup/nora/miniconda/envs/rmg_env/share/julia/site/packages/ReactionMechanismSimulator/mfVTj/src/Domain.jl:1801 declares type variable J but does not use it.\n",
      "WARNING: method definition for #calcdomainderivatives!#477 at /work/westgroup/nora/miniconda/envs/rmg_env/share/julia/site/packages/ReactionMechanismSimulator/mfVTj/src/Domain.jl:1839 declares type variable Y but does not use it.\n",
      "WARNING: method definition for #calcdomainderivatives!#477 at /work/westgroup/nora/miniconda/envs/rmg_env/share/julia/site/packages/ReactionMechanismSimulator/mfVTj/src/Domain.jl:1839 declares type variable W but does not use it.\n",
      "WARNING: method definition for #calcdomainderivatives!#478 at /work/westgroup/nora/miniconda/envs/rmg_env/share/julia/site/packages/ReactionMechanismSimulator/mfVTj/src/Domain.jl:1863 declares type variable Y but does not use it.\n",
      "WARNING: method definition for #calcdomainderivatives!#478 at /work/westgroup/nora/miniconda/envs/rmg_env/share/julia/site/packages/ReactionMechanismSimulator/mfVTj/src/Domain.jl:1863 declares type variable W but does not use it.\n",
      "WARNING: method definition for jacobianpnsderiv! at /work/westgroup/nora/miniconda/envs/rmg_env/share/julia/site/packages/ReactionMechanismSimulator/mfVTj/src/Domain.jl:3095 declares type variable Q3 but does not use it.\n",
      "WARNING: method definition for jacobianpnsderiv! at /work/westgroup/nora/miniconda/envs/rmg_env/share/julia/site/packages/ReactionMechanismSimulator/mfVTj/src/Domain.jl:3204 declares type variable Q3 but does not use it.\n",
      "WARNING: method definition for jacobianpnsderiv! at /work/westgroup/nora/miniconda/envs/rmg_env/share/julia/site/packages/ReactionMechanismSimulator/mfVTj/src/Domain.jl:3290 declares type variable Q3 but does not use it.\n",
      "WARNING: method definition for #Reactor#612 at /work/westgroup/nora/miniconda/envs/rmg_env/share/julia/site/packages/ReactionMechanismSimulator/mfVTj/src/Reactor.jl:255 declares type variable F but does not use it.\n",
      "WARNING: method definition for addreactionratecontributions! at /work/westgroup/nora/miniconda/envs/rmg_env/share/julia/site/packages/ReactionMechanismSimulator/mfVTj/src/Reactor.jl:448 declares type variable T but does not use it.\n",
      "WARNING: method definition for addreactionratecontributions! at /work/westgroup/nora/miniconda/envs/rmg_env/share/julia/site/packages/ReactionMechanismSimulator/mfVTj/src/Reactor.jl:492 declares type variable W2 but does not use it.\n",
      "WARNING: method definition for addreactionratecontributions! at /work/westgroup/nora/miniconda/envs/rmg_env/share/julia/site/packages/ReactionMechanismSimulator/mfVTj/src/Reactor.jl:492 declares type variable T but does not use it.\n",
      "WARNING: method definition for addreactionratecontributions! at /work/westgroup/nora/miniconda/envs/rmg_env/share/julia/site/packages/ReactionMechanismSimulator/mfVTj/src/Reactor.jl:539 declares type variable T but does not use it.\n",
      "WARNING: method definition for addreactionratecontributionsforwardreverse! at /work/westgroup/nora/miniconda/envs/rmg_env/share/julia/site/packages/ReactionMechanismSimulator/mfVTj/src/Reactor.jl:584 declares type variable T but does not use it.\n",
      "WARNING: method definition for jacobianyforwarddiff at /work/westgroup/nora/miniconda/envs/rmg_env/share/julia/site/packages/ReactionMechanismSimulator/mfVTj/src/Reactor.jl:772 declares type variable Q but does not use it.\n",
      "WARNING: method definition for jacobianpforwarddiff at /work/westgroup/nora/miniconda/envs/rmg_env/share/julia/site/packages/ReactionMechanismSimulator/mfVTj/src/Reactor.jl:824 declares type variable Q but does not use it.\n",
      "WARNING: method definition for sensg at /work/westgroup/nora/miniconda/envs/rmg_env/share/julia/site/packages/ReactionMechanismSimulator/mfVTj/src/Simulation.jl:552 declares type variable V but does not use it.\n",
      "WARNING: method definition for sensg at /work/westgroup/nora/miniconda/envs/rmg_env/share/julia/site/packages/ReactionMechanismSimulator/mfVTj/src/Simulation.jl:552 declares type variable Q but does not use it.\n",
      "WARNING: method definition for sensg at /work/westgroup/nora/miniconda/envs/rmg_env/share/julia/site/packages/ReactionMechanismSimulator/mfVTj/src/Simulation.jl:558 declares type variable V but does not use it.\n",
      "WARNING: method definition for sensg at /work/westgroup/nora/miniconda/envs/rmg_env/share/julia/site/packages/ReactionMechanismSimulator/mfVTj/src/Simulation.jl:558 declares type variable Q but does not use it.\n",
      "WARNING: method definition for sensg at /work/westgroup/nora/miniconda/envs/rmg_env/share/julia/site/packages/ReactionMechanismSimulator/mfVTj/src/Simulation.jl:564 declares type variable V but does not use it.\n",
      "WARNING: method definition for sensg at /work/westgroup/nora/miniconda/envs/rmg_env/share/julia/site/packages/ReactionMechanismSimulator/mfVTj/src/Simulation.jl:564 declares type variable Q but does not use it.\n",
      "WARNING: method definition for sensg at /work/westgroup/nora/miniconda/envs/rmg_env/share/julia/site/packages/ReactionMechanismSimulator/mfVTj/src/Simulation.jl:570 declares type variable V but does not use it.\n",
      "WARNING: method definition for sensg at /work/westgroup/nora/miniconda/envs/rmg_env/share/julia/site/packages/ReactionMechanismSimulator/mfVTj/src/Simulation.jl:570 declares type variable Q but does not use it.\n",
      "WARNING: method definition for g at /work/westgroup/nora/miniconda/envs/rmg_env/share/julia/site/packages/ReactionMechanismSimulator/mfVTj/src/Simulation.jl:577 declares type variable V but does not use it.\n",
      "WARNING: method definition for g at /work/westgroup/nora/miniconda/envs/rmg_env/share/julia/site/packages/ReactionMechanismSimulator/mfVTj/src/Simulation.jl:577 declares type variable Q but does not use it.\n",
      "WARNING: method definition for g at /work/westgroup/nora/miniconda/envs/rmg_env/share/julia/site/packages/ReactionMechanismSimulator/mfVTj/src/Simulation.jl:581 declares type variable V but does not use it.\n",
      "WARNING: method definition for g at /work/westgroup/nora/miniconda/envs/rmg_env/share/julia/site/packages/ReactionMechanismSimulator/mfVTj/src/Simulation.jl:581 declares type variable Q but does not use it.\n",
      "WARNING: method definition for g at /work/westgroup/nora/miniconda/envs/rmg_env/share/julia/site/packages/ReactionMechanismSimulator/mfVTj/src/Simulation.jl:585 declares type variable V but does not use it.\n",
      "WARNING: method definition for g at /work/westgroup/nora/miniconda/envs/rmg_env/share/julia/site/packages/ReactionMechanismSimulator/mfVTj/src/Simulation.jl:585 declares type variable Q but does not use it.\n",
      "WARNING: method definition for g at /work/westgroup/nora/miniconda/envs/rmg_env/share/julia/site/packages/ReactionMechanismSimulator/mfVTj/src/Simulation.jl:589 declares type variable V but does not use it.\n",
      "WARNING: method definition for g at /work/westgroup/nora/miniconda/envs/rmg_env/share/julia/site/packages/ReactionMechanismSimulator/mfVTj/src/Simulation.jl:589 declares type variable Q but does not use it.\n",
      "WARNING: method definition for g at /work/westgroup/nora/miniconda/envs/rmg_env/share/julia/site/packages/ReactionMechanismSimulator/mfVTj/src/Simulation.jl:644 declares type variable V but does not use it.\n",
      "WARNING: method definition for g at /work/westgroup/nora/miniconda/envs/rmg_env/share/julia/site/packages/ReactionMechanismSimulator/mfVTj/src/Simulation.jl:644 declares type variable Q but does not use it.\n",
      "WARNING: method definition for g at /work/westgroup/nora/miniconda/envs/rmg_env/share/julia/site/packages/ReactionMechanismSimulator/mfVTj/src/Simulation.jl:648 declares type variable V but does not use it.\n",
      "WARNING: method definition for g at /work/westgroup/nora/miniconda/envs/rmg_env/share/julia/site/packages/ReactionMechanismSimulator/mfVTj/src/Simulation.jl:648 declares type variable Q but does not use it.\n",
      "WARNING: method definition for g at /work/westgroup/nora/miniconda/envs/rmg_env/share/julia/site/packages/ReactionMechanismSimulator/mfVTj/src/Simulation.jl:652 declares type variable V but does not use it.\n",
      "WARNING: method definition for g at /work/westgroup/nora/miniconda/envs/rmg_env/share/julia/site/packages/ReactionMechanismSimulator/mfVTj/src/Simulation.jl:652 declares type variable Q but does not use it.\n",
      "WARNING: method definition for g at /work/westgroup/nora/miniconda/envs/rmg_env/share/julia/site/packages/ReactionMechanismSimulator/mfVTj/src/Simulation.jl:656 declares type variable V but does not use it.\n",
      "WARNING: method definition for g at /work/westgroup/nora/miniconda/envs/rmg_env/share/julia/site/packages/ReactionMechanismSimulator/mfVTj/src/Simulation.jl:656 declares type variable Q but does not use it.\n",
      "WARNING: method definition for #plotradicalrops#942 at /work/westgroup/nora/miniconda/envs/rmg_env/share/julia/site/packages/ReactionMechanismSimulator/mfVTj/src/Plotting.jl:371 declares type variable X but does not use it.\n",
      "WARNING: method definition for checkbounds at /work/westgroup/nora/miniconda/envs/rmg_env/share/julia/site/packages/Interpolations/y4lLj/src/Interpolations.jl:454 declares type variable N but does not use it.\n",
      "WARNING: method definition for checkbounds at /work/westgroup/nora/miniconda/envs/rmg_env/share/julia/site/packages/Interpolations/y4lLj/src/Interpolations.jl:457 declares type variable N but does not use it.\n",
      "WARNING: method definition for GriddedInterpolation at /work/westgroup/nora/miniconda/envs/rmg_env/share/julia/site/packages/Interpolations/y4lLj/src/gridded/gridded.jl:37 declares type variable pad but does not use it.\n",
      "WARNING: method definition for GriddedInterpolation at /work/westgroup/nora/miniconda/envs/rmg_env/share/julia/site/packages/Interpolations/y4lLj/src/gridded/gridded.jl:60 declares type variable pad but does not use it.\n",
      "WARNING: method definition for interpolate! at /work/westgroup/nora/miniconda/envs/rmg_env/share/julia/site/packages/Interpolations/y4lLj/src/deprecations.jl:30 declares type variable TWeights but does not use it.\n"
     ]
    },
    {
     "name": "stdout",
     "output_type": "stream",
     "text": [
      "This is the family reaction list before filtering aromatics: ['1,3_sigmatropic_rearrangement']\n",
      "found a family\n",
      "O=C(F)C(F)(F)C(F)(F)F <=> FC(F)=C(F)OC(F)(F)F 1,3_sigmatropic_rearrangement\n"
     ]
    },
    {
     "data": {
      "text/html": [
       "<table style=\"width:100%;table-layout:fixed;\"><tr><th colspan=\"12\" style=\"color:green\">One RMG match for this reaction</th></tr><tr><th colspan=\"12\">Source Library: PFAS_HPL_Test/1,3_sigmatropic_rearrangement/</th></tr><tr><td colspan=\"12\"><img src=\"data:image/png;base64,iVBORw0KGgoAAAANSUhEUgAAAOsAAABDCAIAAADyJ2UBAAAABmJLR0QA/wD/AP+gvaeTAAAO8UlEQVR4nO2da1STV9bHdy4ECAJFRKQgSancivCiWIMjalEQaSuMkYtoEcHC2NqA5V1jL3aEvmLbF1DKoFJ0sShVkeJSuQgFWS23MCMWq8siCxI6iEVAJCAqJASSZz4ELSBCkvM8hNDnt/KBQM4+O8n/nLPP5lwoGIYBCYnWQtW0AyQkSJAKJtFuSAWTaDd0TTtA8uflXzehqh+kTydirzvDBhPQVbFTJRVMoklslsCbC0GfBgBAoQCVorIFUsEkmoQCQKcCHSGY1YCCBXdAKP3j6avW4KA30xa0F1xG3rmEBhTc8QDuzoPlhqNPmap/+ugWtBr0kXf2cOc/8M9WoFAA9CDEBSx1VM4taCaKeMkEXjcf/Zmi1heAbkF7QR95Zw9WLPBaAHo0AAAmHdT4Jp9XsBR+vgzl9dD1BPRNwWUd/PUNMED2dDzoPYe29z0kCug0MNQdHU/UtDD+KQY1xyG5CuxXgI05iB9A/hEQPIbPNoMOmqfj6b4PV54AAAADVi9Wp4GgW9Be0EfeucR4BQ83wBfH4OUDEPk2WL8Eg11QcQL+ngDr18I6YzxrpcM8BgAAqPvpo1vQXtBH3rnEeAX/pwwqDODf28CWCQCgaw2b98I3xyH/Fqxbg2OtL5nAioWjP6vXuaNb0F7QR95Zwl9ccTAyvv9qbQLMAZyYf/xGZzH8zwJoEuBQ1dhaqcCgjT7U60LQLZDMBoaGhhBXR45XMI0G8mGQj3/JyAjQtL+9k8xKfHx8qqurh4eH1bYwPoqwcwWdZKjr/yPqlTbCVRFscEZwciK2LLCcp2EL2suEkVcul1MoFIp2JhSHh4fv3r3LYrHodPWzuuP7YMtNEKAHiSlw/S6IJdDVCCe+gJ43IMAB1dmxlSwcDbM1aGFuUF1dnZGRMTg4qGlH1KS1tdXc3JzJZKK0wPEKprNh/+dgJYBjh2DfPvjHEbhKh08OwlL8s1U5OTl8Ph/Fwvvvv4+XM1rKvHnzsrKyHj9+rKUbbQQCgY2NDUoHDM+tD6bAUn/4372wyQOWucKqDfC3WNjuDnT4/fffUYKV56mqqmpsbESxkJ6ejpczWsry5cuZTOb169fRvhox5P8feNjCPH0wWwKh/w93BibOhYhBIBC88sor+CoYAHTAbjUEh8GePeKQLQ+XWYMeAMB33333008/odREQgSBgYFFRUUIgQQGpyMguhje+QZ+6wB+BkizIeAgdDwC4rt1oVBIhILH/I1KPXLkyC+//AIA1tbWR44c6e/vR6mMBHeCgoIqKipEIpFcrla3KfkRvqiGD0/CzjfA3ATsN8C36TB8FnJbYVCGt7MTUShYRwcpoT+VghkMhoGBQWJiolQq9fPzYzAYeXl5KJWR4I6ZmRmHw/nxxx8lEok65W9Vw4Nl8JbV6L/4AEB/HfiYwrWrMCSdsiQqMpmstbWVzWbT0HK1UymYQqGEhYV1dnaWlpYaGxvHxsZmZWW1tbWh1EeCO8HBwYWFhWoGEr29oGcKhtRxQjBfCP39oF6nrjRtbW3z5883MDCgUpGWBUxT2MLC4r333vv66697e3s9PDyWLl164sQJLZ35zlW8vb3b2tp+++23kZERlQvPnw8SETyWj5u63e8GY2NAE9a0CIVC9EQEKLNX+a233jI2Ns7JyWEwGDExMZWVldevX0eslQRHGAyGv79/SUmJWCxWskhbW9uo3J3XwIIbUNwOkqdRr7gKynrgdQ7oMojxdxRFIgIxCAZlFGxoaBgbG3vmzJmWlpbXXnuNy+UmJSVJpcQGSSQqERwcXFRU9OTJk6mHx8ePH+fl5fn5+Xl7e4tEIgAA/Q3w8WpI+RucroL7fSD4CXa9D9TtsM0GmMQuJcAlEQFKnhfh7u6+YsWKtLQ0DMN27tzZ1dVVWlqKWDEJjjg7Oy9YsKCurm7SnkUul9fV1e3bt8/W1vb48eNcLre+vn7hQsXSPirsyoavN0F2JNhYwKpIoO+Ai4fA0ggoMDw8TFzEiEsyGAAAU46mpiYOh1NbW4thWG5urqenZ09Pj5JlJyUqKiojIwPFgvLO/xk4depUREREb2/v2F/eu3cvNTXV2dnZ0dHx4MGDra2tIyMjShocHBzcsmXL1atXFTrGF5lMtmTJkubmZplMhmhK2Wjdzs4uJCQkKSlJLBa/+eabJiYmZ8+eRW09GkJwB4oFfzya1EpDzTa4XC6fz3/w4IFcLpdIJIWFhUFBQW5ubvX19cnJyTdu3Pj8889VSl3p6+tzudzQ0NBLly4NDQ3h6Gp/f39iYmJvby9iFmIU5cXe3d29fv36vLw8DMP4fD6HwxEKhWo3HQ32wRXXsBON2NXfRx9tQyheTEQqlfr6+p47dw69d1GViIiI6OjoyMhICwsLb2/v7Ozshw8fyuVyFJt1dXVOTk6fffbZo0ePEN2TyWSVlZW7d+82NzffvHmzp6eni4tLfX09Yh+vmgguXbq0Zs2a+/fvDw8P83g8Ho+n9vekWQXndGIy+egD6RuejJqamvXr1zs6OmZnZys/aqPQ0dGRkpJibW1No9EOHDjQ0tKCY7337t3z8vIKDg7u7OxUrz20t7enpqY6OTkpgpk7d+4o3Dt9+rStre358+clEona7lEwVUL1wcHB8PBwNze3Dz74IC0t7cKFC4cPH9bX11ej74+Li3NwcAgJCVGjrII1a9bU1NSoVGTlypUMBqPyZ+iyhm3m078eBT6fHxcX19nZ+fHHH+/YsQPxP0+TMjQ0VFVVdfbs2fLycg8Pj5CQkAMHDpw8eZLD4aBnqcYyODgYHR3d3NyckZFhb2+v5HsRi8Xl5eWZmZl1dXUbN26Miop63rG6urrdu3dv2bJl//79hoaGLzI1BarNBJlMZmxsLI/HMzIyqqioWLx4cXl5OYOhTuJQIBAMDAyYmJioUfYZqqZEXFxcFN6qsdXZ0tKyo6NDdR8hLCzs4sWLeXl56n1Qk9Lc3Jybm5uVlbVo0aJt27YlJyebmppSqdSGhobi4mIXFxd8FcxkMk+dOqXIY6Smpnp6ek79Xm7dupWVlXXu3Dl7e/vw8PDTp08bGhoqFgFfu3btzJkzFy5cyM3NdXd353A4ZWVlYWFhPB4vMTHRzMxM1bXCqvXBACCTyeLi4i5fvhwZGenk5KRS2bEcPnzY3t4+ICBAbQuenp4VFRUqFVm1apWurm7lz9BoAK6KBq8DyxaBOoPIdNTW1n711VcNDQ2ffPJJREQEDmkjgL6+vqKiopMnT7a3t/v5+UVGRjo6Oo613NzcHBgYWFpaamFhQcTGjfLy8r1790ZHR0dERDCZE3cZdHZ2nj9/PjMzUyqVBgUF7dq1SxHYAEBXV1dBQUFWVtbDhw/9/f137dpla2v7zPOBgQEej9fS0pKRkWFnZ6faeKVG5HHw4MGtW7cihvaajYPPdmBDI6MP3ONgPp//9ttvs9nsjIwM5acptTewLyqx+IrRR3EPJnk6xRgZGamqqgoLCzMzM9u8eXN+fr5YLH5RSOrr65uXlycWi3F5L8/T2Njo5uYWHR3d19en8EEsFhcUFAQGBi5atCg0NLSsrOxZXCuRSMrKynbu3GlhYREYGFhQUPAiz+VyeVpamoODw5UrVxTbP5VEZRG0tLSsWLFCkRhGQbMKPteFUvNUSKXSDRs2ZGdnqzrFrr2B5bZjj6TYsAwblmEjckyOYXK5PCEhgc1mu7q6Hj16tKura9qp87fffhsaGioSiRDexDSIRKKtW7f6+vpevnx5//791tbW69atS09P7+npeeZeU1NTfHw8i8XicDgpKSnd3d3KTPoLCwttbGyOHz8+MDCgpDOqiUAmk8XExMTExEilUpUKPs9cVbDa1N7Avm/HBp9LISQkJNy8eVP59tDf329nZ3f79m1C03lSqdTHx8fIyOjTTz8VCATPUh99fX3Z2dmrV69msVg8Hu/WrVuqtuTbt28vX758bB8/NaqJoLq62t3dXSAQqFRqUjSo4Pb7mEDZFj5zvEjBarBnz56jR48qlkkQR3x8/JdffqnYpadSnDMtIpGIy+X6+vq2tbVN2w5VmF6IxeLk5OTg4OAlS5aoEGjPPiwXTv8ajYDXgWjBwcGHDh165513DAwIPFBOKBT6+fnR6fSSkpIPP/zQ1NR0x44dSUlJiqwIiuX58+d///338fHxV65c2b59+00Bc4ojk1VQcH5+vkQi2b59u5aeTjD7wetAtLVr1/b39zc0NHh4eOCbVhuLQCBgs9l0Ot3V1bWkpATx2IcJ0On0hISEgYEBPT09mPLIZGXbSnd397Fjx/bu3ft0TRMJ/igORDPSBSNdoFPUVzCVSg0ICCguLibuKImBgQGRSGRpaUmj0V5++eVXX30VR/k+49kOjmdHJtOpQBv/ySir4MzMTDab7eXlhbuXJEQQFBT0ww8/KDKeRNgXCoUsFovBYGh8QFaq3TQ1NV28eDE9Pf35JDbJ7MTGxsbW1rampobL5SoGYnzBbXWvckwxQ5jeA5lMlpKS4uXltWzZMkK9/JODy1GkY1HsAN20aRMRCsZrh4WSTDFDmN4DPp//66+/5uTkELE2hYQ4/P39JRIJjUbDMAz3sV4oFG7cuHHGFDzFkcnTx8E6Ojrvvvsum83G3S0SQmEymeHh4cbGxkSEqrgcVoILk7ShCbe1WTi4bkVYwUOiQQi6fE4ikXR2dlpZWc2GYXkSBU+4rW3BPKYxAfuufXx8rKysUCx89NFHeDkzhyHi8rmWlhYrKytdXd2ZSURMPUOYPI6ZgdvavL29EaOo2NhYvJyZwxBx+dwMT+OmZnInCL2t7WmUMtrJI9xKuxAeqmmBBIXZEwTDixRM6G1t5K20MwkRl88JBIK1a9fO6j6Y6NvayFtpZwwiLp+LiopisVi6urp4GEPlhXEwobe1kbfSzhhEXD63cuVKPM2hMbmCFbe1EQd5K602QlBuDhHNhDLkrbRaChG5OUQmUfAM3NZG3ko7M+C+1oKI3Bwikyh4BrYwoEcpRMc5JNrCrEiIkGgLROTmENGAgslbabUXInJziGhAwehRyqzdqjnnISI3h4jGBwESEiRIBZNoNyqf/EdCMqsg+2AS7YZUMIl2QyqYRLv5L7ej8hc7ftPGAAAAAElFTkSuQmCC\"></td></tr><tr><th colspan=\"6.0\">Reactant SMILES</th><td colspan=\"6.0\">O=C(F)C(F)(F)C(F)(F)F</td></tr><tr><th colspan=\"6.0\">Product SMILES</th><td colspan=\"6.0\">FC(F)=C(F)OC(F)(F)F</td></tr><tr><th colspan=\"6.0\">Matched Family</th><td colspan=\"6.0\">1,3_sigmatropic_rearrangement</td></tr><tr><th colspan=\"6.0\">Matched Template</th><td colspan=\"6.0\">['Root_N-1R!H-inRing_N-2R!H->N_N-3R!H->N_N-3CO->C_Ext-1R!H-R_Ext-4R!H-R_N-6R!H->O']</td></tr><tr><td colspan=\"12.0\">Root_N-1R!H-inRing_N-2R!H->N_N-3R!H->N_N-3CO->C_Ext-1R!H-R_Ext-4R!H-R_N-6R!H->O</td></tr><tr><td colspan=\"12.0\"><img src=\"data:image/png;base64,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\"></td></tr><tr></table>"
      ],
      "text/plain": [
       "<IPython.core.display.HTML object>"
      ]
     },
     "metadata": {},
     "output_type": "display_data"
    },
    {
     "name": "stdout",
     "output_type": "stream",
     "text": [
      "[Species(label=\"CF(O)CF2CFO\", molecule=[Molecule(smiles=\"O=C(F)C(F)(F)C(=O)F\")], molecular_weight=(144.024,'amu'))] [Species(label=\"CF2CFOCFO\", molecule=[Molecule(smiles=\"O=C(F)OC(F)=C(F)F\")], molecular_weight=(144.024,'amu'))]\n",
      "getting fam rxn list...\n",
      "This is the family reaction list before filtering aromatics: ['1,3_sigmatropic_rearrangement']\n",
      "found a family\n",
      "O=C(F)C(F)(F)C(=O)F <=> O=C(F)OC(F)=C(F)F 1,3_sigmatropic_rearrangement\n"
     ]
    },
    {
     "data": {
      "text/html": [
       "<table style=\"width:100%;table-layout:fixed;\"><tr><th colspan=\"12\" style=\"color:green\">One RMG match for this reaction</th></tr><tr><th colspan=\"12\">Source Library: PFAS_HPL_Test/1,3_sigmatropic_rearrangement/</th></tr><tr><td colspan=\"12\"><img src=\"data:image/png;base64,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\"></td></tr><tr><th colspan=\"6.0\">Reactant SMILES</th><td colspan=\"6.0\">O=C(F)C(F)(F)C(=O)F</td></tr><tr><th colspan=\"6.0\">Product SMILES</th><td colspan=\"6.0\">O=C(F)OC(F)=C(F)F</td></tr><tr><th colspan=\"6.0\">Matched Family</th><td colspan=\"6.0\">1,3_sigmatropic_rearrangement</td></tr><tr><th colspan=\"6.0\">Matched Template</th><td colspan=\"6.0\">['Root_N-1R!H-inRing_N-2R!H->N_N-3R!H->N_N-3CO->C_Ext-1R!H-R_Ext-4R!H-R_6R!H->O']</td></tr><tr><td colspan=\"12.0\">Root_N-1R!H-inRing_N-2R!H->N_N-3R!H->N_N-3CO->C_Ext-1R!H-R_Ext-4R!H-R_6R!H->O</td></tr><tr><td colspan=\"12.0\"><img src=\"data:image/png;base64,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\"></td></tr><tr></table>"
      ],
      "text/plain": [
       "<IPython.core.display.HTML object>"
      ]
     },
     "metadata": {},
     "output_type": "display_data"
    },
    {
     "name": "stdout",
     "output_type": "stream",
     "text": [
      "[Species(label=\"C2F5OCCF3\", molecule=[Molecule(smiles=\"FC(F)(F)[C]OC(F)(F)C(F)(F)F\"), Molecule(smiles=\"FC(F)(F)[C-]=[O+]C(F)(F)C(F)(F)F\")], molecular_weight=(216.029,'amu'))] [Species(label=\"CF2OC(CF3)CF3\", molecule=[Molecule(smiles=\"FC(F)=[O+][C-](C(F)(F)F)C(F)(F)F\")], molecular_weight=(216.029,'amu'))]\n",
      "getting fam rxn list...\n",
      "This is the family reaction list before filtering aromatics: []\n",
      "[Species(label=\"C3F7OCCF3\", molecule=[Molecule(smiles=\"FC(F)(F)[C]OC(F)(F)C(F)(F)C(F)(F)F\"), Molecule(smiles=\"FC(F)(F)[C-]=[O+]C(F)(F)C(F)(F)C(F)(F)F\")], molecular_weight=(266.037,'amu'))] [Species(label=\"CF2OC(CF3)C2F5\", molecule=[Molecule(smiles=\"FC(F)=[O+][C-](C(F)(F)F)C(F)(F)C(F)(F)F\")], molecular_weight=(266.037,'amu'))]\n",
      "getting fam rxn list...\n",
      "This is the family reaction list before filtering aromatics: []\n",
      "[Species(label=\"C2H5CHO\", molecule=[Molecule(smiles=\"CCC=O\")], molecular_weight=(58.0792,'amu'))] [Species(label=\"CH3OCHCH2\", molecule=[Molecule(smiles=\"C=COC\")], molecular_weight=(58.0792,'amu'))]\n",
      "getting fam rxn list...\n",
      "This is the family reaction list before filtering aromatics: ['1,3_sigmatropic_rearrangement']\n",
      "found a family\n",
      "CCC=O <=> C=COC 1,3_sigmatropic_rearrangement\n"
     ]
    },
    {
     "data": {
      "text/html": [
       "<table style=\"width:100%;table-layout:fixed;\"><tr><th colspan=\"12\" style=\"color:green\">One RMG match for this reaction</th></tr><tr><th colspan=\"12\">Source Library: PFAS_HPL_Test/1,3_sigmatropic_rearrangement/</th></tr><tr><td colspan=\"12\"><img src=\"data:image/png;base64,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\"></td></tr><tr><th colspan=\"6.0\">Reactant SMILES</th><td colspan=\"6.0\">CCC=O</td></tr><tr><th colspan=\"6.0\">Product SMILES</th><td colspan=\"6.0\">C=COC</td></tr><tr><th colspan=\"6.0\">Matched Family</th><td colspan=\"6.0\">1,3_sigmatropic_rearrangement</td></tr><tr><th colspan=\"6.0\">Matched Template</th><td colspan=\"6.0\">['Root_N-1R!H-inRing_N-2R!H->N_N-3R!H->N_N-3CO->C']</td></tr><tr><td colspan=\"12.0\">Root_N-1R!H-inRing_N-2R!H->N_N-3R!H->N_N-3CO->C</td></tr><tr><td colspan=\"12.0\"><img src=\"data:image/png;base64,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\"></td></tr><tr></table>"
      ],
      "text/plain": [
       "<IPython.core.display.HTML object>"
      ]
     },
     "metadata": {},
     "output_type": "display_data"
    },
    {
     "name": "stdout",
     "output_type": "stream",
     "text": [
      "[Species(label=\"CH(O)CH2CHO\", molecule=[Molecule(smiles=\"O=CCC=O\")], molecular_weight=(72.0626,'amu'))] [Species(label=\"CH2CHOCHO\", molecule=[Molecule(smiles=\"C=COC=O\")], molecular_weight=(72.0626,'amu'))]\n",
      "getting fam rxn list...\n",
      "This is the family reaction list before filtering aromatics: ['1,3_sigmatropic_rearrangement']\n",
      "found a family\n",
      "O=CCC=O <=> C=COC=O 1,3_sigmatropic_rearrangement\n"
     ]
    },
    {
     "data": {
      "text/html": [
       "<table style=\"width:100%;table-layout:fixed;\"><tr><th colspan=\"12\" style=\"color:green\">One RMG match for this reaction</th></tr><tr><th colspan=\"12\">Source Library: PFAS_HPL_Test/1,3_sigmatropic_rearrangement/</th></tr><tr><td colspan=\"12\"><img src=\"data:image/png;base64,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\"></td></tr><tr><th colspan=\"6.0\">Reactant SMILES</th><td colspan=\"6.0\">O=CCC=O</td></tr><tr><th colspan=\"6.0\">Product SMILES</th><td colspan=\"6.0\">C=COC=O</td></tr><tr><th colspan=\"6.0\">Matched Family</th><td colspan=\"6.0\">1,3_sigmatropic_rearrangement</td></tr><tr><th colspan=\"6.0\">Matched Template</th><td colspan=\"6.0\">['Root_N-1R!H-inRing_N-2R!H->N_N-3R!H->N_N-3CO->C']</td></tr><tr><td colspan=\"12.0\">Root_N-1R!H-inRing_N-2R!H->N_N-3R!H->N_N-3CO->C</td></tr><tr><td colspan=\"12.0\"><img src=\"data:image/png;base64,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\"></td></tr><tr></table>"
      ],
      "text/plain": [
       "<IPython.core.display.HTML object>"
      ]
     },
     "metadata": {},
     "output_type": "display_data"
    },
    {
     "name": "stdout",
     "output_type": "stream",
     "text": [
      "[Species(label=\"CH(O)CH2CH2CHO\", molecule=[Molecule(smiles=\"O=CCCC=O\")], molecular_weight=(86.0892,'amu'))] [Species(label=\"CH2CHOCH2CHO\", molecule=[Molecule(smiles=\"C=COCC=O\")], molecular_weight=(86.0892,'amu'))]\n",
      "getting fam rxn list...\n",
      "This is the family reaction list before filtering aromatics: ['1,3_sigmatropic_rearrangement']\n",
      "found a family\n",
      "O=CCCC=O <=> C=COCC=O 1,3_sigmatropic_rearrangement\n"
     ]
    },
    {
     "data": {
      "text/html": [
       "<table style=\"width:100%;table-layout:fixed;\"><tr><th colspan=\"12\" style=\"color:green\">One RMG match for this reaction</th></tr><tr><th colspan=\"12\">Source Library: PFAS_HPL_Test/1,3_sigmatropic_rearrangement/</th></tr><tr><td colspan=\"12\"><img src=\"data:image/png;base64,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\"></td></tr><tr><th colspan=\"6.0\">Reactant SMILES</th><td colspan=\"6.0\">O=CCCC=O</td></tr><tr><th colspan=\"6.0\">Product SMILES</th><td colspan=\"6.0\">C=COCC=O</td></tr><tr><th colspan=\"6.0\">Matched Family</th><td colspan=\"6.0\">1,3_sigmatropic_rearrangement</td></tr><tr><th colspan=\"6.0\">Matched Template</th><td colspan=\"6.0\">['Root_N-1R!H-inRing_N-2R!H->N_N-3R!H->N_N-3CO->C']</td></tr><tr><td colspan=\"12.0\">Root_N-1R!H-inRing_N-2R!H->N_N-3R!H->N_N-3CO->C</td></tr><tr><td colspan=\"12.0\"><img src=\"data:image/png;base64,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\"></td></tr><tr></table>"
      ],
      "text/plain": [
       "<IPython.core.display.HTML object>"
      ]
     },
     "metadata": {},
     "output_type": "display_data"
    },
    {
     "name": "stdout",
     "output_type": "stream",
     "text": [
      "[Species(label=\"C2H5OCCH3\", molecule=[Molecule(smiles=\"C[C]OCC\"), Molecule(smiles=\"C[C-]=[O+]CC\")], molecular_weight=(72.1057,'amu'))] [Species(label=\"CH2OC(CH3)CH3\", molecule=[Molecule(smiles=\"C=[O+][C-](C)C\")], molecular_weight=(72.1057,'amu'))]\n",
      "getting fam rxn list...\n",
      "This is the family reaction list before filtering aromatics: []\n",
      "[Species(label=\"C3H7OCCH3\", molecule=[Molecule(smiles=\"C[C]OCCC\"), Molecule(smiles=\"C[C-]=[O+]CCC\")], molecular_weight=(86.1323,'amu'))] [Species(label=\"CH2OC(CH3)C2H5\", molecule=[Molecule(smiles=\"C=[O+][C-](C)CC\")], molecular_weight=(86.1323,'amu'))]\n",
      "getting fam rxn list...\n",
      "This is the family reaction list before filtering aromatics: []\n"
     ]
    }
   ],
   "source": [
    "master_dict, multiple_dict, lib_fam_rxn_dict = kinetics_library_to_training_tools_modified.process_reactions(database,\n",
    "                                               libraries,\n",
    "                                               list(database.kinetics.families.keys()),\n",
    "                                               compare_kinetics=compare_kinetics,\n",
    "                                               show_all=show_all,\n",
    "                                               filter_aromatic=filter_aromatic)"
   ]
  },
  {
   "cell_type": "code",
   "execution_count": null,
   "metadata": {},
   "outputs": [],
   "source": [
    "#let's get how many are matched: \n",
    "for family, matched_reactions in master_dict['PFAS_HPL_Test/1,3_sigmatropic_rearrangement/'].items():\n",
    "    print(family, len(matched_reactions))"
   ]
  },
  {
   "cell_type": "code",
   "execution_count": null,
   "metadata": {},
   "outputs": [],
   "source": []
  },
  {
   "cell_type": "code",
   "execution_count": null,
   "metadata": {},
   "outputs": [],
   "source": []
  },
  {
   "cell_type": "code",
   "execution_count": null,
   "metadata": {},
   "outputs": [],
   "source": []
  },
  {
   "cell_type": "markdown",
   "metadata": {},
   "source": [
    "## Step 2b (optional): Review and select reactions to be added"
   ]
  },
  {
   "cell_type": "code",
   "execution_count": null,
   "metadata": {},
   "outputs": [],
   "source": [
    "review_reactions(master_dict, prompt=False)"
   ]
  },
  {
   "cell_type": "markdown",
   "metadata": {},
   "source": [
    "## Step 2c (optional): Manual processing for reactions with multiple matches"
   ]
  },
  {
   "cell_type": "code",
   "execution_count": null,
   "metadata": {},
   "outputs": [],
   "source": [
    "manual_selection(master_dict, multiple_dict, database)"
   ]
  },
  {
   "cell_type": "markdown",
   "metadata": {},
   "source": [
    "## Step 2d: Final review of reactions to be added"
   ]
  },
  {
   "cell_type": "code",
   "execution_count": null,
   "metadata": {},
   "outputs": [],
   "source": [
    "review_reactions(master_dict, prompt=False)"
   ]
  },
  {
   "cell_type": "markdown",
   "metadata": {},
   "source": [
    "## Step 3: Write the new training reactions to the database"
   ]
  },
  {
   "cell_type": "code",
   "execution_count": null,
   "metadata": {
    "tags": []
   },
   "outputs": [],
   "source": [
    "for library_name, reaction_dict in master_dict.items():\n",
    "    library = database.kinetics.libraries[library_name]\n",
    "    \n",
    "    for family_name, reaction_list in reaction_dict.items():\n",
    "        print('Adding training reactions from {0} to {1}...'.format(library_name, family_name))\n",
    "\n",
    "        family = database.kinetics.families[family_name]\n",
    "        try:\n",
    "            depository = family.get_training_depository()\n",
    "        except:\n",
    "            raise Exception('Unable to find training depository in {0}. Check that one exists.'.format(family_name))\n",
    "\n",
    "        print('Training depository previously had {} rxns. Now adding {} new rxn(s).'.format(len(depository.entries), len(reaction_list)))\n",
    "\n",
    "        ref_list = []\n",
    "        type_list = []\n",
    "        short_list = []\n",
    "        long_list = []\n",
    "        \n",
    "        for reaction in reaction_list:\n",
    "            # Get the original entry to retrieve metadata\n",
    "            orig_entry = library.entries[reaction.index]\n",
    "            short_desc = orig_entry.short_desc\n",
    "            long_desc = 'Training reaction from kinetics library: {0}\\nOriginal entry: {1}'.format(library_name, orig_entry.label)\n",
    "            if orig_entry.long_desc:\n",
    "                long_desc += '\\n' + orig_entry.long_desc\n",
    "            \n",
    "            ref_list.append(orig_entry.reference)\n",
    "            type_list.append(orig_entry.reference_type)\n",
    "            short_list.append(short_desc)\n",
    "            long_list.append(long_desc)\n",
    "            \n",
    "        family.save_training_reactions(\n",
    "            reaction_list,\n",
    "            reference=ref_list,\n",
    "            reference_type=type_list,\n",
    "            short_desc=short_list,\n",
    "            long_desc=long_list,\n",
    "        )"
   ]
  },
  {
   "cell_type": "code",
   "execution_count": null,
   "metadata": {},
   "outputs": [],
   "source": []
  }
 ],
 "metadata": {
  "anaconda-cloud": {},
  "kernelspec": {
   "display_name": "Python 3 (ipykernel)",
   "language": "python",
   "name": "python3"
  },
  "language_info": {
   "codemirror_mode": {
    "name": "ipython",
    "version": 3
   },
   "file_extension": ".py",
   "mimetype": "text/x-python",
   "name": "python",
   "nbconvert_exporter": "python",
   "pygments_lexer": "ipython3",
   "version": "3.7.16"
  }
 },
 "nbformat": 4,
 "nbformat_minor": 4
}
