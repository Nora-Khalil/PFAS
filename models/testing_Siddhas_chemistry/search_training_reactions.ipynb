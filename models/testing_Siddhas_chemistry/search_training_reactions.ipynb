{
 "cells": [
  {
   "cell_type": "code",
   "execution_count": 1,
   "id": "2200ee13-b2a2-41bf-84ef-2b4cf9d16d1e",
   "metadata": {},
   "outputs": [],
   "source": [
    "from rmgpy import settings\n",
    "from rmgpy.data.rmg import RMGDatabase\n",
    "from ipython.kinetics_library_to_training_tools import *"
   ]
  },
  {
   "cell_type": "code",
   "execution_count": 2,
   "id": "7b599bcf-3849-40dd-8831-68b4697e520b",
   "metadata": {},
   "outputs": [],
   "source": [
    "#list all the families that David added in. Includes 11 new reaction families and several updated families. I'm leaving out Cl_ and Br_Abstractions.\n",
    "new_families = ['F_Abstraction','1,2_XY_interchange','XY_Addition_MultipleBond', 'XY_elimination_hydroxyl', 'intra_halogen_migration', 'halocarbene_recombination','halocarbene_recombination_double','halocarbene_CO_dimerization','Disproportionation-Y']\n",
    "\n",
    "#set libraries to load reactions from; set to None to load all libraries\n",
    "libraries =['halogens_pdep']\n",
    "\n",
    "thermo_libraries = [\n",
    "'primaryThermoLibrary',\n",
    "'FFCM1(-)',\n",
    "'halogens',\n",
    "'CHOF_G4',\n",
    "'CHOCl_G4',\n",
    "'CHOBr_G4',\n",
    "'CHOFCl_G4',\n",
    "'CHOFBr_G4',\n",
    "'CHOFClBr_G4',\n",
    "'DFT_QCI_thermo',\n",
    "'Fluorine',\n",
    "'2-BTP_G4',\n",
    "'thermo_DFT_CCSDTF12_BAC',\n",
    "'SulfurHaynes',\n",
    "]\n",
    "\n",
    "database = RMGDatabase()\n",
    "database.load(\n",
    "    path = settings['database.directory'],\n",
    "    thermo_libraries = thermo_libraries,  # Can add others if necessary\n",
    "    kinetics_families = new_families,\n",
    "    reaction_libraries = libraries,\n",
    "    kinetics_depositories = ['training'],\n",
    ")"
   ]
  },
  {
   "cell_type": "code",
   "execution_count": 14,
   "id": "5d797911-282b-4a55-9215-b968a871715b",
   "metadata": {},
   "outputs": [
    {
     "data": {
      "text/plain": [
       "{'1,2_XY_interchange': <ReactionFamily \"1,2_XY_interchange\">,\n",
       " 'Disproportionation-Y': <ReactionFamily \"Disproportionation-Y\">,\n",
       " 'F_Abstraction': <ReactionFamily \"F_Abstraction\">,\n",
       " 'XY_Addition_MultipleBond': <ReactionFamily \"XY_Addition_MultipleBond\">,\n",
       " 'XY_elimination_hydroxyl': <ReactionFamily \"XY_elimination_hydroxyl\">,\n",
       " 'halocarbene_CO_dimerization': <ReactionFamily \"halocarbene_CO_dimerization\">,\n",
       " 'halocarbene_recombination': <ReactionFamily \"halocarbene_recombination\">,\n",
       " 'halocarbene_recombination_double': <ReactionFamily \"halocarbene_recombination_double\">,\n",
       " 'intra_halogen_migration': <ReactionFamily \"intra_halogen_migration\">}"
      ]
     },
     "execution_count": 14,
     "metadata": {},
     "output_type": "execute_result"
    }
   ],
   "source": [
    "database.kinetics.families"
   ]
  },
  {
   "cell_type": "code",
   "execution_count": 5,
   "id": "9c97da37-11a7-4bf5-a024-53eb484bc8a0",
   "metadata": {
    "collapsed": true,
    "jupyter": {
     "outputs_hidden": true
    },
    "tags": []
   },
   "outputs": [
    {
     "name": "stderr",
     "output_type": "stream",
     "text": [
      "┌ Warning: Replacing docs for `ReactionMechanismSimulator.getpairs :: Tuple{T} where T<:ReactionMechanismSimulator.AbstractReaction` in module `ReactionMechanismSimulator`\n",
      "└ @ Base.Docs docs/Docs.jl:240\n",
      "┌ Warning: Replacing docs for `ReactionMechanismSimulator.getsimilarity :: Union{Tuple{T2}, Tuple{T}, Tuple{T, T2}} where {T<:ReactionMechanismSimulator.AbstractSpecies, T2<:ReactionMechanismSimulator.AbstractSpecies}` in module `ReactionMechanismSimulator`\n",
      "└ @ Base.Docs docs/Docs.jl:240\n",
      "WARNING: method definition for getreactionindices at /work/westgroup/nora/miniconda/envs/rmg_env/share/julia/site/packages/ReactionMechanismSimulator/79Btk/src/Phase.jl:320 declares type variable Q but does not use it.\n",
      "┌ Warning: Replacing docs for `SciMLOperators.AbstractSciMLOperator :: Union{}` in module `SciMLOperators`\n",
      "└ @ Base.Docs docs/Docs.jl:240\n",
      "┌ Warning: Replacing docs for `SciMLBase.sol :: Union{Tuple, Tuple{D}, Tuple{S}, Tuple{N}, Tuple{T}} where {T, N, S, D}` in module `SciMLBase`\n",
      "└ @ Base.Docs docs/Docs.jl:240\n",
      "WARNING: using StaticArrays.setindex in module FiniteDiff conflicts with an existing identifier.\n",
      "WARNING: method definition for Inlet at /work/westgroup/nora/miniconda/envs/rmg_env/share/julia/site/packages/ReactionMechanismSimulator/79Btk/src/Interface.jl:243 declares type variable B but does not use it.\n",
      "WARNING: method definition for #ConstantTPDomain#328 at /work/westgroup/nora/miniconda/envs/rmg_env/share/julia/site/packages/ReactionMechanismSimulator/79Btk/src/Domain.jl:42 declares type variable W but does not use it.\n",
      "WARNING: method definition for #ConstantTPDomain#328 at /work/westgroup/nora/miniconda/envs/rmg_env/share/julia/site/packages/ReactionMechanismSimulator/79Btk/src/Domain.jl:42 declares type variable Q but does not use it.\n",
      "WARNING: method definition for #ConstantTPDomain#328 at /work/westgroup/nora/miniconda/envs/rmg_env/share/julia/site/packages/ReactionMechanismSimulator/79Btk/src/Domain.jl:42 declares type variable E but does not use it.\n",
      "WARNING: method definition for #ConstantVDomain#339 at /work/westgroup/nora/miniconda/envs/rmg_env/share/julia/site/packages/ReactionMechanismSimulator/79Btk/src/Domain.jl:120 declares type variable Q but does not use it.\n",
      "WARNING: method definition for #ConstantPDomain#348 at /work/westgroup/nora/miniconda/envs/rmg_env/share/julia/site/packages/ReactionMechanismSimulator/79Btk/src/Domain.jl:188 declares type variable Q but does not use it.\n",
      "WARNING: method definition for #ParametrizedTPDomain#357 at /work/westgroup/nora/miniconda/envs/rmg_env/share/julia/site/packages/ReactionMechanismSimulator/79Btk/src/Domain.jl:257 declares type variable Q but does not use it.\n",
      "WARNING: method definition for #ParametrizedVDomain#366 at /work/westgroup/nora/miniconda/envs/rmg_env/share/julia/site/packages/ReactionMechanismSimulator/79Btk/src/Domain.jl:337 declares type variable Q but does not use it.\n",
      "WARNING: method definition for #ParametrizedVDomain#366 at /work/westgroup/nora/miniconda/envs/rmg_env/share/julia/site/packages/ReactionMechanismSimulator/79Btk/src/Domain.jl:337 declares type variable E but does not use it.\n",
      "WARNING: method definition for #ParametrizedPDomain#375 at /work/westgroup/nora/miniconda/envs/rmg_env/share/julia/site/packages/ReactionMechanismSimulator/79Btk/src/Domain.jl:414 declares type variable Q but does not use it.\n",
      "WARNING: method definition for #ParametrizedPDomain#375 at /work/westgroup/nora/miniconda/envs/rmg_env/share/julia/site/packages/ReactionMechanismSimulator/79Btk/src/Domain.jl:414 declares type variable E but does not use it.\n",
      "WARNING: method definition for #ConstantTVDomain#384 at /work/westgroup/nora/miniconda/envs/rmg_env/share/julia/site/packages/ReactionMechanismSimulator/79Btk/src/Domain.jl:500 declares type variable W but does not use it.\n",
      "WARNING: method definition for #ConstantTVDomain#384 at /work/westgroup/nora/miniconda/envs/rmg_env/share/julia/site/packages/ReactionMechanismSimulator/79Btk/src/Domain.jl:500 declares type variable Q but does not use it.\n",
      "WARNING: method definition for #ParametrizedTConstantVDomain#395 at /work/westgroup/nora/miniconda/envs/rmg_env/share/julia/site/packages/ReactionMechanismSimulator/79Btk/src/Domain.jl:580 declares type variable Q but does not use it.\n",
      "WARNING: method definition for #ConstantTAPhiDomain#404 at /work/westgroup/nora/miniconda/envs/rmg_env/share/julia/site/packages/ReactionMechanismSimulator/79Btk/src/Domain.jl:660 declares type variable W but does not use it.\n",
      "WARNING: method definition for #ConstantTAPhiDomain#404 at /work/westgroup/nora/miniconda/envs/rmg_env/share/julia/site/packages/ReactionMechanismSimulator/79Btk/src/Domain.jl:660 declares type variable E but does not use it.\n",
      "WARNING: method definition for #FragmentBasedConstantTrhoDomain#413 at /work/westgroup/nora/miniconda/envs/rmg_env/share/julia/site/packages/ReactionMechanismSimulator/79Btk/src/Domain.jl:747 declares type variable X3 but does not use it.\n",
      "WARNING: method definition for #FragmentBasedConstantTrhoDomain#413 at /work/westgroup/nora/miniconda/envs/rmg_env/share/julia/site/packages/ReactionMechanismSimulator/79Btk/src/Domain.jl:747 declares type variable E1 but does not use it.\n",
      "WARNING: method definition for #FragmentBasedConstantTrhoDomain#413 at /work/westgroup/nora/miniconda/envs/rmg_env/share/julia/site/packages/ReactionMechanismSimulator/79Btk/src/Domain.jl:747 declares type variable X1 but does not use it.\n",
      "WARNING: method definition for calcthermo at /work/westgroup/nora/miniconda/envs/rmg_env/share/julia/site/packages/ReactionMechanismSimulator/79Btk/src/Domain.jl:1470 declares type variable J but does not use it.\n",
      "WARNING: method definition for calcthermo at /work/westgroup/nora/miniconda/envs/rmg_env/share/julia/site/packages/ReactionMechanismSimulator/79Btk/src/Domain.jl:1542 declares type variable J but does not use it.\n",
      "WARNING: method definition for calcthermo at /work/westgroup/nora/miniconda/envs/rmg_env/share/julia/site/packages/ReactionMechanismSimulator/79Btk/src/Domain.jl:1629 declares type variable J but does not use it.\n",
      "WARNING: method definition for #calcdomainderivatives!#466 at /work/westgroup/nora/miniconda/envs/rmg_env/share/julia/site/packages/ReactionMechanismSimulator/79Btk/src/Domain.jl:1669 declares type variable Y but does not use it.\n",
      "WARNING: method definition for #calcdomainderivatives!#466 at /work/westgroup/nora/miniconda/envs/rmg_env/share/julia/site/packages/ReactionMechanismSimulator/79Btk/src/Domain.jl:1669 declares type variable W but does not use it.\n",
      "WARNING: method definition for #calcdomainderivatives!#467 at /work/westgroup/nora/miniconda/envs/rmg_env/share/julia/site/packages/ReactionMechanismSimulator/79Btk/src/Domain.jl:1693 declares type variable Y but does not use it.\n",
      "WARNING: method definition for #calcdomainderivatives!#467 at /work/westgroup/nora/miniconda/envs/rmg_env/share/julia/site/packages/ReactionMechanismSimulator/79Btk/src/Domain.jl:1693 declares type variable W but does not use it.\n",
      "WARNING: method definition for jacobianpnsderiv! at /work/westgroup/nora/miniconda/envs/rmg_env/share/julia/site/packages/ReactionMechanismSimulator/79Btk/src/Domain.jl:2925 declares type variable Q3 but does not use it.\n",
      "WARNING: method definition for jacobianpnsderiv! at /work/westgroup/nora/miniconda/envs/rmg_env/share/julia/site/packages/ReactionMechanismSimulator/79Btk/src/Domain.jl:3034 declares type variable Q3 but does not use it.\n",
      "WARNING: method definition for jacobianpnsderiv! at /work/westgroup/nora/miniconda/envs/rmg_env/share/julia/site/packages/ReactionMechanismSimulator/79Btk/src/Domain.jl:3120 declares type variable Q3 but does not use it.\n",
      "WARNING: method definition for #Reactor#601 at /work/westgroup/nora/miniconda/envs/rmg_env/share/julia/site/packages/ReactionMechanismSimulator/79Btk/src/Reactor.jl:255 declares type variable F but does not use it.\n",
      "WARNING: method definition for addreactionratecontributions! at /work/westgroup/nora/miniconda/envs/rmg_env/share/julia/site/packages/ReactionMechanismSimulator/79Btk/src/Reactor.jl:448 declares type variable T but does not use it.\n",
      "WARNING: method definition for addreactionratecontributions! at /work/westgroup/nora/miniconda/envs/rmg_env/share/julia/site/packages/ReactionMechanismSimulator/79Btk/src/Reactor.jl:492 declares type variable W2 but does not use it.\n",
      "WARNING: method definition for addreactionratecontributions! at /work/westgroup/nora/miniconda/envs/rmg_env/share/julia/site/packages/ReactionMechanismSimulator/79Btk/src/Reactor.jl:492 declares type variable T but does not use it.\n",
      "WARNING: method definition for addreactionratecontributions! at /work/westgroup/nora/miniconda/envs/rmg_env/share/julia/site/packages/ReactionMechanismSimulator/79Btk/src/Reactor.jl:539 declares type variable T but does not use it.\n",
      "WARNING: method definition for addreactionratecontributionsforwardreverse! at /work/westgroup/nora/miniconda/envs/rmg_env/share/julia/site/packages/ReactionMechanismSimulator/79Btk/src/Reactor.jl:584 declares type variable T but does not use it.\n",
      "WARNING: method definition for #dydtreactor!#609 at /work/westgroup/nora/miniconda/envs/rmg_env/share/julia/site/packages/ReactionMechanismSimulator/79Btk/src/Reactor.jl:645 declares type variable J but does not use it.\n",
      "WARNING: method definition for jacobianyforwarddiff at /work/westgroup/nora/miniconda/envs/rmg_env/share/julia/site/packages/ReactionMechanismSimulator/79Btk/src/Reactor.jl:782 declares type variable Q but does not use it.\n",
      "WARNING: method definition for jacobianpforwarddiff at /work/westgroup/nora/miniconda/envs/rmg_env/share/julia/site/packages/ReactionMechanismSimulator/79Btk/src/Reactor.jl:834 declares type variable Q but does not use it.\n",
      "┌ Warning: Error requiring `BandedMatrices` from `FiniteDiff`\n",
      "│   exception =\n",
      "│    LoadError: UndefVarError: BlockBandedMatrices not defined\n",
      "│    Stacktrace:\n",
      "│      [1] top-level scope\n",
      "│        @ /work/westgroup/nora/miniconda/envs/rmg_env/share/julia/site/packages/FiniteDiff/WOowp/ext/FiniteDiffBandedMatricesExt.jl:8\n",
      "│      [2] include(mod::Module, _path::String)\n",
      "│        @ Base ./Base.jl:419\n",
      "│      [3] include(x::String)\n",
      "│        @ FiniteDiff /work/westgroup/nora/miniconda/envs/rmg_env/share/julia/site/packages/FiniteDiff/WOowp/src/FiniteDiff.jl:1\n",
      "│      [4] macro expansion\n",
      "│        @ /work/westgroup/nora/miniconda/envs/rmg_env/share/julia/site/packages/Requires/Z8rfN/src/Requires.jl:40 [inlined]\n",
      "│      [5] top-level scope\n",
      "│        @ /work/westgroup/nora/miniconda/envs/rmg_env/share/julia/site/packages/FiniteDiff/WOowp/src/FiniteDiff.jl:45\n",
      "│      [6] eval\n",
      "│        @ ./boot.jl:368 [inlined]\n",
      "│      [7] eval\n",
      "│        @ /work/westgroup/nora/miniconda/envs/rmg_env/share/julia/site/packages/FiniteDiff/WOowp/src/FiniteDiff.jl:1 [inlined]\n",
      "│      [8] (::FiniteDiff.var\"#40#46\")()\n",
      "│        @ FiniteDiff /work/westgroup/nora/miniconda/envs/rmg_env/share/julia/site/packages/Requires/Z8rfN/src/require.jl:101\n",
      "│      [9] macro expansion\n",
      "│        @ timing.jl:382 [inlined]\n",
      "│     [10] err(f::Any, listener::Module, modname::String, file::String, line::Any)\n",
      "│        @ Requires /work/westgroup/nora/miniconda/envs/rmg_env/share/julia/site/packages/Requires/Z8rfN/src/require.jl:47\n",
      "│     [11] (::FiniteDiff.var\"#39#45\")()\n",
      "│        @ FiniteDiff /work/westgroup/nora/miniconda/envs/rmg_env/share/julia/site/packages/Requires/Z8rfN/src/require.jl:100\n",
      "│     [12] withpath(f::Any, path::String)\n",
      "│        @ Requires /work/westgroup/nora/miniconda/envs/rmg_env/share/julia/site/packages/Requires/Z8rfN/src/require.jl:37\n",
      "│     [13] (::FiniteDiff.var\"#38#44\")()\n",
      "│        @ FiniteDiff /work/westgroup/nora/miniconda/envs/rmg_env/share/julia/site/packages/Requires/Z8rfN/src/require.jl:99\n",
      "│     [14] #invokelatest#2\n",
      "│        @ ./essentials.jl:729 [inlined]\n",
      "│     [15] invokelatest\n",
      "│        @ ./essentials.jl:726 [inlined]\n",
      "│     [16] foreach(f::typeof(Base.invokelatest), itr::Vector{Function})\n",
      "│        @ Base ./abstractarray.jl:2774\n",
      "│     [17] loadpkg(pkg::Base.PkgId)\n",
      "│        @ Requires /work/westgroup/nora/miniconda/envs/rmg_env/share/julia/site/packages/Requires/Z8rfN/src/require.jl:27\n",
      "│     [18] #invokelatest#2\n",
      "│        @ ./essentials.jl:729 [inlined]\n",
      "│     [19] invokelatest\n",
      "│        @ ./essentials.jl:726 [inlined]\n",
      "│     [20] run_package_callbacks(modkey::Base.PkgId)\n",
      "│        @ Base ./loading.jl:869\n",
      "│     [21] _require_prelocked(uuidkey::Base.PkgId)\n",
      "│        @ Base ./loading.jl:1206\n",
      "│     [22] macro expansion\n",
      "│        @ ./loading.jl:1180 [inlined]\n",
      "│     [23] macro expansion\n",
      "│        @ ./lock.jl:223 [inlined]\n",
      "│     [24] require(into::Module, mod::Symbol)\n",
      "│        @ Base ./loading.jl:1144\n",
      "│     [25] include\n",
      "│        @ ./Base.jl:419 [inlined]\n",
      "│     [26] _require(pkg::Base.PkgId)\n",
      "│        @ Base ./loading.jl:1367\n",
      "│     [27] _require_prelocked(uuidkey::Base.PkgId)\n",
      "│        @ Base ./loading.jl:1200\n",
      "│     [28] macro expansion\n",
      "│        @ ./loading.jl:1180 [inlined]\n",
      "│     [29] macro expansion\n",
      "│        @ ./lock.jl:223 [inlined]\n",
      "│     [30] require(into::Module, mod::Symbol)\n",
      "│        @ Base ./loading.jl:1144\n",
      "│     [31] include\n",
      "│        @ ./Base.jl:419 [in"
     ]
    }
   ],
   "source": [
    "#can loop through above families and get each training set\n",
    "training_reactions=database.kinetics.families['halocarbene_CO_dimerization'].get_training_set(thermo_database=database.thermo)\n"
   ]
  },
  {
   "cell_type": "code",
   "execution_count": 12,
   "id": "73cdda42-0b86-4e98-a56b-5605b4e96d1c",
   "metadata": {},
   "outputs": [
    {
     "name": "stdout",
     "output_type": "stream",
     "text": [
      "C3H3BrO <=> C2H3Br + CO\n",
      "C3H3ClO <=> C2H3Cl + CO\n",
      "C3H3FO <=> C2H3F + CO\n"
     ]
    }
   ],
   "source": [
    "#each training set has each training reaction used in that kinetic family. Can screen here for perfluoro compounds\n",
    "for training_rxn in training_reactions: \n",
    "    print(training_rxn)\n",
    "    #can vet through "
   ]
  },
  {
   "cell_type": "code",
   "execution_count": null,
   "id": "23d3b9e2-1323-40f7-8b35-49f5154e3467",
   "metadata": {},
   "outputs": [],
   "source": []
  }
 ],
 "metadata": {
  "kernelspec": {
   "display_name": "Python 3 (ipykernel)",
   "language": "python",
   "name": "python3"
  },
  "language_info": {
   "codemirror_mode": {
    "name": "ipython",
    "version": 3
   },
   "file_extension": ".py",
   "mimetype": "text/x-python",
   "name": "python",
   "nbconvert_exporter": "python",
   "pygments_lexer": "ipython3",
   "version": "3.7.16"
  }
 },
 "nbformat": 4,
 "nbformat_minor": 5
}
