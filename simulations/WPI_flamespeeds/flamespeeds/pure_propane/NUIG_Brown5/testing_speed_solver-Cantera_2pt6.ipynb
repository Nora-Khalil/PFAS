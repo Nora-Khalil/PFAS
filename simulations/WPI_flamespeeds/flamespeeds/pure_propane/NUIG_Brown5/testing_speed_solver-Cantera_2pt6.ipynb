{
 "cells": [
  {
   "cell_type": "code",
   "execution_count": 1,
   "id": "2a2726b6-6b3a-4a59-9889-8883cf1e38af",
   "metadata": {},
   "outputs": [
    {
     "name": "stdout",
     "output_type": "stream",
     "text": [
      "Running Cantera Version: 2.6.0\n"
     ]
    }
   ],
   "source": [
    "import cantera as ct\n",
    "import numpy as np\n",
    "import pandas as pd\n",
    "import csv\n",
    "import sys\n",
    "import os\n",
    "\n",
    "print(\"Running Cantera Version: \" + str(ct.__version__ ))"
   ]
  },
  {
   "cell_type": "code",
   "execution_count": 2,
   "id": "3a67a0a1-a6e5-4740-8e54-0a04be6f7ec1",
   "metadata": {},
   "outputs": [
    {
     "name": "stderr",
     "output_type": "stream",
     "text": [
      "/work/westgroup/nora/miniconda/envs/rmg_env/lib/python3.7/site-packages/ipykernel_launcher.py:4: UserWarning: NasaPoly2::validate: \n",
      "For species OHV, discontinuity in h/RT detected at Tmid = 1000.0\n",
      "\tValue computed using low-temperature polynomial:  53.62056162666667\n",
      "\tValue computed using high-temperature polynomial: 53.5841554314\n",
      "\n",
      "  after removing the cwd from sys.path.\n",
      "/work/westgroup/nora/miniconda/envs/rmg_env/lib/python3.7/site-packages/ipykernel_launcher.py:4: UserWarning: NasaPoly2::validate: \n",
      "For species CHV, discontinuity in h/RT detected at Tmid = 1000.0\n",
      "\tValue computed using low-temperature polynomial:  107.5046684\n",
      "\tValue computed using high-temperature polynomial: 107.34847808033332\n",
      "\n",
      "  after removing the cwd from sys.path.\n",
      "/work/westgroup/nora/miniconda/envs/rmg_env/lib/python3.7/site-packages/ipykernel_launcher.py:4: UserWarning: NasaPoly2::validate: \n",
      "For species KCHOCH2CO3H, discontinuity in cp/R detected at Tmid = 1000.0\n",
      "\tValue computed using low-temperature polynomial:  22.934254100000004\n",
      "\tValue computed using high-temperature polynomial: 23.200262099999996\n",
      "\n",
      "  after removing the cwd from sys.path.\n"
     ]
    },
    {
     "ename": "CanteraError",
     "evalue": "\n*******************************************************************************\nInputFileError thrown by Kinetics::checkDuplicates:\nError on lines 54460 and 54493 of /work/westgroup/nora/Code/projects/PFAS/simulations/WPI_flamespeeds/models/NUIG_Brown5.yaml:\nUndeclared duplicate reactions detected:\nReaction 5: H2 + M <=> 2 H + M\nReaction 1: 2 H + O2 <=> H2 + O2\n\n|  Line |\n|  54455 |     note: '\\AUTHOR: WARNING !\\REF: WARNING !\\COMMENT: C4H4'\n|  54456 | \n|  54457 | \n|  54458 | reactions:\n|  54459 | \n>  54460 > - equation: H2 + M <=> H + H + M  # Reaction 1\n            ^\n|  54461 |   type: three-body\n|  54462 |   rate-constant: {A: 4.577e+19, b: -1.4, Ea: 1.044e+05}\n|  54463 |   efficiencies: {HE: 0.83, CO: 1.9, CH4: 2.0, H2: 2.5, C2H6: 3.0, CO2: 3.8,\n...\n|  54488 |     CHEM REF DATA 2005, 34, 757-1397. !\\Comment: WARNING'\n|  54489 | - equation: H2 + OH <=> H + H2O  # Reaction 4\n|  54490 |   rate-constant: {A: 2.2e+08, b: 1.51, Ea: 3430.0}\n|  54491 |   note: '\\Author: UB !\\Ref: J.V.MICHAEL SUTHERLAND, J.PHYS.CHEM. 92(1988)\n|  54492 |     3853 !\\Comment: WARNING'\n>  54493 > - equation: H + O2 + H <=> H2 + O2  # Reaction 5\n            ^\n|  54494 |   rate-constant: {A: 8.8e+22, b: -1.835, Ea: 800.0}\n|  54495 |   note: |-\n|  54496 |     ___________________________________________________________________________________________________________\n*******************************************************************************\n",
     "output_type": "error",
     "traceback": [
      "\u001b[0;31m---------------------------------------------------------------------------\u001b[0m",
      "\u001b[0;31mCanteraError\u001b[0m                              Traceback (most recent call last)",
      "\u001b[0;32m/tmp/ipykernel_39021/882895405.py\u001b[0m in \u001b[0;36m<module>\u001b[0;34m\u001b[0m\n\u001b[1;32m      2\u001b[0m \u001b[0mPo\u001b[0m \u001b[0;34m=\u001b[0m \u001b[0mct\u001b[0m\u001b[0;34m.\u001b[0m\u001b[0mone_atm\u001b[0m\u001b[0;34m\u001b[0m\u001b[0;34m\u001b[0m\u001b[0m\n\u001b[1;32m      3\u001b[0m \u001b[0mpath_to_mech\u001b[0m \u001b[0;34m=\u001b[0m \u001b[0;34m'/work/westgroup/nora/Code/projects/PFAS/simulations/WPI_flamespeeds/models/NUIG_Brown5.yaml'\u001b[0m\u001b[0;34m\u001b[0m\u001b[0;34m\u001b[0m\u001b[0m\n\u001b[0;32m----> 4\u001b[0;31m \u001b[0mgas_full\u001b[0m \u001b[0;34m=\u001b[0m \u001b[0mct\u001b[0m\u001b[0;34m.\u001b[0m\u001b[0mSolution\u001b[0m\u001b[0;34m(\u001b[0m\u001b[0mpath_to_mech\u001b[0m\u001b[0;34m)\u001b[0m\u001b[0;34m\u001b[0m\u001b[0;34m\u001b[0m\u001b[0m\n\u001b[0m\u001b[1;32m      5\u001b[0m \u001b[0;31m#####\u001b[0m\u001b[0;34m\u001b[0m\u001b[0;34m\u001b[0m\u001b[0;34m\u001b[0m\u001b[0m\n\u001b[1;32m      6\u001b[0m \u001b[0;31m# use this toggle to use either the full mechanism (True) or a smaller version (False)\u001b[0m\u001b[0;34m\u001b[0m\u001b[0;34m\u001b[0m\u001b[0;34m\u001b[0m\u001b[0m\n",
      "\u001b[0;32mbuild/python/cantera/base.pyx\u001b[0m in \u001b[0;36mcantera._cantera._SolutionBase.__cinit__\u001b[0;34m()\u001b[0m\n",
      "\u001b[0;32mbuild/python/cantera/base.pyx\u001b[0m in \u001b[0;36mcantera._cantera._SolutionBase._cinit\u001b[0;34m()\u001b[0m\n",
      "\u001b[0;32mbuild/python/cantera/base.pyx\u001b[0m in \u001b[0;36mcantera._cantera._SolutionBase._init_yaml\u001b[0;34m()\u001b[0m\n",
      "\u001b[0;31mCanteraError\u001b[0m: \n*******************************************************************************\nInputFileError thrown by Kinetics::checkDuplicates:\nError on lines 54460 and 54493 of /work/westgroup/nora/Code/projects/PFAS/simulations/WPI_flamespeeds/models/NUIG_Brown5.yaml:\nUndeclared duplicate reactions detected:\nReaction 5: H2 + M <=> 2 H + M\nReaction 1: 2 H + O2 <=> H2 + O2\n\n|  Line |\n|  54455 |     note: '\\AUTHOR: WARNING !\\REF: WARNING !\\COMMENT: C4H4'\n|  54456 | \n|  54457 | \n|  54458 | reactions:\n|  54459 | \n>  54460 > - equation: H2 + M <=> H + H + M  # Reaction 1\n            ^\n|  54461 |   type: three-body\n|  54462 |   rate-constant: {A: 4.577e+19, b: -1.4, Ea: 1.044e+05}\n|  54463 |   efficiencies: {HE: 0.83, CO: 1.9, CH4: 2.0, H2: 2.5, C2H6: 3.0, CO2: 3.8,\n...\n|  54488 |     CHEM REF DATA 2005, 34, 757-1397. !\\Comment: WARNING'\n|  54489 | - equation: H2 + OH <=> H + H2O  # Reaction 4\n|  54490 |   rate-constant: {A: 2.2e+08, b: 1.51, Ea: 3430.0}\n|  54491 |   note: '\\Author: UB !\\Ref: J.V.MICHAEL SUTHERLAND, J.PHYS.CHEM. 92(1988)\n|  54492 |     3853 !\\Comment: WARNING'\n>  54493 > - equation: H + O2 + H <=> H2 + O2  # Reaction 5\n            ^\n|  54494 |   rate-constant: {A: 8.8e+22, b: -1.835, Ea: 800.0}\n|  54495 |   note: |-\n|  54496 |     ___________________________________________________________________________________________________________\n*******************************************************************************\n"
     ]
    }
   ],
   "source": [
    "To = 298\n",
    "Po = ct.one_atm\n",
    "path_to_mech = '/work/westgroup/nora/Code/projects/PFAS/simulations/WPI_flamespeeds/models/NUIG_Brown5.yaml'\n",
    "gas_full = ct.Solution(path_to_mech)\n",
    "#####\n",
    "# use this toggle to use either the full mechanism (True) or a smaller version (False)\n",
    "FullMech = False\n",
    "#FullMech = True\n",
    "\n",
    "if FullMech==False:\n",
    "    \n",
    "    #exclude = ['CH2CCHCH2CHCH2'] #add specific species here. (for illustration purposes, since the Max_N_oxygen below would eliminate it anyway)\n",
    "    max_N_carbon = 4\n",
    "    max_N_oxygen = 3\n",
    "    \n",
    "    all_species = ct.Species.listFromFile(path_to_mech)\n",
    "    species = []\n",
    "    # Filter species\n",
    "    for S in all_species:\n",
    "#         if S.name in exclude:\n",
    "#             print( \"excluding %s\"%(S.name) )\n",
    "#             continue #skip this species\n",
    "        comp = S.composition\n",
    "        if S.name in ['C6H9', 'C6H10']:\n",
    "            continue\n",
    "        if 'C' in comp and comp['C']> max_N_carbon:\n",
    "            print( \"excluding %s\"%(S.name) )\n",
    "            continue\n",
    "        if 'O' in comp and comp['O']> max_N_oxygen:\n",
    "            print( \"excluding %s\"%(S.name) )\n",
    "            continue            \n",
    "#         if 'He' in comp: # Exclude Helium\n",
    "#             print( \"excluding %s\"%(S.name) )\n",
    "#             continue\n",
    "#         if 'Ar' in comp: # Exclude Argon\n",
    "#             print( \"excluding %s\"%(S.name) )\n",
    "#             continue\n",
    "#         if 'Kr' in comp: # Exclude Krypton\n",
    "#             print( \"excluding %s\"%(S.name) )\n",
    "#             continue   \n",
    "        #print S.name    \n",
    "        species.append(S)\n",
    "\n",
    "    species_names = {S.name for S in species}\n",
    "    # Filter reactions, keeping only those that only involve the selected species\n",
    "    all_reactions = gas_full.reactions()\n",
    "    reactions = []\n",
    "\n",
    "    for R in all_reactions:\n",
    "        if not all(reactant in species_names for reactant in R.reactants):\n",
    "            continue\n",
    "        if not all(product in species_names for product in R.products):\n",
    "            continue\n",
    "        reactions.append(R)\n",
    "\n",
    "    gas_small = ct.Solution(thermo='IdealGas', kinetics='GasKinetics',\n",
    "                       species=species, reactions=reactions)\n",
    "    gas = gas_small    \n",
    "else:\n",
    "    gas = gas_full\n",
    "    \n",
    "print( \"final mechanism has %d species and %d reactions\"%(gas.n_species, gas.n_reactions) )\n",
    "print(path_to_mech)"
   ]
  },
  {
   "cell_type": "code",
   "execution_count": null,
   "id": "058d4d4b-e79b-410a-ae38-c024b83d2ac1",
   "metadata": {},
   "outputs": [],
   "source": []
  },
  {
   "cell_type": "code",
   "execution_count": null,
   "id": "4f25630d-c27e-4533-b3fa-fb7507c447de",
   "metadata": {},
   "outputs": [],
   "source": []
  },
  {
   "cell_type": "code",
   "execution_count": 3,
   "id": "a8392c47-401c-451d-a5c1-e6a26ce48aec",
   "metadata": {},
   "outputs": [],
   "source": [
    "csv_test = '1.9615384615384617_test.csv'"
   ]
  },
  {
   "cell_type": "code",
   "execution_count": 8,
   "id": "ba427f64-9b71-44d8-bf7a-59c5fb5e5257",
   "metadata": {},
   "outputs": [],
   "source": [
    "rewritten = []\n",
    "with open(csv_test, 'r') as f: \n",
    "    lines = f.readlines() \n",
    "    for line in lines: \n",
    "        new_line = line.replace('Y_', '')\n",
    "        rewritten.append(new_line)\n",
    "new_file_name = csv_test.replace('test.csv', 'edited_names.csv')\n",
    "with open(new_file_name, 'w') as f: \n",
    "    f.writelines(rewritten)\n",
    "        "
   ]
  },
  {
   "cell_type": "code",
   "execution_count": 17,
   "id": "2b060bdc-031a-4aa1-98a7-275cd75f66c2",
   "metadata": {},
   "outputs": [
    {
     "ename": "FileNotFoundError",
     "evalue": "[Errno 2] No such file or directory: '1.csv'",
     "output_type": "error",
     "traceback": [
      "\u001b[0;31m---------------------------------------------------------------------------\u001b[0m",
      "\u001b[0;31mFileNotFoundError\u001b[0m                         Traceback (most recent call last)",
      "\u001b[0;32m/tmp/ipykernel_39021/403277120.py\u001b[0m in \u001b[0;36m<module>\u001b[0;34m\u001b[0m\n\u001b[1;32m      1\u001b[0m \u001b[0mphi\u001b[0m \u001b[0;34m=\u001b[0m\u001b[0;36m1\u001b[0m\u001b[0;34m\u001b[0m\u001b[0;34m\u001b[0m\u001b[0m\n\u001b[0;32m----> 2\u001b[0;31m \u001b[0;32mwith\u001b[0m \u001b[0mopen\u001b[0m\u001b[0;34m(\u001b[0m\u001b[0;34mf'{phi}.csv'\u001b[0m\u001b[0;34m,\u001b[0m \u001b[0;34m'r'\u001b[0m\u001b[0;34m)\u001b[0m \u001b[0;32mas\u001b[0m \u001b[0mf\u001b[0m\u001b[0;34m:\u001b[0m\u001b[0;34m\u001b[0m\u001b[0;34m\u001b[0m\u001b[0m\n\u001b[0m\u001b[1;32m      3\u001b[0m     \u001b[0mlines\u001b[0m \u001b[0;34m=\u001b[0m \u001b[0mf\u001b[0m\u001b[0;34m.\u001b[0m\u001b[0mreadlines\u001b[0m\u001b[0;34m(\u001b[0m\u001b[0;34m)\u001b[0m\u001b[0;34m\u001b[0m\u001b[0;34m\u001b[0m\u001b[0m\n",
      "\u001b[0;31mFileNotFoundError\u001b[0m: [Errno 2] No such file or directory: '1.csv'"
     ]
    }
   ],
   "source": [
    "phi =1 \n",
    "with open(f'{phi}.csv', 'r') as f: \n",
    "    lines = f.readlines() "
   ]
  },
  {
   "cell_type": "code",
   "execution_count": 19,
   "id": "fb515d9e-e8b5-402b-98b7-0deb49fbe063",
   "metadata": {},
   "outputs": [
    {
     "data": {
      "text/plain": [
       "'{phi}ed_n.csv'"
      ]
     },
     "execution_count": 19,
     "metadata": {},
     "output_type": "execute_result"
    }
   ],
   "source": [
    "mole"
   ]
  },
  {
   "cell_type": "code",
   "execution_count": 20,
   "id": "03246d46-02d3-4121-a8c2-24503f9c5c03",
   "metadata": {},
   "outputs": [
    {
     "name": "stdout",
     "output_type": "stream",
     "text": [
      "0\n",
      "1\n",
      "2\n",
      "3\n",
      "4\n",
      "5\n",
      "6\n",
      "7\n",
      "8\n",
      "9\n",
      "10\n",
      "11\n",
      "12\n",
      "13\n",
      "14\n",
      "15\n",
      "16\n",
      "17\n",
      "18\n",
      "19\n",
      "20\n",
      "21\n",
      "22\n",
      "23\n",
      "24\n",
      "25\n",
      "26\n",
      "27\n",
      "28\n",
      "29\n",
      "30\n",
      "31\n",
      "32\n",
      "33\n",
      "34\n",
      "35\n",
      "36\n",
      "37\n",
      "38\n",
      "39\n"
     ]
    }
   ],
   "source": [
    "mole_fractions = list(np.linspace(0.1, 0.4, 40))   #mole fraction of propane\n",
    "\n",
    "for pos_in_list in range(0, len(mole_fractions)):\n",
    "    print(pos_in_list)"
   ]
  },
  {
   "cell_type": "code",
   "execution_count": null,
   "id": "3477837c-522b-4fe8-995a-8c55a37e7542",
   "metadata": {},
   "outputs": [],
   "source": []
  }
 ],
 "metadata": {
  "kernelspec": {
   "display_name": "rmg_env",
   "language": "python",
   "name": "rmg_env"
  },
  "language_info": {
   "codemirror_mode": {
    "name": "ipython",
    "version": 3
   },
   "file_extension": ".py",
   "mimetype": "text/x-python",
   "name": "python",
   "nbconvert_exporter": "python",
   "pygments_lexer": "ipython3",
   "version": "3.7.16"
  }
 },
 "nbformat": 4,
 "nbformat_minor": 5
}
