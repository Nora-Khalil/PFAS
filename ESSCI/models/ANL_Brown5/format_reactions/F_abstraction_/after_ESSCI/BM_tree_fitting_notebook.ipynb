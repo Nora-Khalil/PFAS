{
 "cells": [
  {
   "cell_type": "code",
   "execution_count": 1,
   "metadata": {
    "scrolled": true
   },
   "outputs": [],
   "source": [
    "import rmgpy\n",
    "import numpy as np\n",
    "from rmgpy.molecule.molecule import *\n",
    "from rmgpy.species import *\n",
    "from rmgpy.chemkin import *\n",
    "from rmgpy.data.rmg import RMGDatabase\n",
    "from IPython.display import display\n",
    "from rmgpy.data.thermo import ThermoLibrary\n",
    "from rmgpy.rmg.react import react\n",
    "from rmgpy.species import Species\n",
    "from rmgpy.reaction import Reaction\n",
    "from rmgpy.data.rmg import get_db\n",
    "from rmgpy.molecule.group import Group\n",
    "from rmgpy.kinetics.arrhenius import ArrheniusBM\n",
    "from rmgpy import settings\n",
    "import time\n",
    "import matplotlib.pyplot as plt\n",
    "import matplotlib"
   ]
  },
  {
   "cell_type": "code",
   "execution_count": 2,
   "metadata": {},
   "outputs": [
    {
     "data": {
      "text/plain": [
       "{'database.directory': '/home/khalil.nor/Code/RMG-database/input',\n",
       " 'test_data.directory': '/home/khalil.nor/Code/RMG-Py/rmgpy/test_data'}"
      ]
     },
     "execution_count": 2,
     "metadata": {},
     "output_type": "execute_result"
    }
   ],
   "source": [
    "settings"
   ]
  },
  {
   "cell_type": "code",
   "execution_count": 3,
   "metadata": {},
   "outputs": [],
   "source": [
    "thermo_libs = [\n",
    "'C1_C2_Fluorine',\n",
    "'primaryThermoLibrary',\n",
    "'Fluorine',\n",
    "'FFCM1(-)',\n",
    "'halogens',\n",
    "'CHOF_G4',\n",
    "'CHOCl_G4',\n",
    "'CHOBr_G4',\n",
    "'CHOFCl_G4',\n",
    "'CHOFBr_G4',\n",
    "'CHOFClBr_G4',\n",
    "'DFT_QCI_thermo',\n",
    "'2-BTP_G4',\n",
    "'thermo_DFT_CCSDTF12_BAC',\n",
    "'SulfurHaynes'\n",
    "]\n"
   ]
  },
  {
   "cell_type": "code",
   "execution_count": 4,
   "metadata": {
    "scrolled": true
   },
   "outputs": [],
   "source": [
    "database = RMGDatabase()\n",
    "database.load(\n",
    "            path = settings['database.directory'],\n",
    "            thermo_libraries = thermo_libs,\n",
    "            transport_libraries = [],\n",
    "            reaction_libraries = [],\n",
    "            seed_mechanisms = [],#['BurkeH2O2inN2','ERC-FoundationFuelv0.9'],\n",
    "            kinetics_families = 'F_Abstraction',\n",
    "            kinetics_depositories = ['training'],\n",
    "            #frequenciesLibraries = self.statmechLibraries,\n",
    "            depository = False, # Don't bother loading the depository information, as we don't use it\n",
    "        )\n"
   ]
  },
  {
   "cell_type": "code",
   "execution_count": 5,
   "metadata": {},
   "outputs": [
    {
     "data": {
      "text/plain": [
       "{'F_Abstraction': <ReactionFamily \"F_Abstraction\">}"
      ]
     },
     "execution_count": 5,
     "metadata": {},
     "output_type": "execute_result"
    }
   ],
   "source": [
    "database.kinetics.families"
   ]
  },
  {
   "cell_type": "code",
   "execution_count": 6,
   "metadata": {},
   "outputs": [],
   "source": [
    "family = database.kinetics.families[\"F_Abstraction\"]\n"
   ]
  },
  {
   "cell_type": "code",
   "execution_count": 7,
   "metadata": {},
   "outputs": [],
   "source": [
    "family.clean_tree()"
   ]
  },
  {
   "cell_type": "code",
   "execution_count": 8,
   "metadata": {
    "scrolled": true
   },
   "outputs": [
    {
     "name": "stderr",
     "output_type": "stream",
     "text": [
      "ERROR:root:234.0\n",
      "ERROR:root:iter_max achieved terminating early\n",
      "ERROR:root:iter_max achieved terminating early\n"
     ]
    },
    {
     "name": "stdout",
     "output_type": "stream",
     "text": [
      "214.17257642745972\n"
     ]
    }
   ],
   "source": [
    "start = time.time()\n",
    "family.generate_tree(thermo_database=database.thermo,\n",
    "                     nprocs=1,\n",
    "                     new_fraction_threshold_to_reopt_node=0.25,\n",
    "                     max_batch_size=800,\n",
    "                     extension_iter_max=2,\n",
    "                     extension_iter_item_cap=100)\n",
    "\n",
    "end = time.time()\n",
    "print(end-start)"
   ]
  },
  {
   "cell_type": "code",
   "execution_count": 9,
   "metadata": {},
   "outputs": [
    {
     "data": {
      "text/plain": [
       "366"
      ]
     },
     "execution_count": 9,
     "metadata": {},
     "output_type": "execute_result"
    }
   ],
   "source": [
    "len(family.groups.entries)"
   ]
  },
  {
   "cell_type": "code",
   "execution_count": 10,
   "metadata": {
    "scrolled": true,
    "tags": []
   },
   "outputs": [
    {
     "data": {
      "text/plain": [
       "{'Root': <Entry index=0 label=\"Root\">,\n",
       " 'Root_1R->O': <Entry index=1 label=\"Root_1R->O\">,\n",
       " 'Root_N-1R->O': <Entry index=2 label=\"Root_N-1R->O\">,\n",
       " 'Root_1R->O_3R->O': <Entry index=3 label=\"Root_1R->O_3R->O\">,\n",
       " 'Root_1R->O_N-3R->O': <Entry index=4 label=\"Root_1R->O_N-3R->O\">,\n",
       " 'Root_N-1R->O_3R->O': <Entry index=5 label=\"Root_N-1R->O_3R->O\">,\n",
       " 'Root_N-1R->O_N-3R->O': <Entry index=6 label=\"Root_N-1R->O_N-3R->O\">,\n",
       " 'Root_1R->O_3R->O_Ext-1O-R': <Entry index=7 label=\"Root_1R->O_3R->O_Ext-1O-R\">,\n",
       " 'Root_1R->O_3R->O_Ext-3O-R_Ext-4R!H-R': <Entry index=8 label=\"Root_1R->O_3R->O_Ext-3O-R_Ext-4R!H-R\">,\n",
       " 'Root_1R->O_3R->O_1O-u0': <Entry index=9 label=\"Root_1R->O_3R->O_1O-u0\">,\n",
       " 'Root_1R->O_3R->O_N-1O-u0': <Entry index=10 label=\"Root_1R->O_3R->O_N-1O-u0\">,\n",
       " 'Root_1R->O_N-3R->O_1O-u0': <Entry index=11 label=\"Root_1R->O_N-3R->O_1O-u0\">,\n",
       " 'Root_1R->O_N-3R->O_N-1O-u0': <Entry index=12 label=\"Root_1R->O_N-3R->O_N-1O-u0\">,\n",
       " 'Root_N-1R->O_3R->O_Ext-3O-R': <Entry index=13 label=\"Root_N-1R->O_3R->O_Ext-3O-R\">,\n",
       " 'Root_N-1R->O_3R->O_1BrCClFHINPSSi-u0': <Entry index=14 label=\"Root_N-1R->O_3R->O_1BrCClFHINPSSi-u0\">,\n",
       " 'Root_N-1R->O_3R->O_N-1BrCClFHINPSSi-u0': <Entry index=15 label=\"Root_N-1R->O_3R->O_N-1BrCClFHINPSSi-u0\">,\n",
       " 'Root_N-1R->O_N-3R->O_1BrCClFHINPSSi->F': <Entry index=16 label=\"Root_N-1R->O_N-3R->O_1BrCClFHINPSSi->F\">,\n",
       " 'Root_N-1R->O_N-3R->O_N-1BrCClFHINPSSi->F': <Entry index=17 label=\"Root_N-1R->O_N-3R->O_N-1BrCClFHINPSSi->F\">,\n",
       " 'Root_1R->O_3R->O_Ext-1O-R_Ext-4R!H-R': <Entry index=18 label=\"Root_1R->O_3R->O_Ext-1O-R_Ext-4R!H-R\">,\n",
       " 'Root_1R->O_3R->O_Ext-1O-R_4R!H->C': <Entry index=19 label=\"Root_1R->O_3R->O_Ext-1O-R_4R!H->C\">,\n",
       " 'Root_1R->O_3R->O_Ext-1O-R_N-4R!H->C': <Entry index=20 label=\"Root_1R->O_3R->O_Ext-1O-R_N-4R!H->C\">,\n",
       " 'Root_1R->O_3R->O_N-1O-u0_Ext-3O-R_4R!H->C': <Entry index=21 label=\"Root_1R->O_3R->O_N-1O-u0_Ext-3O-R_4R!H->C\">,\n",
       " 'Root_1R->O_3R->O_N-1O-u0_Ext-3O-R_N-4R!H->C': <Entry index=22 label=\"Root_1R->O_3R->O_N-1O-u0_Ext-3O-R_N-4R!H->C\">,\n",
       " 'Root_1R->O_N-3R->O_1O-u0_3CClFH-u1': <Entry index=23 label=\"Root_1R->O_N-3R->O_1O-u0_3CClFH-u1\">,\n",
       " 'Root_1R->O_N-3R->O_1O-u0_N-3CClFH-u1': <Entry index=24 label=\"Root_1R->O_N-3R->O_1O-u0_N-3CClFH-u1\">,\n",
       " 'Root_1R->O_N-3R->O_N-1O-u0_Ext-3CClFH-R': <Entry index=25 label=\"Root_1R->O_N-3R->O_N-1O-u0_Ext-3CClFH-R\">,\n",
       " 'Root_1R->O_N-3R->O_N-1O-u0_3CClFH-u1': <Entry index=26 label=\"Root_1R->O_N-3R->O_N-1O-u0_3CClFH-u1\">,\n",
       " 'Root_1R->O_N-3R->O_N-1O-u0_N-3CClFH-u1': <Entry index=27 label=\"Root_1R->O_N-3R->O_N-1O-u0_N-3CClFH-u1\">,\n",
       " 'Root_N-1R->O_3R->O_Ext-3O-R_1BrCClFHINPSSi-u0': <Entry index=28 label=\"Root_N-1R->O_3R->O_Ext-3O-R_1BrCClFHINPSSi-u0\">,\n",
       " 'Root_N-1R->O_3R->O_Ext-3O-R_N-1BrCClFHINPSSi-u0': <Entry index=29 label=\"Root_N-1R->O_3R->O_Ext-3O-R_N-1BrCClFHINPSSi-u0\">,\n",
       " 'Root_N-1R->O_3R->O_1BrCClFHINPSSi-u0_Ext-1BrCClFHINPSSi-R': <Entry index=30 label=\"Root_N-1R->O_3R->O_1BrCClFHINPSSi-u0_Ext-1BrCClFHINPSSi-R\">,\n",
       " 'Root_N-1R->O_3R->O_1BrCClFHINPSSi-u0_3O-u1': <Entry index=31 label=\"Root_N-1R->O_3R->O_1BrCClFHINPSSi-u0_3O-u1\">,\n",
       " 'Root_N-1R->O_3R->O_1BrCClFHINPSSi-u0_N-3O-u1': <Entry index=32 label=\"Root_N-1R->O_3R->O_1BrCClFHINPSSi-u0_N-3O-u1\">,\n",
       " 'Root_N-1R->O_3R->O_N-1BrCClFHINPSSi-u0_Ext-1BrCClFHINPSSi-R': <Entry index=33 label=\"Root_N-1R->O_3R->O_N-1BrCClFHINPSSi-u0_Ext-1BrCClFHINPSSi-R\">,\n",
       " 'Root_N-1R->O_3R->O_N-1BrCClFHINPSSi-u0_3O-u1': <Entry index=34 label=\"Root_N-1R->O_3R->O_N-1BrCClFHINPSSi-u0_3O-u1\">,\n",
       " 'Root_N-1R->O_3R->O_N-1BrCClFHINPSSi-u0_N-3O-u1': <Entry index=35 label=\"Root_N-1R->O_3R->O_N-1BrCClFHINPSSi-u0_N-3O-u1\">,\n",
       " 'Root_N-1R->O_N-3R->O_1BrCClFHINPSSi->F_3CClFH->C': <Entry index=36 label=\"Root_N-1R->O_N-3R->O_1BrCClFHINPSSi->F_3CClFH->C\">,\n",
       " 'Root_N-1R->O_N-3R->O_1BrCClFHINPSSi->F_N-3CClFH->C': <Entry index=37 label=\"Root_N-1R->O_N-3R->O_1BrCClFHINPSSi->F_N-3CClFH->C\">,\n",
       " 'Root_N-1R->O_N-3R->O_N-1BrCClFHINPSSi->F_3CClFH->F': <Entry index=38 label=\"Root_N-1R->O_N-3R->O_N-1BrCClFHINPSSi->F_3CClFH->F\">,\n",
       " 'Root_N-1R->O_N-3R->O_N-1BrCClFHINPSSi->F_N-3CClFH->F': <Entry index=39 label=\"Root_N-1R->O_N-3R->O_N-1BrCClFHINPSSi->F_N-3CClFH->F\">,\n",
       " 'Root_1R->O_3R->O_Ext-1O-R_4R!H->C_3O-u1': <Entry index=40 label=\"Root_1R->O_3R->O_Ext-1O-R_4R!H->C_3O-u1\">,\n",
       " 'Root_1R->O_3R->O_Ext-1O-R_4R!H->C_N-3O-u1': <Entry index=41 label=\"Root_1R->O_3R->O_Ext-1O-R_4R!H->C_N-3O-u1\">,\n",
       " 'Root_1R->O_N-3R->O_1O-u0_3CClFH-u1_Ext-3CClFH-R': <Entry index=42 label=\"Root_1R->O_N-3R->O_1O-u0_3CClFH-u1_Ext-3CClFH-R\">,\n",
       " 'Root_1R->O_N-3R->O_1O-u0_3CClFH-u1_3CClFH->C': <Entry index=43 label=\"Root_1R->O_N-3R->O_1O-u0_3CClFH-u1_3CClFH->C\">,\n",
       " 'Root_1R->O_N-3R->O_1O-u0_3CClFH-u1_N-3CClFH->C': <Entry index=44 label=\"Root_1R->O_N-3R->O_1O-u0_3CClFH-u1_N-3CClFH->C\">,\n",
       " 'Root_1R->O_N-3R->O_1O-u0_N-3CClFH-u1_Ext-3CClFH-R': <Entry index=45 label=\"Root_1R->O_N-3R->O_1O-u0_N-3CClFH-u1_Ext-3CClFH-R\">,\n",
       " 'Root_1R->O_N-3R->O_1O-u0_N-3CClFH-u1_Ext-1O-R': <Entry index=46 label=\"Root_1R->O_N-3R->O_1O-u0_N-3CClFH-u1_Ext-1O-R\">,\n",
       " 'Root_1R->O_N-3R->O_N-1O-u0_Ext-3CClFH-R_Sp-4R!H-3CClFH': <Entry index=47 label=\"Root_1R->O_N-3R->O_N-1O-u0_Ext-3CClFH-R_Sp-4R!H-3CClFH\">,\n",
       " 'Root_1R->O_N-3R->O_N-1O-u0_Ext-3CClFH-R_N-Sp-4R!H-3CClFH': <Entry index=48 label=\"Root_1R->O_N-3R->O_N-1O-u0_Ext-3CClFH-R_N-Sp-4R!H-3CClFH\">,\n",
       " 'Root_N-1R->O_3R->O_Ext-3O-R_1BrCClFHINPSSi-u0_1BrCClFHINPSSi->C': <Entry index=49 label=\"Root_N-1R->O_3R->O_Ext-3O-R_1BrCClFHINPSSi-u0_1BrCClFHINPSSi->C\">,\n",
       " 'Root_N-1R->O_3R->O_Ext-3O-R_1BrCClFHINPSSi-u0_N-1BrCClFHINPSSi->C': <Entry index=50 label=\"Root_N-1R->O_3R->O_Ext-3O-R_1BrCClFHINPSSi-u0_N-1BrCClFHINPSSi->C\">,\n",
       " 'Root_N-1R->O_3R->O_Ext-3O-R_N-1BrCClFHINPSSi-u0_Ext-1BrCClFHINPSSi-R': <Entry index=51 label=\"Root_N-1R->O_3R->O_Ext-3O-R_N-1BrCClFHINPSSi-u0_Ext-1BrCClFHINPSSi-R\">,\n",
       " 'Root_N-1R->O_3R->O_1BrCClFHINPSSi-u0_Ext-1BrCClFHINPSSi-R_Sp-4R!H#1BrBrBrCCCClClClFFFHHHIIINNNPPPSSSSiSiSi': <Entry index=52 label=\"Root_N-1R->O_3R->O_1BrCClFHINPSSi-u0_Ext-1BrCClFHINPSSi-R_Sp-4R!H#1BrBrBrCCCClClClFFFHHHIIINNNPPPSSSSiSiSi\">,\n",
       " 'Root_N-1R->O_3R->O_1BrCClFHINPSSi-u0_Ext-1BrCClFHINPSSi-R_N-Sp-4R!H#1BrBrBrCCCClClClFFFHHHIIINNNPPPSSSSiSiSi': <Entry index=53 label=\"Root_N-1R->O_3R->O_1BrCClFHINPSSi-u0_Ext-1BrCClFHINPSSi-R_N-Sp-4R!H#1BrBrBrCCCClClClFFFHHHIIINNNPPPSSSSiSiSi\">,\n",
       " 'Root_N-1R->O_3R->O_N-1BrCClFHINPSSi-u0_Ext-1BrCClFHINPSSi-R_Sp-4R!H-1BrCClFHINPSSi': <Entry index=54 label=\"Root_N-1R->O_3R->O_N-1BrCClFHINPSSi-u0_Ext-1BrCClFHINPSSi-R_Sp-4R!H-1BrCClFHINPSSi\">,\n",
       " 'Root_N-1R->O_3R->O_N-1BrCClFHINPSSi-u0_Ext-1BrCClFHINPSSi-R_N-Sp-4R!H-1BrCClFHINPSSi': <Entry index=55 label=\"Root_N-1R->O_3R->O_N-1BrCClFHINPSSi-u0_Ext-1BrCClFHINPSSi-R_N-Sp-4R!H-1BrCClFHINPSSi\">,\n",
       " 'Root_N-1R->O_N-3R->O_1BrCClFHINPSSi->F_3CClFH->C_Ext-3C-R': <Entry index=56 label=\"Root_N-1R->O_N-3R->O_1BrCClFHINPSSi->F_3CClFH->C_Ext-3C-R\">,\n",
       " 'Root_N-1R->O_N-3R->O_N-1BrCClFHINPSSi->F_3CClFH->F_1CClH->C': <Entry index=57 label=\"Root_N-1R->O_N-3R->O_N-1BrCClFHINPSSi->F_3CClFH->F_1CClH->C\">,\n",
       " 'Root_N-1R->O_N-3R->O_N-1BrCClFHINPSSi->F_3CClFH->F_N-1CClH->C': <Entry index=58 label=\"Root_N-1R->O_N-3R->O_N-1BrCClFHINPSSi->F_3CClFH->F_N-1CClH->C\">,\n",
       " 'Root_N-1R->O_N-3R->O_N-1BrCClFHINPSSi->F_N-3CClFH->F_3CClH->H': <Entry index=59 label=\"Root_N-1R->O_N-3R->O_N-1BrCClFHINPSSi->F_N-3CClFH->F_3CClH->H\">,\n",
       " 'Root_N-1R->O_N-3R->O_N-1BrCClFHINPSSi->F_N-3CClFH->F_N-3CClH->H': <Entry index=60 label=\"Root_N-1R->O_N-3R->O_N-1BrCClFHINPSSi->F_N-3CClFH->F_N-3CClH->H\">,\n",
       " 'Root_1R->O_N-3R->O_1O-u0_3CClFH-u1_Ext-3CClFH-R_4R!H->Cl': <Entry index=61 label=\"Root_1R->O_N-3R->O_1O-u0_3CClFH-u1_Ext-3CClFH-R_4R!H->Cl\">,\n",
       " 'Root_1R->O_N-3R->O_1O-u0_3CClFH-u1_Ext-3CClFH-R_N-4R!H->Cl': <Entry index=62 label=\"Root_1R->O_N-3R->O_1O-u0_3CClFH-u1_Ext-3CClFH-R_N-4R!H->Cl\">,\n",
       " 'Root_1R->O_N-3R->O_1O-u0_3CClFH-u1_3CClFH->C_Ext-1O-R': <Entry index=63 label=\"Root_1R->O_N-3R->O_1O-u0_3CClFH-u1_3CClFH->C_Ext-1O-R\">,\n",
       " 'Root_1R->O_N-3R->O_1O-u0_N-3CClFH-u1_Ext-3CClFH-R_Ext-3CClFH-R': <Entry index=64 label=\"Root_1R->O_N-3R->O_1O-u0_N-3CClFH-u1_Ext-3CClFH-R_Ext-3CClFH-R\">,\n",
       " 'Root_1R->O_N-3R->O_1O-u0_N-3CClFH-u1_Ext-3CClFH-R_Ext-1O-R': <Entry index=65 label=\"Root_1R->O_N-3R->O_1O-u0_N-3CClFH-u1_Ext-3CClFH-R_Ext-1O-R\">,\n",
       " 'Root_1R->O_N-3R->O_1O-u0_N-3CClFH-u1_Ext-3CClFH-R_4R!H->C': <Entry index=66 label=\"Root_1R->O_N-3R->O_1O-u0_N-3CClFH-u1_Ext-3CClFH-R_4R!H->C\">,\n",
       " 'Root_1R->O_N-3R->O_1O-u0_N-3CClFH-u1_Ext-3CClFH-R_N-4R!H->C': <Entry index=67 label=\"Root_1R->O_N-3R->O_1O-u0_N-3CClFH-u1_Ext-3CClFH-R_N-4R!H->C\">,\n",
       " 'Root_1R->O_N-3R->O_N-1O-u0_Ext-3CClFH-R_Sp-4R!H-3CClFH_4R!H->O': <Entry index=68 label=\"Root_1R->O_N-3R->O_N-1O-u0_Ext-3CClFH-R_Sp-4R!H-3CClFH_4R!H->O\">,\n",
       " 'Root_1R->O_N-3R->O_N-1O-u0_Ext-3CClFH-R_Sp-4R!H-3CClFH_N-4R!H->O': <Entry index=69 label=\"Root_1R->O_N-3R->O_N-1O-u0_Ext-3CClFH-R_Sp-4R!H-3CClFH_N-4R!H->O\">,\n",
       " 'Root_N-1R->O_3R->O_Ext-3O-R_1BrCClFHINPSSi-u0_1BrCClFHINPSSi->C_4R!H->C': <Entry index=70 label=\"Root_N-1R->O_3R->O_Ext-3O-R_1BrCClFHINPSSi-u0_1BrCClFHINPSSi->C_4R!H->C\">,\n",
       " 'Root_N-1R->O_3R->O_Ext-3O-R_1BrCClFHINPSSi-u0_1BrCClFHINPSSi->C_N-4R!H->C': <Entry index=71 label=\"Root_N-1R->O_3R->O_Ext-3O-R_1BrCClFHINPSSi-u0_1BrCClFHINPSSi->C_N-4R!H->C\">,\n",
       " 'Root_N-1R->O_3R->O_Ext-3O-R_N-1BrCClFHINPSSi-u0_Ext-1BrCClFHINPSSi-R_Ext-1BrCClFHINPSSi-R': <Entry index=72 label=\"Root_N-1R->O_3R->O_Ext-3O-R_N-1BrCClFHINPSSi-u0_Ext-1BrCClFHINPSSi-R_Ext-1BrCClFHINPSSi-R\">,\n",
       " 'Root_N-1R->O_3R->O_1BrCClFHINPSSi-u0_Ext-1BrCClFHINPSSi-R_N-Sp-4R!H#1BrBrBrCCCClClClFFFHHHIIINNNPPPSSSSiSiSi_4R!H->F': <Entry index=73 label=\"Root_N-1R->O_3R->O_1BrCClFHINPSSi-u0_Ext-1BrCClFHINPSSi-R_N-Sp-4R!H#1BrBrBrCCCClClClFFFHHHIIINNNPPPSSSSiSiSi_4R!H->F\">,\n",
       " 'Root_N-1R->O_3R->O_1BrCClFHINPSSi-u0_Ext-1BrCClFHINPSSi-R_N-Sp-4R!H#1BrBrBrCCCClClClFFFHHHIIINNNPPPSSSSiSiSi_N-4R!H->F': <Entry index=74 label=\"Root_N-1R->O_3R->O_1BrCClFHINPSSi-u0_Ext-1BrCClFHINPSSi-R_N-Sp-4R!H#1BrBrBrCCCClClClFFFHHHIIINNNPPPSSSSiSiSi_N-4R!H->F\">,\n",
       " 'Root_N-1R->O_3R->O_N-1BrCClFHINPSSi-u0_Ext-1BrCClFHINPSSi-R_Sp-4R!H-1BrCClFHINPSSi_4R!H->O': <Entry index=75 label=\"Root_N-1R->O_3R->O_N-1BrCClFHINPSSi-u0_Ext-1BrCClFHINPSSi-R_Sp-4R!H-1BrCClFHINPSSi_4R!H->O\">,\n",
       " 'Root_N-1R->O_3R->O_N-1BrCClFHINPSSi-u0_Ext-1BrCClFHINPSSi-R_Sp-4R!H-1BrCClFHINPSSi_N-4R!H->O': <Entry index=76 label=\"Root_N-1R->O_3R->O_N-1BrCClFHINPSSi-u0_Ext-1BrCClFHINPSSi-R_Sp-4R!H-1BrCClFHINPSSi_N-4R!H->O\">,\n",
       " 'Root_N-1R->O_N-3R->O_1BrCClFHINPSSi->F_3CClFH->C_Ext-3C-R_Ext-3C-R': <Entry index=77 label=\"Root_N-1R->O_N-3R->O_1BrCClFHINPSSi->F_3CClFH->C_Ext-3C-R_Ext-3C-R\">,\n",
       " 'Root_N-1R->O_N-3R->O_N-1BrCClFHINPSSi->F_3CClFH->F_1CClH->C_Ext-1C-R': <Entry index=78 label=\"Root_N-1R->O_N-3R->O_N-1BrCClFHINPSSi->F_3CClFH->F_1CClH->C_Ext-1C-R\">,\n",
       " 'Root_N-1R->O_N-3R->O_N-1BrCClFHINPSSi->F_N-3CClFH->F_3CClH->H_1CClH->C': <Entry index=79 label=\"Root_N-1R->O_N-3R->O_N-1BrCClFHINPSSi->F_N-3CClFH->F_3CClH->H_1CClH->C\">,\n",
       " 'Root_N-1R->O_N-3R->O_N-1BrCClFHINPSSi->F_N-3CClFH->F_3CClH->H_N-1CClH->C': <Entry index=80 label=\"Root_N-1R->O_N-3R->O_N-1BrCClFHINPSSi->F_N-3CClFH->F_3CClH->H_N-1CClH->C\">,\n",
       " 'Root_N-1R->O_N-3R->O_N-1BrCClFHINPSSi->F_N-3CClFH->F_N-3CClH->H_3CCl-u1': <Entry index=81 label=\"Root_N-1R->O_N-3R->O_N-1BrCClFHINPSSi->F_N-3CClFH->F_N-3CClH->H_3CCl-u1\">,\n",
       " 'Root_N-1R->O_N-3R->O_N-1BrCClFHINPSSi->F_N-3CClFH->F_N-3CClH->H_N-3CCl-u1': <Entry index=82 label=\"Root_N-1R->O_N-3R->O_N-1BrCClFHINPSSi->F_N-3CClFH->F_N-3CClH->H_N-3CCl-u1\">,\n",
       " 'Root_1R->O_N-3R->O_1O-u0_3CClFH-u1_Ext-3CClFH-R_4R!H->Cl_Ext-1O-R': <Entry index=83 label=\"Root_1R->O_N-3R->O_1O-u0_3CClFH-u1_Ext-3CClFH-R_4R!H->Cl_Ext-1O-R\">,\n",
       " 'Root_1R->O_N-3R->O_1O-u0_3CClFH-u1_Ext-3CClFH-R_4R!H->Cl_Ext-3CClFH-R': <Entry index=84 label=\"Root_1R->O_N-3R->O_1O-u0_3CClFH-u1_Ext-3CClFH-R_4R!H->Cl_Ext-3CClFH-R\">,\n",
       " 'Root_1R->O_N-3R->O_1O-u0_3CClFH-u1_Ext-3CClFH-R_N-4R!H->Cl_Ext-4BrCFINOPSSi-R': <Entry index=85 label=\"Root_1R->O_N-3R->O_1O-u0_3CClFH-u1_Ext-3CClFH-R_N-4R!H->Cl_Ext-4BrCFINOPSSi-R\">,\n",
       " 'Root_1R->O_N-3R->O_1O-u0_3CClFH-u1_Ext-3CClFH-R_N-4R!H->Cl_Sp-4BrBrBrCCCCCClClFFFFFHHIIINNNOOOPPPSSSSiSiSi#3BrBrBrCCCCCCClClClFFFFFFHHHIIINNNOOOPPPSSSSiSiSi': <Entry index=86 label=\"Root_1R->O_N-3R->O_1O-u0_3CClFH-u1_Ext-3CClFH-R_N-4R!H->Cl_Sp-4BrBrBrCCCCCClClFFFFFHHIIINNNOOOPPPSSSSiSiSi#3BrBrBrCCCCCCClClClFFFFFFHHHIIINNNOOOPPPSSSSiSiSi\">,\n",
       " 'Root_1R->O_N-3R->O_1O-u0_3CClFH-u1_Ext-3CClFH-R_N-4R!H->Cl_N-Sp-4BrBrBrCCCCCClClFFFFFHHIIINNNOOOPPPSSSSiSiSi#3BrBrBrCCCCCCClClClFFFFFFHHHIIINNNOOOPPPSSSSiSiSi': <Entry index=87 label=\"Root_1R->O_N-3R->O_1O-u0_3CClFH-u1_Ext-3CClFH-R_N-4R!H->Cl_N-Sp-4BrBrBrCCCCCClClFFFFFHHIIINNNOOOPPPSSSSiSiSi#3BrBrBrCCCCCCClClClFFFFFFHHHIIINNNOOOPPPSSSSiSiSi\">,\n",
       " 'Root_1R->O_N-3R->O_1O-u0_3CClFH-u1_3CClFH->C_Ext-1O-R_4R!H->C': <Entry index=88 label=\"Root_1R->O_N-3R->O_1O-u0_3CClFH-u1_3CClFH->C_Ext-1O-R_4R!H->C\">,\n",
       " 'Root_1R->O_N-3R->O_1O-u0_3CClFH-u1_3CClFH->C_Ext-1O-R_N-4R!H->C': <Entry index=89 label=\"Root_1R->O_N-3R->O_1O-u0_3CClFH-u1_3CClFH->C_Ext-1O-R_N-4R!H->C\">,\n",
       " 'Root_1R->O_N-3R->O_1O-u0_N-3CClFH-u1_Ext-3CClFH-R_Ext-3CClFH-R_4R!H->C': <Entry index=90 label=\"Root_1R->O_N-3R->O_1O-u0_N-3CClFH-u1_Ext-3CClFH-R_Ext-3CClFH-R_4R!H->C\">,\n",
       " 'Root_1R->O_N-3R->O_1O-u0_N-3CClFH-u1_Ext-3CClFH-R_Ext-3CClFH-R_N-4R!H->C': <Entry index=91 label=\"Root_1R->O_N-3R->O_1O-u0_N-3CClFH-u1_Ext-3CClFH-R_Ext-3CClFH-R_N-4R!H->C\">,\n",
       " 'Root_1R->O_N-3R->O_1O-u0_N-3CClFH-u1_Ext-3CClFH-R_4R!H->C_Sp-4C-3CClFH': <Entry index=92 label=\"Root_1R->O_N-3R->O_1O-u0_N-3CClFH-u1_Ext-3CClFH-R_4R!H->C_Sp-4C-3CClFH\">,\n",
       " 'Root_1R->O_N-3R->O_1O-u0_N-3CClFH-u1_Ext-3CClFH-R_4R!H->C_N-Sp-4C-3CClFH': <Entry index=93 label=\"Root_1R->O_N-3R->O_1O-u0_N-3CClFH-u1_Ext-3CClFH-R_4R!H->C_N-Sp-4C-3CClFH\">,\n",
       " 'Root_1R->O_N-3R->O_N-1O-u0_Ext-3CClFH-R_Sp-4R!H-3CClFH_4R!H->O_3CClFH-u1': <Entry index=94 label=\"Root_1R->O_N-3R->O_N-1O-u0_Ext-3CClFH-R_Sp-4R!H-3CClFH_4R!H->O_3CClFH-u1\">,\n",
       " 'Root_1R->O_N-3R->O_N-1O-u0_Ext-3CClFH-R_Sp-4R!H-3CClFH_4R!H->O_N-3CClFH-u1': <Entry index=95 label=\"Root_1R->O_N-3R->O_N-1O-u0_Ext-3CClFH-R_Sp-4R!H-3CClFH_4R!H->O_N-3CClFH-u1\">,\n",
       " 'Root_1R->O_N-3R->O_N-1O-u0_Ext-3CClFH-R_Sp-4R!H-3CClFH_N-4R!H->O_4CF->F': <Entry index=96 label=\"Root_1R->O_N-3R->O_N-1O-u0_Ext-3CClFH-R_Sp-4R!H-3CClFH_N-4R!H->O_4CF->F\">,\n",
       " 'Root_1R->O_N-3R->O_N-1O-u0_Ext-3CClFH-R_Sp-4R!H-3CClFH_N-4R!H->O_N-4CF->F': <Entry index=97 label=\"Root_1R->O_N-3R->O_N-1O-u0_Ext-3CClFH-R_Sp-4R!H-3CClFH_N-4R!H->O_N-4CF->F\">,\n",
       " 'Root_N-1R->O_3R->O_Ext-3O-R_1BrCClFHINPSSi-u0_1BrCClFHINPSSi->C_4R!H->C_Ext-1C-R': <Entry index=98 label=\"Root_N-1R->O_3R->O_Ext-3O-R_1BrCClFHINPSSi-u0_1BrCClFHINPSSi->C_4R!H->C_Ext-1C-R\">,\n",
       " 'Root_N-1R->O_3R->O_Ext-3O-R_1BrCClFHINPSSi-u0_1BrCClFHINPSSi->C_N-4R!H->C_Ext-1C-R': <Entry index=99 label=\"Root_N-1R->O_3R->O_Ext-3O-R_1BrCClFHINPSSi-u0_1BrCClFHINPSSi->C_N-4R!H->C_Ext-1C-R\">,\n",
       " 'Root_N-1R->O_3R->O_Ext-3O-R_1BrCClFHINPSSi-u0_1BrCClFHINPSSi->C_N-4R!H->C_4FO->F': <Entry index=100 label=\"Root_N-1R->O_3R->O_Ext-3O-R_1BrCClFHINPSSi-u0_1BrCClFHINPSSi->C_N-4R!H->C_4FO->F\">,\n",
       " 'Root_N-1R->O_3R->O_Ext-3O-R_1BrCClFHINPSSi-u0_1BrCClFHINPSSi->C_N-4R!H->C_N-4FO->F': <Entry index=101 label=\"Root_N-1R->O_3R->O_Ext-3O-R_1BrCClFHINPSSi-u0_1BrCClFHINPSSi->C_N-4R!H->C_N-4FO->F\">,\n",
       " 'Root_N-1R->O_3R->O_1BrCClFHINPSSi-u0_Ext-1BrCClFHINPSSi-R_N-Sp-4R!H#1BrBrBrCCCClClClFFFHHHIIINNNPPPSSSSiSiSi_4R!H->F_Ext-1BrCClFHINPSSi-R': <Entry index=102 label=\"Root_N-1R->O_3R->O_1BrCClFHINPSSi-u0_Ext-1BrCClFHINPSSi-R_N-Sp-4R!H#1BrBrBrCCCClClClFFFHHHIIINNNPPPSSSSiSiSi_4R!H->F_Ext-1BrCClFHINPSSi-R\">,\n",
       " 'Root_N-1R->O_3R->O_1BrCClFHINPSSi-u0_Ext-1BrCClFHINPSSi-R_N-Sp-4R!H#1BrBrBrCCCClClClFFFHHHIIINNNPPPSSSSiSiSi_4R!H->F_3O-u1': <Entry index=103 label=\"Root_N-1R->O_3R->O_1BrCClFHINPSSi-u0_Ext-1BrCClFHINPSSi-R_N-Sp-4R!H#1BrBrBrCCCClClClFFFHHHIIINNNPPPSSSSiSiSi_4R!H->F_3O-u1\">,\n",
       " 'Root_N-1R->O_3R->O_1BrCClFHINPSSi-u0_Ext-1BrCClFHINPSSi-R_N-Sp-4R!H#1BrBrBrCCCClClClFFFHHHIIINNNPPPSSSSiSiSi_4R!H->F_N-3O-u1': <Entry index=104 label=\"Root_N-1R->O_3R->O_1BrCClFHINPSSi-u0_Ext-1BrCClFHINPSSi-R_N-Sp-4R!H#1BrBrBrCCCClClClFFFHHHIIINNNPPPSSSSiSiSi_4R!H->F_N-3O-u1\">,\n",
       " 'Root_N-1R->O_3R->O_1BrCClFHINPSSi-u0_Ext-1BrCClFHINPSSi-R_N-Sp-4R!H#1BrBrBrCCCClClClFFFHHHIIINNNPPPSSSSiSiSi_N-4R!H->F_Sp-4BrCCCClClClFHINOOPSSi=1BrBrCCCCClClClClFFHHIINNOOPPSSSiSi': <Entry index=105 label=\"Root_N-1R->O_3R->O_1BrCClFHINPSSi-u0_Ext-1BrCClFHINPSSi-R_N-Sp-4R!H#1BrBrBrCCCClClClFFFHHHIIINNNPPPSSSSiSiSi_N-4R!H->F_Sp-4BrCCCClClClFHINOOPSSi=1BrBrCCCCClClClClFFHHIINNOOPPSSSiSi\">,\n",
       " 'Root_N-1R->O_3R->O_1BrCClFHINPSSi-u0_Ext-1BrCClFHINPSSi-R_N-Sp-4R!H#1BrBrBrCCCClClClFFFHHHIIINNNPPPSSSSiSiSi_N-4R!H->F_N-Sp-4BrCCCClClClFHINOOPSSi=1BrBrCCCCClClClClFFHHIINNOOPPSSSiSi': <Entry index=106 label=\"Root_N-1R->O_3R->O_1BrCClFHINPSSi-u0_Ext-1BrCClFHINPSSi-R_N-Sp-4R!H#1BrBrBrCCCClClClFFFHHHIIINNNPPPSSSSiSiSi_N-4R!H->F_N-Sp-4BrCCCClClClFHINOOPSSi=1BrBrCCCCClClClClFFHHIINNOOPPSSSiSi\">,\n",
       " 'Root_N-1R->O_3R->O_N-1BrCClFHINPSSi-u0_Ext-1BrCClFHINPSSi-R_Sp-4R!H-1BrCClFHINPSSi_4R!H->O_Ext-1BrCClFHINPSSi-R': <Entry index=107 label=\"Root_N-1R->O_3R->O_N-1BrCClFHINPSSi-u0_Ext-1BrCClFHINPSSi-R_Sp-4R!H-1BrCClFHINPSSi_4R!H->O_Ext-1BrCClFHINPSSi-R\">,\n",
       " 'Root_N-1R->O_3R->O_N-1BrCClFHINPSSi-u0_Ext-1BrCClFHINPSSi-R_Sp-4R!H-1BrCClFHINPSSi_4R!H->O_3O-u1': <Entry index=108 label=\"Root_N-1R->O_3R->O_N-1BrCClFHINPSSi-u0_Ext-1BrCClFHINPSSi-R_Sp-4R!H-1BrCClFHINPSSi_4R!H->O_3O-u1\">,\n",
       " 'Root_N-1R->O_3R->O_N-1BrCClFHINPSSi-u0_Ext-1BrCClFHINPSSi-R_Sp-4R!H-1BrCClFHINPSSi_4R!H->O_N-3O-u1': <Entry index=109 label=\"Root_N-1R->O_3R->O_N-1BrCClFHINPSSi-u0_Ext-1BrCClFHINPSSi-R_Sp-4R!H-1BrCClFHINPSSi_4R!H->O_N-3O-u1\">,\n",
       " 'Root_N-1R->O_3R->O_N-1BrCClFHINPSSi-u0_Ext-1BrCClFHINPSSi-R_Sp-4R!H-1BrCClFHINPSSi_N-4R!H->O_Ext-1BrCClFHINPSSi-R': <Entry index=110 label=\"Root_N-1R->O_3R->O_N-1BrCClFHINPSSi-u0_Ext-1BrCClFHINPSSi-R_Sp-4R!H-1BrCClFHINPSSi_N-4R!H->O_Ext-1BrCClFHINPSSi-R\">,\n",
       " 'Root_N-1R->O_N-3R->O_1BrCClFHINPSSi->F_3CClFH->C_Ext-3C-R_Ext-3C-R_4R!H->O': <Entry index=111 label=\"Root_N-1R->O_N-3R->O_1BrCClFHINPSSi->F_3CClFH->C_Ext-3C-R_Ext-3C-R_4R!H->O\">,\n",
       " 'Root_N-1R->O_N-3R->O_1BrCClFHINPSSi->F_3CClFH->C_Ext-3C-R_Ext-3C-R_N-4R!H->O': <Entry index=112 label=\"Root_N-1R->O_N-3R->O_1BrCClFHINPSSi->F_3CClFH->C_Ext-3C-R_Ext-3C-R_N-4R!H->O\">,\n",
       " 'Root_N-1R->O_N-3R->O_N-1BrCClFHINPSSi->F_3CClFH->F_1CClH->C_Ext-1C-R_Ext-1C-R': <Entry index=113 label=\"Root_N-1R->O_N-3R->O_N-1BrCClFHINPSSi->F_3CClFH->F_1CClH->C_Ext-1C-R_Ext-1C-R\">,\n",
       " 'Root_N-1R->O_N-3R->O_N-1BrCClFHINPSSi->F_N-3CClFH->F_3CClH->H_1CClH->C_Ext-1C-R': <Entry index=114 label=\"Root_N-1R->O_N-3R->O_N-1BrCClFHINPSSi->F_N-3CClFH->F_3CClH->H_1CClH->C_Ext-1C-R\">,\n",
       " 'Root_N-1R->O_N-3R->O_N-1BrCClFHINPSSi->F_N-3CClFH->F_N-3CClH->H_3CCl-u1_1CClH->C': <Entry index=115 label=\"Root_N-1R->O_N-3R->O_N-1BrCClFHINPSSi->F_N-3CClFH->F_N-3CClH->H_3CCl-u1_1CClH->C\">,\n",
       " 'Root_N-1R->O_N-3R->O_N-1BrCClFHINPSSi->F_N-3CClFH->F_N-3CClH->H_3CCl-u1_N-1CClH->C': <Entry index=116 label=\"Root_N-1R->O_N-3R->O_N-1BrCClFHINPSSi->F_N-3CClFH->F_N-3CClH->H_3CCl-u1_N-1CClH->C\">,\n",
       " 'Root_N-1R->O_N-3R->O_N-1BrCClFHINPSSi->F_N-3CClFH->F_N-3CClH->H_N-3CCl-u1_Ext-3CCl-R_Ext-3CCl-R': <Entry index=117 label=\"Root_N-1R->O_N-3R->O_N-1BrCClFHINPSSi->F_N-3CClFH->F_N-3CClH->H_N-3CCl-u1_Ext-3CCl-R_Ext-3CCl-R\">,\n",
       " 'Root_N-1R->O_N-3R->O_N-1BrCClFHINPSSi->F_N-3CClFH->F_N-3CClH->H_N-3CCl-u1_Ext-3CCl-R_Sp-4R!H-3CCl': <Entry index=118 label=\"Root_N-1R->O_N-3R->O_N-1BrCClFHINPSSi->F_N-3CClFH->F_N-3CClH->H_N-3CCl-u1_Ext-3CCl-R_Sp-4R!H-3CCl\">,\n",
       " 'Root_N-1R->O_N-3R->O_N-1BrCClFHINPSSi->F_N-3CClFH->F_N-3CClH->H_N-3CCl-u1_Ext-3CCl-R_N-Sp-4R!H-3CCl': <Entry index=119 label=\"Root_N-1R->O_N-3R->O_N-1BrCClFHINPSSi->F_N-3CClFH->F_N-3CClH->H_N-3CCl-u1_Ext-3CCl-R_N-Sp-4R!H-3CCl\">,\n",
       " 'Root_1R->O_N-3R->O_1O-u0_3CClFH-u1_Ext-3CClFH-R_4R!H->Cl_Ext-1O-R_5R!H->C': <Entry index=120 label=\"Root_1R->O_N-3R->O_1O-u0_3CClFH-u1_Ext-3CClFH-R_4R!H->Cl_Ext-1O-R_5R!H->C\">,\n",
       " 'Root_1R->O_N-3R->O_1O-u0_3CClFH-u1_Ext-3CClFH-R_4R!H->Cl_Ext-1O-R_N-5R!H->C': <Entry index=121 label=\"Root_1R->O_N-3R->O_1O-u0_3CClFH-u1_Ext-3CClFH-R_4R!H->Cl_Ext-1O-R_N-5R!H->C\">,\n",
       " 'Root_1R->O_N-3R->O_1O-u0_3CClFH-u1_Ext-3CClFH-R_N-4R!H->Cl_Ext-4BrCFINOPSSi-R_Sp-4BrCFINOPSSi-3BrCCClFFHINOPSSi': <Entry index=122 label=\"Root_1R->O_N-3R->O_1O-u0_3CClFH-u1_Ext-3CClFH-R_N-4R!H->Cl_Ext-4BrCFINOPSSi-R_Sp-4BrCFINOPSSi-3BrCCClFFHINOPSSi\">,\n",
       " 'Root_1R->O_N-3R->O_1O-u0_3CClFH-u1_Ext-3CClFH-R_N-4R!H->Cl_Ext-4BrCFINOPSSi-R_N-Sp-4BrCFINOPSSi-3BrCCClFFHINOPSSi': <Entry index=123 label=\"Root_1R->O_N-3R->O_1O-u0_3CClFH-u1_Ext-3CClFH-R_N-4R!H->Cl_Ext-4BrCFINOPSSi-R_N-Sp-4BrCFINOPSSi-3BrCCClFFHINOPSSi\">,\n",
       " 'Root_1R->O_N-3R->O_1O-u0_3CClFH-u1_Ext-3CClFH-R_N-4R!H->Cl_N-Sp-4BrBrBrCCCCCClClFFFFFHHIIINNNOOOPPPSSSSiSiSi#3BrBrBrCCCCCCClClClFFFFFFHHHIIINNNOOOPPPSSSSiSiSi_Sp-4BrCFINOPSSi-3BrCCClFFHINOPSSi': <Entry index=124 label=\"Root_1R->O_N-3R->O_1O-u0_3CClFH-u1_Ext-3CClFH-R_N-4R!H->Cl_N-Sp-4BrBrBrCCCCCClClFFFFFHHIIINNNOOOPPPSSSSiSiSi#3BrBrBrCCCCCCClClClFFFFFFHHHIIINNNOOOPPPSSSSiSiSi_Sp-4BrCFINOPSSi-3BrCCClFFHINOPSSi\">,\n",
       " 'Root_1R->O_N-3R->O_1O-u0_3CClFH-u1_Ext-3CClFH-R_N-4R!H->Cl_N-Sp-4BrBrBrCCCCCClClFFFFFHHIIINNNOOOPPPSSSSiSiSi#3BrBrBrCCCCCCClClClFFFFFFHHHIIINNNOOOPPPSSSSiSiSi_N-Sp-4BrCFINOPSSi-3BrCCClFFHINOPSSi': <Entry index=125 label=\"Root_1R->O_N-3R->O_1O-u0_3CClFH-u1_Ext-3CClFH-R_N-4R!H->Cl_N-Sp-4BrBrBrCCCCCClClFFFFFHHIIINNNOOOPPPSSSSiSiSi#3BrBrBrCCCCCCClClClFFFFFFHHHIIINNNOOOPPPSSSSiSiSi_N-Sp-4BrCFINOPSSi-3BrCCClFFHINOPSSi\">,\n",
       " 'Root_1R->O_N-3R->O_1O-u0_3CClFH-u1_3CClFH->C_Ext-1O-R_N-4R!H->C_4BrClFINOPSSi->F': <Entry index=126 label=\"Root_1R->O_N-3R->O_1O-u0_3CClFH-u1_3CClFH->C_Ext-1O-R_N-4R!H->C_4BrClFINOPSSi->F\">,\n",
       " 'Root_1R->O_N-3R->O_1O-u0_3CClFH-u1_3CClFH->C_Ext-1O-R_N-4R!H->C_N-4BrClFINOPSSi->F': <Entry index=127 label=\"Root_1R->O_N-3R->O_1O-u0_3CClFH-u1_3CClFH->C_Ext-1O-R_N-4R!H->C_N-4BrClFINOPSSi->F\">,\n",
       " 'Root_1R->O_N-3R->O_1O-u0_N-3CClFH-u1_Ext-3CClFH-R_Ext-3CClFH-R_4R!H->C_5R!H->C': <Entry index=128 label=\"Root_1R->O_N-3R->O_1O-u0_N-3CClFH-u1_Ext-3CClFH-R_Ext-3CClFH-R_4R!H->C_5R!H->C\">,\n",
       " 'Root_1R->O_N-3R->O_1O-u0_N-3CClFH-u1_Ext-3CClFH-R_Ext-3CClFH-R_4R!H->C_N-5R!H->C': <Entry index=129 label=\"Root_1R->O_N-3R->O_1O-u0_N-3CClFH-u1_Ext-3CClFH-R_Ext-3CClFH-R_4R!H->C_N-5R!H->C\">,\n",
       " 'Root_1R->O_N-3R->O_N-1O-u0_Ext-3CClFH-R_Sp-4R!H-3CClFH_N-4R!H->O_4CF->F_Ext-3CClFH-R': <Entry index=130 label=\"Root_1R->O_N-3R->O_N-1O-u0_Ext-3CClFH-R_Sp-4R!H-3CClFH_N-4R!H->O_4CF->F_Ext-3CClFH-R\">,\n",
       " 'Root_N-1R->O_3R->O_Ext-3O-R_1BrCClFHINPSSi-u0_1BrCClFHINPSSi->C_4R!H->C_Ext-1C-R_5R!H->C': <Entry index=131 label=\"Root_N-1R->O_3R->O_Ext-3O-R_1BrCClFHINPSSi-u0_1BrCClFHINPSSi->C_4R!H->C_Ext-1C-R_5R!H->C\">,\n",
       " 'Root_N-1R->O_3R->O_Ext-3O-R_1BrCClFHINPSSi-u0_1BrCClFHINPSSi->C_4R!H->C_Ext-1C-R_N-5R!H->C': <Entry index=132 label=\"Root_N-1R->O_3R->O_Ext-3O-R_1BrCClFHINPSSi-u0_1BrCClFHINPSSi->C_4R!H->C_Ext-1C-R_N-5R!H->C\">,\n",
       " 'Root_N-1R->O_3R->O_Ext-3O-R_1BrCClFHINPSSi-u0_1BrCClFHINPSSi->C_N-4R!H->C_Ext-1C-R_Sp-5R!H=1C': <Entry index=133 label=\"Root_N-1R->O_3R->O_Ext-3O-R_1BrCClFHINPSSi-u0_1BrCClFHINPSSi->C_N-4R!H->C_Ext-1C-R_Sp-5R!H=1C\">,\n",
       " 'Root_N-1R->O_3R->O_Ext-3O-R_1BrCClFHINPSSi-u0_1BrCClFHINPSSi->C_N-4R!H->C_Ext-1C-R_N-Sp-5R!H=1C': <Entry index=134 label=\"Root_N-1R->O_3R->O_Ext-3O-R_1BrCClFHINPSSi-u0_1BrCClFHINPSSi->C_N-4R!H->C_Ext-1C-R_N-Sp-5R!H=1C\">,\n",
       " 'Root_N-1R->O_3R->O_1BrCClFHINPSSi-u0_Ext-1BrCClFHINPSSi-R_N-Sp-4R!H#1BrBrBrCCCClClClFFFHHHIIINNNPPPSSSSiSiSi_4R!H->F_Ext-1BrCClFHINPSSi-R_5R!H->O': <Entry index=135 label=\"Root_N-1R->O_3R->O_1BrCClFHINPSSi-u0_Ext-1BrCClFHINPSSi-R_N-Sp-4R!H#1BrBrBrCCCClClClFFFHHHIIINNNPPPSSSSiSiSi_4R!H->F_Ext-1BrCClFHINPSSi-R_5R!H->O\">,\n",
       " 'Root_N-1R->O_3R->O_1BrCClFHINPSSi-u0_Ext-1BrCClFHINPSSi-R_N-Sp-4R!H#1BrBrBrCCCClClClFFFHHHIIINNNPPPSSSSiSiSi_4R!H->F_Ext-1BrCClFHINPSSi-R_N-5R!H->O': <Entry index=136 label=\"Root_N-1R->O_3R->O_1BrCClFHINPSSi-u0_Ext-1BrCClFHINPSSi-R_N-Sp-4R!H#1BrBrBrCCCClClClFFFHHHIIINNNPPPSSSSiSiSi_4R!H->F_Ext-1BrCClFHINPSSi-R_N-5R!H->O\">,\n",
       " 'Root_N-1R->O_3R->O_1BrCClFHINPSSi-u0_Ext-1BrCClFHINPSSi-R_N-Sp-4R!H#1BrBrBrCCCClClClFFFHHHIIINNNPPPSSSSiSiSi_N-4R!H->F_Sp-4BrCCCClClClFHINOOPSSi=1BrBrCCCCClClClClFFHHIINNOOPPSSSiSi_Ext-4CClO-R': <Entry index=137 label=\"Root_N-1R->O_3R->O_1BrCClFHINPSSi-u0_Ext-1BrCClFHINPSSi-R_N-Sp-4R!H#1BrBrBrCCCClClClFFFHHHIIINNNPPPSSSSiSiSi_N-4R!H->F_Sp-4BrCCCClClClFHINOOPSSi=1BrBrCCCCClClClClFFHHIINNOOPPSSSiSi_Ext-4CClO-R\">,\n",
       " 'Root_N-1R->O_3R->O_1BrCClFHINPSSi-u0_Ext-1BrCClFHINPSSi-R_N-Sp-4R!H#1BrBrBrCCCClClClFFFHHHIIINNNPPPSSSSiSiSi_N-4R!H->F_Sp-4BrCCCClClClFHINOOPSSi=1BrBrCCCCClClClClFFHHIINNOOPPSSSiSi_Ext-1BrCClFHINPSSi-R': <Entry index=138 label=\"Root_N-1R->O_3R->O_1BrCClFHINPSSi-u0_Ext-1BrCClFHINPSSi-R_N-Sp-4R!H#1BrBrBrCCCClClClFFFHHHIIINNNPPPSSSSiSiSi_N-4R!H->F_Sp-4BrCCCClClClFHINOOPSSi=1BrBrCCCCClClClClFFHHIINNOOPPSSSiSi_Ext-1BrCClFHINPSSi-R\">,\n",
       " 'Root_N-1R->O_3R->O_1BrCClFHINPSSi-u0_Ext-1BrCClFHINPSSi-R_N-Sp-4R!H#1BrBrBrCCCClClClFFFHHHIIINNNPPPSSSSiSiSi_N-4R!H->F_Sp-4BrCCCClClClFHINOOPSSi=1BrBrCCCCClClClClFFHHIINNOOPPSSSiSi_3O-u1': <Entry index=139 label=\"Root_N-1R->O_3R->O_1BrCClFHINPSSi-u0_Ext-1BrCClFHINPSSi-R_N-Sp-4R!H#1BrBrBrCCCClClClFFFHHHIIINNNPPPSSSSiSiSi_N-4R!H->F_Sp-4BrCCCClClClFHINOOPSSi=1BrBrCCCCClClClClFFHHIINNOOPPSSSiSi_3O-u1\">,\n",
       " 'Root_N-1R->O_3R->O_1BrCClFHINPSSi-u0_Ext-1BrCClFHINPSSi-R_N-Sp-4R!H#1BrBrBrCCCClClClFFFHHHIIINNNPPPSSSSiSiSi_N-4R!H->F_Sp-4BrCCCClClClFHINOOPSSi=1BrBrCCCCClClClClFFHHIINNOOPPSSSiSi_N-3O-u1': <Entry index=140 label=\"Root_N-1R->O_3R->O_1BrCClFHINPSSi-u0_Ext-1BrCClFHINPSSi-R_N-Sp-4R!H#1BrBrBrCCCClClClFFFHHHIIINNNPPPSSSSiSiSi_N-4R!H->F_Sp-4BrCCCClClClFHINOOPSSi=1BrBrCCCCClClClClFFHHIINNOOPPSSSiSi_N-3O-u1\">,\n",
       " 'Root_N-1R->O_3R->O_1BrCClFHINPSSi-u0_Ext-1BrCClFHINPSSi-R_N-Sp-4R!H#1BrBrBrCCCClClClFFFHHHIIINNNPPPSSSSiSiSi_N-4R!H->F_N-Sp-4BrCCCClClClFHINOOPSSi=1BrBrCCCCClClClClFFHHIINNOOPPSSSiSi_Ext-1BrCClFHINPSSi-R': <Entry index=141 label=\"Root_N-1R->O_3R->O_1BrCClFHINPSSi-u0_Ext-1BrCClFHINPSSi-R_N-Sp-4R!H#1BrBrBrCCCClClClFFFHHHIIINNNPPPSSSSiSiSi_N-4R!H->F_N-Sp-4BrCCCClClClFHINOOPSSi=1BrBrCCCCClClClClFFHHIINNOOPPSSSiSi_Ext-1BrCClFHINPSSi-R\">,\n",
       " 'Root_N-1R->O_3R->O_1BrCClFHINPSSi-u0_Ext-1BrCClFHINPSSi-R_N-Sp-4R!H#1BrBrBrCCCClClClFFFHHHIIINNNPPPSSSSiSiSi_N-4R!H->F_N-Sp-4BrCCCClClClFHINOOPSSi=1BrBrCCCCClClClClFFHHIINNOOPPSSSiSi_3O-u1': <Entry index=142 label=\"Root_N-1R->O_3R->O_1BrCClFHINPSSi-u0_Ext-1BrCClFHINPSSi-R_N-Sp-4R!H#1BrBrBrCCCClClClFFFHHHIIINNNPPPSSSSiSiSi_N-4R!H->F_N-Sp-4BrCCCClClClFHINOOPSSi=1BrBrCCCCClClClClFFHHIINNOOPPSSSiSi_3O-u1\">,\n",
       " 'Root_N-1R->O_3R->O_1BrCClFHINPSSi-u0_Ext-1BrCClFHINPSSi-R_N-Sp-4R!H#1BrBrBrCCCClClClFFFHHHIIINNNPPPSSSSiSiSi_N-4R!H->F_N-Sp-4BrCCCClClClFHINOOPSSi=1BrBrCCCCClClClClFFHHIINNOOPPSSSiSi_N-3O-u1': <Entry index=143 label=\"Root_N-1R->O_3R->O_1BrCClFHINPSSi-u0_Ext-1BrCClFHINPSSi-R_N-Sp-4R!H#1BrBrBrCCCClClClFFFHHHIIINNNPPPSSSSiSiSi_N-4R!H->F_N-Sp-4BrCCCClClClFHINOOPSSi=1BrBrCCCCClClClClFFHHIINNOOPPSSSiSi_N-3O-u1\">,\n",
       " 'Root_N-1R->O_3R->O_N-1BrCClFHINPSSi-u0_Ext-1BrCClFHINPSSi-R_Sp-4R!H-1BrCClFHINPSSi_4R!H->O_Ext-1BrCClFHINPSSi-R_5R!H->C': <Entry index=144 label=\"Root_N-1R->O_3R->O_N-1BrCClFHINPSSi-u0_Ext-1BrCClFHINPSSi-R_Sp-4R!H-1BrCClFHINPSSi_4R!H->O_Ext-1BrCClFHINPSSi-R_5R!H->C\">,\n",
       " 'Root_N-1R->O_3R->O_N-1BrCClFHINPSSi-u0_Ext-1BrCClFHINPSSi-R_Sp-4R!H-1BrCClFHINPSSi_4R!H->O_Ext-1BrCClFHINPSSi-R_N-5R!H->C': <Entry index=145 label=\"Root_N-1R->O_3R->O_N-1BrCClFHINPSSi-u0_Ext-1BrCClFHINPSSi-R_Sp-4R!H-1BrCClFHINPSSi_4R!H->O_Ext-1BrCClFHINPSSi-R_N-5R!H->C\">,\n",
       " 'Root_N-1R->O_N-3R->O_1BrCClFHINPSSi->F_3CClFH->C_Ext-3C-R_Ext-3C-R_N-4R!H->O_Ext-3C-R': <Entry index=146 label=\"Root_N-1R->O_N-3R->O_1BrCClFHINPSSi->F_3CClFH->C_Ext-3C-R_Ext-3C-R_N-4R!H->O_Ext-3C-R\">,\n",
       " 'Root_N-1R->O_N-3R->O_N-1BrCClFHINPSSi->F_3CClFH->F_1CClH->C_Ext-1C-R_Ext-1C-R_Ext-1C-R': <Entry index=147 label=\"Root_N-1R->O_N-3R->O_N-1BrCClFHINPSSi->F_3CClFH->F_1CClH->C_Ext-1C-R_Ext-1C-R_Ext-1C-R\">,\n",
       " 'Root_N-1R->O_N-3R->O_N-1BrCClFHINPSSi->F_3CClFH->F_1CClH->C_Ext-1C-R_Ext-1C-R_4R!H->O': <Entry index=148 label=\"Root_N-1R->O_N-3R->O_N-1BrCClFHINPSSi->F_3CClFH->F_1CClH->C_Ext-1C-R_Ext-1C-R_4R!H->O\">,\n",
       " 'Root_N-1R->O_N-3R->O_N-1BrCClFHINPSSi->F_3CClFH->F_1CClH->C_Ext-1C-R_Ext-1C-R_N-4R!H->O': <Entry index=149 label=\"Root_N-1R->O_N-3R->O_N-1BrCClFHINPSSi->F_3CClFH->F_1CClH->C_Ext-1C-R_Ext-1C-R_N-4R!H->O\">,\n",
       " 'Root_N-1R->O_N-3R->O_N-1BrCClFHINPSSi->F_N-3CClFH->F_3CClH->H_1CClH->C_Ext-1C-R_4R!H->F': <Entry index=150 label=\"Root_N-1R->O_N-3R->O_N-1BrCClFHINPSSi->F_N-3CClFH->F_3CClH->H_1CClH->C_Ext-1C-R_4R!H->F\">,\n",
       " 'Root_N-1R->O_N-3R->O_N-1BrCClFHINPSSi->F_N-3CClFH->F_3CClH->H_1CClH->C_Ext-1C-R_N-4R!H->F': <Entry index=151 label=\"Root_N-1R->O_N-3R->O_N-1BrCClFHINPSSi->F_N-3CClFH->F_3CClH->H_1CClH->C_Ext-1C-R_N-4R!H->F\">,\n",
       " 'Root_N-1R->O_N-3R->O_N-1BrCClFHINPSSi->F_N-3CClFH->F_N-3CClH->H_3CCl-u1_1CClH->C_Ext-1C-R': <Entry index=152 label=\"Root_N-1R->O_N-3R->O_N-1BrCClFHINPSSi->F_N-3CClFH->F_N-3CClH->H_3CCl-u1_1CClH->C_Ext-1C-R\">,\n",
       " 'Root_N-1R->O_N-3R->O_N-1BrCClFHINPSSi->F_N-3CClFH->F_N-3CClH->H_3CCl-u1_1CClH->C_Ext-3CCl-R_Sp-4R!H=3CCClCl': <Entry index=153 label=\"Root_N-1R->O_N-3R->O_N-1BrCClFHINPSSi->F_N-3CClFH->F_N-3CClH->H_3CCl-u1_1CClH->C_Ext-3CCl-R_Sp-4R!H=3CCClCl\">,\n",
       " 'Root_N-1R->O_N-3R->O_N-1BrCClFHINPSSi->F_N-3CClFH->F_N-3CClH->H_3CCl-u1_1CClH->C_Ext-3CCl-R_N-Sp-4R!H=3CCClCl': <Entry index=154 label=\"Root_N-1R->O_N-3R->O_N-1BrCClFHINPSSi->F_N-3CClFH->F_N-3CClH->H_3CCl-u1_1CClH->C_Ext-3CCl-R_N-Sp-4R!H=3CCClCl\">,\n",
       " 'Root_N-1R->O_N-3R->O_N-1BrCClFHINPSSi->F_N-3CClFH->F_N-3CClH->H_3CCl-u1_N-1CClH->C_3CCl->Cl': <Entry index=155 label=\"Root_N-1R->O_N-3R->O_N-1BrCClFHINPSSi->F_N-3CClFH->F_N-3CClH->H_3CCl-u1_N-1CClH->C_3CCl->Cl\">,\n",
       " 'Root_N-1R->O_N-3R->O_N-1BrCClFHINPSSi->F_N-3CClFH->F_N-3CClH->H_3CCl-u1_N-1CClH->C_N-3CCl->Cl': <Entry index=156 label=\"Root_N-1R->O_N-3R->O_N-1BrCClFHINPSSi->F_N-3CClFH->F_N-3CClH->H_3CCl-u1_N-1CClH->C_N-3CCl->Cl\">,\n",
       " 'Root_N-1R->O_N-3R->O_N-1BrCClFHINPSSi->F_N-3CClFH->F_N-3CClH->H_N-3CCl-u1_Ext-3CCl-R_Ext-3CCl-R_4R!H->O': <Entry index=157 label=\"Root_N-1R->O_N-3R->O_N-1BrCClFHINPSSi->F_N-3CClFH->F_N-3CClH->H_N-3CCl-u1_Ext-3CCl-R_Ext-3CCl-R_4R!H->O\">,\n",
       " 'Root_N-1R->O_N-3R->O_N-1BrCClFHINPSSi->F_N-3CClFH->F_N-3CClH->H_N-3CCl-u1_Ext-3CCl-R_Ext-3CCl-R_N-4R!H->O': <Entry index=158 label=\"Root_N-1R->O_N-3R->O_N-1BrCClFHINPSSi->F_N-3CClFH->F_N-3CClH->H_N-3CCl-u1_Ext-3CCl-R_Ext-3CCl-R_N-4R!H->O\">,\n",
       " 'Root_N-1R->O_N-3R->O_N-1BrCClFHINPSSi->F_N-3CClFH->F_N-3CClH->H_N-3CCl-u1_Ext-3CCl-R_Sp-4R!H-3CCl_4R!H->C': <Entry index=159 label=\"Root_N-1R->O_N-3R->O_N-1BrCClFHINPSSi->F_N-3CClFH->F_N-3CClH->H_N-3CCl-u1_Ext-3CCl-R_Sp-4R!H-3CCl_4R!H->C\">,\n",
       " 'Root_N-1R->O_N-3R->O_N-1BrCClFHINPSSi->F_N-3CClFH->F_N-3CClH->H_N-3CCl-u1_Ext-3CCl-R_Sp-4R!H-3CCl_N-4R!H->C': <Entry index=160 label=\"Root_N-1R->O_N-3R->O_N-1BrCClFHINPSSi->F_N-3CClFH->F_N-3CClH->H_N-3CCl-u1_Ext-3CCl-R_Sp-4R!H-3CCl_N-4R!H->C\">,\n",
       " 'Root_1R->O_N-3R->O_1O-u0_3CClFH-u1_Ext-3CClFH-R_N-4R!H->Cl_Ext-4BrCFINOPSSi-R_Sp-4BrCFINOPSSi-3BrCCClFFHINOPSSi_Ext-4BrCFINOPSSi-R': <Entry index=161 label=\"Root_1R->O_N-3R->O_1O-u0_3CClFH-u1_Ext-3CClFH-R_N-4R!H->Cl_Ext-4BrCFINOPSSi-R_Sp-4BrCFINOPSSi-3BrCCClFFHINOPSSi_Ext-4BrCFINOPSSi-R\">,\n",
       " 'Root_1R->O_N-3R->O_1O-u0_3CClFH-u1_Ext-3CClFH-R_N-4R!H->Cl_Ext-4BrCFINOPSSi-R_Sp-4BrCFINOPSSi-3BrCCClFFHINOPSSi_Ext-1O-R': <Entry index=162 label=\"Root_1R->O_N-3R->O_1O-u0_3CClFH-u1_Ext-3CClFH-R_N-4R!H->Cl_Ext-4BrCFINOPSSi-R_Sp-4BrCFINOPSSi-3BrCCClFFHINOPSSi_Ext-1O-R\">,\n",
       " 'Root_1R->O_N-3R->O_1O-u0_3CClFH-u1_Ext-3CClFH-R_N-4R!H->Cl_N-Sp-4BrBrBrCCCCCClClFFFFFHHIIINNNOOOPPPSSSSiSiSi#3BrBrBrCCCCCCClClClFFFFFFHHHIIINNNOOOPPPSSSSiSiSi_Sp-4BrCFINOPSSi-3BrCCClFFHINOPSSi_4BrCFINOPSSi->C': <Entry index=163 label=\"Root_1R->O_N-3R->O_1O-u0_3CClFH-u1_Ext-3CClFH-R_N-4R!H->Cl_N-Sp-4BrBrBrCCCCCClClFFFFFHHIIINNNOOOPPPSSSSiSiSi#3BrBrBrCCCCCCClClClFFFFFFHHHIIINNNOOOPPPSSSSiSiSi_Sp-4BrCFINOPSSi-3BrCCClFFHINOPSSi_4BrCFINOPSSi->C\">,\n",
       " 'Root_1R->O_N-3R->O_1O-u0_3CClFH-u1_Ext-3CClFH-R_N-4R!H->Cl_N-Sp-4BrBrBrCCCCCClClFFFFFHHIIINNNOOOPPPSSSSiSiSi#3BrBrBrCCCCCCClClClFFFFFFHHHIIINNNOOOPPPSSSSiSiSi_Sp-4BrCFINOPSSi-3BrCCClFFHINOPSSi_N-4BrCFINOPSSi->C': <Entry index=164 label=\"Root_1R->O_N-3R->O_1O-u0_3CClFH-u1_Ext-3CClFH-R_N-4R!H->Cl_N-Sp-4BrBrBrCCCCCClClFFFFFHHIIINNNOOOPPPSSSSiSiSi#3BrBrBrCCCCCCClClClFFFFFFHHHIIINNNOOOPPPSSSSiSiSi_Sp-4BrCFINOPSSi-3BrCCClFFHINOPSSi_N-4BrCFINOPSSi->C\">,\n",
       " 'Root_1R->O_N-3R->O_1O-u0_3CClFH-u1_Ext-3CClFH-R_N-4R!H->Cl_N-Sp-4BrBrBrCCCCCClClFFFFFHHIIINNNOOOPPPSSSSiSiSi#3BrBrBrCCCCCCClClClFFFFFFHHHIIINNNOOOPPPSSSSiSiSi_N-Sp-4BrCFINOPSSi-3BrCCClFFHINOPSSi_4BrCFINOPSSi->C': <Entry index=165 label=\"Root_1R->O_N-3R->O_1O-u0_3CClFH-u1_Ext-3CClFH-R_N-4R!H->Cl_N-Sp-4BrBrBrCCCCCClClFFFFFHHIIINNNOOOPPPSSSSiSiSi#3BrBrBrCCCCCCClClClFFFFFFHHHIIINNNOOOPPPSSSSiSiSi_N-Sp-4BrCFINOPSSi-3BrCCClFFHINOPSSi_4BrCFINOPSSi->C\">,\n",
       " 'Root_1R->O_N-3R->O_1O-u0_3CClFH-u1_Ext-3CClFH-R_N-4R!H->Cl_N-Sp-4BrBrBrCCCCCClClFFFFFHHIIINNNOOOPPPSSSSiSiSi#3BrBrBrCCCCCCClClClFFFFFFHHHIIINNNOOOPPPSSSSiSiSi_N-Sp-4BrCFINOPSSi-3BrCCClFFHINOPSSi_N-4BrCFINOPSSi->C': <Entry index=166 label=\"Root_1R->O_N-3R->O_1O-u0_3CClFH-u1_Ext-3CClFH-R_N-4R!H->Cl_N-Sp-4BrBrBrCCCCCClClFFFFFHHIIINNNOOOPPPSSSSiSiSi#3BrBrBrCCCCCCClClClFFFFFFHHHIIINNNOOOPPPSSSSiSiSi_N-Sp-4BrCFINOPSSi-3BrCCClFFHINOPSSi_N-4BrCFINOPSSi->C\">,\n",
       " 'Root_1R->O_N-3R->O_1O-u0_N-3CClFH-u1_Ext-3CClFH-R_Ext-3CClFH-R_4R!H->C_5R!H->C_Ext-1O-R': <Entry index=167 label=\"Root_1R->O_N-3R->O_1O-u0_N-3CClFH-u1_Ext-3CClFH-R_Ext-3CClFH-R_4R!H->C_5R!H->C_Ext-1O-R\">,\n",
       " 'Root_1R->O_N-3R->O_N-1O-u0_Ext-3CClFH-R_Sp-4R!H-3CClFH_N-4R!H->O_4CF->F_Ext-3CClFH-R_Ext-3CClFH-R': <Entry index=168 label=\"Root_1R->O_N-3R->O_N-1O-u0_Ext-3CClFH-R_Sp-4R!H-3CClFH_N-4R!H->O_4CF->F_Ext-3CClFH-R_Ext-3CClFH-R\">,\n",
       " 'Root_1R->O_N-3R->O_N-1O-u0_Ext-3CClFH-R_Sp-4R!H-3CClFH_N-4R!H->O_4CF->F_Ext-3CClFH-R_5R!H->F': <Entry index=169 label=\"Root_1R->O_N-3R->O_N-1O-u0_Ext-3CClFH-R_Sp-4R!H-3CClFH_N-4R!H->O_4CF->F_Ext-3CClFH-R_5R!H->F\">,\n",
       " 'Root_1R->O_N-3R->O_N-1O-u0_Ext-3CClFH-R_Sp-4R!H-3CClFH_N-4R!H->O_4CF->F_Ext-3CClFH-R_N-5R!H->F': <Entry index=170 label=\"Root_1R->O_N-3R->O_N-1O-u0_Ext-3CClFH-R_Sp-4R!H-3CClFH_N-4R!H->O_4CF->F_Ext-3CClFH-R_N-5R!H->F\">,\n",
       " 'Root_N-1R->O_3R->O_Ext-3O-R_1BrCClFHINPSSi-u0_1BrCClFHINPSSi->C_4R!H->C_Ext-1C-R_5R!H->C_Ext-5C-R': <Entry index=171 label=\"Root_N-1R->O_3R->O_Ext-3O-R_1BrCClFHINPSSi-u0_1BrCClFHINPSSi->C_4R!H->C_Ext-1C-R_5R!H->C_Ext-5C-R\">,\n",
       " 'Root_N-1R->O_3R->O_Ext-3O-R_1BrCClFHINPSSi-u0_1BrCClFHINPSSi->C_N-4R!H->C_Ext-1C-R_Sp-5R!H=1C_5R!H->C': <Entry index=172 label=\"Root_N-1R->O_3R->O_Ext-3O-R_1BrCClFHINPSSi-u0_1BrCClFHINPSSi->C_N-4R!H->C_Ext-1C-R_Sp-5R!H=1C_5R!H->C\">,\n",
       " 'Root_N-1R->O_3R->O_Ext-3O-R_1BrCClFHINPSSi-u0_1BrCClFHINPSSi->C_N-4R!H->C_Ext-1C-R_Sp-5R!H=1C_N-5R!H->C': <Entry index=173 label=\"Root_N-1R->O_3R->O_Ext-3O-R_1BrCClFHINPSSi-u0_1BrCClFHINPSSi->C_N-4R!H->C_Ext-1C-R_Sp-5R!H=1C_N-5R!H->C\">,\n",
       " 'Root_N-1R->O_3R->O_Ext-3O-R_1BrCClFHINPSSi-u0_1BrCClFHINPSSi->C_N-4R!H->C_Ext-1C-R_N-Sp-5R!H=1C_4FO->F': <Entry index=174 label=\"Root_N-1R->O_3R->O_Ext-3O-R_1BrCClFHINPSSi-u0_1BrCClFHINPSSi->C_N-4R!H->C_Ext-1C-R_N-Sp-5R!H=1C_4FO->F\">,\n",
       " 'Root_N-1R->O_3R->O_Ext-3O-R_1BrCClFHINPSSi-u0_1BrCClFHINPSSi->C_N-4R!H->C_Ext-1C-R_N-Sp-5R!H=1C_N-4FO->F': <Entry index=175 label=\"Root_N-1R->O_3R->O_Ext-3O-R_1BrCClFHINPSSi-u0_1BrCClFHINPSSi->C_N-4R!H->C_Ext-1C-R_N-Sp-5R!H=1C_N-4FO->F\">,\n",
       " 'Root_N-1R->O_3R->O_1BrCClFHINPSSi-u0_Ext-1BrCClFHINPSSi-R_N-Sp-4R!H#1BrBrBrCCCClClClFFFHHHIIINNNPPPSSSSiSiSi_4R!H->F_Ext-1BrCClFHINPSSi-R_5R!H->O_3O-u1': <Entry index=176 label=\"Root_N-1R->O_3R->O_1BrCClFHINPSSi-u0_Ext-1BrCClFHINPSSi-R_N-Sp-4R!H#1BrBrBrCCCClClClFFFHHHIIINNNPPPSSSSiSiSi_4R!H->F_Ext-1BrCClFHINPSSi-R_5R!H->O_3O-u1\">,\n",
       " 'Root_N-1R->O_3R->O_1BrCClFHINPSSi-u0_Ext-1BrCClFHINPSSi-R_N-Sp-4R!H#1BrBrBrCCCClClClFFFHHHIIINNNPPPSSSSiSiSi_4R!H->F_Ext-1BrCClFHINPSSi-R_5R!H->O_N-3O-u1': <Entry index=177 label=\"Root_N-1R->O_3R->O_1BrCClFHINPSSi-u0_Ext-1BrCClFHINPSSi-R_N-Sp-4R!H#1BrBrBrCCCClClClFFFHHHIIINNNPPPSSSSiSiSi_4R!H->F_Ext-1BrCClFHINPSSi-R_5R!H->O_N-3O-u1\">,\n",
       " 'Root_N-1R->O_3R->O_1BrCClFHINPSSi-u0_Ext-1BrCClFHINPSSi-R_N-Sp-4R!H#1BrBrBrCCCClClClFFFHHHIIINNNPPPSSSSiSiSi_4R!H->F_Ext-1BrCClFHINPSSi-R_N-5R!H->O_Ext-1BrCClFHINPSSi-R': <Entry index=178 label=\"Root_N-1R->O_3R->O_1BrCClFHINPSSi-u0_Ext-1BrCClFHINPSSi-R_N-Sp-4R!H#1BrBrBrCCCClClClFFFHHHIIINNNPPPSSSSiSiSi_4R!H->F_Ext-1BrCClFHINPSSi-R_N-5R!H->O_Ext-1BrCClFHINPSSi-R\">,\n",
       " 'Root_N-1R->O_3R->O_1BrCClFHINPSSi-u0_Ext-1BrCClFHINPSSi-R_N-Sp-4R!H#1BrBrBrCCCClClClFFFHHHIIINNNPPPSSSSiSiSi_4R!H->F_Ext-1BrCClFHINPSSi-R_N-5R!H->O_3O-u1': <Entry index=179 label=\"Root_N-1R->O_3R->O_1BrCClFHINPSSi-u0_Ext-1BrCClFHINPSSi-R_N-Sp-4R!H#1BrBrBrCCCClClClFFFHHHIIINNNPPPSSSSiSiSi_4R!H->F_Ext-1BrCClFHINPSSi-R_N-5R!H->O_3O-u1\">,\n",
       " 'Root_N-1R->O_3R->O_1BrCClFHINPSSi-u0_Ext-1BrCClFHINPSSi-R_N-Sp-4R!H#1BrBrBrCCCClClClFFFHHHIIINNNPPPSSSSiSiSi_4R!H->F_Ext-1BrCClFHINPSSi-R_N-5R!H->O_N-3O-u1': <Entry index=180 label=\"Root_N-1R->O_3R->O_1BrCClFHINPSSi-u0_Ext-1BrCClFHINPSSi-R_N-Sp-4R!H#1BrBrBrCCCClClClFFFHHHIIINNNPPPSSSSiSiSi_4R!H->F_Ext-1BrCClFHINPSSi-R_N-5R!H->O_N-3O-u1\">,\n",
       " 'Root_N-1R->O_3R->O_1BrCClFHINPSSi-u0_Ext-1BrCClFHINPSSi-R_N-Sp-4R!H#1BrBrBrCCCClClClFFFHHHIIINNNPPPSSSSiSiSi_N-4R!H->F_Sp-4BrCCCClClClFHINOOPSSi=1BrBrCCCCClClClClFFHHIINNOOPPSSSiSi_Ext-1BrCClFHINPSSi-R_3O-u1': <Entry index=181 label=\"Root_N-1R->O_3R->O_1BrCClFHINPSSi-u0_Ext-1BrCClFHINPSSi-R_N-Sp-4R!H#1BrBrBrCCCClClClFFFHHHIIINNNPPPSSSSiSiSi_N-4R!H->F_Sp-4BrCCCClClClFHINOOPSSi=1BrBrCCCCClClClClFFHHIINNOOPPSSSiSi_Ext-1BrCClFHINPSSi-R_3O-u1\">,\n",
       " 'Root_N-1R->O_3R->O_1BrCClFHINPSSi-u0_Ext-1BrCClFHINPSSi-R_N-Sp-4R!H#1BrBrBrCCCClClClFFFHHHIIINNNPPPSSSSiSiSi_N-4R!H->F_Sp-4BrCCCClClClFHINOOPSSi=1BrBrCCCCClClClClFFHHIINNOOPPSSSiSi_Ext-1BrCClFHINPSSi-R_N-3O-u1': <Entry index=182 label=\"Root_N-1R->O_3R->O_1BrCClFHINPSSi-u0_Ext-1BrCClFHINPSSi-R_N-Sp-4R!H#1BrBrBrCCCClClClFFFHHHIIINNNPPPSSSSiSiSi_N-4R!H->F_Sp-4BrCCCClClClFHINOOPSSi=1BrBrCCCCClClClClFFHHIINNOOPPSSSiSi_Ext-1BrCClFHINPSSi-R_N-3O-u1\">,\n",
       " 'Root_N-1R->O_3R->O_1BrCClFHINPSSi-u0_Ext-1BrCClFHINPSSi-R_N-Sp-4R!H#1BrBrBrCCCClClClFFFHHHIIINNNPPPSSSSiSiSi_N-4R!H->F_N-Sp-4BrCCCClClClFHINOOPSSi=1BrBrCCCCClClClClFFHHIINNOOPPSSSiSi_Ext-1BrCClFHINPSSi-R_4CClO->C': <Entry index=183 label=\"Root_N-1R->O_3R->O_1BrCClFHINPSSi-u0_Ext-1BrCClFHINPSSi-R_N-Sp-4R!H#1BrBrBrCCCClClClFFFHHHIIINNNPPPSSSSiSiSi_N-4R!H->F_N-Sp-4BrCCCClClClFHINOOPSSi=1BrBrCCCCClClClClFFHHIINNOOPPSSSiSi_Ext-1BrCClFHINPSSi-R_4CClO->C\">,\n",
       " 'Root_N-1R->O_3R->O_1BrCClFHINPSSi-u0_Ext-1BrCClFHINPSSi-R_N-Sp-4R!H#1BrBrBrCCCClClClFFFHHHIIINNNPPPSSSSiSiSi_N-4R!H->F_N-Sp-4BrCCCClClClFHINOOPSSi=1BrBrCCCCClClClClFFHHIINNOOPPSSSiSi_Ext-1BrCClFHINPSSi-R_N-4CClO->C': <Entry index=184 label=\"Root_N-1R->O_3R->O_1BrCClFHINPSSi-u0_Ext-1BrCClFHINPSSi-R_N-Sp-4R!H#1BrBrBrCCCClClClFFFHHHIIINNNPPPSSSSiSiSi_N-4R!H->F_N-Sp-4BrCCCClClClFHINOOPSSi=1BrBrCCCCClClClClFFHHIINNOOPPSSSiSi_Ext-1BrCClFHINPSSi-R_N-4CClO->C\">,\n",
       " 'Root_N-1R->O_3R->O_1BrCClFHINPSSi-u0_Ext-1BrCClFHINPSSi-R_N-Sp-4R!H#1BrBrBrCCCClClClFFFHHHIIINNNPPPSSSSiSiSi_N-4R!H->F_N-Sp-4BrCCCClClClFHINOOPSSi=1BrBrCCCCClClClClFFHHIINNOOPPSSSiSi_3O-u1_4CClO->Cl': <Entry index=185 label=\"Root_N-1R->O_3R->O_1BrCClFHINPSSi-u0_Ext-1BrCClFHINPSSi-R_N-Sp-4R!H#1BrBrBrCCCClClClFFFHHHIIINNNPPPSSSSiSiSi_N-4R!H->F_N-Sp-4BrCCCClClClFHINOOPSSi=1BrBrCCCCClClClClFFHHIINNOOPPSSSiSi_3O-u1_4CClO->Cl\">,\n",
       " 'Root_N-1R->O_3R->O_1BrCClFHINPSSi-u0_Ext-1BrCClFHINPSSi-R_N-Sp-4R!H#1BrBrBrCCCClClClFFFHHHIIINNNPPPSSSSiSiSi_N-4R!H->F_N-Sp-4BrCCCClClClFHINOOPSSi=1BrBrCCCCClClClClFFHHIINNOOPPSSSiSi_3O-u1_N-4CClO->Cl': <Entry index=186 label=\"Root_N-1R->O_3R->O_1BrCClFHINPSSi-u0_Ext-1BrCClFHINPSSi-R_N-Sp-4R!H#1BrBrBrCCCClClClFFFHHHIIINNNPPPSSSSiSiSi_N-4R!H->F_N-Sp-4BrCCCClClClFHINOOPSSi=1BrBrCCCCClClClClFFHHIINNOOPPSSSiSi_3O-u1_N-4CClO->Cl\">,\n",
       " 'Root_N-1R->O_N-3R->O_N-1BrCClFHINPSSi->F_N-3CClFH->F_3CClH->H_1CClH->C_Ext-1C-R_4R!H->F_Ext-1C-R': <Entry index=187 label=\"Root_N-1R->O_N-3R->O_N-1BrCClFHINPSSi->F_N-3CClFH->F_3CClH->H_1CClH->C_Ext-1C-R_4R!H->F_Ext-1C-R\">,\n",
       " 'Root_N-1R->O_N-3R->O_N-1BrCClFHINPSSi->F_N-3CClFH->F_3CClH->H_1CClH->C_Ext-1C-R_N-4R!H->F_Sp-4BrBrCCClClIINNOOPPSSSiSi=1C': <Entry index=188 label=\"Root_N-1R->O_N-3R->O_N-1BrCClFHINPSSi->F_N-3CClFH->F_3CClH->H_1CClH->C_Ext-1C-R_N-4R!H->F_Sp-4BrBrCCClClIINNOOPPSSSiSi=1C\">,\n",
       " 'Root_N-1R->O_N-3R->O_N-1BrCClFHINPSSi->F_N-3CClFH->F_3CClH->H_1CClH->C_Ext-1C-R_N-4R!H->F_N-Sp-4BrBrCCClClIINNOOPPSSSiSi=1C': <Entry index=189 label=\"Root_N-1R->O_N-3R->O_N-1BrCClFHINPSSi->F_N-3CClFH->F_3CClH->H_1CClH->C_Ext-1C-R_N-4R!H->F_N-Sp-4BrBrCCClClIINNOOPPSSSiSi=1C\">,\n",
       " 'Root_N-1R->O_N-3R->O_N-1BrCClFHINPSSi->F_N-3CClFH->F_N-3CClH->H_3CCl-u1_1CClH->C_Ext-1C-R_1C-u0': <Entry index=190 label=\"Root_N-1R->O_N-3R->O_N-1BrCClFHINPSSi->F_N-3CClFH->F_N-3CClH->H_3CCl-u1_1CClH->C_Ext-1C-R_1C-u0\">,\n",
       " 'Root_N-1R->O_N-3R->O_N-1BrCClFHINPSSi->F_N-3CClFH->F_N-3CClH->H_3CCl-u1_1CClH->C_Ext-1C-R_N-1C-u0': <Entry index=191 label=\"Root_N-1R->O_N-3R->O_N-1BrCClFHINPSSi->F_N-3CClFH->F_N-3CClH->H_3CCl-u1_1CClH->C_Ext-1C-R_N-1C-u0\">,\n",
       " 'Root_N-1R->O_N-3R->O_N-1BrCClFHINPSSi->F_N-3CClFH->F_N-3CClH->H_3CCl-u1_1CClH->C_Ext-3CCl-R_Sp-4R!H=3CCClCl_Ext-3CCl-R': <Entry index=192 label=\"Root_N-1R->O_N-3R->O_N-1BrCClFHINPSSi->F_N-3CClFH->F_N-3CClH->H_3CCl-u1_1CClH->C_Ext-3CCl-R_Sp-4R!H=3CCClCl_Ext-3CCl-R\">,\n",
       " 'Root_N-1R->O_N-3R->O_N-1BrCClFHINPSSi->F_N-3CClFH->F_N-3CClH->H_3CCl-u1_1CClH->C_Ext-3CCl-R_Sp-4R!H=3CCClCl_4R!H->C': <Entry index=193 label=\"Root_N-1R->O_N-3R->O_N-1BrCClFHINPSSi->F_N-3CClFH->F_N-3CClH->H_3CCl-u1_1CClH->C_Ext-3CCl-R_Sp-4R!H=3CCClCl_4R!H->C\">,\n",
       " 'Root_N-1R->O_N-3R->O_N-1BrCClFHINPSSi->F_N-3CClFH->F_N-3CClH->H_3CCl-u1_1CClH->C_Ext-3CCl-R_Sp-4R!H=3CCClCl_N-4R!H->C': <Entry index=194 label=\"Root_N-1R->O_N-3R->O_N-1BrCClFHINPSSi->F_N-3CClFH->F_N-3CClH->H_3CCl-u1_1CClH->C_Ext-3CCl-R_Sp-4R!H=3CCClCl_N-4R!H->C\">,\n",
       " 'Root_N-1R->O_N-3R->O_N-1BrCClFHINPSSi->F_N-3CClFH->F_N-3CClH->H_3CCl-u1_1CClH->C_Ext-3CCl-R_N-Sp-4R!H=3CCClCl_Ext-3CCl-R': <Entry index=195 label=\"Root_N-1R->O_N-3R->O_N-1BrCClFHINPSSi->F_N-3CClFH->F_N-3CClH->H_3CCl-u1_1CClH->C_Ext-3CCl-R_N-Sp-4R!H=3CCClCl_Ext-3CCl-R\">,\n",
       " 'Root_N-1R->O_N-3R->O_N-1BrCClFHINPSSi->F_N-3CClFH->F_N-3CClH->H_3CCl-u1_1CClH->C_Ext-3CCl-R_N-Sp-4R!H=3CCClCl_4R!H->C': <Entry index=196 label=\"Root_N-1R->O_N-3R->O_N-1BrCClFHINPSSi->F_N-3CClFH->F_N-3CClH->H_3CCl-u1_1CClH->C_Ext-3CCl-R_N-Sp-4R!H=3CCClCl_4R!H->C\">,\n",
       " 'Root_N-1R->O_N-3R->O_N-1BrCClFHINPSSi->F_N-3CClFH->F_N-3CClH->H_3CCl-u1_1CClH->C_Ext-3CCl-R_N-Sp-4R!H=3CCClCl_N-4R!H->C': <Entry index=197 label=\"Root_N-1R->O_N-3R->O_N-1BrCClFHINPSSi->F_N-3CClFH->F_N-3CClH->H_3CCl-u1_1CClH->C_Ext-3CCl-R_N-Sp-4R!H=3CCClCl_N-4R!H->C\">,\n",
       " 'Root_N-1R->O_N-3R->O_N-1BrCClFHINPSSi->F_N-3CClFH->F_N-3CClH->H_3CCl-u1_N-1CClH->C_N-3CCl->Cl_Ext-3C-R': <Entry index=198 label=\"Root_N-1R->O_N-3R->O_N-1BrCClFHINPSSi->F_N-3CClFH->F_N-3CClH->H_3CCl-u1_N-1CClH->C_N-3CCl->Cl_Ext-3C-R\">,\n",
       " 'Root_N-1R->O_N-3R->O_N-1BrCClFHINPSSi->F_N-3CClFH->F_N-3CClH->H_N-3CCl-u1_Ext-3CCl-R_Ext-3CCl-R_4R!H->O_5R!H->C': <Entry index=199 label=\"Root_N-1R->O_N-3R->O_N-1BrCClFHINPSSi->F_N-3CClFH->F_N-3CClH->H_N-3CCl-u1_Ext-3CCl-R_Ext-3CCl-R_4R!H->O_5R!H->C\">,\n",
       " 'Root_N-1R->O_N-3R->O_N-1BrCClFHINPSSi->F_N-3CClFH->F_N-3CClH->H_N-3CCl-u1_Ext-3CCl-R_Ext-3CCl-R_4R!H->O_N-5R!H->C': <Entry index=200 label=\"Root_N-1R->O_N-3R->O_N-1BrCClFHINPSSi->F_N-3CClFH->F_N-3CClH->H_N-3CCl-u1_Ext-3CCl-R_Ext-3CCl-R_4R!H->O_N-5R!H->C\">,\n",
       " 'Root_1R->O_N-3R->O_1O-u0_3CClFH-u1_Ext-3CClFH-R_N-4R!H->Cl_Ext-4BrCFINOPSSi-R_Sp-4BrCFINOPSSi-3BrCCClFFHINOPSSi_Ext-1O-R_6R!H->C': <Entry index=201 label=\"Root_1R->O_N-3R->O_1O-u0_3CClFH-u1_Ext-3CClFH-R_N-4R!H->Cl_Ext-4BrCFINOPSSi-R_Sp-4BrCFINOPSSi-3BrCCClFFHINOPSSi_Ext-1O-R_6R!H->C\">,\n",
       " 'Root_1R->O_N-3R->O_1O-u0_3CClFH-u1_Ext-3CClFH-R_N-4R!H->Cl_Ext-4BrCFINOPSSi-R_Sp-4BrCFINOPSSi-3BrCCClFFHINOPSSi_Ext-1O-R_N-6R!H->C': <Entry index=202 label=\"Root_1R->O_N-3R->O_1O-u0_3CClFH-u1_Ext-3CClFH-R_N-4R!H->Cl_Ext-4BrCFINOPSSi-R_Sp-4BrCFINOPSSi-3BrCCClFFHINOPSSi_Ext-1O-R_N-6R!H->C\">,\n",
       " 'Root_1R->O_N-3R->O_1O-u0_3CClFH-u1_Ext-3CClFH-R_N-4R!H->Cl_N-Sp-4BrBrBrCCCCCClClFFFFFHHIIINNNOOOPPPSSSSiSiSi#3BrBrBrCCCCCCClClClFFFFFFHHHIIINNNOOOPPPSSSSiSiSi_Sp-4BrCFINOPSSi-3BrCCClFFHINOPSSi_4BrCFINOPSSi->C_Ext-3CClFH-R': <Entry index=203 label=\"Root_1R->O_N-3R->O_1O-u0_3CClFH-u1_Ext-3CClFH-R_N-4R!H->Cl_N-Sp-4BrBrBrCCCCCClClFFFFFHHIIINNNOOOPPPSSSSiSiSi#3BrBrBrCCCCCCClClClFFFFFFHHHIIINNNOOOPPPSSSSiSiSi_Sp-4BrCFINOPSSi-3BrCCClFFHINOPSSi_4BrCFINOPSSi->C_Ext-3CClFH-R\">,\n",
       " 'Root_1R->O_N-3R->O_1O-u0_3CClFH-u1_Ext-3CClFH-R_N-4R!H->Cl_N-Sp-4BrBrBrCCCCCClClFFFFFHHIIINNNOOOPPPSSSSiSiSi#3BrBrBrCCCCCCClClClFFFFFFHHHIIINNNOOOPPPSSSSiSiSi_Sp-4BrCFINOPSSi-3BrCCClFFHINOPSSi_4BrCFINOPSSi->C_Ext-1O-R': <Entry index=204 label=\"Root_1R->O_N-3R->O_1O-u0_3CClFH-u1_Ext-3CClFH-R_N-4R!H->Cl_N-Sp-4BrBrBrCCCCCClClFFFFFHHIIINNNOOOPPPSSSSiSiSi#3BrBrBrCCCCCCClClClFFFFFFHHHIIINNNOOOPPPSSSSiSiSi_Sp-4BrCFINOPSSi-3BrCCClFFHINOPSSi_4BrCFINOPSSi->C_Ext-1O-R\">,\n",
       " 'Root_1R->O_N-3R->O_1O-u0_3CClFH-u1_Ext-3CClFH-R_N-4R!H->Cl_N-Sp-4BrBrBrCCCCCClClFFFFFHHIIINNNOOOPPPSSSSiSiSi#3BrBrBrCCCCCCClClClFFFFFFHHHIIINNNOOOPPPSSSSiSiSi_Sp-4BrCFINOPSSi-3BrCCClFFHINOPSSi_N-4BrCFINOPSSi->C_Ext-1O-R': <Entry index=205 label=\"Root_1R->O_N-3R->O_1O-u0_3CClFH-u1_Ext-3CClFH-R_N-4R!H->Cl_N-Sp-4BrBrBrCCCCCClClFFFFFHHIIINNNOOOPPPSSSSiSiSi#3BrBrBrCCCCCCClClClFFFFFFHHHIIINNNOOOPPPSSSSiSiSi_Sp-4BrCFINOPSSi-3BrCCClFFHINOPSSi_N-4BrCFINOPSSi->C_Ext-1O-R\">,\n",
       " 'Root_1R->O_N-3R->O_1O-u0_3CClFH-u1_Ext-3CClFH-R_N-4R!H->Cl_N-Sp-4BrBrBrCCCCCClClFFFFFHHIIINNNOOOPPPSSSSiSiSi#3BrBrBrCCCCCCClClClFFFFFFHHHIIINNNOOOPPPSSSSiSiSi_Sp-4BrCFINOPSSi-3BrCCClFFHINOPSSi_N-4BrCFINOPSSi->C_4FO->F': <Entry index=206 label=\"Root_1R->O_N-3R->O_1O-u0_3CClFH-u1_Ext-3CClFH-R_N-4R!H->Cl_N-Sp-4BrBrBrCCCCCClClFFFFFHHIIINNNOOOPPPSSSSiSiSi#3BrBrBrCCCCCCClClClFFFFFFHHHIIINNNOOOPPPSSSSiSiSi_Sp-4BrCFINOPSSi-3BrCCClFFHINOPSSi_N-4BrCFINOPSSi->C_4FO->F\">,\n",
       " 'Root_1R->O_N-3R->O_1O-u0_3CClFH-u1_Ext-3CClFH-R_N-4R!H->Cl_N-Sp-4BrBrBrCCCCCClClFFFFFHHIIINNNOOOPPPSSSSiSiSi#3BrBrBrCCCCCCClClClFFFFFFHHHIIINNNOOOPPPSSSSiSiSi_Sp-4BrCFINOPSSi-3BrCCClFFHINOPSSi_N-4BrCFINOPSSi->C_N-4FO->F': <Entry index=207 label=\"Root_1R->O_N-3R->O_1O-u0_3CClFH-u1_Ext-3CClFH-R_N-4R!H->Cl_N-Sp-4BrBrBrCCCCCClClFFFFFHHIIINNNOOOPPPSSSSiSiSi#3BrBrBrCCCCCCClClClFFFFFFHHHIIINNNOOOPPPSSSSiSiSi_Sp-4BrCFINOPSSi-3BrCCClFFHINOPSSi_N-4BrCFINOPSSi->C_N-4FO->F\">,\n",
       " 'Root_1R->O_N-3R->O_1O-u0_3CClFH-u1_Ext-3CClFH-R_N-4R!H->Cl_N-Sp-4BrBrBrCCCCCClClFFFFFHHIIINNNOOOPPPSSSSiSiSi#3BrBrBrCCCCCCClClClFFFFFFHHHIIINNNOOOPPPSSSSiSiSi_N-Sp-4BrCFINOPSSi-3BrCCClFFHINOPSSi_4BrCFINOPSSi->C_Ext-1O-R_5R!H->C': <Entry index=208 label=\"Root_1R->O_N-3R->O_1O-u0_3CClFH-u1_Ext-3CClFH-R_N-4R!H->Cl_N-Sp-4BrBrBrCCCCCClClFFFFFHHIIINNNOOOPPPSSSSiSiSi#3BrBrBrCCCCCCClClClFFFFFFHHHIIINNNOOOPPPSSSSiSiSi_N-Sp-4BrCFINOPSSi-3BrCCClFFHINOPSSi_4BrCFINOPSSi->C_Ext-1O-R_5R!H->C\">,\n",
       " 'Root_1R->O_N-3R->O_1O-u0_3CClFH-u1_Ext-3CClFH-R_N-4R!H->Cl_N-Sp-4BrBrBrCCCCCClClFFFFFHHIIINNNOOOPPPSSSSiSiSi#3BrBrBrCCCCCCClClClFFFFFFHHHIIINNNOOOPPPSSSSiSiSi_N-Sp-4BrCFINOPSSi-3BrCCClFFHINOPSSi_4BrCFINOPSSi->C_Ext-1O-R_N-5R!H->C': <Entry index=209 label=\"Root_1R->O_N-3R->O_1O-u0_3CClFH-u1_Ext-3CClFH-R_N-4R!H->Cl_N-Sp-4BrBrBrCCCCCClClFFFFFHHIIINNNOOOPPPSSSSiSiSi#3BrBrBrCCCCCCClClClFFFFFFHHHIIINNNOOOPPPSSSSiSiSi_N-Sp-4BrCFINOPSSi-3BrCCClFFHINOPSSi_4BrCFINOPSSi->C_Ext-1O-R_N-5R!H->C\">,\n",
       " 'Root_1R->O_N-3R->O_1O-u0_3CClFH-u1_Ext-3CClFH-R_N-4R!H->Cl_N-Sp-4BrBrBrCCCCCClClFFFFFHHIIINNNOOOPPPSSSSiSiSi#3BrBrBrCCCCCCClClClFFFFFFHHHIIINNNOOOPPPSSSSiSiSi_N-Sp-4BrCFINOPSSi-3BrCCClFFHINOPSSi_N-4BrCFINOPSSi->C_Ext-1O-R': <Entry index=210 label=\"Root_1R->O_N-3R->O_1O-u0_3CClFH-u1_Ext-3CClFH-R_N-4R!H->Cl_N-Sp-4BrBrBrCCCCCClClFFFFFHHIIINNNOOOPPPSSSSiSiSi#3BrBrBrCCCCCCClClClFFFFFFHHHIIINNNOOOPPPSSSSiSiSi_N-Sp-4BrCFINOPSSi-3BrCCClFFHINOPSSi_N-4BrCFINOPSSi->C_Ext-1O-R\">,\n",
       " 'Root_N-1R->O_3R->O_Ext-3O-R_1BrCClFHINPSSi-u0_1BrCClFHINPSSi->C_N-4R!H->C_Ext-1C-R_Sp-5R!H=1C_5R!H->C_Ext-1C-R': <Entry index=211 label=\"Root_N-1R->O_3R->O_Ext-3O-R_1BrCClFHINPSSi-u0_1BrCClFHINPSSi->C_N-4R!H->C_Ext-1C-R_Sp-5R!H=1C_5R!H->C_Ext-1C-R\">,\n",
       " 'Root_N-1R->O_3R->O_Ext-3O-R_1BrCClFHINPSSi-u0_1BrCClFHINPSSi->C_N-4R!H->C_Ext-1C-R_Sp-5R!H=1C_N-5R!H->C_4FO->F': <Entry index=212 label=\"Root_N-1R->O_3R->O_Ext-3O-R_1BrCClFHINPSSi-u0_1BrCClFHINPSSi->C_N-4R!H->C_Ext-1C-R_Sp-5R!H=1C_N-5R!H->C_4FO->F\">,\n",
       " 'Root_N-1R->O_3R->O_Ext-3O-R_1BrCClFHINPSSi-u0_1BrCClFHINPSSi->C_N-4R!H->C_Ext-1C-R_Sp-5R!H=1C_N-5R!H->C_N-4FO->F': <Entry index=213 label=\"Root_N-1R->O_3R->O_Ext-3O-R_1BrCClFHINPSSi-u0_1BrCClFHINPSSi->C_N-4R!H->C_Ext-1C-R_Sp-5R!H=1C_N-5R!H->C_N-4FO->F\">,\n",
       " 'Root_N-1R->O_3R->O_Ext-3O-R_1BrCClFHINPSSi-u0_1BrCClFHINPSSi->C_N-4R!H->C_Ext-1C-R_N-Sp-5R!H=1C_4FO->F_Ext-1C-R': <Entry index=214 label=\"Root_N-1R->O_3R->O_Ext-3O-R_1BrCClFHINPSSi-u0_1BrCClFHINPSSi->C_N-4R!H->C_Ext-1C-R_N-Sp-5R!H=1C_4FO->F_Ext-1C-R\">,\n",
       " 'Root_N-1R->O_3R->O_Ext-3O-R_1BrCClFHINPSSi-u0_1BrCClFHINPSSi->C_N-4R!H->C_Ext-1C-R_N-Sp-5R!H=1C_N-4FO->F_Ext-1C-R': <Entry index=215 label=\"Root_N-1R->O_3R->O_Ext-3O-R_1BrCClFHINPSSi-u0_1BrCClFHINPSSi->C_N-4R!H->C_Ext-1C-R_N-Sp-5R!H=1C_N-4FO->F_Ext-1C-R\">,\n",
       " 'Root_N-1R->O_3R->O_Ext-3O-R_1BrCClFHINPSSi-u0_1BrCClFHINPSSi->C_N-4R!H->C_Ext-1C-R_N-Sp-5R!H=1C_N-4FO->F_Ext-5R!H-R': <Entry index=216 label=\"Root_N-1R->O_3R->O_Ext-3O-R_1BrCClFHINPSSi-u0_1BrCClFHINPSSi->C_N-4R!H->C_Ext-1C-R_N-Sp-5R!H=1C_N-4FO->F_Ext-5R!H-R\">,\n",
       " 'Root_N-1R->O_3R->O_Ext-3O-R_1BrCClFHINPSSi-u0_1BrCClFHINPSSi->C_N-4R!H->C_Ext-1C-R_N-Sp-5R!H=1C_N-4FO->F_5R!H->Cl': <Entry index=217 label=\"Root_N-1R->O_3R->O_Ext-3O-R_1BrCClFHINPSSi-u0_1BrCClFHINPSSi->C_N-4R!H->C_Ext-1C-R_N-Sp-5R!H=1C_N-4FO->F_5R!H->Cl\">,\n",
       " 'Root_N-1R->O_3R->O_Ext-3O-R_1BrCClFHINPSSi-u0_1BrCClFHINPSSi->C_N-4R!H->C_Ext-1C-R_N-Sp-5R!H=1C_N-4FO->F_N-5R!H->Cl': <Entry index=218 label=\"Root_N-1R->O_3R->O_Ext-3O-R_1BrCClFHINPSSi-u0_1BrCClFHINPSSi->C_N-4R!H->C_Ext-1C-R_N-Sp-5R!H=1C_N-4FO->F_N-5R!H->Cl\">,\n",
       " 'Root_N-1R->O_3R->O_1BrCClFHINPSSi-u0_Ext-1BrCClFHINPSSi-R_N-Sp-4R!H#1BrBrBrCCCClClClFFFHHHIIINNNPPPSSSSiSiSi_4R!H->F_Ext-1BrCClFHINPSSi-R_N-5R!H->O_Ext-1BrCClFHINPSSi-R_3O-u1': <Entry index=219 label=\"Root_N-1R->O_3R->O_1BrCClFHINPSSi-u0_Ext-1BrCClFHINPSSi-R_N-Sp-4R!H#1BrBrBrCCCClClClFFFHHHIIINNNPPPSSSSiSiSi_4R!H->F_Ext-1BrCClFHINPSSi-R_N-5R!H->O_Ext-1BrCClFHINPSSi-R_3O-u1\">,\n",
       " 'Root_N-1R->O_3R->O_1BrCClFHINPSSi-u0_Ext-1BrCClFHINPSSi-R_N-Sp-4R!H#1BrBrBrCCCClClClFFFHHHIIINNNPPPSSSSiSiSi_4R!H->F_Ext-1BrCClFHINPSSi-R_N-5R!H->O_Ext-1BrCClFHINPSSi-R_N-3O-u1': <Entry index=220 label=\"Root_N-1R->O_3R->O_1BrCClFHINPSSi-u0_Ext-1BrCClFHINPSSi-R_N-Sp-4R!H#1BrBrBrCCCClClClFFFHHHIIINNNPPPSSSSiSiSi_4R!H->F_Ext-1BrCClFHINPSSi-R_N-5R!H->O_Ext-1BrCClFHINPSSi-R_N-3O-u1\">,\n",
       " 'Root_N-1R->O_3R->O_1BrCClFHINPSSi-u0_Ext-1BrCClFHINPSSi-R_N-Sp-4R!H#1BrBrBrCCCClClClFFFHHHIIINNNPPPSSSSiSiSi_N-4R!H->F_N-Sp-4BrCCCClClClFHINOOPSSi=1BrBrCCCCClClClClFFHHIINNOOPPSSSiSi_Ext-1BrCClFHINPSSi-R_4CClO->C_Ext-1BrCClFHINPSSi-R': <Entry index=221 label=\"Root_N-1R->O_3R->O_1BrCClFHINPSSi-u0_Ext-1BrCClFHINPSSi-R_N-Sp-4R!H#1BrBrBrCCCClClClFFFHHHIIINNNPPPSSSSiSiSi_N-4R!H->F_N-Sp-4BrCCCClClClFHINOOPSSi=1BrBrCCCCClClClClFFHHIINNOOPPSSSiSi_Ext-1BrCClFHINPSSi-R_4CClO->C_Ext-1BrCClFHINPSSi-R\">,\n",
       " 'Root_N-1R->O_3R->O_1BrCClFHINPSSi-u0_Ext-1BrCClFHINPSSi-R_N-Sp-4R!H#1BrBrBrCCCClClClFFFHHHIIINNNPPPSSSSiSiSi_N-4R!H->F_N-Sp-4BrCCCClClClFHINOOPSSi=1BrBrCCCCClClClClFFHHIINNOOPPSSSiSi_3O-u1_N-4CClO->Cl_Ext-4CO-R': <Entry index=222 label=\"Root_N-1R->O_3R->O_1BrCClFHINPSSi-u0_Ext-1BrCClFHINPSSi-R_N-Sp-4R!H#1BrBrBrCCCClClClFFFHHHIIINNNPPPSSSSiSiSi_N-4R!H->F_N-Sp-4BrCCCClClClFHINOOPSSi=1BrBrCCCCClClClClFFHHIINNOOPPSSSiSi_3O-u1_N-4CClO->Cl_Ext-4CO-R\">,\n",
       " 'Root_N-1R->O_3R->O_1BrCClFHINPSSi-u0_Ext-1BrCClFHINPSSi-R_N-Sp-4R!H#1BrBrBrCCCClClClFFFHHHIIINNNPPPSSSSiSiSi_N-4R!H->F_N-Sp-4BrCCCClClClFHINOOPSSi=1BrBrCCCCClClClClFFHHIINNOOPPSSSiSi_3O-u1_N-4CClO->Cl_4CO->C': <Entry index=223 label=\"Root_N-1R->O_3R->O_1BrCClFHINPSSi-u0_Ext-1BrCClFHINPSSi-R_N-Sp-4R!H#1BrBrBrCCCClClClFFFHHHIIINNNPPPSSSSiSiSi_N-4R!H->F_N-Sp-4BrCCCClClClFHINOOPSSi=1BrBrCCCCClClClClFFHHIINNOOPPSSSiSi_3O-u1_N-4CClO->Cl_4CO->C\">,\n",
       " 'Root_N-1R->O_3R->O_1BrCClFHINPSSi-u0_Ext-1BrCClFHINPSSi-R_N-Sp-4R!H#1BrBrBrCCCClClClFFFHHHIIINNNPPPSSSSiSiSi_N-4R!H->F_N-Sp-4BrCCCClClClFHINOOPSSi=1BrBrCCCCClClClClFFHHIINNOOPPSSSiSi_3O-u1_N-4CClO->Cl_N-4CO->C': <Entry index=224 label=\"Root_N-1R->O_3R->O_1BrCClFHINPSSi-u0_Ext-1BrCClFHINPSSi-R_N-Sp-4R!H#1BrBrBrCCCClClClFFFHHHIIINNNPPPSSSSiSiSi_N-4R!H->F_N-Sp-4BrCCCClClClFHINOOPSSi=1BrBrCCCCClClClClFFHHIINNOOPPSSSiSi_3O-u1_N-4CClO->Cl_N-4CO->C\">,\n",
       " 'Root_N-1R->O_N-3R->O_N-1BrCClFHINPSSi->F_N-3CClFH->F_3CClH->H_1CClH->C_Ext-1C-R_4R!H->F_Ext-1C-R_5R!H->F': <Entry index=225 label=\"Root_N-1R->O_N-3R->O_N-1BrCClFHINPSSi->F_N-3CClFH->F_3CClH->H_1CClH->C_Ext-1C-R_4R!H->F_Ext-1C-R_5R!H->F\">,\n",
       " 'Root_N-1R->O_N-3R->O_N-1BrCClFHINPSSi->F_N-3CClFH->F_3CClH->H_1CClH->C_Ext-1C-R_4R!H->F_Ext-1C-R_N-5R!H->F': <Entry index=226 label=\"Root_N-1R->O_N-3R->O_N-1BrCClFHINPSSi->F_N-3CClFH->F_3CClH->H_1CClH->C_Ext-1C-R_4R!H->F_Ext-1C-R_N-5R!H->F\">,\n",
       " 'Root_N-1R->O_N-3R->O_N-1BrCClFHINPSSi->F_N-3CClFH->F_3CClH->H_1CClH->C_Ext-1C-R_N-4R!H->F_Sp-4BrBrCCClClIINNOOPPSSSiSi=1C_Ext-1C-R': <Entry index=227 label=\"Root_N-1R->O_N-3R->O_N-1BrCClFHINPSSi->F_N-3CClFH->F_3CClH->H_1CClH->C_Ext-1C-R_N-4R!H->F_Sp-4BrBrCCClClIINNOOPPSSSiSi=1C_Ext-1C-R\">,\n",
       " 'Root_N-1R->O_N-3R->O_N-1BrCClFHINPSSi->F_N-3CClFH->F_3CClH->H_1CClH->C_Ext-1C-R_N-4R!H->F_N-Sp-4BrBrCCClClIINNOOPPSSSiSi=1C_4BrCClINOPSSi->C': <Entry index=228 label=\"Root_N-1R->O_N-3R->O_N-1BrCClFHINPSSi->F_N-3CClFH->F_3CClH->H_1CClH->C_Ext-1C-R_N-4R!H->F_N-Sp-4BrBrCCClClIINNOOPPSSSiSi=1C_4BrCClINOPSSi->C\">,\n",
       " 'Root_N-1R->O_N-3R->O_N-1BrCClFHINPSSi->F_N-3CClFH->F_3CClH->H_1CClH->C_Ext-1C-R_N-4R!H->F_N-Sp-4BrBrCCClClIINNOOPPSSSiSi=1C_N-4BrCClINOPSSi->C': <Entry index=229 label=\"Root_N-1R->O_N-3R->O_N-1BrCClFHINPSSi->F_N-3CClFH->F_3CClH->H_1CClH->C_Ext-1C-R_N-4R!H->F_N-Sp-4BrBrCCClClIINNOOPPSSSiSi=1C_N-4BrCClINOPSSi->C\">,\n",
       " 'Root_N-1R->O_N-3R->O_N-1BrCClFHINPSSi->F_N-3CClFH->F_N-3CClH->H_3CCl-u1_1CClH->C_Ext-1C-R_1C-u0_Ext-1C-R': <Entry index=230 label=\"Root_N-1R->O_N-3R->O_N-1BrCClFHINPSSi->F_N-3CClFH->F_N-3CClH->H_3CCl-u1_1CClH->C_Ext-1C-R_1C-u0_Ext-1C-R\">,\n",
       " 'Root_N-1R->O_N-3R->O_N-1BrCClFHINPSSi->F_N-3CClFH->F_N-3CClH->H_3CCl-u1_1CClH->C_Ext-1C-R_1C-u0_Sp-4R!H-1C': <Entry index=231 label=\"Root_N-1R->O_N-3R->O_N-1BrCClFHINPSSi->F_N-3CClFH->F_N-3CClH->H_3CCl-u1_1CClH->C_Ext-1C-R_1C-u0_Sp-4R!H-1C\">,\n",
       " 'Root_N-1R->O_N-3R->O_N-1BrCClFHINPSSi->F_N-3CClFH->F_N-3CClH->H_3CCl-u1_1CClH->C_Ext-1C-R_1C-u0_N-Sp-4R!H-1C': <Entry index=232 label=\"Root_N-1R->O_N-3R->O_N-1BrCClFHINPSSi->F_N-3CClFH->F_N-3CClH->H_3CCl-u1_1CClH->C_Ext-1C-R_1C-u0_N-Sp-4R!H-1C\">,\n",
       " 'Root_N-1R->O_N-3R->O_N-1BrCClFHINPSSi->F_N-3CClFH->F_N-3CClH->H_3CCl-u1_1CClH->C_Ext-1C-R_N-1C-u0_Sp-4R!H-1C': <Entry index=233 label=\"Root_N-1R->O_N-3R->O_N-1BrCClFHINPSSi->F_N-3CClFH->F_N-3CClH->H_3CCl-u1_1CClH->C_Ext-1C-R_N-1C-u0_Sp-4R!H-1C\">,\n",
       " 'Root_N-1R->O_N-3R->O_N-1BrCClFHINPSSi->F_N-3CClFH->F_N-3CClH->H_3CCl-u1_1CClH->C_Ext-1C-R_N-1C-u0_N-Sp-4R!H-1C': <Entry index=234 label=\"Root_N-1R->O_N-3R->O_N-1BrCClFHINPSSi->F_N-3CClFH->F_N-3CClH->H_3CCl-u1_1CClH->C_Ext-1C-R_N-1C-u0_N-Sp-4R!H-1C\">,\n",
       " 'Root_N-1R->O_N-3R->O_N-1BrCClFHINPSSi->F_N-3CClFH->F_N-3CClH->H_3CCl-u1_1CClH->C_Ext-3CCl-R_Sp-4R!H=3CCClCl_Ext-3CCl-R_4R!H->C': <Entry index=235 label=\"Root_N-1R->O_N-3R->O_N-1BrCClFHINPSSi->F_N-3CClFH->F_N-3CClH->H_3CCl-u1_1CClH->C_Ext-3CCl-R_Sp-4R!H=3CCClCl_Ext-3CCl-R_4R!H->C\">,\n",
       " 'Root_N-1R->O_N-3R->O_N-1BrCClFHINPSSi->F_N-3CClFH->F_N-3CClH->H_3CCl-u1_1CClH->C_Ext-3CCl-R_Sp-4R!H=3CCClCl_Ext-3CCl-R_N-4R!H->C': <Entry index=236 label=\"Root_N-1R->O_N-3R->O_N-1BrCClFHINPSSi->F_N-3CClFH->F_N-3CClH->H_3CCl-u1_1CClH->C_Ext-3CCl-R_Sp-4R!H=3CCClCl_Ext-3CCl-R_N-4R!H->C\">,\n",
       " 'Root_N-1R->O_N-3R->O_N-1BrCClFHINPSSi->F_N-3CClFH->F_N-3CClH->H_3CCl-u1_1CClH->C_Ext-3CCl-R_N-Sp-4R!H=3CCClCl_Ext-3CCl-R_Ext-3CCl-R': <Entry index=237 label=\"Root_N-1R->O_N-3R->O_N-1BrCClFHINPSSi->F_N-3CClFH->F_N-3CClH->H_3CCl-u1_1CClH->C_Ext-3CCl-R_N-Sp-4R!H=3CCClCl_Ext-3CCl-R_Ext-3CCl-R\">,\n",
       " 'Root_N-1R->O_N-3R->O_N-1BrCClFHINPSSi->F_N-3CClFH->F_N-3CClH->H_3CCl-u1_1CClH->C_Ext-3CCl-R_N-Sp-4R!H=3CCClCl_Ext-3CCl-R_4R!H->C': <Entry index=238 label=\"Root_N-1R->O_N-3R->O_N-1BrCClFHINPSSi->F_N-3CClFH->F_N-3CClH->H_3CCl-u1_1CClH->C_Ext-3CCl-R_N-Sp-4R!H=3CCClCl_Ext-3CCl-R_4R!H->C\">,\n",
       " 'Root_N-1R->O_N-3R->O_N-1BrCClFHINPSSi->F_N-3CClFH->F_N-3CClH->H_3CCl-u1_1CClH->C_Ext-3CCl-R_N-Sp-4R!H=3CCClCl_Ext-3CCl-R_N-4R!H->C': <Entry index=239 label=\"Root_N-1R->O_N-3R->O_N-1BrCClFHINPSSi->F_N-3CClFH->F_N-3CClH->H_3CCl-u1_1CClH->C_Ext-3CCl-R_N-Sp-4R!H=3CCClCl_Ext-3CCl-R_N-4R!H->C\">,\n",
       " 'Root_N-1R->O_N-3R->O_N-1BrCClFHINPSSi->F_N-3CClFH->F_N-3CClH->H_3CCl-u1_1CClH->C_Ext-3CCl-R_N-Sp-4R!H=3CCClCl_4R!H->C_Ext-4C-R': <Entry index=240 label=\"Root_N-1R->O_N-3R->O_N-1BrCClFHINPSSi->F_N-3CClFH->F_N-3CClH->H_3CCl-u1_1CClH->C_Ext-3CCl-R_N-Sp-4R!H=3CCClCl_4R!H->C_Ext-4C-R\">,\n",
       " 'Root_N-1R->O_N-3R->O_N-1BrCClFHINPSSi->F_N-3CClFH->F_N-3CClH->H_3CCl-u1_1CClH->C_Ext-3CCl-R_N-Sp-4R!H=3CCClCl_N-4R!H->C_4FO->F': <Entry index=241 label=\"Root_N-1R->O_N-3R->O_N-1BrCClFHINPSSi->F_N-3CClFH->F_N-3CClH->H_3CCl-u1_1CClH->C_Ext-3CCl-R_N-Sp-4R!H=3CCClCl_N-4R!H->C_4FO->F\">,\n",
       " 'Root_N-1R->O_N-3R->O_N-1BrCClFHINPSSi->F_N-3CClFH->F_N-3CClH->H_3CCl-u1_1CClH->C_Ext-3CCl-R_N-Sp-4R!H=3CCClCl_N-4R!H->C_N-4FO->F': <Entry index=242 label=\"Root_N-1R->O_N-3R->O_N-1BrCClFHINPSSi->F_N-3CClFH->F_N-3CClH->H_3CCl-u1_1CClH->C_Ext-3CCl-R_N-Sp-4R!H=3CCClCl_N-4R!H->C_N-4FO->F\">,\n",
       " 'Root_N-1R->O_N-3R->O_N-1BrCClFHINPSSi->F_N-3CClFH->F_N-3CClH->H_3CCl-u1_N-1CClH->C_N-3CCl->Cl_Ext-3C-R_4R!H->Cl': <Entry index=243 label=\"Root_N-1R->O_N-3R->O_N-1BrCClFHINPSSi->F_N-3CClFH->F_N-3CClH->H_3CCl-u1_N-1CClH->C_N-3CCl->Cl_Ext-3C-R_4R!H->Cl\">,\n",
       " 'Root_N-1R->O_N-3R->O_N-1BrCClFHINPSSi->F_N-3CClFH->F_N-3CClH->H_3CCl-u1_N-1CClH->C_N-3CCl->Cl_Ext-3C-R_N-4R!H->Cl': <Entry index=244 label=\"Root_N-1R->O_N-3R->O_N-1BrCClFHINPSSi->F_N-3CClFH->F_N-3CClH->H_3CCl-u1_N-1CClH->C_N-3CCl->Cl_Ext-3C-R_N-4R!H->Cl\">,\n",
       " 'Root_1R->O_N-3R->O_1O-u0_3CClFH-u1_Ext-3CClFH-R_N-4R!H->Cl_N-Sp-4BrBrBrCCCCCClClFFFFFHHIIINNNOOOPPPSSSSiSiSi#3BrBrBrCCCCCCClClClFFFFFFHHHIIINNNOOOPPPSSSSiSiSi_Sp-4BrCFINOPSSi-3BrCCClFFHINOPSSi_4BrCFINOPSSi->C_Ext-3CClFH-R_Ext-3CClFH-R': <Entry index=245 label=\"Root_1R->O_N-3R->O_1O-u0_3CClFH-u1_Ext-3CClFH-R_N-4R!H->Cl_N-Sp-4BrBrBrCCCCCClClFFFFFHHIIINNNOOOPPPSSSSiSiSi#3BrBrBrCCCCCCClClClFFFFFFHHHIIINNNOOOPPPSSSSiSiSi_Sp-4BrCFINOPSSi-3BrCCClFFHINOPSSi_4BrCFINOPSSi->C_Ext-3CClFH-R_Ext-3CClFH-R\">,\n",
       " 'Root_1R->O_N-3R->O_1O-u0_3CClFH-u1_Ext-3CClFH-R_N-4R!H->Cl_N-Sp-4BrBrBrCCCCCClClFFFFFHHIIINNNOOOPPPSSSSiSiSi#3BrBrBrCCCCCCClClClFFFFFFHHHIIINNNOOOPPPSSSSiSiSi_Sp-4BrCFINOPSSi-3BrCCClFFHINOPSSi_4BrCFINOPSSi->C_Ext-3CClFH-R_Sp-5R!H-3CClFH': <Entry index=246 label=\"Root_1R->O_N-3R->O_1O-u0_3CClFH-u1_Ext-3CClFH-R_N-4R!H->Cl_N-Sp-4BrBrBrCCCCCClClFFFFFHHIIINNNOOOPPPSSSSiSiSi#3BrBrBrCCCCCCClClClFFFFFFHHHIIINNNOOOPPPSSSSiSiSi_Sp-4BrCFINOPSSi-3BrCCClFFHINOPSSi_4BrCFINOPSSi->C_Ext-3CClFH-R_Sp-5R!H-3CClFH\">,\n",
       " 'Root_1R->O_N-3R->O_1O-u0_3CClFH-u1_Ext-3CClFH-R_N-4R!H->Cl_N-Sp-4BrBrBrCCCCCClClFFFFFHHIIINNNOOOPPPSSSSiSiSi#3BrBrBrCCCCCCClClClFFFFFFHHHIIINNNOOOPPPSSSSiSiSi_Sp-4BrCFINOPSSi-3BrCCClFFHINOPSSi_4BrCFINOPSSi->C_Ext-3CClFH-R_N-Sp-5R!H-3CClFH': <Entry index=247 label=\"Root_1R->O_N-3R->O_1O-u0_3CClFH-u1_Ext-3CClFH-R_N-4R!H->Cl_N-Sp-4BrBrBrCCCCCClClFFFFFHHIIINNNOOOPPPSSSSiSiSi#3BrBrBrCCCCCCClClClFFFFFFHHHIIINNNOOOPPPSSSSiSiSi_Sp-4BrCFINOPSSi-3BrCCClFFHINOPSSi_4BrCFINOPSSi->C_Ext-3CClFH-R_N-Sp-5R!H-3CClFH\">,\n",
       " 'Root_1R->O_N-3R->O_1O-u0_3CClFH-u1_Ext-3CClFH-R_N-4R!H->Cl_N-Sp-4BrBrBrCCCCCClClFFFFFHHIIINNNOOOPPPSSSSiSiSi#3BrBrBrCCCCCCClClClFFFFFFHHHIIINNNOOOPPPSSSSiSiSi_Sp-4BrCFINOPSSi-3BrCCClFFHINOPSSi_N-4BrCFINOPSSi->C_Ext-1O-R_Ext-3CClFH-R': <Entry index=248 label=\"Root_1R->O_N-3R->O_1O-u0_3CClFH-u1_Ext-3CClFH-R_N-4R!H->Cl_N-Sp-4BrBrBrCCCCCClClFFFFFHHIIINNNOOOPPPSSSSiSiSi#3BrBrBrCCCCCCClClClFFFFFFHHHIIINNNOOOPPPSSSSiSiSi_Sp-4BrCFINOPSSi-3BrCCClFFHINOPSSi_N-4BrCFINOPSSi->C_Ext-1O-R_Ext-3CClFH-R\">,\n",
       " 'Root_1R->O_N-3R->O_1O-u0_3CClFH-u1_Ext-3CClFH-R_N-4R!H->Cl_N-Sp-4BrBrBrCCCCCClClFFFFFHHIIINNNOOOPPPSSSSiSiSi#3BrBrBrCCCCCCClClClFFFFFFHHHIIINNNOOOPPPSSSSiSiSi_Sp-4BrCFINOPSSi-3BrCCClFFHINOPSSi_N-4BrCFINOPSSi->C_4FO->F_Ext-3CClFH-R': <Entry index=249 label=\"Root_1R->O_N-3R->O_1O-u0_3CClFH-u1_Ext-3CClFH-R_N-4R!H->Cl_N-Sp-4BrBrBrCCCCCClClFFFFFHHIIINNNOOOPPPSSSSiSiSi#3BrBrBrCCCCCCClClClFFFFFFHHHIIINNNOOOPPPSSSSiSiSi_Sp-4BrCFINOPSSi-3BrCCClFFHINOPSSi_N-4BrCFINOPSSi->C_4FO->F_Ext-3CClFH-R\">,\n",
       " 'Root_1R->O_N-3R->O_1O-u0_3CClFH-u1_Ext-3CClFH-R_N-4R!H->Cl_N-Sp-4BrBrBrCCCCCClClFFFFFHHIIINNNOOOPPPSSSSiSiSi#3BrBrBrCCCCCCClClClFFFFFFHHHIIINNNOOOPPPSSSSiSiSi_N-Sp-4BrCFINOPSSi-3BrCCClFFHINOPSSi_N-4BrCFINOPSSi->C_Ext-1O-R_5R!H->O': <Entry index=250 label=\"Root_1R->O_N-3R->O_1O-u0_3CClFH-u1_Ext-3CClFH-R_N-4R!H->Cl_N-Sp-4BrBrBrCCCCCClClFFFFFHHIIINNNOOOPPPSSSSiSiSi#3BrBrBrCCCCCCClClClFFFFFFHHHIIINNNOOOPPPSSSSiSiSi_N-Sp-4BrCFINOPSSi-3BrCCClFFHINOPSSi_N-4BrCFINOPSSi->C_Ext-1O-R_5R!H->O\">,\n",
       " 'Root_1R->O_N-3R->O_1O-u0_3CClFH-u1_Ext-3CClFH-R_N-4R!H->Cl_N-Sp-4BrBrBrCCCCCClClFFFFFHHIIINNNOOOPPPSSSSiSiSi#3BrBrBrCCCCCCClClClFFFFFFHHHIIINNNOOOPPPSSSSiSiSi_N-Sp-4BrCFINOPSSi-3BrCCClFFHINOPSSi_N-4BrCFINOPSSi->C_Ext-1O-R_N-5R!H->O': <Entry index=251 label=\"Root_1R->O_N-3R->O_1O-u0_3CClFH-u1_Ext-3CClFH-R_N-4R!H->Cl_N-Sp-4BrBrBrCCCCCClClFFFFFHHIIINNNOOOPPPSSSSiSiSi#3BrBrBrCCCCCCClClClFFFFFFHHHIIINNNOOOPPPSSSSiSiSi_N-Sp-4BrCFINOPSSi-3BrCCClFFHINOPSSi_N-4BrCFINOPSSi->C_Ext-1O-R_N-5R!H->O\">,\n",
       " 'Root_N-1R->O_3R->O_Ext-3O-R_1BrCClFHINPSSi-u0_1BrCClFHINPSSi->C_N-4R!H->C_Ext-1C-R_Sp-5R!H=1C_N-5R!H->C_4FO->F_Ext-1C-R': <Entry index=252 label=\"Root_N-1R->O_3R->O_Ext-3O-R_1BrCClFHINPSSi-u0_1BrCClFHINPSSi->C_N-4R!H->C_Ext-1C-R_Sp-5R!H=1C_N-5R!H->C_4FO->F_Ext-1C-R\">,\n",
       " 'Root_N-1R->O_3R->O_Ext-3O-R_1BrCClFHINPSSi-u0_1BrCClFHINPSSi->C_N-4R!H->C_Ext-1C-R_N-Sp-5R!H=1C_4FO->F_Ext-1C-R_Ext-1C-R': <Entry index=253 label=\"Root_N-1R->O_3R->O_Ext-3O-R_1BrCClFHINPSSi-u0_1BrCClFHINPSSi->C_N-4R!H->C_Ext-1C-R_N-Sp-5R!H=1C_4FO->F_Ext-1C-R_Ext-1C-R\">,\n",
       " 'Root_N-1R->O_3R->O_1BrCClFHINPSSi-u0_Ext-1BrCClFHINPSSi-R_N-Sp-4R!H#1BrBrBrCCCClClClFFFHHHIIINNNPPPSSSSiSiSi_N-4R!H->F_N-Sp-4BrCCCClClClFHINOOPSSi=1BrBrCCCCClClClClFFHHIINNOOPPSSSiSi_3O-u1_N-4CClO->Cl_Ext-4CO-R_Ext-4CO-R': <Entry index=254 label=\"Root_N-1R->O_3R->O_1BrCClFHINPSSi-u0_Ext-1BrCClFHINPSSi-R_N-Sp-4R!H#1BrBrBrCCCClClClFFFHHHIIINNNPPPSSSSiSiSi_N-4R!H->F_N-Sp-4BrCCCClClClFHINOOPSSi=1BrBrCCCCClClClClFFHHIINNOOPPSSSiSi_3O-u1_N-4CClO->Cl_Ext-4CO-R_Ext-4CO-R\">,\n",
       " 'Root_N-1R->O_N-3R->O_N-1BrCClFHINPSSi->F_N-3CClFH->F_3CClH->H_1CClH->C_Ext-1C-R_4R!H->F_Ext-1C-R_5R!H->F_Ext-1C-R': <Entry index=255 label=\"Root_N-1R->O_N-3R->O_N-1BrCClFHINPSSi->F_N-3CClFH->F_3CClH->H_1CClH->C_Ext-1C-R_4R!H->F_Ext-1C-R_5R!H->F_Ext-1C-R\">,\n",
       " 'Root_N-1R->O_N-3R->O_N-1BrCClFHINPSSi->F_N-3CClFH->F_3CClH->H_1CClH->C_Ext-1C-R_4R!H->F_Ext-1C-R_N-5R!H->F_5BrCClINOPSSi->C': <Entry index=256 label=\"Root_N-1R->O_N-3R->O_N-1BrCClFHINPSSi->F_N-3CClFH->F_3CClH->H_1CClH->C_Ext-1C-R_4R!H->F_Ext-1C-R_N-5R!H->F_5BrCClINOPSSi->C\">,\n",
       " 'Root_N-1R->O_N-3R->O_N-1BrCClFHINPSSi->F_N-3CClFH->F_3CClH->H_1CClH->C_Ext-1C-R_4R!H->F_Ext-1C-R_N-5R!H->F_N-5BrCClINOPSSi->C': <Entry index=257 label=\"Root_N-1R->O_N-3R->O_N-1BrCClFHINPSSi->F_N-3CClFH->F_3CClH->H_1CClH->C_Ext-1C-R_4R!H->F_Ext-1C-R_N-5R!H->F_N-5BrCClINOPSSi->C\">,\n",
       " 'Root_N-1R->O_N-3R->O_N-1BrCClFHINPSSi->F_N-3CClFH->F_3CClH->H_1CClH->C_Ext-1C-R_N-4R!H->F_N-Sp-4BrBrCCClClIINNOOPPSSSiSi=1C_N-4BrCClINOPSSi->C_Ext-1C-R': <Entry index=258 label=\"Root_N-1R->O_N-3R->O_N-1BrCClFHINPSSi->F_N-3CClFH->F_3CClH->H_1CClH->C_Ext-1C-R_N-4R!H->F_N-Sp-4BrBrCCClClIINNOOPPSSSiSi=1C_N-4BrCClINOPSSi->C_Ext-1C-R\">,\n",
       " 'Root_N-1R->O_N-3R->O_N-1BrCClFHINPSSi->F_N-3CClFH->F_3CClH->H_1CClH->C_Ext-1C-R_N-4R!H->F_N-Sp-4BrBrCCClClIINNOOPPSSSiSi=1C_N-4BrCClINOPSSi->C_4ClO->Cl': <Entry index=259 label=\"Root_N-1R->O_N-3R->O_N-1BrCClFHINPSSi->F_N-3CClFH->F_3CClH->H_1CClH->C_Ext-1C-R_N-4R!H->F_N-Sp-4BrBrCCClClIINNOOPPSSSiSi=1C_N-4BrCClINOPSSi->C_4ClO->Cl\">,\n",
       " 'Root_N-1R->O_N-3R->O_N-1BrCClFHINPSSi->F_N-3CClFH->F_3CClH->H_1CClH->C_Ext-1C-R_N-4R!H->F_N-Sp-4BrBrCCClClIINNOOPPSSSiSi=1C_N-4BrCClINOPSSi->C_N-4ClO->Cl': <Entry index=260 label=\"Root_N-1R->O_N-3R->O_N-1BrCClFHINPSSi->F_N-3CClFH->F_3CClH->H_1CClH->C_Ext-1C-R_N-4R!H->F_N-Sp-4BrBrCCClClIINNOOPPSSSiSi=1C_N-4BrCClINOPSSi->C_N-4ClO->Cl\">,\n",
       " 'Root_N-1R->O_N-3R->O_N-1BrCClFHINPSSi->F_N-3CClFH->F_N-3CClH->H_3CCl-u1_1CClH->C_Ext-1C-R_1C-u0_Ext-1C-R_4R!H->C': <Entry index=261 label=\"Root_N-1R->O_N-3R->O_N-1BrCClFHINPSSi->F_N-3CClFH->F_N-3CClH->H_3CCl-u1_1CClH->C_Ext-1C-R_1C-u0_Ext-1C-R_4R!H->C\">,\n",
       " 'Root_N-1R->O_N-3R->O_N-1BrCClFHINPSSi->F_N-3CClFH->F_N-3CClH->H_3CCl-u1_1CClH->C_Ext-1C-R_1C-u0_Ext-1C-R_N-4R!H->C': <Entry index=262 label=\"Root_N-1R->O_N-3R->O_N-1BrCClFHINPSSi->F_N-3CClFH->F_N-3CClH->H_3CCl-u1_1CClH->C_Ext-1C-R_1C-u0_Ext-1C-R_N-4R!H->C\">,\n",
       " 'Root_N-1R->O_N-3R->O_N-1BrCClFHINPSSi->F_N-3CClFH->F_N-3CClH->H_3CCl-u1_1CClH->C_Ext-1C-R_1C-u0_Sp-4R!H-1C_4R!H->F': <Entry index=263 label=\"Root_N-1R->O_N-3R->O_N-1BrCClFHINPSSi->F_N-3CClFH->F_N-3CClH->H_3CCl-u1_1CClH->C_Ext-1C-R_1C-u0_Sp-4R!H-1C_4R!H->F\">,\n",
       " 'Root_N-1R->O_N-3R->O_N-1BrCClFHINPSSi->F_N-3CClFH->F_N-3CClH->H_3CCl-u1_1CClH->C_Ext-1C-R_1C-u0_Sp-4R!H-1C_N-4R!H->F': <Entry index=264 label=\"Root_N-1R->O_N-3R->O_N-1BrCClFHINPSSi->F_N-3CClFH->F_N-3CClH->H_3CCl-u1_1CClH->C_Ext-1C-R_1C-u0_Sp-4R!H-1C_N-4R!H->F\">,\n",
       " 'Root_N-1R->O_N-3R->O_N-1BrCClFHINPSSi->F_N-3CClFH->F_N-3CClH->H_3CCl-u1_1CClH->C_Ext-1C-R_1C-u0_N-Sp-4R!H-1C_4R!H->C': <Entry index=265 label=\"Root_N-1R->O_N-3R->O_N-1BrCClFHINPSSi->F_N-3CClFH->F_N-3CClH->H_3CCl-u1_1CClH->C_Ext-1C-R_1C-u0_N-Sp-4R!H-1C_4R!H->C\">,\n",
       " 'Root_N-1R->O_N-3R->O_N-1BrCClFHINPSSi->F_N-3CClFH->F_N-3CClH->H_3CCl-u1_1CClH->C_Ext-1C-R_1C-u0_N-Sp-4R!H-1C_N-4R!H->C': <Entry index=266 label=\"Root_N-1R->O_N-3R->O_N-1BrCClFHINPSSi->F_N-3CClFH->F_N-3CClH->H_3CCl-u1_1CClH->C_Ext-1C-R_1C-u0_N-Sp-4R!H-1C_N-4R!H->C\">,\n",
       " 'Root_N-1R->O_N-3R->O_N-1BrCClFHINPSSi->F_N-3CClFH->F_N-3CClH->H_3CCl-u1_1CClH->C_Ext-1C-R_N-1C-u0_Sp-4R!H-1C_4R!H->C': <Entry index=267 label=\"Root_N-1R->O_N-3R->O_N-1BrCClFHINPSSi->F_N-3CClFH->F_N-3CClH->H_3CCl-u1_1CClH->C_Ext-1C-R_N-1C-u0_Sp-4R!H-1C_4R!H->C\">,\n",
       " 'Root_N-1R->O_N-3R->O_N-1BrCClFHINPSSi->F_N-3CClFH->F_N-3CClH->H_3CCl-u1_1CClH->C_Ext-1C-R_N-1C-u0_Sp-4R!H-1C_N-4R!H->C': <Entry index=268 label=\"Root_N-1R->O_N-3R->O_N-1BrCClFHINPSSi->F_N-3CClFH->F_N-3CClH->H_3CCl-u1_1CClH->C_Ext-1C-R_N-1C-u0_Sp-4R!H-1C_N-4R!H->C\">,\n",
       " 'Root_N-1R->O_N-3R->O_N-1BrCClFHINPSSi->F_N-3CClFH->F_N-3CClH->H_3CCl-u1_1CClH->C_Ext-3CCl-R_N-Sp-4R!H=3CCClCl_Ext-3CCl-R_4R!H->C_5R!H->C': <Entry index=269 label=\"Root_N-1R->O_N-3R->O_N-1BrCClFHINPSSi->F_N-3CClFH->F_N-3CClH->H_3CCl-u1_1CClH->C_Ext-3CCl-R_N-Sp-4R!H=3CCClCl_Ext-3CCl-R_4R!H->C_5R!H->C\">,\n",
       " 'Root_N-1R->O_N-3R->O_N-1BrCClFHINPSSi->F_N-3CClFH->F_N-3CClH->H_3CCl-u1_1CClH->C_Ext-3CCl-R_N-Sp-4R!H=3CCClCl_Ext-3CCl-R_4R!H->C_N-5R!H->C': <Entry index=270 label=\"Root_N-1R->O_N-3R->O_N-1BrCClFHINPSSi->F_N-3CClFH->F_N-3CClH->H_3CCl-u1_1CClH->C_Ext-3CCl-R_N-Sp-4R!H=3CCClCl_Ext-3CCl-R_4R!H->C_N-5R!H->C\">,\n",
       " 'Root_N-1R->O_N-3R->O_N-1BrCClFHINPSSi->F_N-3CClFH->F_N-3CClH->H_3CCl-u1_N-1CClH->C_N-3CCl->Cl_Ext-3C-R_4R!H->Cl_Ext-3C-R': <Entry index=271 label=\"Root_N-1R->O_N-3R->O_N-1BrCClFHINPSSi->F_N-3CClFH->F_N-3CClH->H_3CCl-u1_N-1CClH->C_N-3CCl->Cl_Ext-3C-R_4R!H->Cl_Ext-3C-R\">,\n",
       " 'Root_N-1R->O_N-3R->O_N-1BrCClFHINPSSi->F_N-3CClFH->F_N-3CClH->H_3CCl-u1_N-1CClH->C_N-3CCl->Cl_Ext-3C-R_N-4R!H->Cl_Ext-3C-R': <Entry index=272 label=\"Root_N-1R->O_N-3R->O_N-1BrCClFHINPSSi->F_N-3CClFH->F_N-3CClH->H_3CCl-u1_N-1CClH->C_N-3CCl->Cl_Ext-3C-R_N-4R!H->Cl_Ext-3C-R\">,\n",
       " 'Root_N-1R->O_N-3R->O_N-1BrCClFHINPSSi->F_N-3CClFH->F_N-3CClH->H_3CCl-u1_N-1CClH->C_N-3CCl->Cl_Ext-3C-R_N-4R!H->Cl_4BrCFINOPSSi->C': <Entry index=273 label=\"Root_N-1R->O_N-3R->O_N-1BrCClFHINPSSi->F_N-3CClFH->F_N-3CClH->H_3CCl-u1_N-1CClH->C_N-3CCl->Cl_Ext-3C-R_N-4R!H->Cl_4BrCFINOPSSi->C\">,\n",
       " 'Root_N-1R->O_N-3R->O_N-1BrCClFHINPSSi->F_N-3CClFH->F_N-3CClH->H_3CCl-u1_N-1CClH->C_N-3CCl->Cl_Ext-3C-R_N-4R!H->Cl_N-4BrCFINOPSSi->C': <Entry index=274 label=\"Root_N-1R->O_N-3R->O_N-1BrCClFHINPSSi->F_N-3CClFH->F_N-3CClH->H_3CCl-u1_N-1CClH->C_N-3CCl->Cl_Ext-3C-R_N-4R!H->Cl_N-4BrCFINOPSSi->C\">,\n",
       " 'Root_1R->O_N-3R->O_1O-u0_3CClFH-u1_Ext-3CClFH-R_N-4R!H->Cl_N-Sp-4BrBrBrCCCCCClClFFFFFHHIIINNNOOOPPPSSSSiSiSi#3BrBrBrCCCCCCClClClFFFFFFHHHIIINNNOOOPPPSSSSiSiSi_Sp-4BrCFINOPSSi-3BrCCClFFHINOPSSi_4BrCFINOPSSi->C_Ext-3CClFH-R_Sp-5R!H-3CClFH_Ext-1O-R': <Entry index=275 label=\"Root_1R->O_N-3R->O_1O-u0_3CClFH-u1_Ext-3CClFH-R_N-4R!H->Cl_N-Sp-4BrBrBrCCCCCClClFFFFFHHIIINNNOOOPPPSSSSiSiSi#3BrBrBrCCCCCCClClClFFFFFFHHHIIINNNOOOPPPSSSSiSiSi_Sp-4BrCFINOPSSi-3BrCCClFFHINOPSSi_4BrCFINOPSSi->C_Ext-3CClFH-R_Sp-5R!H-3CClFH_Ext-1O-R\">,\n",
       " 'Root_1R->O_N-3R->O_1O-u0_3CClFH-u1_Ext-3CClFH-R_N-4R!H->Cl_N-Sp-4BrBrBrCCCCCClClFFFFFHHIIINNNOOOPPPSSSSiSiSi#3BrBrBrCCCCCCClClClFFFFFFHHHIIINNNOOOPPPSSSSiSiSi_Sp-4BrCFINOPSSi-3BrCCClFFHINOPSSi_4BrCFINOPSSi->C_Ext-3CClFH-R_N-Sp-5R!H-3CClFH_Ext-1O-R': <Entry index=276 label=\"Root_1R->O_N-3R->O_1O-u0_3CClFH-u1_Ext-3CClFH-R_N-4R!H->Cl_N-Sp-4BrBrBrCCCCCClClFFFFFHHIIINNNOOOPPPSSSSiSiSi#3BrBrBrCCCCCCClClClFFFFFFHHHIIINNNOOOPPPSSSSiSiSi_Sp-4BrCFINOPSSi-3BrCCClFFHINOPSSi_4BrCFINOPSSi->C_Ext-3CClFH-R_N-Sp-5R!H-3CClFH_Ext-1O-R\">,\n",
       " 'Root_1R->O_N-3R->O_1O-u0_3CClFH-u1_Ext-3CClFH-R_N-4R!H->Cl_N-Sp-4BrBrBrCCCCCClClFFFFFHHIIINNNOOOPPPSSSSiSiSi#3BrBrBrCCCCCCClClClFFFFFFHHHIIINNNOOOPPPSSSSiSiSi_Sp-4BrCFINOPSSi-3BrCCClFFHINOPSSi_N-4BrCFINOPSSi->C_Ext-1O-R_Ext-3CClFH-R_Ext-3CClFH-R': <Entry index=277 label=\"Root_1R->O_N-3R->O_1O-u0_3CClFH-u1_Ext-3CClFH-R_N-4R!H->Cl_N-Sp-4BrBrBrCCCCCClClFFFFFHHIIINNNOOOPPPSSSSiSiSi#3BrBrBrCCCCCCClClClFFFFFFHHHIIINNNOOOPPPSSSSiSiSi_Sp-4BrCFINOPSSi-3BrCCClFFHINOPSSi_N-4BrCFINOPSSi->C_Ext-1O-R_Ext-3CClFH-R_Ext-3CClFH-R\">,\n",
       " 'Root_1R->O_N-3R->O_1O-u0_3CClFH-u1_Ext-3CClFH-R_N-4R!H->Cl_N-Sp-4BrBrBrCCCCCClClFFFFFHHIIINNNOOOPPPSSSSiSiSi#3BrBrBrCCCCCCClClClFFFFFFHHHIIINNNOOOPPPSSSSiSiSi_Sp-4BrCFINOPSSi-3BrCCClFFHINOPSSi_N-4BrCFINOPSSi->C_Ext-1O-R_Ext-3CClFH-R_6R!H->F': <Entry index=278 label=\"Root_1R->O_N-3R->O_1O-u0_3CClFH-u1_Ext-3CClFH-R_N-4R!H->Cl_N-Sp-4BrBrBrCCCCCClClFFFFFHHIIINNNOOOPPPSSSSiSiSi#3BrBrBrCCCCCCClClClFFFFFFHHHIIINNNOOOPPPSSSSiSiSi_Sp-4BrCFINOPSSi-3BrCCClFFHINOPSSi_N-4BrCFINOPSSi->C_Ext-1O-R_Ext-3CClFH-R_6R!H->F\">,\n",
       " 'Root_1R->O_N-3R->O_1O-u0_3CClFH-u1_Ext-3CClFH-R_N-4R!H->Cl_N-Sp-4BrBrBrCCCCCClClFFFFFHHIIINNNOOOPPPSSSSiSiSi#3BrBrBrCCCCCCClClClFFFFFFHHHIIINNNOOOPPPSSSSiSiSi_Sp-4BrCFINOPSSi-3BrCCClFFHINOPSSi_N-4BrCFINOPSSi->C_Ext-1O-R_Ext-3CClFH-R_N-6R!H->F': <Entry index=279 label=\"Root_1R->O_N-3R->O_1O-u0_3CClFH-u1_Ext-3CClFH-R_N-4R!H->Cl_N-Sp-4BrBrBrCCCCCClClFFFFFHHIIINNNOOOPPPSSSSiSiSi#3BrBrBrCCCCCCClClClFFFFFFHHHIIINNNOOOPPPSSSSiSiSi_Sp-4BrCFINOPSSi-3BrCCClFFHINOPSSi_N-4BrCFINOPSSi->C_Ext-1O-R_Ext-3CClFH-R_N-6R!H->F\">,\n",
       " 'Root_1R->O_N-3R->O_1O-u0_3CClFH-u1_Ext-3CClFH-R_N-4R!H->Cl_N-Sp-4BrBrBrCCCCCClClFFFFFHHIIINNNOOOPPPSSSSiSiSi#3BrBrBrCCCCCCClClClFFFFFFHHHIIINNNOOOPPPSSSSiSiSi_Sp-4BrCFINOPSSi-3BrCCClFFHINOPSSi_N-4BrCFINOPSSi->C_4FO->F_Ext-3CClFH-R_Ext-3CClFH-R': <Entry index=280 label=\"Root_1R->O_N-3R->O_1O-u0_3CClFH-u1_Ext-3CClFH-R_N-4R!H->Cl_N-Sp-4BrBrBrCCCCCClClFFFFFHHIIINNNOOOPPPSSSSiSiSi#3BrBrBrCCCCCCClClClFFFFFFHHHIIINNNOOOPPPSSSSiSiSi_Sp-4BrCFINOPSSi-3BrCCClFFHINOPSSi_N-4BrCFINOPSSi->C_4FO->F_Ext-3CClFH-R_Ext-3CClFH-R\">,\n",
       " 'Root_1R->O_N-3R->O_1O-u0_3CClFH-u1_Ext-3CClFH-R_N-4R!H->Cl_N-Sp-4BrBrBrCCCCCClClFFFFFHHIIINNNOOOPPPSSSSiSiSi#3BrBrBrCCCCCCClClClFFFFFFHHHIIINNNOOOPPPSSSSiSiSi_Sp-4BrCFINOPSSi-3BrCCClFFHINOPSSi_N-4BrCFINOPSSi->C_4FO->F_Ext-3CClFH-R_5R!H->F': <Entry index=281 label=\"Root_1R->O_N-3R->O_1O-u0_3CClFH-u1_Ext-3CClFH-R_N-4R!H->Cl_N-Sp-4BrBrBrCCCCCClClFFFFFHHIIINNNOOOPPPSSSSiSiSi#3BrBrBrCCCCCCClClClFFFFFFHHHIIINNNOOOPPPSSSSiSiSi_Sp-4BrCFINOPSSi-3BrCCClFFHINOPSSi_N-4BrCFINOPSSi->C_4FO->F_Ext-3CClFH-R_5R!H->F\">,\n",
       " 'Root_1R->O_N-3R->O_1O-u0_3CClFH-u1_Ext-3CClFH-R_N-4R!H->Cl_N-Sp-4BrBrBrCCCCCClClFFFFFHHIIINNNOOOPPPSSSSiSiSi#3BrBrBrCCCCCCClClClFFFFFFHHHIIINNNOOOPPPSSSSiSiSi_Sp-4BrCFINOPSSi-3BrCCClFFHINOPSSi_N-4BrCFINOPSSi->C_4FO->F_Ext-3CClFH-R_N-5R!H->F': <Entry index=282 label=\"Root_1R->O_N-3R->O_1O-u0_3CClFH-u1_Ext-3CClFH-R_N-4R!H->Cl_N-Sp-4BrBrBrCCCCCClClFFFFFHHIIINNNOOOPPPSSSSiSiSi#3BrBrBrCCCCCCClClClFFFFFFHHHIIINNNOOOPPPSSSSiSiSi_Sp-4BrCFINOPSSi-3BrCCClFFHINOPSSi_N-4BrCFINOPSSi->C_4FO->F_Ext-3CClFH-R_N-5R!H->F\">,\n",
       " 'Root_N-1R->O_N-3R->O_N-1BrCClFHINPSSi->F_N-3CClFH->F_3CClH->H_1CClH->C_Ext-1C-R_4R!H->F_Ext-1C-R_5R!H->F_Ext-1C-R_6R!H->C': <Entry index=283 label=\"Root_N-1R->O_N-3R->O_N-1BrCClFHINPSSi->F_N-3CClFH->F_3CClH->H_1CClH->C_Ext-1C-R_4R!H->F_Ext-1C-R_5R!H->F_Ext-1C-R_6R!H->C\">,\n",
       " 'Root_N-1R->O_N-3R->O_N-1BrCClFHINPSSi->F_N-3CClFH->F_3CClH->H_1CClH->C_Ext-1C-R_4R!H->F_Ext-1C-R_5R!H->F_Ext-1C-R_N-6R!H->C': <Entry index=284 label=\"Root_N-1R->O_N-3R->O_N-1BrCClFHINPSSi->F_N-3CClFH->F_3CClH->H_1CClH->C_Ext-1C-R_4R!H->F_Ext-1C-R_5R!H->F_Ext-1C-R_N-6R!H->C\">,\n",
       " 'Root_N-1R->O_N-3R->O_N-1BrCClFHINPSSi->F_N-3CClFH->F_N-3CClH->H_3CCl-u1_1CClH->C_Ext-1C-R_1C-u0_Ext-1C-R_4R!H->C_Ext-4C-R': <Entry index=285 label=\"Root_N-1R->O_N-3R->O_N-1BrCClFHINPSSi->F_N-3CClFH->F_N-3CClH->H_3CCl-u1_1CClH->C_Ext-1C-R_1C-u0_Ext-1C-R_4R!H->C_Ext-4C-R\">,\n",
       " 'Root_N-1R->O_N-3R->O_N-1BrCClFHINPSSi->F_N-3CClFH->F_N-3CClH->H_3CCl-u1_1CClH->C_Ext-1C-R_1C-u0_Ext-1C-R_4R!H->C_Sp-4C=1C': <Entry index=286 label=\"Root_N-1R->O_N-3R->O_N-1BrCClFHINPSSi->F_N-3CClFH->F_N-3CClH->H_3CCl-u1_1CClH->C_Ext-1C-R_1C-u0_Ext-1C-R_4R!H->C_Sp-4C=1C\">,\n",
       " 'Root_N-1R->O_N-3R->O_N-1BrCClFHINPSSi->F_N-3CClFH->F_N-3CClH->H_3CCl-u1_1CClH->C_Ext-1C-R_1C-u0_Ext-1C-R_4R!H->C_N-Sp-4C=1C': <Entry index=287 label=\"Root_N-1R->O_N-3R->O_N-1BrCClFHINPSSi->F_N-3CClFH->F_N-3CClH->H_3CCl-u1_1CClH->C_Ext-1C-R_1C-u0_Ext-1C-R_4R!H->C_N-Sp-4C=1C\">,\n",
       " 'Root_N-1R->O_N-3R->O_N-1BrCClFHINPSSi->F_N-3CClFH->F_N-3CClH->H_3CCl-u1_1CClH->C_Ext-1C-R_1C-u0_Ext-1C-R_N-4R!H->C_4FO->O': <Entry index=288 label=\"Root_N-1R->O_N-3R->O_N-1BrCClFHINPSSi->F_N-3CClFH->F_N-3CClH->H_3CCl-u1_1CClH->C_Ext-1C-R_1C-u0_Ext-1C-R_N-4R!H->C_4FO->O\">,\n",
       " 'Root_N-1R->O_N-3R->O_N-1BrCClFHINPSSi->F_N-3CClFH->F_N-3CClH->H_3CCl-u1_1CClH->C_Ext-1C-R_1C-u0_Ext-1C-R_N-4R!H->C_N-4FO->O': <Entry index=289 label=\"Root_N-1R->O_N-3R->O_N-1BrCClFHINPSSi->F_N-3CClFH->F_N-3CClH->H_3CCl-u1_1CClH->C_Ext-1C-R_1C-u0_Ext-1C-R_N-4R!H->C_N-4FO->O\">,\n",
       " 'Root_N-1R->O_N-3R->O_N-1BrCClFHINPSSi->F_N-3CClFH->F_N-3CClH->H_3CCl-u1_1CClH->C_Ext-1C-R_1C-u0_Sp-4R!H-1C_4R!H->F_Ext-3CCl-R': <Entry index=290 label=\"Root_N-1R->O_N-3R->O_N-1BrCClFHINPSSi->F_N-3CClFH->F_N-3CClH->H_3CCl-u1_1CClH->C_Ext-1C-R_1C-u0_Sp-4R!H-1C_4R!H->F_Ext-3CCl-R\">,\n",
       " 'Root_N-1R->O_N-3R->O_N-1BrCClFHINPSSi->F_N-3CClFH->F_N-3CClH->H_3CCl-u1_1CClH->C_Ext-1C-R_1C-u0_Sp-4R!H-1C_N-4R!H->F_Ext-3CCl-R': <Entry index=291 label=\"Root_N-1R->O_N-3R->O_N-1BrCClFHINPSSi->F_N-3CClFH->F_N-3CClH->H_3CCl-u1_1CClH->C_Ext-1C-R_1C-u0_Sp-4R!H-1C_N-4R!H->F_Ext-3CCl-R\">,\n",
       " 'Root_N-1R->O_N-3R->O_N-1BrCClFHINPSSi->F_N-3CClFH->F_N-3CClH->H_3CCl-u1_1CClH->C_Ext-1C-R_1C-u0_Sp-4R!H-1C_N-4R!H->F_4CO->C': <Entry index=292 label=\"Root_N-1R->O_N-3R->O_N-1BrCClFHINPSSi->F_N-3CClFH->F_N-3CClH->H_3CCl-u1_1CClH->C_Ext-1C-R_1C-u0_Sp-4R!H-1C_N-4R!H->F_4CO->C\">,\n",
       " 'Root_N-1R->O_N-3R->O_N-1BrCClFHINPSSi->F_N-3CClFH->F_N-3CClH->H_3CCl-u1_1CClH->C_Ext-1C-R_1C-u0_Sp-4R!H-1C_N-4R!H->F_N-4CO->C': <Entry index=293 label=\"Root_N-1R->O_N-3R->O_N-1BrCClFHINPSSi->F_N-3CClFH->F_N-3CClH->H_3CCl-u1_1CClH->C_Ext-1C-R_1C-u0_Sp-4R!H-1C_N-4R!H->F_N-4CO->C\">,\n",
       " 'Root_N-1R->O_N-3R->O_N-1BrCClFHINPSSi->F_N-3CClFH->F_N-3CClH->H_3CCl-u1_1CClH->C_Ext-1C-R_1C-u0_N-Sp-4R!H-1C_N-4R!H->C_Ext-3CCl-R': <Entry index=294 label=\"Root_N-1R->O_N-3R->O_N-1BrCClFHINPSSi->F_N-3CClFH->F_N-3CClH->H_3CCl-u1_1CClH->C_Ext-1C-R_1C-u0_N-Sp-4R!H-1C_N-4R!H->C_Ext-3CCl-R\">,\n",
       " 'Root_N-1R->O_N-3R->O_N-1BrCClFHINPSSi->F_N-3CClFH->F_N-3CClH->H_3CCl-u1_1CClH->C_Ext-1C-R_N-1C-u0_Sp-4R!H-1C_4R!H->C_Ext-1C-R': <Entry index=295 label=\"Root_N-1R->O_N-3R->O_N-1BrCClFHINPSSi->F_N-3CClFH->F_N-3CClH->H_3CCl-u1_1CClH->C_Ext-1C-R_N-1C-u0_Sp-4R!H-1C_4R!H->C_Ext-1C-R\">,\n",
       " 'Root_N-1R->O_N-3R->O_N-1BrCClFHINPSSi->F_N-3CClFH->F_N-3CClH->H_3CCl-u1_1CClH->C_Ext-1C-R_N-1C-u0_Sp-4R!H-1C_N-4R!H->C_Ext-1C-R': <Entry index=296 label=\"Root_N-1R->O_N-3R->O_N-1BrCClFHINPSSi->F_N-3CClFH->F_N-3CClH->H_3CCl-u1_1CClH->C_Ext-1C-R_N-1C-u0_Sp-4R!H-1C_N-4R!H->C_Ext-1C-R\">,\n",
       " 'Root_N-1R->O_N-3R->O_N-1BrCClFHINPSSi->F_N-3CClFH->F_N-3CClH->H_3CCl-u1_N-1CClH->C_N-3CCl->Cl_Ext-3C-R_N-4R!H->Cl_Ext-3C-R_Ext-3C-R': <Entry index=297 label=\"Root_N-1R->O_N-3R->O_N-1BrCClFHINPSSi->F_N-3CClFH->F_N-3CClH->H_3CCl-u1_N-1CClH->C_N-3CCl->Cl_Ext-3C-R_N-4R!H->Cl_Ext-3C-R_Ext-3C-R\">,\n",
       " 'Root_N-1R->O_N-3R->O_N-1BrCClFHINPSSi->F_N-3CClFH->F_N-3CClH->H_3CCl-u1_N-1CClH->C_N-3CCl->Cl_Ext-3C-R_N-4R!H->Cl_Ext-3C-R_4BrCFINOPSSi->C': <Entry index=298 label=\"Root_N-1R->O_N-3R->O_N-1BrCClFHINPSSi->F_N-3CClFH->F_N-3CClH->H_3CCl-u1_N-1CClH->C_N-3CCl->Cl_Ext-3C-R_N-4R!H->Cl_Ext-3C-R_4BrCFINOPSSi->C\">,\n",
       " 'Root_N-1R->O_N-3R->O_N-1BrCClFHINPSSi->F_N-3CClFH->F_N-3CClH->H_3CCl-u1_N-1CClH->C_N-3CCl->Cl_Ext-3C-R_N-4R!H->Cl_Ext-3C-R_N-4BrCFINOPSSi->C': <Entry index=299 label=\"Root_N-1R->O_N-3R->O_N-1BrCClFHINPSSi->F_N-3CClFH->F_N-3CClH->H_3CCl-u1_N-1CClH->C_N-3CCl->Cl_Ext-3C-R_N-4R!H->Cl_Ext-3C-R_N-4BrCFINOPSSi->C\">,\n",
       " 'Root_N-1R->O_N-3R->O_N-1BrCClFHINPSSi->F_N-3CClFH->F_N-3CClH->H_3CCl-u1_N-1CClH->C_N-3CCl->Cl_Ext-3C-R_N-4R!H->Cl_N-4BrCFINOPSSi->C_4FO->F': <Entry index=300 label=\"Root_N-1R->O_N-3R->O_N-1BrCClFHINPSSi->F_N-3CClFH->F_N-3CClH->H_3CCl-u1_N-1CClH->C_N-3CCl->Cl_Ext-3C-R_N-4R!H->Cl_N-4BrCFINOPSSi->C_4FO->F\">,\n",
       " 'Root_N-1R->O_N-3R->O_N-1BrCClFHINPSSi->F_N-3CClFH->F_N-3CClH->H_3CCl-u1_N-1CClH->C_N-3CCl->Cl_Ext-3C-R_N-4R!H->Cl_N-4BrCFINOPSSi->C_N-4FO->F': <Entry index=301 label=\"Root_N-1R->O_N-3R->O_N-1BrCClFHINPSSi->F_N-3CClFH->F_N-3CClH->H_3CCl-u1_N-1CClH->C_N-3CCl->Cl_Ext-3C-R_N-4R!H->Cl_N-4BrCFINOPSSi->C_N-4FO->F\">,\n",
       " 'Root_N-1R->O_N-3R->O_N-1BrCClFHINPSSi->F_N-3CClFH->F_N-3CClH->H_3CCl-u1_1CClH->C_Ext-1C-R_1C-u0_Ext-1C-R_4R!H->C_Ext-4C-R_Ext-3CCl-R_7R!H->C': <Entry index=302 label=\"Root_N-1R->O_N-3R->O_N-1BrCClFHINPSSi->F_N-3CClFH->F_N-3CClH->H_3CCl-u1_1CClH->C_Ext-1C-R_1C-u0_Ext-1C-R_4R!H->C_Ext-4C-R_Ext-3CCl-R_7R!H->C\">,\n",
       " 'Root_N-1R->O_N-3R->O_N-1BrCClFHINPSSi->F_N-3CClFH->F_N-3CClH->H_3CCl-u1_1CClH->C_Ext-1C-R_1C-u0_Ext-1C-R_4R!H->C_Ext-4C-R_Ext-3CCl-R_N-7R!H->C': <Entry index=303 label=\"Root_N-1R->O_N-3R->O_N-1BrCClFHINPSSi->F_N-3CClFH->F_N-3CClH->H_3CCl-u1_1CClH->C_Ext-1C-R_1C-u0_Ext-1C-R_4R!H->C_Ext-4C-R_Ext-3CCl-R_N-7R!H->C\">,\n",
       " 'Root_N-1R->O_N-3R->O_N-1BrCClFHINPSSi->F_N-3CClFH->F_N-3CClH->H_3CCl-u1_1CClH->C_Ext-1C-R_1C-u0_Ext-1C-R_4R!H->C_N-Sp-4C=1C_Ext-3CCl-R': <Entry index=304 label=\"Root_N-1R->O_N-3R->O_N-1BrCClFHINPSSi->F_N-3CClFH->F_N-3CClH->H_3CCl-u1_1CClH->C_Ext-1C-R_1C-u0_Ext-1C-R_4R!H->C_N-Sp-4C=1C_Ext-3CCl-R\">,\n",
       " 'Root_N-1R->O_N-3R->O_N-1BrCClFHINPSSi->F_N-3CClFH->F_N-3CClH->H_3CCl-u1_1CClH->C_Ext-1C-R_1C-u0_Ext-1C-R_4R!H->C_N-Sp-4C=1C_5R!H->C': <Entry index=305 label=\"Root_N-1R->O_N-3R->O_N-1BrCClFHINPSSi->F_N-3CClFH->F_N-3CClH->H_3CCl-u1_1CClH->C_Ext-1C-R_1C-u0_Ext-1C-R_4R!H->C_N-Sp-4C=1C_5R!H->C\">,\n",
       " 'Root_N-1R->O_N-3R->O_N-1BrCClFHINPSSi->F_N-3CClFH->F_N-3CClH->H_3CCl-u1_1CClH->C_Ext-1C-R_1C-u0_Ext-1C-R_4R!H->C_N-Sp-4C=1C_N-5R!H->C': <Entry index=306 label=\"Root_N-1R->O_N-3R->O_N-1BrCClFHINPSSi->F_N-3CClFH->F_N-3CClH->H_3CCl-u1_1CClH->C_Ext-1C-R_1C-u0_Ext-1C-R_4R!H->C_N-Sp-4C=1C_N-5R!H->C\">,\n",
       " 'Root_N-1R->O_N-3R->O_N-1BrCClFHINPSSi->F_N-3CClFH->F_N-3CClH->H_3CCl-u1_1CClH->C_Ext-1C-R_1C-u0_Ext-1C-R_N-4R!H->C_4FO->O_Ext-3CCl-R': <Entry index=307 label=\"Root_N-1R->O_N-3R->O_N-1BrCClFHINPSSi->F_N-3CClFH->F_N-3CClH->H_3CCl-u1_1CClH->C_Ext-1C-R_1C-u0_Ext-1C-R_N-4R!H->C_4FO->O_Ext-3CCl-R\">,\n",
       " 'Root_N-1R->O_N-3R->O_N-1BrCClFHINPSSi->F_N-3CClFH->F_N-3CClH->H_3CCl-u1_1CClH->C_Ext-1C-R_1C-u0_Ext-1C-R_N-4R!H->C_N-4FO->O_Ext-3CCl-R': <Entry index=308 label=\"Root_N-1R->O_N-3R->O_N-1BrCClFHINPSSi->F_N-3CClFH->F_N-3CClH->H_3CCl-u1_1CClH->C_Ext-1C-R_1C-u0_Ext-1C-R_N-4R!H->C_N-4FO->O_Ext-3CCl-R\">,\n",
       " 'Root_N-1R->O_N-3R->O_N-1BrCClFHINPSSi->F_N-3CClFH->F_N-3CClH->H_3CCl-u1_1CClH->C_Ext-1C-R_1C-u0_Ext-1C-R_N-4R!H->C_N-4FO->O_Ext-1C-R': <Entry index=309 label=\"Root_N-1R->O_N-3R->O_N-1BrCClFHINPSSi->F_N-3CClFH->F_N-3CClH->H_3CCl-u1_1CClH->C_Ext-1C-R_1C-u0_Ext-1C-R_N-4R!H->C_N-4FO->O_Ext-1C-R\">,\n",
       " 'Root_N-1R->O_N-3R->O_N-1BrCClFHINPSSi->F_N-3CClFH->F_N-3CClH->H_3CCl-u1_1CClH->C_Ext-1C-R_1C-u0_Sp-4R!H-1C_4R!H->F_Ext-3CCl-R_5R!H->C': <Entry index=310 label=\"Root_N-1R->O_N-3R->O_N-1BrCClFHINPSSi->F_N-3CClFH->F_N-3CClH->H_3CCl-u1_1CClH->C_Ext-1C-R_1C-u0_Sp-4R!H-1C_4R!H->F_Ext-3CCl-R_5R!H->C\">,\n",
       " 'Root_N-1R->O_N-3R->O_N-1BrCClFHINPSSi->F_N-3CClFH->F_N-3CClH->H_3CCl-u1_1CClH->C_Ext-1C-R_1C-u0_Sp-4R!H-1C_4R!H->F_Ext-3CCl-R_N-5R!H->C': <Entry index=311 label=\"Root_N-1R->O_N-3R->O_N-1BrCClFHINPSSi->F_N-3CClFH->F_N-3CClH->H_3CCl-u1_1CClH->C_Ext-1C-R_1C-u0_Sp-4R!H-1C_4R!H->F_Ext-3CCl-R_N-5R!H->C\">,\n",
       " 'Root_N-1R->O_N-3R->O_N-1BrCClFHINPSSi->F_N-3CClFH->F_N-3CClH->H_3CCl-u1_1CClH->C_Ext-1C-R_1C-u0_Sp-4R!H-1C_N-4R!H->F_Ext-3CCl-R_4CO->C': <Entry index=312 label=\"Root_N-1R->O_N-3R->O_N-1BrCClFHINPSSi->F_N-3CClFH->F_N-3CClH->H_3CCl-u1_1CClH->C_Ext-1C-R_1C-u0_Sp-4R!H-1C_N-4R!H->F_Ext-3CCl-R_4CO->C\">,\n",
       " 'Root_N-1R->O_N-3R->O_N-1BrCClFHINPSSi->F_N-3CClFH->F_N-3CClH->H_3CCl-u1_1CClH->C_Ext-1C-R_1C-u0_Sp-4R!H-1C_N-4R!H->F_Ext-3CCl-R_N-4CO->C': <Entry index=313 label=\"Root_N-1R->O_N-3R->O_N-1BrCClFHINPSSi->F_N-3CClFH->F_N-3CClH->H_3CCl-u1_1CClH->C_Ext-1C-R_1C-u0_Sp-4R!H-1C_N-4R!H->F_Ext-3CCl-R_N-4CO->C\">,\n",
       " 'Root_N-1R->O_N-3R->O_N-1BrCClFHINPSSi->F_N-3CClFH->F_N-3CClH->H_3CCl-u1_1CClH->C_Ext-1C-R_1C-u0_Sp-4R!H-1C_N-4R!H->F_4CO->C_Ext-4C-R': <Entry index=314 label=\"Root_N-1R->O_N-3R->O_N-1BrCClFHINPSSi->F_N-3CClFH->F_N-3CClH->H_3CCl-u1_1CClH->C_Ext-1C-R_1C-u0_Sp-4R!H-1C_N-4R!H->F_4CO->C_Ext-4C-R\">,\n",
       " 'Root_N-1R->O_N-3R->O_N-1BrCClFHINPSSi->F_N-3CClFH->F_N-3CClH->H_3CCl-u1_1CClH->C_Ext-1C-R_1C-u0_N-Sp-4R!H-1C_N-4R!H->C_Ext-3CCl-R_Ext-3CCl-R': <Entry index=315 label=\"Root_N-1R->O_N-3R->O_N-1BrCClFHINPSSi->F_N-3CClFH->F_N-3CClH->H_3CCl-u1_1CClH->C_Ext-1C-R_1C-u0_N-Sp-4R!H-1C_N-4R!H->C_Ext-3CCl-R_Ext-3CCl-R\">,\n",
       " 'Root_N-1R->O_N-3R->O_N-1BrCClFHINPSSi->F_N-3CClFH->F_N-3CClH->H_3CCl-u1_1CClH->C_Ext-1C-R_1C-u0_N-Sp-4R!H-1C_N-4R!H->C_Ext-3CCl-R_5R!H->F': <Entry index=316 label=\"Root_N-1R->O_N-3R->O_N-1BrCClFHINPSSi->F_N-3CClFH->F_N-3CClH->H_3CCl-u1_1CClH->C_Ext-1C-R_1C-u0_N-Sp-4R!H-1C_N-4R!H->C_Ext-3CCl-R_5R!H->F\">,\n",
       " 'Root_N-1R->O_N-3R->O_N-1BrCClFHINPSSi->F_N-3CClFH->F_N-3CClH->H_3CCl-u1_1CClH->C_Ext-1C-R_1C-u0_N-Sp-4R!H-1C_N-4R!H->C_Ext-3CCl-R_N-5R!H->F': <Entry index=317 label=\"Root_N-1R->O_N-3R->O_N-1BrCClFHINPSSi->F_N-3CClFH->F_N-3CClH->H_3CCl-u1_1CClH->C_Ext-1C-R_1C-u0_N-Sp-4R!H-1C_N-4R!H->C_Ext-3CCl-R_N-5R!H->F\">,\n",
       " 'Root_N-1R->O_N-3R->O_N-1BrCClFHINPSSi->F_N-3CClFH->F_N-3CClH->H_3CCl-u1_1CClH->C_Ext-1C-R_N-1C-u0_Sp-4R!H-1C_4R!H->C_Ext-1C-R_5R!H->C': <Entry index=318 label=\"Root_N-1R->O_N-3R->O_N-1BrCClFHINPSSi->F_N-3CClFH->F_N-3CClH->H_3CCl-u1_1CClH->C_Ext-1C-R_N-1C-u0_Sp-4R!H-1C_4R!H->C_Ext-1C-R_5R!H->C\">,\n",
       " 'Root_N-1R->O_N-3R->O_N-1BrCClFHINPSSi->F_N-3CClFH->F_N-3CClH->H_3CCl-u1_1CClH->C_Ext-1C-R_N-1C-u0_Sp-4R!H-1C_4R!H->C_Ext-1C-R_N-5R!H->C': <Entry index=319 label=\"Root_N-1R->O_N-3R->O_N-1BrCClFHINPSSi->F_N-3CClFH->F_N-3CClH->H_3CCl-u1_1CClH->C_Ext-1C-R_N-1C-u0_Sp-4R!H-1C_4R!H->C_Ext-1C-R_N-5R!H->C\">,\n",
       " 'Root_N-1R->O_N-3R->O_N-1BrCClFHINPSSi->F_N-3CClFH->F_N-3CClH->H_3CCl-u1_N-1CClH->C_N-3CCl->Cl_Ext-3C-R_N-4R!H->Cl_Ext-3C-R_Ext-3C-R_4BrCFINOPSSi->C': <Entry index=320 label=\"Root_N-1R->O_N-3R->O_N-1BrCClFHINPSSi->F_N-3CClFH->F_N-3CClH->H_3CCl-u1_N-1CClH->C_N-3CCl->Cl_Ext-3C-R_N-4R!H->Cl_Ext-3C-R_Ext-3C-R_4BrCFINOPSSi->C\">,\n",
       " 'Root_N-1R->O_N-3R->O_N-1BrCClFHINPSSi->F_N-3CClFH->F_N-3CClH->H_3CCl-u1_N-1CClH->C_N-3CCl->Cl_Ext-3C-R_N-4R!H->Cl_Ext-3C-R_Ext-3C-R_N-4BrCFINOPSSi->C': <Entry index=321 label=\"Root_N-1R->O_N-3R->O_N-1BrCClFHINPSSi->F_N-3CClFH->F_N-3CClH->H_3CCl-u1_N-1CClH->C_N-3CCl->Cl_Ext-3C-R_N-4R!H->Cl_Ext-3C-R_Ext-3C-R_N-4BrCFINOPSSi->C\">,\n",
       " 'Root_N-1R->O_N-3R->O_N-1BrCClFHINPSSi->F_N-3CClFH->F_N-3CClH->H_3CCl-u1_N-1CClH->C_N-3CCl->Cl_Ext-3C-R_N-4R!H->Cl_Ext-3C-R_4BrCFINOPSSi->C_Ext-4C-R': <Entry index=322 label=\"Root_N-1R->O_N-3R->O_N-1BrCClFHINPSSi->F_N-3CClFH->F_N-3CClH->H_3CCl-u1_N-1CClH->C_N-3CCl->Cl_Ext-3C-R_N-4R!H->Cl_Ext-3C-R_4BrCFINOPSSi->C_Ext-4C-R\">,\n",
       " 'Root_N-1R->O_N-3R->O_N-1BrCClFHINPSSi->F_N-3CClFH->F_N-3CClH->H_3CCl-u1_N-1CClH->C_N-3CCl->Cl_Ext-3C-R_N-4R!H->Cl_Ext-3C-R_N-4BrCFINOPSSi->C_4FO->O': <Entry index=323 label=\"Root_N-1R->O_N-3R->O_N-1BrCClFHINPSSi->F_N-3CClFH->F_N-3CClH->H_3CCl-u1_N-1CClH->C_N-3CCl->Cl_Ext-3C-R_N-4R!H->Cl_Ext-3C-R_N-4BrCFINOPSSi->C_4FO->O\">,\n",
       " 'Root_N-1R->O_N-3R->O_N-1BrCClFHINPSSi->F_N-3CClFH->F_N-3CClH->H_3CCl-u1_N-1CClH->C_N-3CCl->Cl_Ext-3C-R_N-4R!H->Cl_Ext-3C-R_N-4BrCFINOPSSi->C_N-4FO->O': <Entry index=324 label=\"Root_N-1R->O_N-3R->O_N-1BrCClFHINPSSi->F_N-3CClFH->F_N-3CClH->H_3CCl-u1_N-1CClH->C_N-3CCl->Cl_Ext-3C-R_N-4R!H->Cl_Ext-3C-R_N-4BrCFINOPSSi->C_N-4FO->O\">,\n",
       " 'Root_N-1R->O_N-3R->O_N-1BrCClFHINPSSi->F_N-3CClFH->F_N-3CClH->H_3CCl-u1_N-1CClH->C_N-3CCl->Cl_Ext-3C-R_N-4R!H->Cl_N-4BrCFINOPSSi->C_N-4FO->F_Sp-4O-3C': <Entry index=325 label=\"Root_N-1R->O_N-3R->O_N-1BrCClFHINPSSi->F_N-3CClFH->F_N-3CClH->H_3CCl-u1_N-1CClH->C_N-3CCl->Cl_Ext-3C-R_N-4R!H->Cl_N-4BrCFINOPSSi->C_N-4FO->F_Sp-4O-3C\">,\n",
       " 'Root_N-1R->O_N-3R->O_N-1BrCClFHINPSSi->F_N-3CClFH->F_N-3CClH->H_3CCl-u1_N-1CClH->C_N-3CCl->Cl_Ext-3C-R_N-4R!H->Cl_N-4BrCFINOPSSi->C_N-4FO->F_N-Sp-4O-3C': <Entry index=326 label=\"Root_N-1R->O_N-3R->O_N-1BrCClFHINPSSi->F_N-3CClFH->F_N-3CClH->H_3CCl-u1_N-1CClH->C_N-3CCl->Cl_Ext-3C-R_N-4R!H->Cl_N-4BrCFINOPSSi->C_N-4FO->F_N-Sp-4O-3C\">,\n",
       " 'Root_N-1R->O_N-3R->O_N-1BrCClFHINPSSi->F_N-3CClFH->F_N-3CClH->H_3CCl-u1_1CClH->C_Ext-1C-R_1C-u0_Ext-1C-R_4R!H->C_Ext-4C-R_Ext-3CCl-R_7R!H->C_Ext-1C-R': <Entry index=327 label=\"Root_N-1R->O_N-3R->O_N-1BrCClFHINPSSi->F_N-3CClFH->F_N-3CClH->H_3CCl-u1_1CClH->C_Ext-1C-R_1C-u0_Ext-1C-R_4R!H->C_Ext-4C-R_Ext-3CCl-R_7R!H->C_Ext-1C-R\">,\n",
       " 'Root_N-1R->O_N-3R->O_N-1BrCClFHINPSSi->F_N-3CClFH->F_N-3CClH->H_3CCl-u1_1CClH->C_Ext-1C-R_1C-u0_Ext-1C-R_4R!H->C_Ext-4C-R_Ext-3CCl-R_N-7R!H->C_5R!H->F': <Entry index=328 label=\"Root_N-1R->O_N-3R->O_N-1BrCClFHINPSSi->F_N-3CClFH->F_N-3CClH->H_3CCl-u1_1CClH->C_Ext-1C-R_1C-u0_Ext-1C-R_4R!H->C_Ext-4C-R_Ext-3CCl-R_N-7R!H->C_5R!H->F\">,\n",
       " 'Root_N-1R->O_N-3R->O_N-1BrCClFHINPSSi->F_N-3CClFH->F_N-3CClH->H_3CCl-u1_1CClH->C_Ext-1C-R_1C-u0_Ext-1C-R_4R!H->C_Ext-4C-R_Ext-3CCl-R_N-7R!H->C_N-5R!H->F': <Entry index=329 label=\"Root_N-1R->O_N-3R->O_N-1BrCClFHINPSSi->F_N-3CClFH->F_N-3CClH->H_3CCl-u1_1CClH->C_Ext-1C-R_1C-u0_Ext-1C-R_4R!H->C_Ext-4C-R_Ext-3CCl-R_N-7R!H->C_N-5R!H->F\">,\n",
       " 'Root_N-1R->O_N-3R->O_N-1BrCClFHINPSSi->F_N-3CClFH->F_N-3CClH->H_3CCl-u1_1CClH->C_Ext-1C-R_1C-u0_Ext-1C-R_N-4R!H->C_N-4FO->O_Ext-3CCl-R_6R!H->O': <Entry index=330 label=\"Root_N-1R->O_N-3R->O_N-1BrCClFHINPSSi->F_N-3CClFH->F_N-3CClH->H_3CCl-u1_1CClH->C_Ext-1C-R_1C-u0_Ext-1C-R_N-4R!H->C_N-4FO->O_Ext-3CCl-R_6R!H->O\">,\n",
       " 'Root_N-1R->O_N-3R->O_N-1BrCClFHINPSSi->F_N-3CClFH->F_N-3CClH->H_3CCl-u1_1CClH->C_Ext-1C-R_1C-u0_Ext-1C-R_N-4R!H->C_N-4FO->O_Ext-3CCl-R_N-6R!H->O': <Entry index=331 label=\"Root_N-1R->O_N-3R->O_N-1BrCClFHINPSSi->F_N-3CClFH->F_N-3CClH->H_3CCl-u1_1CClH->C_Ext-1C-R_1C-u0_Ext-1C-R_N-4R!H->C_N-4FO->O_Ext-3CCl-R_N-6R!H->O\">,\n",
       " 'Root_N-1R->O_N-3R->O_N-1BrCClFHINPSSi->F_N-3CClFH->F_N-3CClH->H_3CCl-u1_1CClH->C_Ext-1C-R_1C-u0_Sp-4R!H-1C_4R!H->F_Ext-3CCl-R_5R!H->C_Ext-3CCl-R': <Entry index=332 label=\"Root_N-1R->O_N-3R->O_N-1BrCClFHINPSSi->F_N-3CClFH->F_N-3CClH->H_3CCl-u1_1CClH->C_Ext-1C-R_1C-u0_Sp-4R!H-1C_4R!H->F_Ext-3CCl-R_5R!H->C_Ext-3CCl-R\">,\n",
       " 'Root_N-1R->O_N-3R->O_N-1BrCClFHINPSSi->F_N-3CClFH->F_N-3CClH->H_3CCl-u1_1CClH->C_Ext-1C-R_1C-u0_Sp-4R!H-1C_4R!H->F_Ext-3CCl-R_5R!H->C_Ext-5C-R': <Entry index=333 label=\"Root_N-1R->O_N-3R->O_N-1BrCClFHINPSSi->F_N-3CClFH->F_N-3CClH->H_3CCl-u1_1CClH->C_Ext-1C-R_1C-u0_Sp-4R!H-1C_4R!H->F_Ext-3CCl-R_5R!H->C_Ext-5C-R\">,\n",
       " 'Root_N-1R->O_N-3R->O_N-1BrCClFHINPSSi->F_N-3CClFH->F_N-3CClH->H_3CCl-u1_1CClH->C_Ext-1C-R_1C-u0_Sp-4R!H-1C_4R!H->F_Ext-3CCl-R_N-5R!H->C_Sp-5BrBrCClClClFFIINNOOPPSSSiSi=3BrBrCCClClClClFFIINNOOPPSSSiSi': <Entry index=334 label=\"Root_N-1R->O_N-3R->O_N-1BrCClFHINPSSi->F_N-3CClFH->F_N-3CClH->H_3CCl-u1_1CClH->C_Ext-1C-R_1C-u0_Sp-4R!H-1C_4R!H->F_Ext-3CCl-R_N-5R!H->C_Sp-5BrBrCClClClFFIINNOOPPSSSiSi=3BrBrCCClClClClFFIINNOOPPSSSiSi\">,\n",
       " 'Root_N-1R->O_N-3R->O_N-1BrCClFHINPSSi->F_N-3CClFH->F_N-3CClH->H_3CCl-u1_1CClH->C_Ext-1C-R_1C-u0_Sp-4R!H-1C_4R!H->F_Ext-3CCl-R_N-5R!H->C_N-Sp-5BrBrCClClClFFIINNOOPPSSSiSi=3BrBrCCClClClClFFIINNOOPPSSSiSi': <Entry index=335 label=\"Root_N-1R->O_N-3R->O_N-1BrCClFHINPSSi->F_N-3CClFH->F_N-3CClH->H_3CCl-u1_1CClH->C_Ext-1C-R_1C-u0_Sp-4R!H-1C_4R!H->F_Ext-3CCl-R_N-5R!H->C_N-Sp-5BrBrCClClClFFIINNOOPPSSSiSi=3BrBrCCClClClClFFIINNOOPPSSSiSi\">,\n",
       " 'Root_N-1R->O_N-3R->O_N-1BrCClFHINPSSi->F_N-3CClFH->F_N-3CClH->H_3CCl-u1_1CClH->C_Ext-1C-R_1C-u0_Sp-4R!H-1C_N-4R!H->F_Ext-3CCl-R_4CO->C_5R!H->F': <Entry index=336 label=\"Root_N-1R->O_N-3R->O_N-1BrCClFHINPSSi->F_N-3CClFH->F_N-3CClH->H_3CCl-u1_1CClH->C_Ext-1C-R_1C-u0_Sp-4R!H-1C_N-4R!H->F_Ext-3CCl-R_4CO->C_5R!H->F\">,\n",
       " 'Root_N-1R->O_N-3R->O_N-1BrCClFHINPSSi->F_N-3CClFH->F_N-3CClH->H_3CCl-u1_1CClH->C_Ext-1C-R_1C-u0_Sp-4R!H-1C_N-4R!H->F_Ext-3CCl-R_4CO->C_N-5R!H->F': <Entry index=337 label=\"Root_N-1R->O_N-3R->O_N-1BrCClFHINPSSi->F_N-3CClFH->F_N-3CClH->H_3CCl-u1_1CClH->C_Ext-1C-R_1C-u0_Sp-4R!H-1C_N-4R!H->F_Ext-3CCl-R_4CO->C_N-5R!H->F\">,\n",
       " 'Root_N-1R->O_N-3R->O_N-1BrCClFHINPSSi->F_N-3CClFH->F_N-3CClH->H_3CCl-u1_1CClH->C_Ext-1C-R_1C-u0_Sp-4R!H-1C_N-4R!H->F_Ext-3CCl-R_N-4CO->C_Ext-3CCl-R': <Entry index=338 label=\"Root_N-1R->O_N-3R->O_N-1BrCClFHINPSSi->F_N-3CClFH->F_N-3CClH->H_3CCl-u1_1CClH->C_Ext-1C-R_1C-u0_Sp-4R!H-1C_N-4R!H->F_Ext-3CCl-R_N-4CO->C_Ext-3CCl-R\">,\n",
       " 'Root_N-1R->O_N-3R->O_N-1BrCClFHINPSSi->F_N-3CClFH->F_N-3CClH->H_3CCl-u1_1CClH->C_Ext-1C-R_1C-u0_Ext-1C-R_4R!H->C_Ext-4C-R_Ext-3CCl-R_N-7R!H->C_5R!H->F_Sp-6R!H=4C': <Entry index=339 label=\"Root_N-1R->O_N-3R->O_N-1BrCClFHINPSSi->F_N-3CClFH->F_N-3CClH->H_3CCl-u1_1CClH->C_Ext-1C-R_1C-u0_Ext-1C-R_4R!H->C_Ext-4C-R_Ext-3CCl-R_N-7R!H->C_5R!H->F_Sp-6R!H=4C\">,\n",
       " 'Root_N-1R->O_N-3R->O_N-1BrCClFHINPSSi->F_N-3CClFH->F_N-3CClH->H_3CCl-u1_1CClH->C_Ext-1C-R_1C-u0_Ext-1C-R_4R!H->C_Ext-4C-R_Ext-3CCl-R_N-7R!H->C_5R!H->F_N-Sp-6R!H=4C': <Entry index=340 label=\"Root_N-1R->O_N-3R->O_N-1BrCClFHINPSSi->F_N-3CClFH->F_N-3CClH->H_3CCl-u1_1CClH->C_Ext-1C-R_1C-u0_Ext-1C-R_4R!H->C_Ext-4C-R_Ext-3CCl-R_N-7R!H->C_5R!H->F_N-Sp-6R!H=4C\">,\n",
       " 'Root_N-1R->O_N-3R->O_N-1BrCClFHINPSSi->F_N-3CClFH->F_N-3CClH->H_3CCl-u1_1CClH->C_Ext-1C-R_1C-u0_Ext-1C-R_N-4R!H->C_N-4FO->O_Ext-3CCl-R_6R!H->O_Ext-1C-R': <Entry index=341 label=\"Root_N-1R->O_N-3R->O_N-1BrCClFHINPSSi->F_N-3CClFH->F_N-3CClH->H_3CCl-u1_1CClH->C_Ext-1C-R_1C-u0_Ext-1C-R_N-4R!H->C_N-4FO->O_Ext-3CCl-R_6R!H->O_Ext-1C-R\">,\n",
       " 'Root_N-1R->O_N-3R->O_N-1BrCClFHINPSSi->F_N-3CClFH->F_N-3CClH->H_3CCl-u1_1CClH->C_Ext-1C-R_1C-u0_Ext-1C-R_N-4R!H->C_N-4FO->O_Ext-3CCl-R_6R!H->O_Sp-6O-3CCl': <Entry index=342 label=\"Root_N-1R->O_N-3R->O_N-1BrCClFHINPSSi->F_N-3CClFH->F_N-3CClH->H_3CCl-u1_1CClH->C_Ext-1C-R_1C-u0_Ext-1C-R_N-4R!H->C_N-4FO->O_Ext-3CCl-R_6R!H->O_Sp-6O-3CCl\">,\n",
       " 'Root_N-1R->O_N-3R->O_N-1BrCClFHINPSSi->F_N-3CClFH->F_N-3CClH->H_3CCl-u1_1CClH->C_Ext-1C-R_1C-u0_Ext-1C-R_N-4R!H->C_N-4FO->O_Ext-3CCl-R_6R!H->O_N-Sp-6O-3CCl': <Entry index=343 label=\"Root_N-1R->O_N-3R->O_N-1BrCClFHINPSSi->F_N-3CClFH->F_N-3CClH->H_3CCl-u1_1CClH->C_Ext-1C-R_1C-u0_Ext-1C-R_N-4R!H->C_N-4FO->O_Ext-3CCl-R_6R!H->O_N-Sp-6O-3CCl\">,\n",
       " 'Root_N-1R->O_N-3R->O_N-1BrCClFHINPSSi->F_N-3CClFH->F_N-3CClH->H_3CCl-u1_1CClH->C_Ext-1C-R_1C-u0_Ext-1C-R_N-4R!H->C_N-4FO->O_Ext-3CCl-R_N-6R!H->O_6BrCClFINPSSi->C': <Entry index=344 label=\"Root_N-1R->O_N-3R->O_N-1BrCClFHINPSSi->F_N-3CClFH->F_N-3CClH->H_3CCl-u1_1CClH->C_Ext-1C-R_1C-u0_Ext-1C-R_N-4R!H->C_N-4FO->O_Ext-3CCl-R_N-6R!H->O_6BrCClFINPSSi->C\">,\n",
       " 'Root_N-1R->O_N-3R->O_N-1BrCClFHINPSSi->F_N-3CClFH->F_N-3CClH->H_3CCl-u1_1CClH->C_Ext-1C-R_1C-u0_Ext-1C-R_N-4R!H->C_N-4FO->O_Ext-3CCl-R_N-6R!H->O_N-6BrCClFINPSSi->C': <Entry index=345 label=\"Root_N-1R->O_N-3R->O_N-1BrCClFHINPSSi->F_N-3CClFH->F_N-3CClH->H_3CCl-u1_1CClH->C_Ext-1C-R_1C-u0_Ext-1C-R_N-4R!H->C_N-4FO->O_Ext-3CCl-R_N-6R!H->O_N-6BrCClFINPSSi->C\">,\n",
       " 'Root_N-1R->O_N-3R->O_N-1BrCClFHINPSSi->F_N-3CClFH->F_N-3CClH->H_3CCl-u1_1CClH->C_Ext-1C-R_1C-u0_Sp-4R!H-1C_4R!H->F_Ext-3CCl-R_5R!H->C_Ext-3CCl-R_Ext-5C-R_7R!H->C': <Entry index=346 label=\"Root_N-1R->O_N-3R->O_N-1BrCClFHINPSSi->F_N-3CClFH->F_N-3CClH->H_3CCl-u1_1CClH->C_Ext-1C-R_1C-u0_Sp-4R!H-1C_4R!H->F_Ext-3CCl-R_5R!H->C_Ext-3CCl-R_Ext-5C-R_7R!H->C\">,\n",
       " 'Root_N-1R->O_N-3R->O_N-1BrCClFHINPSSi->F_N-3CClFH->F_N-3CClH->H_3CCl-u1_1CClH->C_Ext-1C-R_1C-u0_Sp-4R!H-1C_4R!H->F_Ext-3CCl-R_5R!H->C_Ext-3CCl-R_Ext-5C-R_N-7R!H->C': <Entry index=347 label=\"Root_N-1R->O_N-3R->O_N-1BrCClFHINPSSi->F_N-3CClFH->F_N-3CClH->H_3CCl-u1_1CClH->C_Ext-1C-R_1C-u0_Sp-4R!H-1C_4R!H->F_Ext-3CCl-R_5R!H->C_Ext-3CCl-R_Ext-5C-R_N-7R!H->C\">,\n",
       " 'Root_N-1R->O_N-3R->O_N-1BrCClFHINPSSi->F_N-3CClFH->F_N-3CClH->H_3CCl-u1_1CClH->C_Ext-1C-R_1C-u0_Sp-4R!H-1C_4R!H->F_Ext-3CCl-R_5R!H->C_Ext-5C-R_6R!H->C': <Entry index=348 label=\"Root_N-1R->O_N-3R->O_N-1BrCClFHINPSSi->F_N-3CClFH->F_N-3CClH->H_3CCl-u1_1CClH->C_Ext-1C-R_1C-u0_Sp-4R!H-1C_4R!H->F_Ext-3CCl-R_5R!H->C_Ext-5C-R_6R!H->C\">,\n",
       " 'Root_N-1R->O_N-3R->O_N-1BrCClFHINPSSi->F_N-3CClFH->F_N-3CClH->H_3CCl-u1_1CClH->C_Ext-1C-R_1C-u0_Sp-4R!H-1C_4R!H->F_Ext-3CCl-R_5R!H->C_Ext-5C-R_N-6R!H->C': <Entry index=349 label=\"Root_N-1R->O_N-3R->O_N-1BrCClFHINPSSi->F_N-3CClFH->F_N-3CClH->H_3CCl-u1_1CClH->C_Ext-1C-R_1C-u0_Sp-4R!H-1C_4R!H->F_Ext-3CCl-R_5R!H->C_Ext-5C-R_N-6R!H->C\">,\n",
       " 'Root_N-1R->O_N-3R->O_N-1BrCClFHINPSSi->F_N-3CClFH->F_N-3CClH->H_3CCl-u1_1CClH->C_Ext-1C-R_1C-u0_Sp-4R!H-1C_4R!H->F_Ext-3CCl-R_N-5R!H->C_Sp-5BrBrCClClClFFIINNOOPPSSSiSi=3BrBrCCClClClClFFIINNOOPPSSSiSi_Ext-3CCl-R': <Entry index=350 label=\"Root_N-1R->O_N-3R->O_N-1BrCClFHINPSSi->F_N-3CClFH->F_N-3CClH->H_3CCl-u1_1CClH->C_Ext-1C-R_1C-u0_Sp-4R!H-1C_4R!H->F_Ext-3CCl-R_N-5R!H->C_Sp-5BrBrCClClClFFIINNOOPPSSSiSi=3BrBrCCClClClClFFIINNOOPPSSSiSi_Ext-3CCl-R\">,\n",
       " 'Root_N-1R->O_N-3R->O_N-1BrCClFHINPSSi->F_N-3CClFH->F_N-3CClH->H_3CCl-u1_1CClH->C_Ext-1C-R_1C-u0_Sp-4R!H-1C_4R!H->F_Ext-3CCl-R_N-5R!H->C_N-Sp-5BrBrCClClClFFIINNOOPPSSSiSi=3BrBrCCClClClClFFIINNOOPPSSSiSi_Ext-3CCl-R': <Entry index=351 label=\"Root_N-1R->O_N-3R->O_N-1BrCClFHINPSSi->F_N-3CClFH->F_N-3CClH->H_3CCl-u1_1CClH->C_Ext-1C-R_1C-u0_Sp-4R!H-1C_4R!H->F_Ext-3CCl-R_N-5R!H->C_N-Sp-5BrBrCClClClFFIINNOOPPSSSiSi=3BrBrCCClClClClFFIINNOOPPSSSiSi_Ext-3CCl-R\">,\n",
       " 'Root_N-1R->O_N-3R->O_N-1BrCClFHINPSSi->F_N-3CClFH->F_N-3CClH->H_3CCl-u1_1CClH->C_Ext-1C-R_1C-u0_Sp-4R!H-1C_N-4R!H->F_Ext-3CCl-R_4CO->C_5R!H->F_Ext-4C-R': <Entry index=352 label=\"Root_N-1R->O_N-3R->O_N-1BrCClFHINPSSi->F_N-3CClFH->F_N-3CClH->H_3CCl-u1_1CClH->C_Ext-1C-R_1C-u0_Sp-4R!H-1C_N-4R!H->F_Ext-3CCl-R_4CO->C_5R!H->F_Ext-4C-R\">,\n",
       " 'Root_N-1R->O_N-3R->O_N-1BrCClFHINPSSi->F_N-3CClFH->F_N-3CClH->H_3CCl-u1_1CClH->C_Ext-1C-R_1C-u0_Sp-4R!H-1C_N-4R!H->F_Ext-3CCl-R_N-4CO->C_Ext-3CCl-R_5R!H->C': <Entry index=353 label=\"Root_N-1R->O_N-3R->O_N-1BrCClFHINPSSi->F_N-3CClFH->F_N-3CClH->H_3CCl-u1_1CClH->C_Ext-1C-R_1C-u0_Sp-4R!H-1C_N-4R!H->F_Ext-3CCl-R_N-4CO->C_Ext-3CCl-R_5R!H->C\">,\n",
       " 'Root_N-1R->O_N-3R->O_N-1BrCClFHINPSSi->F_N-3CClFH->F_N-3CClH->H_3CCl-u1_1CClH->C_Ext-1C-R_1C-u0_Sp-4R!H-1C_N-4R!H->F_Ext-3CCl-R_N-4CO->C_Ext-3CCl-R_N-5R!H->C': <Entry index=354 label=\"Root_N-1R->O_N-3R->O_N-1BrCClFHINPSSi->F_N-3CClFH->F_N-3CClH->H_3CCl-u1_1CClH->C_Ext-1C-R_1C-u0_Sp-4R!H-1C_N-4R!H->F_Ext-3CCl-R_N-4CO->C_Ext-3CCl-R_N-5R!H->C\">,\n",
       " 'Root_N-1R->O_N-3R->O_N-1BrCClFHINPSSi->F_N-3CClFH->F_N-3CClH->H_3CCl-u1_1CClH->C_Ext-1C-R_1C-u0_Ext-1C-R_4R!H->C_Ext-4C-R_Ext-3CCl-R_N-7R!H->C_5R!H->F_N-Sp-6R!H=4C_Ext-1C-R': <Entry index=355 label=\"Root_N-1R->O_N-3R->O_N-1BrCClFHINPSSi->F_N-3CClFH->F_N-3CClH->H_3CCl-u1_1CClH->C_Ext-1C-R_1C-u0_Ext-1C-R_4R!H->C_Ext-4C-R_Ext-3CCl-R_N-7R!H->C_5R!H->F_N-Sp-6R!H=4C_Ext-1C-R\">,\n",
       " 'Root_N-1R->O_N-3R->O_N-1BrCClFHINPSSi->F_N-3CClFH->F_N-3CClH->H_3CCl-u1_1CClH->C_Ext-1C-R_1C-u0_Ext-1C-R_4R!H->C_Ext-4C-R_Ext-3CCl-R_N-7R!H->C_5R!H->F_N-Sp-6R!H=4C_6R!H->F': <Entry index=356 label=\"Root_N-1R->O_N-3R->O_N-1BrCClFHINPSSi->F_N-3CClFH->F_N-3CClH->H_3CCl-u1_1CClH->C_Ext-1C-R_1C-u0_Ext-1C-R_4R!H->C_Ext-4C-R_Ext-3CCl-R_N-7R!H->C_5R!H->F_N-Sp-6R!H=4C_6R!H->F\">,\n",
       " 'Root_N-1R->O_N-3R->O_N-1BrCClFHINPSSi->F_N-3CClFH->F_N-3CClH->H_3CCl-u1_1CClH->C_Ext-1C-R_1C-u0_Ext-1C-R_4R!H->C_Ext-4C-R_Ext-3CCl-R_N-7R!H->C_5R!H->F_N-Sp-6R!H=4C_N-6R!H->F': <Entry index=357 label=\"Root_N-1R->O_N-3R->O_N-1BrCClFHINPSSi->F_N-3CClFH->F_N-3CClH->H_3CCl-u1_1CClH->C_Ext-1C-R_1C-u0_Ext-1C-R_4R!H->C_Ext-4C-R_Ext-3CCl-R_N-7R!H->C_5R!H->F_N-Sp-6R!H=4C_N-6R!H->F\">,\n",
       " 'Root_N-1R->O_N-3R->O_N-1BrCClFHINPSSi->F_N-3CClFH->F_N-3CClH->H_3CCl-u1_1CClH->C_Ext-1C-R_1C-u0_Ext-1C-R_N-4R!H->C_N-4FO->O_Ext-3CCl-R_N-6R!H->O_6BrCClFINPSSi->C_Ext-6C-R_7R!H->C': <Entry index=358 label=\"Root_N-1R->O_N-3R->O_N-1BrCClFHINPSSi->F_N-3CClFH->F_N-3CClH->H_3CCl-u1_1CClH->C_Ext-1C-R_1C-u0_Ext-1C-R_N-4R!H->C_N-4FO->O_Ext-3CCl-R_N-6R!H->O_6BrCClFINPSSi->C_Ext-6C-R_7R!H->C\">,\n",
       " 'Root_N-1R->O_N-3R->O_N-1BrCClFHINPSSi->F_N-3CClFH->F_N-3CClH->H_3CCl-u1_1CClH->C_Ext-1C-R_1C-u0_Ext-1C-R_N-4R!H->C_N-4FO->O_Ext-3CCl-R_N-6R!H->O_6BrCClFINPSSi->C_Ext-6C-R_N-7R!H->C': <Entry index=359 label=\"Root_N-1R->O_N-3R->O_N-1BrCClFHINPSSi->F_N-3CClFH->F_N-3CClH->H_3CCl-u1_1CClH->C_Ext-1C-R_1C-u0_Ext-1C-R_N-4R!H->C_N-4FO->O_Ext-3CCl-R_N-6R!H->O_6BrCClFINPSSi->C_Ext-6C-R_N-7R!H->C\">,\n",
       " 'Root_N-1R->O_N-3R->O_N-1BrCClFHINPSSi->F_N-3CClFH->F_N-3CClH->H_3CCl-u1_1CClH->C_Ext-1C-R_1C-u0_Ext-1C-R_N-4R!H->C_N-4FO->O_Ext-3CCl-R_N-6R!H->O_N-6BrCClFINPSSi->C_Ext-1C-R': <Entry index=360 label=\"Root_N-1R->O_N-3R->O_N-1BrCClFHINPSSi->F_N-3CClFH->F_N-3CClH->H_3CCl-u1_1CClH->C_Ext-1C-R_1C-u0_Ext-1C-R_N-4R!H->C_N-4FO->O_Ext-3CCl-R_N-6R!H->O_N-6BrCClFINPSSi->C_Ext-1C-R\">,\n",
       " 'Root_N-1R->O_N-3R->O_N-1BrCClFHINPSSi->F_N-3CClFH->F_N-3CClH->H_3CCl-u1_1CClH->C_Ext-1C-R_1C-u0_Ext-1C-R_N-4R!H->C_N-4FO->O_Ext-3CCl-R_N-6R!H->O_N-6BrCClFINPSSi->C_Ext-3CCl-R': <Entry index=361 label=\"Root_N-1R->O_N-3R->O_N-1BrCClFHINPSSi->F_N-3CClFH->F_N-3CClH->H_3CCl-u1_1CClH->C_Ext-1C-R_1C-u0_Ext-1C-R_N-4R!H->C_N-4FO->O_Ext-3CCl-R_N-6R!H->O_N-6BrCClFINPSSi->C_Ext-3CCl-R\">,\n",
       " 'Root_N-1R->O_N-3R->O_N-1BrCClFHINPSSi->F_N-3CClFH->F_N-3CClH->H_3CCl-u1_1CClH->C_Ext-1C-R_1C-u0_Sp-4R!H-1C_4R!H->F_Ext-3CCl-R_N-5R!H->C_N-Sp-5BrBrCClClClFFIINNOOPPSSSiSi=3BrBrCCClClClClFFIINNOOPPSSSiSi_Ext-3CCl-R_Ext-3CCl-R': <Entry index=362 label=\"Root_N-1R->O_N-3R->O_N-1BrCClFHINPSSi->F_N-3CClFH->F_N-3CClH->H_3CCl-u1_1CClH->C_Ext-1C-R_1C-u0_Sp-4R!H-1C_4R!H->F_Ext-3CCl-R_N-5R!H->C_N-Sp-5BrBrCClClClFFIINNOOPPSSSiSi=3BrBrCCClClClClFFIINNOOPPSSSiSi_Ext-3CCl-R_Ext-3CCl-R\">,\n",
       " 'Root_N-1R->O_N-3R->O_N-1BrCClFHINPSSi->F_N-3CClFH->F_N-3CClH->H_3CCl-u1_1CClH->C_Ext-1C-R_1C-u0_Sp-4R!H-1C_N-4R!H->F_Ext-3CCl-R_4CO->C_5R!H->F_Ext-4C-R_6R!H->C': <Entry index=363 label=\"Root_N-1R->O_N-3R->O_N-1BrCClFHINPSSi->F_N-3CClFH->F_N-3CClH->H_3CCl-u1_1CClH->C_Ext-1C-R_1C-u0_Sp-4R!H-1C_N-4R!H->F_Ext-3CCl-R_4CO->C_5R!H->F_Ext-4C-R_6R!H->C\">,\n",
       " 'Root_N-1R->O_N-3R->O_N-1BrCClFHINPSSi->F_N-3CClFH->F_N-3CClH->H_3CCl-u1_1CClH->C_Ext-1C-R_1C-u0_Sp-4R!H-1C_N-4R!H->F_Ext-3CCl-R_4CO->C_5R!H->F_Ext-4C-R_N-6R!H->C': <Entry index=364 label=\"Root_N-1R->O_N-3R->O_N-1BrCClFHINPSSi->F_N-3CClFH->F_N-3CClH->H_3CCl-u1_1CClH->C_Ext-1C-R_1C-u0_Sp-4R!H-1C_N-4R!H->F_Ext-3CCl-R_4CO->C_5R!H->F_Ext-4C-R_N-6R!H->C\">,\n",
       " 'Root_N-1R->O_N-3R->O_N-1BrCClFHINPSSi->F_N-3CClFH->F_N-3CClH->H_3CCl-u1_1CClH->C_Ext-1C-R_1C-u0_Ext-1C-R_N-4R!H->C_N-4FO->O_Ext-3CCl-R_N-6R!H->O_N-6BrCClFINPSSi->C_Ext-1C-R_Ext-3CCl-R': <Entry index=365 label=\"Root_N-1R->O_N-3R->O_N-1BrCClFHINPSSi->F_N-3CClFH->F_N-3CClH->H_3CCl-u1_1CClH->C_Ext-1C-R_1C-u0_Ext-1C-R_N-4R!H->C_N-4FO->O_Ext-3CCl-R_N-6R!H->O_N-6BrCClFINPSSi->C_Ext-1C-R_Ext-3CCl-R\">}"
      ]
     },
     "execution_count": 10,
     "metadata": {},
     "output_type": "execute_result"
    }
   ],
   "source": [
    "family.groups.entries"
   ]
  },
  {
   "cell_type": "code",
   "execution_count": 11,
   "metadata": {},
   "outputs": [
    {
     "name": "stdout",
     "output_type": "stream",
     "text": [
      "0.17127060890197754\n"
     ]
    }
   ],
   "source": [
    "start = time.time()\n",
    "family.check_tree()\n",
    "end = time.time()\n",
    "print(end-start)"
   ]
  },
  {
   "cell_type": "code",
   "execution_count": 12,
   "metadata": {},
   "outputs": [
    {
     "name": "stdout",
     "output_type": "stream",
     "text": [
      "1.1211936473846436\n"
     ]
    }
   ],
   "source": [
    "start = time.time()\n",
    "family.regularize(thermo_database=database.thermo)\n",
    "end = time.time()\n",
    "print(end-start)"
   ]
  },
  {
   "cell_type": "code",
   "execution_count": 13,
   "metadata": {},
   "outputs": [
    {
     "name": "stdout",
     "output_type": "stream",
     "text": [
      "0.9733355045318604\n"
     ]
    }
   ],
   "source": [
    "start = time.time()\n",
    "templateRxnMap = family.get_reaction_matches(thermo_database=database.thermo,remove_degeneracy=True,\n",
    "                                             get_reverse=True,exact_matches_only=False,fix_labels=True)\n",
    "end = time.time()\n",
    "print(end-start)"
   ]
  },
  {
   "cell_type": "code",
   "execution_count": 14,
   "metadata": {},
   "outputs": [
    {
     "data": {
      "text/plain": [
       "366"
      ]
     },
     "execution_count": 14,
     "metadata": {},
     "output_type": "execute_result"
    }
   ],
   "source": [
    "len(templateRxnMap)"
   ]
  },
  {
   "cell_type": "code",
   "execution_count": 15,
   "metadata": {},
   "outputs": [],
   "source": [
    "family.clean_tree_rules()"
   ]
  },
  {
   "cell_type": "code",
   "execution_count": 16,
   "metadata": {},
   "outputs": [
    {
     "name": "stderr",
     "output_type": "stream",
     "text": [
      "/home/khalil.nor/Code/RMG-Py/rmgpy/data/kinetics/family.py:3617: VisibleDeprecationWarning: Creating an ndarray from ragged nested sequences (which is a list-or-tuple of lists-or-tuples-or ndarrays with different lengths or shapes) is deprecated. If you meant to do this, you must specify 'dtype=object' when creating the ndarray.\n",
      "  for rxns, label in rxnlists])\n",
      "/work/westgroup/nora/miniconda/envs/rmg_env/lib/python3.7/site-packages/scipy/optimize/minpack.py:834: OptimizeWarning: Covariance of the parameters could not be estimated\n",
      "  category=OptimizeWarning)\n"
     ]
    },
    {
     "name": "stdout",
     "output_type": "stream",
     "text": [
      "41.019097089767456\n"
     ]
    }
   ],
   "source": [
    "start = time.time()\n",
    "family.make_bm_rules_from_template_rxn_map(templateRxnMap)#,nprocs=6)\n",
    "end = time.time()\n",
    "print(end-start)"
   ]
  },
  {
   "cell_type": "code",
   "execution_count": 18,
   "metadata": {},
   "outputs": [
    {
     "name": "stdout",
     "output_type": "stream",
     "text": [
      "0.17059063911437988\n"
     ]
    }
   ],
   "source": [
    "start = time.time()\n",
    "family.check_tree()\n",
    "end = time.time()\n",
    "print(end-start)"
   ]
  },
  {
   "cell_type": "code",
   "execution_count": null,
   "metadata": {},
   "outputs": [],
   "source": [
    "start = time.time()\n",
    "errors,uncertainties = family.cross_validate(iters=0,random_state=5,folds=0,ascend=False)\n",
    "end = time.time()\n",
    "print(end-start)"
   ]
  },
  {
   "cell_type": "code",
   "execution_count": null,
   "metadata": {},
   "outputs": [],
   "source": [
    "errors.values()"
   ]
  },
  {
   "cell_type": "code",
   "execution_count": null,
   "metadata": {},
   "outputs": [],
   "source": [
    "plt.figure(figsize=(10,8))\n",
    "plt.hist(np.abs(list(errors.values())),bins=30, density=True)\n",
    "plt.title('Decision Tree Estimator',fontsize=18)\n",
    "#plt.ylim(0,.4)\n",
    "plt.xlim(0,15)\n",
    "plt.ylabel('Probability density',fontsize=18)\n",
    "plt.xlabel(r'$|Ln(k_{est}/k_{rxn})|$',fontsize=18)"
   ]
  },
  {
   "cell_type": "code",
   "execution_count": null,
   "metadata": {},
   "outputs": [],
   "source": [
    "#family.save('/Users/mattjohnson/RMGCODE/RMG-database/input/kinetics/families/')"
   ]
  },
  {
   "cell_type": "code",
   "execution_count": 19,
   "metadata": {},
   "outputs": [
    {
     "name": "stdout",
     "output_type": "stream",
     "text": [
      "/home/khalil.nor/Code/RMG-database/input/kinetics/families/F_Abstraction\n"
     ]
    }
   ],
   "source": [
    "save_path = os.path.join(settings['database.directory'], 'kinetics', 'families', family.name)\n",
    "print(save_path)"
   ]
  },
  {
   "cell_type": "code",
   "execution_count": 20,
   "metadata": {},
   "outputs": [],
   "source": [
    "family.save(save_path)"
   ]
  },
  {
   "cell_type": "code",
   "execution_count": null,
   "metadata": {},
   "outputs": [],
   "source": []
  },
  {
   "cell_type": "code",
   "execution_count": null,
   "metadata": {},
   "outputs": [],
   "source": []
  }
 ],
 "metadata": {
  "@webio": {
   "lastCommId": null,
   "lastKernelId": null
  },
  "kernelspec": {
   "display_name": "rmg_env",
   "language": "python",
   "name": "rmg_env"
  },
  "language_info": {
   "codemirror_mode": {
    "name": "ipython",
    "version": 3
   },
   "file_extension": ".py",
   "mimetype": "text/x-python",
   "name": "python",
   "nbconvert_exporter": "python",
   "pygments_lexer": "ipython3",
   "version": "3.7.16"
  }
 },
 "nbformat": 4,
 "nbformat_minor": 4
}
