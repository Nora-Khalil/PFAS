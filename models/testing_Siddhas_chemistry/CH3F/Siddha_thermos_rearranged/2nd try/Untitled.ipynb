{
 "cells": [
  {
   "cell_type": "code",
   "execution_count": 8,
   "id": "b3ee7b91-d105-404d-a0c4-2cb00511420a",
   "metadata": {},
   "outputs": [],
   "source": [
    "from rmgpy.species import Species\n",
    "from rmgpy.molecule.atomtype import get_atomtype"
   ]
  },
  {
   "cell_type": "code",
   "execution_count": 14,
   "id": "6a52e7c7-306a-4b70-9e3d-054503be85f1",
   "metadata": {},
   "outputs": [],
   "source": [
    "spec=Species()"
   ]
  },
  {
   "cell_type": "code",
   "execution_count": 15,
   "id": "b028e088-6d7d-4333-bd38-93551ffda08a",
   "metadata": {},
   "outputs": [
    {
     "name": "stderr",
     "output_type": "stream",
     "text": [
      "ERROR:root:Could not update atomtypes for this molecule:\n",
      "1 *3 O u0 p2 c0 {2,D}\n",
      "2 *2 C u0 p0 c0 {1,D} {6,D}\n",
      "3    F u0 p3 c0 {6,S}\n",
      "4    O u0 p1 c+1 {5,D} {6,S}\n",
      "5    O u0 p2 c0 {4,D}\n",
      "6 *1 C u0 p0 c-1 {2,D} {3,S} {4,S} {7,S}\n",
      "7    H u0 p0 c0 {6,S}\n",
      "\n"
     ]
    },
    {
     "ename": "AtomTypeError",
     "evalue": "Unable to determine atom type for atom C-, which has 3 single bonds, 1 double bonds (0 to O, 0 to S, 1 others), 0 triple bonds, 0 quadruple bonds, 0 benzene bonds, 0 lone pairs, and -1 charge.",
     "output_type": "error",
     "traceback": [
      "\u001b[0;31m---------------------------------------------------------------------------\u001b[0m",
      "\u001b[0;31mAtomTypeError\u001b[0m                             Traceback (most recent call last)",
      "\u001b[0;32m/tmp/ipykernel_15056/229140075.py\u001b[0m in \u001b[0;36m<module>\u001b[0;34m\u001b[0m\n\u001b[1;32m      8\u001b[0m \u001b[0;36m6\u001b[0m \u001b[0;34m*\u001b[0m\u001b[0;36m1\u001b[0m \u001b[0mC\u001b[0m \u001b[0mu0\u001b[0m \u001b[0mp0\u001b[0m \u001b[0mc\u001b[0m\u001b[0;34m-\u001b[0m\u001b[0;36m1\u001b[0m \u001b[0;34m{\u001b[0m\u001b[0;36m2\u001b[0m\u001b[0;34m,\u001b[0m\u001b[0mD\u001b[0m\u001b[0;34m}\u001b[0m \u001b[0;34m{\u001b[0m\u001b[0;36m3\u001b[0m\u001b[0;34m,\u001b[0m\u001b[0mS\u001b[0m\u001b[0;34m}\u001b[0m \u001b[0;34m{\u001b[0m\u001b[0;36m4\u001b[0m\u001b[0;34m,\u001b[0m\u001b[0mS\u001b[0m\u001b[0;34m}\u001b[0m \u001b[0;34m{\u001b[0m\u001b[0;36m7\u001b[0m\u001b[0;34m,\u001b[0m\u001b[0mS\u001b[0m\u001b[0;34m}\u001b[0m\u001b[0;34m\u001b[0m\u001b[0;34m\u001b[0m\u001b[0m\n\u001b[1;32m      9\u001b[0m \u001b[0;36m7\u001b[0m    \u001b[0mH\u001b[0m \u001b[0mu0\u001b[0m \u001b[0mp0\u001b[0m \u001b[0mc0\u001b[0m \u001b[0;34m{\u001b[0m\u001b[0;36m6\u001b[0m\u001b[0;34m,\u001b[0m\u001b[0mS\u001b[0m\u001b[0;34m}\u001b[0m\u001b[0;34m\u001b[0m\u001b[0;34m\u001b[0m\u001b[0m\n\u001b[0;32m---> 10\u001b[0;31m \"\"\"\n\u001b[0m\u001b[1;32m     11\u001b[0m )\n",
      "\u001b[0;32m~/Code/RMG-Py/rmgpy/species.cpython-37m-x86_64-linux-gnu.so\u001b[0m in \u001b[0;36mrmgpy.species.Species.from_adjacency_list\u001b[0;34m()\u001b[0m\n",
      "\u001b[0;32m~/Code/RMG-Py/rmgpy/species.cpython-37m-x86_64-linux-gnu.so\u001b[0m in \u001b[0;36mrmgpy.species.Species.from_adjacency_list\u001b[0;34m()\u001b[0m\n",
      "\u001b[0;32m~/Code/RMG-Py/rmgpy/molecule/molecule.cpython-37m-x86_64-linux-gnu.so\u001b[0m in \u001b[0;36mrmgpy.molecule.molecule.Molecule.from_adjacency_list\u001b[0;34m()\u001b[0m\n",
      "\u001b[0;32m~/Code/RMG-Py/rmgpy/molecule/molecule.cpython-37m-x86_64-linux-gnu.so\u001b[0m in \u001b[0;36mrmgpy.molecule.molecule.Molecule.update_atomtypes\u001b[0;34m()\u001b[0m\n",
      "\u001b[0;32m~/Code/RMG-Py/rmgpy/molecule/molecule.cpython-37m-x86_64-linux-gnu.so\u001b[0m in \u001b[0;36mrmgpy.molecule.molecule.Molecule.update_atomtypes\u001b[0;34m()\u001b[0m\n",
      "\u001b[0;32m~/Code/RMG-Py/rmgpy/molecule/molecule.cpython-37m-x86_64-linux-gnu.so\u001b[0m in \u001b[0;36mrmgpy.molecule.molecule.Molecule.update_atomtypes\u001b[0;34m()\u001b[0m\n",
      "\u001b[0;32m~/Code/RMG-Py/rmgpy/molecule/atomtype.cpython-37m-x86_64-linux-gnu.so\u001b[0m in \u001b[0;36mrmgpy.molecule.atomtype.get_atomtype\u001b[0;34m()\u001b[0m\n",
      "\u001b[0;32m~/Code/RMG-Py/rmgpy/molecule/atomtype.cpython-37m-x86_64-linux-gnu.so\u001b[0m in \u001b[0;36mrmgpy.molecule.atomtype.get_atomtype\u001b[0;34m()\u001b[0m\n",
      "\u001b[0;31mAtomTypeError\u001b[0m: Unable to determine atom type for atom C-, which has 3 single bonds, 1 double bonds (0 to O, 0 to S, 1 others), 0 triple bonds, 0 quadruple bonds, 0 benzene bonds, 0 lone pairs, and -1 charge."
     ]
    }
   ],
   "source": [
    "spec.from_adjacency_list(\n",
    "\"\"\"\n",
    "1 *3 O u0 p2 c0 {2,D}\n",
    "2 *2 C u0 p0 c0 {1,D} {6,D}\n",
    "3    F u0 p3 c0 {6,S}\n",
    "4    O u0 p1 c+1 {5,D} {6,S}\n",
    "5    O u0 p2 c0 {4,D}\n",
    "6 *1 C u0 p0 c-1 {2,D} {3,S} {4,S} {7,S}\n",
    "7    H u0 p0 c0 {6,S}\n",
    "\"\"\"\n",
    ")\n"
   ]
  },
  {
   "cell_type": "code",
   "execution_count": 12,
   "id": "ee3bbc35-3edb-44e2-ad7e-dec7a40e5e74",
   "metadata": {},
   "outputs": [],
   "source": [
    "for atom in spec.molecule[0].atoms: \n",
    "    get_atomtype(atom, atom.edges)"
   ]
  },
  {
   "cell_type": "code",
   "execution_count": 13,
   "id": "2cba06e3-a705-4233-9880-2f4b630edc61",
   "metadata": {},
   "outputs": [
    {
     "data": {
      "text/plain": [
       "['__class__',\n",
       " '__delattr__',\n",
       " '__dir__',\n",
       " '__doc__',\n",
       " '__eq__',\n",
       " '__format__',\n",
       " '__ge__',\n",
       " '__getattribute__',\n",
       " '__gt__',\n",
       " '__hash__',\n",
       " '__init__',\n",
       " '__init_subclass__',\n",
       " '__le__',\n",
       " '__lt__',\n",
       " '__ne__',\n",
       " '__new__',\n",
       " '__pyx_vtable__',\n",
       " '__reduce__',\n",
       " '__reduce_ex__',\n",
       " '__repr__',\n",
       " '__setattr__',\n",
       " '__sizeof__',\n",
       " '__str__',\n",
       " '__subclasshook__',\n",
       " '_molecular_weight',\n",
       " '_repr_png_',\n",
       " 'aug_inchi',\n",
       " 'calculate_cp0',\n",
       " 'calculate_cpinf',\n",
       " 'conformer',\n",
       " 'contains_surface_site',\n",
       " 'copy',\n",
       " 'creation_iteration',\n",
       " 'energy_transfer_model',\n",
       " 'explicitly_allowed',\n",
       " 'fingerprint',\n",
       " 'from_adjacency_list',\n",
       " 'from_smiles',\n",
       " 'generate_aug_inchi',\n",
       " 'generate_energy_transfer_model',\n",
       " 'generate_resonance_structures',\n",
       " 'generate_statmech',\n",
       " 'generate_transport_data',\n",
       " 'get_augmented_inchi',\n",
       " 'get_density_of_states',\n",
       " 'get_enthalpy',\n",
       " 'get_entropy',\n",
       " 'get_free_energy',\n",
       " 'get_heat_capacity',\n",
       " 'get_henry_law_constant_data',\n",
       " 'get_liquid_volumetric_mass_transfer_coefficient_data',\n",
       " 'get_partition_function',\n",
       " 'get_resonance_hybrid',\n",
       " 'get_sum_of_states',\n",
       " 'get_symmetry_number',\n",
       " 'get_thermo_data',\n",
       " 'get_transport_data',\n",
       " 'has_reactive_molecule',\n",
       " 'has_statmech',\n",
       " 'has_thermo',\n",
       " 'henry_law_constant_data',\n",
       " 'inchi',\n",
       " 'index',\n",
       " 'is_identical',\n",
       " 'is_isomorphic',\n",
       " 'is_solvent',\n",
       " 'is_structure_in_list',\n",
       " 'is_surface_site',\n",
       " 'label',\n",
       " 'liquid_volumetric_mass_transfer_coefficient_data',\n",
       " 'molecular_weight',\n",
       " 'molecule',\n",
       " 'multiplicity',\n",
       " 'props',\n",
       " 'reactive',\n",
       " 'set_e0_with_thermo',\n",
       " 'set_structure',\n",
       " 'smiles',\n",
       " 'sorting_key',\n",
       " 'symmetry_number',\n",
       " 'thermo',\n",
       " 'to_adjacency_list',\n",
       " 'to_cantera',\n",
       " 'to_chemkin',\n",
       " 'transport_data']"
      ]
     },
     "execution_count": 13,
     "metadata": {},
     "output_type": "execute_result"
    }
   ],
   "source": [
    "dir(spec)"
   ]
  },
  {
   "cell_type": "code",
   "execution_count": null,
   "id": "dcf5d28a-0600-437c-a4db-a579f9d89cd8",
   "metadata": {},
   "outputs": [],
   "source": []
  }
 ],
 "metadata": {
  "kernelspec": {
   "display_name": "Python 3 (ipykernel)",
   "language": "python",
   "name": "python3"
  },
  "language_info": {
   "codemirror_mode": {
    "name": "ipython",
    "version": 3
   },
   "file_extension": ".py",
   "mimetype": "text/x-python",
   "name": "python",
   "nbconvert_exporter": "python",
   "pygments_lexer": "ipython3",
   "version": "3.7.16"
  }
 },
 "nbformat": 4,
 "nbformat_minor": 5
}
