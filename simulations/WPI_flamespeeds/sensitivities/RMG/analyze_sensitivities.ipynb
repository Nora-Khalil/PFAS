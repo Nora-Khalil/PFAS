{
 "cells": [
  {
   "cell_type": "code",
   "execution_count": 3,
   "id": "692c52e6-459b-4b0e-b969-e8b3c392628d",
   "metadata": {},
   "outputs": [],
   "source": [
    "import cantera as ct\n",
    "import os\n",
    "import re\n",
    "import pandas as pd"
   ]
  },
  {
   "cell_type": "code",
   "execution_count": 2,
   "id": "29ba0c9b-6559-45e7-8953-3ceff34fff98",
   "metadata": {},
   "outputs": [],
   "source": [
    "#full path\n",
    "full_path = '/work/westgroup/nora/Code/'\n",
    "\n",
    "#RMG C3H8_CH2F2 model \n",
    "yaml = full_path+'projects/PFAS/simulations/WPI_flamespeeds/models/RMG/with_franklins_edits/chemkin/copy_chem0103.cti'\n",
    "gas=ct.Solution(yaml)\n",
    "\n",
    "#rxn dictionary\n",
    "rxn_dictionary = {}\n",
    "for index, rxn in enumerate(gas.reactions()):\n",
    "    rxn_dictionary[index] = str(rxn)"
   ]
  },
  {
   "cell_type": "code",
   "execution_count": 12,
   "id": "ad510594-6f47-4076-9ee3-8afbdb67dbc3",
   "metadata": {},
   "outputs": [
    {
     "name": "stdout",
     "output_type": "stream",
     "text": [
      "-0.4533882401537003      CHF2(24) + O2(3) <=> CHF2OO(25)\n",
      "-0.1596250065805327      CHF(689) + HF(687) + M <=> CH2F2(1) + M\n",
      "-0.159403472189068      OO[C](F)F(1046) <=> CHF2OO(25)\n",
      "0.1197133058490684      CHF2(24) + OH(7) <=> CHFO(695) + HF(687)\n",
      "0.1139081066678761      2 CHF2(24) <=> FC(F)C(F)F(1007)\n",
      "-0.0985833425035222      CH2F2(1) + OH(7) <=> CHF2(24) + H2O(4)\n",
      "0.0514312116339066      CH2F2(1) + H(5) <=> CHF2(24) + H2(8)\n",
      "0.0482885362250525      2 CHF2(24) <=> CHFCF2(702) + HF(687)\n",
      "-0.0412879321995679      CF2(691) + O2(3) <=> CF2O(26) + O(6)\n",
      "-0.0331530152881018      CH2F2(1) + CH3(13) <=> CH4(21) + CHF2(24)\n"
     ]
    }
   ],
   "source": [
    "df_1292 = pd.read_csv('./perturbed_ign_delays/sorted_sens_1292_4_with_reactions.csv')\n",
    "\n",
    "for index, row in df_1292.head(20).iterrows():\n",
    "    rxn = row['reaction']\n",
    "    if 'F' in rxn:\n",
    "        #print(f\"{index}    {row['reaction_index']}   {row['sens']}   {rxn}    {row['tau_i']}   {row['perturbed_tau']}\")\n",
    "        #print(f\"{row['sens']}      {rxn}\")"
   ]
  },
  {
   "cell_type": "code",
   "execution_count": 15,
   "id": "163f2e08-6114-4dcb-a85a-0c67d2d955da",
   "metadata": {},
   "outputs": [
    {
     "name": "stdout",
     "output_type": "stream",
     "text": [
      "1    286.0   -0.3286236444283411   CHF2(24) + O2(3) <=> CHF2OO(25)    1.1610618662942227   1.157246342475139\n",
      "2    338.0   -0.219878009761486   CHF(689) + HF(687) + M <=> CH2F2(1) + M    1.1610618662942227   1.1585089465705154\n",
      "3    210.0   0.1361808631619938   CH2F2(1) + H(5) <=> CHF2(24) + H2(8)    1.1610618662942227   1.162643010365587\n",
      "4    518.0   0.1216448488055641   CHF2(24) + OH(7) <=> CHFO(695) + HF(687)    1.1610618662942227   1.1624742382460154\n",
      "5    403.0   0.0946448552001294   2 CHF2(24) <=> FC(F)C(F)F(1007)    1.1610618662942227   1.1621607516163608\n",
      "7    532.0   0.0676285430029499   2 CHF2(24) <=> CHFCF2(702) + HF(687)    1.1610618662942227   1.1618470755177603\n",
      "8    510.0   -0.0655678181062772   OO[C](F)F(1046) <=> CHF2OO(25)    1.1610618662942227   1.1603005833616296\n",
      "12    626.0   0.0442488517671782   2 CHF2(24) <=> F[C]C(F)F(1113) + HF(687)    1.1610618662942227   1.1615756228383645\n",
      "13    221.0   0.0332178155869673   CHF2(24) + HCO(14) <=> CH2F2(1) + CO(22)    1.1610618662942227   1.161447545683819\n"
     ]
    }
   ],
   "source": [
    "df_1467 = pd.read_csv('./perturbed_ign_delays/sorted_sens_1467_4_with_reactions.csv')\n",
    "\n",
    "for index, row in df_1467.head(20).iterrows():\n",
    "    rxn = row['reaction']\n",
    "    if 'F' in rxn:\n",
    "        print(f\"{index}    {row['reaction_index']}   {row['sens']}   {rxn}    {row['tau_i']}   {row['perturbed_tau']}\")\n",
    "        #print(f\"{index}    {row['reaction_index']}\")"
   ]
  },
  {
   "cell_type": "code",
   "execution_count": 18,
   "id": "c6676b51-426c-4ae3-947c-9a6aa64166c3",
   "metadata": {},
   "outputs": [
    {
     "name": "stdout",
     "output_type": "stream",
     "text": [
      "-0.5020762830390185   CHF(689) + HF(687) + M <=> CH2F2(1) + M\n",
      "0.191697888797825   CH2F2(1) + H(5) <=> CHF2(24) + H2(8)\n",
      "-0.0862669334346269   CHF2(24) + O2(3) <=> CHF2OO(25)\n",
      "0.0319755266210019   CH2F2(1) + OH(7) <=> CHF2(24) + H2O(4)\n",
      "-0.0256534821988641   CF2(691) + O2(3) <=> CF2O(26) + O(6)\n",
      "-0.0216699353845202   CHF(689) + O2(3) <=> CFO2(1293) + H(5)\n",
      "-0.0214073272211459   OO[C](F)F(1046) <=> CHF2OO(25)\n",
      "0.0196543102874892   2 CHF2(24) <=> F[C]C(F)F(1113) + HF(687)\n"
     ]
    }
   ],
   "source": [
    "df_1818 = pd.read_csv('./perturbed_ign_delays/sorted_sens_1818_4_with_reactions.csv')\n",
    "\n",
    "for index, row in df_1818.head(20).iterrows():\n",
    "    rxn = row['reaction']\n",
    "    if 'F' in rxn:\n",
    "        #print(f\"{index}    {row['reaction_index']}   {row['sens']}   {rxn}    {row['tau_i']}   {row['perturbed_tau']}\")\n",
    "        print(f\"{row['sens']}   {rxn}\")"
   ]
  }
 ],
 "metadata": {
  "kernelspec": {
   "display_name": "cantera_env",
   "language": "python",
   "name": "cantera_env"
  },
  "language_info": {
   "codemirror_mode": {
    "name": "ipython",
    "version": 3
   },
   "file_extension": ".py",
   "mimetype": "text/x-python",
   "name": "python",
   "nbconvert_exporter": "python",
   "pygments_lexer": "ipython3",
   "version": "3.9.7"
  }
 },
 "nbformat": 4,
 "nbformat_minor": 5
}
