{
 "cells": [
  {
   "cell_type": "code",
   "execution_count": 1,
   "metadata": {
    "scrolled": true
   },
   "outputs": [],
   "source": [
    "import rmgpy\n",
    "import numpy as np\n",
    "from rmgpy.molecule.molecule import *\n",
    "from rmgpy.species import *\n",
    "from rmgpy.chemkin import *\n",
    "from rmgpy.data.rmg import RMGDatabase\n",
    "from IPython.display import display\n",
    "from rmgpy.data.thermo import ThermoLibrary\n",
    "from rmgpy.rmg.react import react\n",
    "from rmgpy.species import Species\n",
    "from rmgpy.reaction import Reaction\n",
    "from rmgpy.data.rmg import get_db\n",
    "from rmgpy.molecule.group import Group\n",
    "from rmgpy.kinetics.arrhenius import ArrheniusBM\n",
    "from rmgpy import settings\n",
    "import time\n",
    "import matplotlib.pyplot as plt\n",
    "import matplotlib"
   ]
  },
  {
   "cell_type": "code",
   "execution_count": 2,
   "metadata": {},
   "outputs": [
    {
     "data": {
      "text/plain": [
       "{'database.directory': '/home/khalil.nor/Code/RMG-database/input',\n",
       " 'test_data.directory': '/home/khalil.nor/Code/RMG-Py/rmgpy/test_data'}"
      ]
     },
     "execution_count": 2,
     "metadata": {},
     "output_type": "execute_result"
    }
   ],
   "source": [
    "settings"
   ]
  },
  {
   "cell_type": "code",
   "execution_count": null,
   "metadata": {},
   "outputs": [],
   "source": [
    "#these families just had training rxns added to them \n",
    "\n",
    "#dict_keys(['1,2_Insertion_carbene', 'R_Addition_MultipleBond', 'XY_Addition_MultipleBond', 'Singlet_Carbene_Intra_Disproportionation', '1,2_Insertion_CO', '1+2_Cycloaddition', '1,3_Insertion_CO2', '1,3_sigmatropic_rearrangement'])"
   ]
  },
  {
   "cell_type": "code",
   "execution_count": 3,
   "metadata": {},
   "outputs": [],
   "source": [
    "thermo_libs = [\n",
    "'C1_C2_Fluorine', #adding Siddha's as first most trusted because this is the thermo library that Franklin used\n",
    "'NCSU_C2_C8_PFAS', #adding Westmoreland's thermo as the second most trusted\n",
    "'primaryThermoLibrary',\n",
    "'Fluorine',\n",
    "'FFCM1(-)',\n",
    "'halogens',\n",
    "'CHOF_G4',\n",
    "'CHOCl_G4',\n",
    "'CHOBr_G4',\n",
    "'CHOFCl_G4',\n",
    "'CHOFBr_G4',\n",
    "'CHOFClBr_G4',\n",
    "'DFT_QCI_thermo',\n",
    "'2-BTP_G4',\n",
    "'thermo_DFT_CCSDTF12_BAC',\n",
    "'SulfurHaynes'\n",
    "]\n",
    "\n",
    "kin_families = ['R_Recombination', '1,2_Insertion_carbene', 'F_Abstraction', 'R_Addition_MultipleBond', 'XY_Addition_MultipleBond', 'Singlet_Carbene_Intra_Disproportionation', 'Intra_R_Add_Endocyclic', 'R_Addition_COm', '1,2_Insertion_CO', '1+2_Cycloaddition', '1,3_Insertion_CO2', '1,3_sigmatropic_rearrangement']\n"
   ]
  },
  {
   "cell_type": "code",
   "execution_count": 4,
   "metadata": {
    "scrolled": true
   },
   "outputs": [
    {
     "name": "stdout",
     "output_type": "stream",
     "text": [
      "1 *1 R u0 {2,[D,T]}\n",
      "2 *2 R u0 {1,[D,T]}\n",
      "3 *3 R u0 p[1,2,3]\n",
      "\n",
      "1 *2 [H,Cs,Cd,Cb,Ct,CO,O,Sis,Sid,N,S]              u0 {2,S}\n",
      "2 *3 [H,F1s,Cl1s,Br1s,I1s,Cs,Cd,Cb,Ct,Sis,Sid,N,S] u0 {1,S}\n",
      "3 *1 C                                             u0 p1 c-1 {4,T}\n",
      "4 *4 [O,S]                                         u0 p1 c+1 {3,T}\n",
      "\n",
      "1 *1 C2s                                             u0 p1 {2,S} {3,S}\n",
      "2    [H,F1s,Cl1s,Br1s,I1s]                           u0 {1,S}\n",
      "3    [H,F1s,Cl1s,Br1s,I1s,C]                         u0 {1,S}\n",
      "4 *2 [H,F1s,Cl1s,Br1s,I1s,Cs,Cd,Cb,Ct,O,Sis,Sid,N,S] u0 {5,S}\n",
      "5 *3 [H,F1s,Cl1s,Br1s,I1s,Cs,Cd,Cb,Ct,Sis,Sid,N,S]   u0 {4,S}\n",
      "\n",
      "1 *1 Cdd       u0 {2,D} {3,D}\n",
      "2 *2 [O2d,S2d] u0 {1,D}\n",
      "3    [O2d,S2d] u0 {1,D}\n",
      "4 *3 R         u0 {5,S}\n",
      "5 *4 R         u0 {4,S}\n",
      "\n",
      "1 *2 R!H u0 {2,[S,D,T,B]} {3,[D,T,B]}\n",
      "2 *1 R!H u1 {1,[S,D,T,B]}\n",
      "3 *3 R!H u0 c0 {1,[D,T,B]}\n",
      "\n",
      "1 *4 R!H ux {2,[S,D,T,B]} {3,[S,D,T,B]}\n",
      "2 *2 R!H u0 {1,[S,D,T,B]} {4,[D,T,B]}\n",
      "3 *1 R!H u1 {1,[S,D,T,B]}\n",
      "4 *3 R!H u0 c0 {2,[D,T,B]}\n",
      "\n",
      "1 *5 R!H ux {2,[S,D,T,B]} {3,[S,D,T,B]}\n",
      "2 *4 R!H ux {1,[S,D,T,B]} {4,[S,D,T,B]}\n",
      "3 *2 R!H u0 {1,[S,D,T,B]} {5,[D,T,B]}\n",
      "4 *1 R!H u1 {2,[S,D,T,B]}\n",
      "5 *3 R!H u0 c0 {3,[D,T,B]}\n",
      "\n",
      "1 *6 R!H ux {2,[S,D,T,B]} {3,[S,D,T,B]}\n",
      "2 *5 R!H ux {1,[S,D,T,B]} {4,[S,D,T,B]}\n",
      "3 *4 R!H ux {1,[S,D,T,B]} {5,[S,D,T,B]}\n",
      "4 *2 R!H u0 {2,[S,D,T,B]} {6,[D,T,B]}\n",
      "5 *1 R!H u1 {3,[S,D,T,B]}\n",
      "6 *3 R!H u0 c0 {4,[D,T,B]}\n",
      "\n",
      "1 *7 R!H ux {2,[S,D,T,B]} {3,[S,D,T,B]}\n",
      "2 *6 R!H ux {1,[S,D,T,B]} {4,[S,D,T,B]}\n",
      "3 *5 R!H ux {1,[S,D,T,B]} {5,[S,D,T,B]}\n",
      "4 *4 R!H ux {2,[S,D,T,B]} {6,[S,D,T,B]}\n",
      "5 *2 R!H u0 {3,[S,D,T,B]} {7,[D,T,B]}\n",
      "6 *1 R!H u1 {4,[S,D,T,B]}\n",
      "7 *3 R!H u0 c0 {5,[D,T,B]}\n",
      "\n",
      "1 *7 R!H ux {2,[S,D,T,B]} {3,[S,D,T,B]}\n",
      "2 *8 R!H ux {1,[S,D,T,B]} {4,[S,D,T,B]}\n",
      "3 *6 R!H ux {1,[S,D,T,B]} {5,[S,D,T,B]}\n",
      "4 *5 R!H ux {2,[S,D,T,B]} {6,[S,D,T,B]}\n",
      "5 *4 R!H ux {3,[S,D,T,B]} {7,[S,D,T,B]}\n",
      "6 *2 R!H u0 {4,[S,D,T,B]} {8,[D,T,B]}\n",
      "7 *1 R!H u1 {5,[S,D,T,B]}\n",
      "8 *3 R!H u0 c0 {6,[D,T,B]}\n",
      "\n",
      "1 *7 R!H ux {2,[S,D,T,B]} {4,[S,D,T,B]}\n",
      "2 *8 R!H ux {1,[S,D,T,B]} {3,[S,D,T,B]}\n",
      "3 *9 R!H ux {2,[S,D,T,B]} {5,[S,D,T,B]}\n",
      "4 *6 R!H ux {1,[S,D,T,B]} {6,[S,D,T,B]}\n",
      "5 *5 R!H ux {3,[S,D,T,B]} {7,[S,D,T,B]}\n",
      "6 *4 R!H ux {4,[S,D,T,B]} {8,[S,D,T,B]}\n",
      "7 *2 R!H u0 {5,[S,D,T,B]} {9,[D,T,B]}\n",
      "8 *1 R!H u1 {6,[S,D,T,B]}\n",
      "9 *3 R!H u0 c0 {7,[D,T,B]}\n",
      "\n",
      "1  *7  R!H ux {2,[S,D,T,B]} {5,[S,D,T,B]}\n",
      "2  *8  R!H ux {1,[S,D,T,B]} {3,[S,D,T,B]}\n",
      "3  *9  R!H ux {2,[S,D,T,B]} {4,[S,D,T,B]}\n",
      "4  *10 R!H ux {3,[S,D,T,B]} {6,[S,D,T,B]}\n",
      "5  *6  R!H ux {1,[S,D,T,B]} {7,[S,D,T,B]}\n",
      "6  *5  R!H ux {4,[S,D,T,B]} {8,[S,D,T,B]}\n",
      "7  *4  R!H ux {5,[S,D,T,B]} {9,[S,D,T,B]}\n",
      "8  *2  R!H u0 {6,[S,D,T,B]} {10,[D,T,B]}\n",
      "9  *1  R!H u1 {7,[S,D,T,B]}\n",
      "10 *3  R!H u0 c0 {8,[D,T,B]}\n",
      "\n",
      "1  *7  R!H ux {2,[S,D,T,B]} {6,[S,D,T,B]}\n",
      "2  *8  R!H ux {1,[S,D,T,B]} {3,[S,D,T,B]}\n",
      "3  *9  R!H ux {2,[S,D,T,B]} {4,[S,D,T,B]}\n",
      "4  *10 R!H ux {3,[S,D,T,B]} {5,[S,D,T,B]}\n",
      "5  *11 R!H ux {4,[S,D,T,B]} {7,[S,D,T,B]}\n",
      "6  *6  R!H ux {1,[S,D,T,B]} {8,[S,D,T,B]}\n",
      "7  *5  R!H ux {5,[S,D,T,B]} {9,[S,D,T,B]}\n",
      "8  *4  R!H ux {6,[S,D,T,B]} {10,[S,D,T,B]}\n",
      "9  *2  R!H u0 {7,[S,D,T,B]} {11,[D,T,B]}\n",
      "10 *1  R!H u1 {8,[S,D,T,B]}\n",
      "11 *3  R!H u0 c0 {9,[D,T,B]}\n",
      "\n",
      "1  *7  R!H ux {2,[S,D,T,B]} {7,[S,D,T,B]}\n",
      "2  *8  R!H ux {1,[S,D,T,B]} {3,[S,D,T,B]}\n",
      "3  *9  R!H ux {2,[S,D,T,B]} {4,[S,D,T,B]}\n",
      "4  *10 R!H ux {3,[S,D,T,B]} {5,[S,D,T,B]}\n",
      "5  *11 R!H ux {4,[S,D,T,B]} {6,[S,D,T,B]}\n",
      "6  *12 R!H ux {5,[S,D,T,B]} {8,[S,D,T,B]}\n",
      "7  *6  R!H ux {1,[S,D,T,B]} {9,[S,D,T,B]}\n",
      "8  *5  R!H ux {6,[S,D,T,B]} {10,[S,D,T,B]}\n",
      "9  *4  R!H ux {7,[S,D,T,B]} {11,[S,D,T,B]}\n",
      "10 *2  R!H u0 {8,[S,D,T,B]} {12,[D,T,B]}\n",
      "11 *1  R!H u1 {9,[S,D,T,B]}\n",
      "12 *3  R!H u0 c0 {10,[D,T,B]}\n",
      "\n",
      "1  *7  R!H ux {2,[S,D,T,B]} {8,[S,D,T,B]}\n",
      "2  *8  R!H ux {1,[S,D,T,B]} {3,[S,D,T,B]}\n",
      "3  *9  R!H ux {2,[S,D,T,B]} {4,[S,D,T,B]}\n",
      "4  *10 R!H ux {3,[S,D,T,B]} {5,[S,D,T,B]}\n",
      "5  *11 R!H ux {4,[S,D,T,B]} {6,[S,D,T,B]}\n",
      "6  *12 R!H ux {5,[S,D,T,B]} {7,[S,D,T,B]}\n",
      "7  *13 R!H ux {6,[S,D,T,B]} {9,[S,D,T,B]}\n",
      "8  *6  R!H ux {1,[S,D,T,B]} {10,[S,D,T,B]}\n",
      "9  *5  R!H ux {7,[S,D,T,B]} {11,[S,D,T,B]}\n",
      "10 *4  R!H ux {8,[S,D,T,B]} {12,[S,D,T,B]}\n",
      "11 *2  R!H u0 {9,[S,D,T,B]} {13,[D,T,B]}\n",
      "12 *1  R!H u1 {10,[S,D,T,B]}\n",
      "13 *3  R!H u0 c0 {11,[D,T,B]}\n",
      "\n",
      "1 *1 C2tc u0 p1 c-1 {2,T}\n",
      "2 *3 O4tc u0 p1 c+1 {1,T}\n",
      "3 *2 R    u1\n",
      "\n",
      "1 *1 R!H u0         {2,[D,T,B]}\n",
      "2 *2 R!H u0         {1,[D,T,B]}\n",
      "3 *3 R   u[1,2,3,4]\n",
      "\n",
      "1 * R u1\n",
      "2 * R u1\n",
      "\n",
      "1 *2 C                 u0 {2,S} {3,[S,D]}\n",
      "2 *3 [H,F1s,Cl1s,Br1s] u0 {1,S}\n",
      "3 *1 C                 u0 p1 c0 {1,[S,D]}\n",
      "\n",
      "1 *3 [H,F1s,Cl1s,Br1s]  u0 {2,S}\n",
      "2 *4 [F1s,Cl1s,Br1s]    u0 {1,S}\n",
      "3 *1 [Cd,Cdd,Ct,CO,O2d] u0 {4,[D,T]}\n",
      "4 *2 [Cd,Cdd,Ct,CO,O2d] u0 {3,[D,T]}\n",
      "\n"
     ]
    }
   ],
   "source": [
    "database = RMGDatabase()\n",
    "database.load(\n",
    "            path = settings['database.directory'],\n",
    "            thermo_libraries = thermo_libs,\n",
    "            transport_libraries = [],\n",
    "            reaction_libraries = [],\n",
    "            seed_mechanisms = [],#['BurkeH2O2inN2','ERC-FoundationFuelv0.9'],\n",
    "            kinetics_families = kin_families,\n",
    "            kinetics_depositories = ['training'],\n",
    "            #frequenciesLibraries = self.statmechLibraries,\n",
    "            depository = False, # Don't bother loading the depository information, as we don't use it\n",
    "        )\n"
   ]
  },
  {
   "cell_type": "code",
   "execution_count": 5,
   "metadata": {},
   "outputs": [
    {
     "data": {
      "text/plain": [
       "{'1+2_Cycloaddition': <ReactionFamily \"1+2_Cycloaddition\">,\n",
       " '1,2_Insertion_CO': <ReactionFamily \"1,2_Insertion_CO\">,\n",
       " '1,2_Insertion_carbene': <ReactionFamily \"1,2_Insertion_carbene\">,\n",
       " '1,3_Insertion_CO2': <ReactionFamily \"1,3_Insertion_CO2\">,\n",
       " '1,3_sigmatropic_rearrangement': <ReactionFamily \"1,3_sigmatropic_rearrangement\">,\n",
       " 'F_Abstraction': <ReactionFamily \"F_Abstraction\">,\n",
       " 'Intra_R_Add_Endocyclic': <ReactionFamily \"Intra_R_Add_Endocyclic\">,\n",
       " 'R_Addition_COm': <ReactionFamily \"R_Addition_COm\">,\n",
       " 'R_Addition_MultipleBond': <ReactionFamily \"R_Addition_MultipleBond\">,\n",
       " 'R_Recombination': <ReactionFamily \"R_Recombination\">,\n",
       " 'Singlet_Carbene_Intra_Disproportionation': <ReactionFamily \"Singlet_Carbene_Intra_Disproportionation\">,\n",
       " 'XY_Addition_MultipleBond': <ReactionFamily \"XY_Addition_MultipleBond\">}"
      ]
     },
     "execution_count": 5,
     "metadata": {},
     "output_type": "execute_result"
    }
   ],
   "source": [
    "database.kinetics.families"
   ]
  },
  {
   "cell_type": "code",
   "execution_count": 6,
   "metadata": {},
   "outputs": [],
   "source": [
    "# '1+2_Cycloaddition' \n",
    "family_to_train = \"1+2_Cycloaddition\"\n",
    "family = database.kinetics.families[family_to_train]"
   ]
  },
  {
   "cell_type": "code",
   "execution_count": 7,
   "metadata": {},
   "outputs": [],
   "source": [
    "family.clean_tree()"
   ]
  },
  {
   "cell_type": "code",
   "execution_count": 8,
   "metadata": {},
   "outputs": [
    {
     "name": "stderr",
     "output_type": "stream",
     "text": [
      "ERROR:root:20.0\n"
     ]
    },
    {
     "name": "stdout",
     "output_type": "stream",
     "text": [
      "156.510822057724\n"
     ]
    }
   ],
   "source": [
    "start = time.time()\n",
    "family.generate_tree(thermo_database=database.thermo,\n",
    "                     nprocs=1,\n",
    "                     new_fraction_threshold_to_reopt_node=0.25,\n",
    "                     max_batch_size=800,\n",
    "                     extension_iter_max=2,\n",
    "                     extension_iter_item_cap=100)\n",
    "\n",
    "end = time.time()\n",
    "print(end-start)"
   ]
  },
  {
   "cell_type": "code",
   "execution_count": 9,
   "metadata": {},
   "outputs": [
    {
     "data": {
      "text/plain": [
       "29"
      ]
     },
     "execution_count": 9,
     "metadata": {},
     "output_type": "execute_result"
    }
   ],
   "source": [
    "len(family.groups.entries)"
   ]
  },
  {
   "cell_type": "code",
   "execution_count": 10,
   "metadata": {},
   "outputs": [
    {
     "data": {
      "text/plain": [
       "{'cycle': <Entry index=-1 label=\"cycle\">,\n",
       " 'Root': <Entry index=0 label=\"Root\">,\n",
       " 'Root_Ext-3R-R': <Entry index=1 label=\"Root_Ext-3R-R\">,\n",
       " 'Root_Ext-1R-R': <Entry index=2 label=\"Root_Ext-1R-R\">,\n",
       " 'Root_Ext-2R-R': <Entry index=3 label=\"Root_Ext-2R-R\">,\n",
       " 'Root_Sp-2R=1R': <Entry index=4 label=\"Root_Sp-2R=1R\">,\n",
       " 'Root_N-Sp-2R=1R': <Entry index=5 label=\"Root_N-Sp-2R=1R\">,\n",
       " 'Root_Ext-3R-R_4R!H->F': <Entry index=6 label=\"Root_Ext-3R-R_4R!H->F\">,\n",
       " 'Root_Ext-3R-R_N-4R!H->F': <Entry index=7 label=\"Root_Ext-3R-R_N-4R!H->F\">,\n",
       " 'Root_Ext-1R-R_Ext-1R-R': <Entry index=8 label=\"Root_Ext-1R-R_Ext-1R-R\">,\n",
       " 'Root_Ext-1R-R_Sp-2R=1R': <Entry index=9 label=\"Root_Ext-1R-R_Sp-2R=1R\">,\n",
       " 'Root_Ext-1R-R_N-Sp-2R=1R': <Entry index=10 label=\"Root_Ext-1R-R_N-Sp-2R=1R\">,\n",
       " 'Root_Ext-2R-R_3R->C': <Entry index=11 label=\"Root_Ext-2R-R_3R->C\">,\n",
       " 'Root_Ext-2R-R_N-3R->C': <Entry index=12 label=\"Root_Ext-2R-R_N-3R->C\">,\n",
       " 'Root_Sp-2R=1R_3R->C': <Entry index=13 label=\"Root_Sp-2R=1R_3R->C\">,\n",
       " 'Root_Sp-2R=1R_N-3R->C': <Entry index=14 label=\"Root_Sp-2R=1R_N-3R->C\">,\n",
       " 'Root_Ext-3R-R_4R!H->F_Ext-1R-R': <Entry index=15 label=\"Root_Ext-3R-R_4R!H->F_Ext-1R-R\">,\n",
       " 'Root_Ext-3R-R_4R!H->F_Ext-2R-R': <Entry index=16 label=\"Root_Ext-3R-R_4R!H->F_Ext-2R-R\">,\n",
       " 'Root_Ext-3R-R_4R!H->F_2R->C': <Entry index=17 label=\"Root_Ext-3R-R_4R!H->F_2R->C\">,\n",
       " 'Root_Ext-3R-R_4R!H->F_N-2R->C': <Entry index=18 label=\"Root_Ext-3R-R_4R!H->F_N-2R->C\">,\n",
       " 'Root_Ext-3R-R_N-4R!H->F_4BrCClINOPSSi->Br': <Entry index=19 label=\"Root_Ext-3R-R_N-4R!H->F_4BrCClINOPSSi->Br\">,\n",
       " 'Root_Ext-3R-R_N-4R!H->F_N-4BrCClINOPSSi->Br': <Entry index=20 label=\"Root_Ext-3R-R_N-4R!H->F_N-4BrCClINOPSSi->Br\">,\n",
       " 'Root_Ext-1R-R_Sp-2R=1R_Ext-2R-R': <Entry index=21 label=\"Root_Ext-1R-R_Sp-2R=1R_Ext-2R-R\">,\n",
       " 'Root_Ext-1R-R_N-Sp-2R=1R_Ext-2R-R': <Entry index=22 label=\"Root_Ext-1R-R_N-Sp-2R=1R_Ext-2R-R\">,\n",
       " 'Root_Ext-2R-R_3R->C_Ext-4R!H-R': <Entry index=23 label=\"Root_Ext-2R-R_3R->C_Ext-4R!H-R\">,\n",
       " 'Root_Ext-2R-R_N-3R->C_Ext-2R-R': <Entry index=24 label=\"Root_Ext-2R-R_N-3R->C_Ext-2R-R\">,\n",
       " 'Root_Ext-3R-R_4R!H->F_Ext-1R-R_Ext-1R-R': <Entry index=25 label=\"Root_Ext-3R-R_4R!H->F_Ext-1R-R_Ext-1R-R\">,\n",
       " 'Root_Ext-3R-R_4R!H->F_Ext-1R-R_Ext-3R-R_6R!H->C': <Entry index=26 label=\"Root_Ext-3R-R_4R!H->F_Ext-1R-R_Ext-3R-R_6R!H->C\">,\n",
       " 'Root_Ext-3R-R_4R!H->F_Ext-1R-R_Ext-3R-R_N-6R!H->C': <Entry index=27 label=\"Root_Ext-3R-R_4R!H->F_Ext-1R-R_Ext-3R-R_N-6R!H->C\">}"
      ]
     },
     "execution_count": 10,
     "metadata": {},
     "output_type": "execute_result"
    }
   ],
   "source": [
    "family.groups.entries"
   ]
  },
  {
   "cell_type": "code",
   "execution_count": 11,
   "metadata": {},
   "outputs": [
    {
     "name": "stdout",
     "output_type": "stream",
     "text": [
      "0.0014500617980957031\n"
     ]
    }
   ],
   "source": [
    "start = time.time()\n",
    "family.check_tree()\n",
    "end = time.time()\n",
    "print(end-start)"
   ]
  },
  {
   "cell_type": "code",
   "execution_count": 12,
   "metadata": {},
   "outputs": [
    {
     "name": "stdout",
     "output_type": "stream",
     "text": [
      "0.35456228256225586\n"
     ]
    }
   ],
   "source": [
    "start = time.time()\n",
    "family.regularize(thermo_database=database.thermo)\n",
    "end = time.time()\n",
    "print(end-start)"
   ]
  },
  {
   "cell_type": "code",
   "execution_count": 13,
   "metadata": {},
   "outputs": [
    {
     "name": "stdout",
     "output_type": "stream",
     "text": [
      "0.34474730491638184\n"
     ]
    }
   ],
   "source": [
    "start = time.time()\n",
    "templateRxnMap = family.get_reaction_matches(thermo_database=database.thermo,remove_degeneracy=True,\n",
    "                                             get_reverse=True,exact_matches_only=False,fix_labels=True)\n",
    "end = time.time()\n",
    "print(end-start)"
   ]
  },
  {
   "cell_type": "code",
   "execution_count": 14,
   "metadata": {},
   "outputs": [
    {
     "data": {
      "text/plain": [
       "29"
      ]
     },
     "execution_count": 14,
     "metadata": {},
     "output_type": "execute_result"
    }
   ],
   "source": [
    "len(templateRxnMap)"
   ]
  },
  {
   "cell_type": "code",
   "execution_count": 15,
   "metadata": {},
   "outputs": [],
   "source": [
    "family.clean_tree_rules()"
   ]
  },
  {
   "cell_type": "code",
   "execution_count": 16,
   "metadata": {},
   "outputs": [
    {
     "name": "stderr",
     "output_type": "stream",
     "text": [
      "/home/khalil.nor/Code/RMG-Py/rmgpy/data/kinetics/family.py:3640: VisibleDeprecationWarning: Creating an ndarray from ragged nested sequences (which is a list-or-tuple of lists-or-tuples-or ndarrays with different lengths or shapes) is deprecated. If you meant to do this, you must specify 'dtype=object' when creating the ndarray.\n",
      "  for rxns, label in rxnlists])\n",
      "/work/westgroup/nora/miniconda/envs/rmg_env/lib/python3.7/site-packages/numpy/core/fromnumeric.py:3441: RuntimeWarning: Mean of empty slice.\n",
      "  out=out, **kwargs)\n",
      "/work/westgroup/nora/miniconda/envs/rmg_env/lib/python3.7/site-packages/numpy/core/_methods.py:189: RuntimeWarning: invalid value encountered in double_scalars\n",
      "  ret = ret.dtype.type(ret / rcount)\n",
      "/work/westgroup/nora/miniconda/envs/rmg_env/lib/python3.7/site-packages/scipy/optimize/minpack.py:834: OptimizeWarning: Covariance of the parameters could not be estimated\n",
      "  category=OptimizeWarning)\n"
     ]
    },
    {
     "name": "stdout",
     "output_type": "stream",
     "text": [
      "0.4910733699798584\n"
     ]
    }
   ],
   "source": [
    "start = time.time()\n",
    "family.make_bm_rules_from_template_rxn_map(templateRxnMap)#,nprocs=6)\n",
    "end = time.time()\n",
    "print(end-start)"
   ]
  },
  {
   "cell_type": "code",
   "execution_count": 17,
   "metadata": {},
   "outputs": [
    {
     "name": "stdout",
     "output_type": "stream",
     "text": [
      "0.0029611587524414062\n"
     ]
    }
   ],
   "source": [
    "start = time.time()\n",
    "family.check_tree()\n",
    "end = time.time()\n",
    "print(end-start)"
   ]
  },
  {
   "cell_type": "code",
   "execution_count": 18,
   "metadata": {},
   "outputs": [
    {
     "name": "stdout",
     "output_type": "stream",
     "text": [
      "0.45301270484924316\n"
     ]
    },
    {
     "name": "stderr",
     "output_type": "stream",
     "text": [
      "/work/westgroup/nora/miniconda/envs/rmg_env/lib/python3.7/site-packages/scipy/optimize/minpack.py:834: OptimizeWarning: Covariance of the parameters could not be estimated\n",
      "  category=OptimizeWarning)\n"
     ]
    }
   ],
   "source": [
    "start = time.time()\n",
    "errors,uncertainties = family.cross_validate(iters=0,random_state=5,folds=0,ascend=False)\n",
    "end = time.time()\n",
    "print(end-start)"
   ]
  },
  {
   "cell_type": "code",
   "execution_count": 19,
   "metadata": {},
   "outputs": [
    {
     "name": "stdout",
     "output_type": "stream",
     "text": [
      "/home/khalil.nor/Code/RMG-database/input/kinetics/families/1+2_Cycloaddition\n"
     ]
    }
   ],
   "source": [
    "save_path = os.path.join(settings['database.directory'], 'kinetics', 'families', family.name)\n",
    "print(save_path)"
   ]
  },
  {
   "cell_type": "code",
   "execution_count": 20,
   "metadata": {},
   "outputs": [],
   "source": [
    "family.save(save_path)"
   ]
  },
  {
   "cell_type": "code",
   "execution_count": null,
   "metadata": {},
   "outputs": [],
   "source": []
  },
  {
   "cell_type": "code",
   "execution_count": null,
   "metadata": {},
   "outputs": [],
   "source": []
  },
  {
   "cell_type": "code",
   "execution_count": null,
   "metadata": {},
   "outputs": [],
   "source": []
  },
  {
   "cell_type": "code",
   "execution_count": null,
   "metadata": {},
   "outputs": [],
   "source": [
    "# completed on May 13th, 2024 at 1:37 pm "
   ]
  },
  {
   "cell_type": "code",
   "execution_count": null,
   "metadata": {},
   "outputs": [],
   "source": []
  },
  {
   "cell_type": "code",
   "execution_count": null,
   "metadata": {},
   "outputs": [],
   "source": []
  },
  {
   "cell_type": "code",
   "execution_count": null,
   "metadata": {},
   "outputs": [],
   "source": [
    "#let's check to see what the fit is like at the end nodes"
   ]
  },
  {
   "cell_type": "code",
   "execution_count": 1,
   "metadata": {},
   "outputs": [],
   "source": [
    "from rmgpy.kinetics.uncertainties import RateUncertainty\n",
    "import rmgpy\n",
    "import numpy as np\n",
    "from rmgpy.molecule.molecule import *\n",
    "from rmgpy.species import *\n",
    "from rmgpy.chemkin import *\n",
    "from rmgpy.data.rmg import RMGDatabase\n",
    "from IPython.display import display\n",
    "from rmgpy.data.thermo import ThermoLibrary\n",
    "from rmgpy.rmg.react import react\n",
    "from rmgpy.species import Species\n",
    "from rmgpy.reaction import Reaction\n",
    "from rmgpy.data.rmg import get_db\n",
    "from rmgpy.molecule.group import Group\n",
    "from rmgpy.kinetics.arrhenius import ArrheniusBM, Arrhenius\n",
    "from rmgpy import settings\n",
    "import time\n",
    "import matplotlib.pyplot as plt\n",
    "import matplotlib\n",
    "import rmgpy.constants as constants"
   ]
  },
  {
   "cell_type": "code",
   "execution_count": 2,
   "metadata": {},
   "outputs": [],
   "source": [
    "thermo_libs = [\n",
    "#'PFCA_thermo', this was not added for this family yet\n",
    "'C1_C2_Fluorine', #adding Siddha's as first most trusted because this is the thermo library that Franklin used\n",
    "'NCSU_C2_C8_PFAS', #adding Westmoreland's thermo as the second most trusted\n",
    "'primaryThermoLibrary',\n",
    "'Fluorine',\n",
    "'FFCM1(-)',\n",
    "'halogens',\n",
    "'CHOF_G4',\n",
    "'CHOCl_G4',\n",
    "'CHOBr_G4',\n",
    "'CHOFCl_G4',\n",
    "'CHOFBr_G4',\n",
    "'CHOFClBr_G4',\n",
    "'DFT_QCI_thermo',\n",
    "'2-BTP_G4',\n",
    "'thermo_DFT_CCSDTF12_BAC',\n",
    "'SulfurHaynes'\n",
    "]\n",
    "\n",
    "kin_families = [\"1+2_Cycloaddition\"]\n",
    "\n",
    "database = RMGDatabase()\n",
    "database.load(\n",
    "            path = settings['database.directory'],\n",
    "            thermo_libraries = thermo_libs,\n",
    "            transport_libraries = [],\n",
    "            reaction_libraries = [],\n",
    "            seed_mechanisms = [],#['BurkeH2O2inN2','ERC-FoundationFuelv0.9'],\n",
    "            kinetics_families = kin_families,\n",
    "            kinetics_depositories = ['training'],\n",
    "            #frequenciesLibraries = self.statmechLibraries,\n",
    "            depository = False, # Don't bother loading the depository information, as we don't use it\n",
    "        )"
   ]
  },
  {
   "cell_type": "code",
   "execution_count": 5,
   "metadata": {},
   "outputs": [
    {
     "data": {
      "text/plain": [
       "{'1+2_Cycloaddition': <ReactionFamily \"1+2_Cycloaddition\">}"
      ]
     },
     "execution_count": 5,
     "metadata": {},
     "output_type": "execute_result"
    }
   ],
   "source": [
    "database.kinetics.families"
   ]
  },
  {
   "cell_type": "code",
   "execution_count": 6,
   "metadata": {},
   "outputs": [],
   "source": [
    "# \"1+2_Cycloaddition\" \n",
    "family_to_train = \"1+2_Cycloaddition\"\n",
    "family = database.kinetics.families[family_to_train]"
   ]
  },
  {
   "cell_type": "code",
   "execution_count": 7,
   "metadata": {},
   "outputs": [
    {
     "name": "stdout",
     "output_type": "stream",
     "text": [
      "173.64859628677368\n"
     ]
    }
   ],
   "source": [
    "start = time.time()\n",
    "templateRxnMap = family.get_reaction_matches(thermo_database=database.thermo,remove_degeneracy=True,\n",
    "                                             get_reverse=True,exact_matches_only=False,fix_labels=True)\n",
    "end = time.time()\n",
    "print(end-start)"
   ]
  },
  {
   "cell_type": "code",
   "execution_count": 8,
   "metadata": {},
   "outputs": [],
   "source": [
    "n_2_mapping = [key for key, value in templateRxnMap.items() if len(value)==2] #mapping of all nodes with 3 or less training rxns (parents)\n",
    "n_1_mapping = [key for key, value in templateRxnMap.items() if len(value)==1] #mapping of all nodes with 1 training rxn (children)\n",
    "n_4_mapping = [key for key, value in templateRxnMap.items() if len(value)==4] \n",
    "parent_to_child = {}\n",
    "parent_to_child_4 = {}\n",
    "\n",
    "for label in n_2_mapping: \n",
    "    \n",
    "    #make the parent node\n",
    "    parent_node, _ = family.retrieve_original_entry(label)\n",
    "    \n",
    "    #now find the children with just 1 reaction\n",
    "    children_nodes = []\n",
    "    for test_label in n_1_mapping:\n",
    "        if label in test_label:\n",
    "            child_node, _ = family.retrieve_original_entry(test_label)\n",
    "            children_nodes.append(child_node)\n",
    "            \n",
    "            \n",
    "    if len(templateRxnMap[label])==len(children_nodes): #let's pick out the ones that are both two\n",
    "        parent_to_child[parent_node.label] = [x.label for x in children_nodes]\n",
    "        \n",
    "for label in n_4_mapping: \n",
    "    \n",
    "    #make the parent node\n",
    "    parent_node, _ = family.retrieve_original_entry(label)\n",
    "    \n",
    "    #now find the children with just 1 reaction\n",
    "    children_nodes = []\n",
    "    for test_label in n_1_mapping:\n",
    "        if label in test_label:\n",
    "            child_node, _ = family.retrieve_original_entry(test_label)\n",
    "            children_nodes.append(child_node)\n",
    "            \n",
    "            \n",
    "    if len(templateRxnMap[label])==len(children_nodes): #let's pick out the ones that are both two\n",
    "        parent_to_child_4[parent_node.label] = [x.label for x in children_nodes]\n",
    "#parent_to_child is a dictionary where key = label of parent and value = label of children"
   ]
  },
  {
   "cell_type": "code",
   "execution_count": 9,
   "metadata": {},
   "outputs": [
    {
     "name": "stdout",
     "output_type": "stream",
     "text": [
      "CCl2 + C2H4 <=> C3H4Cl2\n",
      "CBr2 + C2H4 <=> C3H4Br2\n",
      "8.68219e-05 m^3/(mol*s) 86.8219 cm^3/(mol*s)\n"
     ]
    },
    {
     "data": {
      "image/png": "[encoded data removed]",
      "text/plain": [
       "<Figure size 640x480 with 1 Axes>"
      ]
     },
     "metadata": {},
     "output_type": "display_data"
    },
    {
     "name": "stdout",
     "output_type": "stream",
     "text": [
      "CH2 + C2H4 <=> C3H6\n",
      "C2H4 + O <=> C2H4O\n",
      "1.98e+06 m^3/(mol*s) 1.98e+12 *|/ 3.2 cm^3/(mol*s)\n"
     ]
    },
    {
     "data": {
      "image/png": "[encoded data removed]",
      "text/plain": [
       "<Figure size 640x480 with 1 Axes>"
      ]
     },
     "metadata": {},
     "output_type": "display_data"
    }
   ],
   "source": [
    "%matplotlib inline\n",
    "temperatures = [ 300., 500.,  600.,  700. , 800.,  900., 1000., 1100., 1200., 1500., 2000.]\n",
    "inverse_temps = [1000/T for T in temperatures]\n",
    "\n",
    "\n",
    "\n",
    "for parent_label, children_labels in parent_to_child.items():\n",
    "    \n",
    "    training_rxns = templateRxnMap[parent_label] \n",
    "    for tr_rxn in training_rxns:\n",
    "        print(tr_rxn)\n",
    "    BM_entries = [family.retrieve_original_entry(label)[0].data for label in children_labels]\n",
    "\n",
    "    matches = []\n",
    "    matched_BM = []\n",
    "\n",
    "    for BM_kinetics in BM_entries:\n",
    "        for tr_rxn in training_rxns:\n",
    "            BM_str_of_float = re.search('([1-9]\\.?[0-9][0-9])', str(BM_kinetics.A.value_si)).group(1)\n",
    "            tr_str_of_float = re.search('([1-9]\\.?[0-9][0-9])', str(tr_rxn.kinetics.A.value_si)).group(1)\n",
    "            if BM_str_of_float==tr_str_of_float:\n",
    "                #print('yeah')\n",
    "                matches.append((Reaction(reactants=tr_rxn.reactants, products=tr_rxn.products, kinetics = BM_kinetics), tr_rxn))\n",
    "                matched_BM.append(BM_kinetics)\n",
    "    if len(matches)==0:\n",
    "        print(\"couldn't find any matches\")\n",
    "        continue\n",
    "        #skipping because the A's are probably very different\n",
    "        \n",
    "    #if you miss matching all of them\n",
    "    if len(matches)==1:\n",
    "        leftover_tr_rxn = [tr_rxn for tr_rxn in training_rxns if tr_rxn not in matches[0]][0]\n",
    "        leftover_BM_kinetics = [BM_kinetics for BM_kinetics in BM_entries if BM_kinetics not in matched_BM][0]\n",
    "        leftover_BM_reaction = Reaction(reactants=leftover_tr_rxn.reactants, products=leftover_tr_rxn.products, kinetics = leftover_BM_kinetics)\n",
    "        #print(leftover_BM_reaction.kinetics.A, leftover_tr_rxn.kinetics.A)\n",
    "        matches.append((leftover_BM_reaction, leftover_tr_rxn))\n",
    "\n",
    "#     for (BM, tr) in matches: \n",
    "#         print(str(BM.kinetics.A.value_si), str(tr.kinetics.A.value_si))\n",
    "        \n",
    "    child_node_1_BM_rxn, child_training_rxn_1= matches[0] \n",
    "    child_node_2_BM_rxn, child_training_rxn_2 = matches[1] \n",
    "    \n",
    "    #empty lists for collecting data\n",
    "    parent_node_rate_coefficients_1 = []\n",
    "    parent_node_rate_coefficients_2 = []\n",
    "\n",
    "    child_node_1_rate_coefficients = []\n",
    "    child_node_2_rate_coefficients = []\n",
    "\n",
    "    child_tr_rxn_coeffs_1 = []\n",
    "    child_tr_rxn_coeffs_2 = []\n",
    "    \n",
    "    #let's make the parent BM node\n",
    "    parent_node, _ = family.retrieve_original_entry(parent_label)\n",
    "    BM_parent_rxn = Reaction(kinetics = parent_node.data)\n",
    "\n",
    "    \n",
    "    #get the dHrxns \n",
    "    \n",
    "    dHrxn_1 = child_node_1_BM_rxn.get_enthalpy_of_reaction(298)\n",
    "    dHrxn_2 = child_node_2_BM_rxn.get_enthalpy_of_reaction(298)\n",
    "\n",
    "    \n",
    "    for temp in temperatures: \n",
    "        \n",
    "        #calculate training rxn rate\n",
    "        tr_rate_1 = child_training_rxn_1.kinetics.get_rate_coefficient(temp) #J/mol #loaded in as Arr training rxn from templateRxnMap\n",
    "        tr_rate_2 =child_training_rxn_2.kinetics.get_rate_coefficient(temp) #J/mol #loaded in as Arr training rxn from templateRxnMap\n",
    "\n",
    "        child_tr_rxn_coeffs_1.append(tr_rate_1)\n",
    "        child_tr_rxn_coeffs_2.append(tr_rate_2)\n",
    "        \n",
    "        #calculate BM child rates\n",
    "        BM_child_rate_1 = child_node_1_BM_rxn.kinetics.get_rate_coefficient(temp, dHrxn=dHrxn_1) #loaded in as BM kinetics \n",
    "        BM_child_rate_2 = child_node_2_BM_rxn.kinetics.get_rate_coefficient(temp, dHrxn=dHrxn_2) #loaded in as BM kinetics \n",
    "\n",
    "        child_node_1_rate_coefficients.append(BM_child_rate_1)\n",
    "        child_node_2_rate_coefficients.append(BM_child_rate_2)\n",
    "        \n",
    "        #calculate BM for parent node at both dHrxns for child rxns\n",
    "        BM_parent_node_rate_dH1 = BM_parent_rxn.kinetics.get_rate_coefficient(temp, dHrxn=dHrxn_1)\n",
    "        parent_node_rate_coefficients_1.append(BM_parent_node_rate_dH1)\n",
    "        BM_parent_node_rate_dH2 = BM_parent_rxn.kinetics.get_rate_coefficient(temp, dHrxn=dHrxn_2)\n",
    "        parent_node_rate_coefficients_2.append(BM_parent_node_rate_dH2)\n",
    "        \n",
    "    \n",
    "    #get lnks\n",
    "\n",
    "    parent_node_1 = [np.log(rate) for rate in parent_node_rate_coefficients_1]\n",
    "    parent_node_2 = [np.log(rate) for rate in parent_node_rate_coefficients_2]\n",
    "    child_node_1 = [np.log(rate) for rate in child_node_1_rate_coefficients]  \n",
    "    child_node_2 = [np.log(rate) for rate in child_node_2_rate_coefficients]\n",
    "    child_tr_1 = [np.log(rate) for rate in child_tr_rxn_coeffs_1]\n",
    "    child_tr_2 = [np.log(rate) for rate in child_tr_rxn_coeffs_2]\n",
    "\n",
    "\n",
    "    print(child_node_1_BM_rxn.kinetics.A, child_training_rxn_1.kinetics.A)\n",
    "    #plotting\n",
    "    plt.figure()   \n",
    "    plt.plot(inverse_temps, child_node_1, '-', c= 'r', label = 'child BM rxn 1')\n",
    "    plt.plot(inverse_temps, child_node_2, '-', c= 'g', label = 'child BM rxn 2')\n",
    "    plt.plot(inverse_temps, child_tr_1, 'o', c='r', label='child training rxn 1')\n",
    "    plt.plot(inverse_temps, child_tr_2, 'o', c='g', label='child training rxn 2')\n",
    "    plt.plot(inverse_temps, parent_node_1, ':', c='r', label = 'parent BM fit 1')   \n",
    "    plt.plot(inverse_temps, parent_node_2, ':', c='g', label = 'parent BM fit 2')   \n",
    "\n",
    "\n",
    "    plt.title(parent_label)\n",
    "    plt.xlabel('1000/T')\n",
    "    plt.ylabel('ln(k)')\n",
    "    plt.legend()\n",
    "    plt.show()"
   ]
  },
  {
   "cell_type": "code",
   "execution_count": 10,
   "metadata": {},
   "outputs": [],
   "source": [
    "#n = 4, node with 4 reactions\n",
    "%matplotlib inline\n",
    "temperatures = [ 300., 500.,  600.,  700. , 800.,  900., 1000., 1100., 1200., 1500., 2000.]\n",
    "inverse_temps = [1000/T for T in temperatures]\n",
    "\n",
    "\n",
    "\n",
    "for parent_label, children_labels in parent_to_child_4.items():\n",
    "    \n",
    "    training_rxns = templateRxnMap[parent_label] \n",
    "    for tr_rxn in training_rxns:\n",
    "        print(tr_rxn)\n",
    "    BM_entries = [family.retrieve_original_entry(label)[0].data for label in children_labels]\n",
    "\n",
    "    \n",
    "    matches = []\n",
    "    matched_BM = []\n",
    "    matched_tr = []\n",
    "\n",
    "    for BM_kinetics in BM_entries:\n",
    "        for tr_rxn in training_rxns:\n",
    "            BM_str_of_float = re.search('([1-9]\\.?[0-9][0-9])', str(BM_kinetics.A.value_si)).group(1)\n",
    "            tr_str_of_float = re.search('([1-9]\\.?[0-9][0-9])', str(tr_rxn.kinetics.A.value_si)).group(1)\n",
    "            if BM_str_of_float==tr_str_of_float:\n",
    "                print('yeah')\n",
    "                matches.append((Reaction(reactants=tr_rxn.reactants, products=tr_rxn.products, kinetics = BM_kinetics), tr_rxn))\n",
    "                matched_BM.append(BM_kinetics)\n",
    "                matched_tr.append(tr_rxn)\n",
    "                \n",
    "    if len(matches)==0:\n",
    "        print(\"couldn't find any matches\")\n",
    "        continue\n",
    "        #skipping because the A's are probably very different\n",
    "        \n",
    "    for (BM, tr) in matches:\n",
    "        print(BM.kinetics.A.value_si, tr.kinetics.A.value_si)\n",
    "        \n",
    "#     if 0<len(matches)<len(training_rxns) and len(BM_entries)==len(training_rxns):\n",
    "#         leftover_tr_rxns = [tr_rxn for tr_rxn in training_rxns if tr_rxn not in matched_tr]\n",
    "#         leftover_BM_kinetics = [BM_kinetics for BM_kinetics in BM_entries if BM_kinetics not in matched_BM]\n",
    "#         for leftover_tr_rxn in leftover_tr_rxns:\n",
    "#             for leftover_BM_kinetics in leftover_BM_kinetics_:\n",
    "#                 if re.search('([1-9]\\.?[0-9][0-9])', str(leftover_BM_kinetics)).group(1)==re.search('([1-9]\\.?[0-9][0-9])', str(leftover_tr_rxn.kinetics.A.value_si)).group(1):\n",
    "#                     leftover_BM_reaction = Reaction(reactants=leftover_tr_rxn.reactants, products=leftover_tr_rxn.products, kinetics = leftover_BM_kinetics)\n",
    "#                     print(leftover_BM_reaction.kinetics.A, leftover_tr_rxn.kinetics.A)\n",
    "#                     matches.append((leftover_BM_reaction, leftover_tr_rxn))\n",
    "\n",
    "    if len(BM_entries)!=len(matches):\n",
    "        flag=False\n",
    "    else:\n",
    "        flag=True\n",
    "\n",
    "    child_node_1_BM_rxn, child_training_rxn_1= matches[0] \n",
    "    child_node_2_BM_rxn, child_training_rxn_2 = matches[1] \n",
    "    child_node_3_BM_rxn, child_training_rxn_3= matches[2]\n",
    "    if flag==True: \n",
    "        child_node_4_BM_rxn, child_training_rxn_4 = matches[3] \n",
    "    \n",
    "    #empty lists for collecting data\n",
    "    parent_node_rate_coefficients_1 = []\n",
    "    parent_node_rate_coefficients_2 = []\n",
    "    parent_node_rate_coefficients_3 = []\n",
    "    parent_node_rate_coefficients_4 = []\n",
    "\n",
    "    child_node_1_rate_coefficients = []\n",
    "    child_node_2_rate_coefficients = []\n",
    "    child_node_3_rate_coefficients = []\n",
    "    child_node_4_rate_coefficients = []\n",
    "\n",
    "    child_tr_rxn_coeffs_1 = []\n",
    "    child_tr_rxn_coeffs_2 = []\n",
    "    child_tr_rxn_coeffs_3 = []\n",
    "    child_tr_rxn_coeffs_4 = []\n",
    "    \n",
    "    #let's make the parent BM node\n",
    "    parent_node, _ = family.retrieve_original_entry(parent_label)\n",
    "    BM_parent_rxn = Reaction(kinetics = parent_node.data)\n",
    "\n",
    "    \n",
    "    #get the dHrxns \n",
    "    \n",
    "    dHrxn_1 = child_node_1_BM_rxn.get_enthalpy_of_reaction(298)\n",
    "    dHrxn_2 = child_node_2_BM_rxn.get_enthalpy_of_reaction(298)\n",
    "    dHrxn_3 = child_node_3_BM_rxn.get_enthalpy_of_reaction(298)\n",
    "    if flag==True: \n",
    "        dHrxn_4 = child_node_4_BM_rxn.get_enthalpy_of_reaction(298)\n",
    "\n",
    "    \n",
    "    for temp in temperatures: \n",
    "        \n",
    "        #calculate training rxn rate\n",
    "        tr_rate_1 = child_training_rxn_1.kinetics.get_rate_coefficient(temp) #J/mol #loaded in as Arr training rxn from templateRxnMap\n",
    "        tr_rate_2 =child_training_rxn_2.kinetics.get_rate_coefficient(temp) #J/mol #loaded in as Arr training rxn from templateRxnMap\n",
    "        tr_rate_3 = child_training_rxn_3.kinetics.get_rate_coefficient(temp) #J/mol #loaded in as Arr training rxn from templateRxnMap\n",
    "        if flag==True: \n",
    "            tr_rate_4 =child_training_rxn_4.kinetics.get_rate_coefficient(temp) #J/mol #loaded in as Arr training rxn from templateRxnMap\n",
    "\n",
    "        child_tr_rxn_coeffs_1.append(tr_rate_1)\n",
    "        child_tr_rxn_coeffs_2.append(tr_rate_2)\n",
    "        child_tr_rxn_coeffs_3.append(tr_rate_3)\n",
    "        if flag==True:\n",
    "            child_tr_rxn_coeffs_4.append(tr_rate_4)\n",
    "        \n",
    "        #calculate BM child rates\n",
    "        BM_child_rate_1 = child_node_1_BM_rxn.kinetics.get_rate_coefficient(temp, dHrxn=dHrxn_1) #loaded in as BM kinetics \n",
    "        BM_child_rate_2 = child_node_2_BM_rxn.kinetics.get_rate_coefficient(temp, dHrxn=dHrxn_2) #loaded in as BM kinetics \n",
    "        BM_child_rate_3 = child_node_3_BM_rxn.kinetics.get_rate_coefficient(temp, dHrxn=dHrxn_3) #loaded in as BM kinetics \n",
    "        if flag==True:\n",
    "            BM_child_rate_4 = child_node_4_BM_rxn.kinetics.get_rate_coefficient(temp, dHrxn=dHrxn_4) #loaded in as BM kinetics \n",
    "\n",
    "        child_node_1_rate_coefficients.append(BM_child_rate_1)\n",
    "        child_node_2_rate_coefficients.append(BM_child_rate_2)\n",
    "        child_node_3_rate_coefficients.append(BM_child_rate_3)\n",
    "        if flag==True:\n",
    "            child_node_4_rate_coefficients.append(BM_child_rate_4)\n",
    "        \n",
    "        #calculate BM for parent node at both dHrxns for child rxns\n",
    "        BM_parent_node_rate_dH1 = BM_parent_rxn.kinetics.get_rate_coefficient(temp, dHrxn=dHrxn_1)\n",
    "        parent_node_rate_coefficients_1.append(BM_parent_node_rate_dH1)\n",
    "        BM_parent_node_rate_dH2 = BM_parent_rxn.kinetics.get_rate_coefficient(temp, dHrxn=dHrxn_2)\n",
    "        parent_node_rate_coefficients_2.append(BM_parent_node_rate_dH2)\n",
    "        BM_parent_node_rate_dH3 = BM_parent_rxn.kinetics.get_rate_coefficient(temp, dHrxn=dHrxn_3)\n",
    "        parent_node_rate_coefficients_3.append(BM_parent_node_rate_dH3)\n",
    "        if flag==True:\n",
    "            BM_parent_node_rate_dH4 = BM_parent_rxn.kinetics.get_rate_coefficient(temp, dHrxn=dHrxn_4)\n",
    "            parent_node_rate_coefficients_4.append(BM_parent_node_rate_dH4)\n",
    "        \n",
    "    \n",
    "    #get lnks\n",
    "\n",
    "    parent_node_1 = [np.log(rate) for rate in parent_node_rate_coefficients_1]\n",
    "    parent_node_2 = [np.log(rate) for rate in parent_node_rate_coefficients_2]\n",
    "    parent_node_3 = [np.log(rate) for rate in parent_node_rate_coefficients_3]\n",
    "    if flag==True:\n",
    "        parent_node_4 = [np.log(rate) for rate in parent_node_rate_coefficients_4]\n",
    "    \n",
    "    child_node_1 = [np.log(rate) for rate in child_node_1_rate_coefficients]  \n",
    "    child_node_2 = [np.log(rate) for rate in child_node_2_rate_coefficients]\n",
    "    child_node_3 = [np.log(rate) for rate in child_node_3_rate_coefficients]  \n",
    "    if flag==True:\n",
    "        child_node_4 = [np.log(rate) for rate in child_node_4_rate_coefficients]\n",
    "    \n",
    "    child_tr_1 = [np.log(rate) for rate in child_tr_rxn_coeffs_1]\n",
    "    child_tr_2 = [np.log(rate) for rate in child_tr_rxn_coeffs_2]\n",
    "    child_tr_3 = [np.log(rate) for rate in child_tr_rxn_coeffs_3]\n",
    "    if flag==True:\n",
    "        child_tr_4 = [np.log(rate) for rate in child_tr_rxn_coeffs_4]\n",
    "\n",
    "\n",
    "    print(child_node_1_BM_rxn.kinetics.A, child_training_rxn_1.kinetics.A)\n",
    "    #plotting\n",
    "    plt.figure()   \n",
    "    plt.plot(inverse_temps, child_node_1, '-', c= 'r', label = 'child BM rxn 1')\n",
    "    plt.plot(inverse_temps, child_node_2, '-', c= 'g', label = 'child BM rxn 2')\n",
    "    plt.plot(inverse_temps, child_node_3, '-', c= 'violet', label = 'child BM rxn 3')\n",
    "    if flag==True:\n",
    "        plt.plot(inverse_temps, child_node_4, '-', c= 'b', label = 'child BM rxn 4')\n",
    "    \n",
    "    plt.plot(inverse_temps, child_tr_1, 'o', c='r', label='child training rxn 1')\n",
    "    plt.plot(inverse_temps, child_tr_2, 'o', c='g', label='child training rxn 2')\n",
    "    plt.plot(inverse_temps, child_tr_3, 'o', c='violet', label='child training rxn 3')\n",
    "    if flag==True:\n",
    "        plt.plot(inverse_temps, child_tr_4, 'o', c='b', label='child training rxn 4')\n",
    "    \n",
    "    plt.plot(inverse_temps, parent_node_1, ':', c='r', label = 'parent BM fit 1')   \n",
    "    plt.plot(inverse_temps, parent_node_2, ':', c='g', label = 'parent BM fit 2')\n",
    "    plt.plot(inverse_temps, parent_node_3, ':', c='violet', label = 'parent BM fit 3')   \n",
    "    if flag==True:\n",
    "        plt.plot(inverse_temps, parent_node_4, ':', c='b', label = 'parent BM fit 4')\n",
    "\n",
    "\n",
    "    plt.title(parent_label)\n",
    "    plt.xlabel('1000/T')\n",
    "    plt.ylabel('ln(k)')\n",
    "    plt.legend(loc=(1.1,0.8))\n",
    "    plt.show()"
   ]
  }
 ],
 "metadata": {
  "@webio": {
   "lastCommId": null,
   "lastKernelId": null
  },
  "kernelspec": {
   "display_name": "rmg_env",
   "language": "python",
   "name": "rmg_env"
  },
  "language_info": {
   "codemirror_mode": {
    "name": "ipython",
    "version": 3
   },
   "file_extension": ".py",
   "mimetype": "text/x-python",
   "name": "python",
   "nbconvert_exporter": "python",
   "pygments_lexer": "ipython3",
   "version": "3.7.16"
  }
 },
 "nbformat": 4,
 "nbformat_minor": 4
}
