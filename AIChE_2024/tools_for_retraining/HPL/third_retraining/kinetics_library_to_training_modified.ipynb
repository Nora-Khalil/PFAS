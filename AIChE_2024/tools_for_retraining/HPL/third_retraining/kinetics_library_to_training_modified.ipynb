{
 "cells": [
  {
   "cell_type": "markdown",
   "metadata": {},
   "source": [
    "# Convert Kinetics Library to Training Reactions Script\n",
    "\n",
    "Specify the kinetics library name below and run the script.  It automatically overwrites the training reactions files it needs to.  Then you should commit those files.\n",
    "\n",
    "This script only trains safely.  In other words, if a single match from an RMG family is found, a training reaction is created.  Sometimes, there are no matches from RMG reaction families, or multiple matches.  This indicates an error that requires manual fixing, and a printout is given in the script."
   ]
  },
  {
   "cell_type": "code",
   "execution_count": 1,
   "metadata": {},
   "outputs": [],
   "source": [
    "from rmgpy import settings\n",
    "from rmgpy.data.rmg import RMGDatabase\n",
    "from kinetics_library_to_training_tools_modified import *\n",
    "import kinetics_library_to_training_tools_modified# import process_reactions\n",
    "from base64 import b64encode\n",
    "from IPython.display import display, HTML\n",
    "import os\n",
    "import re\n",
    "from importlib import reload\n",
    "\n",
    "\n",
    "# Set libraries to load reactions from; set to None to load all libraries\n",
    "# libraries = ['PFAS_HPL']\n",
    "libraries = ['PFAS_HPL_Test/CO2_Elimination_From_Carboxylic_Acid_Rad/']\n",
    "# Set families to add training reactions to; either 'default' or a list, e.g. ['R_Addition_MultipleBond']\n",
    "# families = ['Perfluoroalkene_Formation',\n",
    "            # 'CF_Radical_Formation_3',\n",
    "            # 'CF_Radical_Formation_2', \n",
    "            # 'CF_Radical_Formation_1', \n",
    "            # 'OF_Radical_Formation', \n",
    "            # 'Enol_Ether_Formation',\n",
    "            # 'Lactone_to_Perfluoroalkene', \n",
    "            # 'CO2_Elimination_From_Lactone', \n",
    "            # 'CO2_Elimination_From_Carboxylic_Acid', \n",
    "            # 'CO2_Elimination_From_Lactone_Ether', \n",
    "            # 'CO_Elimination_From_Lactone', \n",
    "            # 'CO_CF_bond_dissociation', \n",
    "            # 'PFAS_Hydrolysis', \n",
    "            # 'Lactone_Formation', \n",
    "            # 'CO2_Elimination_From_PFCA_Radical']\n",
    "\n",
    "# Specify whether to plot kinetics comparisons\n",
    "compare_kinetics = False\n",
    "\n",
    "# Specify whether to print library reactions which don't fit in the specified families\n",
    "# This can result in a lot of unnecessary output if only using a few families\n",
    "show_all = False\n",
    "\n",
    "# Specify whether to prioritize aromatic resonance structures to reduce cases of multiple matches\n",
    "filter_aromatic = True\n",
    "#filter_aromatic = \n",
    "\n",
    "# Specify whether to use verbose comments when averaging tree\n",
    "verbose_comments = True\n",
    "\n",
    "\n",
    "\n",
    "\n",
    "# families = ['Perfluorinated_Alkyl_Rearrangement']\n",
    "\n",
    "thermolibs = [\n",
    "'C1_C2_Fluorine', #putting Siddha's as most trusted because Caroline used this thermo for calcs\n",
    "'PFCA_thermo',\n",
    "'NCSU_C2_C8_PFAS', #using this as second trusted thermo because has good estimates for higher C pfas\n",
    "'Fluorine',\n",
    "'primaryThermoLibrary',\n",
    "'FFCM1(-)',\n",
    "'halogens',\n",
    "'CHOF_G4',\n",
    "'CHOCl_G4',\n",
    "'CHOBr_G4',\n",
    "'CHOFCl_G4',\n",
    "'CHOFBr_G4',\n",
    "'CHOFClBr_G4',\n",
    "'DFT_QCI_thermo',\n",
    "'2-BTP_G4',\n",
    "'thermo_DFT_CCSDTF12_BAC',\n",
    "'SulfurHaynes'\n",
    "]\n",
    "\n",
    "# thermolibs = []"
   ]
  },
  {
   "cell_type": "code",
   "execution_count": 2,
   "metadata": {},
   "outputs": [],
   "source": [
    "# families = ['default', 'halogens']\n",
    "families = ['CO2_Elimination_From_Carboxylic_Acid']"
   ]
  },
  {
   "cell_type": "code",
   "execution_count": null,
   "metadata": {
    "tags": []
   },
   "outputs": [],
   "source": [
    "# #if we want to add in the other reaction families (not new) \n",
    "# matched_families_path = '/work/westgroup/nora/Code/projects/PFAS/AIChE_2024/organized_into_rxn_families/HPL_matches/'\n",
    "# matched_htmls = [html for html in os.listdir(matched_families_path) if '_matched_rxns.html' in html]\n",
    "# previously_matched_families = [re.search('(\\S+)_matched_rxns', html).group(1) for html in matched_htmls]\n",
    "# families.extend(previously_matched_families)\n",
    "\n",
    "families = ['Perfluoroalkene_Formation',\n",
    " 'CF_Radical_Formation_3',\n",
    " 'CF_Radical_Formation_2',\n",
    " 'CF_Radical_Formation_1',\n",
    " 'OF_Radical_Formation',\n",
    " 'Enol_Ether_Formation',\n",
    " 'Lactone_to_Perfluoroalkene',\n",
    "'CO2_Elimination_From_Lactone',\n",
    " 'CO2_Elimination_From_Carboxylic_Acid',\n",
    "'CO2_Elimination_From_Lactone_Ether',\n",
    "'CO_Elimination_From_Lactone',\n",
    " 'CO_CF_bond_dissociation',\n",
    " 'PFAS_Hydrolysis',\n",
    " 'Lactone_Formation',\n",
    "'CO2_Elimination_From_PFCA_Radical',\n",
    " '1+2_Cycloaddition',\n",
    " '1,2_Insertion_CO',\n",
    " '1,2_Insertion_carbene',\n",
    " '1,3_Insertion_CO2',\n",
    " '1,3_sigmatropic_rearrangement',\n",
    " 'F_Abstraction',\n",
    " 'Intra_R_Add_Endocyclic',\n",
    " 'R_Addition_COm',\n",
    " 'R_Addition_MultipleBond',\n",
    " 'R_Recombination',\n",
    " 'Singlet_Carbene_Intra_Disproportionation',\n",
    " 'XY_Addition_MultipleBond',\n",
    " 'Enol_Ether_Formation',\n",
    " 'Perfluorinated_Alkyl_Rearrangement']\n",
    "\n",
    "#these ones are missed, maybe they're fitting to a new family? \n",
    "# ['CO2_Elimination_From_Lactone',\n",
    "#  'CO2_Elimination_From_Lactone_Ether',\n",
    "#  'CO_Elimination_From_Lactone',\n",
    "#  'CO2_Elimination_From_PFCA_Radical']"
   ]
  },
  {
   "cell_type": "markdown",
   "metadata": {},
   "source": [
    "\n",
    "## Step 1: Load RMG-database with specified libraries and families"
   ]
  },
  {
   "cell_type": "code",
   "execution_count": 3,
   "metadata": {},
   "outputs": [
    {
     "name": "stdout",
     "output_type": "stream",
     "text": [
      "testing\n",
      "testing\n",
      "testing\n",
      "testing\n",
      "testing\n",
      "testing\n",
      "testing\n",
      "testing\n",
      "testing\n",
      "testing\n",
      "testing\n",
      "testing\n"
     ]
    }
   ],
   "source": [
    "database = RMGDatabase()\n",
    "database.load(\n",
    "    path = settings['database.directory'],\n",
    "    thermo_libraries = thermolibs,  # Can add others if necessary\n",
    "    kinetics_families = families,\n",
    "    reaction_libraries = libraries,\n",
    "    kinetics_depositories = ['training'],\n",
    ")\n",
    "# If we want accurate kinetics comparison, add existing training reactions and fill tree by averaging\n",
    "if compare_kinetics:\n",
    "    for family in database.kinetics.families.values():\n",
    "        if not family.auto_generated:\n",
    "            family.add_rules_from_training(thermo_database=database.thermo)\n",
    "            family.fill_rules_by_averaging_up(verbose=verbose_comments)"
   ]
  },
  {
   "cell_type": "code",
   "execution_count": 4,
   "metadata": {},
   "outputs": [
    {
     "data": {
      "text/plain": [
       "dict_keys(['CO2_Elimination_From_Carboxylic_Acid'])"
      ]
     },
     "execution_count": 4,
     "metadata": {},
     "output_type": "execute_result"
    }
   ],
   "source": [
    "database.kinetics.families.keys()"
   ]
  },
  {
   "cell_type": "markdown",
   "metadata": {},
   "source": [
    "## Step 2a: Generate library reactions from families to get proper labels"
   ]
  },
  {
   "cell_type": "code",
   "execution_count": 5,
   "metadata": {},
   "outputs": [
    {
     "data": {
      "text/plain": [
       "<module 'kinetics_library_to_training_tools_modified' from '/work/westgroup/nora/Code/projects/PFAS/AIChE_2024/tools_for_retraining/HPL/third_retraining/kinetics_library_to_training_tools_modified.py'>"
      ]
     },
     "execution_count": 5,
     "metadata": {},
     "output_type": "execute_result"
    }
   ],
   "source": [
    "reload(kinetics_library_to_training_tools_modified)"
   ]
  },
  {
   "cell_type": "code",
   "execution_count": 6,
   "metadata": {
    "scrolled": true,
    "tags": []
   },
   "outputs": [
    {
     "name": "stdout",
     "output_type": "stream",
     "text": [
      "[Species(label=\"CF2C(O)OH\", molecule=[Molecule(smiles=\"O=C(O)[C](F)F\"), Molecule(smiles=\"[O]C(O)=C(F)F\")], molecular_weight=(95.0249,'amu'))] [Species(label=\"CF2H\", molecule=[Molecule(smiles=\"F[CH]F\")], molecular_weight=(51.0154,'amu')), Species(label=\"CO2\", molecule=[Molecule(smiles=\"O=C=O\")], molecular_weight=(44.0094,'amu'))]\n",
      "getting fam rxn list...\n"
     ]
    },
    {
     "name": "stderr",
     "output_type": "stream",
     "text": [
      "WARNING: method definition for getreactionindices at /work/westgroup/nora/miniconda/envs/rmg_env/share/julia/site/packages/ReactionMechanismSimulator/mfVTj/src/Phase.jl:320 declares type variable Q but does not use it.\n",
      "WARNING: using StaticArrays.setindex in module FiniteDiff conflicts with an existing identifier.\n",
      "WARNING: method definition for Inlet at /work/westgroup/nora/miniconda/envs/rmg_env/share/julia/site/packages/ReactionMechanismSimulator/mfVTj/src/Interface.jl:243 declares type variable B but does not use it.\n",
      "WARNING: method definition for #ConstantTPDomain#328 at /work/westgroup/nora/miniconda/envs/rmg_env/share/julia/site/packages/ReactionMechanismSimulator/mfVTj/src/Domain.jl:42 declares type variable W but does not use it.\n",
      "WARNING: method definition for #ConstantTPDomain#328 at /work/westgroup/nora/miniconda/envs/rmg_env/share/julia/site/packages/ReactionMechanismSimulator/mfVTj/src/Domain.jl:42 declares type variable Q but does not use it.\n",
      "WARNING: method definition for #ConstantTPDomain#328 at /work/westgroup/nora/miniconda/envs/rmg_env/share/julia/site/packages/ReactionMechanismSimulator/mfVTj/src/Domain.jl:42 declares type variable E but does not use it.\n",
      "WARNING: method definition for #ConstantVDomain#339 at /work/westgroup/nora/miniconda/envs/rmg_env/share/julia/site/packages/ReactionMechanismSimulator/mfVTj/src/Domain.jl:120 declares type variable Q but does not use it.\n",
      "WARNING: method definition for #ConstantPDomain#348 at /work/westgroup/nora/miniconda/envs/rmg_env/share/julia/site/packages/ReactionMechanismSimulator/mfVTj/src/Domain.jl:188 declares type variable Q but does not use it.\n",
      "WARNING: method definition for #ParametrizedTPDomain#357 at /work/westgroup/nora/miniconda/envs/rmg_env/share/julia/site/packages/ReactionMechanismSimulator/mfVTj/src/Domain.jl:257 declares type variable Q but does not use it.\n",
      "WARNING: method definition for #ParametrizedVDomain#366 at /work/westgroup/nora/miniconda/envs/rmg_env/share/julia/site/packages/ReactionMechanismSimulator/mfVTj/src/Domain.jl:337 declares type variable Q but does not use it.\n",
      "WARNING: method definition for #ParametrizedVDomain#366 at /work/westgroup/nora/miniconda/envs/rmg_env/share/julia/site/packages/ReactionMechanismSimulator/mfVTj/src/Domain.jl:337 declares type variable E but does not use it.\n",
      "WARNING: method definition for #ParametrizedPDomain#375 at /work/westgroup/nora/miniconda/envs/rmg_env/share/julia/site/packages/ReactionMechanismSimulator/mfVTj/src/Domain.jl:414 declares type variable Q but does not use it.\n",
      "WARNING: method definition for #ParametrizedPDomain#375 at /work/westgroup/nora/miniconda/envs/rmg_env/share/julia/site/packages/ReactionMechanismSimulator/mfVTj/src/Domain.jl:414 declares type variable E but does not use it.\n",
      "WARNING: method definition for #ConstantTVDomain#384 at /work/westgroup/nora/miniconda/envs/rmg_env/share/julia/site/packages/ReactionMechanismSimulator/mfVTj/src/Domain.jl:500 declares type variable W but does not use it.\n",
      "WARNING: method definition for #ConstantTVDomain#384 at /work/westgroup/nora/miniconda/envs/rmg_env/share/julia/site/packages/ReactionMechanismSimulator/mfVTj/src/Domain.jl:500 declares type variable Q but does not use it.\n",
      "WARNING: method definition for #ParametrizedTConstantVDomain#395 at /work/westgroup/nora/miniconda/envs/rmg_env/share/julia/site/packages/ReactionMechanismSimulator/mfVTj/src/Domain.jl:580 declares type variable Q but does not use it.\n",
      "WARNING: method definition for #ConstantTAPhiDomain#404 at /work/westgroup/nora/miniconda/envs/rmg_env/share/julia/site/packages/ReactionMechanismSimulator/mfVTj/src/Domain.jl:660 declares type variable W but does not use it.\n",
      "WARNING: method definition for #ConstantTAPhiDomain#404 at /work/westgroup/nora/miniconda/envs/rmg_env/share/julia/site/packages/ReactionMechanismSimulator/mfVTj/src/Domain.jl:660 declares type variable E but does not use it.\n",
      "WARNING: method definition for #FragmentBasedConstantTrhoDomain#413 at /work/westgroup/nora/miniconda/envs/rmg_env/share/julia/site/packages/ReactionMechanismSimulator/mfVTj/src/Domain.jl:747 declares type variable X3 but does not use it.\n",
      "WARNING: method definition for #FragmentBasedConstantTrhoDomain#413 at /work/westgroup/nora/miniconda/envs/rmg_env/share/julia/site/packages/ReactionMechanismSimulator/mfVTj/src/Domain.jl:747 declares type variable E1 but does not use it.\n",
      "WARNING: method definition for #FragmentBasedConstantTrhoDomain#413 at /work/westgroup/nora/miniconda/envs/rmg_env/share/julia/site/packages/ReactionMechanismSimulator/mfVTj/src/Domain.jl:747 declares type variable X1 but does not use it.\n",
      "WARNING: method definition for #ConstantTLiqFilmDomain#422 at /work/westgroup/nora/miniconda/envs/rmg_env/share/julia/site/packages/ReactionMechanismSimulator/mfVTj/src/Domain.jl:848 declares type variable W but does not use it.\n",
      "WARNING: method definition for #ConstantTLiqFilmDomain#422 at /work/westgroup/nora/miniconda/envs/rmg_env/share/julia/site/packages/ReactionMechanismSimulator/mfVTj/src/Domain.jl:848 declares type variable Q but does not use it.\n",
      "WARNING: method definition for calcthermo at /work/westgroup/nora/miniconda/envs/rmg_env/share/julia/site/packages/ReactionMechanismSimulator/mfVTj/src/Domain.jl:1563 declares type variable J but does not use it.\n",
      "WARNING: method definition for calcthermo at /work/westgroup/nora/miniconda/envs/rmg_env/share/julia/site/packages/ReactionMechanismSimulator/mfVTj/src/Domain.jl:1635 declares type variable J but does not use it.\n",
      "WARNING: method definition for calcthermo at /work/westgroup/nora/miniconda/envs/rmg_env/share/julia/site/packages/ReactionMechanismSimulator/mfVTj/src/Domain.jl:1722 declares type variable J but does not use it.\n",
      "WARNING: method definition for calcthermo at /work/westgroup/nora/miniconda/envs/rmg_env/share/julia/site/packages/ReactionMechanismSimulator/mfVTj/src/Domain.jl:1801 declares type variable J but does not use it.\n",
      "WARNING: method definition for #calcdomainderivatives!#477 at /work/westgroup/nora/miniconda/envs/rmg_env/share/julia/site/packages/ReactionMechanismSimulator/mfVTj/src/Domain.jl:1839 declares type variable Y but does not use it.\n",
      "WARNING: method definition for #calcdomainderivatives!#477 at /work/westgroup/nora/miniconda/envs/rmg_env/share/julia/site/packages/ReactionMechanismSimulator/mfVTj/src/Domain.jl:1839 declares type variable W but does not use it.\n",
      "WARNING: method definition for #calcdomainderivatives!#478 at /work/westgroup/nora/miniconda/envs/rmg_env/share/julia/site/packages/ReactionMechanismSimulator/mfVTj/src/Domain.jl:1863 declares type variable Y but does not use it.\n",
      "WARNING: method definition for #calcdomainderivatives!#478 at /work/westgroup/nora/miniconda/envs/rmg_env/share/julia/site/packages/ReactionMechanismSimulator/mfVTj/src/Domain.jl:1863 declares type variable W but does not use it.\n",
      "WARNING: method definition for jacobianpnsderiv! at /work/westgroup/nora/miniconda/envs/rmg_env/share/julia/site/packages/ReactionMechanismSimulator/mfVTj/src/Domain.jl:3095 declares type variable Q3 but does not use it.\n",
      "WARNING: method definition for jacobianpnsderiv! at /work/westgroup/nora/miniconda/envs/rmg_env/share/julia/site/packages/ReactionMechanismSimulator/mfVTj/src/Domain.jl:3204 declares type variable Q3 but does not use it.\n",
      "WARNING: method definition for jacobianpnsderiv! at /work/westgroup/nora/miniconda/envs/rmg_env/share/julia/site/packages/ReactionMechanismSimulator/mfVTj/src/Domain.jl:3290 declares type variable Q3 but does not use it.\n",
      "WARNING: method definition for #Reactor#612 at /work/westgroup/nora/miniconda/envs/rmg_env/share/julia/site/packages/ReactionMechanismSimulator/mfVTj/src/Reactor.jl:255 declares type variable F but does not use it.\n",
      "WARNING: method definition for addreactionratecontributions! at /work/westgroup/nora/miniconda/envs/rmg_env/share/julia/site/packages/ReactionMechanismSimulator/mfVTj/src/Reactor.jl:448 declares type variable T but does not use it.\n",
      "WARNING: method definition for addreactionratecontributions! at /work/westgroup/nora/miniconda/envs/rmg_env/share/julia/site/packages/ReactionMechanismSimulator/mfVTj/src/Reactor.jl:492 declares type variable W2 but does not use it.\n",
      "WARNING: method definition for addreactionratecontributions! at /work/westgroup/nora/miniconda/envs/rmg_env/share/julia/site/packages/ReactionMechanismSimulator/mfVTj/src/Reactor.jl:492 declares type variable T but does not use it.\n",
      "WARNING: method definition for addreactionratecontributions! at /work/westgroup/nora/miniconda/envs/rmg_env/share/julia/site/packages/ReactionMechanismSimulator/mfVTj/src/Reactor.jl:539 declares type variable T but does not use it.\n",
      "WARNING: method definition for addreactionratecontributionsforwardreverse! at /work/westgroup/nora/miniconda/envs/rmg_env/share/julia/site/packages/ReactionMechanismSimulator/mfVTj/src/Reactor.jl:584 declares type variable T but does not use it.\n",
      "WARNING: method definition for jacobianyforwarddiff at /work/westgroup/nora/miniconda/envs/rmg_env/share/julia/site/packages/ReactionMechanismSimulator/mfVTj/src/Reactor.jl:772 declares type variable Q but does not use it.\n",
      "WARNING: method definition for jacobianpforwarddiff at /work/westgroup/nora/miniconda/envs/rmg_env/share/julia/site/packages/ReactionMechanismSimulator/mfVTj/src/Reactor.jl:824 declares type variable Q but does not use it.\n",
      "WARNING: method definition for sensg at /work/westgroup/nora/miniconda/envs/rmg_env/share/julia/site/packages/ReactionMechanismSimulator/mfVTj/src/Simulation.jl:552 declares type variable V but does not use it.\n",
      "WARNING: method definition for sensg at /work/westgroup/nora/miniconda/envs/rmg_env/share/julia/site/packages/ReactionMechanismSimulator/mfVTj/src/Simulation.jl:552 declares type variable Q but does not use it.\n",
      "WARNING: method definition for sensg at /work/westgroup/nora/miniconda/envs/rmg_env/share/julia/site/packages/ReactionMechanismSimulator/mfVTj/src/Simulation.jl:558 declares type variable V but does not use it.\n",
      "WARNING: method definition for sensg at /work/westgroup/nora/miniconda/envs/rmg_env/share/julia/site/packages/ReactionMechanismSimulator/mfVTj/src/Simulation.jl:558 declares type variable Q but does not use it.\n",
      "WARNING: method definition for sensg at /work/westgroup/nora/miniconda/envs/rmg_env/share/julia/site/packages/ReactionMechanismSimulator/mfVTj/src/Simulation.jl:564 declares type variable V but does not use it.\n",
      "WARNING: method definition for sensg at /work/westgroup/nora/miniconda/envs/rmg_env/share/julia/site/packages/ReactionMechanismSimulator/mfVTj/src/Simulation.jl:564 declares type variable Q but does not use it.\n",
      "WARNING: method definition for sensg at /work/westgroup/nora/miniconda/envs/rmg_env/share/julia/site/packages/ReactionMechanismSimulator/mfVTj/src/Simulation.jl:570 declares type variable V but does not use it.\n",
      "WARNING: method definition for sensg at /work/westgroup/nora/miniconda/envs/rmg_env/share/julia/site/packages/ReactionMechanismSimulator/mfVTj/src/Simulation.jl:570 declares type variable Q but does not use it.\n",
      "WARNING: method definition for g at /work/westgroup/nora/miniconda/envs/rmg_env/share/julia/site/packages/ReactionMechanismSimulator/mfVTj/src/Simulation.jl:577 declares type variable V but does not use it.\n",
      "WARNING: method definition for g at /work/westgroup/nora/miniconda/envs/rmg_env/share/julia/site/packages/ReactionMechanismSimulator/mfVTj/src/Simulation.jl:577 declares type variable Q but does not use it.\n",
      "WARNING: method definition for g at /work/westgroup/nora/miniconda/envs/rmg_env/share/julia/site/packages/ReactionMechanismSimulator/mfVTj/src/Simulation.jl:581 declares type variable V but does not use it.\n",
      "WARNING: method definition for g at /work/westgroup/nora/miniconda/envs/rmg_env/share/julia/site/packages/ReactionMechanismSimulator/mfVTj/src/Simulation.jl:581 declares type variable Q but does not use it.\n",
      "WARNING: method definition for g at /work/westgroup/nora/miniconda/envs/rmg_env/share/julia/site/packages/ReactionMechanismSimulator/mfVTj/src/Simulation.jl:585 declares type variable V but does not use it.\n",
      "WARNING: method definition for g at /work/westgroup/nora/miniconda/envs/rmg_env/share/julia/site/packages/ReactionMechanismSimulator/mfVTj/src/Simulation.jl:585 declares type variable Q but does not use it.\n",
      "WARNING: method definition for g at /work/westgroup/nora/miniconda/envs/rmg_env/share/julia/site/packages/ReactionMechanismSimulator/mfVTj/src/Simulation.jl:589 declares type variable V but does not use it.\n",
      "WARNING: method definition for g at /work/westgroup/nora/miniconda/envs/rmg_env/share/julia/site/packages/ReactionMechanismSimulator/mfVTj/src/Simulation.jl:589 declares type variable Q but does not use it.\n",
      "WARNING: method definition for g at /work/westgroup/nora/miniconda/envs/rmg_env/share/julia/site/packages/ReactionMechanismSimulator/mfVTj/src/Simulation.jl:644 declares type variable V but does not use it.\n",
      "WARNING: method definition for g at /work/westgroup/nora/miniconda/envs/rmg_env/share/julia/site/packages/ReactionMechanismSimulator/mfVTj/src/Simulation.jl:644 declares type variable Q but does not use it.\n",
      "WARNING: method definition for g at /work/westgroup/nora/miniconda/envs/rmg_env/share/julia/site/packages/ReactionMechanismSimulator/mfVTj/src/Simulation.jl:648 declares type variable V but does not use it.\n",
      "WARNING: method definition for g at /work/westgroup/nora/miniconda/envs/rmg_env/share/julia/site/packages/ReactionMechanismSimulator/mfVTj/src/Simulation.jl:648 declares type variable Q but does not use it.\n",
      "WARNING: method definition for g at /work/westgroup/nora/miniconda/envs/rmg_env/share/julia/site/packages/ReactionMechanismSimulator/mfVTj/src/Simulation.jl:652 declares type variable V but does not use it.\n",
      "WARNING: method definition for g at /work/westgroup/nora/miniconda/envs/rmg_env/share/julia/site/packages/ReactionMechanismSimulator/mfVTj/src/Simulation.jl:652 declares type variable Q but does not use it.\n",
      "WARNING: method definition for g at /work/westgroup/nora/miniconda/envs/rmg_env/share/julia/site/packages/ReactionMechanismSimulator/mfVTj/src/Simulation.jl:656 declares type variable V but does not use it.\n",
      "WARNING: method definition for g at /work/westgroup/nora/miniconda/envs/rmg_env/share/julia/site/packages/ReactionMechanismSimulator/mfVTj/src/Simulation.jl:656 declares type variable Q but does not use it.\n",
      "WARNING: method definition for #plotradicalrops#942 at /work/westgroup/nora/miniconda/envs/rmg_env/share/julia/site/packages/ReactionMechanismSimulator/mfVTj/src/Plotting.jl:371 declares type variable X but does not use it.\n",
      "WARNING: method definition for checkbounds at /work/westgroup/nora/miniconda/envs/rmg_env/share/julia/site/packages/Interpolations/y4lLj/src/Interpolations.jl:454 declares type variable N but does not use it.\n",
      "WARNING: method definition for checkbounds at /work/westgroup/nora/miniconda/envs/rmg_env/share/julia/site/packages/Interpolations/y4lLj/src/Interpolations.jl:457 declares type variable N but does not use it.\n",
      "WARNING: method definition for GriddedInterpolation at /work/westgroup/nora/miniconda/envs/rmg_env/share/julia/site/packages/Interpolations/y4lLj/src/gridded/gridded.jl:37 declares type variable pad but does not use it.\n",
      "WARNING: method definition for GriddedInterpolation at /work/westgroup/nora/miniconda/envs/rmg_env/share/julia/site/packages/Interpolations/y4lLj/src/gridded/gridded.jl:60 declares type variable pad but does not use it.\n",
      "WARNING: method definition for interpolate! at /work/westgroup/nora/miniconda/envs/rmg_env/share/julia/site/packages/Interpolations/y4lLj/src/deprecations.jl:30 declares type variable TWeights but does not use it.\n"
     ]
    },
    {
     "name": "stdout",
     "output_type": "stream",
     "text": [
      "This is the family reaction list before filtering aromatics: ['CO2_Elimination_From_Carboxylic_Acid']\n",
      "found a family\n",
      "O=C(O)[C](F)F <=> F[CH]F + O=C=O CO2_Elimination_From_Carboxylic_Acid\n"
     ]
    },
    {
     "data": {
      "text/html": [
       "<table style=\"width:100%;table-layout:fixed;\"><tr><th colspan=\"12\" style=\"color:green\">One RMG match for this reaction</th></tr><tr><th colspan=\"12\">Source Library: PFAS_HPL_Test/CO2_Elimination_From_Carboxylic_Acid_Rad/</th></tr><tr><td colspan=\"12\"><img src=\"data:image/png;base64,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\"></td></tr><tr><th colspan=\"6.0\">Reactant SMILES</th><td colspan=\"6.0\">O=C(O)[C](F)F</td></tr><tr><th colspan=\"6.0\">Product SMILES</th><td colspan=\"6.0\">F[CH]F + O=C=O</td></tr><tr><th colspan=\"6.0\">Matched Family</th><td colspan=\"6.0\">CO2_Elimination_From_Carboxylic_Acid</td></tr><tr><th colspan=\"6.0\">Matched Template</th><td colspan=\"6.0\">[]</td></tr><tr></tr><tr></tr><tr></table>"
      ],
      "text/plain": [
       "<IPython.core.display.HTML object>"
      ]
     },
     "metadata": {},
     "output_type": "display_data"
    },
    {
     "name": "stdout",
     "output_type": "stream",
     "text": [
      "[Species(label=\"CF3CFC(O)OH\", molecule=[Molecule(smiles=\"O=C(O)[C](F)C(F)(F)F\"), Molecule(smiles=\"[O]C(O)=C(F)C(F)(F)F\")], molecular_weight=(145.032,'amu'))] [Species(label=\"CF3CFH\", molecule=[Molecule(smiles=\"F[CH]C(F)(F)F\")], molecular_weight=(101.023,'amu')), Species(label=\"CO2\", molecule=[Molecule(smiles=\"O=C=O\")], molecular_weight=(44.0094,'amu'))]\n",
      "getting fam rxn list...\n",
      "This is the family reaction list before filtering aromatics: ['CO2_Elimination_From_Carboxylic_Acid']\n",
      "found a family\n",
      "O=C(O)[C](F)C(F)(F)F <=> F[CH]C(F)(F)F + O=C=O CO2_Elimination_From_Carboxylic_Acid\n"
     ]
    },
    {
     "data": {
      "text/html": [
       "<table style=\"width:100%;table-layout:fixed;\"><tr><th colspan=\"12\" style=\"color:green\">One RMG match for this reaction</th></tr><tr><th colspan=\"12\">Source Library: PFAS_HPL_Test/CO2_Elimination_From_Carboxylic_Acid_Rad/</th></tr><tr><td colspan=\"12\"><img src=\"data:image/png;base64,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\"></td></tr><tr><th colspan=\"6.0\">Reactant SMILES</th><td colspan=\"6.0\">O=C(O)[C](F)C(F)(F)F</td></tr><tr><th colspan=\"6.0\">Product SMILES</th><td colspan=\"6.0\">F[CH]C(F)(F)F + O=C=O</td></tr><tr><th colspan=\"6.0\">Matched Family</th><td colspan=\"6.0\">CO2_Elimination_From_Carboxylic_Acid</td></tr><tr><th colspan=\"6.0\">Matched Template</th><td colspan=\"6.0\">[]</td></tr><tr></tr><tr></tr><tr></table>"
      ],
      "text/plain": [
       "<IPython.core.display.HTML object>"
      ]
     },
     "metadata": {},
     "output_type": "display_data"
    },
    {
     "name": "stdout",
     "output_type": "stream",
     "text": [
      "[Species(label=\"CF3OCFC(O)OH\", molecule=[Molecule(smiles=\"O=C(O)[C](F)OC(F)(F)F\"), Molecule(smiles=\"[O]C(O)=C(F)OC(F)(F)F\")], molecular_weight=(161.032,'amu'))] [Species(label=\"CF3OCFH\", molecule=[Molecule(smiles=\"F[CH]OC(F)(F)F\")], molecular_weight=(117.022,'amu')), Species(label=\"CO2\", molecule=[Molecule(smiles=\"O=C=O\")], molecular_weight=(44.0094,'amu'))]\n",
      "getting fam rxn list...\n",
      "This is the family reaction list before filtering aromatics: ['CO2_Elimination_From_Carboxylic_Acid']\n",
      "found a family\n",
      "O=C(O)[C](F)OC(F)(F)F <=> F[CH]OC(F)(F)F + O=C=O CO2_Elimination_From_Carboxylic_Acid\n"
     ]
    },
    {
     "data": {
      "text/html": [
       "<table style=\"width:100%;table-layout:fixed;\"><tr><th colspan=\"12\" style=\"color:green\">One RMG match for this reaction</th></tr><tr><th colspan=\"12\">Source Library: PFAS_HPL_Test/CO2_Elimination_From_Carboxylic_Acid_Rad/</th></tr><tr><td colspan=\"12\"><img src=\"data:image/png;base64,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\"></td></tr><tr><th colspan=\"6.0\">Reactant SMILES</th><td colspan=\"6.0\">O=C(O)[C](F)OC(F)(F)F</td></tr><tr><th colspan=\"6.0\">Product SMILES</th><td colspan=\"6.0\">F[CH]OC(F)(F)F + O=C=O</td></tr><tr><th colspan=\"6.0\">Matched Family</th><td colspan=\"6.0\">CO2_Elimination_From_Carboxylic_Acid</td></tr><tr><th colspan=\"6.0\">Matched Template</th><td colspan=\"6.0\">[]</td></tr><tr></tr><tr></tr><tr></table>"
      ],
      "text/plain": [
       "<IPython.core.display.HTML object>"
      ]
     },
     "metadata": {},
     "output_type": "display_data"
    },
    {
     "name": "stdout",
     "output_type": "stream",
     "text": [
      "[Species(label=\"C2F5OCFC(O)OH\", molecule=[Molecule(smiles=\"O=C(O)[C](F)OC(F)(F)C(F)(F)F\"), Molecule(smiles=\"[O]C(O)=C(F)OC(F)(F)C(F)(F)F\")], molecular_weight=(211.039,'amu'))] [Species(label=\"C2F5OCFH\", molecule=[Molecule(smiles=\"F[CH]OC(F)(F)C(F)(F)F\")], molecular_weight=(167.03,'amu')), Species(label=\"CO2\", molecule=[Molecule(smiles=\"O=C=O\")], molecular_weight=(44.0094,'amu'))]\n",
      "getting fam rxn list...\n",
      "This is the family reaction list before filtering aromatics: ['CO2_Elimination_From_Carboxylic_Acid']\n",
      "found a family\n",
      "O=C(O)[C](F)OC(F)(F)C(F)(F)F <=> F[CH]OC(F)(F)C(F)(F)F + O=C=O CO2_Elimination_From_Carboxylic_Acid\n"
     ]
    },
    {
     "data": {
      "text/html": [
       "<table style=\"width:100%;table-layout:fixed;\"><tr><th colspan=\"12\" style=\"color:green\">One RMG match for this reaction</th></tr><tr><th colspan=\"12\">Source Library: PFAS_HPL_Test/CO2_Elimination_From_Carboxylic_Acid_Rad/</th></tr><tr><td colspan=\"12\"><img src=\"data:image/png;base64,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\"></td></tr><tr><th colspan=\"6.0\">Reactant SMILES</th><td colspan=\"6.0\">O=C(O)[C](F)OC(F)(F)C(F)(F)F</td></tr><tr><th colspan=\"6.0\">Product SMILES</th><td colspan=\"6.0\">F[CH]OC(F)(F)C(F)(F)F + O=C=O</td></tr><tr><th colspan=\"6.0\">Matched Family</th><td colspan=\"6.0\">CO2_Elimination_From_Carboxylic_Acid</td></tr><tr><th colspan=\"6.0\">Matched Template</th><td colspan=\"6.0\">[]</td></tr><tr></tr><tr></tr><tr></table>"
      ],
      "text/plain": [
       "<IPython.core.display.HTML object>"
      ]
     },
     "metadata": {},
     "output_type": "display_data"
    },
    {
     "name": "stdout",
     "output_type": "stream",
     "text": [
      "[Species(label=\"CH2C(O)OH\", molecule=[Molecule(smiles=\"[CH2]C(=O)O\"), Molecule(smiles=\"C=C([O])O\")], molecular_weight=(59.044,'amu'))] [Species(label=\"CH3\", molecule=[Molecule(smiles=\"[CH3]\")], molecular_weight=(15.0346,'amu')), Species(label=\"CO2\", molecule=[Molecule(smiles=\"O=C=O\")], molecular_weight=(44.0094,'amu'))]\n",
      "getting fam rxn list...\n",
      "This is the family reaction list before filtering aromatics: ['CO2_Elimination_From_Carboxylic_Acid']\n",
      "found a family\n",
      "[CH2]C(=O)O <=> [CH3] + O=C=O CO2_Elimination_From_Carboxylic_Acid\n"
     ]
    },
    {
     "data": {
      "text/html": [
       "<table style=\"width:100%;table-layout:fixed;\"><tr><th colspan=\"12\" style=\"color:green\">One RMG match for this reaction</th></tr><tr><th colspan=\"12\">Source Library: PFAS_HPL_Test/CO2_Elimination_From_Carboxylic_Acid_Rad/</th></tr><tr><td colspan=\"12\"><img src=\"data:image/png;base64,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\"></td></tr><tr><th colspan=\"6.0\">Reactant SMILES</th><td colspan=\"6.0\">[CH2]C(=O)O</td></tr><tr><th colspan=\"6.0\">Product SMILES</th><td colspan=\"6.0\">[CH3] + O=C=O</td></tr><tr><th colspan=\"6.0\">Matched Family</th><td colspan=\"6.0\">CO2_Elimination_From_Carboxylic_Acid</td></tr><tr><th colspan=\"6.0\">Matched Template</th><td colspan=\"6.0\">[]</td></tr><tr></tr><tr></tr><tr></table>"
      ],
      "text/plain": [
       "<IPython.core.display.HTML object>"
      ]
     },
     "metadata": {},
     "output_type": "display_data"
    },
    {
     "name": "stdout",
     "output_type": "stream",
     "text": [
      "[Species(label=\"CH3OCHC(O)OH\", molecule=[Molecule(smiles=\"CO[CH]C(=O)O\"), Molecule(smiles=\"COC=C([O])O\")], molecular_weight=(89.07,'amu'))] [Species(label=\"CH3OCH2\", molecule=[Molecule(smiles=\"[CH2]OC\")], molecular_weight=(45.0605,'amu')), Species(label=\"CO2\", molecule=[Molecule(smiles=\"O=C=O\")], molecular_weight=(44.0094,'amu'))]\n",
      "getting fam rxn list...\n",
      "This is the family reaction list before filtering aromatics: ['CO2_Elimination_From_Carboxylic_Acid']\n",
      "found a family\n",
      "CO[CH]C(=O)O <=> [CH2]OC + O=C=O CO2_Elimination_From_Carboxylic_Acid\n"
     ]
    },
    {
     "data": {
      "text/html": [
       "<table style=\"width:100%;table-layout:fixed;\"><tr><th colspan=\"12\" style=\"color:green\">One RMG match for this reaction</th></tr><tr><th colspan=\"12\">Source Library: PFAS_HPL_Test/CO2_Elimination_From_Carboxylic_Acid_Rad/</th></tr><tr><td colspan=\"12\"><img src=\"data:image/png;base64,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\"></td></tr><tr><th colspan=\"6.0\">Reactant SMILES</th><td colspan=\"6.0\">CO[CH]C(=O)O</td></tr><tr><th colspan=\"6.0\">Product SMILES</th><td colspan=\"6.0\">[CH2]OC + O=C=O</td></tr><tr><th colspan=\"6.0\">Matched Family</th><td colspan=\"6.0\">CO2_Elimination_From_Carboxylic_Acid</td></tr><tr><th colspan=\"6.0\">Matched Template</th><td colspan=\"6.0\">[]</td></tr><tr></tr><tr></tr><tr></table>"
      ],
      "text/plain": [
       "<IPython.core.display.HTML object>"
      ]
     },
     "metadata": {},
     "output_type": "display_data"
    },
    {
     "name": "stdout",
     "output_type": "stream",
     "text": [
      "[Species(label=\"C2H5OCHC(O)OH\", molecule=[Molecule(smiles=\"CCO[CH]C(=O)O\"), Molecule(smiles=\"CCOC=C([O])O\")], molecular_weight=(103.097,'amu'))] [Species(label=\"C2H5OCH2\", molecule=[Molecule(smiles=\"[CH2]OCC\")], molecular_weight=(59.0871,'amu')), Species(label=\"CO2\", molecule=[Molecule(smiles=\"O=C=O\")], molecular_weight=(44.0094,'amu'))]\n",
      "getting fam rxn list...\n",
      "This is the family reaction list before filtering aromatics: ['CO2_Elimination_From_Carboxylic_Acid']\n",
      "found a family\n",
      "CCO[CH]C(=O)O <=> [CH2]OCC + O=C=O CO2_Elimination_From_Carboxylic_Acid\n"
     ]
    },
    {
     "data": {
      "text/html": [
       "<table style=\"width:100%;table-layout:fixed;\"><tr><th colspan=\"12\" style=\"color:green\">One RMG match for this reaction</th></tr><tr><th colspan=\"12\">Source Library: PFAS_HPL_Test/CO2_Elimination_From_Carboxylic_Acid_Rad/</th></tr><tr><td colspan=\"12\"><img src=\"data:image/png;base64,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\"></td></tr><tr><th colspan=\"6.0\">Reactant SMILES</th><td colspan=\"6.0\">CCO[CH]C(=O)O</td></tr><tr><th colspan=\"6.0\">Product SMILES</th><td colspan=\"6.0\">[CH2]OCC + O=C=O</td></tr><tr><th colspan=\"6.0\">Matched Family</th><td colspan=\"6.0\">CO2_Elimination_From_Carboxylic_Acid</td></tr><tr><th colspan=\"6.0\">Matched Template</th><td colspan=\"6.0\">[]</td></tr><tr></tr><tr></tr><tr></table>"
      ],
      "text/plain": [
       "<IPython.core.display.HTML object>"
      ]
     },
     "metadata": {},
     "output_type": "display_data"
    }
   ],
   "source": [
    "master_dict, multiple_dict, lib_fam_rxn_dict = kinetics_library_to_training_tools_modified.process_reactions(database,\n",
    "                                               libraries,\n",
    "                                               list(database.kinetics.families.keys()),\n",
    "                                               compare_kinetics=compare_kinetics,\n",
    "                                               show_all=show_all,\n",
    "                                               filter_aromatic=filter_aromatic)"
   ]
  },
  {
   "cell_type": "code",
   "execution_count": 10,
   "metadata": {},
   "outputs": [
    {
     "name": "stdout",
     "output_type": "stream",
     "text": [
      "CO2_Elimination_From_Carboxylic_Acid 7\n"
     ]
    }
   ],
   "source": [
    "#let's get how many are matched: \n",
    "for family, matched_reactions in master_dict['PFAS_HPL_Test/CO2_Elimination_From_Carboxylic_Acid_Rad/'].items():\n",
    "    print(family, len(matched_reactions))"
   ]
  },
  {
   "cell_type": "code",
   "execution_count": null,
   "metadata": {
    "tags": []
   },
   "outputs": [],
   "source": [
    "reaction_dict = master_dict['PFAS_HPL']"
   ]
  },
  {
   "cell_type": "code",
   "execution_count": null,
   "metadata": {
    "scrolled": true,
    "tags": []
   },
   "outputs": [],
   "source": [
    "#these were the ones that were matched: \n",
    "matched_families = list(master_dict['PFAS_HPL'].keys())\n",
    "\n",
    "for fmly in matched_families: \n",
    "    family_name = fmly\n",
    "    analyze_per_family(family_name, lib_fam_rxn_dict, reaction_dict, database, compare_kinetics=False)\n",
    "    "
   ]
  },
  {
   "cell_type": "code",
   "execution_count": null,
   "metadata": {
    "scrolled": true,
    "tags": []
   },
   "outputs": [],
   "source": [
    "#these are the reactions that were unmatched\n",
    "unmatched, matched = kinetics_library_to_training_tools_modified.pick_out_unmatched_rxns(database, libraries, list(database.kinetics.families.keys()))\n"
   ]
  },
  {
   "cell_type": "code",
   "execution_count": null,
   "metadata": {
    "tags": []
   },
   "outputs": [],
   "source": [
    "print(len(matched), len(unmatched))"
   ]
  },
  {
   "cell_type": "code",
   "execution_count": null,
   "metadata": {
    "tags": []
   },
   "outputs": [],
   "source": [
    "full=12\n",
    "html=['<table style=\"width:100%;table-layout:fixed;\"><tr></tr>']\n",
    "\n",
    "\n",
    "for rxn in unmatched:\n",
    "    html += ['<tr><td>index: {2}</td><td colspan=\"{0}\"><img src=\"data:image/png;base64,{1}\" />'\n",
    "             '</td></tr>'.format(full, b64encode(rxn._repr_png_()).decode(), rxn.index)]\n",
    "display(HTML(''.join(html)))\n",
    "\n",
    "unmatched"
   ]
  },
  {
   "cell_type": "code",
   "execution_count": null,
   "metadata": {
    "tags": []
   },
   "outputs": [],
   "source": [
    "#which ones were not matched? \n",
    "new_families_list = ['Perfluoroalkene_Formation',\n",
    "            'CF_Radical_Formation_3',\n",
    "            'CF_Radical_Formation_2', \n",
    "            'CF_Radical_Formation_1', \n",
    "            'OF_Radical_Formation', \n",
    "            'Enol_Ether_Formation',\n",
    "            'Lactone_to_Perfluoroalkene', \n",
    "            'CO2_Elimination_From_Lactone', \n",
    "            'CO2_Elimination_From_Carboxylic_Acid', \n",
    "            'CO2_Elimination_From_Lactone_Ether', \n",
    "            'CO_Elimination_From_Lactone', \n",
    "            'CO_CF_bond_dissociation', \n",
    "            'PFAS_Hydrolysis', \n",
    "            'Lactone_Formation', \n",
    "            'CO2_Elimination_From_PFCA_Radical',\n",
    "            'Enol_Ether_Formation']\n",
    "\n",
    "missed = [x for x in new_families_list if x not in master_dict['PFAS_HPL'].keys()]\n",
    "missed"
   ]
  },
  {
   "cell_type": "code",
   "execution_count": null,
   "metadata": {},
   "outputs": [],
   "source": []
  },
  {
   "cell_type": "code",
   "execution_count": null,
   "metadata": {},
   "outputs": [],
   "source": []
  },
  {
   "cell_type": "code",
   "execution_count": null,
   "metadata": {},
   "outputs": [],
   "source": []
  },
  {
   "cell_type": "code",
   "execution_count": null,
   "metadata": {},
   "outputs": [],
   "source": [
    "#analyze for a specific family \n",
    "family_name = 'Lactone_Formation'\n",
    "analyze_per_family(family_name, lib_fam_rxn_dict, reaction_dict, database, compare_kinetics=False)"
   ]
  },
  {
   "cell_type": "markdown",
   "metadata": {},
   "source": [
    "## Step 2b (optional): Review and select reactions to be added"
   ]
  },
  {
   "cell_type": "code",
   "execution_count": 11,
   "metadata": {},
   "outputs": [
    {
     "name": "stdout",
     "output_type": "stream",
     "text": [
      "================================================================================\n",
      "The following reactions will be added to the indicated families.\n",
      "================================================================================\n",
      "Source Library: PFAS_HPL_Test/CO2_Elimination_From_Carboxylic_Acid_Rad/\n",
      "--------------------------------------------------------------------------------\n",
      "Destination Family: CO2_Elimination_From_Carboxylic_Acid\n",
      "\n",
      "Original Library Reaction: \n"
     ]
    },
    {
     "data": {
      "image/png": "[encoded data removed]",
      "text/plain": [
       "Reaction(index=0, reactants=[Species(label=\"O=C(O)[C](F)F\", molecule=[Molecule(smiles=\"O=C(O)[C](F)F\")], molecular_weight=(95.0249,'amu'))], products=[Species(label=\"F[CH]F\", molecule=[Molecule(smiles=\"F[CH]F\")], molecular_weight=(51.0154,'amu')), Species(label=\"O=C=O\", molecule=[Molecule(smiles=\"O=C=O\")], molecular_weight=(44.0094,'amu'))], kinetics=Arrhenius(A=(5.85e-12,'s^-1'), n=6.85, Ea=(32530.5,'cal/mol'), T0=(1,'K')))"
      ]
     },
     "metadata": {},
     "output_type": "display_data"
    },
    {
     "name": "stdout",
     "output_type": "stream",
     "text": [
      "Arrhenius(A=(5.85e-12,'s^-1'), n=6.85, Ea=(32530.5,'cal/mol'), T0=(1,'K'))\n",
      "\n",
      "Original Library Reaction: \n"
     ]
    },
    {
     "data": {
      "image/png": "[encoded data removed]",
      "text/plain": [
       "Reaction(index=1, reactants=[Species(label=\"O=C(O)[C](F)C(F)(F)F\", molecule=[Molecule(smiles=\"O=C(O)[C](F)C(F)(F)F\")], molecular_weight=(145.032,'amu'))], products=[Species(label=\"F[CH]C(F)(F)F\", molecule=[Molecule(smiles=\"F[CH]C(F)(F)F\")], molecular_weight=(101.023,'amu')), Species(label=\"O=C=O\", molecule=[Molecule(smiles=\"O=C=O\")], molecular_weight=(44.0094,'amu'))], kinetics=Arrhenius(A=(2.54e-21,'s^-1'), n=9.6, Ea=(27803.9,'cal/mol'), T0=(1,'K')))"
      ]
     },
     "metadata": {},
     "output_type": "display_data"
    },
    {
     "name": "stdout",
     "output_type": "stream",
     "text": [
      "Arrhenius(A=(2.54e-21,'s^-1'), n=9.6, Ea=(27803.9,'cal/mol'), T0=(1,'K'))\n",
      "\n",
      "Original Library Reaction: \n"
     ]
    },
    {
     "data": {
      "image/png": "[encoded data removed]",
      "text/plain": [
       "Reaction(index=2, reactants=[Species(label=\"O=C(O)[C](F)OC(F)(F)F\", molecule=[Molecule(smiles=\"O=C(O)[C](F)OC(F)(F)F\")], molecular_weight=(161.032,'amu'))], products=[Species(label=\"F[CH]OC(F)(F)F\", molecule=[Molecule(smiles=\"F[CH]OC(F)(F)F\")], molecular_weight=(117.022,'amu')), Species(label=\"O=C=O\", molecule=[Molecule(smiles=\"O=C=O\")], molecular_weight=(44.0094,'amu'))], kinetics=Arrhenius(A=(1.15e-12,'s^-1'), n=7.1, Ea=(32688.4,'cal/mol'), T0=(1,'K')))"
      ]
     },
     "metadata": {},
     "output_type": "display_data"
    },
    {
     "name": "stdout",
     "output_type": "stream",
     "text": [
      "Arrhenius(A=(1.15e-12,'s^-1'), n=7.1, Ea=(32688.4,'cal/mol'), T0=(1,'K'))\n",
      "\n",
      "Original Library Reaction: \n"
     ]
    },
    {
     "data": {
      "image/png": "[encoded data removed]",
      "text/plain": [
       "Reaction(index=3, reactants=[Species(label=\"O=C(O)[C](F)OC(F)(F)C(F)(F)F\", molecule=[Molecule(smiles=\"O=C(O)[C](F)OC(F)(F)C(F)(F)F\")], molecular_weight=(211.039,'amu'))], products=[Species(label=\"F[CH]OC(F)(F)C(F)(F)F\", molecule=[Molecule(smiles=\"F[CH]OC(F)(F)C(F)(F)F\")], molecular_weight=(167.03,'amu')), Species(label=\"O=C=O\", molecule=[Molecule(smiles=\"O=C=O\")], molecular_weight=(44.0094,'amu'))], kinetics=Arrhenius(A=(2.1e-13,'s^-1'), n=7.32, Ea=(32895.4,'cal/mol'), T0=(1,'K')))"
      ]
     },
     "metadata": {},
     "output_type": "display_data"
    },
    {
     "name": "stdout",
     "output_type": "stream",
     "text": [
      "Arrhenius(A=(2.1e-13,'s^-1'), n=7.32, Ea=(32895.4,'cal/mol'), T0=(1,'K'))\n",
      "\n",
      "Original Library Reaction: \n"
     ]
    },
    {
     "data": {
      "image/png": "[encoded data removed]",
      "text/plain": [
       "Reaction(index=4, reactants=[Species(label=\"[CH2]C(=O)O\", molecule=[Molecule(smiles=\"[CH2]C(=O)O\")], molecular_weight=(59.044,'amu'))], products=[Species(label=\"[CH3]\", molecule=[Molecule(smiles=\"[CH3]\")], molecular_weight=(15.0346,'amu')), Species(label=\"O=C=O\", molecule=[Molecule(smiles=\"O=C=O\")], molecular_weight=(44.0094,'amu'))], kinetics=Arrhenius(A=(2.38e-17,'s^-1'), n=8.39, Ea=(24346.7,'cal/mol'), T0=(1,'K')))"
      ]
     },
     "metadata": {},
     "output_type": "display_data"
    },
    {
     "name": "stdout",
     "output_type": "stream",
     "text": [
      "Arrhenius(A=(2.38e-17,'s^-1'), n=8.39, Ea=(24346.7,'cal/mol'), T0=(1,'K'))\n",
      "\n",
      "Original Library Reaction: \n"
     ]
    },
    {
     "data": {
      "image/png": "[encoded data removed]",
      "text/plain": [
       "Reaction(index=5, reactants=[Species(label=\"CO[CH]C(=O)O\", molecule=[Molecule(smiles=\"CO[CH]C(=O)O\")], molecular_weight=(89.07,'amu'))], products=[Species(label=\"[CH2]OC\", molecule=[Molecule(smiles=\"[CH2]OC\")], molecular_weight=(45.0605,'amu')), Species(label=\"O=C=O\", molecule=[Molecule(smiles=\"O=C=O\")], molecular_weight=(44.0094,'amu'))], kinetics=Arrhenius(A=(181000,'s^-1'), n=2.09, Ea=(42692.4,'cal/mol'), T0=(1,'K')))"
      ]
     },
     "metadata": {},
     "output_type": "display_data"
    },
    {
     "name": "stdout",
     "output_type": "stream",
     "text": [
      "Arrhenius(A=(181000,'s^-1'), n=2.09, Ea=(42692.4,'cal/mol'), T0=(1,'K'))\n",
      "\n",
      "Original Library Reaction: \n"
     ]
    },
    {
     "data": {
      "image/png": "[encoded data removed]",
      "text/plain": [
       "Reaction(index=6, reactants=[Species(label=\"CCO[CH]C(=O)O\", molecule=[Molecule(smiles=\"CCO[CH]C(=O)O\")], molecular_weight=(103.097,'amu'))], products=[Species(label=\"[CH2]OCC\", molecule=[Molecule(smiles=\"[CH2]OCC\")], molecular_weight=(59.0871,'amu')), Species(label=\"O=C=O\", molecule=[Molecule(smiles=\"O=C=O\")], molecular_weight=(44.0094,'amu'))], kinetics=Arrhenius(A=(1.36e+06,'s^-1'), n=1.81, Ea=(43859.2,'cal/mol'), T0=(1,'K')))"
      ]
     },
     "metadata": {},
     "output_type": "display_data"
    },
    {
     "name": "stdout",
     "output_type": "stream",
     "text": [
      "Arrhenius(A=(1.36e+06,'s^-1'), n=1.81, Ea=(43859.2,'cal/mol'), T0=(1,'K'))\n",
      "================================================================================\n",
      "All reactions reviewed.\n",
      "================================================================================\n"
     ]
    }
   ],
   "source": [
    "review_reactions(master_dict, prompt=False)"
   ]
  },
  {
   "cell_type": "markdown",
   "metadata": {},
   "source": [
    "## Step 2c (optional): Manual processing for reactions with multiple matches"
   ]
  },
  {
   "cell_type": "code",
   "execution_count": null,
   "metadata": {},
   "outputs": [],
   "source": [
    "manual_selection(master_dict, multiple_dict, database)"
   ]
  },
  {
   "cell_type": "markdown",
   "metadata": {},
   "source": [
    "## Step 2d: Final review of reactions to be added"
   ]
  },
  {
   "cell_type": "code",
   "execution_count": null,
   "metadata": {},
   "outputs": [],
   "source": [
    "review_reactions(master_dict, prompt=False)"
   ]
  },
  {
   "cell_type": "markdown",
   "metadata": {},
   "source": [
    "## Step 3: Write the new training reactions to the database"
   ]
  },
  {
   "cell_type": "code",
   "execution_count": 12,
   "metadata": {
    "tags": []
   },
   "outputs": [
    {
     "name": "stdout",
     "output_type": "stream",
     "text": [
      "Adding training reactions from PFAS_HPL_Test/CO2_Elimination_From_Carboxylic_Acid_Rad/ to CO2_Elimination_From_Carboxylic_Acid...\n",
      "Training depository previously had 0 rxns. Now adding 7 new rxn(s).\n"
     ]
    }
   ],
   "source": [
    "for library_name, reaction_dict in master_dict.items():\n",
    "    library = database.kinetics.libraries[library_name]\n",
    "    \n",
    "    for family_name, reaction_list in reaction_dict.items():\n",
    "        print('Adding training reactions from {0} to {1}...'.format(library_name, family_name))\n",
    "\n",
    "        family = database.kinetics.families[family_name]\n",
    "        try:\n",
    "            depository = family.get_training_depository()\n",
    "        except:\n",
    "            raise Exception('Unable to find training depository in {0}. Check that one exists.'.format(family_name))\n",
    "\n",
    "        print('Training depository previously had {} rxns. Now adding {} new rxn(s).'.format(len(depository.entries), len(reaction_list)))\n",
    "\n",
    "        ref_list = []\n",
    "        type_list = []\n",
    "        short_list = []\n",
    "        long_list = []\n",
    "        \n",
    "        for reaction in reaction_list:\n",
    "            # Get the original entry to retrieve metadata\n",
    "            orig_entry = library.entries[reaction.index]\n",
    "            short_desc = orig_entry.short_desc\n",
    "            long_desc = 'Training reaction from kinetics library: {0}\\nOriginal entry: {1}'.format(library_name, orig_entry.label)\n",
    "            if orig_entry.long_desc:\n",
    "                long_desc += '\\n' + orig_entry.long_desc\n",
    "            \n",
    "            ref_list.append(orig_entry.reference)\n",
    "            type_list.append(orig_entry.reference_type)\n",
    "            short_list.append(short_desc)\n",
    "            long_list.append(long_desc)\n",
    "            \n",
    "        family.save_training_reactions(\n",
    "            reaction_list,\n",
    "            reference=ref_list,\n",
    "            reference_type=type_list,\n",
    "            short_desc=short_list,\n",
    "            long_desc=long_list,\n",
    "        )"
   ]
  },
  {
   "cell_type": "markdown",
   "metadata": {},
   "source": [
    "## Why did the cell above add the species to the dictionaries without their atom labels???\n",
    "# Let's debug "
   ]
  },
  {
   "cell_type": "code",
   "execution_count": null,
   "metadata": {},
   "outputs": [],
   "source": [
    "#here are the reaction families that we modified. All have reactions that are added in as double. \n",
    "changed_families = ['Perfluoroalkene_Formation',\n",
    " 'CF_Radical_Formation_3',\n",
    " 'CF_Radical_Formation_2',\n",
    " 'CF_Radical_Formation_1',\n",
    " 'OF_Radical_Formation',\n",
    " 'Enol_Ether_Formation',\n",
    " 'Lactone_to_Perfluoroalkene',\n",
    " 'CO2_Elimination_From_Lactone',\n",
    " 'CO2_Elimination_From_Carboxylic_Acid',\n",
    " 'CO2_Elimination_From_Lactone_Ether',\n",
    " 'CO_Elimination_From_Lactone',\n",
    " 'CO_CF_bond_dissociation',\n",
    " 'PFAS_Hydrolysis',\n",
    " 'Lactone_Formation',\n",
    " 'CO2_Elimination_From_PFCA_Radical',\n",
    " '1+2_Cycloaddition',\n",
    " '1,2_Insertion_CO',\n",
    " #'1,2_Insertion_carbene',\n",
    " #'1,3_Insertion_CO2',\n",
    " '1,3_sigmatropic_rearrangement',\n",
    " #'F_Abstraction',\n",
    " # 'Intra_R_Add_Endocyclic',\n",
    " # 'R_Addition_COm',\n",
    " #'R_Addition_MultipleBond',\n",
    " 'R_Recombination',\n",
    "#  'Singlet_Carbene_Intra_Disproportionation',\n",
    " #'XY_Addition_MultipleBond',\n",
    " 'Enol_Ether_Formation',\n",
    " 'Perfluorinated_Alkyl_Rearrangement']"
   ]
  },
  {
   "cell_type": "markdown",
   "metadata": {},
   "source": [
    "R Recombination"
   ]
  },
  {
   "cell_type": "code",
   "execution_count": null,
   "metadata": {},
   "outputs": [],
   "source": [
    "#let's start with R recombination\n",
    "\n",
    "#I have just changed everything in R_recombination folder to its state in 7d283e194a19530e498a56106cc5e73dec02e3f4\n",
    "\n",
    "family_of_interest = 'R_Recombination'\n",
    "\n",
    "for library_name, reaction_dict in master_dict.items():\n",
    "    library = database.kinetics.libraries[library_name]\n",
    "    \n",
    "    for family_name, reaction_list in reaction_dict.items():\n",
    "        if family_name==family_of_interest:\n",
    "\n",
    "            print('Adding training reactions from {0} to {1}...'.format(library_name, family_name))\n",
    "\n",
    "            family = database.kinetics.families[family_name]\n",
    "            try:\n",
    "                depository = family.get_training_depository()\n",
    "            except:\n",
    "                raise Exception('Unable to find training depository in {0}. Check that one exists.'.format(family_name))\n",
    "\n",
    "            print('Training depository previously had {} rxns. Now adding {} new rxn(s).'.format(len(depository.entries), len(reaction_list)))\n",
    "\n",
    "            ref_list = []\n",
    "            type_list = []\n",
    "            short_list = []\n",
    "            long_list = []\n",
    "            \n",
    "            for reaction in reaction_list:\n",
    "                # Get the original entry to retrieve metadata\n",
    "                orig_entry = library.entries[reaction.index]\n",
    "                short_desc = orig_entry.short_desc\n",
    "                long_desc = 'Training reaction from kinetics library: {0}\\nOriginal entry: {1}'.format(library_name, orig_entry.label)\n",
    "                if orig_entry.long_desc:\n",
    "                    long_desc += '\\n' + orig_entry.long_desc\n",
    "                \n",
    "                ref_list.append(orig_entry.reference)\n",
    "                type_list.append(orig_entry.reference_type)\n",
    "                short_list.append(short_desc)\n",
    "                long_list.append(long_desc)\n",
    "                \n",
    "            family.save_training_reactions(\n",
    "                reaction_list,\n",
    "                reference=ref_list,\n",
    "                reference_type=type_list,\n",
    "                short_desc=short_list,\n",
    "                long_desc=long_list,\n",
    "                 )\n",
    "        else: \n",
    "            continue"
   ]
  },
  {
   "cell_type": "code",
   "execution_count": null,
   "metadata": {},
   "outputs": [],
   "source": [
    "#modified for R_recombination\n",
    "#my version of family.save_training_rxns\n",
    "# I changed the RMG-Py code to include this and then reran the cell above (which worked)\n",
    "\n",
    "from rmgpy.data.base import Database\n",
    "import os\n",
    "\n",
    "dictionary_path = '/Users/khalil.nor/Code/RMG-database/input/kinetics/families/R_Recombination/training/dictionary.txt'\n",
    "species_dict = Database().get_species(dictionary_path)\n",
    "\n",
    "\n",
    "training_path = os.path.join(settings['database.directory'], 'kinetics', 'families',\n",
    "                                     \"R_Recombination\", 'training')\n",
    "\n",
    "dictionary_path = os.path.join(training_path, 'dictionary.txt')\n",
    "\n",
    "species_dict = Database().get_species(dictionary_path)\n",
    "\n",
    "R_recomb_rxn_list = master_dict['PFAS_HPL']['R_Recombination']\n",
    "\n",
    "for rxn in R_recomb_rxn_list:\n",
    "    for new_spec in (rxn.reactants+rxn.products):\n",
    "        for ex_spec in species_dict.values(): \n",
    "            if ex_spec.molecule[0].get_formula() != new_spec.molecule[0].get_formula():\n",
    "                continue \n",
    "            else: #if they do have the same formula\n",
    "                spec_labeled_atoms = new_spec.molecule[0].get_all_labeled_atoms()\n",
    "                spcs_labels = sorted(spec_labeled_atoms.keys())\n",
    "                ex_spec_labeled_atoms = ex_spec.molecule[0].get_all_labeled_atoms()\n",
    "                ex_spcs_labels = sorted(ex_spec_labeled_atoms.keys())\n",
    "                if spcs_labels != ex_spcs_labels:\n",
    "                    # the species have different labels, therefore not a match\n",
    "                    continue\n",
    "                initial_map = {}\n",
    "                try: \n",
    "                    for atomLabel in spec_labeled_atoms:\n",
    "                        print(ex_spec.molecule[0].get_formula(),new_spec.molecule[0].get_formula(), atomLabel, spec_labeled_atoms, ex_spec_labeled_atoms)\n",
    "                        if isinstance(spec_labeled_atoms[atomLabel],list): #if the error with the R recomb stuff comes up\n",
    "                            list_of_labeled_atoms_spec = spec_labeled_atoms[atomLabel]\n",
    "                            sorted_spec_labeled_atoms = sorted(list_of_labeled_atoms_spec)\n",
    "                            list_of_labeled_atoms_ex_spec = ex_spec_labeled_atoms[atomLabel]\n",
    "                            sorted_ex_spec_labeled_atoms = sorted(list_of_labeled_atoms_ex_spec)\n",
    "                            if sorted_ex_spec_labeled_atoms==sorted_spec_labeled_atoms: #if the sorted species are the same\n",
    "                                #it's likely a match\n",
    "                                #just do isomorphic check with a modified initial map:\n",
    "                                initial_map[sorted_ex_spec_labeled_atoms[0]]= sorted_spec_labeled_atoms[0]\n",
    "                                initial_map[sorted_ex_spec_labeled_atoms[1]]= sorted_spec_labeled_atoms[1]\n",
    "                                # if new_spec.molecule[0].is_isomorphic(ex_spec.molecule[0], initial_map):\n",
    "                                #     new_spec.label = ex_spec.label\n",
    "                                #     print('already in here')\n",
    "                        else: #if it doesn't just proceed as normal\n",
    "                            initial_map[spec_labeled_atoms[atomLabel]] = ex_spec_labeled_atoms[atomLabel]\n",
    "                except KeyError:\n",
    "                    # Atom labels did not match, therefore not a match\n",
    "                    print('ppf')\n",
    "                    continue\n",
    "                if new_spec.molecule[0].is_isomorphic(ex_spec.molecule[0], initial_map):\n",
    "                    new_spec.label = ex_spec.label\n",
    "                    break\n",
    "        else:  # No isomorphic existing species found\n",
    "            spec_formula = new_spec.molecule[0].get_formula()\n",
    "            if spec_formula not in species_dict:\n",
    "                new_spec.label = spec_formula\n",
    "                print(f'added {new_spec.label}')\n",
    "            else: #modify the name\n",
    "                index = 2\n",
    "                while (spec_formula + '-{}'.format(index)) in species_dict:\n",
    "                    index += 1\n",
    "                new_spec.label = spec_formula + '-{}'.format(index)\n",
    "                print(f'added {new_spec.label} as -2')\n",
    "            #spec_to_be_added_in[spec.label] = spec\n",
    "            species_dict[new_spec.label] = new_spec\n"
   ]
  },
  {
   "cell_type": "markdown",
   "metadata": {},
   "source": []
  },
  {
   "cell_type": "code",
   "execution_count": null,
   "metadata": {},
   "outputs": [],
   "source": [
    "#let's check out the previous files before any of training reactions for new families were added in (1f8469e37380275855ea61228f0576944485668a)\n",
    "\n",
    "# previous families: \n",
    "\n",
    "#1,2_Insertion_Carbene  \n",
    "#F_Abstraction\n",
    "#'R_Addition_MultipleBond'\n",
    "#'XY_Addition_MultipleBond'\n",
    "# '1,3_Insertion_CO2'\n",
    "# 'Singlet_Carbene_Intra_Disproportionation',\n",
    "# Intra_R_Add_Endocyclic\n",
    "# R_Addition_COm\n",
    "# 1,2_Insertion_CO\n",
    "# 1+2_Cycloaddition\n",
    "# '1,3_sigmatropic_rearrangement\n",
    "\n",
    "#all reset to when they were retrained but before new families added. Commited on Aug 27th. \n",
    "\n",
    "\n",
    "\n"
   ]
  },
  {
   "cell_type": "markdown",
   "metadata": {},
   "source": [
    "After this reset, some of the previous families need to be retrained becuase the count of the matched training reactions changed after modifications to the RMG-database and RMG-Py \n",
    "* R recombination - on short \n",
    "* XY_Addition_Multiplebond \n",
    "* Singlet_carbene_intra_disp\n",
    "* 1+2_Cycloaddition\n",
    "* 1,3_sigmatropic_rearrangement"
   ]
  },
  {
   "cell_type": "code",
   "execution_count": null,
   "metadata": {},
   "outputs": [],
   "source": [
    "#XY_MultipleBond\n",
    "\n",
    "#first, resetting so it is back to before it was retrained at all. Had 44 reactions in reactions.py\n",
    "\n",
    "family_of_interest = 'XY_Addition_MultipleBond' #now we will be adding 10 reactions to this (previously 11 were added)\n",
    "\n",
    "for library_name, reaction_dict in master_dict.items():\n",
    "    library = database.kinetics.libraries[library_name]\n",
    "    \n",
    "    for family_name, reaction_list in reaction_dict.items():\n",
    "        if family_name==family_of_interest:\n",
    "\n",
    "            print('Adding training reactions from {0} to {1}...'.format(library_name, family_name))\n",
    "\n",
    "            family = database.kinetics.families[family_name]\n",
    "            try:\n",
    "                depository = family.get_training_depository()\n",
    "            except:\n",
    "                raise Exception('Unable to find training depository in {0}. Check that one exists.'.format(family_name))\n",
    "\n",
    "            print('Training depository previously had {} rxns. Now adding {} new rxn(s).'.format(len(depository.entries), len(reaction_list)))\n",
    "\n",
    "            ref_list = []\n",
    "            type_list = []\n",
    "            short_list = []\n",
    "            long_list = []\n",
    "            \n",
    "            for reaction in reaction_list:\n",
    "                # Get the original entry to retrieve metadata\n",
    "                orig_entry = library.entries[reaction.index]\n",
    "                short_desc = orig_entry.short_desc\n",
    "                long_desc = 'Training reaction from kinetics library: {0}\\nOriginal entry: {1}'.format(library_name, orig_entry.label)\n",
    "                if orig_entry.long_desc:\n",
    "                    long_desc += '\\n' + orig_entry.long_desc\n",
    "                \n",
    "                ref_list.append(orig_entry.reference)\n",
    "                type_list.append(orig_entry.reference_type)\n",
    "                short_list.append(short_desc)\n",
    "                long_list.append(long_desc)\n",
    "                \n",
    "            family.save_training_reactions(\n",
    "                reaction_list,\n",
    "                reference=ref_list,\n",
    "                reference_type=type_list,\n",
    "                short_desc=short_list,\n",
    "                long_desc=long_list,\n",
    "                 )\n",
    "        else: \n",
    "            continue\n",
    "\n",
    "#completed Aug 27th 12:33, now 10 PFAS rxns added instead of 11. WIll now retrain. \n",
    "\n",
    "#Retrained and pushed to github on Aug 27th \n"
   ]
  },
  {
   "cell_type": "code",
   "execution_count": null,
   "metadata": {},
   "outputs": [],
   "source": [
    "# 1,3_Insertion_CO2\n",
    "\n",
    "#first, resetting so it is back to before it was retrained at all. Did this manually. Had 4 reactions in it before any PFAS chemistry added. \n",
    "\n",
    "family_of_interest = '1,3_Insertion_CO2' #now we will be adding 10 reactions to this (previously 11 were added)\n",
    "\n",
    "for library_name, reaction_dict in master_dict.items():\n",
    "    library = database.kinetics.libraries[library_name]\n",
    "    \n",
    "    for family_name, reaction_list in reaction_dict.items():\n",
    "        if family_name==family_of_interest:\n",
    "\n",
    "            print('Adding training reactions from {0} to {1}...'.format(library_name, family_name))\n",
    "\n",
    "            family = database.kinetics.families[family_name]\n",
    "            try:\n",
    "                depository = family.get_training_depository()\n",
    "            except:\n",
    "                raise Exception('Unable to find training depository in {0}. Check that one exists.'.format(family_name))\n",
    "\n",
    "            print('Training depository previously had {} rxns. Now adding {} new rxn(s).'.format(len(depository.entries), len(reaction_list)))\n",
    "\n",
    "            ref_list = []\n",
    "            type_list = []\n",
    "            short_list = []\n",
    "            long_list = []\n",
    "            \n",
    "            for reaction in reaction_list:\n",
    "                # Get the original entry to retrieve metadata\n",
    "                orig_entry = library.entries[reaction.index]\n",
    "                short_desc = orig_entry.short_desc\n",
    "                long_desc = 'Training reaction from kinetics library: {0}\\nOriginal entry: {1}'.format(library_name, orig_entry.label)\n",
    "                if orig_entry.long_desc:\n",
    "                    long_desc += '\\n' + orig_entry.long_desc\n",
    "                \n",
    "                ref_list.append(orig_entry.reference)\n",
    "                type_list.append(orig_entry.reference_type)\n",
    "                short_list.append(short_desc)\n",
    "                long_list.append(long_desc)\n",
    "                \n",
    "            family.save_training_reactions(\n",
    "                reaction_list,\n",
    "                reference=ref_list,\n",
    "                reference_type=type_list,\n",
    "                short_desc=short_list,\n",
    "                long_desc=long_list,\n",
    "                 )\n",
    "        else: \n",
    "            continue\n",
    "\n",
    "#completed Aug 27th 1:18, now 11 PFAS rxns added instead of 9. WIll now retrain. \n",
    "#retraining completed Aug 27th. Pushed to github"
   ]
  }
 ],
 "metadata": {
  "anaconda-cloud": {},
  "kernelspec": {
   "display_name": "Python 3 (ipykernel)",
   "language": "python",
   "name": "python3"
  },
  "language_info": {
   "codemirror_mode": {
    "name": "ipython",
    "version": 3
   },
   "file_extension": ".py",
   "mimetype": "text/x-python",
   "name": "python",
   "nbconvert_exporter": "python",
   "pygments_lexer": "ipython3",
   "version": "3.7.16"
  }
 },
 "nbformat": 4,
 "nbformat_minor": 4
}
