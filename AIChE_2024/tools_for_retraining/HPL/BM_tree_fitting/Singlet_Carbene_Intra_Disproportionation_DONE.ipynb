{
 "cells": [
  {
   "cell_type": "code",
   "execution_count": 1,
   "metadata": {
    "scrolled": true
   },
   "outputs": [],
   "source": [
    "import rmgpy\n",
    "import numpy as np\n",
    "from rmgpy.molecule.molecule import *\n",
    "from rmgpy.species import *\n",
    "from rmgpy.chemkin import *\n",
    "from rmgpy.data.rmg import RMGDatabase\n",
    "from IPython.display import display\n",
    "from rmgpy.data.thermo import ThermoLibrary\n",
    "from rmgpy.rmg.react import react\n",
    "from rmgpy.species import Species\n",
    "from rmgpy.reaction import Reaction\n",
    "from rmgpy.data.rmg import get_db\n",
    "from rmgpy.molecule.group import Group\n",
    "from rmgpy.kinetics.arrhenius import ArrheniusBM\n",
    "from rmgpy import settings\n",
    "import time\n",
    "import matplotlib.pyplot as plt\n",
    "import matplotlib"
   ]
  },
  {
   "cell_type": "code",
   "execution_count": 2,
   "metadata": {},
   "outputs": [
    {
     "data": {
      "text/plain": [
       "{'database.directory': '/home/khalil.nor/Code/RMG-database/input',\n",
       " 'test_data.directory': '/home/khalil.nor/Code/RMG-Py/rmgpy/test_data'}"
      ]
     },
     "execution_count": 2,
     "metadata": {},
     "output_type": "execute_result"
    }
   ],
   "source": [
    "settings"
   ]
  },
  {
   "cell_type": "code",
   "execution_count": null,
   "metadata": {},
   "outputs": [],
   "source": [
    "#these families just had training rxns added to them \n",
    "\n",
    "#dict_keys(['1,2_Insertion_carbene', 'R_Addition_MultipleBond', 'XY_Addition_MultipleBond', 'Singlet_Carbene_Intra_Disproportionation', '1,2_Insertion_CO', '1+2_Cycloaddition', '1,3_Insertion_CO2', '1,3_sigmatropic_rearrangement'])"
   ]
  },
  {
   "cell_type": "code",
   "execution_count": 3,
   "metadata": {},
   "outputs": [],
   "source": [
    "thermo_libs = [\n",
    "'C1_C2_Fluorine', #adding Siddha's as first most trusted because this is the thermo library that Franklin used\n",
    "'NCSU_C2_C8_PFAS', #adding Westmoreland's thermo as the second most trusted\n",
    "'primaryThermoLibrary',\n",
    "'Fluorine',\n",
    "'FFCM1(-)',\n",
    "'halogens',\n",
    "'CHOF_G4',\n",
    "'CHOCl_G4',\n",
    "'CHOBr_G4',\n",
    "'CHOFCl_G4',\n",
    "'CHOFBr_G4',\n",
    "'CHOFClBr_G4',\n",
    "'DFT_QCI_thermo',\n",
    "'2-BTP_G4',\n",
    "'thermo_DFT_CCSDTF12_BAC',\n",
    "'SulfurHaynes'\n",
    "]\n",
    "\n",
    "kin_families = ['R_Recombination', '1,2_Insertion_carbene', 'F_Abstraction', 'R_Addition_MultipleBond', 'XY_Addition_MultipleBond', 'Singlet_Carbene_Intra_Disproportionation', 'Intra_R_Add_Endocyclic', 'R_Addition_COm', '1,2_Insertion_CO', '1+2_Cycloaddition', '1,3_Insertion_CO2', '1,3_sigmatropic_rearrangement']\n"
   ]
  },
  {
   "cell_type": "code",
   "execution_count": 4,
   "metadata": {
    "scrolled": true
   },
   "outputs": [],
   "source": [
    "database = RMGDatabase()\n",
    "database.load(\n",
    "            path = settings['database.directory'],\n",
    "            thermo_libraries = thermo_libs,\n",
    "            transport_libraries = [],\n",
    "            reaction_libraries = [],\n",
    "            seed_mechanisms = [],#['BurkeH2O2inN2','ERC-FoundationFuelv0.9'],\n",
    "            kinetics_families = kin_families,\n",
    "            kinetics_depositories = ['training'],\n",
    "            #frequenciesLibraries = self.statmechLibraries,\n",
    "            depository = False, # Don't bother loading the depository information, as we don't use it\n",
    "        )\n"
   ]
  },
  {
   "cell_type": "code",
   "execution_count": 6,
   "metadata": {},
   "outputs": [
    {
     "data": {
      "text/plain": [
       "{'1+2_Cycloaddition': <ReactionFamily \"1+2_Cycloaddition\">,\n",
       " '1,2_Insertion_CO': <ReactionFamily \"1,2_Insertion_CO\">,\n",
       " '1,2_Insertion_carbene': <ReactionFamily \"1,2_Insertion_carbene\">,\n",
       " '1,3_Insertion_CO2': <ReactionFamily \"1,3_Insertion_CO2\">,\n",
       " '1,3_sigmatropic_rearrangement': <ReactionFamily \"1,3_sigmatropic_rearrangement\">,\n",
       " 'F_Abstraction': <ReactionFamily \"F_Abstraction\">,\n",
       " 'Intra_R_Add_Endocyclic': <ReactionFamily \"Intra_R_Add_Endocyclic\">,\n",
       " 'R_Addition_COm': <ReactionFamily \"R_Addition_COm\">,\n",
       " 'R_Addition_MultipleBond': <ReactionFamily \"R_Addition_MultipleBond\">,\n",
       " 'R_Recombination': <ReactionFamily \"R_Recombination\">,\n",
       " 'Singlet_Carbene_Intra_Disproportionation': <ReactionFamily \"Singlet_Carbene_Intra_Disproportionation\">,\n",
       " 'XY_Addition_MultipleBond': <ReactionFamily \"XY_Addition_MultipleBond\">}"
      ]
     },
     "execution_count": 6,
     "metadata": {},
     "output_type": "execute_result"
    }
   ],
   "source": [
    "database.kinetics.families"
   ]
  },
  {
   "cell_type": "code",
   "execution_count": 7,
   "metadata": {},
   "outputs": [],
   "source": [
    "# 'Singlet_Carbene_Intra_Disproportionation' \n",
    "family_to_train = \"Singlet_Carbene_Intra_Disproportionation\"\n",
    "family = database.kinetics.families[family_to_train]"
   ]
  },
  {
   "cell_type": "code",
   "execution_count": 8,
   "metadata": {},
   "outputs": [],
   "source": [
    "family.clean_tree()"
   ]
  },
  {
   "cell_type": "code",
   "execution_count": 9,
   "metadata": {},
   "outputs": [
    {
     "name": "stderr",
     "output_type": "stream",
     "text": [
      "ERROR:root:10.0\n",
      "ERROR:root:iter_max achieved terminating early\n",
      "ERROR:root:iter_max achieved terminating early\n",
      "ERROR:root:iter_max achieved terminating early\n"
     ]
    },
    {
     "name": "stdout",
     "output_type": "stream",
     "text": [
      "173.4738233089447\n"
     ]
    }
   ],
   "source": [
    "start = time.time()\n",
    "family.generate_tree(thermo_database=database.thermo,\n",
    "                     nprocs=1,\n",
    "                     new_fraction_threshold_to_reopt_node=0.25,\n",
    "                     max_batch_size=800,\n",
    "                     extension_iter_max=2,\n",
    "                     extension_iter_item_cap=100)\n",
    "\n",
    "end = time.time()\n",
    "print(end-start)"
   ]
  },
  {
   "cell_type": "code",
   "execution_count": 10,
   "metadata": {},
   "outputs": [
    {
     "data": {
      "text/plain": [
       "17"
      ]
     },
     "execution_count": 10,
     "metadata": {},
     "output_type": "execute_result"
    }
   ],
   "source": [
    "len(family.groups.entries)"
   ]
  },
  {
   "cell_type": "code",
   "execution_count": 11,
   "metadata": {},
   "outputs": [
    {
     "data": {
      "text/plain": [
       "{'CH_C_unsaturated': <Entry index=-1 label=\"CH_C_unsaturated\">,\n",
       " 'Root': <Entry index=0 label=\"Root\">,\n",
       " 'Root_2Br1sCl1sF1sH->H': <Entry index=1 label=\"Root_2Br1sCl1sF1sH->H\">,\n",
       " 'Root_N-2Br1sCl1sF1sH->H': <Entry index=2 label=\"Root_N-2Br1sCl1sF1sH->H\">,\n",
       " 'Root_2Br1sCl1sF1sH->H_Ext-3C-R_4R!H->Br': <Entry index=3 label=\"Root_2Br1sCl1sF1sH->H_Ext-3C-R_4R!H->Br\">,\n",
       " 'Root_2Br1sCl1sF1sH->H_Ext-3C-R_N-4R!H->Br': <Entry index=4 label=\"Root_2Br1sCl1sF1sH->H_Ext-3C-R_N-4R!H->Br\">,\n",
       " 'Root_N-2Br1sCl1sF1sH->H_Ext-3C-R_Ext-1C-R_4R!H->C': <Entry index=5 label=\"Root_N-2Br1sCl1sF1sH->H_Ext-3C-R_Ext-1C-R_4R!H->C\">,\n",
       " 'Root_N-2Br1sCl1sF1sH->H_Ext-3C-R_Ext-1C-R_N-4R!H->C': <Entry index=6 label=\"Root_N-2Br1sCl1sF1sH->H_Ext-3C-R_Ext-1C-R_N-4R!H->C\">,\n",
       " 'Root_2Br1sCl1sF1sH->H_Ext-3C-R_N-4R!H->Br_4CClFINOPSSi->F': <Entry index=7 label=\"Root_2Br1sCl1sF1sH->H_Ext-3C-R_N-4R!H->Br_4CClFINOPSSi->F\">,\n",
       " 'Root_2Br1sCl1sF1sH->H_Ext-3C-R_N-4R!H->Br_N-4CClFINOPSSi->F': <Entry index=8 label=\"Root_2Br1sCl1sF1sH->H_Ext-3C-R_N-4R!H->Br_N-4CClFINOPSSi->F\">,\n",
       " 'Root_2Br1sCl1sF1sH->H_Ext-3C-R_N-4R!H->Br_N-4CClFINOPSSi->F_1C-inRing': <Entry index=9 label=\"Root_2Br1sCl1sF1sH->H_Ext-3C-R_N-4R!H->Br_N-4CClFINOPSSi->F_1C-inRing\">,\n",
       " 'Root_2Br1sCl1sF1sH->H_Ext-3C-R_N-4R!H->Br_N-4CClFINOPSSi->F_N-1C-inRing': <Entry index=10 label=\"Root_2Br1sCl1sF1sH->H_Ext-3C-R_N-4R!H->Br_N-4CClFINOPSSi->F_N-1C-inRing\">,\n",
       " 'Root_2Br1sCl1sF1sH->H_Ext-3C-R_N-4R!H->Br_N-4CClFINOPSSi->F_1C-inRing_Ext-4CCl-R_Ext-5R!H-R_Sp-5R!H-1C': <Entry index=11 label=\"Root_2Br1sCl1sF1sH->H_Ext-3C-R_N-4R!H->Br_N-4CClFINOPSSi->F_1C-inRing_Ext-4CCl-R_Ext-5R!H-R_Sp-5R!H-1C\">,\n",
       " 'Root_2Br1sCl1sF1sH->H_Ext-3C-R_N-4R!H->Br_N-4CClFINOPSSi->F_1C-inRing_Ext-4CCl-R_Ext-5R!H-R_N-Sp-5R!H-1C': <Entry index=12 label=\"Root_2Br1sCl1sF1sH->H_Ext-3C-R_N-4R!H->Br_N-4CClFINOPSSi->F_1C-inRing_Ext-4CCl-R_Ext-5R!H-R_N-Sp-5R!H-1C\">,\n",
       " 'Root_2Br1sCl1sF1sH->H_Ext-3C-R_N-4R!H->Br_N-4CClFINOPSSi->F_1C-inRing_Ext-4CCl-R_Ext-5R!H-R_Sp-5R!H-1C_Ext-5R!H-R_Ext-5R!H-R': <Entry index=13 label=\"Root_2Br1sCl1sF1sH->H_Ext-3C-R_N-4R!H->Br_N-4CClFINOPSSi->F_1C-inRing_Ext-4CCl-R_Ext-5R!H-R_Sp-5R!H-1C_Ext-5R!H-R_Ext-5R!H-R\">,\n",
       " 'Root_2Br1sCl1sF1sH->H_Ext-3C-R_N-4R!H->Br_N-4CClFINOPSSi->F_1C-inRing_Ext-4CCl-R_Ext-5R!H-R_N-Sp-5R!H-1C_Ext-5R!H-R_Ext-6R!H-R_Sp-6R!H-4CCl': <Entry index=14 label=\"Root_2Br1sCl1sF1sH->H_Ext-3C-R_N-4R!H->Br_N-4CClFINOPSSi->F_1C-inRing_Ext-4CCl-R_Ext-5R!H-R_N-Sp-5R!H-1C_Ext-5R!H-R_Ext-6R!H-R_Sp-6R!H-4CCl\">,\n",
       " 'Root_2Br1sCl1sF1sH->H_Ext-3C-R_N-4R!H->Br_N-4CClFINOPSSi->F_1C-inRing_Ext-4CCl-R_Ext-5R!H-R_N-Sp-5R!H-1C_Ext-5R!H-R_Ext-6R!H-R_N-Sp-6R!H-4CCl': <Entry index=15 label=\"Root_2Br1sCl1sF1sH->H_Ext-3C-R_N-4R!H->Br_N-4CClFINOPSSi->F_1C-inRing_Ext-4CCl-R_Ext-5R!H-R_N-Sp-5R!H-1C_Ext-5R!H-R_Ext-6R!H-R_N-Sp-6R!H-4CCl\">}"
      ]
     },
     "execution_count": 11,
     "metadata": {},
     "output_type": "execute_result"
    }
   ],
   "source": [
    "family.groups.entries"
   ]
  },
  {
   "cell_type": "code",
   "execution_count": 12,
   "metadata": {},
   "outputs": [
    {
     "name": "stdout",
     "output_type": "stream",
     "text": [
      "0.0009047985076904297\n"
     ]
    }
   ],
   "source": [
    "start = time.time()\n",
    "family.check_tree()\n",
    "end = time.time()\n",
    "print(end-start)"
   ]
  },
  {
   "cell_type": "code",
   "execution_count": 13,
   "metadata": {},
   "outputs": [
    {
     "name": "stdout",
     "output_type": "stream",
     "text": [
      "0.2708463668823242\n"
     ]
    }
   ],
   "source": [
    "start = time.time()\n",
    "family.regularize(thermo_database=database.thermo)\n",
    "end = time.time()\n",
    "print(end-start)"
   ]
  },
  {
   "cell_type": "code",
   "execution_count": 14,
   "metadata": {},
   "outputs": [
    {
     "name": "stdout",
     "output_type": "stream",
     "text": [
      "0.27899622917175293\n"
     ]
    }
   ],
   "source": [
    "start = time.time()\n",
    "templateRxnMap = family.get_reaction_matches(thermo_database=database.thermo,remove_degeneracy=True,\n",
    "                                             get_reverse=True,exact_matches_only=False,fix_labels=True)\n",
    "end = time.time()\n",
    "print(end-start)"
   ]
  },
  {
   "cell_type": "code",
   "execution_count": 15,
   "metadata": {},
   "outputs": [
    {
     "data": {
      "text/plain": [
       "17"
      ]
     },
     "execution_count": 15,
     "metadata": {},
     "output_type": "execute_result"
    }
   ],
   "source": [
    "len(templateRxnMap)"
   ]
  },
  {
   "cell_type": "code",
   "execution_count": 16,
   "metadata": {},
   "outputs": [],
   "source": [
    "family.clean_tree_rules()"
   ]
  },
  {
   "cell_type": "code",
   "execution_count": 17,
   "metadata": {},
   "outputs": [
    {
     "name": "stderr",
     "output_type": "stream",
     "text": [
      "/home/khalil.nor/Code/RMG-Py/rmgpy/data/kinetics/family.py:3639: VisibleDeprecationWarning: Creating an ndarray from ragged nested sequences (which is a list-or-tuple of lists-or-tuples-or ndarrays with different lengths or shapes) is deprecated. If you meant to do this, you must specify 'dtype=object' when creating the ndarray.\n",
      "  for rxns, label in rxnlists])\n",
      "/work/westgroup/nora/miniconda/envs/rmg_env/lib/python3.7/site-packages/scipy/optimize/minpack.py:834: OptimizeWarning: Covariance of the parameters could not be estimated\n",
      "  category=OptimizeWarning)\n",
      "/work/westgroup/nora/miniconda/envs/rmg_env/lib/python3.7/site-packages/numpy/core/fromnumeric.py:3441: RuntimeWarning: Mean of empty slice.\n",
      "  out=out, **kwargs)\n",
      "/work/westgroup/nora/miniconda/envs/rmg_env/lib/python3.7/site-packages/numpy/core/_methods.py:189: RuntimeWarning: invalid value encountered in double_scalars\n",
      "  ret = ret.dtype.type(ret / rcount)\n"
     ]
    },
    {
     "name": "stdout",
     "output_type": "stream",
     "text": [
      "0.3261549472808838\n"
     ]
    }
   ],
   "source": [
    "start = time.time()\n",
    "family.make_bm_rules_from_template_rxn_map(templateRxnMap)#,nprocs=6)\n",
    "end = time.time()\n",
    "print(end-start)"
   ]
  },
  {
   "cell_type": "code",
   "execution_count": 18,
   "metadata": {},
   "outputs": [
    {
     "name": "stdout",
     "output_type": "stream",
     "text": [
      "0.0031697750091552734\n"
     ]
    }
   ],
   "source": [
    "start = time.time()\n",
    "family.check_tree()\n",
    "end = time.time()\n",
    "print(end-start)"
   ]
  },
  {
   "cell_type": "code",
   "execution_count": 19,
   "metadata": {},
   "outputs": [
    {
     "name": "stdout",
     "output_type": "stream",
     "text": [
      "0.37302660942077637\n"
     ]
    }
   ],
   "source": [
    "start = time.time()\n",
    "errors,uncertainties = family.cross_validate(iters=0,random_state=5,folds=0,ascend=False)\n",
    "end = time.time()\n",
    "print(end-start)"
   ]
  },
  {
   "cell_type": "code",
   "execution_count": 20,
   "metadata": {},
   "outputs": [
    {
     "name": "stdout",
     "output_type": "stream",
     "text": [
      "/home/khalil.nor/Code/RMG-database/input/kinetics/families/Singlet_Carbene_Intra_Disproportionation\n"
     ]
    }
   ],
   "source": [
    "save_path = os.path.join(settings['database.directory'], 'kinetics', 'families', family.name)\n",
    "print(save_path)"
   ]
  },
  {
   "cell_type": "code",
   "execution_count": 21,
   "metadata": {},
   "outputs": [],
   "source": [
    "family.save(save_path)"
   ]
  },
  {
   "cell_type": "code",
   "execution_count": null,
   "metadata": {},
   "outputs": [],
   "source": []
  },
  {
   "cell_type": "code",
   "execution_count": null,
   "metadata": {},
   "outputs": [],
   "source": [
    "#ran to completion on May 7th, 6:48 pm"
   ]
  },
  {
   "cell_type": "code",
   "execution_count": null,
   "metadata": {},
   "outputs": [],
   "source": []
  },
  {
   "cell_type": "code",
   "execution_count": null,
   "metadata": {},
   "outputs": [],
   "source": []
  },
  {
   "cell_type": "code",
   "execution_count": null,
   "metadata": {},
   "outputs": [],
   "source": [
    "#let's see what the fit is like at the end nodes"
   ]
  },
  {
   "cell_type": "code",
   "execution_count": 1,
   "metadata": {},
   "outputs": [],
   "source": [
    "from rmgpy.kinetics.uncertainties import RateUncertainty\n",
    "import rmgpy\n",
    "import numpy as np\n",
    "from rmgpy.molecule.molecule import *\n",
    "from rmgpy.species import *\n",
    "from rmgpy.chemkin import *\n",
    "from rmgpy.data.rmg import RMGDatabase\n",
    "from IPython.display import display\n",
    "from rmgpy.data.thermo import ThermoLibrary\n",
    "from rmgpy.rmg.react import react\n",
    "from rmgpy.species import Species\n",
    "from rmgpy.reaction import Reaction\n",
    "from rmgpy.data.rmg import get_db\n",
    "from rmgpy.molecule.group import Group\n",
    "from rmgpy.kinetics.arrhenius import ArrheniusBM, Arrhenius\n",
    "from rmgpy import settings\n",
    "import time\n",
    "import matplotlib.pyplot as plt\n",
    "import matplotlib\n",
    "import rmgpy.constants as constants"
   ]
  },
  {
   "cell_type": "code",
   "execution_count": 2,
   "metadata": {},
   "outputs": [],
   "source": [
    "thermo_libs = [\n",
    "#'PFCA_thermo', this was not added for this family yet\n",
    "'C1_C2_Fluorine', #adding Siddha's as first most trusted because this is the thermo library that Franklin used\n",
    "'NCSU_C2_C8_PFAS', #adding Westmoreland's thermo as the second most trusted\n",
    "'primaryThermoLibrary',\n",
    "'Fluorine',\n",
    "'FFCM1(-)',\n",
    "'halogens',\n",
    "'CHOF_G4',\n",
    "'CHOCl_G4',\n",
    "'CHOBr_G4',\n",
    "'CHOFCl_G4',\n",
    "'CHOFBr_G4',\n",
    "'CHOFClBr_G4',\n",
    "'DFT_QCI_thermo',\n",
    "'2-BTP_G4',\n",
    "'thermo_DFT_CCSDTF12_BAC',\n",
    "'SulfurHaynes'\n",
    "]\n",
    "\n",
    "kin_families = [\"Singlet_Carbene_Intra_Disproportionation\"]\n",
    "\n",
    "database = RMGDatabase()\n",
    "database.load(\n",
    "            path = settings['database.directory'],\n",
    "            thermo_libraries = thermo_libs,\n",
    "            transport_libraries = [],\n",
    "            reaction_libraries = [],\n",
    "            seed_mechanisms = [],#['BurkeH2O2inN2','ERC-FoundationFuelv0.9'],\n",
    "            kinetics_families = kin_families,\n",
    "            kinetics_depositories = ['training'],\n",
    "            #frequenciesLibraries = self.statmechLibraries,\n",
    "            depository = False, # Don't bother loading the depository information, as we don't use it\n",
    "        )"
   ]
  },
  {
   "cell_type": "code",
   "execution_count": 3,
   "metadata": {},
   "outputs": [
    {
     "data": {
      "text/plain": [
       "{'Singlet_Carbene_Intra_Disproportionation': <ReactionFamily \"Singlet_Carbene_Intra_Disproportionation\">}"
      ]
     },
     "execution_count": 3,
     "metadata": {},
     "output_type": "execute_result"
    }
   ],
   "source": [
    "database.kinetics.families"
   ]
  },
  {
   "cell_type": "code",
   "execution_count": 4,
   "metadata": {},
   "outputs": [],
   "source": [
    "# \"Singlet_Carbene_Intra_Disproportionation\"\n",
    "family_to_train = \"Singlet_Carbene_Intra_Disproportionation\"\n",
    "family = database.kinetics.families[family_to_train]"
   ]
  },
  {
   "cell_type": "code",
   "execution_count": 5,
   "metadata": {},
   "outputs": [
    {
     "name": "stdout",
     "output_type": "stream",
     "text": [
      "186.59729194641113\n"
     ]
    }
   ],
   "source": [
    "start = time.time()\n",
    "templateRxnMap = family.get_reaction_matches(thermo_database=database.thermo,remove_degeneracy=True,\n",
    "                                             get_reverse=True,exact_matches_only=False,fix_labels=True)\n",
    "end = time.time()\n",
    "print(end-start)"
   ]
  },
  {
   "cell_type": "markdown",
   "metadata": {},
   "source": [
    "Let's look at some of the parent nodes (with 2 reactions) and their child nodes (with 1 reaction) to see how the fits compare"
   ]
  },
  {
   "cell_type": "code",
   "execution_count": 31,
   "metadata": {},
   "outputs": [],
   "source": [
    "n_2_mapping = [key for key, value in templateRxnMap.items() if len(value)==2] #mapping of all nodes with 3 or less training rxns (parents)\n",
    "n_1_mapping = [key for key, value in templateRxnMap.items() if len(value)==1] #mapping of all nodes with 1 training rxn (children)\n",
    "n_3_mapping = [key for key, value in templateRxnMap.items() if len(value)==3] \n",
    "parent_to_child = {}\n",
    "parent_to_child_3 = {}\n",
    "\n",
    "for label in n_2_mapping: \n",
    "    \n",
    "    #make the parent node\n",
    "    parent_node, _ = family.retrieve_original_entry(label)\n",
    "    \n",
    "    #now find the children with just 1 reaction\n",
    "    children_nodes = []\n",
    "    for test_label in n_1_mapping:\n",
    "        if label in test_label:\n",
    "            child_node, _ = family.retrieve_original_entry(test_label)\n",
    "            children_nodes.append(child_node)\n",
    "            \n",
    "    if len(templateRxnMap[label])==len(children_nodes): #let's pick out the ones that are both two\n",
    "        parent_to_child[parent_node.label] = [x.label for x in children_nodes]\n",
    "        \n",
    "for label in n_3_mapping: \n",
    "    \n",
    "    #make the parent node\n",
    "    parent_node, _ = family.retrieve_original_entry(label)\n",
    "    \n",
    "    #now find the children with just 1 reaction\n",
    "    children_nodes = []\n",
    "    for test_label in n_1_mapping:\n",
    "        if label in test_label:\n",
    "            child_node, _ = family.retrieve_original_entry(test_label)\n",
    "            children_nodes.append(child_node)\n",
    "            \n",
    "            \n",
    "    if len(templateRxnMap[label])==len(children_nodes): #let's pick out the ones that are both two\n",
    "        parent_to_child_3[parent_node.label] = [x.label for x in children_nodes]\n",
    "#parent_to_child is a dictionary where key = label of parent and value = label of children"
   ]
  },
  {
   "cell_type": "code",
   "execution_count": 35,
   "metadata": {},
   "outputs": [
    {
     "name": "stdout",
     "output_type": "stream",
     "text": [
      "[C]1C=CC=CC1 <=> C6H6-5\n",
      "[C]1C=CCC=C1 <=> C6H6-7\n",
      "yeah\n",
      "yeah\n",
      "1.61832e+16 1.6183152176610594e+16\n",
      "46689400000000.0 46689389908563.23\n",
      "1.61832e+16 s^-1 1.61832e+16 s^-1\n"
     ]
    },
    {
     "data": {
      "image/png": "[encoded data removed]",
      "text/plain": [
       "<Figure size 640x480 with 1 Axes>"
      ]
     },
     "metadata": {},
     "output_type": "display_data"
    }
   ],
   "source": [
    "%matplotlib inline\n",
    "temperatures = [ 300., 500.,  600.,  700. , 800.,  900., 1000., 1100., 1200., 1500., 2000.]\n",
    "inverse_temps = [1000/T for T in temperatures]\n",
    "\n",
    "\n",
    "\n",
    "for parent_label, children_labels in parent_to_child.items():\n",
    "    \n",
    "    training_rxns = templateRxnMap[parent_label] \n",
    "    for tr_rxn in training_rxns:\n",
    "        print(tr_rxn)\n",
    "    BM_entries = [family.retrieve_original_entry(label)[0].data for label in children_labels]\n",
    "\n",
    "    matches = []\n",
    "    matched_BM = []\n",
    "\n",
    "    for BM_kinetics in BM_entries:\n",
    "        for tr_rxn in training_rxns:\n",
    "            BM_str_of_float = re.search('([1-9]\\.?[0-9][0-9])', str(BM_kinetics.A.value_si)).group(1)\n",
    "            tr_str_of_float = re.search('([1-9]\\.?[0-9][0-9])', str(tr_rxn.kinetics.A.value_si)).group(1)\n",
    "            if BM_str_of_float==tr_str_of_float:\n",
    "            #if str(BM_kinetics.A.value_si)[0:4]==str(tr_rxn.kinetics.A.value_si)[0:4]:\n",
    "                print('yeah')\n",
    "                matches.append((Reaction(reactants=tr_rxn.reactants, products=tr_rxn.products, kinetics = BM_kinetics), tr_rxn))\n",
    "                matched_BM.append(BM_kinetics)\n",
    "    if len(matches)==0:\n",
    "        print(\"couldn't find any matches\")\n",
    "        continue\n",
    "        #skipping because the A's are probably very different\n",
    "        \n",
    "    #if you miss matching all of them\n",
    "    if len(matches)==1:\n",
    "        leftover_tr_rxn = [tr_rxn for tr_rxn in training_rxns if tr_rxn not in matches[0]][0]\n",
    "        leftover_BM_kinetics = [BM_kinetics for BM_kinetics in BM_entries if BM_kinetics not in matched_BM][0]\n",
    "        leftover_BM_reaction = Reaction(reactants=leftover_tr_rxn.reactants, products=leftover_tr_rxn.products, kinetics = leftover_BM_kinetics)\n",
    "        #print(leftover_BM_reaction.kinetics.A, leftover_tr_rxn.kinetics.A)\n",
    "        matches.append((leftover_BM_reaction, leftover_tr_rxn))\n",
    "\n",
    "    for (BM, tr) in matches: \n",
    "        print(str(BM.kinetics.A.value_si), str(tr.kinetics.A.value_si))\n",
    "        \n",
    "    child_node_1_BM_rxn, child_training_rxn_1= matches[0] \n",
    "    child_node_2_BM_rxn, child_training_rxn_2 = matches[1] \n",
    "    \n",
    "    #empty lists for collecting data\n",
    "    parent_node_rate_coefficients_1 = []\n",
    "    parent_node_rate_coefficients_2 = []\n",
    "\n",
    "    child_node_1_rate_coefficients = []\n",
    "    child_node_2_rate_coefficients = []\n",
    "\n",
    "    child_tr_rxn_coeffs_1 = []\n",
    "    child_tr_rxn_coeffs_2 = []\n",
    "    \n",
    "    #let's make the parent BM node\n",
    "    parent_node, _ = family.retrieve_original_entry(parent_label)\n",
    "    BM_parent_rxn = Reaction(kinetics = parent_node.data)\n",
    "\n",
    "    \n",
    "    #get the dHrxns \n",
    "    \n",
    "    dHrxn_1 = child_node_1_BM_rxn.get_enthalpy_of_reaction(298)\n",
    "    dHrxn_2 = child_node_2_BM_rxn.get_enthalpy_of_reaction(298)\n",
    "\n",
    "    \n",
    "    for temp in temperatures: \n",
    "        \n",
    "        #calculate training rxn rate\n",
    "        tr_rate_1 = child_training_rxn_1.kinetics.get_rate_coefficient(temp) #J/mol #loaded in as Arr training rxn from templateRxnMap\n",
    "        tr_rate_2 =child_training_rxn_2.kinetics.get_rate_coefficient(temp) #J/mol #loaded in as Arr training rxn from templateRxnMap\n",
    "\n",
    "        child_tr_rxn_coeffs_1.append(tr_rate_1)\n",
    "        child_tr_rxn_coeffs_2.append(tr_rate_2)\n",
    "        \n",
    "        #calculate BM child rates\n",
    "        BM_child_rate_1 = child_node_1_BM_rxn.kinetics.get_rate_coefficient(temp, dHrxn=dHrxn_1) #loaded in as BM kinetics \n",
    "        BM_child_rate_2 = child_node_2_BM_rxn.kinetics.get_rate_coefficient(temp, dHrxn=dHrxn_2) #loaded in as BM kinetics \n",
    "\n",
    "        child_node_1_rate_coefficients.append(BM_child_rate_1)\n",
    "        child_node_2_rate_coefficients.append(BM_child_rate_2)\n",
    "        \n",
    "        #calculate BM for parent node at both dHrxns for child rxns\n",
    "        BM_parent_node_rate_dH1 = BM_parent_rxn.kinetics.get_rate_coefficient(temp, dHrxn=dHrxn_1)\n",
    "        parent_node_rate_coefficients_1.append(BM_parent_node_rate_dH1)\n",
    "        BM_parent_node_rate_dH2 = BM_parent_rxn.kinetics.get_rate_coefficient(temp, dHrxn=dHrxn_2)\n",
    "        parent_node_rate_coefficients_2.append(BM_parent_node_rate_dH2)\n",
    "        \n",
    "    \n",
    "    #get lnks\n",
    "\n",
    "    parent_node_1 = [np.log(rate) for rate in parent_node_rate_coefficients_1]\n",
    "    parent_node_2 = [np.log(rate) for rate in parent_node_rate_coefficients_2]\n",
    "    child_node_1 = [np.log(rate) for rate in child_node_1_rate_coefficients]  \n",
    "    child_node_2 = [np.log(rate) for rate in child_node_2_rate_coefficients]\n",
    "    child_tr_1 = [np.log(rate) for rate in child_tr_rxn_coeffs_1]\n",
    "    child_tr_2 = [np.log(rate) for rate in child_tr_rxn_coeffs_2]\n",
    "\n",
    "\n",
    "    print(child_node_1_BM_rxn.kinetics.A, child_training_rxn_1.kinetics.A)\n",
    "    #plotting\n",
    "    plt.figure()   \n",
    "    plt.plot(inverse_temps, child_node_1, '-', c= 'r', label = 'child BM rxn 1')\n",
    "    plt.plot(inverse_temps, child_node_2, '-', c= 'g', label = 'child BM rxn 2')\n",
    "    plt.plot(inverse_temps, child_tr_1, 'o', c='r', label='child training rxn 1')\n",
    "    plt.plot(inverse_temps, child_tr_2, 'o', c='g', label='child training rxn 2')\n",
    "    plt.plot(inverse_temps, parent_node_1, ':', c='r', label = 'parent BM fit 1')   \n",
    "    plt.plot(inverse_temps, parent_node_2, ':', c='g', label = 'parent BM fit 2')   \n",
    "\n",
    "\n",
    "    plt.title(parent_label)\n",
    "    plt.xlabel('1000/T')\n",
    "    plt.ylabel('ln(k)')\n",
    "    plt.legend()\n",
    "    plt.show()"
   ]
  },
  {
   "cell_type": "code",
   "execution_count": 36,
   "metadata": {},
   "outputs": [],
   "source": [
    "#n = 4, node with 4 reactions\n",
    "%matplotlib inline\n",
    "temperatures = [ 300., 500.,  600.,  700. , 800.,  900., 1000., 1100., 1200., 1500., 2000.]\n",
    "inverse_temps = [1000/T for T in temperatures]\n",
    "\n",
    "\n",
    "\n",
    "for parent_label, children_labels in parent_to_child_4.items():\n",
    "    \n",
    "    training_rxns = templateRxnMap[parent_label] \n",
    "    for tr_rxn in training_rxns:\n",
    "        print(tr_rxn)\n",
    "    BM_entries = [family.retrieve_original_entry(label)[0].data for label in children_labels]\n",
    "\n",
    "    matches = []\n",
    "    matched_BM = []\n",
    "\n",
    "    for BM_kinetics in BM_entries:\n",
    "        for tr_rxn in training_rxns:\n",
    "            BM_str_of_float = re.search('([1-9]\\.?[0-9][0-9])', str(BM_kinetics.A.value_si)).group(1)\n",
    "            tr_str_of_float = re.search('([1-9]\\.?[0-9][0-9])', str(tr_rxn.kinetics.A.value_si)).group(1)\n",
    "            if BM_str_of_float==tr_str_of_float:\n",
    "                #print('yeah')\n",
    "                matches.append((Reaction(reactants=tr_rxn.reactants, products=tr_rxn.products, kinetics = BM_kinetics), tr_rxn))\n",
    "                matched_BM.append(BM_kinetics)\n",
    "    if len(matches)==0:\n",
    "        print(\"couldn't find any matches\")\n",
    "        continue\n",
    "        #skipping because the A's are probably very different\n",
    "        \n",
    "    #if you miss matching all of them\n",
    "    if len(matches)==1:\n",
    "        leftover_tr_rxn = [tr_rxn for tr_rxn in training_rxns if tr_rxn not in matches[0]][0]\n",
    "        leftover_BM_kinetics = [BM_kinetics for BM_kinetics in BM_entries if BM_kinetics not in matched_BM][0]\n",
    "        leftover_BM_reaction = Reaction(reactants=leftover_tr_rxn.reactants, products=leftover_tr_rxn.products, kinetics = leftover_BM_kinetics)\n",
    "        #print(leftover_BM_reaction.kinetics.A, leftover_tr_rxn.kinetics.A)\n",
    "        matches.append((leftover_BM_reaction, leftover_tr_rxn))\n",
    "\n",
    "\n",
    "    child_node_1_BM_rxn, child_training_rxn_1= matches[0] \n",
    "    child_node_2_BM_rxn, child_training_rxn_2 = matches[1] \n",
    "    child_node_3_BM_rxn, child_training_rxn_3= matches[2] \n",
    "    child_node_4_BM_rxn, child_training_rxn_4 = matches[3] \n",
    "    \n",
    "    #empty lists for collecting data\n",
    "    parent_node_rate_coefficients_1 = []\n",
    "    parent_node_rate_coefficients_2 = []\n",
    "    parent_node_rate_coefficients_3 = []\n",
    "    parent_node_rate_coefficients_4 = []\n",
    "\n",
    "    child_node_1_rate_coefficients = []\n",
    "    child_node_2_rate_coefficients = []\n",
    "    child_node_3_rate_coefficients = []\n",
    "    child_node_4_rate_coefficients = []\n",
    "\n",
    "    child_tr_rxn_coeffs_1 = []\n",
    "    child_tr_rxn_coeffs_2 = []\n",
    "    child_tr_rxn_coeffs_3 = []\n",
    "    child_tr_rxn_coeffs_4 = []\n",
    "    \n",
    "    #let's make the parent BM node\n",
    "    parent_node, _ = family.retrieve_original_entry(parent_label)\n",
    "    BM_parent_rxn = Reaction(kinetics = parent_node.data)\n",
    "\n",
    "    \n",
    "    #get the dHrxns \n",
    "    \n",
    "    dHrxn_1 = child_node_1_BM_rxn.get_enthalpy_of_reaction(298)\n",
    "    dHrxn_2 = child_node_2_BM_rxn.get_enthalpy_of_reaction(298)\n",
    "    dHrxn_3 = child_node_3_BM_rxn.get_enthalpy_of_reaction(298)\n",
    "    dHrxn_4 = child_node_4_BM_rxn.get_enthalpy_of_reaction(298)\n",
    "\n",
    "    \n",
    "    for temp in temperatures: \n",
    "        \n",
    "        #calculate training rxn rate\n",
    "        tr_rate_1 = child_training_rxn_1.kinetics.get_rate_coefficient(temp) #J/mol #loaded in as Arr training rxn from templateRxnMap\n",
    "        tr_rate_2 =child_training_rxn_2.kinetics.get_rate_coefficient(temp) #J/mol #loaded in as Arr training rxn from templateRxnMap\n",
    "        tr_rate_3 = child_training_rxn_3.kinetics.get_rate_coefficient(temp) #J/mol #loaded in as Arr training rxn from templateRxnMap\n",
    "        tr_rate_4 =child_training_rxn_4.kinetics.get_rate_coefficient(temp) #J/mol #loaded in as Arr training rxn from templateRxnMap\n",
    "\n",
    "        child_tr_rxn_coeffs_1.append(tr_rate_1)\n",
    "        child_tr_rxn_coeffs_2.append(tr_rate_2)\n",
    "        child_tr_rxn_coeffs_3.append(tr_rate_3)\n",
    "        child_tr_rxn_coeffs_4.append(tr_rate_4)\n",
    "        \n",
    "        #calculate BM child rates\n",
    "        BM_child_rate_1 = child_node_1_BM_rxn.kinetics.get_rate_coefficient(temp, dHrxn=dHrxn_1) #loaded in as BM kinetics \n",
    "        BM_child_rate_2 = child_node_2_BM_rxn.kinetics.get_rate_coefficient(temp, dHrxn=dHrxn_2) #loaded in as BM kinetics \n",
    "        BM_child_rate_3 = child_node_3_BM_rxn.kinetics.get_rate_coefficient(temp, dHrxn=dHrxn_3) #loaded in as BM kinetics \n",
    "        BM_child_rate_4 = child_node_4_BM_rxn.kinetics.get_rate_coefficient(temp, dHrxn=dHrxn_4) #loaded in as BM kinetics \n",
    "\n",
    "        child_node_1_rate_coefficients.append(BM_child_rate_1)\n",
    "        child_node_2_rate_coefficients.append(BM_child_rate_2)\n",
    "        child_node_3_rate_coefficients.append(BM_child_rate_3)\n",
    "        child_node_4_rate_coefficients.append(BM_child_rate_4)\n",
    "        \n",
    "        #calculate BM for parent node at both dHrxns for child rxns\n",
    "        BM_parent_node_rate_dH1 = BM_parent_rxn.kinetics.get_rate_coefficient(temp, dHrxn=dHrxn_1)\n",
    "        parent_node_rate_coefficients_1.append(BM_parent_node_rate_dH1)\n",
    "        BM_parent_node_rate_dH2 = BM_parent_rxn.kinetics.get_rate_coefficient(temp, dHrxn=dHrxn_2)\n",
    "        parent_node_rate_coefficients_2.append(BM_parent_node_rate_dH2)\n",
    "        BM_parent_node_rate_dH3 = BM_parent_rxn.kinetics.get_rate_coefficient(temp, dHrxn=dHrxn_3)\n",
    "        parent_node_rate_coefficients_3.append(BM_parent_node_rate_dH3)\n",
    "        BM_parent_node_rate_dH4 = BM_parent_rxn.kinetics.get_rate_coefficient(temp, dHrxn=dHrxn_4)\n",
    "        parent_node_rate_coefficients_4.append(BM_parent_node_rate_dH4)\n",
    "        \n",
    "    \n",
    "    #get lnks\n",
    "\n",
    "    parent_node_1 = [np.log(rate) for rate in parent_node_rate_coefficients_1]\n",
    "    parent_node_2 = [np.log(rate) for rate in parent_node_rate_coefficients_2]\n",
    "    parent_node_3 = [np.log(rate) for rate in parent_node_rate_coefficients_3]\n",
    "    parent_node_4 = [np.log(rate) for rate in parent_node_rate_coefficients_4]\n",
    "    \n",
    "    child_node_1 = [np.log(rate) for rate in child_node_1_rate_coefficients]  \n",
    "    child_node_2 = [np.log(rate) for rate in child_node_2_rate_coefficients]\n",
    "    child_node_3 = [np.log(rate) for rate in child_node_3_rate_coefficients]  \n",
    "    child_node_4 = [np.log(rate) for rate in child_node_4_rate_coefficients]\n",
    "    \n",
    "    child_tr_1 = [np.log(rate) for rate in child_tr_rxn_coeffs_1]\n",
    "    child_tr_2 = [np.log(rate) for rate in child_tr_rxn_coeffs_2]\n",
    "    child_tr_3 = [np.log(rate) for rate in child_tr_rxn_coeffs_3]\n",
    "    child_tr_4 = [np.log(rate) for rate in child_tr_rxn_coeffs_4]\n",
    "\n",
    "\n",
    "    print(child_node_1_BM_rxn.kinetics.A, child_training_rxn_1.kinetics.A)\n",
    "    #plotting\n",
    "    plt.figure()   \n",
    "    plt.plot(inverse_temps, child_node_1, '-', c= 'r', label = 'child BM rxn 1')\n",
    "    plt.plot(inverse_temps, child_node_2, '-', c= 'g', label = 'child BM rxn 2')\n",
    "    plt.plot(inverse_temps, child_node_3, '-', c= 'violet', label = 'child BM rxn 3')\n",
    "    plt.plot(inverse_temps, child_node_4, '-', c= 'b', label = 'child BM rxn 4')\n",
    "    \n",
    "    plt.plot(inverse_temps, child_tr_1, 'o', c='r', label='child training rxn 1')\n",
    "    plt.plot(inverse_temps, child_tr_2, 'o', c='g', label='child training rxn 2')\n",
    "    plt.plot(inverse_temps, child_tr_3, 'o', c='violet', label='child training rxn 3')\n",
    "    plt.plot(inverse_temps, child_tr_4, 'o', c='b', label='child training rxn 4')\n",
    "    \n",
    "    plt.plot(inverse_temps, parent_node_1, ':', c='r', label = 'parent BM fit 1')   \n",
    "    plt.plot(inverse_temps, parent_node_2, ':', c='g', label = 'parent BM fit 2')\n",
    "    plt.plot(inverse_temps, parent_node_3, ':', c='violet', label = 'parent BM fit 3')   \n",
    "    plt.plot(inverse_temps, parent_node_4, ':', c='b', label = 'parent BM fit 4')\n",
    "\n",
    "\n",
    "    plt.title(parent_label)\n",
    "    plt.xlabel('1000/T')\n",
    "    plt.ylabel('ln(k)')\n",
    "    plt.legend(loc=(1.1,0.8))\n",
    "    plt.show()"
   ]
  }
 ],
 "metadata": {
  "@webio": {
   "lastCommId": null,
   "lastKernelId": null
  },
  "kernelspec": {
   "display_name": "rmg_env",
   "language": "python",
   "name": "rmg_env"
  },
  "language_info": {
   "codemirror_mode": {
    "name": "ipython",
    "version": 3
   },
   "file_extension": ".py",
   "mimetype": "text/x-python",
   "name": "python",
   "nbconvert_exporter": "python",
   "pygments_lexer": "ipython3",
   "version": "3.7.16"
  }
 },
 "nbformat": 4,
 "nbformat_minor": 4
}
