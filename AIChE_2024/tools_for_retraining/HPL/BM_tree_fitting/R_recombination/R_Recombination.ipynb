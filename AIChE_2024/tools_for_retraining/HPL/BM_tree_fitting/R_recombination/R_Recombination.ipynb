{
 "cells": [
  {
   "cell_type": "code",
   "execution_count": 1,
   "metadata": {
    "scrolled": true
   },
   "outputs": [],
   "source": [
    "import rmgpy\n",
    "import numpy as np\n",
    "from rmgpy.molecule.molecule import *\n",
    "from rmgpy.species import *\n",
    "from rmgpy.chemkin import *\n",
    "from rmgpy.data.rmg import RMGDatabase\n",
    "from IPython.display import display\n",
    "from rmgpy.data.thermo import ThermoLibrary\n",
    "from rmgpy.rmg.react import react\n",
    "from rmgpy.species import Species\n",
    "from rmgpy.reaction import Reaction\n",
    "from rmgpy.data.rmg import get_db\n",
    "from rmgpy.molecule.group import Group\n",
    "from rmgpy.kinetics.arrhenius import ArrheniusBM\n",
    "from rmgpy import settings\n",
    "import time\n",
    "import matplotlib.pyplot as plt\n",
    "import matplotlib"
   ]
  },
  {
   "cell_type": "code",
   "execution_count": 2,
   "metadata": {},
   "outputs": [
    {
     "data": {
      "text/plain": [
       "{'database.directory': '/home/khalil.nor/Code/RMG-database/input',\n",
       " 'test_data.directory': '/home/khalil.nor/Code/RMG-Py/rmgpy/test_data'}"
      ]
     },
     "execution_count": 2,
     "metadata": {},
     "output_type": "execute_result"
    }
   ],
   "source": [
    "settings"
   ]
  },
  {
   "cell_type": "code",
   "execution_count": null,
   "metadata": {},
   "outputs": [],
   "source": [
    "#these families just had training rxns added to them \n",
    "\n",
    "#dict_keys(['1,2_Insertion_carbene', 'R_Addition_MultipleBond', 'XY_Addition_MultipleBond', 'Singlet_Carbene_Intra_Disproportionation', '1,2_Insertion_CO', '1+2_Cycloaddition', '1,3_Insertion_CO2', '1,3_sigmatropic_rearrangement'])"
   ]
  },
  {
   "cell_type": "code",
   "execution_count": 3,
   "metadata": {},
   "outputs": [],
   "source": [
    "thermo_libs = [\n",
    "'C1_C2_Fluorine', #adding Siddha's as first most trusted because this is the thermo library that Franklin used\n",
    "'NCSU_C2_C8_PFAS', #adding Westmoreland's thermo as the second most trusted\n",
    "'primaryThermoLibrary',\n",
    "'Fluorine',\n",
    "'FFCM1(-)',\n",
    "'halogens',\n",
    "'CHOF_G4',\n",
    "'CHOCl_G4',\n",
    "'CHOBr_G4',\n",
    "'CHOFCl_G4',\n",
    "'CHOFBr_G4',\n",
    "'CHOFClBr_G4',\n",
    "'DFT_QCI_thermo',\n",
    "'2-BTP_G4',\n",
    "'thermo_DFT_CCSDTF12_BAC',\n",
    "'SulfurHaynes'\n",
    "]\n",
    "\n",
    "kin_families = ['R_Recombination', '1,2_Insertion_carbene', 'F_Abstraction', 'R_Addition_MultipleBond', 'XY_Addition_MultipleBond', 'Singlet_Carbene_Intra_Disproportionation', 'Intra_R_Add_Endocyclic', 'R_Addition_COm', '1,2_Insertion_CO', '1+2_Cycloaddition', '1,3_Insertion_CO2', '1,3_sigmatropic_rearrangement']"
   ]
  },
  {
   "cell_type": "code",
   "execution_count": 4,
   "metadata": {
    "scrolled": true
   },
   "outputs": [],
   "source": [
    "database = RMGDatabase()\n",
    "database.load(\n",
    "            path = settings['database.directory'],\n",
    "            thermo_libraries = thermo_libs,\n",
    "            transport_libraries = [],\n",
    "            reaction_libraries = [],\n",
    "            seed_mechanisms = [],#['BurkeH2O2inN2','ERC-FoundationFuelv0.9'],\n",
    "            kinetics_families = kin_families,\n",
    "            kinetics_depositories = ['training'],\n",
    "            #frequenciesLibraries = self.statmechLibraries,\n",
    "            depository = False, # Don't bother loading the depository information, as we don't use it\n",
    "        )\n"
   ]
  },
  {
   "cell_type": "code",
   "execution_count": 5,
   "metadata": {},
   "outputs": [
    {
     "data": {
      "text/plain": [
       "{'1+2_Cycloaddition': <ReactionFamily \"1+2_Cycloaddition\">,\n",
       " '1,2_Insertion_CO': <ReactionFamily \"1,2_Insertion_CO\">,\n",
       " '1,2_Insertion_carbene': <ReactionFamily \"1,2_Insertion_carbene\">,\n",
       " '1,3_Insertion_CO2': <ReactionFamily \"1,3_Insertion_CO2\">,\n",
       " '1,3_sigmatropic_rearrangement': <ReactionFamily \"1,3_sigmatropic_rearrangement\">,\n",
       " 'F_Abstraction': <ReactionFamily \"F_Abstraction\">,\n",
       " 'Intra_R_Add_Endocyclic': <ReactionFamily \"Intra_R_Add_Endocyclic\">,\n",
       " 'R_Addition_COm': <ReactionFamily \"R_Addition_COm\">,\n",
       " 'R_Addition_MultipleBond': <ReactionFamily \"R_Addition_MultipleBond\">,\n",
       " 'R_Recombination': <ReactionFamily \"R_Recombination\">,\n",
       " 'Singlet_Carbene_Intra_Disproportionation': <ReactionFamily \"Singlet_Carbene_Intra_Disproportionation\">,\n",
       " 'XY_Addition_MultipleBond': <ReactionFamily \"XY_Addition_MultipleBond\">}"
      ]
     },
     "execution_count": 5,
     "metadata": {},
     "output_type": "execute_result"
    }
   ],
   "source": [
    "database.kinetics.families"
   ]
  },
  {
   "cell_type": "code",
   "execution_count": 6,
   "metadata": {},
   "outputs": [],
   "source": [
    "# 'R_Recombination' \n",
    "family_to_train = \"R_Recombination\"\n",
    "family = database.kinetics.families[family_to_train]"
   ]
  },
  {
   "cell_type": "code",
   "execution_count": 7,
   "metadata": {},
   "outputs": [],
   "source": [
    "family.clean_tree()"
   ]
  },
  {
   "cell_type": "code",
   "execution_count": null,
   "metadata": {},
   "outputs": [
    {
     "name": "stderr",
     "output_type": "stream",
     "text": [
      "WARNING:root:Cphigh is above the theoretical CpInf value for ThermoData object\n",
      "ThermoData(Tdata=([300,400,500,600,800,1000,1500],'K'), Cpdata=([137.768,160.122,175.836,187.866,204.429,214.362,222.779],'J/(mol*K)'), H298=(-1261.23,'kJ/mol'), S298=(402.766,'J/(mol*K)'), Cp0=(33.2579,'J/(mol*K)'), CpInf=(220.334,'J/(mol*K)'), comment=\"\"\"Thermo group additivity estimation: group(O2s-Cs(Cds-O2d)) + group(CsCFFO) + group(CsCsFFF) + longDistanceInteraction_noncyclic(Cs(F)3-Cs(F)2) + group(Cds-OdOsH) + radical((O)CJOC)\"\"\").\n",
      "The thermo for this species is probably wrong! Setting CpInf = Cphigh for Entropy calculationat T = 2000.0 K...\n",
      "WARNING:root:Cphigh is above the theoretical CpInf value for ThermoData object\n",
      "ThermoData(Tdata=([300,400,500,600,800,1000,1500],'K'), Cpdata=([137.768,160.122,175.836,187.866,204.429,214.362,222.779],'J/(mol*K)'), H298=(-1261.23,'kJ/mol'), S298=(402.766,'J/(mol*K)'), Cp0=(33.2579,'J/(mol*K)'), CpInf=(220.334,'J/(mol*K)'), comment=\"\"\"Thermo group additivity estimation: group(O2s-Cs(Cds-O2d)) + group(CsCFFO) + group(CsCsFFF) + longDistanceInteraction_noncyclic(Cs(F)3-Cs(F)2) + group(Cds-OdOsH) + radical((O)CJOC)\"\"\").\n",
      "The thermo for this species is probably wrong! Setting CpInf = Cphigh for Entropy calculationat T = 1666.6666666666665 K...\n",
      "WARNING:root:Cphigh is above the theoretical CpInf value for ThermoData object\n",
      "ThermoData(Tdata=([300,400,500,600,800,1000,1500],'K'), Cpdata=([133.883,155.55,173.376,188.387,210.872,224.909,241.381],'J/(mol*K)'), H298=(-1313.31,'kJ/mol'), S298=(422.435,'J/(mol*K)'), Cp0=(33.2579,'J/(mol*K)'), CpInf=(241.12,'J/(mol*K)'), comment=\"\"\"Thermo group additivity estimation: group(O2s-CsCs) + group(O2s-(Cds-O2d)H) + group(CsCFHO) + longDistanceInteraction_noncyclic(Cs(F)-CO) + group(CsFFFO) + group(Cds-OdCsOs) + radical(CsCOF1sO2s)\"\"\").\n",
      "The thermo for this species is probably wrong! Setting CpInf = Cphigh for Entropy calculationat T = 2000.0 K...\n",
      "WARNING:root:Cphigh is above the theoretical CpInf value for ThermoData object\n",
      "ThermoData(Tdata=([300,400,500,600,800,1000,1500],'K'), Cpdata=([133.883,155.55,173.376,188.387,210.872,224.909,241.381],'J/(mol*K)'), H298=(-1313.31,'kJ/mol'), S298=(422.435,'J/(mol*K)'), Cp0=(33.2579,'J/(mol*K)'), CpInf=(241.12,'J/(mol*K)'), comment=\"\"\"Thermo group additivity estimation: group(O2s-CsCs) + group(O2s-(Cds-O2d)H) + group(CsCFHO) + longDistanceInteraction_noncyclic(Cs(F)-CO) + group(CsFFFO) + group(Cds-OdCsOs) + radical(CsCOF1sO2s)\"\"\").\n",
      "The thermo for this species is probably wrong! Setting CpInf = Cphigh for Entropy calculationat T = 1666.6666666666665 K...\n",
      "WARNING:root:Cphigh is above the theoretical CpInf value for ThermoData object\n",
      "ThermoData(Tdata=([300,400,500,600,800,1000,1500],'K'), Cpdata=([182.969,211.846,232.552,247.934,268.604,281.111,291.938],'J/(mol*K)'), H298=(-1667.91,'kJ/mol'), S298=(473.279,'J/(mol*K)'), Cp0=(33.2579,'J/(mol*K)'), CpInf=(291.007,'J/(mol*K)'), comment=\"\"\"Thermo group additivity estimation: group(O2s-Cs(Cds-O2d)) + group(CsCsCsFF) + longDistanceInteraction_noncyclic(Cs(F)2-Cs(F)2) + group(CsCFFO) + longDistanceInteraction_noncyclic(Cs(F)2-Cs(F)2) + longDistanceInteraction_noncyclic(CsF2-CsF2-CsF2) + group(CsCsFFF) + longDistanceInteraction_noncyclic(Cs(F)3-Cs(F)2) + longDistanceInteraction_noncyclic(Cs(F)3-R-Cs(F)2) + group(Cds-OdOsH) + radical((O)CJOC)\"\"\").\n",
      "The thermo for this species is probably wrong! Setting CpInf = Cphigh for Entropy calculationat T = 2000.0 K...\n",
      "WARNING:root:Cphigh is above the theoretical CpInf value for ThermoData object\n",
      "ThermoData(Tdata=([300,400,500,600,800,1000,1500],'K'), Cpdata=([182.969,211.846,232.552,247.934,268.604,281.111,291.938],'J/(mol*K)'), H298=(-1667.91,'kJ/mol'), S298=(473.279,'J/(mol*K)'), Cp0=(33.2579,'J/(mol*K)'), CpInf=(291.007,'J/(mol*K)'), comment=\"\"\"Thermo group additivity estimation: group(O2s-Cs(Cds-O2d)) + group(CsCsCsFF) + longDistanceInteraction_noncyclic(Cs(F)2-Cs(F)2) + group(CsCFFO) + longDistanceInteraction_noncyclic(Cs(F)2-Cs(F)2) + longDistanceInteraction_noncyclic(CsF2-CsF2-CsF2) + group(CsCsFFF) + longDistanceInteraction_noncyclic(Cs(F)3-Cs(F)2) + longDistanceInteraction_noncyclic(Cs(F)3-R-Cs(F)2) + group(Cds-OdOsH) + radical((O)CJOC)\"\"\").\n",
      "The thermo for this species is probably wrong! Setting CpInf = Cphigh for Entropy calculationat T = 1666.6666666666665 K...\n",
      "WARNING:root:Cphigh is above the theoretical CpInf value for ThermoData object\n",
      "ThermoData(Tdata=([300,400,500,600,800,1000,1500],'K'), Cpdata=([181.904,211.978,234.778,253.306,279.954,296.244,312.575],'J/(mol*K)'), H298=(-1738.61,'kJ/mol'), S298=(487.312,'J/(mol*K)'), Cp0=(33.2579,'J/(mol*K)'), CpInf=(311.793,'J/(mol*K)'), comment=\"\"\"Thermo group additivity estimation: group(O2s-CsCs) + group(O2s-(Cds-O2d)H) + group(CsCFFO) + group(CsCFHO) + longDistanceInteraction_noncyclic(Cs(F)-CO) + group(CsCsFFF) + longDistanceInteraction_noncyclic(Cs(F)3-Cs(F)2) + group(Cds-OdCsOs) + radical(CsCOF1sO2s)\"\"\").\n",
      "The thermo for this species is probably wrong! Setting CpInf = Cphigh for Entropy calculationat T = 2000.0 K...\n",
      "WARNING:root:Cphigh is above the theoretical CpInf value for ThermoData object\n",
      "ThermoData(Tdata=([300,400,500,600,800,1000,1500],'K'), Cpdata=([181.904,211.978,234.778,253.306,279.954,296.244,312.575],'J/(mol*K)'), H298=(-1738.61,'kJ/mol'), S298=(487.312,'J/(mol*K)'), Cp0=(33.2579,'J/(mol*K)'), CpInf=(311.793,'J/(mol*K)'), comment=\"\"\"Thermo group additivity estimation: group(O2s-CsCs) + group(O2s-(Cds-O2d)H) + group(CsCFFO) + group(CsCFHO) + longDistanceInteraction_noncyclic(Cs(F)-CO) + group(CsCsFFF) + longDistanceInteraction_noncyclic(Cs(F)3-Cs(F)2) + group(Cds-OdCsOs) + radical(CsCOF1sO2s)\"\"\").\n",
      "The thermo for this species is probably wrong! Setting CpInf = Cphigh for Entropy calculationat T = 1666.6666666666665 K...\n",
      "ERROR:root:369.0\n",
      "ERROR:root:iter_max achieved terminating early\n",
      "ERROR:root:iter_max achieved terminating early\n",
      "ERROR:root:iter_max achieved terminating early\n",
      "ERROR:root:iter_max achieved terminating early\n",
      "ERROR:root:iter_max achieved terminating early\n",
      "ERROR:root:iter_max achieved terminating early\n",
      "ERROR:root:iter_max achieved terminating early\n",
      "ERROR:root:iter_max achieved terminating early\n",
      "ERROR:root:iter_max achieved terminating early\n",
      "ERROR:root:iter_max achieved terminating early\n",
      "ERROR:root:iter_max achieved terminating early\n",
      "ERROR:root:iter_max achieved terminating early\n",
      "ERROR:root:iter_max achieved terminating early\n"
     ]
    }
   ],
   "source": [
    "start = time.time()\n",
    "family.generate_tree(thermo_database=database.thermo,\n",
    "                     nprocs=1,\n",
    "                     new_fraction_threshold_to_reopt_node=0.25,\n",
    "                     max_batch_size=800,\n",
    "                     extension_iter_max=2,\n",
    "                     extension_iter_item_cap=100)\n",
    "\n",
    "end = time.time()\n",
    "print(end-start)"
   ]
  },
  {
   "cell_type": "code",
   "execution_count": 9,
   "metadata": {},
   "outputs": [
    {
     "data": {
      "text/plain": [
       "28"
      ]
     },
     "execution_count": 9,
     "metadata": {},
     "output_type": "execute_result"
    }
   ],
   "source": [
    "len(family.groups.entries)"
   ]
  },
  {
   "cell_type": "code",
   "execution_count": 10,
   "metadata": {
    "collapsed": true,
    "jupyter": {
     "outputs_hidden": true
    },
    "tags": []
   },
   "outputs": [
    {
     "data": {
      "text/plain": [
       "{'YC.=O': <Entry index=-1 label=\"YC.=O\">,\n",
       " 'Root': <Entry index=0 label=\"Root\">,\n",
       " 'Root_3R->O': <Entry index=1 label=\"Root_3R->O\">,\n",
       " 'Root_N-3R->O': <Entry index=2 label=\"Root_N-3R->O\">,\n",
       " 'Root_N-3R->O_3BrCClFHINPSSi->Br': <Entry index=3 label=\"Root_N-3R->O_3BrCClFHINPSSi->Br\">,\n",
       " 'Root_N-3R->O_N-3BrCClFHINPSSi->Br': <Entry index=4 label=\"Root_N-3R->O_N-3BrCClFHINPSSi->Br\">,\n",
       " 'Root_N-3R->O_N-3BrCClFHINPSSi->Br_3CClHS->Cl': <Entry index=5 label=\"Root_N-3R->O_N-3BrCClFHINPSSi->Br_3CClHS->Cl\">,\n",
       " 'Root_N-3R->O_N-3BrCClFHINPSSi->Br_N-3CClHS->Cl': <Entry index=6 label=\"Root_N-3R->O_N-3BrCClFHINPSSi->Br_N-3CClHS->Cl\">,\n",
       " 'Root_N-3R->O_N-3BrCClFHINPSSi->Br_N-3CClHS->Cl_3CHS-inRing': <Entry index=7 label=\"Root_N-3R->O_N-3BrCClFHINPSSi->Br_N-3CClHS->Cl_3CHS-inRing\">,\n",
       " 'Root_N-3R->O_N-3BrCClFHINPSSi->Br_N-3CClHS->Cl_N-3CHS-inRing': <Entry index=8 label=\"Root_N-3R->O_N-3BrCClFHINPSSi->Br_N-3CClHS->Cl_N-3CHS-inRing\">,\n",
       " 'Root_N-3R->O_N-3BrCClFHINPSSi->Br_N-3CClHS->Cl_3CHS-inRing_Ext-3CHS-R_4R!H->O': <Entry index=9 label=\"Root_N-3R->O_N-3BrCClFHINPSSi->Br_N-3CClHS->Cl_3CHS-inRing_Ext-3CHS-R_4R!H->O\">,\n",
       " 'Root_N-3R->O_N-3BrCClFHINPSSi->Br_N-3CClHS->Cl_3CHS-inRing_Ext-3CHS-R_N-4R!H->O': <Entry index=10 label=\"Root_N-3R->O_N-3BrCClFHINPSSi->Br_N-3CClHS->Cl_3CHS-inRing_Ext-3CHS-R_N-4R!H->O\">,\n",
       " 'Root_N-3R->O_N-3BrCClFHINPSSi->Br_N-3CClHS->Cl_N-3CHS-inRing_3CHS->S': <Entry index=11 label=\"Root_N-3R->O_N-3BrCClFHINPSSi->Br_N-3CClHS->Cl_N-3CHS-inRing_3CHS->S\">,\n",
       " 'Root_N-3R->O_N-3BrCClFHINPSSi->Br_N-3CClHS->Cl_N-3CHS-inRing_N-3CHS->S': <Entry index=12 label=\"Root_N-3R->O_N-3BrCClFHINPSSi->Br_N-3CClHS->Cl_N-3CHS-inRing_N-3CHS->S\">,\n",
       " 'Root_N-3R->O_N-3BrCClFHINPSSi->Br_N-3CClHS->Cl_N-3CHS-inRing_N-3CHS->S_Ext-3CH-R': <Entry index=13 label=\"Root_N-3R->O_N-3BrCClFHINPSSi->Br_N-3CClHS->Cl_N-3CHS-inRing_N-3CHS->S_Ext-3CH-R\">,\n",
       " 'Root_N-3R->O_N-3BrCClFHINPSSi->Br_N-3CClHS->Cl_N-3CHS-inRing_N-3CHS->S_3CH->C': <Entry index=14 label=\"Root_N-3R->O_N-3BrCClFHINPSSi->Br_N-3CClHS->Cl_N-3CHS-inRing_N-3CHS->S_3CH->C\">,\n",
       " 'Root_N-3R->O_N-3BrCClFHINPSSi->Br_N-3CClHS->Cl_N-3CHS-inRing_N-3CHS->S_N-3CH->C': <Entry index=15 label=\"Root_N-3R->O_N-3BrCClFHINPSSi->Br_N-3CClHS->Cl_N-3CHS-inRing_N-3CHS->S_N-3CH->C\">,\n",
       " 'Root_N-3R->O_N-3BrCClFHINPSSi->Br_N-3CClHS->Cl_N-3CHS-inRing_N-3CHS->S_Ext-3CH-R_Ext-4R!H-R': <Entry index=16 label=\"Root_N-3R->O_N-3BrCClFHINPSSi->Br_N-3CClHS->Cl_N-3CHS-inRing_N-3CHS->S_Ext-3CH-R_Ext-4R!H-R\">,\n",
       " 'Root_N-3R->O_N-3BrCClFHINPSSi->Br_N-3CClHS->Cl_N-3CHS-inRing_N-3CHS->S_Ext-3CH-R_Sp-4R!H=3CCHH': <Entry index=17 label=\"Root_N-3R->O_N-3BrCClFHINPSSi->Br_N-3CClHS->Cl_N-3CHS-inRing_N-3CHS->S_Ext-3CH-R_Sp-4R!H=3CCHH\">,\n",
       " 'Root_N-3R->O_N-3BrCClFHINPSSi->Br_N-3CClHS->Cl_N-3CHS-inRing_N-3CHS->S_Ext-3CH-R_N-Sp-4R!H=3CCHH': <Entry index=18 label=\"Root_N-3R->O_N-3BrCClFHINPSSi->Br_N-3CClHS->Cl_N-3CHS-inRing_N-3CHS->S_Ext-3CH-R_N-Sp-4R!H=3CCHH\">,\n",
       " 'Root_N-3R->O_N-3BrCClFHINPSSi->Br_N-3CClHS->Cl_N-3CHS-inRing_N-3CHS->S_Ext-3CH-R_Ext-4R!H-R_Ext-3CH-R': <Entry index=19 label=\"Root_N-3R->O_N-3BrCClFHINPSSi->Br_N-3CClHS->Cl_N-3CHS-inRing_N-3CHS->S_Ext-3CH-R_Ext-4R!H-R_Ext-3CH-R\">,\n",
       " 'Root_N-3R->O_N-3BrCClFHINPSSi->Br_N-3CClHS->Cl_N-3CHS-inRing_N-3CHS->S_Ext-3CH-R_Sp-4R!H=3CCHH_Ext-3CH-R': <Entry index=20 label=\"Root_N-3R->O_N-3BrCClFHINPSSi->Br_N-3CClHS->Cl_N-3CHS-inRing_N-3CHS->S_Ext-3CH-R_Sp-4R!H=3CCHH_Ext-3CH-R\">,\n",
       " 'Root_N-3R->O_N-3BrCClFHINPSSi->Br_N-3CClHS->Cl_N-3CHS-inRing_N-3CHS->S_Ext-3CH-R_N-Sp-4R!H=3CCHH_Ext-3CH-R': <Entry index=21 label=\"Root_N-3R->O_N-3BrCClFHINPSSi->Br_N-3CClHS->Cl_N-3CHS-inRing_N-3CHS->S_Ext-3CH-R_N-Sp-4R!H=3CCHH_Ext-3CH-R\">,\n",
       " 'Root_N-3R->O_N-3BrCClFHINPSSi->Br_N-3CClHS->Cl_N-3CHS-inRing_N-3CHS->S_Ext-3CH-R_Ext-4R!H-R_Ext-3CH-R_5R!H->O': <Entry index=22 label=\"Root_N-3R->O_N-3BrCClFHINPSSi->Br_N-3CClHS->Cl_N-3CHS-inRing_N-3CHS->S_Ext-3CH-R_Ext-4R!H-R_Ext-3CH-R_5R!H->O\">,\n",
       " 'Root_N-3R->O_N-3BrCClFHINPSSi->Br_N-3CClHS->Cl_N-3CHS-inRing_N-3CHS->S_Ext-3CH-R_Ext-4R!H-R_Ext-3CH-R_N-5R!H->O': <Entry index=23 label=\"Root_N-3R->O_N-3BrCClFHINPSSi->Br_N-3CClHS->Cl_N-3CHS-inRing_N-3CHS->S_Ext-3CH-R_Ext-4R!H-R_Ext-3CH-R_N-5R!H->O\">,\n",
       " 'Root_N-3R->O_N-3BrCClFHINPSSi->Br_N-3CClHS->Cl_N-3CHS-inRing_N-3CHS->S_Ext-3CH-R_N-Sp-4R!H=3CCHH_Ext-3CH-R_Ext-3CH-R': <Entry index=24 label=\"Root_N-3R->O_N-3BrCClFHINPSSi->Br_N-3CClHS->Cl_N-3CHS-inRing_N-3CHS->S_Ext-3CH-R_N-Sp-4R!H=3CCHH_Ext-3CH-R_Ext-3CH-R\">,\n",
       " 'Root_N-3R->O_N-3BrCClFHINPSSi->Br_N-3CClHS->Cl_N-3CHS-inRing_N-3CHS->S_Ext-3CH-R_Ext-4R!H-R_Ext-3CH-R_N-5R!H->O_5CF->C': <Entry index=25 label=\"Root_N-3R->O_N-3BrCClFHINPSSi->Br_N-3CClHS->Cl_N-3CHS-inRing_N-3CHS->S_Ext-3CH-R_Ext-4R!H-R_Ext-3CH-R_N-5R!H->O_5CF->C\">,\n",
       " 'Root_N-3R->O_N-3BrCClFHINPSSi->Br_N-3CClHS->Cl_N-3CHS-inRing_N-3CHS->S_Ext-3CH-R_Ext-4R!H-R_Ext-3CH-R_N-5R!H->O_N-5CF->C': <Entry index=26 label=\"Root_N-3R->O_N-3BrCClFHINPSSi->Br_N-3CClHS->Cl_N-3CHS-inRing_N-3CHS->S_Ext-3CH-R_Ext-4R!H-R_Ext-3CH-R_N-5R!H->O_N-5CF->C\">}"
      ]
     },
     "execution_count": 10,
     "metadata": {},
     "output_type": "execute_result"
    }
   ],
   "source": [
    "family.groups.entries"
   ]
  },
  {
   "cell_type": "code",
   "execution_count": 11,
   "metadata": {},
   "outputs": [
    {
     "name": "stdout",
     "output_type": "stream",
     "text": [
      "0.002315044403076172\n"
     ]
    }
   ],
   "source": [
    "start = time.time()\n",
    "family.check_tree()\n",
    "end = time.time()\n",
    "print(end-start)"
   ]
  },
  {
   "cell_type": "code",
   "execution_count": 12,
   "metadata": {},
   "outputs": [
    {
     "name": "stdout",
     "output_type": "stream",
     "text": [
      "1.0400974750518799\n"
     ]
    }
   ],
   "source": [
    "start = time.time()\n",
    "family.regularize(thermo_database=database.thermo)\n",
    "end = time.time()\n",
    "print(end-start)"
   ]
  },
  {
   "cell_type": "code",
   "execution_count": 13,
   "metadata": {},
   "outputs": [
    {
     "name": "stdout",
     "output_type": "stream",
     "text": [
      "1.0586326122283936\n"
     ]
    }
   ],
   "source": [
    "start = time.time()\n",
    "templateRxnMap = family.get_reaction_matches(thermo_database=database.thermo,remove_degeneracy=True,\n",
    "                                             get_reverse=True,exact_matches_only=False,fix_labels=True)\n",
    "end = time.time()\n",
    "print(end-start)"
   ]
  },
  {
   "cell_type": "code",
   "execution_count": 14,
   "metadata": {},
   "outputs": [
    {
     "data": {
      "text/plain": [
       "28"
      ]
     },
     "execution_count": 14,
     "metadata": {},
     "output_type": "execute_result"
    }
   ],
   "source": [
    "len(templateRxnMap)"
   ]
  },
  {
   "cell_type": "code",
   "execution_count": 15,
   "metadata": {},
   "outputs": [],
   "source": [
    "family.clean_tree_rules()"
   ]
  },
  {
   "cell_type": "code",
   "execution_count": 16,
   "metadata": {},
   "outputs": [
    {
     "name": "stderr",
     "output_type": "stream",
     "text": [
      "/home/khalil.nor/Code/RMG-Py/rmgpy/data/kinetics/family.py:3639: VisibleDeprecationWarning: Creating an ndarray from ragged nested sequences (which is a list-or-tuple of lists-or-tuples-or ndarrays with different lengths or shapes) is deprecated. If you meant to do this, you must specify 'dtype=object' when creating the ndarray.\n",
      "  for rxns, label in rxnlists])\n",
      "/work/westgroup/nora/miniconda/envs/rmg_env/lib/python3.7/site-packages/scipy/optimize/minpack.py:834: OptimizeWarning: Covariance of the parameters could not be estimated\n",
      "  category=OptimizeWarning)\n",
      "/work/westgroup/nora/miniconda/envs/rmg_env/lib/python3.7/site-packages/numpy/core/fromnumeric.py:3441: RuntimeWarning: Mean of empty slice.\n",
      "  out=out, **kwargs)\n",
      "/work/westgroup/nora/miniconda/envs/rmg_env/lib/python3.7/site-packages/numpy/core/_methods.py:189: RuntimeWarning: invalid value encountered in double_scalars\n",
      "  ret = ret.dtype.type(ret / rcount)\n"
     ]
    },
    {
     "name": "stdout",
     "output_type": "stream",
     "text": [
      "1.2022929191589355\n"
     ]
    }
   ],
   "source": [
    "start = time.time()\n",
    "family.make_bm_rules_from_template_rxn_map(templateRxnMap)#,nprocs=6)\n",
    "end = time.time()\n",
    "print(end-start)"
   ]
  },
  {
   "cell_type": "code",
   "execution_count": 17,
   "metadata": {},
   "outputs": [
    {
     "name": "stdout",
     "output_type": "stream",
     "text": [
      "0.004838705062866211\n"
     ]
    }
   ],
   "source": [
    "start = time.time()\n",
    "family.check_tree()\n",
    "end = time.time()\n",
    "print(end-start)"
   ]
  },
  {
   "cell_type": "code",
   "execution_count": 18,
   "metadata": {},
   "outputs": [
    {
     "name": "stdout",
     "output_type": "stream",
     "text": [
      "1.2706375122070312\n"
     ]
    },
    {
     "name": "stderr",
     "output_type": "stream",
     "text": [
      "/work/westgroup/nora/miniconda/envs/rmg_env/lib/python3.7/site-packages/scipy/optimize/minpack.py:834: OptimizeWarning: Covariance of the parameters could not be estimated\n",
      "  category=OptimizeWarning)\n"
     ]
    }
   ],
   "source": [
    "start = time.time()\n",
    "errors,uncertainties = family.cross_validate(iters=0,random_state=5,folds=0,ascend=False)\n",
    "end = time.time()\n",
    "print(end-start)"
   ]
  },
  {
   "cell_type": "code",
   "execution_count": 19,
   "metadata": {},
   "outputs": [
    {
     "name": "stdout",
     "output_type": "stream",
     "text": [
      "/home/khalil.nor/Code/RMG-database/input/kinetics/families/R_Addition_COm\n"
     ]
    }
   ],
   "source": [
    "save_path = os.path.join(settings['database.directory'], 'kinetics', 'families', family.name)\n",
    "print(save_path)"
   ]
  },
  {
   "cell_type": "code",
   "execution_count": 20,
   "metadata": {},
   "outputs": [],
   "source": [
    "family.save(save_path)"
   ]
  },
  {
   "cell_type": "code",
   "execution_count": null,
   "metadata": {},
   "outputs": [],
   "source": []
  },
  {
   "cell_type": "code",
   "execution_count": null,
   "metadata": {},
   "outputs": [],
   "source": [
    "#ran to completion on May 7th, 10:15 am"
   ]
  },
  {
   "cell_type": "code",
   "execution_count": null,
   "metadata": {},
   "outputs": [],
   "source": []
  },
  {
   "cell_type": "code",
   "execution_count": null,
   "metadata": {},
   "outputs": [],
   "source": []
  },
  {
   "cell_type": "code",
   "execution_count": null,
   "metadata": {},
   "outputs": [],
   "source": []
  }
 ],
 "metadata": {
  "@webio": {
   "lastCommId": null,
   "lastKernelId": null
  },
  "kernelspec": {
   "display_name": "rmg_env",
   "language": "python",
   "name": "rmg_env"
  },
  "language_info": {
   "codemirror_mode": {
    "name": "ipython",
    "version": 3
   },
   "file_extension": ".py",
   "mimetype": "text/x-python",
   "name": "python",
   "nbconvert_exporter": "python",
   "pygments_lexer": "ipython3",
   "version": "3.7.16"
  }
 },
 "nbformat": 4,
 "nbformat_minor": 4
}
