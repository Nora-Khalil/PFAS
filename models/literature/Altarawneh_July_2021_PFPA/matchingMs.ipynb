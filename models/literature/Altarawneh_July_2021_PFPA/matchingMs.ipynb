{
 "cells": [
  {
   "cell_type": "code",
   "execution_count": 1,
   "id": "2a372013-7ebc-4bd9-9d9e-90bb733757f8",
   "metadata": {},
   "outputs": [
    {
     "ename": "NameError",
     "evalue": "name 'scratchpad' is not defined",
     "output_type": "error",
     "traceback": [
      "\u001b[0;31m---------------------------------------------------------------------------\u001b[0m",
      "\u001b[0;31mNameError\u001b[0m                                 Traceback (most recent call last)",
      "\u001b[0;32m<ipython-input-1-ed657cd4bc1e>\u001b[0m in \u001b[0;36m<module>\u001b[0;34m\u001b[0m\n\u001b[0;32m----> 1\u001b[0;31m \u001b[0mscratchpad\u001b[0m\u001b[0;34m\u001b[0m\u001b[0;34m\u001b[0m\u001b[0m\n\u001b[0m",
      "\u001b[0;31mNameError\u001b[0m: name 'scratchpad' is not defined"
     ]
    }
   ],
   "source": [
    "scratchpad "
   ]
  },
  {
   "cell_type": "code",
   "execution_count": null,
   "id": "83991112-2e47-4b41-ae4a-5233dd6a3279",
   "metadata": {},
   "outputs": [],
   "source": [
    "F2+M=2F+M                                     1.26E+10    0.0    28011.0\n",
    "CF3+F=CF4                                     1.58E+38   -7.9     8939.0\n",
    "CF2+F=CF3                                     7.94E+12    0.0        0.0\n",
    "CF3+CF3=CF3-CF3                               3.16E+13    0.0        0.0\n",
    "CF3+CF2=C2F5                                  1.00E+13    0.0        0.0       #16 but backwards so i think its ok \n",
    "C2F5=CF2:CF2+F                                5.01E+14    0.0    79995.0\n",
    "CF2:CF2+F=CF3+CF2                             3.16E+13    0.0        0.0\n",
    "CF2+CF2=CF2:CF2                               8.73E+12    0.0        0.0\n",
    "CF2:CF+F=CF2+CF2                              2.00E+13    0.0        0.0\n",
    "C3F6=CF3CF+CF2                                1.00E+13    0.0    78393.0\n",
    "CF3CF=CF2:CF2                                 3.16E+11    0.0    40009.0\n",
    "C3F6=CF2:CF+CF3                               5.01E+16    0.0   104995.0\n",
    "CF2:CF2+CF2=c-C3F6                            2.00E+11    0.0     8505.0\n",
    "C3F6+F=C2F5+CF2                               5.01E+51  -10.9    42351.0\n",
    "C3F6+F=CF2:CF2+CF3                            6.31E+49  -10.8    37739.0\n",
    "C2F5+CF2=n-C3F7                               3.98E+12    0.0     2008.0\n",
    "C3F8=C2F5+CF3                                 1.00E+17    0.0    88000.0\n",
    "CF3CF+CF3CF=t-C4F8                            6.31E+12    0.0     2008.0\n",
    "C3F6+CF2=i-C4F8                               3.98E+13    0.0    36879.0\n",
    "CF2:CF2+CF2:CF2=C3F6+CF2                      1.00E+12    0.0    29995.0\n",
    "(C2F4=CF2:CF2)+(C2F4=CF2:CF2)=(cyc-C4F8=C4F8)               5.01E+11    0.0    23996.0     #15\n",
    "CF2:CF+CF2:CF=C4F6                            3.16E+12    0.0        0.0\n",
    "C4F10=C2F5+C2F5                               5.14E+16    0.0    84720.0\n",
    "C4F10=CF3+n-C3F7                              5.14E+16    0.0    82300.0\n",
    "CF2:CF2+CF2=C3F6                              5.00E+12    0.0    18400.0\n",
    "C4F10<=>n-C4F9+F                              3.0E+13     0.0   127000.0\n",
    "(M7=n-C4F9)<=>(C2F4=CF2:CF2)+C2F5                         5.1E+11     0.91   42600.0       #18\n",
    "(M7=n-C4F9)<=>CF2+(M8=n-C3F7)                          7.47E+12     0.86   53737.0         #13 (table has E+13)        \n",
    "(M8=n-C3F7)<=>(C2F4=CF2:CF2)+CF3                          5.1E+11     0.91   42600.0       #19 but params diff\n",
    "(M0=H1C5O2F9)<=>(M1=C5O2F8) +HF                         1.39E+12     0.39   61000.0        #1 \n",
    "(M0=H1C5O2F9)<=>CO2+(M5=H1C4F9)                         6.27E+11     0.82   71170.0        #3\n",
    "(M0=H1C5O2F9)=>HF+CO2+(M6=n-C4F8)                       3.54E+11     0.97   68800.0        #2 (error in A? table has E+9)\n",
    "(M1=C5O2F8)<=>(M2=C4O1F8)+CO                           6.88E+11     0.49   19000.0        #10\n",
    "(M0=H1C5O2F9)<=>(M7=n-C4F9)+COOH                         1.0E+12     0.0    86500.0      #5 (A and n off)\n",
    "(M2=C4O1F8)=OCF+(M8=n-C3F7)                               5E+12     0.0    87000.0        #31\n",
    "H1C5O2F9+F<=>HF+C5O2F9                        9.7E+11     0.5        0.0\n",
    "(M4=C5O2F9)<=>CO2+(M7=n-C4F9)                          1.00E+13     0.0        0.0       #7\n",
    "(M2=C4O1F8)+HF<=>(M14=C4O1H1F9)                         8.56E+14     0.0    33580.0         #29 \n",
    "(M14=C4O1H1F9)=>(M9=C3F6)+HF+F2CO                        3.61E+12    0.82   78337.0          #26 (paper says A=3.61E+10)\n",
    "(M14=C4O1H1F9)<=>F2CO+(M17=C3H1F7)                        9.19E+13    0.9    88234.0          #27\n",
    "(M3=sin-C4F8)<=>(M6=n-C4F8)                             1.59E+9     1.48   43900.0            #9 \n",
    "(M1=C5O2F8)<=>(M3=sin-C4F8)+CO2                         3.11E+12    0.59   34000.0            #8 error in A (was 23.11), and table says its n-C4F8\n",
    "(M5=H1C4F9)<=>(M6=n-C4F8)+HF                            6.18E+9     1.2    89000.0            #11\n",
    "(M17=C3H1F7)<=>(M9=C3F6)+ HF                             6.18E+9     1.2    89000.0           #20\n",
    "(C2F4=CF2:CF2)+HF=C2F5H                              6.98E+10    0.0    48000.0             #30\n",
    "2CHF2 <=> CH2F2+CF2                            3E+013       0    1600.00\n",
    "CF2+CHF3 <=> CF3+CHF2                         1E+013        0   40000.00\n",
    "CHF3+CF2 <=> CF2:CF2+HF                      1E+013        0   41000.00\n",
    "CHF3<=>HF+CF2                                 3.95E+10      1.1  76900                      #32\n",
    "2CHF2 <=> C2H2F4                           2.26E+024     -3.5    3360.00\n",
    "2CHF2 <=> C2HF3+HF                          2.2E+019    -1.95    4100.00\n",
    "CHF2+CF3 <=> CF2:CF2+HF                     7E+016    -1.17    4330.00\n",
    "OCF+F<=>F2CO                               1.5E+14      0.00    2000.0\n",
    "OCF<=>F+CO                                1.16E+14      0.00    118000\n",
    "OCF+OCF<=>CO+F2CO                         1.1E+14       0.00      0.00\n",
    "(M7=n-C4F9)<=>(M6=n-C4F8)+F                           1.22E+12     0.54     58276                        #12\n",
    "(M0=H1C5O2F9)+HF<=>(M10=C5O2H2F10)                       30E+3    5.13      13244                       #21\n",
    "(M10=C5O2H2F10)=>(M6=n-C4F8)+HF+(FC(O)OH=FOHCO)                    3.17E+10   0.73    75232                       #23\n",
    "(M10=C5O2H2F10)<=>(M5=H1C4F9)+(FC(O)OH=FOHCO)                       5.7E+12    0.4     80964                      #24\n",
    "END\n",
    "\n",
    "\n",
    "#cant find: \n",
    "#4\n",
    "#6\n",
    "#14,  has same parameters as 12?\n",
    "#22\n",
    "#28\n",
    "\n",
    "\n",
    "#17 is skipped in the table "
   ]
  }
 ],
 "metadata": {
  "kernelspec": {
   "display_name": "Python 3",
   "language": "python",
   "name": "python3"
  },
  "language_info": {
   "codemirror_mode": {
    "name": "ipython",
    "version": 3
   },
   "file_extension": ".py",
   "mimetype": "text/x-python",
   "name": "python",
   "nbconvert_exporter": "python",
   "pygments_lexer": "ipython3",
   "version": "3.8.8"
  }
 },
 "nbformat": 4,
 "nbformat_minor": 5
}
