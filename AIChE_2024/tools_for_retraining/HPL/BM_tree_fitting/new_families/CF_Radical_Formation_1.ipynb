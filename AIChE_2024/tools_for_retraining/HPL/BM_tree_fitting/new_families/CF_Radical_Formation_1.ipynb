{
 "cells": [
  {
   "cell_type": "code",
   "execution_count": 1,
   "metadata": {
    "scrolled": true
   },
   "outputs": [],
   "source": [
    "import rmgpy\n",
    "import numpy as np\n",
    "from rmgpy.molecule.molecule import *\n",
    "from rmgpy.species import *\n",
    "from rmgpy.chemkin import *\n",
    "from rmgpy.data.rmg import RMGDatabase\n",
    "from IPython.display import display\n",
    "from rmgpy.data.thermo import ThermoLibrary\n",
    "from rmgpy.rmg.react import react\n",
    "from rmgpy.species import Species\n",
    "from rmgpy.reaction import Reaction\n",
    "from rmgpy.data.rmg import get_db\n",
    "from rmgpy.molecule.group import Group\n",
    "from rmgpy.kinetics.arrhenius import ArrheniusBM\n",
    "from rmgpy import settings\n",
    "import time\n",
    "import matplotlib.pyplot as plt\n",
    "import matplotlib"
   ]
  },
  {
   "cell_type": "code",
   "execution_count": 2,
   "metadata": {},
   "outputs": [
    {
     "data": {
      "text/plain": [
       "{'database.directory': '/Users/khalil.nor/Code/RMG-database/input',\n",
       " 'test_data.directory': '/Users/khalil.nor/Code/RMG-Py/rmgpy/test_data'}"
      ]
     },
     "execution_count": 2,
     "metadata": {},
     "output_type": "execute_result"
    }
   ],
   "source": [
    "settings"
   ]
  },
  {
   "cell_type": "code",
   "execution_count": 3,
   "metadata": {},
   "outputs": [],
   "source": [
    "#these families just had training rxns added to them \n",
    "\n",
    "#dict_keys(['1,2_Insertion_carbene', 'R_Addition_MultipleBond', 'XY_Addition_MultipleBond', 'Singlet_Carbene_Intra_Disproportionation', '1,2_Insertion_CO', '1+2_Cycloaddition', '1,3_Insertion_CO2', '1,3_sigmatropic_rearrangement'])"
   ]
  },
  {
   "cell_type": "code",
   "execution_count": 4,
   "metadata": {},
   "outputs": [],
   "source": [
    "thermo_libs = [\n",
    "'C1_C2_Fluorine', #putting Siddha's as most trusted because Caroline used this thermo for calcs\n",
    "'PFCA_thermo',\n",
    "'NCSU_C2_C8_PFAS', #using this as second trusted thermo because has good estimates for higher C pfas\n",
    "'Fluorine',\n",
    "'primaryThermoLibrary',\n",
    "'FFCM1(-)',\n",
    "'halogens',\n",
    "'CHOF_G4',\n",
    "'CHOCl_G4',\n",
    "'CHOBr_G4',\n",
    "'CHOFCl_G4',\n",
    "'CHOFBr_G4',\n",
    "'CHOFClBr_G4',\n",
    "'DFT_QCI_thermo',\n",
    "'2-BTP_G4',\n",
    "'thermo_DFT_CCSDTF12_BAC',\n",
    "'SulfurHaynes'\n",
    "]\n",
    "\n",
    "# kin_families = ['R_Recombination', '1,2_Insertion_carbene', 'F_Abstraction', 'R_Addition_MultipleBond', 'XY_Addition_MultipleBond', 'Singlet_Carbene_Intra_Disproportionation', 'Intra_R_Add_Endocyclic', 'R_Addition_COm', '1,2_Insertion_CO', '1+2_Cycloaddition', '1,3_Insertion_CO2', '1,3_sigmatropic_rearrangement']\n",
    "kin_families = ['CF_Radical_Formation_1']"
   ]
  },
  {
   "cell_type": "code",
   "execution_count": 5,
   "metadata": {
    "tags": []
   },
   "outputs": [
    {
     "name": "stdout",
     "output_type": "stream",
     "text": [
      "testing\n",
      "testing\n",
      "testing\n",
      "testing\n"
     ]
    }
   ],
   "source": [
    "database = RMGDatabase()\n",
    "database.load(\n",
    "            path = settings['database.directory'],\n",
    "            thermo_libraries = thermo_libs,\n",
    "            transport_libraries = [],\n",
    "            reaction_libraries = [],\n",
    "            seed_mechanisms = [],#['BurkeH2O2inN2','ERC-FoundationFuelv0.9'],\n",
    "            kinetics_families = kin_families,\n",
    "            kinetics_depositories = ['training'],\n",
    "            #frequenciesLibraries = self.statmechLibraries,\n",
    "            depository = False, # Don't bother loading the depository information, as we don't use it\n",
    "        )\n"
   ]
  },
  {
   "cell_type": "code",
   "execution_count": 6,
   "metadata": {},
   "outputs": [
    {
     "data": {
      "text/plain": [
       "{'CF_Radical_Formation_1': <ReactionFamily \"CF_Radical_Formation_1\">}"
      ]
     },
     "execution_count": 6,
     "metadata": {},
     "output_type": "execute_result"
    }
   ],
   "source": [
    "database.kinetics.families"
   ]
  },
  {
   "cell_type": "code",
   "execution_count": 7,
   "metadata": {},
   "outputs": [],
   "source": [
    "# '1,2_Insertion_carbene' \n",
    "family_to_train = 'CF_Radical_Formation_1'\n",
    "family = database.kinetics.families[family_to_train]"
   ]
  },
  {
   "cell_type": "code",
   "execution_count": 8,
   "metadata": {},
   "outputs": [],
   "source": [
    "family.clean_tree()"
   ]
  },
  {
   "cell_type": "code",
   "execution_count": 9,
   "metadata": {},
   "outputs": [
    {
     "name": "stdout",
     "output_type": "stream",
     "text": [
      "testing\n"
     ]
    },
    {
     "name": "stderr",
     "output_type": "stream",
     "text": [
      "┌ Warning: Replacing docs for `ReactionMechanismSimulator.getpairs :: Tuple{T} where T<:ReactionMechanismSimulator.AbstractReaction` in module `ReactionMechanismSimulator`\n",
      "└ @ Base.Docs docs/Docs.jl:243\n",
      "┌ Warning: Replacing docs for `ReactionMechanismSimulator.getsimilarity :: Union{Tuple{T2}, Tuple{T}, Tuple{T, T2}} where {T<:ReactionMechanismSimulator.AbstractSpecies, T2<:ReactionMechanismSimulator.AbstractSpecies}` in module `ReactionMechanismSimulator`\n",
      "└ @ Base.Docs docs/Docs.jl:243\n",
      "WARNING: method definition for getreactionindices at /Users/khalil.nor/miniconda3/envs/rmg_env/share/julia/packages/ReactionMechanismSimulator/aGs6l/src/Phase.jl:320 declares type variable Q but does not use it.\n",
      "WARNING: method definition for Inlet at /Users/khalil.nor/miniconda3/envs/rmg_env/share/julia/packages/ReactionMechanismSimulator/aGs6l/src/Interface.jl:243 declares type variable B but does not use it.\n",
      "WARNING: method definition for #ConstantTPDomain#328 at /Users/khalil.nor/miniconda3/envs/rmg_env/share/julia/packages/ReactionMechanismSimulator/aGs6l/src/Domain.jl:42 declares type variable W but does not use it.\n",
      "WARNING: method definition for #ConstantTPDomain#328 at /Users/khalil.nor/miniconda3/envs/rmg_env/share/julia/packages/ReactionMechanismSimulator/aGs6l/src/Domain.jl:42 declares type variable Q but does not use it.\n",
      "WARNING: method definition for #ConstantTPDomain#328 at /Users/khalil.nor/miniconda3/envs/rmg_env/share/julia/packages/ReactionMechanismSimulator/aGs6l/src/Domain.jl:42 declares type variable E but does not use it.\n",
      "WARNING: method definition for #ConstantVDomain#339 at /Users/khalil.nor/miniconda3/envs/rmg_env/share/julia/packages/ReactionMechanismSimulator/aGs6l/src/Domain.jl:120 declares type variable Q but does not use it.\n",
      "WARNING: method definition for #ConstantPDomain#348 at /Users/khalil.nor/miniconda3/envs/rmg_env/share/julia/packages/ReactionMechanismSimulator/aGs6l/src/Domain.jl:188 declares type variable Q but does not use it.\n",
      "WARNING: method definition for #ParametrizedTPDomain#357 at /Users/khalil.nor/miniconda3/envs/rmg_env/share/julia/packages/ReactionMechanismSimulator/aGs6l/src/Domain.jl:257 declares type variable Q but does not use it.\n",
      "WARNING: method definition for #ParametrizedVDomain#366 at /Users/khalil.nor/miniconda3/envs/rmg_env/share/julia/packages/ReactionMechanismSimulator/aGs6l/src/Domain.jl:337 declares type variable Q but does not use it.\n",
      "WARNING: method definition for #ParametrizedVDomain#366 at /Users/khalil.nor/miniconda3/envs/rmg_env/share/julia/packages/ReactionMechanismSimulator/aGs6l/src/Domain.jl:337 declares type variable E but does not use it.\n",
      "WARNING: method definition for #ParametrizedPDomain#375 at /Users/khalil.nor/miniconda3/envs/rmg_env/share/julia/packages/ReactionMechanismSimulator/aGs6l/src/Domain.jl:414 declares type variable Q but does not use it.\n",
      "WARNING: method definition for #ParametrizedPDomain#375 at /Users/khalil.nor/miniconda3/envs/rmg_env/share/julia/packages/ReactionMechanismSimulator/aGs6l/src/Domain.jl:414 declares type variable E but does not use it.\n",
      "WARNING: method definition for #ConstantTVDomain#384 at /Users/khalil.nor/miniconda3/envs/rmg_env/share/julia/packages/ReactionMechanismSimulator/aGs6l/src/Domain.jl:500 declares type variable W but does not use it.\n",
      "WARNING: method definition for #ConstantTVDomain#384 at /Users/khalil.nor/miniconda3/envs/rmg_env/share/julia/packages/ReactionMechanismSimulator/aGs6l/src/Domain.jl:500 declares type variable Q but does not use it.\n",
      "WARNING: method definition for #ParametrizedTConstantVDomain#395 at /Users/khalil.nor/miniconda3/envs/rmg_env/share/julia/packages/ReactionMechanismSimulator/aGs6l/src/Domain.jl:580 declares type variable Q but does not use it.\n",
      "WARNING: method definition for #ConstantTAPhiDomain#404 at /Users/khalil.nor/miniconda3/envs/rmg_env/share/julia/packages/ReactionMechanismSimulator/aGs6l/src/Domain.jl:660 declares type variable W but does not use it.\n",
      "WARNING: method definition for #ConstantTAPhiDomain#404 at /Users/khalil.nor/miniconda3/envs/rmg_env/share/julia/packages/ReactionMechanismSimulator/aGs6l/src/Domain.jl:660 declares type variable E but does not use it.\n",
      "WARNING: method definition for #FragmentBasedConstantTrhoDomain#413 at /Users/khalil.nor/miniconda3/envs/rmg_env/share/julia/packages/ReactionMechanismSimulator/aGs6l/src/Domain.jl:747 declares type variable X3 but does not use it.\n",
      "WARNING: method definition for #FragmentBasedConstantTrhoDomain#413 at /Users/khalil.nor/miniconda3/envs/rmg_env/share/julia/packages/ReactionMechanismSimulator/aGs6l/src/Domain.jl:747 declares type variable E1 but does not use it.\n",
      "WARNING: method definition for #FragmentBasedConstantTrhoDomain#413 at /Users/khalil.nor/miniconda3/envs/rmg_env/share/julia/packages/ReactionMechanismSimulator/aGs6l/src/Domain.jl:747 declares type variable X1 but does not use it.\n",
      "WARNING: method definition for calcthermo at /Users/khalil.nor/miniconda3/envs/rmg_env/share/julia/packages/ReactionMechanismSimulator/aGs6l/src/Domain.jl:1470 declares type variable J but does not use it.\n",
      "WARNING: method definition for calcthermo at /Users/khalil.nor/miniconda3/envs/rmg_env/share/julia/packages/ReactionMechanismSimulator/aGs6l/src/Domain.jl:1542 declares type variable J but does not use it.\n",
      "WARNING: method definition for calcthermo at /Users/khalil.nor/miniconda3/envs/rmg_env/share/julia/packages/ReactionMechanismSimulator/aGs6l/src/Domain.jl:1629 declares type variable J but does not use it.\n",
      "WARNING: method definition for #calcdomainderivatives!#466 at /Users/khalil.nor/miniconda3/envs/rmg_env/share/julia/packages/ReactionMechanismSimulator/aGs6l/src/Domain.jl:1669 declares type variable Y but does not use it.\n",
      "WARNING: method definition for #calcdomainderivatives!#466 at /Users/khalil.nor/miniconda3/envs/rmg_env/share/julia/packages/ReactionMechanismSimulator/aGs6l/src/Domain.jl:1669 declares type variable W but does not use it.\n",
      "WARNING: method definition for #calcdomainderivatives!#467 at /Users/khalil.nor/miniconda3/envs/rmg_env/share/julia/packages/ReactionMechanismSimulator/aGs6l/src/Domain.jl:1693 declares type variable Y but does not use it.\n",
      "WARNING: method definition for #calcdomainderivatives!#467 at /Users/khalil.nor/miniconda3/envs/rmg_env/share/julia/packages/ReactionMechanismSimulator/aGs6l/src/Domain.jl:1693 declares type variable W but does not use it.\n",
      "WARNING: method definition for jacobianpnsderiv! at /Users/khalil.nor/miniconda3/envs/rmg_env/share/julia/packages/ReactionMechanismSimulator/aGs6l/src/Domain.jl:2925 declares type variable Q3 but does not use it.\n",
      "WARNING: method definition for jacobianpnsderiv! at /Users/khalil.nor/miniconda3/envs/rmg_env/share/julia/packages/ReactionMechanismSimulator/aGs6l/src/Domain.jl:3034 declares type variable Q3 but does not use it.\n",
      "WARNING: method definition for jacobianpnsderiv! at /Users/khalil.nor/miniconda3/envs/rmg_env/share/julia/packages/ReactionMechanismSimulator/aGs6l/src/Domain.jl:3120 declares type variable Q3 but does not use it.\n",
      "WARNING: method definition for #Reactor#601 at /Users/khalil.nor/miniconda3/envs/rmg_env/share/julia/packages/ReactionMechanismSimulator/aGs6l/src/Reactor.jl:255 declares type variable F but does not use it.\n",
      "WARNING: method definition for addreactionratecontributions! at /Users/khalil.nor/miniconda3/envs/rmg_env/share/julia/packages/ReactionMechanismSimulator/aGs6l/src/Reactor.jl:448 declares type variable T but does not use it.\n",
      "WARNING: method definition for addreactionratecontributions! at /Users/khalil.nor/miniconda3/envs/rmg_env/share/julia/packages/ReactionMechanismSimulator/aGs6l/src/Reactor.jl:492 declares type variable W2 but does not use it.\n",
      "WARNING: method definition for addreactionratecontributions! at /Users/khalil.nor/miniconda3/envs/rmg_env/share/julia/packages/ReactionMechanismSimulator/aGs6l/src/Reactor.jl:492 declares type variable T but does not use it.\n",
      "WARNING: method definition for addreactionratecontributions! at /Users/khalil.nor/miniconda3/envs/rmg_env/share/julia/packages/ReactionMechanismSimulator/aGs6l/src/Reactor.jl:539 declares type variable T but does not use it.\n",
      "WARNING: method definition for addreactionratecontributionsforwardreverse! at /Users/khalil.nor/miniconda3/envs/rmg_env/share/julia/packages/ReactionMechanismSimulator/aGs6l/src/Reactor.jl:584 declares type variable T but does not use it.\n",
      "WARNING: method definition for #dydtreactor!#609 at /Users/khalil.nor/miniconda3/envs/rmg_env/share/julia/packages/ReactionMechanismSimulator/aGs6l/src/Reactor.jl:645 declares type variable J but does not use it.\n",
      "WARNING: method definition for jacobianyforwarddiff at /Users/khalil.nor/miniconda3/envs/rmg_env/share/julia/packages/ReactionMechanismSimulator/aGs6l/src/Reactor.jl:782 declares type variable Q but does not use it.\n",
      "WARNING: method definition for jacobianpforwarddiff at /Users/khalil.nor/miniconda3/envs/rmg_env/share/julia/packages/ReactionMechanismSimulator/aGs6l/src/Reactor.jl:834 declares type variable Q but does not use it.\n",
      "WARNING: could not import LazyArrays.most into LazyBandedMatrices\n",
      "WARNING: method definition for arguments at /Users/khalil.nor/miniconda3/envs/rmg_env/share/julia/packages/LazyBandedMatrices/8pXDE/src/LazyBandedMatrices.jl:600 declares type variable F but does not use it.\n",
      "WARNING: method definition for sublayout at /Users/khalil.nor/miniconda3/envs/rmg_env/share/julia/packages/LazyBandedMatrices/8pXDE/src/LazyBandedMatrices.jl:622 declares type variable J but does not use it.\n",
      "WARNING: method definition for sublayout at /Users/khalil.nor/miniconda3/envs/rmg_env/share/julia/packages/LazyBandedMatrices/8pXDE/src/LazyBandedMatrices.jl:622 declares type variable J but does not use it.\n",
      "WARNING: method definition for * at /Users/khalil.nor/miniconda3/envs/rmg_env/share/julia/packages/DiffEqOperators/lHq9u/src/derivative_operators/multi_dim_bc_operators.jl:221 declares type variable B but does not use it.\n",
      "WARNING: method definition for * at /Users/khalil.nor/miniconda3/envs/rmg_env/share/julia/packages/DiffEqOperators/lHq9u/src/derivative_operators/multi_dim_bc_operators.jl:244 declares type variable B but does not use it.\n",
      "WARNING: method definition for CompleteCenteredDifference at /Users/khalil.nor/miniconda3/envs/rmg_env/share/julia/packages/DiffEqOperators/lHq9u/src/derivative_operators/derivative_operator.jl:211 declares type variable N but does not use it.\n",
      "WARNING: method definition for CompleteCenteredDifference at /Users/khalil.nor/miniconda3/envs/rmg_env/share/julia/packages/DiffEqOperators/lHq9u/src/derivative_operators/derivative_operator.jl:262 declares type variable N but does not use it.\n",
      "WARNING: method definition for CompleteHalfCenteredDifference at /Users/khalil.nor/miniconda3/envs/rmg_env/share/julia/packages/DiffEqOperators/lHq9u/src/derivative_operators/derivative_operator.jl:317 declares type variable N but does not use it.\n",
      "WARNING: method definition for CompleteHalfCenteredDifference at /Users/khalil.nor/miniconda3/envs/rmg_env/share/julia/packages/DiffEqOperators/lHq9u/src/derivative_operators/derivative_operator.jl:369 declares type variable N but does not use it.\n",
      "WARNING: method definition for CompleteUpwindDifference at /Users/khalil.nor/miniconda3/envs/rmg_env/share/julia/packages/DiffEqOperators/lHq9u/src/derivative_operators/derivative_operator.jl:644 declares type variable N but does not use it.\n",
      "WARNING: method definition for CompleteUpwindDifference at /Users/khalil.nor/miniconda3/envs/rmg_env/share/julia/packages/DiffEqOperators/lHq9u/src/derivative_operators/derivative_operator.jl:701 declares type variable N but does not use it.\n",
      "WARNING: method definition for BandedMatrix at /Users/khalil.nor/miniconda3/envs/rmg_env/share/julia/packages/DiffEqOperators/lHq9u/src/derivative_operators/concretization.jl:463 declares type variable K but does not use it.\n",
      "WARNING: method definition for BandedMatrix at /Users/khalil.nor/miniconda3/envs/rmg_env/share/julia/packages/DiffEqOperators/lHq9u/src/derivative_operators/concretization.jl:463 declares type variable N but does not use it.\n",
      "WARNING: method definition for BandedMatrix at /Users/khalil.nor/miniconda3/envs/rmg_env/share/julia/packages/DiffEqOperators/lHq9u/src/derivative_operators/concretization.jl:463 declares type variable D but does not use it.\n",
      "WARNING: method definition for BandedMatrix at /Users/khalil.nor/miniconda3/envs/rmg_env/share/julia/packages/DiffEqOperators/lHq9u/src/derivative_operators/concretization.jl:463 declares type variable B but does not use it.\n",
      "WARNING: method definition for BandedMatrix at /Users/khalil.nor/miniconda3/envs/rmg_env/share/julia/packages/DiffEqOperators/lHq9u/src/derivative_operators/concretization.jl:463 declares type variable T but does not use it.\n",
      "┌ Warning: DiffEqOperators.jl is in the process of being deprecated.\n",
      "│ \n",
      "│        - For automated PDE discretization, see MethodOfLines.jl\n",
      "│ \n",
      "│        - For MatrixFreeOperators, and other non-derivative operators, see SciMLOperators.jl\n",
      "│ \n",
      "│        - For VecJacOperators and JacVecOperators, see SparseDiffTools.jl\n",
      "└ @ DiffEqOperators ~/miniconda3/envs/rmg_env/share/julia/packages/DiffEqOperators/lHq9u/src/DiffEqOperators.jl:61\n",
      "WARNING: method definition for seed_duals at /Users/khalil.nor/miniconda3/envs/rmg_env/share/julia/packages/DiffEqSensitivity/Pn9H4/src/forward_sensitivity.jl:418 declares type variable T but does not use it.\n",
      "WARNING: method definition for ODE_DEFAULT_NORM at /Users/khalil.nor/miniconda3/envs/rmg_env/share/julia/packages/DiffEqSensitivity/Pn9H4/src/reversediff.jl:14 declares type variable N but does not use it.\n",
      "WARNING: method definition for ODE_DEFAULT_NORM at /Users/khalil.nor/miniconda3/envs/rmg_env/share/julia/packages/DiffEqSensitivity/Pn9H4/src/reversediff.jl:26 declares type variable N but does not use it.\n",
      "WARNING: method definition for ODE_DEFAULT_NORM at /Users/khalil.nor/miniconda3/envs/rmg_env/share/julia/packages/DiffEqSensitivity/Pn9H4/src/tracker.jl:26 declares type variable N but does not use it.\n",
      "WARNING: method definition for ODE_DEFAULT_NORM at /Users/khalil.nor/miniconda3/envs/rmg_env/share/julia/packages/DiffEqSensitivity/Pn9H4/src/tracker.jl:38 declares type variable N but does not use it.\n",
      "WARNING: method definition for sensg at /Users/khalil.nor/miniconda3/envs/rmg_env/share/julia/packages/ReactionMechanismSimulator/aGs6l/src/Simulation.jl:488 declares type variable V but does not use it.\n",
      "WARNING: method definition for sensg at /Users/khalil.nor/miniconda3/envs/rmg_env/share/julia/packages/ReactionMechanismSimulator/aGs6l/src/Simulation.jl:488 declares type variable Q but does not use it.\n",
      "WARNING: method definition for sensg at /Users/khalil.nor/miniconda3/envs/rmg_env/share/julia/packages/ReactionMechanismSimulator/aGs6l/src/Simulation.jl:494 declares type variable V but does not use it.\n",
      "WARNING: method definition for sensg at /Users/khalil.nor/miniconda3/envs/rmg_env/share/julia/packages/ReactionMechanismSimulator/aGs6l/src/Simulation.jl:494 declares type variable Q but does not use it.\n",
      "WARNING: method definition for sensg at /Users/khalil.nor/miniconda3/envs/rmg_env/share/julia/packages/ReactionMechanismSimulator/aGs6l/src/Simulation.jl:500 declares type variable V but does not use it.\n",
      "WARNING: method definition for sensg at /Users/khalil.nor/miniconda3/envs/rmg_env/share/julia/packages/ReactionMechanismSimulator/aGs6l/src/Simulation.jl:500 declares type variable Q but does not use it.\n",
      "WARNING: method definition for sensg at /Users/khalil.nor/miniconda3/envs/rmg_env/share/julia/packages/ReactionMechanismSimulator/aGs6l/src/Simulation.jl:506 declares type variable V but does not use it.\n",
      "WARNING: method definition for sensg at /Users/khalil.nor/miniconda3/envs/rmg_env/share/julia/packages/ReactionMechanismSimulator/aGs6l/src/Simulation.jl:506 declares type variable Q but does not use it.\n",
      "WARNING: method definition for g at /Users/khalil.nor/miniconda3/envs/rmg_env/share/julia/packages/ReactionMechanismSimulator/aGs6l/src/Simulation.jl:513 declares type variable V but does not use it.\n",
      "WARNING: method definition for g at /Users/khalil.nor/miniconda3/envs/rmg_env/share/julia/packages/ReactionMechanismSimulator/aGs6l/src/Simulation.jl:513 declares type variable Q but does not use it.\n",
      "WARNING: method definition for g at /Users/khalil.nor/miniconda3/envs/rmg_env/share/julia/packages/ReactionMechanismSimulator/aGs6l/src/Simulation.jl:517 declares type variable V but does not use it.\n",
      "WARNING: method definition for g at /Users/khalil.nor/miniconda3/envs/rmg_env/share/julia/packages/ReactionMechanismSimulator/aGs6l/src/Simulation.jl:517 declares type variable Q but does not use it.\n",
      "WARNING: method definition for g at /Users/khalil.nor/miniconda3/envs/rmg_env/share/julia/packages/ReactionMechanismSimulator/aGs6l/src/Simulation.jl:521 declares type variable V but does not use it.\n",
      "WARNING: method definition for g at /Users/khalil.nor/miniconda3/envs/rmg_env/share/julia/packages/ReactionMechanismSimulator/aGs6l/src/Simulation.jl:521 declares type variable Q but does not use it.\n",
      "WARNING: method definition for g at /Users/khalil.nor/miniconda3/envs/rmg_env/share/julia/packages/ReactionMechanismSimulator/aGs6l/src/Simulation.jl:525 declares type variable V but does not use it.\n",
      "WARNING: method definition for g at /Users/khalil.nor/miniconda3/envs/rmg_env/share/julia/packages/ReactionMechanismSimulator/aGs6l/src/Simulation.jl:525 declares type variable Q but does not use it.\n",
      "WARNING: method definition for g at /Users/khalil.nor/miniconda3/envs/rmg_env/share/julia/packages/ReactionMechanismSimulator/aGs6l/src/Simulation.jl:576 declares type variable V but does not use it.\n",
      "WARNING: method definition for g at /Users/khalil.nor/miniconda3/envs/rmg_env/share/julia/packages/ReactionMechanismSimulator/aGs6l/src/Simulation.jl:576 declares type variable Q but does not use it.\n",
      "WARNING: method definition for g at /Users/khalil.nor/miniconda3/envs/rmg_env/share/julia/packages/ReactionMechanismSimulator/aGs6l/src/Simulation.jl:580 declares type variable V but does not use it.\n",
      "WARNING: method definition for g at /Users/khalil.nor/miniconda3/envs/rmg_env/share/julia/packages/ReactionMechanismSimulator/aGs6l/src/Simulation.jl:580 declares type variable Q but does not use it.\n",
      "WARNING: method definition for g at /Users/khalil.nor/miniconda3/envs/rmg_env/share/julia/packages/ReactionMechanismSimulator/aGs6l/src/Simulation.jl:584 declares type variable V but does not use it.\n",
      "WARNING: method definition for g at /Users/khalil.nor/miniconda3/envs/rmg_env/share/julia/packages/ReactionMechanismSimulator/aGs6l/src/Simulation.jl:584 declares type variable Q but does not use it.\n",
      "WARNING: method definition for g at /Users/khalil.nor/miniconda3/envs/rmg_env/share/julia/packages/ReactionMechanismSimulator/aGs6l/src/Simulation.jl:588 declares type variable V but does not use it.\n",
      "WARNING: method definition for g at /Users/khalil.nor/miniconda3/envs/rmg_env/share/julia/packages/ReactionMechanismSimulator/aGs6l/src/Simulation.jl:588 declares type variable Q but does not use it.\n",
      "┌ Warning: Replacing docs for `ReactionMechanismSimulator.plotrops :: Union{Tuple{X}, Tuple{Y}, Tuple{Y, X}} where {Y<:ReactionMechanismSimulator.Simulation, X<:AbstractString}` in module `ReactionMechanismSimulator`\n",
      "└ @ Base.Docs docs/Docs.jl:243\n",
      "┌ Warning: Replacing docs for `ReactionMechanismSimulator.plotrops :: Union{Tuple{X}, Tuple{Y}, Tuple{Y, X}} where {Y<:ReactionMechanismSimulator.Simulation, X<:AbstractString}` in module `ReactionMechanismSimulator`\n",
      "└ @ Base.Docs docs/Docs.jl:243\n",
      "WARNING: method definition for #plotradicalrops#907 at /Users/khalil.nor/miniconda3/envs/rmg_env/share/julia/packages/ReactionMechanismSimulator/aGs6l/src/Plotting.jl:371 declares type variable X but does not use it.\n",
      "WARNING: method definition for checkbounds at /Users/khalil.nor/miniconda3/envs/rmg_env/share/julia/packages/Interpolations/y4lLj/src/Interpolations.jl:454 declares type variable N but does not use it.\n",
      "WARNING: method definition for checkbounds at /Users/khalil.nor/miniconda3/envs/rmg_env/share/julia/packages/Interpolations/y4lLj/src/Interpolations.jl:457 declares type variable N but does not use it.\n",
      "WARNING: method definition for GriddedInterpolation at /Users/khalil.nor/miniconda3/envs/rmg_env/share/julia/packages/Interpolations/y4lLj/src/gridded/gridded.jl:37 declares type variable pad but does not use it.\n",
      "WARNING: method definition for GriddedInterpolation at /Users/khalil.nor/miniconda3/envs/rmg_env/share/julia/packages/Interpolations/y4lLj/src/gridded/gridded.jl:60 declares type variable pad but does not use it.\n",
      "WARNING: method definition for interpolate! at /Users/khalil.nor/miniconda3/envs/rmg_env/share/julia/packages/Interpolations/y4lLj/src/deprecations.jl:30 declares type variable TWeights but does not use it.\n",
      "ERROR:root:3.0\n"
     ]
    },
    {
     "name": "stdout",
     "output_type": "stream",
     "text": [
      "testing\n",
      "testing\n",
      "testing\n",
      "testing\n",
      "testing\n",
      "testing\n",
      "testing\n",
      "testing\n",
      "testing\n",
      "339.91188502311707\n"
     ]
    }
   ],
   "source": [
    "start = time.time()\n",
    "family.generate_tree(thermo_database=database.thermo,\n",
    "                     nprocs=1,\n",
    "                     new_fraction_threshold_to_reopt_node=0.25,\n",
    "                     max_batch_size=800,\n",
    "                     extension_iter_max=2,\n",
    "                     extension_iter_item_cap=100)\n",
    "\n",
    "end = time.time()\n",
    "print(end-start)"
   ]
  },
  {
   "cell_type": "code",
   "execution_count": 10,
   "metadata": {},
   "outputs": [
    {
     "data": {
      "text/plain": [
       "7"
      ]
     },
     "execution_count": 10,
     "metadata": {},
     "output_type": "execute_result"
    }
   ],
   "source": [
    "len(family.groups.entries)"
   ]
  },
  {
   "cell_type": "code",
   "execution_count": 11,
   "metadata": {
    "tags": []
   },
   "outputs": [
    {
     "data": {
      "text/plain": [
       "{'F_R': <Entry index=-1 label=\"F_R\">,\n",
       " 'CF': <Entry index=-1 label=\"CF\">,\n",
       " 'Root': <Entry index=0 label=\"Root\">,\n",
       " 'Root_2R->C': <Entry index=1 label=\"Root_2R->C\">,\n",
       " 'Root_N-2R->C': <Entry index=2 label=\"Root_N-2R->C\">,\n",
       " 'Root_2R->C_Ext-2C-R_5R!H->O': <Entry index=3 label=\"Root_2R->C_Ext-2C-R_5R!H->O\">,\n",
       " 'Root_2R->C_Ext-2C-R_N-5R!H->O': <Entry index=4 label=\"Root_2R->C_Ext-2C-R_N-5R!H->O\">}"
      ]
     },
     "execution_count": 11,
     "metadata": {},
     "output_type": "execute_result"
    }
   ],
   "source": [
    "family.groups.entries"
   ]
  },
  {
   "cell_type": "code",
   "execution_count": 12,
   "metadata": {},
   "outputs": [
    {
     "name": "stdout",
     "output_type": "stream",
     "text": [
      "0.0005040168762207031\n"
     ]
    }
   ],
   "source": [
    "start = time.time()\n",
    "family.check_tree()\n",
    "end = time.time()\n",
    "print(end-start)"
   ]
  },
  {
   "cell_type": "code",
   "execution_count": 13,
   "metadata": {},
   "outputs": [
    {
     "name": "stdout",
     "output_type": "stream",
     "text": [
      "testing\n",
      "testing\n",
      "testing\n",
      "testing\n",
      "testing\n",
      "testing\n",
      "testing\n",
      "testing\n",
      "testing\n",
      "testing\n",
      "0.014214038848876953\n"
     ]
    }
   ],
   "source": [
    "start = time.time()\n",
    "family.regularize(thermo_database=database.thermo)\n",
    "end = time.time()\n",
    "print(end-start)"
   ]
  },
  {
   "cell_type": "code",
   "execution_count": 14,
   "metadata": {},
   "outputs": [
    {
     "name": "stdout",
     "output_type": "stream",
     "text": [
      "testing\n",
      "testing\n",
      "testing\n",
      "testing\n",
      "testing\n",
      "testing\n",
      "testing\n",
      "testing\n",
      "testing\n",
      "testing\n",
      "0.009216070175170898\n"
     ]
    }
   ],
   "source": [
    "start = time.time()\n",
    "templateRxnMap = family.get_reaction_matches(thermo_database=database.thermo,remove_degeneracy=True,\n",
    "                                             get_reverse=True,exact_matches_only=False,fix_labels=True)\n",
    "end = time.time()\n",
    "print(end-start)"
   ]
  },
  {
   "cell_type": "code",
   "execution_count": 15,
   "metadata": {},
   "outputs": [
    {
     "data": {
      "text/plain": [
       "7"
      ]
     },
     "execution_count": 15,
     "metadata": {},
     "output_type": "execute_result"
    }
   ],
   "source": [
    "len(templateRxnMap)"
   ]
  },
  {
   "cell_type": "code",
   "execution_count": 16,
   "metadata": {},
   "outputs": [],
   "source": [
    "family.clean_tree_rules()"
   ]
  },
  {
   "cell_type": "code",
   "execution_count": 17,
   "metadata": {},
   "outputs": [
    {
     "name": "stderr",
     "output_type": "stream",
     "text": [
      "/Users/khalil.nor/Code/RMG-Py/rmgpy/data/kinetics/family.py:3636: VisibleDeprecationWarning: Creating an ndarray from ragged nested sequences (which is a list-or-tuple of lists-or-tuples-or ndarrays with different lengths or shapes) is deprecated. If you meant to do this, you must specify 'dtype=object' when creating the ndarray.\n",
      "  for rxns, label in rxnlists])\n"
     ]
    },
    {
     "name": "stdout",
     "output_type": "stream",
     "text": [
      "position 1, 0.0\n",
      "term 1: 461587.248, term 2: -52211.884768962256\n",
      "position 2: 409375.36323103774\n",
      "position 3: 409375.36323103774\n",
      "position 4: 409375.36323103774\n",
      "position 6: 348047.2937993072\n",
      "position 9: 348047.2937993072\n",
      "position 10: 348047.2937993072\n",
      "position 1, 0.0\n",
      "term 1: 305336.18640000006, term 2: -54342.81065017035\n",
      "position 2: 250993.37574982972\n",
      "term 1: 461587.248, term 2: -52211.884768962256\n",
      "position 2: 660368.7389808674\n",
      "term 1: 329746.89759999997, term 2: -62270.14134555651\n",
      "position 2: 927845.4952353109\n",
      "position 3: 309281.83174510364\n",
      "position 4: 309281.83174510364\n",
      "position 6: 261480.24307435582\n",
      "position 9: 261480.24307435582\n",
      "position 10: 261480.24307435582\n",
      "position 1, 0.0\n",
      "term 1: 461587.248, term 2: -52211.884768962256\n",
      "position 2: 409375.36323103774\n",
      "term 1: 329746.89759999997, term 2: -62270.14134555651\n",
      "position 2: 676852.1194854812\n",
      "position 3: 338426.0597427406\n",
      "position 4: 338426.0597427406\n",
      "position 6: 306196.7372064785\n",
      "position 9: 306196.7372064785\n",
      "position 10: 306196.7372064785\n",
      "position 1, 0.0\n",
      "term 1: 305336.18640000006, term 2: -54342.81065017035\n",
      "position 2: 250993.37574982972\n",
      "term 1: 329746.89759999997, term 2: -62270.14134555651\n",
      "position 2: 518470.1320042731\n",
      "position 3: 259235.06600213656\n",
      "position 4: 259235.06600213656\n",
      "position 6: 164586.37085094757\n",
      "position 9: 164586.37085094757\n",
      "position 10: 164586.37085094757\n",
      "position 1, 0.0\n",
      "term 1: 305336.18640000006, term 2: -54342.81065017035\n",
      "position 2: 250993.37574982972\n",
      "term 1: 461587.248, term 2: -52211.884768962256\n",
      "position 2: 660368.7389808674\n",
      "position 3: 330184.3694904337\n",
      "position 4: 330184.3694904337\n",
      "position 6: 274658.89856452163\n",
      "position 9: 274658.89856452163\n",
      "position 10: 274658.89856452163\n"
     ]
    },
    {
     "name": "stderr",
     "output_type": "stream",
     "text": [
      "/Users/khalil.nor/miniconda3/envs/rmg_env/lib/python3.7/site-packages/numpy/core/fromnumeric.py:3441: RuntimeWarning: Mean of empty slice.\n",
      "  out=out, **kwargs)\n",
      "/Users/khalil.nor/miniconda3/envs/rmg_env/lib/python3.7/site-packages/numpy/core/_methods.py:189: RuntimeWarning: invalid value encountered in double_scalars\n",
      "  ret = ret.dtype.type(ret / rcount)\n"
     ]
    },
    {
     "name": "stdout",
     "output_type": "stream",
     "text": [
      "position 1, 0.0\n",
      "term 1: 461587.248, term 2: -52211.884768962256\n",
      "position 2: 409375.36323103774\n",
      "term 1: 329746.89759999997, term 2: -62270.14134555651\n",
      "position 2: 676852.1194854812\n",
      "position 3: 338426.0597427406\n",
      "position 4: 338426.0597427406\n",
      "position 6: 306196.7372064785\n",
      "position 9: 306196.7372064785\n",
      "position 10: 306196.7372064785\n",
      "position 1, 0.0\n",
      "term 1: 329746.89759999997, term 2: -62270.14134555651\n",
      "position 2: 267476.75625444343\n",
      "position 3: 267476.75625444343\n",
      "position 4: 267476.75625444343\n",
      "position 6: 180292.89934444393\n",
      "position 9: 180292.89934444393\n",
      "position 10: 180292.89934444393\n",
      "position 1, 0.0\n",
      "term 1: 461587.248, term 2: -52211.884768962256\n",
      "position 2: 409375.36323103774\n",
      "position 3: 409375.36323103774\n",
      "position 4: 409375.36323103774\n",
      "position 6: 348047.2937993072\n",
      "position 9: 348047.2937993072\n",
      "position 10: 348047.2937993072\n",
      "position 1, 0.0\n",
      "term 1: 329746.89759999997, term 2: -62270.14134555651\n",
      "position 2: 267476.75625444343\n",
      "position 3: 267476.75625444343\n",
      "position 4: 267476.75625444343\n",
      "position 6: 180292.89934444393\n",
      "position 9: 180292.89934444393\n",
      "position 10: 180292.89934444393\n",
      "position 1, 0.0\n",
      "term 1: 305336.18640000006, term 2: -54342.81065017035\n",
      "position 2: 250993.37574982972\n",
      "position 3: 250993.37574982972\n",
      "position 4: 250993.37574982972\n",
      "position 6: 177435.89857330278\n",
      "position 9: 177435.89857330278\n",
      "position 10: 177435.89857330278\n",
      "0.47149014472961426\n"
     ]
    }
   ],
   "source": [
    "start = time.time()\n",
    "family.make_bm_rules_from_template_rxn_map(templateRxnMap)#,nprocs=6)\n",
    "end = time.time()\n",
    "print(end-start)"
   ]
  },
  {
   "cell_type": "code",
   "execution_count": 18,
   "metadata": {},
   "outputs": [
    {
     "name": "stdout",
     "output_type": "stream",
     "text": [
      "0.00587773323059082\n"
     ]
    }
   ],
   "source": [
    "start = time.time()\n",
    "family.check_tree()\n",
    "end = time.time()\n",
    "print(end-start)"
   ]
  },
  {
   "cell_type": "code",
   "execution_count": 19,
   "metadata": {},
   "outputs": [
    {
     "name": "stdout",
     "output_type": "stream",
     "text": [
      "testing\n",
      "testing\n",
      "testing\n",
      "testing\n",
      "testing\n",
      "testing\n",
      "testing\n",
      "testing\n",
      "testing\n",
      "testing\n",
      "position 1, 0.0\n",
      "term 1: 329746.89759999997, term 2: -62270.14134555651\n",
      "position 2: 267476.75625444343\n",
      "term 1: 461587.248, term 2: -52211.884768962256\n",
      "position 2: 676852.1194854812\n",
      "position 3: 338426.0597427406\n",
      "position 4: 338426.0597427406\n",
      "position 6: 306196.75285241724\n",
      "position 9: 306196.75285241724\n",
      "position 10: 306196.75285241724\n",
      "position 1, 0.0\n",
      "term 1: 329746.89759999997, term 2: -62270.14134555651\n",
      "position 2: 267476.75625444343\n",
      "term 1: 305336.18640000006, term 2: -54342.81065017035\n",
      "position 2: 518470.1320042731\n",
      "position 3: 259235.06600213656\n",
      "position 4: 259235.06600213656\n",
      "position 6: 164586.3614987684\n",
      "position 9: 164586.3614987684\n",
      "position 10: 164586.3614987684\n",
      "position 1, 0.0\n",
      "term 1: 305336.18640000006, term 2: -54342.81065017035\n",
      "position 2: 250993.37574982972\n",
      "term 1: 461587.248, term 2: -52211.884768962256\n",
      "position 2: 660368.7389808674\n",
      "position 3: 330184.3694904337\n",
      "position 4: 330184.3694904337\n",
      "position 6: 274658.89856452163\n",
      "position 9: 274658.89856452163\n",
      "position 10: 274658.89856452163\n",
      "0.030041933059692383\n"
     ]
    }
   ],
   "source": [
    "start = time.time()\n",
    "errors,uncertainties = family.cross_validate(iters=0,random_state=5,folds=0,ascend=False)\n",
    "end = time.time()\n",
    "print(end-start)"
   ]
  },
  {
   "cell_type": "code",
   "execution_count": 20,
   "metadata": {},
   "outputs": [
    {
     "name": "stdout",
     "output_type": "stream",
     "text": [
      "/Users/khalil.nor/Code/RMG-database/input/kinetics/families/CF_Radical_Formation_1\n"
     ]
    }
   ],
   "source": [
    "save_path = os.path.join(settings['database.directory'], 'kinetics', 'families', family.name)\n",
    "print(save_path)"
   ]
  },
  {
   "cell_type": "code",
   "execution_count": 21,
   "metadata": {},
   "outputs": [],
   "source": [
    "family.save(save_path)"
   ]
  },
  {
   "cell_type": "code",
   "execution_count": null,
   "metadata": {},
   "outputs": [],
   "source": []
  },
  {
   "cell_type": "code",
   "execution_count": null,
   "metadata": {},
   "outputs": [],
   "source": [
    "# notebook ran to completion on May 6th 2024, 9:51 am"
   ]
  },
  {
   "cell_type": "code",
   "execution_count": null,
   "metadata": {},
   "outputs": [],
   "source": []
  },
  {
   "cell_type": "code",
   "execution_count": null,
   "metadata": {},
   "outputs": [],
   "source": []
  },
  {
   "cell_type": "code",
   "execution_count": 22,
   "metadata": {},
   "outputs": [],
   "source": [
    "from rmgpy.kinetics.uncertainties import RateUncertainty\n",
    "import rmgpy\n",
    "import numpy as np\n",
    "from rmgpy.molecule.molecule import *\n",
    "from rmgpy.species import *\n",
    "from rmgpy.chemkin import *\n",
    "from rmgpy.data.rmg import RMGDatabase\n",
    "from IPython.display import display\n",
    "from rmgpy.data.thermo import ThermoLibrary\n",
    "from rmgpy.rmg.react import react\n",
    "from rmgpy.species import Species\n",
    "from rmgpy.reaction import Reaction\n",
    "from rmgpy.data.rmg import get_db\n",
    "from rmgpy.molecule.group import Group\n",
    "from rmgpy.kinetics.arrhenius import ArrheniusBM, Arrhenius\n",
    "from rmgpy import settings\n",
    "import time\n",
    "import matplotlib.pyplot as plt\n",
    "import matplotlib\n",
    "import rmgpy.constants as constants"
   ]
  },
  {
   "cell_type": "code",
   "execution_count": 23,
   "metadata": {},
   "outputs": [
    {
     "name": "stderr",
     "output_type": "stream",
     "text": [
      "WARNING:root:An instance of RMGDatabase already exists. Re-initializing it.\n"
     ]
    },
    {
     "name": "stdout",
     "output_type": "stream",
     "text": [
      "testing\n",
      "testing\n",
      "testing\n",
      "testing\n"
     ]
    }
   ],
   "source": [
    "kin_families = [\"CF_Radical_Formation_1\"]\n",
    "\n",
    "database = RMGDatabase()\n",
    "database.load(\n",
    "            path = settings['database.directory'],\n",
    "            thermo_libraries = thermo_libs,\n",
    "            transport_libraries = [],\n",
    "            reaction_libraries = [],\n",
    "            seed_mechanisms = [],#['BurkeH2O2inN2','ERC-FoundationFuelv0.9'],\n",
    "            kinetics_families = kin_families,\n",
    "            kinetics_depositories = ['training'],\n",
    "            #frequenciesLibraries = self.statmechLibraries,\n",
    "            depository = False, # Don't bother loading the depository information, as we don't use it\n",
    "        )"
   ]
  },
  {
   "cell_type": "code",
   "execution_count": 24,
   "metadata": {},
   "outputs": [
    {
     "data": {
      "text/plain": [
       "{'CF_Radical_Formation_1': <ReactionFamily \"CF_Radical_Formation_1\">}"
      ]
     },
     "execution_count": 24,
     "metadata": {},
     "output_type": "execute_result"
    }
   ],
   "source": [
    "database.kinetics.families"
   ]
  },
  {
   "cell_type": "code",
   "execution_count": 26,
   "metadata": {},
   "outputs": [],
   "source": [
    "# \"CF_Radical_Formation_1\"\n",
    "family_to_train = \"CF_Radical_Formation_1\"\n",
    "family = database.kinetics.families[family_to_train]"
   ]
  },
  {
   "cell_type": "code",
   "execution_count": 27,
   "metadata": {},
   "outputs": [
    {
     "name": "stdout",
     "output_type": "stream",
     "text": [
      "testing\n",
      "testing\n",
      "testing\n",
      "testing\n",
      "testing\n",
      "testing\n",
      "testing\n",
      "testing\n",
      "testing\n",
      "testing\n",
      "0.012918949127197266\n"
     ]
    }
   ],
   "source": [
    "start = time.time()\n",
    "templateRxnMap = family.get_reaction_matches(thermo_database=database.thermo,remove_degeneracy=True,\n",
    "                                             get_reverse=True,exact_matches_only=False,fix_labels=True)\n",
    "end = time.time()\n",
    "print(end-start)"
   ]
  },
  {
   "cell_type": "code",
   "execution_count": null,
   "metadata": {},
   "outputs": [],
   "source": [
    "Let's look at some of the parent nodes (with 2 reactions) and their child nodes (with 1 reaction) to see how the fits compare"
   ]
  },
  {
   "cell_type": "code",
   "execution_count": 28,
   "metadata": {},
   "outputs": [],
   "source": [
    "n_2_mapping = [key for key, value in templateRxnMap.items() if len(value)==2] #mapping of all nodes with 3 or less training rxns (parents)\n",
    "n_1_mapping = [key for key, value in templateRxnMap.items() if len(value)==1] #mapping of all nodes with 1 training rxn (children)\n",
    "n_4_mapping = [key for key, value in templateRxnMap.items() if len(value)==4] \n",
    "parent_to_child = {}\n",
    "parent_to_child_4 = {}\n",
    "\n",
    "for label in n_2_mapping: \n",
    "    \n",
    "    #make the parent node\n",
    "    parent_node, _ = family.retrieve_original_entry(label)\n",
    "    \n",
    "    #now find the children with just 1 reaction\n",
    "    children_nodes = []\n",
    "    for test_label in n_1_mapping:\n",
    "        if label in test_label:\n",
    "            child_node, _ = family.retrieve_original_entry(test_label)\n",
    "            children_nodes.append(child_node)\n",
    "            \n",
    "            \n",
    "    if len(templateRxnMap[label])==len(children_nodes): #let's pick out the ones that are both two\n",
    "        parent_to_child[parent_node.label] = [x.label for x in children_nodes]\n",
    "        \n",
    "for label in n_4_mapping: \n",
    "    \n",
    "    #make the parent node\n",
    "    parent_node, _ = family.retrieve_original_entry(label)\n",
    "    \n",
    "    #now find the children with just 1 reaction\n",
    "    children_nodes = []\n",
    "    for test_label in n_1_mapping:\n",
    "        if label in test_label:\n",
    "            child_node, _ = family.retrieve_original_entry(test_label)\n",
    "            children_nodes.append(child_node)\n",
    "            \n",
    "            \n",
    "    if len(templateRxnMap[label])==len(children_nodes): #let's pick out the ones that are both two\n",
    "        parent_to_child_4[parent_node.label] = [x.label for x in children_nodes]\n",
    "#parent_to_child is a dictionary where key = label of parent and value = label of children"
   ]
  },
  {
   "cell_type": "code",
   "execution_count": 29,
   "metadata": {},
   "outputs": [
    {
     "name": "stdout",
     "output_type": "stream",
     "text": [
      "C2F5 <=> CF4 + CF\n",
      "C2F3O <=> CF2O + CF\n",
      "4.635e+10 s^-1 4.635e+10 s^-1\n"
     ]
    },
    {
     "data": {
      "image/png": "[encoded data removed]",
      "text/plain": [
       "<Figure size 640x480 with 1 Axes>"
      ]
     },
     "metadata": {},
     "output_type": "display_data"
    }
   ],
   "source": [
    "%matplotlib inline\n",
    "temperatures = [ 300., 500.,  600.,  700. , 800.,  900., 1000., 1100., 1200., 1500., 2000.]\n",
    "inverse_temps = [1000/T for T in temperatures]\n",
    "\n",
    "\n",
    "\n",
    "for parent_label, children_labels in parent_to_child.items():\n",
    "    \n",
    "    training_rxns = templateRxnMap[parent_label] \n",
    "    for tr_rxn in training_rxns:\n",
    "        print(tr_rxn)\n",
    "    BM_entries = [family.retrieve_original_entry(label)[0].data for label in children_labels]\n",
    "\n",
    "    matches = []\n",
    "    matched_BM = []\n",
    "\n",
    "    for BM_kinetics in BM_entries:\n",
    "        for tr_rxn in training_rxns:\n",
    "            BM_str_of_float = re.search('([1-9]\\.?[0-9][0-9])', str(BM_kinetics.A.value_si)).group(1)\n",
    "            tr_str_of_float = re.search('([1-9]\\.?[0-9][0-9])', str(tr_rxn.kinetics.A.value_si)).group(1)\n",
    "            if BM_str_of_float==tr_str_of_float:\n",
    "                #print('yeah')\n",
    "                matches.append((Reaction(reactants=tr_rxn.reactants, products=tr_rxn.products, kinetics = BM_kinetics), tr_rxn))\n",
    "                matched_BM.append(BM_kinetics)\n",
    "    if len(matches)==0:\n",
    "        print(\"couldn't find any matches\")\n",
    "        continue\n",
    "        #skipping because the A's are probably very different\n",
    "        \n",
    "    #if you miss matching all of them\n",
    "    if len(matches)==1:\n",
    "        leftover_tr_rxn = [tr_rxn for tr_rxn in training_rxns if tr_rxn not in matches[0]][0]\n",
    "        leftover_BM_kinetics = [BM_kinetics for BM_kinetics in BM_entries if BM_kinetics not in matched_BM][0]\n",
    "        leftover_BM_reaction = Reaction(reactants=leftover_tr_rxn.reactants, products=leftover_tr_rxn.products, kinetics = leftover_BM_kinetics)\n",
    "        #print(leftover_BM_reaction.kinetics.A, leftover_tr_rxn.kinetics.A)\n",
    "        matches.append((leftover_BM_reaction, leftover_tr_rxn))\n",
    "\n",
    "#     for (BM, tr) in matches: \n",
    "#         print(str(BM.kinetics.A.value_si), str(tr.kinetics.A.value_si))\n",
    "        \n",
    "    child_node_1_BM_rxn, child_training_rxn_1= matches[0] \n",
    "    child_node_2_BM_rxn, child_training_rxn_2 = matches[1] \n",
    "    \n",
    "    #empty lists for collecting data\n",
    "    parent_node_rate_coefficients_1 = []\n",
    "    parent_node_rate_coefficients_2 = []\n",
    "\n",
    "    child_node_1_rate_coefficients = []\n",
    "    child_node_2_rate_coefficients = []\n",
    "\n",
    "    child_tr_rxn_coeffs_1 = []\n",
    "    child_tr_rxn_coeffs_2 = []\n",
    "    \n",
    "    #let's make the parent BM node\n",
    "    parent_node, _ = family.retrieve_original_entry(parent_label)\n",
    "    BM_parent_rxn = Reaction(kinetics = parent_node.data)\n",
    "\n",
    "    \n",
    "    #get the dHrxns \n",
    "    \n",
    "    dHrxn_1 = child_node_1_BM_rxn.get_enthalpy_of_reaction(298)\n",
    "    dHrxn_2 = child_node_2_BM_rxn.get_enthalpy_of_reaction(298)\n",
    "\n",
    "    \n",
    "    for temp in temperatures: \n",
    "        \n",
    "        #calculate training rxn rate\n",
    "        tr_rate_1 = child_training_rxn_1.kinetics.get_rate_coefficient(temp) #J/mol #loaded in as Arr training rxn from templateRxnMap\n",
    "        tr_rate_2 =child_training_rxn_2.kinetics.get_rate_coefficient(temp) #J/mol #loaded in as Arr training rxn from templateRxnMap\n",
    "\n",
    "        child_tr_rxn_coeffs_1.append(tr_rate_1)\n",
    "        child_tr_rxn_coeffs_2.append(tr_rate_2)\n",
    "        \n",
    "        #calculate BM child rates\n",
    "        BM_child_rate_1 = child_node_1_BM_rxn.kinetics.get_rate_coefficient(temp, dHrxn=dHrxn_1) #loaded in as BM kinetics \n",
    "        BM_child_rate_2 = child_node_2_BM_rxn.kinetics.get_rate_coefficient(temp, dHrxn=dHrxn_2) #loaded in as BM kinetics \n",
    "\n",
    "        child_node_1_rate_coefficients.append(BM_child_rate_1)\n",
    "        child_node_2_rate_coefficients.append(BM_child_rate_2)\n",
    "        \n",
    "        #calculate BM for parent node at both dHrxns for child rxns\n",
    "        BM_parent_node_rate_dH1 = BM_parent_rxn.kinetics.get_rate_coefficient(temp, dHrxn=dHrxn_1)\n",
    "        parent_node_rate_coefficients_1.append(BM_parent_node_rate_dH1)\n",
    "        BM_parent_node_rate_dH2 = BM_parent_rxn.kinetics.get_rate_coefficient(temp, dHrxn=dHrxn_2)\n",
    "        parent_node_rate_coefficients_2.append(BM_parent_node_rate_dH2)\n",
    "        \n",
    "    \n",
    "    #get lnks\n",
    "\n",
    "    parent_node_1 = [np.log(rate) for rate in parent_node_rate_coefficients_1]\n",
    "    parent_node_2 = [np.log(rate) for rate in parent_node_rate_coefficients_2]\n",
    "    child_node_1 = [np.log(rate) for rate in child_node_1_rate_coefficients]  \n",
    "    child_node_2 = [np.log(rate) for rate in child_node_2_rate_coefficients]\n",
    "    child_tr_1 = [np.log(rate) for rate in child_tr_rxn_coeffs_1]\n",
    "    child_tr_2 = [np.log(rate) for rate in child_tr_rxn_coeffs_2]\n",
    "\n",
    "\n",
    "    print(child_node_1_BM_rxn.kinetics.A, child_training_rxn_1.kinetics.A)\n",
    "    #plotting\n",
    "    plt.figure()   \n",
    "    plt.plot(inverse_temps, child_node_1, '-', c= 'r', label = 'child BM rxn 1')\n",
    "    plt.plot(inverse_temps, child_node_2, '-', c= 'g', label = 'child BM rxn 2')\n",
    "    plt.plot(inverse_temps, child_tr_1, 'o', c='r', label='child training rxn 1')\n",
    "    plt.plot(inverse_temps, child_tr_2, 'o', c='g', label='child training rxn 2')\n",
    "    plt.plot(inverse_temps, parent_node_1, ':', c='r', label = 'parent BM fit 1')   \n",
    "    plt.plot(inverse_temps, parent_node_2, ':', c='g', label = 'parent BM fit 2')   \n",
    "\n",
    "\n",
    "    plt.title(parent_label)\n",
    "    plt.xlabel('1000/T')\n",
    "    plt.ylabel('ln(k)')\n",
    "    plt.legend()\n",
    "    plt.show()"
   ]
  },
  {
   "cell_type": "code",
   "execution_count": 30,
   "metadata": {},
   "outputs": [],
   "source": [
    "#n = 4, node with 4 reactions\n",
    "%matplotlib inline\n",
    "temperatures = [ 300., 500.,  600.,  700. , 800.,  900., 1000., 1100., 1200., 1500., 2000.]\n",
    "inverse_temps = [1000/T for T in temperatures]\n",
    "\n",
    "\n",
    "\n",
    "for parent_label, children_labels in parent_to_child_4.items():\n",
    "    \n",
    "    training_rxns = templateRxnMap[parent_label] \n",
    "    for tr_rxn in training_rxns:\n",
    "        print(tr_rxn)\n",
    "    BM_entries = [family.retrieve_original_entry(label)[0].data for label in children_labels]\n",
    "\n",
    "    \n",
    "    matches = []\n",
    "    matched_BM = []\n",
    "    matched_tr = []\n",
    "\n",
    "    for BM_kinetics in BM_entries:\n",
    "        for tr_rxn in training_rxns:\n",
    "            BM_str_of_float = re.search('([1-9]\\.?[0-9][0-9])', str(BM_kinetics.A.value_si)).group(1)\n",
    "            tr_str_of_float = re.search('([1-9]\\.?[0-9][0-9])', str(tr_rxn.kinetics.A.value_si)).group(1)\n",
    "            if BM_str_of_float==tr_str_of_float:\n",
    "                print('yeah')\n",
    "                matches.append((Reaction(reactants=tr_rxn.reactants, products=tr_rxn.products, kinetics = BM_kinetics), tr_rxn))\n",
    "                matched_BM.append(BM_kinetics)\n",
    "                matched_tr.append(tr_rxn)\n",
    "                \n",
    "    if len(matches)==0:\n",
    "        print(\"couldn't find any matches\")\n",
    "        continue\n",
    "        #skipping because the A's are probably very different\n",
    "        \n",
    "    for (BM, tr) in matches:\n",
    "        print(BM.kinetics.A.value_si, tr.kinetics.A.value_si)\n",
    "        \n",
    "#     if 0<len(matches)<len(training_rxns) and len(BM_entries)==len(training_rxns):\n",
    "#         leftover_tr_rxns = [tr_rxn for tr_rxn in training_rxns if tr_rxn not in matched_tr]\n",
    "#         leftover_BM_kinetics = [BM_kinetics for BM_kinetics in BM_entries if BM_kinetics not in matched_BM]\n",
    "#         for leftover_tr_rxn in leftover_tr_rxns:\n",
    "#             for leftover_BM_kinetics in leftover_BM_kinetics_:\n",
    "#                 if re.search('([1-9]\\.?[0-9][0-9])', str(leftover_BM_kinetics)).group(1)==re.search('([1-9]\\.?[0-9][0-9])', str(leftover_tr_rxn.kinetics.A.value_si)).group(1):\n",
    "#                     leftover_BM_reaction = Reaction(reactants=leftover_tr_rxn.reactants, products=leftover_tr_rxn.products, kinetics = leftover_BM_kinetics)\n",
    "#                     print(leftover_BM_reaction.kinetics.A, leftover_tr_rxn.kinetics.A)\n",
    "#                     matches.append((leftover_BM_reaction, leftover_tr_rxn))\n",
    "\n",
    "    if len(BM_entries)!=len(matches):\n",
    "        flag=False\n",
    "    else:\n",
    "        flag=True\n",
    "\n",
    "    child_node_1_BM_rxn, child_training_rxn_1= matches[0] \n",
    "    child_node_2_BM_rxn, child_training_rxn_2 = matches[1] \n",
    "    child_node_3_BM_rxn, child_training_rxn_3= matches[2]\n",
    "    if flag==True: \n",
    "        child_node_4_BM_rxn, child_training_rxn_4 = matches[3] \n",
    "    \n",
    "    #empty lists for collecting data\n",
    "    parent_node_rate_coefficients_1 = []\n",
    "    parent_node_rate_coefficients_2 = []\n",
    "    parent_node_rate_coefficients_3 = []\n",
    "    parent_node_rate_coefficients_4 = []\n",
    "\n",
    "    child_node_1_rate_coefficients = []\n",
    "    child_node_2_rate_coefficients = []\n",
    "    child_node_3_rate_coefficients = []\n",
    "    child_node_4_rate_coefficients = []\n",
    "\n",
    "    child_tr_rxn_coeffs_1 = []\n",
    "    child_tr_rxn_coeffs_2 = []\n",
    "    child_tr_rxn_coeffs_3 = []\n",
    "    child_tr_rxn_coeffs_4 = []\n",
    "    \n",
    "    #let's make the parent BM node\n",
    "    parent_node, _ = family.retrieve_original_entry(parent_label)\n",
    "    BM_parent_rxn = Reaction(kinetics = parent_node.data)\n",
    "\n",
    "    \n",
    "    #get the dHrxns \n",
    "    \n",
    "    dHrxn_1 = child_node_1_BM_rxn.get_enthalpy_of_reaction(298)\n",
    "    dHrxn_2 = child_node_2_BM_rxn.get_enthalpy_of_reaction(298)\n",
    "    dHrxn_3 = child_node_3_BM_rxn.get_enthalpy_of_reaction(298)\n",
    "    if flag==True: \n",
    "        dHrxn_4 = child_node_4_BM_rxn.get_enthalpy_of_reaction(298)\n",
    "\n",
    "    \n",
    "    for temp in temperatures: \n",
    "        \n",
    "        #calculate training rxn rate\n",
    "        tr_rate_1 = child_training_rxn_1.kinetics.get_rate_coefficient(temp) #J/mol #loaded in as Arr training rxn from templateRxnMap\n",
    "        tr_rate_2 =child_training_rxn_2.kinetics.get_rate_coefficient(temp) #J/mol #loaded in as Arr training rxn from templateRxnMap\n",
    "        tr_rate_3 = child_training_rxn_3.kinetics.get_rate_coefficient(temp) #J/mol #loaded in as Arr training rxn from templateRxnMap\n",
    "        if flag==True: \n",
    "            tr_rate_4 =child_training_rxn_4.kinetics.get_rate_coefficient(temp) #J/mol #loaded in as Arr training rxn from templateRxnMap\n",
    "\n",
    "        child_tr_rxn_coeffs_1.append(tr_rate_1)\n",
    "        child_tr_rxn_coeffs_2.append(tr_rate_2)\n",
    "        child_tr_rxn_coeffs_3.append(tr_rate_3)\n",
    "        if flag==True:\n",
    "            child_tr_rxn_coeffs_4.append(tr_rate_4)\n",
    "        \n",
    "        #calculate BM child rates\n",
    "        BM_child_rate_1 = child_node_1_BM_rxn.kinetics.get_rate_coefficient(temp, dHrxn=dHrxn_1) #loaded in as BM kinetics \n",
    "        BM_child_rate_2 = child_node_2_BM_rxn.kinetics.get_rate_coefficient(temp, dHrxn=dHrxn_2) #loaded in as BM kinetics \n",
    "        BM_child_rate_3 = child_node_3_BM_rxn.kinetics.get_rate_coefficient(temp, dHrxn=dHrxn_3) #loaded in as BM kinetics \n",
    "        if flag==True:\n",
    "            BM_child_rate_4 = child_node_4_BM_rxn.kinetics.get_rate_coefficient(temp, dHrxn=dHrxn_4) #loaded in as BM kinetics \n",
    "\n",
    "        child_node_1_rate_coefficients.append(BM_child_rate_1)\n",
    "        child_node_2_rate_coefficients.append(BM_child_rate_2)\n",
    "        child_node_3_rate_coefficients.append(BM_child_rate_3)\n",
    "        if flag==True:\n",
    "            child_node_4_rate_coefficients.append(BM_child_rate_4)\n",
    "        \n",
    "        #calculate BM for parent node at both dHrxns for child rxns\n",
    "        BM_parent_node_rate_dH1 = BM_parent_rxn.kinetics.get_rate_coefficient(temp, dHrxn=dHrxn_1)\n",
    "        parent_node_rate_coefficients_1.append(BM_parent_node_rate_dH1)\n",
    "        BM_parent_node_rate_dH2 = BM_parent_rxn.kinetics.get_rate_coefficient(temp, dHrxn=dHrxn_2)\n",
    "        parent_node_rate_coefficients_2.append(BM_parent_node_rate_dH2)\n",
    "        BM_parent_node_rate_dH3 = BM_parent_rxn.kinetics.get_rate_coefficient(temp, dHrxn=dHrxn_3)\n",
    "        parent_node_rate_coefficients_3.append(BM_parent_node_rate_dH3)\n",
    "        if flag==True:\n",
    "            BM_parent_node_rate_dH4 = BM_parent_rxn.kinetics.get_rate_coefficient(temp, dHrxn=dHrxn_4)\n",
    "            parent_node_rate_coefficients_4.append(BM_parent_node_rate_dH4)\n",
    "        \n",
    "    \n",
    "    #get lnks\n",
    "\n",
    "    parent_node_1 = [np.log(rate) for rate in parent_node_rate_coefficients_1]\n",
    "    parent_node_2 = [np.log(rate) for rate in parent_node_rate_coefficients_2]\n",
    "    parent_node_3 = [np.log(rate) for rate in parent_node_rate_coefficients_3]\n",
    "    if flag==True:\n",
    "        parent_node_4 = [np.log(rate) for rate in parent_node_rate_coefficients_4]\n",
    "    \n",
    "    child_node_1 = [np.log(rate) for rate in child_node_1_rate_coefficients]  \n",
    "    child_node_2 = [np.log(rate) for rate in child_node_2_rate_coefficients]\n",
    "    child_node_3 = [np.log(rate) for rate in child_node_3_rate_coefficients]  \n",
    "    if flag==True:\n",
    "        child_node_4 = [np.log(rate) for rate in child_node_4_rate_coefficients]\n",
    "    \n",
    "    child_tr_1 = [np.log(rate) for rate in child_tr_rxn_coeffs_1]\n",
    "    child_tr_2 = [np.log(rate) for rate in child_tr_rxn_coeffs_2]\n",
    "    child_tr_3 = [np.log(rate) for rate in child_tr_rxn_coeffs_3]\n",
    "    if flag==True:\n",
    "        child_tr_4 = [np.log(rate) for rate in child_tr_rxn_coeffs_4]\n",
    "\n",
    "\n",
    "    print(child_node_1_BM_rxn.kinetics.A, child_training_rxn_1.kinetics.A)\n",
    "    #plotting\n",
    "    plt.figure()   \n",
    "    plt.plot(inverse_temps, child_node_1, '-', c= 'r', label = 'child BM rxn 1')\n",
    "    plt.plot(inverse_temps, child_node_2, '-', c= 'g', label = 'child BM rxn 2')\n",
    "    plt.plot(inverse_temps, child_node_3, '-', c= 'violet', label = 'child BM rxn 3')\n",
    "    if flag==True:\n",
    "        plt.plot(inverse_temps, child_node_4, '-', c= 'b', label = 'child BM rxn 4')\n",
    "    \n",
    "    plt.plot(inverse_temps, child_tr_1, 'o', c='r', label='child training rxn 1')\n",
    "    plt.plot(inverse_temps, child_tr_2, 'o', c='g', label='child training rxn 2')\n",
    "    plt.plot(inverse_temps, child_tr_3, 'o', c='violet', label='child training rxn 3')\n",
    "    if flag==True:\n",
    "        plt.plot(inverse_temps, child_tr_4, 'o', c='b', label='child training rxn 4')\n",
    "    \n",
    "    plt.plot(inverse_temps, parent_node_1, ':', c='r', label = 'parent BM fit 1')   \n",
    "    plt.plot(inverse_temps, parent_node_2, ':', c='g', label = 'parent BM fit 2')\n",
    "    plt.plot(inverse_temps, parent_node_3, ':', c='violet', label = 'parent BM fit 3')   \n",
    "    if flag==True:\n",
    "        plt.plot(inverse_temps, parent_node_4, ':', c='b', label = 'parent BM fit 4')\n",
    "\n",
    "\n",
    "    plt.title(parent_label)\n",
    "    plt.xlabel('1000/T')\n",
    "    plt.ylabel('ln(k)')\n",
    "    plt.legend(loc=(1.1,0.8))\n",
    "    plt.show()"
   ]
  }
 ],
 "metadata": {
  "@webio": {
   "lastCommId": null,
   "lastKernelId": null
  },
  "kernelspec": {
   "display_name": "rmg_env",
   "language": "python",
   "name": "python3"
  },
  "language_info": {
   "codemirror_mode": {
    "name": "ipython",
    "version": 3
   },
   "file_extension": ".py",
   "mimetype": "text/x-python",
   "name": "python",
   "nbconvert_exporter": "python",
   "pygments_lexer": "ipython3",
   "version": "3.7.12"
  }
 },
 "nbformat": 4,
 "nbformat_minor": 4
}
